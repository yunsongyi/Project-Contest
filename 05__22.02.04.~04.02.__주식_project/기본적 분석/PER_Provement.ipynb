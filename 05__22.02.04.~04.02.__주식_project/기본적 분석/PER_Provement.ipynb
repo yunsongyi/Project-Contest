{
  "cells": [
    {
      "cell_type": "markdown",
      "metadata": {
        "id": "xwLuiZy27Xrd"
      },
      "source": [
        "# PER"
      ]
    },
    {
      "cell_type": "code",
      "execution_count": null,
      "metadata": {
        "colab": {
          "base_uri": "https://localhost:8080/"
        },
        "id": "wQDfAxRfwKCb",
        "outputId": "d455a7f3-bb6d-4e62-b923-329c3829609d"
      },
      "outputs": [
        {
          "name": "stdout",
          "output_type": "stream",
          "text": [
            "Reading package lists... Done\n",
            "Building dependency tree       \n",
            "Reading state information... Done\n",
            "The following NEW packages will be installed:\n",
            "  fonts-nanum\n",
            "0 upgraded, 1 newly installed, 0 to remove and 39 not upgraded.\n",
            "Need to get 9,604 kB of archives.\n",
            "After this operation, 29.5 MB of additional disk space will be used.\n",
            "Get:1 http://archive.ubuntu.com/ubuntu bionic/universe amd64 fonts-nanum all 20170925-1 [9,604 kB]\n",
            "Fetched 9,604 kB in 2s (5,632 kB/s)\n",
            "debconf: unable to initialize frontend: Dialog\n",
            "debconf: (No usable dialog-like program is installed, so the dialog based frontend cannot be used. at /usr/share/perl5/Debconf/FrontEnd/Dialog.pm line 76, <> line 1.)\n",
            "debconf: falling back to frontend: Readline\n",
            "debconf: unable to initialize frontend: Readline\n",
            "debconf: (This frontend requires a controlling tty.)\n",
            "debconf: falling back to frontend: Teletype\n",
            "dpkg-preconfigure: unable to re-open stdin: \n",
            "Selecting previously unselected package fonts-nanum.\n",
            "(Reading database ... 156210 files and directories currently installed.)\n",
            "Preparing to unpack .../fonts-nanum_20170925-1_all.deb ...\n",
            "Unpacking fonts-nanum (20170925-1) ...\n",
            "Setting up fonts-nanum (20170925-1) ...\n",
            "Processing triggers for fontconfig (2.12.6-0ubuntu2) ...\n",
            "/usr/share/fonts: caching, new cache contents: 0 fonts, 1 dirs\n",
            "/usr/share/fonts/truetype: caching, new cache contents: 0 fonts, 3 dirs\n",
            "/usr/share/fonts/truetype/humor-sans: caching, new cache contents: 1 fonts, 0 dirs\n",
            "/usr/share/fonts/truetype/liberation: caching, new cache contents: 16 fonts, 0 dirs\n",
            "/usr/share/fonts/truetype/nanum: caching, new cache contents: 10 fonts, 0 dirs\n",
            "/usr/local/share/fonts: caching, new cache contents: 0 fonts, 0 dirs\n",
            "/root/.local/share/fonts: skipping, no such directory\n",
            "/root/.fonts: skipping, no such directory\n",
            "/var/cache/fontconfig: cleaning cache directory\n",
            "/root/.cache/fontconfig: not cleaning non-existent cache directory\n",
            "/root/.fontconfig: not cleaning non-existent cache directory\n",
            "fc-cache: succeeded\n"
          ]
        }
      ],
      "source": [
        "!sudo apt-get install -y fonts-nanum\n",
        "!sudo fc-cache -fv\n",
        "!rm ~/.cache/matplotlib -rf"
      ]
    },
    {
      "cell_type": "code",
      "execution_count": null,
      "metadata": {
        "id": "weIXRk7q1Om9"
      },
      "outputs": [],
      "source": [
        "import pandas as pd\n",
        "import numpy as np\n",
        "import matplotlib.pyplot as plt\n",
        "plt.rc('font', family='NanumBarunGothic') "
      ]
    },
    {
      "cell_type": "code",
      "execution_count": null,
      "metadata": {
        "colab": {
          "base_uri": "https://localhost:8080/"
        },
        "id": "7RYFKk8f1Eue",
        "outputId": "f342315e-83a8-4306-fc56-ede62acb9e86"
      },
      "outputs": [
        {
          "output_type": "stream",
          "name": "stdout",
          "text": [
            "Mounted at /gdrive\n"
          ]
        }
      ],
      "source": [
        "from google.colab import drive\n",
        "drive.mount('/gdrive')"
      ]
    },
    {
      "cell_type": "code",
      "execution_count": null,
      "metadata": {
        "colab": {
          "base_uri": "https://localhost:8080/"
        },
        "id": "lrX83WaIyTxC",
        "outputId": "6b3a8ddf-080d-45e3-e92e-18aa917656d3"
      },
      "outputs": [
        {
          "output_type": "stream",
          "name": "stdout",
          "text": [
            "total 614\n",
            "-rw------- 1 root root 57194 Mar 26 10:35 jongmok_upjong_2011.xlsx\n",
            "-rw------- 1 root root 58002 Mar 26 10:29 jongmok_upjong_2012.xlsx\n",
            "-rw------- 1 root root 57383 Mar 26 10:29 jongmok_upjong_2013.xlsx\n",
            "-rw------- 1 root root 57065 Mar 26 10:30 jongmok_upjong_2014.xlsx\n",
            "-rw------- 1 root root 55940 Mar 26 10:31 jongmok_upjong_2015.xlsx\n",
            "-rw------- 1 root root 55725 Mar 26 10:31 jongmok_upjong_2016.xlsx\n",
            "-rw------- 1 root root 55936 Mar 26 10:31 jongmok_upjong_2017.xlsx\n",
            "-rw------- 1 root root 55609 Mar 26 10:31 jongmok_upjong_2018.xlsx\n",
            "-rw------- 1 root root 56859 Mar 26 10:32 jongmok_upjong_2019.xlsx\n",
            "-rw------- 1 root root 57558 Mar 26 10:32 jongmok_upjong_2020.xlsx\n",
            "-rw------- 1 root root 58027 Mar 26 11:51 jongmok_upjong_2021.xlsx\n"
          ]
        }
      ],
      "source": [
        "ls -all ../gdrive/MyDrive/PER_Provement/jongmok_upjong/"
      ]
    },
    {
      "cell_type": "code",
      "execution_count": null,
      "metadata": {
        "id": "ObOeeFeOyT1D"
      },
      "outputs": [],
      "source": [
        "# for문 돌려서 엑셀파일 열기위한 경로 설정\n",
        "import os\n",
        "\n",
        "PATH = '../gdrive/MyDrive/PER_Provement/price_per/'\n",
        "\n",
        "file_list= []\n",
        "for (root, directories, files) in os.walk(PATH):\n",
        "    for file in files:\n",
        "#         print(files)\n",
        "        file_path = os.path.join(root, file)\n",
        "        file_list.append(file_path)"
      ]
    },
    {
      "cell_type": "code",
      "execution_count": null,
      "metadata": {
        "colab": {
          "base_uri": "https://localhost:8080/"
        },
        "id": "LNJaF5WAyT4K",
        "outputId": "b25d0f8f-c452-4132-8dcb-531904ea0ea1"
      },
      "outputs": [
        {
          "output_type": "stream",
          "name": "stderr",
          "text": [
            "/usr/local/lib/python3.7/dist-packages/openpyxl/styles/stylesheet.py:226: UserWarning: Workbook contains no default style, apply openpyxl's default\n",
            "  warn(\"Workbook contains no default style, apply openpyxl's default\")\n"
          ]
        }
      ],
      "source": [
        "for file in file_list:\n",
        "  # print(file[-13:-9])\n",
        "  df = pd.read_excel(file)[['종목코드', '종목명','PER']]\n",
        "  exec(f'per_{file[-13:-9]} =df')"
      ]
    },
    {
      "cell_type": "code",
      "execution_count": null,
      "metadata": {
        "id": "md1voUhA3VJa"
      },
      "outputs": [],
      "source": [
        "# for문 돌려서 엑셀파일 열기위한 경로 설정\n",
        "import os\n",
        "\n",
        "PATH = '../gdrive/MyDrive/PER_Provement/jongmok_upjong/'\n",
        "\n",
        "file_list= []\n",
        "for (root, directories, files) in os.walk(PATH):\n",
        "    for file in files:\n",
        "#         print(files)\n",
        "        file_path = os.path.join(root, file)\n",
        "        file_list.append(file_path)"
      ]
    },
    {
      "cell_type": "code",
      "execution_count": null,
      "metadata": {
        "colab": {
          "base_uri": "https://localhost:8080/"
        },
        "id": "qyyBZr4F5TSe",
        "outputId": "19bbf858-eb4d-4954-81d7-48db55460f59"
      },
      "outputs": [
        {
          "output_type": "stream",
          "name": "stderr",
          "text": [
            "/usr/local/lib/python3.7/dist-packages/openpyxl/styles/stylesheet.py:226: UserWarning: Workbook contains no default style, apply openpyxl's default\n",
            "  warn(\"Workbook contains no default style, apply openpyxl's default\")\n"
          ]
        }
      ],
      "source": [
        "for file in file_list:\n",
        "  # print(file[-9:-5])\n",
        "  df = pd.read_excel(file)[['종목코드', '종목명','업종명','종가']]\n",
        "  exec(f'jongmok_upjong{file[-9:-5]} =df')"
      ]
    },
    {
      "cell_type": "code",
      "execution_count": null,
      "metadata": {
        "id": "8sS6YnCy5Y9J"
      },
      "outputs": [],
      "source": [
        "# for문 돌려서 엑셀파일 열기위한 경로 설정\n",
        "import os\n",
        "\n",
        "PATH = '../gdrive/MyDrive/PER_Provement/upjong/'\n",
        "\n",
        "file_list= []\n",
        "for (root, directories, files) in os.walk(PATH):\n",
        "    for file in files:\n",
        "#         print(files)\n",
        "        file_path = os.path.join(root, file)\n",
        "        file_list.append(file_path)"
      ]
    },
    {
      "cell_type": "code",
      "execution_count": null,
      "metadata": {
        "colab": {
          "base_uri": "https://localhost:8080/"
        },
        "id": "1G1MCflT56wh",
        "outputId": "fb2b3058-fedc-4602-b694-e6f38851bfa4"
      },
      "outputs": [
        {
          "output_type": "stream",
          "name": "stderr",
          "text": [
            "/usr/local/lib/python3.7/dist-packages/openpyxl/styles/stylesheet.py:226: UserWarning: Workbook contains no default style, apply openpyxl's default\n",
            "  warn(\"Workbook contains no default style, apply openpyxl's default\")\n"
          ]
        }
      ],
      "source": [
        "for file in file_list:\n",
        "  # print(file[-19:-15])\n",
        "  df = pd.read_excel(file)[['지수명','PER']]\n",
        "  df = df.rename(columns = {'지수명':'업종명',\n",
        "                       'PER':'업종PER'})\n",
        "  exec(f'upjong{file[-19:-15]} =df')"
      ]
    },
    {
      "cell_type": "code",
      "execution_count": null,
      "metadata": {
        "id": "mGEufaYGKuEX"
      },
      "outputs": [],
      "source": [
        "lower_per_returns = []\n",
        "upper_per_returns = []\n",
        "under5_per_returns = []\n",
        "upper5_per_returns = []\n",
        "under2_per_returns = []\n",
        "upper10_per_returns = []\n",
        "upper50_per_returns= []\n",
        "per_returns_corr = []"
      ]
    },
    {
      "cell_type": "markdown",
      "metadata": {
        "id": "5qIE1SjWKC-s"
      },
      "source": [
        "## 2011"
      ]
    },
    {
      "cell_type": "code",
      "execution_count": null,
      "metadata": {
        "id": "-AJpPHQw9ySw"
      },
      "outputs": [],
      "source": [
        "join_t1 = pd.merge(per_2011,jongmok_upjong2011,how='left',on='종목코드')[['종목코드','종목명_x','업종명','PER','종가']]\n",
        "join_t1.columns = ['종목코드','종목명','업종명','PER','종가']\n",
        "join_t2 = pd.merge(join_t1,upjong2011,how='left',on='업종명')"
      ]
    },
    {
      "cell_type": "code",
      "execution_count": null,
      "metadata": {
        "id": "9-H6G93n6Zn1"
      },
      "outputs": [],
      "source": [
        "join_t2['PER'] = join_t2['PER'].apply(lambda x : '0' if x=='-' else x)\n",
        "join_t2['PER'] = join_t2['PER'].astype(float)"
      ]
    },
    {
      "cell_type": "code",
      "execution_count": null,
      "metadata": {
        "id": "OUvP3mfY-oWf"
      },
      "outputs": [],
      "source": [
        "join_t2['업종PER'] = join_t2['업종PER'].apply(lambda x : '0' if x =='-' else x)\n",
        "join_t2['업종PER'] = join_t2['업종PER'].astype(float)"
      ]
    },
    {
      "cell_type": "code",
      "execution_count": null,
      "metadata": {
        "id": "gdQzwJxvAQKu"
      },
      "outputs": [],
      "source": [
        "join_t2 = join_t2.loc[~((join_t2['업종PER']==0) | (join_t2['PER']==0))] # PER이나 업종PER이 0인 종목을 제외한 종목(872종목에서 >>540종목)"
      ]
    },
    {
      "cell_type": "code",
      "execution_count": null,
      "metadata": {
        "colab": {
          "base_uri": "https://localhost:8080/"
        },
        "id": "a8P5yXARAdUA",
        "outputId": "8986fac3-6aa5-4389-b36d-b0a377b69e77"
      },
      "outputs": [
        {
          "name": "stdout",
          "output_type": "stream",
          "text": [
            "-9.93640617697738\n"
          ]
        }
      ],
      "source": [
        "lower_upjong = join_t2.loc[join_t2['PER'] <join_t2['업종PER']] # 업종per보다 낮은 per주식\n",
        "comp1112 = pd.merge(lower_upjong, jongmok_upjong2012, how='left',on = '종목코드')[['종목코드', '종목명_x', '업종명_x', 'PER', '종가_x', '업종PER','종가_y']]\n",
        "comp1112.columns = ['종목코드', '종목명', '업종명', 'PER', '종가', '업종PER','다음년도종가']\n",
        "comp1112['증가율'] = ((comp1112['다음년도종가']-comp1112['종가'])/comp1112['종가'])*100\n",
        "lower_per_returns.append(comp1112['증가율'].sum()/len(comp1112))\n",
        "print(comp1112['증가율'].sum()/len(comp1112)) # 평균 기대수익률"
      ]
    },
    {
      "cell_type": "code",
      "execution_count": null,
      "metadata": {
        "colab": {
          "base_uri": "https://localhost:8080/"
        },
        "id": "r_WGkIUJCTwz",
        "outputId": "d1793b17-3f5e-4a78-9e59-1e79fe658f58"
      },
      "outputs": [
        {
          "name": "stdout",
          "output_type": "stream",
          "text": [
            "-8.896342623052472\n"
          ]
        }
      ],
      "source": [
        "over_upjong = join_t2.loc[join_t2['PER'] >join_t2['업종PER']] # 업종per보다 높은 per주식\n",
        "comp1112 = pd.merge(over_upjong, jongmok_upjong2012, how='left',on = '종목코드')[['종목코드', '종목명_x', '업종명_x', 'PER', '종가_x', '업종PER','종가_y']]\n",
        "comp1112.columns = ['종목코드', '종목명', '업종명', 'PER', '종가', '업종PER','다음년도종가']\n",
        "comp1112['증가율'] = ((comp1112['다음년도종가']-comp1112['종가'])/comp1112['종가'])*100\n",
        "upper_per_returns.append(comp1112['증가율'].sum()/len(comp1112))\n",
        "print(comp1112['증가율'].sum()/len(comp1112)) # 평균 기대수익률"
      ]
    },
    {
      "cell_type": "code",
      "execution_count": null,
      "metadata": {
        "colab": {
          "base_uri": "https://localhost:8080/"
        },
        "id": "kRSavGsWUdOU",
        "outputId": "1cb6683d-3dbb-4d91-ba57-3889c9301b48"
      },
      "outputs": [
        {
          "name": "stdout",
          "output_type": "stream",
          "text": [
            "-8.662656246209274\n"
          ]
        }
      ],
      "source": [
        "under5_upjong = join_t2.loc[join_t2['PER'] <5] # per이 5보다 낮은 주식\n",
        "comp1112 = pd.merge(under5_upjong, jongmok_upjong2012, how='left',on = '종목코드')[['종목코드', '종목명_x', '업종명_x', 'PER', '종가_x', '업종PER','종가_y']]\n",
        "comp1112.columns = ['종목코드', '종목명', '업종명', 'PER', '종가', '업종PER','다음년도종가']\n",
        "comp1112['증가율'] = ((comp1112['다음년도종가']-comp1112['종가'])/comp1112['종가'])*100\n",
        "under5_per_returns.append(comp1112['증가율'].sum()/len(comp1112))\n",
        "print(comp1112['증가율'].sum()/len(comp1112)) # 평균 기대수익률"
      ]
    },
    {
      "cell_type": "code",
      "execution_count": null,
      "metadata": {
        "colab": {
          "base_uri": "https://localhost:8080/"
        },
        "id": "V3B7gnNQUq-k",
        "outputId": "c4f889a8-2bfb-4e19-cf8f-3fbe271a2d46"
      },
      "outputs": [
        {
          "name": "stdout",
          "output_type": "stream",
          "text": [
            "-9.445219590824411\n"
          ]
        }
      ],
      "source": [
        "upper5_upjong = join_t2.loc[join_t2['PER'] >5] # per이 5보다 높은 주식\n",
        "comp1112 = pd.merge(upper5_upjong, jongmok_upjong2012, how='left',on = '종목코드')[['종목코드', '종목명_x', '업종명_x', 'PER', '종가_x', '업종PER','종가_y']]\n",
        "comp1112.columns = ['종목코드', '종목명', '업종명', 'PER', '종가', '업종PER','다음년도종가']\n",
        "comp1112['증가율'] = ((comp1112['다음년도종가']-comp1112['종가'])/comp1112['종가'])*100\n",
        "upper5_per_returns.append(comp1112['증가율'].sum()/len(comp1112))\n",
        "print(comp1112['증가율'].sum()/len(comp1112)) # 평균 기대수익률"
      ]
    },
    {
      "cell_type": "code",
      "execution_count": null,
      "metadata": {
        "colab": {
          "base_uri": "https://localhost:8080/"
        },
        "id": "A6zmuZ1q178k",
        "outputId": "000ea604-1804-4675-eaf0-d6275c63b3ca"
      },
      "outputs": [
        {
          "name": "stdout",
          "output_type": "stream",
          "text": [
            "-21.68327961566329\n"
          ]
        }
      ],
      "source": [
        "under2_per = join_t2.loc[join_t2['PER'] <2] # per이 2보다 낮은 주식\n",
        "comp1112 = pd.merge(under2_per, jongmok_upjong2012, how='left',on = '종목코드')[['종목코드', '종목명_x', '업종명_x', 'PER', '종가_x', '업종PER','종가_y']]\n",
        "comp1112.columns = ['종목코드', '종목명', '업종명', 'PER', '종가', '업종PER','다음년도종가']\n",
        "comp1112['증가율'] = ((comp1112['다음년도종가']-comp1112['종가'])/comp1112['종가'])*100\n",
        "under2_per_returns.append(comp1112['증가율'].sum()/len(comp1112))\n",
        "print(comp1112['증가율'].sum()/len(comp1112)) # 평균 기대수익률"
      ]
    },
    {
      "cell_type": "code",
      "execution_count": null,
      "metadata": {
        "colab": {
          "base_uri": "https://localhost:8080/"
        },
        "id": "egf47tm62trw",
        "outputId": "52c56b4e-992d-4ea7-ddb7-d56f7b328a11"
      },
      "outputs": [
        {
          "name": "stdout",
          "output_type": "stream",
          "text": [
            "-9.894985843049584\n"
          ]
        }
      ],
      "source": [
        "upper10_per = join_t2.loc[join_t2['PER'] > 10] # per이 10보다 높은 주식\n",
        "comp1112 = pd.merge(upper10_per, jongmok_upjong2012, how='left',on = '종목코드')[['종목코드', '종목명_x', '업종명_x', 'PER', '종가_x', '업종PER','종가_y']]\n",
        "comp1112.columns = ['종목코드', '종목명', '업종명', 'PER', '종가', '업종PER','다음년도종가']\n",
        "comp1112['증가율'] = ((comp1112['다음년도종가']-comp1112['종가'])/comp1112['종가'])*100\n",
        "upper10_per_returns.append(comp1112['증가율'].sum()/len(comp1112))\n",
        "print(comp1112['증가율'].sum()/len(comp1112)) # 평균 기대수익률"
      ]
    },
    {
      "cell_type": "code",
      "execution_count": null,
      "metadata": {
        "colab": {
          "base_uri": "https://localhost:8080/"
        },
        "id": "cpOxDRQQ3YhI",
        "outputId": "bdfd7d07-a4d1-4b3b-8f00-f2c7dceebe70"
      },
      "outputs": [
        {
          "name": "stdout",
          "output_type": "stream",
          "text": [
            "-10.098507137310216\n"
          ]
        }
      ],
      "source": [
        "upper50_per = join_t2.loc[join_t2['PER'] > 50] # per이 50보다 높은 주식\n",
        "comp1112 = pd.merge(upper50_per, jongmok_upjong2012, how='left',on = '종목코드')[['종목코드', '종목명_x', '업종명_x', 'PER', '종가_x', '업종PER','종가_y']]\n",
        "comp1112.columns = ['종목코드', '종목명', '업종명', 'PER', '종가', '업종PER','다음년도종가']\n",
        "comp1112['증가율'] = ((comp1112['다음년도종가']-comp1112['종가'])/comp1112['종가'])*100\n",
        "upper50_per_returns.append(comp1112['증가율'].sum()/len(comp1112))\n",
        "print(comp1112['증가율'].sum()/len(comp1112)) # 평균 기대수익률"
      ]
    },
    {
      "cell_type": "code",
      "execution_count": null,
      "metadata": {
        "id": "UOQSVN77oC-k"
      },
      "outputs": [],
      "source": [
        "a = pd.merge(join_t2.sort_values('PER'), jongmok_upjong2012, how='left', on = '종목코드')[['종목코드', '종목명_x', '업종명_x', 'PER', '업종PER','종가_x','종가_y']]\n",
        "a.columns = ['종목코드', '종목명', '업종명', 'PER', '업종PER','종가','다음해종가']\n",
        "a['증가율'] = ((a['다음해종가']-a['종가'])/a['종가'])*100\n",
        "a = a.loc[~a['다음해종가'].isnull()]\n",
        "per_returns_corr_score = a.corr()['증가율'].to_frame()\n",
        "per_returns_corr.append(per_returns_corr_score.loc[(per_returns_corr_score.index=='PER')]['증가율'].values)"
      ]
    },
    {
      "cell_type": "code",
      "execution_count": null,
      "metadata": {
        "id": "MknLu5QTKT7x"
      },
      "outputs": [],
      "source": [
        "per_return_corr = a.sort_values('PER')[['PER','증가율']]\n",
        "per_return_corr.to_excel('per_return_corr_2011.xlsx')"
      ]
    },
    {
      "cell_type": "markdown",
      "metadata": {
        "id": "H6deeujtKM0H"
      },
      "source": [
        "## 2012"
      ]
    },
    {
      "cell_type": "code",
      "execution_count": null,
      "metadata": {
        "id": "mVJY4GcnKM0H"
      },
      "outputs": [],
      "source": [
        "join_t1 = pd.merge(per_2012,jongmok_upjong2012,how='left',on='종목코드')[['종목코드','종목명_x','업종명','PER','종가']]\n",
        "join_t1.columns = ['종목코드','종목명','업종명','PER','종가']\n",
        "join_t2 = pd.merge(join_t1,upjong2012,how='left',on='업종명')"
      ]
    },
    {
      "cell_type": "code",
      "execution_count": null,
      "metadata": {
        "id": "VkmeekXAKM0H"
      },
      "outputs": [],
      "source": [
        "join_t2['PER'] = join_t2['PER'].apply(lambda x : '0' if x=='-' else x)\n",
        "join_t2['PER'] = join_t2['PER'].astype(float)"
      ]
    },
    {
      "cell_type": "code",
      "execution_count": null,
      "metadata": {
        "id": "MnI7IeOSKM0H"
      },
      "outputs": [],
      "source": [
        "join_t2['업종PER'] = join_t2['업종PER'].apply(lambda x : '0' if x =='-' else x)\n",
        "join_t2['업종PER'] = join_t2['업종PER'].astype(float)"
      ]
    },
    {
      "cell_type": "code",
      "execution_count": null,
      "metadata": {
        "id": "fDmEy4ipKM0H"
      },
      "outputs": [],
      "source": [
        "join_t2 = join_t2.loc[~((join_t2['업종PER']==0) | (join_t2['PER']==0))] # PER이나 업종PER이 0인 종목을 제외한 종목"
      ]
    },
    {
      "cell_type": "code",
      "execution_count": null,
      "metadata": {
        "colab": {
          "base_uri": "https://localhost:8080/"
        },
        "id": "DnT6X9y7KM0H",
        "outputId": "6ded86fb-e036-4a5f-d7f4-5e9ceb7fcc8a"
      },
      "outputs": [
        {
          "name": "stdout",
          "output_type": "stream",
          "text": [
            "11.540480869645632\n"
          ]
        }
      ],
      "source": [
        "lower_upjong = join_t2.loc[join_t2['PER'] <join_t2['업종PER']] # 업종per보다 낮은 per주식\n",
        "comp1112 = pd.merge(lower_upjong, jongmok_upjong2013, how='left',on = '종목코드')[['종목코드', '종목명_x', '업종명_x', 'PER', '종가_x', '업종PER','종가_y']]\n",
        "comp1112.columns = ['종목코드', '종목명', '업종명', 'PER', '종가', '업종PER','다음년도종가']\n",
        "comp1112['증가율'] = ((comp1112['다음년도종가']-comp1112['종가'])/comp1112['종가'])*100\n",
        "lower_per_returns.append(comp1112['증가율'].sum()/len(comp1112))\n",
        "print(comp1112['증가율'].sum()/len(comp1112)) # 평균 기대수익률"
      ]
    },
    {
      "cell_type": "code",
      "execution_count": null,
      "metadata": {
        "colab": {
          "base_uri": "https://localhost:8080/"
        },
        "id": "T_qNnyXaKM0I",
        "outputId": "b275e445-4f1f-4844-919f-48defe4e1fda"
      },
      "outputs": [
        {
          "name": "stdout",
          "output_type": "stream",
          "text": [
            "11.874874336251366\n"
          ]
        }
      ],
      "source": [
        "over_upjong = join_t2.loc[join_t2['PER'] >join_t2['업종PER']] # 업종per보다 높은 per주식\n",
        "comp1112 = pd.merge(over_upjong, jongmok_upjong2013, how='left',on = '종목코드')[['종목코드', '종목명_x', '업종명_x', 'PER', '종가_x', '업종PER','종가_y']]\n",
        "comp1112.columns = ['종목코드', '종목명', '업종명', 'PER', '종가', '업종PER','다음년도종가']\n",
        "comp1112['증가율'] = ((comp1112['다음년도종가']-comp1112['종가'])/comp1112['종가'])*100\n",
        "upper_per_returns.append(comp1112['증가율'].sum()/len(comp1112))\n",
        "print(comp1112['증가율'].sum()/len(comp1112)) # 평균 기대수익률"
      ]
    },
    {
      "cell_type": "code",
      "execution_count": null,
      "metadata": {
        "colab": {
          "base_uri": "https://localhost:8080/"
        },
        "id": "QnTcA5ZbTGde",
        "outputId": "3e2d92bb-5163-4735-a3f0-dda2ae408bb3"
      },
      "outputs": [
        {
          "name": "stdout",
          "output_type": "stream",
          "text": [
            "6.984259260399292\n"
          ]
        }
      ],
      "source": [
        "under5_upjong = join_t2.loc[join_t2['PER'] <5] # per이 5보다 낮은 주식\n",
        "comp1112 = pd.merge(under5_upjong, jongmok_upjong2013, how='left',on = '종목코드')[['종목코드', '종목명_x', '업종명_x', 'PER', '종가_x', '업종PER','종가_y']]\n",
        "comp1112.columns = ['종목코드', '종목명', '업종명', 'PER', '종가', '업종PER','다음년도종가']\n",
        "comp1112['증가율'] = ((comp1112['다음년도종가']-comp1112['종가'])/comp1112['종가'])*100\n",
        "under5_per_returns.append(comp1112['증가율'].sum()/len(comp1112))\n",
        "print(comp1112['증가율'].sum()/len(comp1112)) # 평균 기대수익률"
      ]
    },
    {
      "cell_type": "code",
      "execution_count": null,
      "metadata": {
        "colab": {
          "base_uri": "https://localhost:8080/"
        },
        "id": "-PqGjbHBVUnz",
        "outputId": "2c2cb4fa-6a7b-49c8-cb69-59d1361d4213"
      },
      "outputs": [
        {
          "name": "stdout",
          "output_type": "stream",
          "text": [
            "12.383764949117719\n"
          ]
        }
      ],
      "source": [
        "upper5_upjong = join_t2.loc[join_t2['PER'] >5] # per이 5보다 높 주식\n",
        "comp1112 = pd.merge(upper5_upjong, jongmok_upjong2013, how='left',on = '종목코드')[['종목코드', '종목명_x', '업종명_x', 'PER', '종가_x', '업종PER','종가_y']]\n",
        "comp1112.columns = ['종목코드', '종목명', '업종명', 'PER', '종가', '업종PER','다음년도종가']\n",
        "comp1112['증가율'] = ((comp1112['다음년도종가']-comp1112['종가'])/comp1112['종가'])*100\n",
        "upper5_per_returns.append(comp1112['증가율'].sum()/len(comp1112))\n",
        "print(comp1112['증가율'].sum()/len(comp1112)) # 평균 기대수익률"
      ]
    },
    {
      "cell_type": "code",
      "execution_count": null,
      "metadata": {
        "colab": {
          "base_uri": "https://localhost:8080/"
        },
        "id": "Ab0Iy2fu4iAy",
        "outputId": "52019d0f-f16b-472a-eb4c-cefb6ceef807"
      },
      "outputs": [
        {
          "name": "stdout",
          "output_type": "stream",
          "text": [
            "-20.391073352394812\n"
          ]
        }
      ],
      "source": [
        "under2_per = join_t2.loc[join_t2['PER'] <2] # per이 2보다 낮은 주식\n",
        "comp1112 = pd.merge(under2_per, jongmok_upjong2013, how='left',on = '종목코드')[['종목코드', '종목명_x', '업종명_x', 'PER', '종가_x', '업종PER','종가_y']]\n",
        "comp1112.columns = ['종목코드', '종목명', '업종명', 'PER', '종가', '업종PER','다음년도종가']\n",
        "comp1112['증가율'] = ((comp1112['다음년도종가']-comp1112['종가'])/comp1112['종가'])*100\n",
        "under2_per_returns.append(comp1112['증가율'].sum()/len(comp1112))\n",
        "print(comp1112['증가율'].sum()/len(comp1112)) # 평균 기대수익률"
      ]
    },
    {
      "cell_type": "code",
      "execution_count": null,
      "metadata": {
        "colab": {
          "base_uri": "https://localhost:8080/"
        },
        "id": "lJOgbeFj4jur",
        "outputId": "ced94e69-51e2-4956-f789-af8c1b249341"
      },
      "outputs": [
        {
          "name": "stdout",
          "output_type": "stream",
          "text": [
            "12.269200007513922\n"
          ]
        }
      ],
      "source": [
        "upper10_per = join_t2.loc[join_t2['PER'] > 10] # per이 10보다 높은 주식\n",
        "comp1112 = pd.merge(upper10_per, jongmok_upjong2013, how='left',on = '종목코드')[['종목코드', '종목명_x', '업종명_x', 'PER', '종가_x', '업종PER','종가_y']]\n",
        "comp1112.columns = ['종목코드', '종목명', '업종명', 'PER', '종가', '업종PER','다음년도종가']\n",
        "comp1112['증가율'] = ((comp1112['다음년도종가']-comp1112['종가'])/comp1112['종가'])*100\n",
        "upper10_per_returns.append(comp1112['증가율'].sum()/len(comp1112))\n",
        "print(comp1112['증가율'].sum()/len(comp1112)) # 평균 기대수익률"
      ]
    },
    {
      "cell_type": "code",
      "execution_count": null,
      "metadata": {
        "colab": {
          "base_uri": "https://localhost:8080/"
        },
        "id": "uuTS88bR4lMl",
        "outputId": "a3798c34-d87a-49b7-b83c-543c3156a7d7"
      },
      "outputs": [
        {
          "name": "stdout",
          "output_type": "stream",
          "text": [
            "1.5088667850308122\n"
          ]
        }
      ],
      "source": [
        "upper50_per = join_t2.loc[join_t2['PER'] > 50] # per이 50보다 높은 주식\n",
        "comp1112 = pd.merge(upper50_per, jongmok_upjong2013, how='left',on = '종목코드')[['종목코드', '종목명_x', '업종명_x', 'PER', '종가_x', '업종PER','종가_y']]\n",
        "comp1112.columns = ['종목코드', '종목명', '업종명', 'PER', '종가', '업종PER','다음년도종가']\n",
        "comp1112['증가율'] = ((comp1112['다음년도종가']-comp1112['종가'])/comp1112['종가'])*100\n",
        "upper50_per_returns.append(comp1112['증가율'].sum()/len(comp1112))\n",
        "print(comp1112['증가율'].sum()/len(comp1112)) # 평균 기대수익률"
      ]
    },
    {
      "cell_type": "code",
      "execution_count": null,
      "metadata": {
        "colab": {
          "base_uri": "https://localhost:8080/",
          "height": 206
        },
        "id": "ozqJXwButVS8",
        "outputId": "bf226b72-5948-41ad-9654-c12f07c2adcb"
      },
      "outputs": [
        {
          "data": {
            "text/html": [
              "\n",
              "  <div id=\"df-ff8b801a-b319-45cb-b560-b64eea28484c\">\n",
              "    <div class=\"colab-df-container\">\n",
              "      <div>\n",
              "<style scoped>\n",
              "    .dataframe tbody tr th:only-of-type {\n",
              "        vertical-align: middle;\n",
              "    }\n",
              "\n",
              "    .dataframe tbody tr th {\n",
              "        vertical-align: top;\n",
              "    }\n",
              "\n",
              "    .dataframe thead th {\n",
              "        text-align: right;\n",
              "    }\n",
              "</style>\n",
              "<table border=\"1\" class=\"dataframe\">\n",
              "  <thead>\n",
              "    <tr style=\"text-align: right;\">\n",
              "      <th></th>\n",
              "      <th>증가율</th>\n",
              "    </tr>\n",
              "  </thead>\n",
              "  <tbody>\n",
              "    <tr>\n",
              "      <th>PER</th>\n",
              "      <td>-0.022766</td>\n",
              "    </tr>\n",
              "    <tr>\n",
              "      <th>업종PER</th>\n",
              "      <td>0.074754</td>\n",
              "    </tr>\n",
              "    <tr>\n",
              "      <th>종가</th>\n",
              "      <td>-0.009822</td>\n",
              "    </tr>\n",
              "    <tr>\n",
              "      <th>다음해종가</th>\n",
              "      <td>0.048244</td>\n",
              "    </tr>\n",
              "    <tr>\n",
              "      <th>증가율</th>\n",
              "      <td>1.000000</td>\n",
              "    </tr>\n",
              "  </tbody>\n",
              "</table>\n",
              "</div>\n",
              "      <button class=\"colab-df-convert\" onclick=\"convertToInteractive('df-ff8b801a-b319-45cb-b560-b64eea28484c')\"\n",
              "              title=\"Convert this dataframe to an interactive table.\"\n",
              "              style=\"display:none;\">\n",
              "        \n",
              "  <svg xmlns=\"http://www.w3.org/2000/svg\" height=\"24px\"viewBox=\"0 0 24 24\"\n",
              "       width=\"24px\">\n",
              "    <path d=\"M0 0h24v24H0V0z\" fill=\"none\"/>\n",
              "    <path d=\"M18.56 5.44l.94 2.06.94-2.06 2.06-.94-2.06-.94-.94-2.06-.94 2.06-2.06.94zm-11 1L8.5 8.5l.94-2.06 2.06-.94-2.06-.94L8.5 2.5l-.94 2.06-2.06.94zm10 10l.94 2.06.94-2.06 2.06-.94-2.06-.94-.94-2.06-.94 2.06-2.06.94z\"/><path d=\"M17.41 7.96l-1.37-1.37c-.4-.4-.92-.59-1.43-.59-.52 0-1.04.2-1.43.59L10.3 9.45l-7.72 7.72c-.78.78-.78 2.05 0 2.83L4 21.41c.39.39.9.59 1.41.59.51 0 1.02-.2 1.41-.59l7.78-7.78 2.81-2.81c.8-.78.8-2.07 0-2.86zM5.41 20L4 18.59l7.72-7.72 1.47 1.35L5.41 20z\"/>\n",
              "  </svg>\n",
              "      </button>\n",
              "      \n",
              "  <style>\n",
              "    .colab-df-container {\n",
              "      display:flex;\n",
              "      flex-wrap:wrap;\n",
              "      gap: 12px;\n",
              "    }\n",
              "\n",
              "    .colab-df-convert {\n",
              "      background-color: #E8F0FE;\n",
              "      border: none;\n",
              "      border-radius: 50%;\n",
              "      cursor: pointer;\n",
              "      display: none;\n",
              "      fill: #1967D2;\n",
              "      height: 32px;\n",
              "      padding: 0 0 0 0;\n",
              "      width: 32px;\n",
              "    }\n",
              "\n",
              "    .colab-df-convert:hover {\n",
              "      background-color: #E2EBFA;\n",
              "      box-shadow: 0px 1px 2px rgba(60, 64, 67, 0.3), 0px 1px 3px 1px rgba(60, 64, 67, 0.15);\n",
              "      fill: #174EA6;\n",
              "    }\n",
              "\n",
              "    [theme=dark] .colab-df-convert {\n",
              "      background-color: #3B4455;\n",
              "      fill: #D2E3FC;\n",
              "    }\n",
              "\n",
              "    [theme=dark] .colab-df-convert:hover {\n",
              "      background-color: #434B5C;\n",
              "      box-shadow: 0px 1px 3px 1px rgba(0, 0, 0, 0.15);\n",
              "      filter: drop-shadow(0px 1px 2px rgba(0, 0, 0, 0.3));\n",
              "      fill: #FFFFFF;\n",
              "    }\n",
              "  </style>\n",
              "\n",
              "      <script>\n",
              "        const buttonEl =\n",
              "          document.querySelector('#df-ff8b801a-b319-45cb-b560-b64eea28484c button.colab-df-convert');\n",
              "        buttonEl.style.display =\n",
              "          google.colab.kernel.accessAllowed ? 'block' : 'none';\n",
              "\n",
              "        async function convertToInteractive(key) {\n",
              "          const element = document.querySelector('#df-ff8b801a-b319-45cb-b560-b64eea28484c');\n",
              "          const dataTable =\n",
              "            await google.colab.kernel.invokeFunction('convertToInteractive',\n",
              "                                                     [key], {});\n",
              "          if (!dataTable) return;\n",
              "\n",
              "          const docLinkHtml = 'Like what you see? Visit the ' +\n",
              "            '<a target=\"_blank\" href=https://colab.research.google.com/notebooks/data_table.ipynb>data table notebook</a>'\n",
              "            + ' to learn more about interactive tables.';\n",
              "          element.innerHTML = '';\n",
              "          dataTable['output_type'] = 'display_data';\n",
              "          await google.colab.output.renderOutput(dataTable, element);\n",
              "          const docLink = document.createElement('div');\n",
              "          docLink.innerHTML = docLinkHtml;\n",
              "          element.appendChild(docLink);\n",
              "        }\n",
              "      </script>\n",
              "    </div>\n",
              "  </div>\n",
              "  "
            ],
            "text/plain": [
              "            증가율\n",
              "PER   -0.022766\n",
              "업종PER  0.074754\n",
              "종가    -0.009822\n",
              "다음해종가  0.048244\n",
              "증가율    1.000000"
            ]
          },
          "execution_count": 34,
          "metadata": {},
          "output_type": "execute_result"
        }
      ],
      "source": [
        "a = pd.merge(join_t2.sort_values('PER'), jongmok_upjong2013, how='left', on = '종목코드')[['종목코드', '종목명_x', '업종명_x', 'PER', '업종PER','종가_x','종가_y']]\n",
        "a.columns = ['종목코드', '종목명', '업종명', 'PER', '업종PER','종가','다음해종가']\n",
        "a['증가율'] = ((a['다음해종가']-a['종가'])/a['종가'])*100\n",
        "a = a.loc[~a['다음해종가'].isnull()]\n",
        "per_returns_corr_score = a.corr()['증가율'].to_frame()\n",
        "per_returns_corr.append(per_returns_corr_score.loc[(per_returns_corr_score.index=='PER')]['증가율'].values)\n",
        "per_returns_corr_score"
      ]
    },
    {
      "cell_type": "markdown",
      "metadata": {
        "id": "vikHMOWgLZAq"
      },
      "source": [
        "## 2013"
      ]
    },
    {
      "cell_type": "code",
      "execution_count": null,
      "metadata": {
        "id": "VBF_yQUQLZAv"
      },
      "outputs": [],
      "source": [
        "join_t1 = pd.merge(per_2013,jongmok_upjong2013,how='left',on='종목코드')[['종목코드','종목명_x','업종명','PER','종가']]\n",
        "join_t1.columns = ['종목코드','종목명','업종명','PER','종가']\n",
        "join_t2 = pd.merge(join_t1,upjong2013,how='left',on='업종명')"
      ]
    },
    {
      "cell_type": "code",
      "execution_count": null,
      "metadata": {
        "id": "nFKwelFkLZAv"
      },
      "outputs": [],
      "source": [
        "join_t2['PER'] = join_t2['PER'].apply(lambda x : '0' if x=='-' else x)\n",
        "join_t2['PER'] = join_t2['PER'].astype(float)"
      ]
    },
    {
      "cell_type": "code",
      "execution_count": null,
      "metadata": {
        "colab": {
          "base_uri": "https://localhost:8080/"
        },
        "id": "Pa9LRIcoLZAv",
        "outputId": "9ff527c7-a52e-4e62-a671-dd4a4428300e"
      },
      "outputs": [
        {
          "name": "stdout",
          "output_type": "stream",
          "text": [
            "전처리하기전 코스피종목 갯수 : 875\n"
          ]
        }
      ],
      "source": [
        "join_t2['업종PER'] = join_t2['업종PER'].apply(lambda x : '0' if x =='-' else x)\n",
        "join_t2['업종PER'] = join_t2['업종PER'].astype(float)\n",
        "print('전처리하기전 코스피종목 갯수 : {}'.format(len(join_t2)))"
      ]
    },
    {
      "cell_type": "code",
      "execution_count": null,
      "metadata": {
        "colab": {
          "base_uri": "https://localhost:8080/"
        },
        "id": "XXqrWQNXLZAv",
        "outputId": "0e0e597b-0dd6-4faa-8c36-016494f1fb78"
      },
      "outputs": [
        {
          "name": "stdout",
          "output_type": "stream",
          "text": [
            "전처리 후 코스피 종목 갯수 : 478\n"
          ]
        }
      ],
      "source": [
        "join_t2 = join_t2.loc[~((join_t2['업종PER']==0) | (join_t2['PER']==0))] # PER이나 업종PER이 0인 종목을 제외한 종목\n",
        "print('전처리 후 코스피 종목 갯수 : {}'.format(len(join_t2)))"
      ]
    },
    {
      "cell_type": "code",
      "execution_count": null,
      "metadata": {
        "colab": {
          "base_uri": "https://localhost:8080/"
        },
        "id": "6XUXOYIXLZAv",
        "outputId": "2acf66d2-d740-48b6-a36d-e0d6cd8c12e7"
      },
      "outputs": [
        {
          "name": "stdout",
          "output_type": "stream",
          "text": [
            "11.629017714814093\n"
          ]
        }
      ],
      "source": [
        "lower_upjong = join_t2.loc[join_t2['PER'] <join_t2['업종PER']] # 업종per보다 낮은 per주식\n",
        "comp1112 = pd.merge(lower_upjong, jongmok_upjong2014, how='left',on = '종목코드')[['종목코드', '종목명_x', '업종명_x', 'PER', '종가_x', '업종PER','종가_y']]\n",
        "comp1112.columns = ['종목코드', '종목명', '업종명', 'PER', '종가', '업종PER','다음년도종가']\n",
        "comp1112['증가율'] = ((comp1112['다음년도종가']-comp1112['종가'])/comp1112['종가'])*100\n",
        "lower_per_returns.append(comp1112['증가율'].sum()/len(comp1112))\n",
        "print(comp1112['증가율'].sum()/len(comp1112)) # 평균 기대수익률"
      ]
    },
    {
      "cell_type": "code",
      "execution_count": null,
      "metadata": {
        "colab": {
          "base_uri": "https://localhost:8080/"
        },
        "id": "6itSvgmpLZAv",
        "outputId": "7ce7628e-623d-4b62-a22b-b844dcfab2f6"
      },
      "outputs": [
        {
          "name": "stdout",
          "output_type": "stream",
          "text": [
            "9.260826185540646\n"
          ]
        }
      ],
      "source": [
        "over_upjong = join_t2.loc[join_t2['PER'] >join_t2['업종PER']] # 업종per보다 높은 per주식\n",
        "comp1112 = pd.merge(over_upjong, jongmok_upjong2014, how='left',on = '종목코드')[['종목코드', '종목명_x', '업종명_x', 'PER', '종가_x', '업종PER','종가_y']]\n",
        "comp1112.columns = ['종목코드', '종목명', '업종명', 'PER', '종가', '업종PER','다음년도종가']\n",
        "comp1112['증가율'] = ((comp1112['다음년도종가']-comp1112['종가'])/comp1112['종가'])*100\n",
        "upper_per_returns.append(comp1112['증가율'].sum()/len(comp1112))\n",
        "print(comp1112['증가율'].sum()/len(comp1112)) # 평균 기대수익률"
      ]
    },
    {
      "cell_type": "code",
      "execution_count": null,
      "metadata": {
        "colab": {
          "base_uri": "https://localhost:8080/"
        },
        "id": "UJfmoJ9GViHS",
        "outputId": "99b84a1d-c1a1-4b46-b1cd-d49c2955fb45"
      },
      "outputs": [
        {
          "name": "stdout",
          "output_type": "stream",
          "text": [
            "11.603223708993731\n"
          ]
        }
      ],
      "source": [
        "under5_upjong = join_t2.loc[join_t2['PER'] <5] # per이 5보다 낮은 주식\n",
        "comp1112 = pd.merge(under5_upjong, jongmok_upjong2014, how='left',on = '종목코드')[['종목코드', '종목명_x', '업종명_x', 'PER', '종가_x', '업종PER','종가_y']]\n",
        "comp1112.columns = ['종목코드', '종목명', '업종명', 'PER', '종가', '업종PER','다음년도종가']\n",
        "comp1112['증가율'] = ((comp1112['다음년도종가']-comp1112['종가'])/comp1112['종가'])*100\n",
        "under5_per_returns.append(comp1112['증가율'].sum()/len(comp1112))\n",
        "print(comp1112['증가율'].sum()/len(comp1112)) # 평균 기대수익률"
      ]
    },
    {
      "cell_type": "code",
      "execution_count": null,
      "metadata": {
        "colab": {
          "base_uri": "https://localhost:8080/"
        },
        "id": "_4w-iVgCLZAv",
        "outputId": "c21582c7-b2ef-40fa-d9af-dd48cedf0528"
      },
      "outputs": [
        {
          "name": "stdout",
          "output_type": "stream",
          "text": [
            "11.13692364098494\n"
          ]
        }
      ],
      "source": [
        "upper5_upjong = join_t2.loc[join_t2['PER'] >5] # per이 5보다 높은 주식\n",
        "comp1112 = pd.merge(upper5_upjong, jongmok_upjong2014, how='left',on = '종목코드')[['종목코드', '종목명_x', '업종명_x', 'PER', '종가_x', '업종PER','종가_y']]\n",
        "comp1112.columns = ['종목코드', '종목명', '업종명', 'PER', '종가', '업종PER','다음년도종가']\n",
        "comp1112['증가율'] = ((comp1112['다음년도종가']-comp1112['종가'])/comp1112['종가'])*100\n",
        "upper5_per_returns.append(comp1112['증가율'].sum()/len(comp1112))\n",
        "print(comp1112['증가율'].sum()/len(comp1112)) # 평균 기대수익률"
      ]
    },
    {
      "cell_type": "code",
      "execution_count": null,
      "metadata": {
        "colab": {
          "base_uri": "https://localhost:8080/"
        },
        "id": "E6lrVQ-Y5OYr",
        "outputId": "4fb489ee-cdec-4ba0-9b3e-7e049d66ed07"
      },
      "outputs": [
        {
          "name": "stdout",
          "output_type": "stream",
          "text": [
            "31.476421225880774\n"
          ]
        }
      ],
      "source": [
        "under2_per = join_t2.loc[join_t2['PER'] <2] # per이 2보다 낮은 주식\n",
        "comp1112 = pd.merge(under2_per, jongmok_upjong2014, how='left',on = '종목코드')[['종목코드', '종목명_x', '업종명_x', 'PER', '종가_x', '업종PER','종가_y']]\n",
        "comp1112.columns = ['종목코드', '종목명', '업종명', 'PER', '종가', '업종PER','다음년도종가']\n",
        "comp1112['증가율'] = ((comp1112['다음년도종가']-comp1112['종가'])/comp1112['종가'])*100\n",
        "under2_per_returns.append(comp1112['증가율'].sum()/len(comp1112))\n",
        "print(comp1112['증가율'].sum()/len(comp1112)) # 평균 기대수익률"
      ]
    },
    {
      "cell_type": "code",
      "execution_count": null,
      "metadata": {
        "colab": {
          "base_uri": "https://localhost:8080/"
        },
        "id": "U8G9wEk55QMo",
        "outputId": "7a886352-0403-4d7f-cff6-d65359ac253f"
      },
      "outputs": [
        {
          "name": "stdout",
          "output_type": "stream",
          "text": [
            "9.23919314953821\n"
          ]
        }
      ],
      "source": [
        "upper10_per = join_t2.loc[join_t2['PER'] > 10] # per이 10보다 높은 주식\n",
        "comp1112 = pd.merge(upper10_per, jongmok_upjong2014, how='left',on = '종목코드')[['종목코드', '종목명_x', '업종명_x', 'PER', '종가_x', '업종PER','종가_y']]\n",
        "comp1112.columns = ['종목코드', '종목명', '업종명', 'PER', '종가', '업종PER','다음년도종가']\n",
        "comp1112['증가율'] = ((comp1112['다음년도종가']-comp1112['종가'])/comp1112['종가'])*100\n",
        "upper10_per_returns.append(comp1112['증가율'].sum()/len(comp1112))\n",
        "print(comp1112['증가율'].sum()/len(comp1112)) # 평균 기대수익률"
      ]
    },
    {
      "cell_type": "code",
      "execution_count": null,
      "metadata": {
        "colab": {
          "base_uri": "https://localhost:8080/"
        },
        "id": "g9M-tGs15R0u",
        "outputId": "60e6a1ec-e8ba-47bc-9c39-9136389e7e6f"
      },
      "outputs": [
        {
          "name": "stdout",
          "output_type": "stream",
          "text": [
            "-8.728727021062106\n"
          ]
        }
      ],
      "source": [
        "upper50_per = join_t2.loc[join_t2['PER'] > 50] # per이 50보다 높은 주식\n",
        "comp1112 = pd.merge(upper50_per, jongmok_upjong2014, how='left',on = '종목코드')[['종목코드', '종목명_x', '업종명_x', 'PER', '종가_x', '업종PER','종가_y']]\n",
        "comp1112.columns = ['종목코드', '종목명', '업종명', 'PER', '종가', '업종PER','다음년도종가']\n",
        "comp1112['증가율'] = ((comp1112['다음년도종가']-comp1112['종가'])/comp1112['종가'])*100\n",
        "upper50_per_returns.append(comp1112['증가율'].sum()/len(comp1112))\n",
        "print(comp1112['증가율'].sum()/len(comp1112)) # 평균 기대수익률"
      ]
    },
    {
      "cell_type": "code",
      "execution_count": null,
      "metadata": {
        "colab": {
          "base_uri": "https://localhost:8080/",
          "height": 206
        },
        "id": "-_N5w_Jut5MW",
        "outputId": "a59f05c4-bfc2-475b-df1d-9a319953ed11"
      },
      "outputs": [
        {
          "data": {
            "text/html": [
              "\n",
              "  <div id=\"df-b45bcc47-2acb-4bb2-884e-6180f719072c\">\n",
              "    <div class=\"colab-df-container\">\n",
              "      <div>\n",
              "<style scoped>\n",
              "    .dataframe tbody tr th:only-of-type {\n",
              "        vertical-align: middle;\n",
              "    }\n",
              "\n",
              "    .dataframe tbody tr th {\n",
              "        vertical-align: top;\n",
              "    }\n",
              "\n",
              "    .dataframe thead th {\n",
              "        text-align: right;\n",
              "    }\n",
              "</style>\n",
              "<table border=\"1\" class=\"dataframe\">\n",
              "  <thead>\n",
              "    <tr style=\"text-align: right;\">\n",
              "      <th></th>\n",
              "      <th>증가율</th>\n",
              "    </tr>\n",
              "  </thead>\n",
              "  <tbody>\n",
              "    <tr>\n",
              "      <th>PER</th>\n",
              "      <td>-0.020609</td>\n",
              "    </tr>\n",
              "    <tr>\n",
              "      <th>업종PER</th>\n",
              "      <td>-0.064108</td>\n",
              "    </tr>\n",
              "    <tr>\n",
              "      <th>종가</th>\n",
              "      <td>-0.023851</td>\n",
              "    </tr>\n",
              "    <tr>\n",
              "      <th>다음해종가</th>\n",
              "      <td>0.026693</td>\n",
              "    </tr>\n",
              "    <tr>\n",
              "      <th>증가율</th>\n",
              "      <td>1.000000</td>\n",
              "    </tr>\n",
              "  </tbody>\n",
              "</table>\n",
              "</div>\n",
              "      <button class=\"colab-df-convert\" onclick=\"convertToInteractive('df-b45bcc47-2acb-4bb2-884e-6180f719072c')\"\n",
              "              title=\"Convert this dataframe to an interactive table.\"\n",
              "              style=\"display:none;\">\n",
              "        \n",
              "  <svg xmlns=\"http://www.w3.org/2000/svg\" height=\"24px\"viewBox=\"0 0 24 24\"\n",
              "       width=\"24px\">\n",
              "    <path d=\"M0 0h24v24H0V0z\" fill=\"none\"/>\n",
              "    <path d=\"M18.56 5.44l.94 2.06.94-2.06 2.06-.94-2.06-.94-.94-2.06-.94 2.06-2.06.94zm-11 1L8.5 8.5l.94-2.06 2.06-.94-2.06-.94L8.5 2.5l-.94 2.06-2.06.94zm10 10l.94 2.06.94-2.06 2.06-.94-2.06-.94-.94-2.06-.94 2.06-2.06.94z\"/><path d=\"M17.41 7.96l-1.37-1.37c-.4-.4-.92-.59-1.43-.59-.52 0-1.04.2-1.43.59L10.3 9.45l-7.72 7.72c-.78.78-.78 2.05 0 2.83L4 21.41c.39.39.9.59 1.41.59.51 0 1.02-.2 1.41-.59l7.78-7.78 2.81-2.81c.8-.78.8-2.07 0-2.86zM5.41 20L4 18.59l7.72-7.72 1.47 1.35L5.41 20z\"/>\n",
              "  </svg>\n",
              "      </button>\n",
              "      \n",
              "  <style>\n",
              "    .colab-df-container {\n",
              "      display:flex;\n",
              "      flex-wrap:wrap;\n",
              "      gap: 12px;\n",
              "    }\n",
              "\n",
              "    .colab-df-convert {\n",
              "      background-color: #E8F0FE;\n",
              "      border: none;\n",
              "      border-radius: 50%;\n",
              "      cursor: pointer;\n",
              "      display: none;\n",
              "      fill: #1967D2;\n",
              "      height: 32px;\n",
              "      padding: 0 0 0 0;\n",
              "      width: 32px;\n",
              "    }\n",
              "\n",
              "    .colab-df-convert:hover {\n",
              "      background-color: #E2EBFA;\n",
              "      box-shadow: 0px 1px 2px rgba(60, 64, 67, 0.3), 0px 1px 3px 1px rgba(60, 64, 67, 0.15);\n",
              "      fill: #174EA6;\n",
              "    }\n",
              "\n",
              "    [theme=dark] .colab-df-convert {\n",
              "      background-color: #3B4455;\n",
              "      fill: #D2E3FC;\n",
              "    }\n",
              "\n",
              "    [theme=dark] .colab-df-convert:hover {\n",
              "      background-color: #434B5C;\n",
              "      box-shadow: 0px 1px 3px 1px rgba(0, 0, 0, 0.15);\n",
              "      filter: drop-shadow(0px 1px 2px rgba(0, 0, 0, 0.3));\n",
              "      fill: #FFFFFF;\n",
              "    }\n",
              "  </style>\n",
              "\n",
              "      <script>\n",
              "        const buttonEl =\n",
              "          document.querySelector('#df-b45bcc47-2acb-4bb2-884e-6180f719072c button.colab-df-convert');\n",
              "        buttonEl.style.display =\n",
              "          google.colab.kernel.accessAllowed ? 'block' : 'none';\n",
              "\n",
              "        async function convertToInteractive(key) {\n",
              "          const element = document.querySelector('#df-b45bcc47-2acb-4bb2-884e-6180f719072c');\n",
              "          const dataTable =\n",
              "            await google.colab.kernel.invokeFunction('convertToInteractive',\n",
              "                                                     [key], {});\n",
              "          if (!dataTable) return;\n",
              "\n",
              "          const docLinkHtml = 'Like what you see? Visit the ' +\n",
              "            '<a target=\"_blank\" href=https://colab.research.google.com/notebooks/data_table.ipynb>data table notebook</a>'\n",
              "            + ' to learn more about interactive tables.';\n",
              "          element.innerHTML = '';\n",
              "          dataTable['output_type'] = 'display_data';\n",
              "          await google.colab.output.renderOutput(dataTable, element);\n",
              "          const docLink = document.createElement('div');\n",
              "          docLink.innerHTML = docLinkHtml;\n",
              "          element.appendChild(docLink);\n",
              "        }\n",
              "      </script>\n",
              "    </div>\n",
              "  </div>\n",
              "  "
            ],
            "text/plain": [
              "            증가율\n",
              "PER   -0.020609\n",
              "업종PER -0.064108\n",
              "종가    -0.023851\n",
              "다음해종가  0.026693\n",
              "증가율    1.000000"
            ]
          },
          "execution_count": 46,
          "metadata": {},
          "output_type": "execute_result"
        }
      ],
      "source": [
        "a = pd.merge(join_t2.sort_values('PER'), jongmok_upjong2014, how='left', on = '종목코드')[['종목코드', '종목명_x', '업종명_x', 'PER', '업종PER','종가_x','종가_y']]\n",
        "a.columns = ['종목코드', '종목명', '업종명', 'PER', '업종PER','종가','다음해종가']\n",
        "a['증가율'] = ((a['다음해종가']-a['종가'])/a['종가'])*100\n",
        "a = a.loc[~a['다음해종가'].isnull()]\n",
        "per_returns_corr_score = a.corr()['증가율'].to_frame()\n",
        "per_returns_corr.append(per_returns_corr_score.loc[(per_returns_corr_score.index=='PER')]['증가율'].values)\n",
        "per_returns_corr_score"
      ]
    },
    {
      "cell_type": "markdown",
      "metadata": {
        "id": "N4WT1gUPLnlQ"
      },
      "source": [
        "## 2014"
      ]
    },
    {
      "cell_type": "code",
      "execution_count": null,
      "metadata": {
        "id": "3TTOSt9aLnlR"
      },
      "outputs": [],
      "source": [
        "join_t1 = pd.merge(per_2014,jongmok_upjong2014,how='left',on='종목코드')[['종목코드','종목명_x','업종명','PER','종가']]\n",
        "join_t1.columns = ['종목코드','종목명','업종명','PER','종가']\n",
        "join_t2 = pd.merge(join_t1,upjong2014,how='left',on='업종명')"
      ]
    },
    {
      "cell_type": "code",
      "execution_count": null,
      "metadata": {
        "id": "X-i-3V__LnlR"
      },
      "outputs": [],
      "source": [
        "join_t2['PER'] = join_t2['PER'].apply(lambda x : '0' if x=='-' else x)\n",
        "join_t2['PER'] = join_t2['PER'].astype(float)"
      ]
    },
    {
      "cell_type": "code",
      "execution_count": null,
      "metadata": {
        "colab": {
          "base_uri": "https://localhost:8080/"
        },
        "id": "lBu1uF8FLnlR",
        "outputId": "f8c65d74-61d0-4686-b766-c2975cf40aea"
      },
      "outputs": [
        {
          "name": "stdout",
          "output_type": "stream",
          "text": [
            "전처리하기전 코스피종목 갯수 : 865\n"
          ]
        }
      ],
      "source": [
        "join_t2['업종PER'] = join_t2['업종PER'].apply(lambda x : '0' if x =='-' else x)\n",
        "join_t2['업종PER'] = join_t2['업종PER'].astype(float)\n",
        "print('전처리하기전 코스피종목 갯수 : {}'.format(len(join_t2)))"
      ]
    },
    {
      "cell_type": "code",
      "execution_count": null,
      "metadata": {
        "colab": {
          "base_uri": "https://localhost:8080/"
        },
        "id": "7r3YQ8OnLnlR",
        "outputId": "3e31f430-7fbb-41c4-f794-8813e4fbdf79"
      },
      "outputs": [
        {
          "name": "stdout",
          "output_type": "stream",
          "text": [
            "전처리한후 코스피종목 갯수 : 478\n"
          ]
        }
      ],
      "source": [
        "join_t2 = join_t2.loc[~((join_t2['업종PER']==0) | (join_t2['PER']==0))] # PER이나 업종PER이 0인 종목을 제외한 종목\n",
        "print('전처리한후 코스피종목 갯수 : {}'.format(len(join_t2)))"
      ]
    },
    {
      "cell_type": "code",
      "execution_count": null,
      "metadata": {
        "colab": {
          "base_uri": "https://localhost:8080/"
        },
        "id": "ZALIQ_dGLnlR",
        "outputId": "e7b041dd-e6c2-41d9-fd64-8a0ac41a9821"
      },
      "outputs": [
        {
          "name": "stdout",
          "output_type": "stream",
          "text": [
            "17.420328337400665\n"
          ]
        }
      ],
      "source": [
        "lower_upjong = join_t2.loc[join_t2['PER'] <join_t2['업종PER']] # 업종per보다 낮은 per주식\n",
        "comp1112 = pd.merge(lower_upjong, jongmok_upjong2015, how='left',on = '종목코드')[['종목코드', '종목명_x', '업종명_x', 'PER', '종가_x', '업종PER','종가_y']]\n",
        "comp1112.columns = ['종목코드', '종목명', '업종명', 'PER', '종가', '업종PER','다음년도종가']\n",
        "comp1112['증가율'] = ((comp1112['다음년도종가']-comp1112['종가'])/comp1112['종가'])*100\n",
        "lower_per_returns.append(comp1112['증가율'].sum()/len(comp1112))\n",
        "print(comp1112['증가율'].sum()/len(comp1112)) # 평균 기대수익률"
      ]
    },
    {
      "cell_type": "code",
      "execution_count": null,
      "metadata": {
        "colab": {
          "base_uri": "https://localhost:8080/"
        },
        "id": "Fs0qqN1oLnlR",
        "outputId": "b2f248a5-ee53-4f8e-d50b-a1959c85e7d4"
      },
      "outputs": [
        {
          "name": "stdout",
          "output_type": "stream",
          "text": [
            "10.820204943058421\n"
          ]
        }
      ],
      "source": [
        "over_upjong = join_t2.loc[join_t2['PER'] >join_t2['업종PER']] # 업종per보다 높은 per주식\n",
        "comp1112 = pd.merge(over_upjong, jongmok_upjong2015, how='left',on = '종목코드')[['종목코드', '종목명_x', '업종명_x', 'PER', '종가_x', '업종PER','종가_y']]\n",
        "comp1112.columns = ['종목코드', '종목명', '업종명', 'PER', '종가', '업종PER','다음년도종가']\n",
        "comp1112['증가율'] = ((comp1112['다음년도종가']-comp1112['종가'])/comp1112['종가'])*100\n",
        "upper_per_returns.append(comp1112['증가율'].sum()/len(comp1112))\n",
        "print(comp1112['증가율'].sum()/len(comp1112)) # 평균 기대수익률"
      ]
    },
    {
      "cell_type": "code",
      "execution_count": null,
      "metadata": {
        "colab": {
          "base_uri": "https://localhost:8080/"
        },
        "id": "LzDOoM6ZLnlR",
        "outputId": "b5eaf8de-6cbe-4b18-c014-967dcdaedb31"
      },
      "outputs": [
        {
          "name": "stdout",
          "output_type": "stream",
          "text": [
            "31.989253749232844\n"
          ]
        }
      ],
      "source": [
        "under5_upjong = join_t2.loc[join_t2['PER'] <5] # per이 5보다 낮은 주식\n",
        "comp1112 = pd.merge(under5_upjong, jongmok_upjong2015, how='left',on = '종목코드')[['종목코드', '종목명_x', '업종명_x', 'PER', '종가_x', '업종PER','종가_y']]\n",
        "comp1112.columns = ['종목코드', '종목명', '업종명', 'PER', '종가', '업종PER','다음년도종가']\n",
        "comp1112['증가율'] = ((comp1112['다음년도종가']-comp1112['종가'])/comp1112['종가'])*100\n",
        "under5_per_returns.append(comp1112['증가율'].sum()/len(comp1112))\n",
        "print(comp1112['증가율'].sum()/len(comp1112)) # 평균 기대수익률"
      ]
    },
    {
      "cell_type": "code",
      "execution_count": null,
      "metadata": {
        "colab": {
          "base_uri": "https://localhost:8080/"
        },
        "id": "mtF-KQLZWq0o",
        "outputId": "30470cc8-de54-49a5-c2ab-886b9da5a2ee"
      },
      "outputs": [
        {
          "name": "stdout",
          "output_type": "stream",
          "text": [
            "14.546840649306564\n"
          ]
        }
      ],
      "source": [
        "upper5_upjong = join_t2.loc[join_t2['PER'] >5] # per이 5보다 높은 주식\n",
        "comp1112 = pd.merge(upper5_upjong, jongmok_upjong2015, how='left',on = '종목코드')[['종목코드', '종목명_x', '업종명_x', 'PER', '종가_x', '업종PER','종가_y']]\n",
        "comp1112.columns = ['종목코드', '종목명', '업종명', 'PER', '종가', '업종PER','다음년도종가']\n",
        "comp1112['증가율'] = ((comp1112['다음년도종가']-comp1112['종가'])/comp1112['종가'])*100\n",
        "upper5_per_returns.append(comp1112['증가율'].sum()/len(comp1112))\n",
        "print(comp1112['증가율'].sum()/len(comp1112)) # 평균 기대수익률"
      ]
    },
    {
      "cell_type": "code",
      "execution_count": null,
      "metadata": {
        "colab": {
          "base_uri": "https://localhost:8080/"
        },
        "id": "prhMeQLc61oi",
        "outputId": "6b3bb6fa-0642-4bc9-d64e-c12e5a887de1"
      },
      "outputs": [
        {
          "name": "stdout",
          "output_type": "stream",
          "text": [
            "125.5068937878262\n"
          ]
        }
      ],
      "source": [
        "under2_per = join_t2.loc[join_t2['PER'] <2] # per이 2보다 낮은 주식\n",
        "comp1112 = pd.merge(under2_per, jongmok_upjong2015, how='left',on = '종목코드')[['종목코드', '종목명_x', '업종명_x', 'PER', '종가_x', '업종PER','종가_y']]\n",
        "comp1112.columns = ['종목코드', '종목명', '업종명', 'PER', '종가', '업종PER','다음년도종가']\n",
        "comp1112['증가율'] = ((comp1112['다음년도종가']-comp1112['종가'])/comp1112['종가'])*100\n",
        "under2_per_returns.append(comp1112['증가율'].sum()/len(comp1112))\n",
        "print(comp1112['증가율'].sum()/len(comp1112)) # 평균 기대수익률"
      ]
    },
    {
      "cell_type": "code",
      "execution_count": null,
      "metadata": {
        "colab": {
          "base_uri": "https://localhost:8080/"
        },
        "id": "s71aGXPP6398",
        "outputId": "588729e2-53c1-41a5-cb5d-5ade21ee6f99"
      },
      "outputs": [
        {
          "name": "stdout",
          "output_type": "stream",
          "text": [
            "15.711435539831388\n"
          ]
        }
      ],
      "source": [
        "upper10_per = join_t2.loc[join_t2['PER'] > 10] # per이 10보다 높은 주식\n",
        "comp1112 = pd.merge(upper10_per, jongmok_upjong2015, how='left',on = '종목코드')[['종목코드', '종목명_x', '업종명_x', 'PER', '종가_x', '업종PER','종가_y']]\n",
        "comp1112.columns = ['종목코드', '종목명', '업종명', 'PER', '종가', '업종PER','다음년도종가']\n",
        "comp1112['증가율'] = ((comp1112['다음년도종가']-comp1112['종가'])/comp1112['종가'])*100\n",
        "upper10_per_returns.append(comp1112['증가율'].sum()/len(comp1112))\n",
        "print(comp1112['증가율'].sum()/len(comp1112)) # 평균 기대수익률"
      ]
    },
    {
      "cell_type": "code",
      "execution_count": null,
      "metadata": {
        "colab": {
          "base_uri": "https://localhost:8080/"
        },
        "id": "squIehcH655L",
        "outputId": "98d7e574-9135-419b-e0ef-1225a77b1d06"
      },
      "outputs": [
        {
          "name": "stdout",
          "output_type": "stream",
          "text": [
            "16.168389276421554\n"
          ]
        }
      ],
      "source": [
        "upper50_per = join_t2.loc[join_t2['PER'] > 50] # per이 50보다 높은 주식\n",
        "comp1112 = pd.merge(upper50_per, jongmok_upjong2015, how='left',on = '종목코드')[['종목코드', '종목명_x', '업종명_x', 'PER', '종가_x', '업종PER','종가_y']]\n",
        "comp1112.columns = ['종목코드', '종목명', '업종명', 'PER', '종가', '업종PER','다음년도종가']\n",
        "comp1112['증가율'] = ((comp1112['다음년도종가']-comp1112['종가'])/comp1112['종가'])*100\n",
        "upper50_per_returns.append(comp1112['증가율'].sum()/len(comp1112))\n",
        "print(comp1112['증가율'].sum()/len(comp1112)) # 평균 기대수익률"
      ]
    },
    {
      "cell_type": "code",
      "execution_count": null,
      "metadata": {
        "colab": {
          "background_save": true,
          "base_uri": "https://localhost:8080/",
          "height": 206
        },
        "id": "untgvmJbuB7X",
        "outputId": "905ce867-f70b-47a6-fab4-e7caf9c5d842"
      },
      "outputs": [
        {
          "data": {
            "text/html": [
              "\n",
              "  <div id=\"df-6d6d61a8-3578-4135-a613-bdd350668ebf\">\n",
              "    <div class=\"colab-df-container\">\n",
              "      <div>\n",
              "<style scoped>\n",
              "    .dataframe tbody tr th:only-of-type {\n",
              "        vertical-align: middle;\n",
              "    }\n",
              "\n",
              "    .dataframe tbody tr th {\n",
              "        vertical-align: top;\n",
              "    }\n",
              "\n",
              "    .dataframe thead th {\n",
              "        text-align: right;\n",
              "    }\n",
              "</style>\n",
              "<table border=\"1\" class=\"dataframe\">\n",
              "  <thead>\n",
              "    <tr style=\"text-align: right;\">\n",
              "      <th></th>\n",
              "      <th>증가율</th>\n",
              "    </tr>\n",
              "  </thead>\n",
              "  <tbody>\n",
              "    <tr>\n",
              "      <th>PER</th>\n",
              "      <td>-0.002522</td>\n",
              "    </tr>\n",
              "    <tr>\n",
              "      <th>업종PER</th>\n",
              "      <td>0.064296</td>\n",
              "    </tr>\n",
              "    <tr>\n",
              "      <th>종가</th>\n",
              "      <td>-0.067351</td>\n",
              "    </tr>\n",
              "    <tr>\n",
              "      <th>다음해종가</th>\n",
              "      <td>0.042115</td>\n",
              "    </tr>\n",
              "    <tr>\n",
              "      <th>증가율</th>\n",
              "      <td>1.000000</td>\n",
              "    </tr>\n",
              "  </tbody>\n",
              "</table>\n",
              "</div>\n",
              "      <button class=\"colab-df-convert\" onclick=\"convertToInteractive('df-6d6d61a8-3578-4135-a613-bdd350668ebf')\"\n",
              "              title=\"Convert this dataframe to an interactive table.\"\n",
              "              style=\"display:none;\">\n",
              "        \n",
              "  <svg xmlns=\"http://www.w3.org/2000/svg\" height=\"24px\"viewBox=\"0 0 24 24\"\n",
              "       width=\"24px\">\n",
              "    <path d=\"M0 0h24v24H0V0z\" fill=\"none\"/>\n",
              "    <path d=\"M18.56 5.44l.94 2.06.94-2.06 2.06-.94-2.06-.94-.94-2.06-.94 2.06-2.06.94zm-11 1L8.5 8.5l.94-2.06 2.06-.94-2.06-.94L8.5 2.5l-.94 2.06-2.06.94zm10 10l.94 2.06.94-2.06 2.06-.94-2.06-.94-.94-2.06-.94 2.06-2.06.94z\"/><path d=\"M17.41 7.96l-1.37-1.37c-.4-.4-.92-.59-1.43-.59-.52 0-1.04.2-1.43.59L10.3 9.45l-7.72 7.72c-.78.78-.78 2.05 0 2.83L4 21.41c.39.39.9.59 1.41.59.51 0 1.02-.2 1.41-.59l7.78-7.78 2.81-2.81c.8-.78.8-2.07 0-2.86zM5.41 20L4 18.59l7.72-7.72 1.47 1.35L5.41 20z\"/>\n",
              "  </svg>\n",
              "      </button>\n",
              "      \n",
              "  <style>\n",
              "    .colab-df-container {\n",
              "      display:flex;\n",
              "      flex-wrap:wrap;\n",
              "      gap: 12px;\n",
              "    }\n",
              "\n",
              "    .colab-df-convert {\n",
              "      background-color: #E8F0FE;\n",
              "      border: none;\n",
              "      border-radius: 50%;\n",
              "      cursor: pointer;\n",
              "      display: none;\n",
              "      fill: #1967D2;\n",
              "      height: 32px;\n",
              "      padding: 0 0 0 0;\n",
              "      width: 32px;\n",
              "    }\n",
              "\n",
              "    .colab-df-convert:hover {\n",
              "      background-color: #E2EBFA;\n",
              "      box-shadow: 0px 1px 2px rgba(60, 64, 67, 0.3), 0px 1px 3px 1px rgba(60, 64, 67, 0.15);\n",
              "      fill: #174EA6;\n",
              "    }\n",
              "\n",
              "    [theme=dark] .colab-df-convert {\n",
              "      background-color: #3B4455;\n",
              "      fill: #D2E3FC;\n",
              "    }\n",
              "\n",
              "    [theme=dark] .colab-df-convert:hover {\n",
              "      background-color: #434B5C;\n",
              "      box-shadow: 0px 1px 3px 1px rgba(0, 0, 0, 0.15);\n",
              "      filter: drop-shadow(0px 1px 2px rgba(0, 0, 0, 0.3));\n",
              "      fill: #FFFFFF;\n",
              "    }\n",
              "  </style>\n",
              "\n",
              "      <script>\n",
              "        const buttonEl =\n",
              "          document.querySelector('#df-6d6d61a8-3578-4135-a613-bdd350668ebf button.colab-df-convert');\n",
              "        buttonEl.style.display =\n",
              "          google.colab.kernel.accessAllowed ? 'block' : 'none';\n",
              "\n",
              "        async function convertToInteractive(key) {\n",
              "          const element = document.querySelector('#df-6d6d61a8-3578-4135-a613-bdd350668ebf');\n",
              "          const dataTable =\n",
              "            await google.colab.kernel.invokeFunction('convertToInteractive',\n",
              "                                                     [key], {});\n",
              "          if (!dataTable) return;\n",
              "\n",
              "          const docLinkHtml = 'Like what you see? Visit the ' +\n",
              "            '<a target=\"_blank\" href=https://colab.research.google.com/notebooks/data_table.ipynb>data table notebook</a>'\n",
              "            + ' to learn more about interactive tables.';\n",
              "          element.innerHTML = '';\n",
              "          dataTable['output_type'] = 'display_data';\n",
              "          await google.colab.output.renderOutput(dataTable, element);\n",
              "          const docLink = document.createElement('div');\n",
              "          docLink.innerHTML = docLinkHtml;\n",
              "          element.appendChild(docLink);\n",
              "        }\n",
              "      </script>\n",
              "    </div>\n",
              "  </div>\n",
              "  "
            ],
            "text/plain": [
              "            증가율\n",
              "PER   -0.002522\n",
              "업종PER  0.064296\n",
              "종가    -0.067351\n",
              "다음해종가  0.042115\n",
              "증가율    1.000000"
            ]
          },
          "execution_count": null,
          "metadata": {},
          "output_type": "execute_result"
        }
      ],
      "source": [
        "a = pd.merge(join_t2.sort_values('PER'), jongmok_upjong2015, how='left', on = '종목코드')[['종목코드', '종목명_x', '업종명_x', 'PER', '업종PER','종가_x','종가_y']]\n",
        "a.columns = ['종목코드', '종목명', '업종명', 'PER', '업종PER','종가','다음해종가']\n",
        "a['증가율'] = ((a['다음해종가']-a['종가'])/a['종가'])*100\n",
        "a = a.loc[~a['다음해종가'].isnull()]\n",
        "per_returns_corr_score = a.corr()['증가율'].to_frame()\n",
        "per_returns_corr.append(per_returns_corr_score.loc[(per_returns_corr_score.index=='PER')]['증가율'].values)\n",
        "per_returns_corr_score"
      ]
    },
    {
      "cell_type": "markdown",
      "metadata": {
        "id": "T0nUzUb5L77j"
      },
      "source": [
        "## 2015"
      ]
    },
    {
      "cell_type": "code",
      "execution_count": null,
      "metadata": {
        "colab": {
          "background_save": true
        },
        "id": "3yLC9FDCL77k"
      },
      "outputs": [],
      "source": [
        "join_t1 = pd.merge(per_2015,jongmok_upjong2015,how='left',on='종목코드')[['종목코드','종목명_x','업종명','PER','종가']]\n",
        "join_t1.columns = ['종목코드','종목명','업종명','PER','종가']\n",
        "join_t2 = pd.merge(join_t1,upjong2015,how='left',on='업종명')"
      ]
    },
    {
      "cell_type": "code",
      "execution_count": null,
      "metadata": {
        "colab": {
          "background_save": true
        },
        "id": "bE4vuAdLL77k"
      },
      "outputs": [],
      "source": [
        "join_t2['PER'] = join_t2['PER'].apply(lambda x : '0' if x=='-' else x)\n",
        "join_t2['PER'] = join_t2['PER'].astype(float)"
      ]
    },
    {
      "cell_type": "code",
      "execution_count": null,
      "metadata": {
        "colab": {
          "base_uri": "https://localhost:8080/"
        },
        "id": "xuv6xPbzL77k",
        "outputId": "0beb1110-465f-4081-cc2a-e466b69d6c64"
      },
      "outputs": [
        {
          "name": "stdout",
          "output_type": "stream",
          "text": [
            "전처리하기전 코스피종목 갯수 : 854\n"
          ]
        }
      ],
      "source": [
        "join_t2['업종PER'] = join_t2['업종PER'].apply(lambda x : '0' if x =='-' else x)\n",
        "join_t2['업종PER'] = join_t2['업종PER'].astype(float)\n",
        "print('전처리하기전 코스피종목 갯수 : {}'.format(len(join_t2)))"
      ]
    },
    {
      "cell_type": "code",
      "execution_count": null,
      "metadata": {
        "colab": {
          "base_uri": "https://localhost:8080/"
        },
        "id": "U03nM2vmL77k",
        "outputId": "e217df07-0f5c-4785-b7ab-eaad5151c126"
      },
      "outputs": [
        {
          "name": "stdout",
          "output_type": "stream",
          "text": [
            "전처리한 후 코스피종목 갯수 : 462\n"
          ]
        }
      ],
      "source": [
        "join_t2 = join_t2.loc[~((join_t2['업종PER']==0) | (join_t2['PER']==0))] # PER이나 업종PER이 0인 종목을 제외한 종목\n",
        "print('전처리한 후 코스피종목 갯수 : {}'.format(len(join_t2)))"
      ]
    },
    {
      "cell_type": "code",
      "execution_count": null,
      "metadata": {
        "colab": {
          "base_uri": "https://localhost:8080/"
        },
        "id": "UpndHkoML77k",
        "outputId": "44a0462c-cfe2-433c-f4c1-b87b93d7f1ad"
      },
      "outputs": [
        {
          "name": "stdout",
          "output_type": "stream",
          "text": [
            "17.31364590544647\n"
          ]
        }
      ],
      "source": [
        "lower_upjong = join_t2.loc[join_t2['PER'] <join_t2['업종PER']] # 업종per보다 낮은 per주식\n",
        "comp1112 = pd.merge(lower_upjong, jongmok_upjong2016, how='left',on = '종목코드')[['종목코드', '종목명_x', '업종명_x', 'PER', '종가_x', '업종PER','종가_y']]\n",
        "comp1112.columns = ['종목코드', '종목명', '업종명', 'PER', '종가', '업종PER','다음년도종가']\n",
        "comp1112['증가율'] = ((comp1112['다음년도종가']-comp1112['종가'])/comp1112['종가'])*100\n",
        "lower_per_returns.append(comp1112['증가율'].sum()/len(comp1112))\n",
        "print(comp1112['증가율'].sum()/len(comp1112)) # 평균 기대수익률"
      ]
    },
    {
      "cell_type": "code",
      "execution_count": null,
      "metadata": {
        "colab": {
          "base_uri": "https://localhost:8080/"
        },
        "id": "_RX7XcW6L77k",
        "outputId": "2dece378-6b85-431a-a642-bb39e703a783"
      },
      "outputs": [
        {
          "name": "stdout",
          "output_type": "stream",
          "text": [
            "26.524748599046635\n"
          ]
        }
      ],
      "source": [
        "over_upjong = join_t2.loc[join_t2['PER'] >join_t2['업종PER']] # 업종per보다 높은 per주식\n",
        "comp1112 = pd.merge(over_upjong, jongmok_upjong2016, how='left',on = '종목코드')[['종목코드', '종목명_x', '업종명_x', 'PER', '종가_x', '업종PER','종가_y']]\n",
        "comp1112.columns = ['종목코드', '종목명', '업종명', 'PER', '종가', '업종PER','다음년도종가']\n",
        "comp1112['증가율'] = ((comp1112['다음년도종가']-comp1112['종가'])/comp1112['종가'])*100\n",
        "upper_per_returns.append(comp1112['증가율'].sum()/len(comp1112))\n",
        "print(comp1112['증가율'].sum()/len(comp1112)) # 평균 기대수익률"
      ]
    },
    {
      "cell_type": "code",
      "execution_count": null,
      "metadata": {
        "colab": {
          "base_uri": "https://localhost:8080/"
        },
        "id": "0Mb-0RbhW2nj",
        "outputId": "69d1f445-22be-44ef-f1cb-8a77be7cd91c"
      },
      "outputs": [
        {
          "name": "stdout",
          "output_type": "stream",
          "text": [
            "5.730258780045163\n"
          ]
        }
      ],
      "source": [
        "under5_upjong = join_t2.loc[join_t2['PER'] <5] # per이 5보다 낮은 주식\n",
        "comp1112 = pd.merge(under5_upjong, jongmok_upjong2016, how='left',on = '종목코드')[['종목코드', '종목명_x', '업종명_x', 'PER', '종가_x', '업종PER','종가_y']]\n",
        "comp1112.columns = ['종목코드', '종목명', '업종명', 'PER', '종가', '업종PER','다음년도종가']\n",
        "comp1112['증가율'] = ((comp1112['다음년도종가']-comp1112['종가'])/comp1112['종가'])*100\n",
        "under5_per_returns.append(comp1112['증가율'].sum()/len(comp1112))\n",
        "print(comp1112['증가율'].sum()/len(comp1112)) # 평균 기대수익률"
      ]
    },
    {
      "cell_type": "code",
      "execution_count": null,
      "metadata": {
        "colab": {
          "base_uri": "https://localhost:8080/"
        },
        "id": "N0Lcb3SqL77k",
        "outputId": "f5e5895b-4d63-47a7-93df-f3c19a548221"
      },
      "outputs": [
        {
          "name": "stdout",
          "output_type": "stream",
          "text": [
            "20.150534026797704\n"
          ]
        }
      ],
      "source": [
        "upper5_upjong = join_t2.loc[join_t2['PER'] >5] # per이 5보다 높은 주식\n",
        "comp1112 = pd.merge(upper5_upjong, jongmok_upjong2016, how='left',on = '종목코드')[['종목코드', '종목명_x', '업종명_x', 'PER', '종가_x', '업종PER','종가_y']]\n",
        "comp1112.columns = ['종목코드', '종목명', '업종명', 'PER', '종가', '업종PER','다음년도종가']\n",
        "comp1112['증가율'] = ((comp1112['다음년도종가']-comp1112['종가'])/comp1112['종가'])*100\n",
        "upper5_per_returns.append(comp1112['증가율'].sum()/len(comp1112))\n",
        "print(comp1112['증가율'].sum()/len(comp1112)) # 평균 기대수익률"
      ]
    },
    {
      "cell_type": "code",
      "execution_count": null,
      "metadata": {
        "colab": {
          "base_uri": "https://localhost:8080/"
        },
        "id": "8mhVBll_7Yoi",
        "outputId": "4a314c05-0dc0-4ccc-d409-8b2402b427ce"
      },
      "outputs": [
        {
          "name": "stdout",
          "output_type": "stream",
          "text": [
            "74.06916050456721\n"
          ]
        }
      ],
      "source": [
        "under2_per = join_t2.loc[join_t2['PER'] <2] # per이 2보다 낮은 주식\n",
        "comp1112 = pd.merge(under2_per, jongmok_upjong2016, how='left',on = '종목코드')[['종목코드', '종목명_x', '업종명_x', 'PER', '종가_x', '업종PER','종가_y']]\n",
        "comp1112.columns = ['종목코드', '종목명', '업종명', 'PER', '종가', '업종PER','다음년도종가']\n",
        "comp1112['증가율'] = ((comp1112['다음년도종가']-comp1112['종가'])/comp1112['종가'])*100\n",
        "under2_per_returns.append(comp1112['증가율'].sum()/len(comp1112))\n",
        "print(comp1112['증가율'].sum()/len(comp1112)) # 평균 기대수익률"
      ]
    },
    {
      "cell_type": "code",
      "execution_count": null,
      "metadata": {
        "colab": {
          "base_uri": "https://localhost:8080/"
        },
        "id": "lPm4T5wC7ZAn",
        "outputId": "b0ae7073-5b7b-457d-8dc2-20d5dbeffa0d"
      },
      "outputs": [
        {
          "name": "stdout",
          "output_type": "stream",
          "text": [
            "22.620873665162144\n"
          ]
        }
      ],
      "source": [
        "upper10_per = join_t2.loc[join_t2['PER'] > 10] # per이 10보다 높은 주식\n",
        "comp1112 = pd.merge(upper10_per, jongmok_upjong2016, how='left',on = '종목코드')[['종목코드', '종목명_x', '업종명_x', 'PER', '종가_x', '업종PER','종가_y']]\n",
        "comp1112.columns = ['종목코드', '종목명', '업종명', 'PER', '종가', '업종PER','다음년도종가']\n",
        "comp1112['증가율'] = ((comp1112['다음년도종가']-comp1112['종가'])/comp1112['종가'])*100\n",
        "upper10_per_returns.append(comp1112['증가율'].sum()/len(comp1112))\n",
        "print(comp1112['증가율'].sum()/len(comp1112)) # 평균 기대수익률"
      ]
    },
    {
      "cell_type": "code",
      "execution_count": null,
      "metadata": {
        "colab": {
          "base_uri": "https://localhost:8080/"
        },
        "id": "5Xp7k18A7ZOU",
        "outputId": "9fcf77da-c0ee-4536-ffaf-34977c24300b"
      },
      "outputs": [
        {
          "name": "stdout",
          "output_type": "stream",
          "text": [
            "38.92470310240743\n"
          ]
        }
      ],
      "source": [
        "upper50_per = join_t2.loc[join_t2['PER'] > 50] # per이 50보다 높은 주식\n",
        "comp1112 = pd.merge(upper50_per, jongmok_upjong2016, how='left',on = '종목코드')[['종목코드', '종목명_x', '업종명_x', 'PER', '종가_x', '업종PER','종가_y']]\n",
        "comp1112.columns = ['종목코드', '종목명', '업종명', 'PER', '종가', '업종PER','다음년도종가']\n",
        "comp1112['증가율'] = ((comp1112['다음년도종가']-comp1112['종가'])/comp1112['종가'])*100\n",
        "upper50_per_returns.append(comp1112['증가율'].sum()/len(comp1112))\n",
        "print(comp1112['증가율'].sum()/len(comp1112)) # 평균 기대수익률"
      ]
    },
    {
      "cell_type": "code",
      "execution_count": null,
      "metadata": {
        "colab": {
          "base_uri": "https://localhost:8080/",
          "height": 206
        },
        "id": "qnYsn72VuKFm",
        "outputId": "fae52c1d-2741-4800-b690-c648d26823de"
      },
      "outputs": [
        {
          "data": {
            "text/html": [
              "\n",
              "  <div id=\"df-18ec260e-9fff-47ea-bf82-e234bd625c30\">\n",
              "    <div class=\"colab-df-container\">\n",
              "      <div>\n",
              "<style scoped>\n",
              "    .dataframe tbody tr th:only-of-type {\n",
              "        vertical-align: middle;\n",
              "    }\n",
              "\n",
              "    .dataframe tbody tr th {\n",
              "        vertical-align: top;\n",
              "    }\n",
              "\n",
              "    .dataframe thead th {\n",
              "        text-align: right;\n",
              "    }\n",
              "</style>\n",
              "<table border=\"1\" class=\"dataframe\">\n",
              "  <thead>\n",
              "    <tr style=\"text-align: right;\">\n",
              "      <th></th>\n",
              "      <th>증가율</th>\n",
              "    </tr>\n",
              "  </thead>\n",
              "  <tbody>\n",
              "    <tr>\n",
              "      <th>PER</th>\n",
              "      <td>0.055175</td>\n",
              "    </tr>\n",
              "    <tr>\n",
              "      <th>업종PER</th>\n",
              "      <td>-0.000510</td>\n",
              "    </tr>\n",
              "    <tr>\n",
              "      <th>종가</th>\n",
              "      <td>-0.069650</td>\n",
              "    </tr>\n",
              "    <tr>\n",
              "      <th>다음해종가</th>\n",
              "      <td>0.129370</td>\n",
              "    </tr>\n",
              "    <tr>\n",
              "      <th>증가율</th>\n",
              "      <td>1.000000</td>\n",
              "    </tr>\n",
              "  </tbody>\n",
              "</table>\n",
              "</div>\n",
              "      <button class=\"colab-df-convert\" onclick=\"convertToInteractive('df-18ec260e-9fff-47ea-bf82-e234bd625c30')\"\n",
              "              title=\"Convert this dataframe to an interactive table.\"\n",
              "              style=\"display:none;\">\n",
              "        \n",
              "  <svg xmlns=\"http://www.w3.org/2000/svg\" height=\"24px\"viewBox=\"0 0 24 24\"\n",
              "       width=\"24px\">\n",
              "    <path d=\"M0 0h24v24H0V0z\" fill=\"none\"/>\n",
              "    <path d=\"M18.56 5.44l.94 2.06.94-2.06 2.06-.94-2.06-.94-.94-2.06-.94 2.06-2.06.94zm-11 1L8.5 8.5l.94-2.06 2.06-.94-2.06-.94L8.5 2.5l-.94 2.06-2.06.94zm10 10l.94 2.06.94-2.06 2.06-.94-2.06-.94-.94-2.06-.94 2.06-2.06.94z\"/><path d=\"M17.41 7.96l-1.37-1.37c-.4-.4-.92-.59-1.43-.59-.52 0-1.04.2-1.43.59L10.3 9.45l-7.72 7.72c-.78.78-.78 2.05 0 2.83L4 21.41c.39.39.9.59 1.41.59.51 0 1.02-.2 1.41-.59l7.78-7.78 2.81-2.81c.8-.78.8-2.07 0-2.86zM5.41 20L4 18.59l7.72-7.72 1.47 1.35L5.41 20z\"/>\n",
              "  </svg>\n",
              "      </button>\n",
              "      \n",
              "  <style>\n",
              "    .colab-df-container {\n",
              "      display:flex;\n",
              "      flex-wrap:wrap;\n",
              "      gap: 12px;\n",
              "    }\n",
              "\n",
              "    .colab-df-convert {\n",
              "      background-color: #E8F0FE;\n",
              "      border: none;\n",
              "      border-radius: 50%;\n",
              "      cursor: pointer;\n",
              "      display: none;\n",
              "      fill: #1967D2;\n",
              "      height: 32px;\n",
              "      padding: 0 0 0 0;\n",
              "      width: 32px;\n",
              "    }\n",
              "\n",
              "    .colab-df-convert:hover {\n",
              "      background-color: #E2EBFA;\n",
              "      box-shadow: 0px 1px 2px rgba(60, 64, 67, 0.3), 0px 1px 3px 1px rgba(60, 64, 67, 0.15);\n",
              "      fill: #174EA6;\n",
              "    }\n",
              "\n",
              "    [theme=dark] .colab-df-convert {\n",
              "      background-color: #3B4455;\n",
              "      fill: #D2E3FC;\n",
              "    }\n",
              "\n",
              "    [theme=dark] .colab-df-convert:hover {\n",
              "      background-color: #434B5C;\n",
              "      box-shadow: 0px 1px 3px 1px rgba(0, 0, 0, 0.15);\n",
              "      filter: drop-shadow(0px 1px 2px rgba(0, 0, 0, 0.3));\n",
              "      fill: #FFFFFF;\n",
              "    }\n",
              "  </style>\n",
              "\n",
              "      <script>\n",
              "        const buttonEl =\n",
              "          document.querySelector('#df-18ec260e-9fff-47ea-bf82-e234bd625c30 button.colab-df-convert');\n",
              "        buttonEl.style.display =\n",
              "          google.colab.kernel.accessAllowed ? 'block' : 'none';\n",
              "\n",
              "        async function convertToInteractive(key) {\n",
              "          const element = document.querySelector('#df-18ec260e-9fff-47ea-bf82-e234bd625c30');\n",
              "          const dataTable =\n",
              "            await google.colab.kernel.invokeFunction('convertToInteractive',\n",
              "                                                     [key], {});\n",
              "          if (!dataTable) return;\n",
              "\n",
              "          const docLinkHtml = 'Like what you see? Visit the ' +\n",
              "            '<a target=\"_blank\" href=https://colab.research.google.com/notebooks/data_table.ipynb>data table notebook</a>'\n",
              "            + ' to learn more about interactive tables.';\n",
              "          element.innerHTML = '';\n",
              "          dataTable['output_type'] = 'display_data';\n",
              "          await google.colab.output.renderOutput(dataTable, element);\n",
              "          const docLink = document.createElement('div');\n",
              "          docLink.innerHTML = docLinkHtml;\n",
              "          element.appendChild(docLink);\n",
              "        }\n",
              "      </script>\n",
              "    </div>\n",
              "  </div>\n",
              "  "
            ],
            "text/plain": [
              "            증가율\n",
              "PER    0.055175\n",
              "업종PER -0.000510\n",
              "종가    -0.069650\n",
              "다음해종가  0.129370\n",
              "증가율    1.000000"
            ]
          },
          "execution_count": 70,
          "metadata": {},
          "output_type": "execute_result"
        }
      ],
      "source": [
        "a = pd.merge(join_t2.sort_values('PER'), jongmok_upjong2016, how='left', on = '종목코드')[['종목코드', '종목명_x', '업종명_x', 'PER', '업종PER','종가_x','종가_y']]\n",
        "a.columns = ['종목코드', '종목명', '업종명', 'PER', '업종PER','종가','다음해종가']\n",
        "a['증가율'] = ((a['다음해종가']-a['종가'])/a['종가'])*100\n",
        "a = a.loc[~a['다음해종가'].isnull()]\n",
        "per_returns_corr_score = a.corr()['증가율'].to_frame()\n",
        "per_returns_corr.append(per_returns_corr_score.loc[(per_returns_corr_score.index=='PER')]['증가율'].values)\n",
        "per_returns_corr_score"
      ]
    },
    {
      "cell_type": "markdown",
      "metadata": {
        "id": "ocmYjc0uMOSi"
      },
      "source": [
        "## 2016"
      ]
    },
    {
      "cell_type": "code",
      "execution_count": null,
      "metadata": {
        "id": "nX28NO9AMOSn"
      },
      "outputs": [],
      "source": [
        "join_t1 = pd.merge(per_2016,jongmok_upjong2016,how='left',on='종목코드')[['종목코드','종목명_x','업종명','PER','종가']]\n",
        "join_t1.columns = ['종목코드','종목명','업종명','PER','종가']\n",
        "join_t2 = pd.merge(join_t1,upjong2016,how='left',on='업종명')"
      ]
    },
    {
      "cell_type": "code",
      "execution_count": null,
      "metadata": {
        "id": "DIMrAaXOMOSn"
      },
      "outputs": [],
      "source": [
        "join_t2['PER'] = join_t2['PER'].apply(lambda x : '0' if x=='-' else x)\n",
        "join_t2['PER'] = join_t2['PER'].astype(float)"
      ]
    },
    {
      "cell_type": "code",
      "execution_count": null,
      "metadata": {
        "colab": {
          "base_uri": "https://localhost:8080/"
        },
        "id": "mFFgRBVhMOSn",
        "outputId": "cbf49530-951e-4f4b-a8ba-a5dd163699d6"
      },
      "outputs": [
        {
          "name": "stdout",
          "output_type": "stream",
          "text": [
            "전처리하기전 코스피종목 갯수 : 854\n"
          ]
        }
      ],
      "source": [
        "join_t2['업종PER'] = join_t2['업종PER'].apply(lambda x : '0' if x =='-' else x)\n",
        "join_t2['업종PER'] = join_t2['업종PER'].astype(float)\n",
        "print('전처리하기전 코스피종목 갯수 : {}'.format(len(join_t2)))"
      ]
    },
    {
      "cell_type": "code",
      "execution_count": null,
      "metadata": {
        "colab": {
          "base_uri": "https://localhost:8080/"
        },
        "id": "d0ka88bhMOSn",
        "outputId": "f32c913d-cb09-4c26-aa20-d3c243eda3c9"
      },
      "outputs": [
        {
          "name": "stdout",
          "output_type": "stream",
          "text": [
            "전처리한 후 코스피종목 갯수 : 520\n"
          ]
        }
      ],
      "source": [
        "join_t2 = join_t2.loc[~((join_t2['업종PER']==0) | (join_t2['PER']==0))] # PER이나 업종PER이 0인 종목을 제외한 종목\n",
        "print('전처리한 후 코스피종목 갯수 : {}'.format(len(join_t2)))"
      ]
    },
    {
      "cell_type": "code",
      "execution_count": null,
      "metadata": {
        "colab": {
          "base_uri": "https://localhost:8080/"
        },
        "id": "kryTeJ3wMOSn",
        "outputId": "654e362c-198c-41d2-a180-c8a2fb231acb"
      },
      "outputs": [
        {
          "name": "stdout",
          "output_type": "stream",
          "text": [
            "0.785353294295222\n"
          ]
        }
      ],
      "source": [
        "lower_upjong = join_t2.loc[join_t2['PER'] <join_t2['업종PER']] # 업종per보다 낮은 per주식\n",
        "comp1112 = pd.merge(lower_upjong, jongmok_upjong2017, how='left',on = '종목코드')[['종목코드', '종목명_x', '업종명_x', 'PER', '종가_x', '업종PER','종가_y']]\n",
        "comp1112.columns = ['종목코드', '종목명', '업종명', 'PER', '종가', '업종PER','다음년도종가']\n",
        "comp1112['증가율'] = ((comp1112['다음년도종가']-comp1112['종가'])/comp1112['종가'])*100\n",
        "lower_per_returns.append(comp1112['증가율'].sum()/len(comp1112))\n",
        "print(comp1112['증가율'].sum()/len(comp1112)) # 평균 기대수익률"
      ]
    },
    {
      "cell_type": "code",
      "execution_count": null,
      "metadata": {
        "colab": {
          "base_uri": "https://localhost:8080/"
        },
        "id": "NjsGATlQMOSn",
        "outputId": "ec008e52-355d-4e78-961a-bc6e01651b78"
      },
      "outputs": [
        {
          "name": "stdout",
          "output_type": "stream",
          "text": [
            "-2.386812112363449\n"
          ]
        }
      ],
      "source": [
        "over_upjong = join_t2.loc[join_t2['PER'] >join_t2['업종PER']] # 업종per보다 높은 per주식\n",
        "comp1112 = pd.merge(over_upjong, jongmok_upjong2017, how='left',on = '종목코드')[['종목코드', '종목명_x', '업종명_x', 'PER', '종가_x', '업종PER','종가_y']]\n",
        "comp1112.columns = ['종목코드', '종목명', '업종명', 'PER', '종가', '업종PER','다음년도종가']\n",
        "comp1112['증가율'] = ((comp1112['다음년도종가']-comp1112['종가'])/comp1112['종가'])*100\n",
        "upper_per_returns.append(comp1112['증가율'].sum()/len(comp1112))\n",
        "print(comp1112['증가율'].sum()/len(comp1112)) # 평균 기대수익률"
      ]
    },
    {
      "cell_type": "code",
      "execution_count": null,
      "metadata": {
        "colab": {
          "base_uri": "https://localhost:8080/"
        },
        "id": "wqoqfm5GMOSn",
        "outputId": "7ea3760a-f713-45ff-86b2-b9e9fc7763bb"
      },
      "outputs": [
        {
          "name": "stdout",
          "output_type": "stream",
          "text": [
            "8.981945836015784\n"
          ]
        }
      ],
      "source": [
        "under5_upjong = join_t2.loc[join_t2['PER'] <5] # per이 5보다 낮은 주식\n",
        "comp1112 = pd.merge(under5_upjong, jongmok_upjong2017, how='left',on = '종목코드')[['종목코드', '종목명_x', '업종명_x', 'PER', '종가_x', '업종PER','종가_y']]\n",
        "comp1112.columns = ['종목코드', '종목명', '업종명', 'PER', '종가', '업종PER','다음년도종가']\n",
        "comp1112['증가율'] = ((comp1112['다음년도종가']-comp1112['종가'])/comp1112['종가'])*100\n",
        "under5_per_returns.append(comp1112['증가율'].sum()/len(comp1112))\n",
        "print(comp1112['증가율'].sum()/len(comp1112)) # 평균 기대수익률"
      ]
    },
    {
      "cell_type": "code",
      "execution_count": null,
      "metadata": {
        "colab": {
          "base_uri": "https://localhost:8080/"
        },
        "id": "_5Ojj1NRXCWW",
        "outputId": "33257da8-7fe8-45ce-8125-f7beedc11868"
      },
      "outputs": [
        {
          "name": "stdout",
          "output_type": "stream",
          "text": [
            "-0.8114665607268426\n"
          ]
        }
      ],
      "source": [
        "upper5_upjong = join_t2.loc[join_t2['PER'] >5] # per이 5보다 높은 주식\n",
        "comp1112 = pd.merge(upper5_upjong, jongmok_upjong2017, how='left',on = '종목코드')[['종목코드', '종목명_x', '업종명_x', 'PER', '종가_x', '업종PER','종가_y']]\n",
        "comp1112.columns = ['종목코드', '종목명', '업종명', 'PER', '종가', '업종PER','다음년도종가']\n",
        "comp1112['증가율'] = ((comp1112['다음년도종가']-comp1112['종가'])/comp1112['종가'])*100\n",
        "upper5_per_returns.append(comp1112['증가율'].sum()/len(comp1112))\n",
        "print(comp1112['증가율'].sum()/len(comp1112)) # 평균 기대수익률"
      ]
    },
    {
      "cell_type": "code",
      "execution_count": null,
      "metadata": {
        "colab": {
          "base_uri": "https://localhost:8080/"
        },
        "id": "-sfOah2b8Prh",
        "outputId": "0eaf9940-77f2-4c5d-c0e2-d90e5bc0d282"
      },
      "outputs": [
        {
          "name": "stdout",
          "output_type": "stream",
          "text": [
            "6.21421606788851\n"
          ]
        }
      ],
      "source": [
        "under2_per = join_t2.loc[join_t2['PER'] <2] # per이 2보다 낮은 주식\n",
        "comp1112 = pd.merge(under2_per, jongmok_upjong2017, how='left',on = '종목코드')[['종목코드', '종목명_x', '업종명_x', 'PER', '종가_x', '업종PER','종가_y']]\n",
        "comp1112.columns = ['종목코드', '종목명', '업종명', 'PER', '종가', '업종PER','다음년도종가']\n",
        "comp1112['증가율'] = ((comp1112['다음년도종가']-comp1112['종가'])/comp1112['종가'])*100\n",
        "under2_per_returns.append(comp1112['증가율'].sum()/len(comp1112))\n",
        "print(comp1112['증가율'].sum()/len(comp1112)) # 평균 기대수익률"
      ]
    },
    {
      "cell_type": "code",
      "execution_count": null,
      "metadata": {
        "colab": {
          "base_uri": "https://localhost:8080/"
        },
        "id": "2fNItnZD8QCR",
        "outputId": "ca9854c4-d742-4072-eb63-8480af1bca4a"
      },
      "outputs": [
        {
          "name": "stdout",
          "output_type": "stream",
          "text": [
            "-4.339777682446451\n"
          ]
        }
      ],
      "source": [
        "upper10_per = join_t2.loc[join_t2['PER'] > 10] # per이 10보다 높은 주식\n",
        "comp1112 = pd.merge(upper10_per, jongmok_upjong2017, how='left',on = '종목코드')[['종목코드', '종목명_x', '업종명_x', 'PER', '종가_x', '업종PER','종가_y']]\n",
        "comp1112.columns = ['종목코드', '종목명', '업종명', 'PER', '종가', '업종PER','다음년도종가']\n",
        "comp1112['증가율'] = ((comp1112['다음년도종가']-comp1112['종가'])/comp1112['종가'])*100\n",
        "upper10_per_returns.append(comp1112['증가율'].sum()/len(comp1112))\n",
        "print(comp1112['증가율'].sum()/len(comp1112)) # 평균 기대수익률"
      ]
    },
    {
      "cell_type": "code",
      "execution_count": null,
      "metadata": {
        "colab": {
          "base_uri": "https://localhost:8080/"
        },
        "id": "zLYNnoLZ8QMC",
        "outputId": "82d90a1e-208d-4c91-a072-c770043b4f91"
      },
      "outputs": [
        {
          "name": "stdout",
          "output_type": "stream",
          "text": [
            "-0.48972332761779863\n"
          ]
        }
      ],
      "source": [
        "upper50_per = join_t2.loc[join_t2['PER'] > 50] # per이 50보다 높은 주식\n",
        "comp1112 = pd.merge(upper50_per, jongmok_upjong2017, how='left',on = '종목코드')[['종목코드', '종목명_x', '업종명_x', 'PER', '종가_x', '업종PER','종가_y']]\n",
        "comp1112.columns = ['종목코드', '종목명', '업종명', 'PER', '종가', '업종PER','다음년도종가']\n",
        "comp1112['증가율'] = ((comp1112['다음년도종가']-comp1112['종가'])/comp1112['종가'])*100\n",
        "upper50_per_returns.append(comp1112['증가율'].sum()/len(comp1112))\n",
        "print(comp1112['증가율'].sum()/len(comp1112)) # 평균 기대수익률"
      ]
    },
    {
      "cell_type": "code",
      "execution_count": null,
      "metadata": {
        "colab": {
          "base_uri": "https://localhost:8080/",
          "height": 206
        },
        "id": "N2v0q85IuVN5",
        "outputId": "df65df94-0207-4b4b-d6e1-2e4df541591a"
      },
      "outputs": [
        {
          "data": {
            "text/html": [
              "\n",
              "  <div id=\"df-a9e5011a-1de2-4931-9220-71560e9bb6a2\">\n",
              "    <div class=\"colab-df-container\">\n",
              "      <div>\n",
              "<style scoped>\n",
              "    .dataframe tbody tr th:only-of-type {\n",
              "        vertical-align: middle;\n",
              "    }\n",
              "\n",
              "    .dataframe tbody tr th {\n",
              "        vertical-align: top;\n",
              "    }\n",
              "\n",
              "    .dataframe thead th {\n",
              "        text-align: right;\n",
              "    }\n",
              "</style>\n",
              "<table border=\"1\" class=\"dataframe\">\n",
              "  <thead>\n",
              "    <tr style=\"text-align: right;\">\n",
              "      <th></th>\n",
              "      <th>증가율</th>\n",
              "    </tr>\n",
              "  </thead>\n",
              "  <tbody>\n",
              "    <tr>\n",
              "      <th>PER</th>\n",
              "      <td>0.030368</td>\n",
              "    </tr>\n",
              "    <tr>\n",
              "      <th>업종PER</th>\n",
              "      <td>-0.032399</td>\n",
              "    </tr>\n",
              "    <tr>\n",
              "      <th>종가</th>\n",
              "      <td>-0.143685</td>\n",
              "    </tr>\n",
              "    <tr>\n",
              "      <th>다음해종가</th>\n",
              "      <td>-0.018487</td>\n",
              "    </tr>\n",
              "    <tr>\n",
              "      <th>증가율</th>\n",
              "      <td>1.000000</td>\n",
              "    </tr>\n",
              "  </tbody>\n",
              "</table>\n",
              "</div>\n",
              "      <button class=\"colab-df-convert\" onclick=\"convertToInteractive('df-a9e5011a-1de2-4931-9220-71560e9bb6a2')\"\n",
              "              title=\"Convert this dataframe to an interactive table.\"\n",
              "              style=\"display:none;\">\n",
              "        \n",
              "  <svg xmlns=\"http://www.w3.org/2000/svg\" height=\"24px\"viewBox=\"0 0 24 24\"\n",
              "       width=\"24px\">\n",
              "    <path d=\"M0 0h24v24H0V0z\" fill=\"none\"/>\n",
              "    <path d=\"M18.56 5.44l.94 2.06.94-2.06 2.06-.94-2.06-.94-.94-2.06-.94 2.06-2.06.94zm-11 1L8.5 8.5l.94-2.06 2.06-.94-2.06-.94L8.5 2.5l-.94 2.06-2.06.94zm10 10l.94 2.06.94-2.06 2.06-.94-2.06-.94-.94-2.06-.94 2.06-2.06.94z\"/><path d=\"M17.41 7.96l-1.37-1.37c-.4-.4-.92-.59-1.43-.59-.52 0-1.04.2-1.43.59L10.3 9.45l-7.72 7.72c-.78.78-.78 2.05 0 2.83L4 21.41c.39.39.9.59 1.41.59.51 0 1.02-.2 1.41-.59l7.78-7.78 2.81-2.81c.8-.78.8-2.07 0-2.86zM5.41 20L4 18.59l7.72-7.72 1.47 1.35L5.41 20z\"/>\n",
              "  </svg>\n",
              "      </button>\n",
              "      \n",
              "  <style>\n",
              "    .colab-df-container {\n",
              "      display:flex;\n",
              "      flex-wrap:wrap;\n",
              "      gap: 12px;\n",
              "    }\n",
              "\n",
              "    .colab-df-convert {\n",
              "      background-color: #E8F0FE;\n",
              "      border: none;\n",
              "      border-radius: 50%;\n",
              "      cursor: pointer;\n",
              "      display: none;\n",
              "      fill: #1967D2;\n",
              "      height: 32px;\n",
              "      padding: 0 0 0 0;\n",
              "      width: 32px;\n",
              "    }\n",
              "\n",
              "    .colab-df-convert:hover {\n",
              "      background-color: #E2EBFA;\n",
              "      box-shadow: 0px 1px 2px rgba(60, 64, 67, 0.3), 0px 1px 3px 1px rgba(60, 64, 67, 0.15);\n",
              "      fill: #174EA6;\n",
              "    }\n",
              "\n",
              "    [theme=dark] .colab-df-convert {\n",
              "      background-color: #3B4455;\n",
              "      fill: #D2E3FC;\n",
              "    }\n",
              "\n",
              "    [theme=dark] .colab-df-convert:hover {\n",
              "      background-color: #434B5C;\n",
              "      box-shadow: 0px 1px 3px 1px rgba(0, 0, 0, 0.15);\n",
              "      filter: drop-shadow(0px 1px 2px rgba(0, 0, 0, 0.3));\n",
              "      fill: #FFFFFF;\n",
              "    }\n",
              "  </style>\n",
              "\n",
              "      <script>\n",
              "        const buttonEl =\n",
              "          document.querySelector('#df-a9e5011a-1de2-4931-9220-71560e9bb6a2 button.colab-df-convert');\n",
              "        buttonEl.style.display =\n",
              "          google.colab.kernel.accessAllowed ? 'block' : 'none';\n",
              "\n",
              "        async function convertToInteractive(key) {\n",
              "          const element = document.querySelector('#df-a9e5011a-1de2-4931-9220-71560e9bb6a2');\n",
              "          const dataTable =\n",
              "            await google.colab.kernel.invokeFunction('convertToInteractive',\n",
              "                                                     [key], {});\n",
              "          if (!dataTable) return;\n",
              "\n",
              "          const docLinkHtml = 'Like what you see? Visit the ' +\n",
              "            '<a target=\"_blank\" href=https://colab.research.google.com/notebooks/data_table.ipynb>data table notebook</a>'\n",
              "            + ' to learn more about interactive tables.';\n",
              "          element.innerHTML = '';\n",
              "          dataTable['output_type'] = 'display_data';\n",
              "          await google.colab.output.renderOutput(dataTable, element);\n",
              "          const docLink = document.createElement('div');\n",
              "          docLink.innerHTML = docLinkHtml;\n",
              "          element.appendChild(docLink);\n",
              "        }\n",
              "      </script>\n",
              "    </div>\n",
              "  </div>\n",
              "  "
            ],
            "text/plain": [
              "            증가율\n",
              "PER    0.030368\n",
              "업종PER -0.032399\n",
              "종가    -0.143685\n",
              "다음해종가 -0.018487\n",
              "증가율    1.000000"
            ]
          },
          "execution_count": 82,
          "metadata": {},
          "output_type": "execute_result"
        }
      ],
      "source": [
        "a = pd.merge(join_t2.sort_values('PER'), jongmok_upjong2017, how='left', on = '종목코드')[['종목코드', '종목명_x', '업종명_x', 'PER', '업종PER','종가_x','종가_y']]\n",
        "a.columns = ['종목코드', '종목명', '업종명', 'PER', '업종PER','종가','다음해종가']\n",
        "a['증가율'] = ((a['다음해종가']-a['종가'])/a['종가'])*100\n",
        "a = a.loc[~a['다음해종가'].isnull()]\n",
        "per_returns_corr_score = a.corr()['증가율'].to_frame()\n",
        "per_returns_corr.append(per_returns_corr_score.loc[(per_returns_corr_score.index=='PER')]['증가율'].values)\n",
        "per_returns_corr_score"
      ]
    },
    {
      "cell_type": "markdown",
      "metadata": {
        "id": "le0oyA2BMZuk"
      },
      "source": [
        "## 2017"
      ]
    },
    {
      "cell_type": "code",
      "execution_count": null,
      "metadata": {
        "id": "ovktoTU6MZul"
      },
      "outputs": [],
      "source": [
        "join_t1 = pd.merge(per_2017,jongmok_upjong2017,how='left',on='종목코드')[['종목코드','종목명_x','업종명','PER','종가']]\n",
        "join_t1.columns = ['종목코드','종목명','업종명','PER','종가']\n",
        "join_t2 = pd.merge(join_t1,upjong2017,how='left',on='업종명')"
      ]
    },
    {
      "cell_type": "code",
      "execution_count": null,
      "metadata": {
        "id": "njyd5PG-MZum"
      },
      "outputs": [],
      "source": [
        "join_t2['PER'] = join_t2['PER'].apply(lambda x : '0' if x=='-' else x)\n",
        "join_t2['PER'] = join_t2['PER'].astype(float)"
      ]
    },
    {
      "cell_type": "code",
      "execution_count": null,
      "metadata": {
        "colab": {
          "base_uri": "https://localhost:8080/"
        },
        "id": "iv0atJRyMZum",
        "outputId": "a0023684-b358-423e-9407-c300a4f8627c"
      },
      "outputs": [
        {
          "name": "stdout",
          "output_type": "stream",
          "text": [
            "전처리하기전 코스피종목 갯수 : 861\n"
          ]
        }
      ],
      "source": [
        "join_t2['업종PER'] = join_t2['업종PER'].apply(lambda x : '0' if x =='-' else x)\n",
        "join_t2['업종PER'] = join_t2['업종PER'].astype(float)\n",
        "print('전처리하기전 코스피종목 갯수 : {}'.format(len(join_t2)))"
      ]
    },
    {
      "cell_type": "code",
      "execution_count": null,
      "metadata": {
        "colab": {
          "base_uri": "https://localhost:8080/"
        },
        "id": "E1jOr6XJMZum",
        "outputId": "39927767-12fa-4980-aeb1-b5c77f0efc17"
      },
      "outputs": [
        {
          "name": "stdout",
          "output_type": "stream",
          "text": [
            "전처리한 후 코스피종목 갯수 : 546\n"
          ]
        }
      ],
      "source": [
        "join_t2 = join_t2.loc[~((join_t2['업종PER']==0) | (join_t2['PER']==0))] # PER이나 업종PER이 0인 종목을 제외한 종목\n",
        "print('전처리한 후 코스피종목 갯수 : {}'.format(len(join_t2)))"
      ]
    },
    {
      "cell_type": "code",
      "execution_count": null,
      "metadata": {
        "colab": {
          "base_uri": "https://localhost:8080/"
        },
        "id": "fOg7D5X1MZum",
        "outputId": "82d2d543-ed7d-4702-d875-21ec02c53034"
      },
      "outputs": [
        {
          "name": "stdout",
          "output_type": "stream",
          "text": [
            "0.6956351859726657\n"
          ]
        }
      ],
      "source": [
        "lower_upjong = join_t2.loc[join_t2['PER'] <join_t2['업종PER']] # 업종per보다 낮은 per주식\n",
        "comp1112 = pd.merge(lower_upjong, jongmok_upjong2018, how='left',on = '종목코드')[['종목코드', '종목명_x', '업종명_x', 'PER', '종가_x', '업종PER','종가_y']]\n",
        "comp1112.columns = ['종목코드', '종목명', '업종명', 'PER', '종가', '업종PER','다음년도종가']\n",
        "comp1112['증가율'] = ((comp1112['다음년도종가']-comp1112['종가'])/comp1112['종가'])*100\n",
        "lower_per_returns.append(comp1112['증가율'].sum()/len(comp1112))\n",
        "print(comp1112['증가율'].sum()/len(comp1112)) # 평균 기대수익률"
      ]
    },
    {
      "cell_type": "code",
      "execution_count": null,
      "metadata": {
        "colab": {
          "base_uri": "https://localhost:8080/"
        },
        "id": "m_2Jj1-8MZun",
        "outputId": "d07bcbd5-d9cc-4190-aaf4-a15626f4b614"
      },
      "outputs": [
        {
          "name": "stdout",
          "output_type": "stream",
          "text": [
            "6.730046454082523\n"
          ]
        }
      ],
      "source": [
        "over_upjong = join_t2.loc[join_t2['PER'] >join_t2['업종PER']] # 업종per보다 높은 per주식\n",
        "comp1112 = pd.merge(over_upjong, jongmok_upjong2018, how='left',on = '종목코드')[['종목코드', '종목명_x', '업종명_x', 'PER', '종가_x', '업종PER','종가_y']]\n",
        "comp1112.columns = ['종목코드', '종목명', '업종명', 'PER', '종가', '업종PER','다음년도종가']\n",
        "comp1112['증가율'] = ((comp1112['다음년도종가']-comp1112['종가'])/comp1112['종가'])*100\n",
        "upper_per_returns.append(comp1112['증가율'].sum()/len(comp1112))\n",
        "print(comp1112['증가율'].sum()/len(comp1112)) # 평균 기대수익률"
      ]
    },
    {
      "cell_type": "code",
      "execution_count": null,
      "metadata": {
        "colab": {
          "base_uri": "https://localhost:8080/"
        },
        "id": "1yDC2VNQMZun",
        "outputId": "836c0907-a4b9-44de-f48b-64aa35e0c7a2"
      },
      "outputs": [
        {
          "name": "stdout",
          "output_type": "stream",
          "text": [
            "3.0858821474118465\n"
          ]
        }
      ],
      "source": [
        "under5_upjong = join_t2.loc[join_t2['PER'] <5] # per이 5보다 낮은 주식\n",
        "comp1112 = pd.merge(under5_upjong, jongmok_upjong2018, how='left',on = '종목코드')[['종목코드', '종목명_x', '업종명_x', 'PER', '종가_x', '업종PER','종가_y']]\n",
        "comp1112.columns = ['종목코드', '종목명', '업종명', 'PER', '종가', '업종PER','다음년도종가']\n",
        "comp1112['증가율'] = ((comp1112['다음년도종가']-comp1112['종가'])/comp1112['종가'])*100\n",
        "under5_per_returns.append(comp1112['증가율'].sum()/len(comp1112))\n",
        "print(comp1112['증가율'].sum()/len(comp1112)) # 평균 기대수익률"
      ]
    },
    {
      "cell_type": "code",
      "execution_count": null,
      "metadata": {
        "colab": {
          "base_uri": "https://localhost:8080/"
        },
        "id": "_s0aL9k1XLYN",
        "outputId": "68e92f6b-6bd7-40fd-9c8c-dc7ffd098a52"
      },
      "outputs": [
        {
          "name": "stdout",
          "output_type": "stream",
          "text": [
            "3.374405575420916\n"
          ]
        }
      ],
      "source": [
        "upper5_upjong = join_t2.loc[join_t2['PER'] >5] # per이 5보다 높은 주식\n",
        "comp1112 = pd.merge(upper5_upjong, jongmok_upjong2018, how='left',on = '종목코드')[['종목코드', '종목명_x', '업종명_x', 'PER', '종가_x', '업종PER','종가_y']]\n",
        "comp1112.columns = ['종목코드', '종목명', '업종명', 'PER', '종가', '업종PER','다음년도종가']\n",
        "comp1112['증가율'] = ((comp1112['다음년도종가']-comp1112['종가'])/comp1112['종가'])*100\n",
        "upper5_per_returns.append(comp1112['증가율'].sum()/len(comp1112))\n",
        "print(comp1112['증가율'].sum()/len(comp1112)) # 평균 기대수익률"
      ]
    },
    {
      "cell_type": "code",
      "execution_count": null,
      "metadata": {
        "colab": {
          "base_uri": "https://localhost:8080/"
        },
        "id": "mry05uK18tGh",
        "outputId": "068fdd91-8ea1-4cc0-c677-88ec435c4b9e"
      },
      "outputs": [
        {
          "name": "stdout",
          "output_type": "stream",
          "text": [
            "-13.63445687899344\n"
          ]
        }
      ],
      "source": [
        "under2_per = join_t2.loc[join_t2['PER'] <2] # per이 2보다 낮은 주식\n",
        "comp1112 = pd.merge(under2_per, jongmok_upjong2018, how='left',on = '종목코드')[['종목코드', '종목명_x', '업종명_x', 'PER', '종가_x', '업종PER','종가_y']]\n",
        "comp1112.columns = ['종목코드', '종목명', '업종명', 'PER', '종가', '업종PER','다음년도종가']\n",
        "comp1112['증가율'] = ((comp1112['다음년도종가']-comp1112['종가'])/comp1112['종가'])*100\n",
        "under2_per_returns.append(comp1112['증가율'].sum()/len(comp1112))\n",
        "print(comp1112['증가율'].sum()/len(comp1112)) # 평균 기대수익률"
      ]
    },
    {
      "cell_type": "code",
      "execution_count": null,
      "metadata": {
        "colab": {
          "base_uri": "https://localhost:8080/"
        },
        "id": "AaOVaXQm8upC",
        "outputId": "2fdb1c81-c267-46b7-a7e8-d68c4ff88fdc"
      },
      "outputs": [
        {
          "name": "stdout",
          "output_type": "stream",
          "text": [
            "3.2243508240889525\n"
          ]
        }
      ],
      "source": [
        "upper10_per = join_t2.loc[join_t2['PER'] > 10] # per이 10보다 높은 주식\n",
        "comp1112 = pd.merge(upper10_per, jongmok_upjong2018, how='left',on = '종목코드')[['종목코드', '종목명_x', '업종명_x', 'PER', '종가_x', '업종PER','종가_y']]\n",
        "comp1112.columns = ['종목코드', '종목명', '업종명', 'PER', '종가', '업종PER','다음년도종가']\n",
        "comp1112['증가율'] = ((comp1112['다음년도종가']-comp1112['종가'])/comp1112['종가'])*100\n",
        "upper10_per_returns.append(comp1112['증가율'].sum()/len(comp1112))\n",
        "print(comp1112['증가율'].sum()/len(comp1112)) # 평균 기대수익률"
      ]
    },
    {
      "cell_type": "code",
      "execution_count": null,
      "metadata": {
        "colab": {
          "base_uri": "https://localhost:8080/"
        },
        "id": "_hQq4Dk98yax",
        "outputId": "92a12d32-a351-4477-c93a-a781d6404279"
      },
      "outputs": [
        {
          "name": "stdout",
          "output_type": "stream",
          "text": [
            "2.985909570117709\n"
          ]
        }
      ],
      "source": [
        "upper50_per = join_t2.loc[join_t2['PER'] > 50] # per이 50보다 높은 주식\n",
        "comp1112 = pd.merge(upper50_per, jongmok_upjong2018, how='left',on = '종목코드')[['종목코드', '종목명_x', '업종명_x', 'PER', '종가_x', '업종PER','종가_y']]\n",
        "comp1112.columns = ['종목코드', '종목명', '업종명', 'PER', '종가', '업종PER','다음년도종가']\n",
        "comp1112['증가율'] = ((comp1112['다음년도종가']-comp1112['종가'])/comp1112['종가'])*100\n",
        "upper50_per_returns.append(comp1112['증가율'].sum()/len(comp1112))\n",
        "print(comp1112['증가율'].sum()/len(comp1112)) # 평균 기대수익률"
      ]
    },
    {
      "cell_type": "code",
      "execution_count": null,
      "metadata": {
        "colab": {
          "base_uri": "https://localhost:8080/",
          "height": 206
        },
        "id": "oPrQ0PnTubyu",
        "outputId": "9e3c6c4a-89c4-4fb4-b8b4-6a5ea7492c34"
      },
      "outputs": [
        {
          "data": {
            "text/html": [
              "\n",
              "  <div id=\"df-4ea9dee3-adef-4746-839a-3999f3a516d7\">\n",
              "    <div class=\"colab-df-container\">\n",
              "      <div>\n",
              "<style scoped>\n",
              "    .dataframe tbody tr th:only-of-type {\n",
              "        vertical-align: middle;\n",
              "    }\n",
              "\n",
              "    .dataframe tbody tr th {\n",
              "        vertical-align: top;\n",
              "    }\n",
              "\n",
              "    .dataframe thead th {\n",
              "        text-align: right;\n",
              "    }\n",
              "</style>\n",
              "<table border=\"1\" class=\"dataframe\">\n",
              "  <thead>\n",
              "    <tr style=\"text-align: right;\">\n",
              "      <th></th>\n",
              "      <th>증가율</th>\n",
              "    </tr>\n",
              "  </thead>\n",
              "  <tbody>\n",
              "    <tr>\n",
              "      <th>PER</th>\n",
              "      <td>-0.008191</td>\n",
              "    </tr>\n",
              "    <tr>\n",
              "      <th>업종PER</th>\n",
              "      <td>-0.113499</td>\n",
              "    </tr>\n",
              "    <tr>\n",
              "      <th>종가</th>\n",
              "      <td>0.052926</td>\n",
              "    </tr>\n",
              "    <tr>\n",
              "      <th>다음해종가</th>\n",
              "      <td>0.178212</td>\n",
              "    </tr>\n",
              "    <tr>\n",
              "      <th>증가율</th>\n",
              "      <td>1.000000</td>\n",
              "    </tr>\n",
              "  </tbody>\n",
              "</table>\n",
              "</div>\n",
              "      <button class=\"colab-df-convert\" onclick=\"convertToInteractive('df-4ea9dee3-adef-4746-839a-3999f3a516d7')\"\n",
              "              title=\"Convert this dataframe to an interactive table.\"\n",
              "              style=\"display:none;\">\n",
              "        \n",
              "  <svg xmlns=\"http://www.w3.org/2000/svg\" height=\"24px\"viewBox=\"0 0 24 24\"\n",
              "       width=\"24px\">\n",
              "    <path d=\"M0 0h24v24H0V0z\" fill=\"none\"/>\n",
              "    <path d=\"M18.56 5.44l.94 2.06.94-2.06 2.06-.94-2.06-.94-.94-2.06-.94 2.06-2.06.94zm-11 1L8.5 8.5l.94-2.06 2.06-.94-2.06-.94L8.5 2.5l-.94 2.06-2.06.94zm10 10l.94 2.06.94-2.06 2.06-.94-2.06-.94-.94-2.06-.94 2.06-2.06.94z\"/><path d=\"M17.41 7.96l-1.37-1.37c-.4-.4-.92-.59-1.43-.59-.52 0-1.04.2-1.43.59L10.3 9.45l-7.72 7.72c-.78.78-.78 2.05 0 2.83L4 21.41c.39.39.9.59 1.41.59.51 0 1.02-.2 1.41-.59l7.78-7.78 2.81-2.81c.8-.78.8-2.07 0-2.86zM5.41 20L4 18.59l7.72-7.72 1.47 1.35L5.41 20z\"/>\n",
              "  </svg>\n",
              "      </button>\n",
              "      \n",
              "  <style>\n",
              "    .colab-df-container {\n",
              "      display:flex;\n",
              "      flex-wrap:wrap;\n",
              "      gap: 12px;\n",
              "    }\n",
              "\n",
              "    .colab-df-convert {\n",
              "      background-color: #E8F0FE;\n",
              "      border: none;\n",
              "      border-radius: 50%;\n",
              "      cursor: pointer;\n",
              "      display: none;\n",
              "      fill: #1967D2;\n",
              "      height: 32px;\n",
              "      padding: 0 0 0 0;\n",
              "      width: 32px;\n",
              "    }\n",
              "\n",
              "    .colab-df-convert:hover {\n",
              "      background-color: #E2EBFA;\n",
              "      box-shadow: 0px 1px 2px rgba(60, 64, 67, 0.3), 0px 1px 3px 1px rgba(60, 64, 67, 0.15);\n",
              "      fill: #174EA6;\n",
              "    }\n",
              "\n",
              "    [theme=dark] .colab-df-convert {\n",
              "      background-color: #3B4455;\n",
              "      fill: #D2E3FC;\n",
              "    }\n",
              "\n",
              "    [theme=dark] .colab-df-convert:hover {\n",
              "      background-color: #434B5C;\n",
              "      box-shadow: 0px 1px 3px 1px rgba(0, 0, 0, 0.15);\n",
              "      filter: drop-shadow(0px 1px 2px rgba(0, 0, 0, 0.3));\n",
              "      fill: #FFFFFF;\n",
              "    }\n",
              "  </style>\n",
              "\n",
              "      <script>\n",
              "        const buttonEl =\n",
              "          document.querySelector('#df-4ea9dee3-adef-4746-839a-3999f3a516d7 button.colab-df-convert');\n",
              "        buttonEl.style.display =\n",
              "          google.colab.kernel.accessAllowed ? 'block' : 'none';\n",
              "\n",
              "        async function convertToInteractive(key) {\n",
              "          const element = document.querySelector('#df-4ea9dee3-adef-4746-839a-3999f3a516d7');\n",
              "          const dataTable =\n",
              "            await google.colab.kernel.invokeFunction('convertToInteractive',\n",
              "                                                     [key], {});\n",
              "          if (!dataTable) return;\n",
              "\n",
              "          const docLinkHtml = 'Like what you see? Visit the ' +\n",
              "            '<a target=\"_blank\" href=https://colab.research.google.com/notebooks/data_table.ipynb>data table notebook</a>'\n",
              "            + ' to learn more about interactive tables.';\n",
              "          element.innerHTML = '';\n",
              "          dataTable['output_type'] = 'display_data';\n",
              "          await google.colab.output.renderOutput(dataTable, element);\n",
              "          const docLink = document.createElement('div');\n",
              "          docLink.innerHTML = docLinkHtml;\n",
              "          element.appendChild(docLink);\n",
              "        }\n",
              "      </script>\n",
              "    </div>\n",
              "  </div>\n",
              "  "
            ],
            "text/plain": [
              "            증가율\n",
              "PER   -0.008191\n",
              "업종PER -0.113499\n",
              "종가     0.052926\n",
              "다음해종가  0.178212\n",
              "증가율    1.000000"
            ]
          },
          "execution_count": 206,
          "metadata": {},
          "output_type": "execute_result"
        }
      ],
      "source": [
        "a = pd.merge(join_t2.sort_values('PER'), jongmok_upjong2018, how='left', on = '종목코드')[['종목코드', '종목명_x', '업종명_x', 'PER', '업종PER','종가_x','종가_y']]\n",
        "a.columns = ['종목코드', '종목명', '업종명', 'PER', '업종PER','종가','다음해종가']\n",
        "a['증가율'] = ((a['다음해종가']-a['종가'])/a['종가'])*100\n",
        "a = a.loc[~a['다음해종가'].isnull()]\n",
        "per_returns_corr_score = a.corr()['증가율'].to_frame()\n",
        "per_returns_corr.append(per_returns_corr_score.loc[(per_returns_corr_score.index=='PER')]['증가율'].values)\n",
        "per_returns_corr_score"
      ]
    },
    {
      "cell_type": "code",
      "execution_count": null,
      "metadata": {
        "id": "uk6sxT-SPj0v"
      },
      "outputs": [],
      "source": [
        "per_return_corr = a.sort_values('PER')[['PER','증가율']]\n",
        "per_return_corr.to_excel('per_return_corr_2017.xlsx')"
      ]
    },
    {
      "cell_type": "markdown",
      "metadata": {
        "id": "C4ddHIEzMkpC"
      },
      "source": [
        "## 2018"
      ]
    },
    {
      "cell_type": "code",
      "execution_count": null,
      "metadata": {
        "id": "5D6DRpLMMkpC"
      },
      "outputs": [],
      "source": [
        "join_t1 = pd.merge(per_2018,jongmok_upjong2018,how='left',on='종목코드')[['종목코드','종목명_x','업종명','PER','종가']]\n",
        "join_t1.columns = ['종목코드','종목명','업종명','PER','종가']\n",
        "join_t2 = pd.merge(join_t1,upjong2018,how='left',on='업종명')"
      ]
    },
    {
      "cell_type": "code",
      "execution_count": null,
      "metadata": {
        "id": "Phyhd3_4MkpD"
      },
      "outputs": [],
      "source": [
        "join_t2['PER'] = join_t2['PER'].apply(lambda x : '0' if x=='-' else x)\n",
        "join_t2['PER'] = join_t2['PER'].astype(float)"
      ]
    },
    {
      "cell_type": "code",
      "execution_count": null,
      "metadata": {
        "colab": {
          "base_uri": "https://localhost:8080/"
        },
        "id": "3iT0fNkZMkpF",
        "outputId": "fb5ddad7-5693-45db-ee3f-cff0c7e31957"
      },
      "outputs": [
        {
          "name": "stdout",
          "output_type": "stream",
          "text": [
            "전처리하기전 코스피종목 갯수 : 869\n"
          ]
        }
      ],
      "source": [
        "join_t2['업종PER'] = join_t2['업종PER'].apply(lambda x : '0' if x =='-' else x)\n",
        "join_t2['업종PER'] = join_t2['업종PER'].astype(float)\n",
        "print('전처리하기전 코스피종목 갯수 : {}'.format(len(join_t2)))"
      ]
    },
    {
      "cell_type": "code",
      "execution_count": null,
      "metadata": {
        "colab": {
          "base_uri": "https://localhost:8080/"
        },
        "id": "SVeZftl8MkpF",
        "outputId": "328563b3-e382-49d1-99d3-015762f3f687"
      },
      "outputs": [
        {
          "name": "stdout",
          "output_type": "stream",
          "text": [
            "전처리한 후 코스피종목 갯수 : 592\n"
          ]
        }
      ],
      "source": [
        "join_t2 = join_t2.loc[~((join_t2['업종PER']==0) | (join_t2['PER']==0))] # PER이나 업종PER이 0인 종목을 제외한 종목\n",
        "print('전처리한 후 코스피종목 갯수 : {}'.format(len(join_t2)))"
      ]
    },
    {
      "cell_type": "code",
      "execution_count": null,
      "metadata": {
        "colab": {
          "base_uri": "https://localhost:8080/"
        },
        "id": "MT-ybFJlMkpF",
        "outputId": "a7fdcb4b-e76f-4aaf-95e2-5693fc88a736"
      },
      "outputs": [
        {
          "name": "stdout",
          "output_type": "stream",
          "text": [
            "-11.763422980142725\n"
          ]
        }
      ],
      "source": [
        "lower_upjong = join_t2.loc[join_t2['PER'] <join_t2['업종PER']] # 업종per보다 낮은 per주식\n",
        "comp1112 = pd.merge(lower_upjong, jongmok_upjong2019, how='left',on = '종목코드')[['종목코드', '종목명_x', '업종명_x', 'PER', '종가_x', '업종PER','종가_y']]\n",
        "comp1112.columns = ['종목코드', '종목명', '업종명', 'PER', '종가', '업종PER','다음년도종가']\n",
        "comp1112['증가율'] = ((comp1112['다음년도종가']-comp1112['종가'])/comp1112['종가'])*100\n",
        "lower_per_returns.append(comp1112['증가율'].sum()/len(comp1112))\n",
        "print(comp1112['증가율'].sum()/len(comp1112)) # 평균 기대수익률"
      ]
    },
    {
      "cell_type": "code",
      "execution_count": null,
      "metadata": {
        "colab": {
          "base_uri": "https://localhost:8080/"
        },
        "id": "hQwBeV8MMkpF",
        "outputId": "243b2568-af97-4416-dc91-4fef1650ecd5"
      },
      "outputs": [
        {
          "name": "stdout",
          "output_type": "stream",
          "text": [
            "-8.303079915099804\n"
          ]
        }
      ],
      "source": [
        "over_upjong = join_t2.loc[join_t2['PER'] >join_t2['업종PER']] # 업종per보다 높은 per주식\n",
        "comp1112 = pd.merge(over_upjong, jongmok_upjong2019, how='left',on = '종목코드')[['종목코드', '종목명_x', '업종명_x', 'PER', '종가_x', '업종PER','종가_y']]\n",
        "comp1112.columns = ['종목코드', '종목명', '업종명', 'PER', '종가', '업종PER','다음년도종가']\n",
        "comp1112['증가율'] = ((comp1112['다음년도종가']-comp1112['종가'])/comp1112['종가'])*100\n",
        "upper_per_returns.append(comp1112['증가율'].sum()/len(comp1112))\n",
        "print(comp1112['증가율'].sum()/len(comp1112)) # 평균 기대수익률"
      ]
    },
    {
      "cell_type": "code",
      "execution_count": null,
      "metadata": {
        "colab": {
          "base_uri": "https://localhost:8080/"
        },
        "id": "_FOzmzlOMkpF",
        "outputId": "99606fdb-3033-4ca7-e438-db5b6e2303de"
      },
      "outputs": [
        {
          "name": "stdout",
          "output_type": "stream",
          "text": [
            "-15.443632030794197\n"
          ]
        }
      ],
      "source": [
        "under5_upjong = join_t2.loc[join_t2['PER'] <5] # per이 5보다 낮은 주식\n",
        "comp1112 = pd.merge(under5_upjong, jongmok_upjong2019, how='left',on = '종목코드')[['종목코드', '종목명_x', '업종명_x', 'PER', '종가_x', '업종PER','종가_y']]\n",
        "comp1112.columns = ['종목코드', '종목명', '업종명', 'PER', '종가', '업종PER','다음년도종가']\n",
        "comp1112['증가율'] = ((comp1112['다음년도종가']-comp1112['종가'])/comp1112['종가'])*100\n",
        "under5_per_returns.append(comp1112['증가율'].sum()/len(comp1112))\n",
        "print(comp1112['증가율'].sum()/len(comp1112)) # 평균 기대수익률"
      ]
    },
    {
      "cell_type": "code",
      "execution_count": null,
      "metadata": {
        "colab": {
          "base_uri": "https://localhost:8080/"
        },
        "id": "nlecctR9XStZ",
        "outputId": "8952cd1e-3944-4402-d8b2-2d875d00ae28"
      },
      "outputs": [
        {
          "name": "stdout",
          "output_type": "stream",
          "text": [
            "-11.40420608826911\n"
          ]
        }
      ],
      "source": [
        "upper5_upjong = join_t2.loc[join_t2['PER'] >5] # per이 5보다 낮은 주식\n",
        "comp1112 = pd.merge(upper5_upjong, jongmok_upjong2019, how='left',on = '종목코드')[['종목코드', '종목명_x', '업종명_x', 'PER', '종가_x', '업종PER','종가_y']]\n",
        "comp1112.columns = ['종목코드', '종목명', '업종명', 'PER', '종가', '업종PER','다음년도종가']\n",
        "comp1112['증가율'] = ((comp1112['다음년도종가']-comp1112['종가'])/comp1112['종가'])*100\n",
        "upper5_per_returns.append(comp1112['증가율'].sum()/len(comp1112))\n",
        "print(comp1112['증가율'].sum()/len(comp1112)) # 평균 기대수익률"
      ]
    },
    {
      "cell_type": "code",
      "execution_count": null,
      "metadata": {
        "colab": {
          "base_uri": "https://localhost:8080/"
        },
        "id": "DUHCKtvW9Kjd",
        "outputId": "68002f81-71d2-4a65-b53c-40a46d7b125a"
      },
      "outputs": [
        {
          "name": "stdout",
          "output_type": "stream",
          "text": [
            "-5.990935973309195\n"
          ]
        }
      ],
      "source": [
        "under2_per = join_t2.loc[join_t2['PER'] <2] # per이 2보다 낮은 주식\n",
        "comp1112 = pd.merge(under2_per, jongmok_upjong2019, how='left',on = '종목코드')[['종목코드', '종목명_x', '업종명_x', 'PER', '종가_x', '업종PER','종가_y']]\n",
        "comp1112.columns = ['종목코드', '종목명', '업종명', 'PER', '종가', '업종PER','다음년도종가']\n",
        "comp1112['증가율'] = ((comp1112['다음년도종가']-comp1112['종가'])/comp1112['종가'])*100\n",
        "under2_per_returns.append(comp1112['증가율'].sum()/len(comp1112))\n",
        "print(comp1112['증가율'].sum()/len(comp1112)) # 평균 기대수익률"
      ]
    },
    {
      "cell_type": "code",
      "execution_count": null,
      "metadata": {
        "colab": {
          "base_uri": "https://localhost:8080/"
        },
        "id": "TiBV1rEM9Mb8",
        "outputId": "842c2b3e-c064-4e70-b9e2-c097c2ea0b0c"
      },
      "outputs": [
        {
          "name": "stdout",
          "output_type": "stream",
          "text": [
            "-12.114436183504704\n"
          ]
        }
      ],
      "source": [
        "upper10_per = join_t2.loc[join_t2['PER'] > 10] # per이 10보다 높은 주식\n",
        "comp1112 = pd.merge(upper10_per, jongmok_upjong2019, how='left',on = '종목코드')[['종목코드', '종목명_x', '업종명_x', 'PER', '종가_x', '업종PER','종가_y']]\n",
        "comp1112.columns = ['종목코드', '종목명', '업종명', 'PER', '종가', '업종PER','다음년도종가']\n",
        "comp1112['증가율'] = ((comp1112['다음년도종가']-comp1112['종가'])/comp1112['종가'])*100\n",
        "upper10_per_returns.append(comp1112['증가율'].sum()/len(comp1112))\n",
        "print(comp1112['증가율'].sum()/len(comp1112)) # 평균 기대수익률"
      ]
    },
    {
      "cell_type": "code",
      "execution_count": null,
      "metadata": {
        "colab": {
          "base_uri": "https://localhost:8080/"
        },
        "id": "49CierVU9N4K",
        "outputId": "38186bee-f818-4806-a303-9b1f64bebfbc"
      },
      "outputs": [
        {
          "name": "stdout",
          "output_type": "stream",
          "text": [
            "-7.539355612914269\n"
          ]
        }
      ],
      "source": [
        "upper50_per = join_t2.loc[join_t2['PER'] > 50] # per이 50보다 높은 주식\n",
        "comp1112 = pd.merge(upper50_per, jongmok_upjong2019, how='left',on = '종목코드')[['종목코드', '종목명_x', '업종명_x', 'PER', '종가_x', '업종PER','종가_y']]\n",
        "comp1112.columns = ['종목코드', '종목명', '업종명', 'PER', '종가', '업종PER','다음년도종가']\n",
        "comp1112['증가율'] = ((comp1112['다음년도종가']-comp1112['종가'])/comp1112['종가'])*100\n",
        "upper50_per_returns.append(comp1112['증가율'].sum()/len(comp1112))\n",
        "print(comp1112['증가율'].sum()/len(comp1112)) # 평균 기대수익률"
      ]
    },
    {
      "cell_type": "code",
      "execution_count": null,
      "metadata": {
        "colab": {
          "base_uri": "https://localhost:8080/",
          "height": 206
        },
        "id": "8pDZFe25uhKd",
        "outputId": "5c15e5be-b9fd-4d3f-f923-e621f6f528e7"
      },
      "outputs": [
        {
          "data": {
            "text/html": [
              "\n",
              "  <div id=\"df-e2ce3356-9b7b-4e15-82e1-043a6583a03a\">\n",
              "    <div class=\"colab-df-container\">\n",
              "      <div>\n",
              "<style scoped>\n",
              "    .dataframe tbody tr th:only-of-type {\n",
              "        vertical-align: middle;\n",
              "    }\n",
              "\n",
              "    .dataframe tbody tr th {\n",
              "        vertical-align: top;\n",
              "    }\n",
              "\n",
              "    .dataframe thead th {\n",
              "        text-align: right;\n",
              "    }\n",
              "</style>\n",
              "<table border=\"1\" class=\"dataframe\">\n",
              "  <thead>\n",
              "    <tr style=\"text-align: right;\">\n",
              "      <th></th>\n",
              "      <th>증가율</th>\n",
              "    </tr>\n",
              "  </thead>\n",
              "  <tbody>\n",
              "    <tr>\n",
              "      <th>PER</th>\n",
              "      <td>0.003788</td>\n",
              "    </tr>\n",
              "    <tr>\n",
              "      <th>업종PER</th>\n",
              "      <td>0.073466</td>\n",
              "    </tr>\n",
              "    <tr>\n",
              "      <th>종가</th>\n",
              "      <td>-0.117195</td>\n",
              "    </tr>\n",
              "    <tr>\n",
              "      <th>다음해종가</th>\n",
              "      <td>0.031222</td>\n",
              "    </tr>\n",
              "    <tr>\n",
              "      <th>증가율</th>\n",
              "      <td>1.000000</td>\n",
              "    </tr>\n",
              "  </tbody>\n",
              "</table>\n",
              "</div>\n",
              "      <button class=\"colab-df-convert\" onclick=\"convertToInteractive('df-e2ce3356-9b7b-4e15-82e1-043a6583a03a')\"\n",
              "              title=\"Convert this dataframe to an interactive table.\"\n",
              "              style=\"display:none;\">\n",
              "        \n",
              "  <svg xmlns=\"http://www.w3.org/2000/svg\" height=\"24px\"viewBox=\"0 0 24 24\"\n",
              "       width=\"24px\">\n",
              "    <path d=\"M0 0h24v24H0V0z\" fill=\"none\"/>\n",
              "    <path d=\"M18.56 5.44l.94 2.06.94-2.06 2.06-.94-2.06-.94-.94-2.06-.94 2.06-2.06.94zm-11 1L8.5 8.5l.94-2.06 2.06-.94-2.06-.94L8.5 2.5l-.94 2.06-2.06.94zm10 10l.94 2.06.94-2.06 2.06-.94-2.06-.94-.94-2.06-.94 2.06-2.06.94z\"/><path d=\"M17.41 7.96l-1.37-1.37c-.4-.4-.92-.59-1.43-.59-.52 0-1.04.2-1.43.59L10.3 9.45l-7.72 7.72c-.78.78-.78 2.05 0 2.83L4 21.41c.39.39.9.59 1.41.59.51 0 1.02-.2 1.41-.59l7.78-7.78 2.81-2.81c.8-.78.8-2.07 0-2.86zM5.41 20L4 18.59l7.72-7.72 1.47 1.35L5.41 20z\"/>\n",
              "  </svg>\n",
              "      </button>\n",
              "      \n",
              "  <style>\n",
              "    .colab-df-container {\n",
              "      display:flex;\n",
              "      flex-wrap:wrap;\n",
              "      gap: 12px;\n",
              "    }\n",
              "\n",
              "    .colab-df-convert {\n",
              "      background-color: #E8F0FE;\n",
              "      border: none;\n",
              "      border-radius: 50%;\n",
              "      cursor: pointer;\n",
              "      display: none;\n",
              "      fill: #1967D2;\n",
              "      height: 32px;\n",
              "      padding: 0 0 0 0;\n",
              "      width: 32px;\n",
              "    }\n",
              "\n",
              "    .colab-df-convert:hover {\n",
              "      background-color: #E2EBFA;\n",
              "      box-shadow: 0px 1px 2px rgba(60, 64, 67, 0.3), 0px 1px 3px 1px rgba(60, 64, 67, 0.15);\n",
              "      fill: #174EA6;\n",
              "    }\n",
              "\n",
              "    [theme=dark] .colab-df-convert {\n",
              "      background-color: #3B4455;\n",
              "      fill: #D2E3FC;\n",
              "    }\n",
              "\n",
              "    [theme=dark] .colab-df-convert:hover {\n",
              "      background-color: #434B5C;\n",
              "      box-shadow: 0px 1px 3px 1px rgba(0, 0, 0, 0.15);\n",
              "      filter: drop-shadow(0px 1px 2px rgba(0, 0, 0, 0.3));\n",
              "      fill: #FFFFFF;\n",
              "    }\n",
              "  </style>\n",
              "\n",
              "      <script>\n",
              "        const buttonEl =\n",
              "          document.querySelector('#df-e2ce3356-9b7b-4e15-82e1-043a6583a03a button.colab-df-convert');\n",
              "        buttonEl.style.display =\n",
              "          google.colab.kernel.accessAllowed ? 'block' : 'none';\n",
              "\n",
              "        async function convertToInteractive(key) {\n",
              "          const element = document.querySelector('#df-e2ce3356-9b7b-4e15-82e1-043a6583a03a');\n",
              "          const dataTable =\n",
              "            await google.colab.kernel.invokeFunction('convertToInteractive',\n",
              "                                                     [key], {});\n",
              "          if (!dataTable) return;\n",
              "\n",
              "          const docLinkHtml = 'Like what you see? Visit the ' +\n",
              "            '<a target=\"_blank\" href=https://colab.research.google.com/notebooks/data_table.ipynb>data table notebook</a>'\n",
              "            + ' to learn more about interactive tables.';\n",
              "          element.innerHTML = '';\n",
              "          dataTable['output_type'] = 'display_data';\n",
              "          await google.colab.output.renderOutput(dataTable, element);\n",
              "          const docLink = document.createElement('div');\n",
              "          docLink.innerHTML = docLinkHtml;\n",
              "          element.appendChild(docLink);\n",
              "        }\n",
              "      </script>\n",
              "    </div>\n",
              "  </div>\n",
              "  "
            ],
            "text/plain": [
              "            증가율\n",
              "PER    0.003788\n",
              "업종PER  0.073466\n",
              "종가    -0.117195\n",
              "다음해종가  0.031222\n",
              "증가율    1.000000"
            ]
          },
          "execution_count": 193,
          "metadata": {},
          "output_type": "execute_result"
        }
      ],
      "source": [
        "a = pd.merge(join_t2.sort_values('PER'), jongmok_upjong2019, how='left', on = '종목코드')[['종목코드', '종목명_x', '업종명_x', 'PER', '업종PER','종가_x','종가_y']]\n",
        "a.columns = ['종목코드', '종목명', '업종명', 'PER', '업종PER','종가','다음해종가']\n",
        "a['증가율'] = ((a['다음해종가']-a['종가'])/a['종가'])*100\n",
        "a = a.loc[~a['다음해종가'].isnull()]\n",
        "per_returns_corr_score = a.corr()['증가율'].to_frame()\n",
        "per_returns_corr.append(per_returns_corr_score.loc[(per_returns_corr_score.index=='PER')]['증가율'].values)\n",
        "per_returns_corr_score"
      ]
    },
    {
      "cell_type": "code",
      "execution_count": null,
      "metadata": {
        "id": "bY09bWVoPf7W"
      },
      "outputs": [],
      "source": [
        "per_return_corr = a.sort_values('PER')[['PER','증가율']]\n",
        "per_return_corr.to_excel('per_return_corr_2018.xlsx')"
      ]
    },
    {
      "cell_type": "markdown",
      "metadata": {
        "id": "U6hPQtB1Nvvt"
      },
      "source": [
        "## 2019"
      ]
    },
    {
      "cell_type": "code",
      "execution_count": null,
      "metadata": {
        "id": "W7ufhds8Nvvu"
      },
      "outputs": [],
      "source": [
        "join_t1 = pd.merge(per_2019,jongmok_upjong2019,how='left',on='종목코드')[['종목코드','종목명_x','업종명','PER','종가']]\n",
        "join_t1.columns = ['종목코드','종목명','업종명','PER','종가']\n",
        "join_t2 = pd.merge(join_t1,upjong2019,how='left',on='업종명')"
      ]
    },
    {
      "cell_type": "code",
      "execution_count": null,
      "metadata": {
        "id": "CewNaVRuNvvu"
      },
      "outputs": [],
      "source": [
        "join_t2['PER'] = join_t2['PER'].apply(lambda x : '0' if x=='-' else x)\n",
        "join_t2['PER'] = join_t2['PER'].astype(float)"
      ]
    },
    {
      "cell_type": "code",
      "execution_count": null,
      "metadata": {
        "colab": {
          "base_uri": "https://localhost:8080/"
        },
        "id": "iawTETKYNvvu",
        "outputId": "299def8f-9dd6-4a88-893f-0c945b5b4679"
      },
      "outputs": [
        {
          "name": "stdout",
          "output_type": "stream",
          "text": [
            "전처리하기전 코스피종목 갯수 : 881\n"
          ]
        }
      ],
      "source": [
        "join_t2['업종PER'] = join_t2['업종PER'].apply(lambda x : '0' if x =='-' else x)\n",
        "join_t2['업종PER'] = join_t2['업종PER'].astype(float)\n",
        "print('전처리하기전 코스피종목 갯수 : {}'.format(len(join_t2)))"
      ]
    },
    {
      "cell_type": "code",
      "execution_count": null,
      "metadata": {
        "colab": {
          "base_uri": "https://localhost:8080/"
        },
        "id": "Hsv7sHKyNvvu",
        "outputId": "70fe5e89-5426-4e74-962f-62fe138e00c6"
      },
      "outputs": [
        {
          "name": "stdout",
          "output_type": "stream",
          "text": [
            "전처리한 후 코스피종목 갯수 : 607\n"
          ]
        }
      ],
      "source": [
        "join_t2 = join_t2.loc[~((join_t2['업종PER']==0) | (join_t2['PER']==0))] # PER이나 업종PER이 0인 종목을 제외한 종목\n",
        "print('전처리한 후 코스피종목 갯수 : {}'.format(len(join_t2)))"
      ]
    },
    {
      "cell_type": "code",
      "execution_count": null,
      "metadata": {
        "colab": {
          "base_uri": "https://localhost:8080/"
        },
        "id": "ih4jYiahNvvv",
        "outputId": "74be28d1-6a20-4a93-d62f-a65a1cb872a8"
      },
      "outputs": [
        {
          "name": "stdout",
          "output_type": "stream",
          "text": [
            "-1.7068018400864533\n"
          ]
        }
      ],
      "source": [
        "lower_upjong = join_t2.loc[join_t2['PER'] <join_t2['업종PER']] # 업종per보다 낮은 per주식\n",
        "comp1112 = pd.merge(lower_upjong, jongmok_upjong2020, how='left',on = '종목코드')[['종목코드', '종목명_x', '업종명_x', 'PER', '종가_x', '업종PER','종가_y']]\n",
        "comp1112.columns = ['종목코드', '종목명', '업종명', 'PER', '종가', '업종PER','다음년도종가']\n",
        "comp1112['증가율'] = ((comp1112['다음년도종가']-comp1112['종가'])/comp1112['종가'])*100\n",
        "lower_per_returns.append(comp1112['증가율'].sum()/len(comp1112))\n",
        "print(comp1112['증가율'].sum()/len(comp1112)) # 평균 기대수익률"
      ]
    },
    {
      "cell_type": "code",
      "execution_count": null,
      "metadata": {
        "colab": {
          "base_uri": "https://localhost:8080/"
        },
        "id": "YC2JmJgtNvvv",
        "outputId": "8da48dad-4abd-43bb-b702-26d9dbf97873"
      },
      "outputs": [
        {
          "name": "stdout",
          "output_type": "stream",
          "text": [
            "3.8316708081267143\n"
          ]
        }
      ],
      "source": [
        "over_upjong = join_t2.loc[join_t2['PER'] >join_t2['업종PER']] # 업종per보다 높은 per주식\n",
        "comp1112 = pd.merge(over_upjong, jongmok_upjong2020, how='left',on = '종목코드')[['종목코드', '종목명_x', '업종명_x', 'PER', '종가_x', '업종PER','종가_y']]\n",
        "comp1112.columns = ['종목코드', '종목명', '업종명', 'PER', '종가', '업종PER','다음년도종가']\n",
        "comp1112['증가율'] = ((comp1112['다음년도종가']-comp1112['종가'])/comp1112['종가'])*100\n",
        "upper_per_returns.append(comp1112['증가율'].sum()/len(comp1112))\n",
        "print(comp1112['증가율'].sum()/len(comp1112)) # 평균 기대수익률"
      ]
    },
    {
      "cell_type": "code",
      "execution_count": null,
      "metadata": {
        "colab": {
          "base_uri": "https://localhost:8080/"
        },
        "id": "ybLthXusNvvv",
        "outputId": "e6522e2f-3dc7-440d-cbf5-68a6b7c600a1"
      },
      "outputs": [
        {
          "name": "stdout",
          "output_type": "stream",
          "text": [
            "-3.832554478468415\n"
          ]
        }
      ],
      "source": [
        "under5_upjong = join_t2.loc[join_t2['PER'] <5] # per이 5보다 낮은 주식\n",
        "comp1112 = pd.merge(under5_upjong, jongmok_upjong2020, how='left',on = '종목코드')[['종목코드', '종목명_x', '업종명_x', 'PER', '종가_x', '업종PER','종가_y']]\n",
        "comp1112.columns = ['종목코드', '종목명', '업종명', 'PER', '종가', '업종PER','다음년도종가']\n",
        "comp1112['증가율'] = ((comp1112['다음년도종가']-comp1112['종가'])/comp1112['종가'])*100\n",
        "under5_per_returns.append(comp1112['증가율'].sum()/len(comp1112))\n",
        "print(comp1112['증가율'].sum()/len(comp1112)) # 평균 기대수익률"
      ]
    },
    {
      "cell_type": "code",
      "execution_count": null,
      "metadata": {
        "colab": {
          "base_uri": "https://localhost:8080/"
        },
        "id": "IarJW_hFXcXI",
        "outputId": "95a9ea88-fad2-487e-d90f-99810a7d1563"
      },
      "outputs": [
        {
          "name": "stdout",
          "output_type": "stream",
          "text": [
            "1.138147554841846\n"
          ]
        }
      ],
      "source": [
        "upper5_upjong = join_t2.loc[join_t2['PER'] >5] # per이 5보다 높은 주식\n",
        "comp1112 = pd.merge(upper5_upjong, jongmok_upjong2020, how='left',on = '종목코드')[['종목코드', '종목명_x', '업종명_x', 'PER', '종가_x', '업종PER','종가_y']]\n",
        "comp1112.columns = ['종목코드', '종목명', '업종명', 'PER', '종가', '업종PER','다음년도종가']\n",
        "comp1112['증가율'] = ((comp1112['다음년도종가']-comp1112['종가'])/comp1112['종가'])*100\n",
        "upper5_per_returns.append(comp1112['증가율'].sum()/len(comp1112))\n",
        "print(comp1112['증가율'].sum()/len(comp1112)) # 평균 기대수익률"
      ]
    },
    {
      "cell_type": "code",
      "execution_count": null,
      "metadata": {
        "colab": {
          "base_uri": "https://localhost:8080/"
        },
        "id": "AqWs07Xi9kwM",
        "outputId": "0203e1f7-8991-403e-8437-4280cb479bcc"
      },
      "outputs": [
        {
          "name": "stdout",
          "output_type": "stream",
          "text": [
            "-10.948637468494864\n"
          ]
        }
      ],
      "source": [
        "under2_per = join_t2.loc[join_t2['PER'] <2] # per이 2보다 낮은 주식\n",
        "comp1112 = pd.merge(under2_per, jongmok_upjong2020, how='left',on = '종목코드')[['종목코드', '종목명_x', '업종명_x', 'PER', '종가_x', '업종PER','종가_y']]\n",
        "comp1112.columns = ['종목코드', '종목명', '업종명', 'PER', '종가', '업종PER','다음년도종가']\n",
        "comp1112['증가율'] = ((comp1112['다음년도종가']-comp1112['종가'])/comp1112['종가'])*100\n",
        "under2_per_returns.append(comp1112['증가율'].sum()/len(comp1112))\n",
        "print(comp1112['증가율'].sum()/len(comp1112)) # 평균 기대수익률"
      ]
    },
    {
      "cell_type": "code",
      "execution_count": null,
      "metadata": {
        "colab": {
          "base_uri": "https://localhost:8080/"
        },
        "id": "a5RtCIrj9mPV",
        "outputId": "14be3ac7-653a-4aac-f5bd-2b3f727ef19e"
      },
      "outputs": [
        {
          "name": "stdout",
          "output_type": "stream",
          "text": [
            "1.465983698575506\n"
          ]
        }
      ],
      "source": [
        "upper10_per = join_t2.loc[join_t2['PER'] > 10] # per이 10보다 높은 주식\n",
        "comp1112 = pd.merge(upper10_per, jongmok_upjong2020, how='left',on = '종목코드')[['종목코드', '종목명_x', '업종명_x', 'PER', '종가_x', '업종PER','종가_y']]\n",
        "comp1112.columns = ['종목코드', '종목명', '업종명', 'PER', '종가', '업종PER','다음년도종가']\n",
        "comp1112['증가율'] = ((comp1112['다음년도종가']-comp1112['종가'])/comp1112['종가'])*100\n",
        "upper10_per_returns.append(comp1112['증가율'].sum()/len(comp1112))\n",
        "print(comp1112['증가율'].sum()/len(comp1112)) # 평균 기대수익률"
      ]
    },
    {
      "cell_type": "code",
      "execution_count": null,
      "metadata": {
        "colab": {
          "base_uri": "https://localhost:8080/"
        },
        "id": "6pk8ZxAn9n0y",
        "outputId": "3a17630f-e646-4c43-e4f6-68166df02a1d"
      },
      "outputs": [
        {
          "name": "stdout",
          "output_type": "stream",
          "text": [
            "-6.495709690733142\n"
          ]
        }
      ],
      "source": [
        "upper50_per = join_t2.loc[join_t2['PER'] > 50] # per이 50보다 높은 주식\n",
        "comp1112 = pd.merge(upper50_per, jongmok_upjong2020, how='left',on = '종목코드')[['종목코드', '종목명_x', '업종명_x', 'PER', '종가_x', '업종PER','종가_y']]\n",
        "comp1112.columns = ['종목코드', '종목명', '업종명', 'PER', '종가', '업종PER','다음년도종가']\n",
        "comp1112['증가율'] = ((comp1112['다음년도종가']-comp1112['종가'])/comp1112['종가'])*100\n",
        "upper50_per_returns.append(comp1112['증가율'].sum()/len(comp1112))\n",
        "print(comp1112['증가율'].sum()/len(comp1112)) # 평균 기대수익률"
      ]
    },
    {
      "cell_type": "code",
      "execution_count": null,
      "metadata": {
        "colab": {
          "base_uri": "https://localhost:8080/",
          "height": 206
        },
        "id": "iKL-XiANuoTd",
        "outputId": "d2494f6a-a5b2-414f-eeed-36152ddcc4d5"
      },
      "outputs": [
        {
          "data": {
            "text/html": [
              "\n",
              "  <div id=\"df-0348824f-88aa-4cc2-ab1d-25b3aacf9e40\">\n",
              "    <div class=\"colab-df-container\">\n",
              "      <div>\n",
              "<style scoped>\n",
              "    .dataframe tbody tr th:only-of-type {\n",
              "        vertical-align: middle;\n",
              "    }\n",
              "\n",
              "    .dataframe tbody tr th {\n",
              "        vertical-align: top;\n",
              "    }\n",
              "\n",
              "    .dataframe thead th {\n",
              "        text-align: right;\n",
              "    }\n",
              "</style>\n",
              "<table border=\"1\" class=\"dataframe\">\n",
              "  <thead>\n",
              "    <tr style=\"text-align: right;\">\n",
              "      <th></th>\n",
              "      <th>증가율</th>\n",
              "    </tr>\n",
              "  </thead>\n",
              "  <tbody>\n",
              "    <tr>\n",
              "      <th>PER</th>\n",
              "      <td>-0.028696</td>\n",
              "    </tr>\n",
              "    <tr>\n",
              "      <th>업종PER</th>\n",
              "      <td>-0.060456</td>\n",
              "    </tr>\n",
              "    <tr>\n",
              "      <th>종가</th>\n",
              "      <td>-0.141292</td>\n",
              "    </tr>\n",
              "    <tr>\n",
              "      <th>다음해종가</th>\n",
              "      <td>-0.018673</td>\n",
              "    </tr>\n",
              "    <tr>\n",
              "      <th>증가율</th>\n",
              "      <td>1.000000</td>\n",
              "    </tr>\n",
              "  </tbody>\n",
              "</table>\n",
              "</div>\n",
              "      <button class=\"colab-df-convert\" onclick=\"convertToInteractive('df-0348824f-88aa-4cc2-ab1d-25b3aacf9e40')\"\n",
              "              title=\"Convert this dataframe to an interactive table.\"\n",
              "              style=\"display:none;\">\n",
              "        \n",
              "  <svg xmlns=\"http://www.w3.org/2000/svg\" height=\"24px\"viewBox=\"0 0 24 24\"\n",
              "       width=\"24px\">\n",
              "    <path d=\"M0 0h24v24H0V0z\" fill=\"none\"/>\n",
              "    <path d=\"M18.56 5.44l.94 2.06.94-2.06 2.06-.94-2.06-.94-.94-2.06-.94 2.06-2.06.94zm-11 1L8.5 8.5l.94-2.06 2.06-.94-2.06-.94L8.5 2.5l-.94 2.06-2.06.94zm10 10l.94 2.06.94-2.06 2.06-.94-2.06-.94-.94-2.06-.94 2.06-2.06.94z\"/><path d=\"M17.41 7.96l-1.37-1.37c-.4-.4-.92-.59-1.43-.59-.52 0-1.04.2-1.43.59L10.3 9.45l-7.72 7.72c-.78.78-.78 2.05 0 2.83L4 21.41c.39.39.9.59 1.41.59.51 0 1.02-.2 1.41-.59l7.78-7.78 2.81-2.81c.8-.78.8-2.07 0-2.86zM5.41 20L4 18.59l7.72-7.72 1.47 1.35L5.41 20z\"/>\n",
              "  </svg>\n",
              "      </button>\n",
              "      \n",
              "  <style>\n",
              "    .colab-df-container {\n",
              "      display:flex;\n",
              "      flex-wrap:wrap;\n",
              "      gap: 12px;\n",
              "    }\n",
              "\n",
              "    .colab-df-convert {\n",
              "      background-color: #E8F0FE;\n",
              "      border: none;\n",
              "      border-radius: 50%;\n",
              "      cursor: pointer;\n",
              "      display: none;\n",
              "      fill: #1967D2;\n",
              "      height: 32px;\n",
              "      padding: 0 0 0 0;\n",
              "      width: 32px;\n",
              "    }\n",
              "\n",
              "    .colab-df-convert:hover {\n",
              "      background-color: #E2EBFA;\n",
              "      box-shadow: 0px 1px 2px rgba(60, 64, 67, 0.3), 0px 1px 3px 1px rgba(60, 64, 67, 0.15);\n",
              "      fill: #174EA6;\n",
              "    }\n",
              "\n",
              "    [theme=dark] .colab-df-convert {\n",
              "      background-color: #3B4455;\n",
              "      fill: #D2E3FC;\n",
              "    }\n",
              "\n",
              "    [theme=dark] .colab-df-convert:hover {\n",
              "      background-color: #434B5C;\n",
              "      box-shadow: 0px 1px 3px 1px rgba(0, 0, 0, 0.15);\n",
              "      filter: drop-shadow(0px 1px 2px rgba(0, 0, 0, 0.3));\n",
              "      fill: #FFFFFF;\n",
              "    }\n",
              "  </style>\n",
              "\n",
              "      <script>\n",
              "        const buttonEl =\n",
              "          document.querySelector('#df-0348824f-88aa-4cc2-ab1d-25b3aacf9e40 button.colab-df-convert');\n",
              "        buttonEl.style.display =\n",
              "          google.colab.kernel.accessAllowed ? 'block' : 'none';\n",
              "\n",
              "        async function convertToInteractive(key) {\n",
              "          const element = document.querySelector('#df-0348824f-88aa-4cc2-ab1d-25b3aacf9e40');\n",
              "          const dataTable =\n",
              "            await google.colab.kernel.invokeFunction('convertToInteractive',\n",
              "                                                     [key], {});\n",
              "          if (!dataTable) return;\n",
              "\n",
              "          const docLinkHtml = 'Like what you see? Visit the ' +\n",
              "            '<a target=\"_blank\" href=https://colab.research.google.com/notebooks/data_table.ipynb>data table notebook</a>'\n",
              "            + ' to learn more about interactive tables.';\n",
              "          element.innerHTML = '';\n",
              "          dataTable['output_type'] = 'display_data';\n",
              "          await google.colab.output.renderOutput(dataTable, element);\n",
              "          const docLink = document.createElement('div');\n",
              "          docLink.innerHTML = docLinkHtml;\n",
              "          element.appendChild(docLink);\n",
              "        }\n",
              "      </script>\n",
              "    </div>\n",
              "  </div>\n",
              "  "
            ],
            "text/plain": [
              "            증가율\n",
              "PER   -0.028696\n",
              "업종PER -0.060456\n",
              "종가    -0.141292\n",
              "다음해종가 -0.018673\n",
              "증가율    1.000000"
            ]
          },
          "execution_count": 180,
          "metadata": {},
          "output_type": "execute_result"
        }
      ],
      "source": [
        "a = pd.merge(join_t2.sort_values('PER'), jongmok_upjong2020, how='left', on = '종목코드')[['종목코드', '종목명_x', '업종명_x', 'PER', '업종PER','종가_x','종가_y']]\n",
        "a.columns = ['종목코드', '종목명', '업종명', 'PER', '업종PER','종가','다음해종가']\n",
        "a['증가율'] = ((a['다음해종가']-a['종가'])/a['종가'])*100\n",
        "a = a.loc[~a['다음해종가'].isnull()]\n",
        "per_returns_corr_score = a.corr()['증가율'].to_frame()\n",
        "per_returns_corr.append(per_returns_corr_score.loc[(per_returns_corr_score.index=='PER')]['증가율'].values)\n",
        "per_returns_corr_score"
      ]
    },
    {
      "cell_type": "code",
      "execution_count": null,
      "metadata": {
        "id": "MYG3wZfXPUI4"
      },
      "outputs": [],
      "source": [
        "per_return_corr = a.sort_values('PER')[['PER','증가율']]\n",
        "per_return_corr.to_excel('per_return_corr_2019.xlsx')"
      ]
    },
    {
      "cell_type": "markdown",
      "metadata": {
        "id": "CBj3B7PtN8GR"
      },
      "source": [
        "## 2020"
      ]
    },
    {
      "cell_type": "code",
      "execution_count": null,
      "metadata": {
        "id": "m3SjFVWGN8GR"
      },
      "outputs": [],
      "source": [
        "join_t1 = pd.merge(per_2020,jongmok_upjong2020,how='left',on='종목코드')[['종목코드','종목명_x','업종명','PER','종가']]\n",
        "join_t1.columns = ['종목코드','종목명','업종명','PER','종가']\n",
        "join_t2 = pd.merge(join_t1,upjong2020,how='left',on='업종명')"
      ]
    },
    {
      "cell_type": "code",
      "execution_count": null,
      "metadata": {
        "id": "EWkz0KX5N8GS"
      },
      "outputs": [],
      "source": [
        "join_t2['PER'] = join_t2['PER'].apply(lambda x : '0' if x=='-' else x)\n",
        "join_t2['PER'] = join_t2['PER'].astype(float)"
      ]
    },
    {
      "cell_type": "code",
      "execution_count": null,
      "metadata": {
        "colab": {
          "base_uri": "https://localhost:8080/"
        },
        "id": "uv7zteZvN8GS",
        "outputId": "7de51e10-a0a3-413d-f2f7-f3ba3d8bdb43"
      },
      "outputs": [
        {
          "name": "stdout",
          "output_type": "stream",
          "text": [
            "전처리하기전 코스피종목 갯수 : 895\n"
          ]
        }
      ],
      "source": [
        "join_t2['업종PER'] = join_t2['업종PER'].apply(lambda x : '0' if x =='-' else x)\n",
        "join_t2['업종PER'] = join_t2['업종PER'].astype(float)\n",
        "print('전처리하기전 코스피종목 갯수 : {}'.format(len(join_t2)))"
      ]
    },
    {
      "cell_type": "code",
      "execution_count": null,
      "metadata": {
        "colab": {
          "base_uri": "https://localhost:8080/"
        },
        "id": "uUqFNCNwN8GS",
        "outputId": "5ee715d9-8986-429b-8ef3-0d4f46cdf0c1"
      },
      "outputs": [
        {
          "name": "stdout",
          "output_type": "stream",
          "text": [
            "전처리한 후 코스피종목 갯수 : 552\n"
          ]
        }
      ],
      "source": [
        "join_t2 = join_t2.loc[~((join_t2['업종PER']==0) | (join_t2['PER']==0))] # PER이나 업종PER이 0인 종목을 제외한 종목\n",
        "print('전처리한 후 코스피종목 갯수 : {}'.format(len(join_t2)))"
      ]
    },
    {
      "cell_type": "code",
      "execution_count": null,
      "metadata": {
        "colab": {
          "base_uri": "https://localhost:8080/"
        },
        "id": "Xcgp7zl1N8GS",
        "outputId": "bb7e702b-6b00-4ef3-d9f3-75d8ae13468c"
      },
      "outputs": [
        {
          "name": "stdout",
          "output_type": "stream",
          "text": [
            "25.747460080464474\n"
          ]
        }
      ],
      "source": [
        "lower_upjong = join_t2.loc[join_t2['PER'] <join_t2['업종PER']] # 업종per보다 낮은 per주식\n",
        "comp1112 = pd.merge(lower_upjong, jongmok_upjong2021, how='left',on = '종목코드')[['종목코드', '종목명_x', '업종명_x', 'PER', '종가_x', '업종PER','종가_y']]\n",
        "comp1112.columns = ['종목코드', '종목명', '업종명', 'PER', '종가', '업종PER','다음년도종가']\n",
        "comp1112['증가율'] = ((comp1112['다음년도종가']-comp1112['종가'])/comp1112['종가'])*100\n",
        "lower_per_returns.append(comp1112['증가율'].sum()/len(comp1112))\n",
        "print(comp1112['증가율'].sum()/len(comp1112)) # 평균 기대수익률"
      ]
    },
    {
      "cell_type": "code",
      "execution_count": null,
      "metadata": {
        "colab": {
          "base_uri": "https://localhost:8080/"
        },
        "id": "zBB6MHCvN8GS",
        "outputId": "9c4f67d8-882a-4798-d2af-d989fd30fabf"
      },
      "outputs": [
        {
          "name": "stdout",
          "output_type": "stream",
          "text": [
            "40.79370411317938\n"
          ]
        }
      ],
      "source": [
        "over_upjong = join_t2.loc[join_t2['PER'] >join_t2['업종PER']] # 업종per보다 높은 per주식\n",
        "comp1112 = pd.merge(over_upjong, jongmok_upjong2021, how='left',on = '종목코드')[['종목코드', '종목명_x', '업종명_x', 'PER', '종가_x', '업종PER','종가_y']]\n",
        "comp1112.columns = ['종목코드', '종목명', '업종명', 'PER', '종가', '업종PER','다음년도종가']\n",
        "comp1112['증가율'] = ((comp1112['다음년도종가']-comp1112['종가'])/comp1112['종가'])*100\n",
        "upper_per_returns.append(comp1112['증가율'].sum()/len(comp1112))\n",
        "print(comp1112['증가율'].sum()/len(comp1112)) # 평균 기대수익률"
      ]
    },
    {
      "cell_type": "code",
      "execution_count": null,
      "metadata": {
        "colab": {
          "base_uri": "https://localhost:8080/"
        },
        "id": "xtHk-apSN8GS",
        "outputId": "deec4154-3c1b-48b4-d7e2-a1b60f4a99b6"
      },
      "outputs": [
        {
          "name": "stdout",
          "output_type": "stream",
          "text": [
            "20.766744260022072\n"
          ]
        }
      ],
      "source": [
        "under5_upjong = join_t2.loc[join_t2['PER'] <5] # per이 5보다 낮은 주식\n",
        "comp1112 = pd.merge(under5_upjong, jongmok_upjong2021, how='left',on = '종목코드')[['종목코드', '종목명_x', '업종명_x', 'PER', '종가_x', '업종PER','종가_y']]\n",
        "comp1112.columns = ['종목코드', '종목명', '업종명', 'PER', '종가', '업종PER','다음년도종가']\n",
        "comp1112['증가율'] = ((comp1112['다음년도종가']-comp1112['종가'])/comp1112['종가'])*100\n",
        "under5_per_returns.append(comp1112['증가율'].sum()/len(comp1112))\n",
        "print(comp1112['증가율'].sum()/len(comp1112)) # 평균 기대수익률"
      ]
    },
    {
      "cell_type": "code",
      "execution_count": null,
      "metadata": {
        "colab": {
          "base_uri": "https://localhost:8080/"
        },
        "id": "w9KRSrBwXkei",
        "outputId": "fadf557f-48db-4d07-9e8f-f45139cf9346"
      },
      "outputs": [
        {
          "name": "stdout",
          "output_type": "stream",
          "text": [
            "28.41950295551751\n"
          ]
        }
      ],
      "source": [
        "upper5_upjong = join_t2.loc[join_t2['PER'] >5] # per이 5보다 높은 주식\n",
        "comp1112 = pd.merge(upper5_upjong, jongmok_upjong2021, how='left',on = '종목코드')[['종목코드', '종목명_x', '업종명_x', 'PER', '종가_x', '업종PER','종가_y']]\n",
        "comp1112.columns = ['종목코드', '종목명', '업종명', 'PER', '종가', '업종PER','다음년도종가']\n",
        "comp1112['증가율'] = ((comp1112['다음년도종가']-comp1112['종가'])/comp1112['종가'])*100\n",
        "upper5_per_returns.append(comp1112['증가율'].sum()/len(comp1112))\n",
        "print(comp1112['증가율'].sum()/len(comp1112)) # 평균 기대수익률"
      ]
    },
    {
      "cell_type": "code",
      "execution_count": null,
      "metadata": {
        "colab": {
          "base_uri": "https://localhost:8080/"
        },
        "id": "twEQdYH0-Grt",
        "outputId": "024db848-e5f9-4799-e03c-9a0298501c45"
      },
      "outputs": [
        {
          "name": "stdout",
          "output_type": "stream",
          "text": [
            "37.57920570296534\n"
          ]
        }
      ],
      "source": [
        "under2_per = join_t2.loc[join_t2['PER'] <2] # per이 2보다 낮은 주식\n",
        "comp1112 = pd.merge(under2_per, jongmok_upjong2021, how='left',on = '종목코드')[['종목코드', '종목명_x', '업종명_x', 'PER', '종가_x', '업종PER','종가_y']]\n",
        "comp1112.columns = ['종목코드', '종목명', '업종명', 'PER', '종가', '업종PER','다음년도종가']\n",
        "comp1112['증가율'] = ((comp1112['다음년도종가']-comp1112['종가'])/comp1112['종가'])*100\n",
        "under2_per_returns.append(comp1112['증가율'].sum()/len(comp1112))\n",
        "print(comp1112['증가율'].sum()/len(comp1112)) # 평균 기대수익률"
      ]
    },
    {
      "cell_type": "code",
      "execution_count": null,
      "metadata": {
        "colab": {
          "base_uri": "https://localhost:8080/"
        },
        "id": "50W0u6HR-GzA",
        "outputId": "9a4399ec-1454-418a-be0f-2a3f4cc55a4b"
      },
      "outputs": [
        {
          "name": "stdout",
          "output_type": "stream",
          "text": [
            "32.563756124161046\n"
          ]
        }
      ],
      "source": [
        "upper10_per = join_t2.loc[join_t2['PER'] > 10] # per이 10보다 높은 주식\n",
        "comp1112 = pd.merge(upper10_per, jongmok_upjong2021, how='left',on = '종목코드')[['종목코드', '종목명_x', '업종명_x', 'PER', '종가_x', '업종PER','종가_y']]\n",
        "comp1112.columns = ['종목코드', '종목명', '업종명', 'PER', '종가', '업종PER','다음년도종가']\n",
        "comp1112['증가율'] = ((comp1112['다음년도종가']-comp1112['종가'])/comp1112['종가'])*100\n",
        "upper10_per_returns.append(comp1112['증가율'].sum()/len(comp1112))\n",
        "print(comp1112['증가율'].sum()/len(comp1112)) # 평균 기대수익률"
      ]
    },
    {
      "cell_type": "code",
      "execution_count": null,
      "metadata": {
        "colab": {
          "base_uri": "https://localhost:8080/"
        },
        "id": "BxhTlFgw-G7t",
        "outputId": "9300db4f-4830-49dd-bc31-d451a98a4696"
      },
      "outputs": [
        {
          "name": "stdout",
          "output_type": "stream",
          "text": [
            "64.05756362895508\n"
          ]
        }
      ],
      "source": [
        "upper50_per = join_t2.loc[join_t2['PER'] > 50] # per이 50보다 높은 주식\n",
        "comp1112 = pd.merge(upper50_per, jongmok_upjong2021, how='left',on = '종목코드')[['종목코드', '종목명_x', '업종명_x', 'PER', '종가_x', '업종PER','종가_y']]\n",
        "comp1112.columns = ['종목코드', '종목명', '업종명', 'PER', '종가', '업종PER','다음년도종가']\n",
        "comp1112['증가율'] = ((comp1112['다음년도종가']-comp1112['종가'])/comp1112['종가'])*100\n",
        "upper50_per_returns.append(comp1112['증가율'].sum()/len(comp1112))\n",
        "print(comp1112['증가율'].sum()/len(comp1112)) # 평균 기대수익률"
      ]
    },
    {
      "cell_type": "code",
      "execution_count": null,
      "metadata": {
        "colab": {
          "base_uri": "https://localhost:8080/",
          "height": 206
        },
        "id": "SFFTXjBGuuEt",
        "outputId": "8c470409-95a9-4881-f869-7caf7e8f3e46"
      },
      "outputs": [
        {
          "data": {
            "text/html": [
              "\n",
              "  <div id=\"df-ede7ce10-3380-418d-821a-e493102bf033\">\n",
              "    <div class=\"colab-df-container\">\n",
              "      <div>\n",
              "<style scoped>\n",
              "    .dataframe tbody tr th:only-of-type {\n",
              "        vertical-align: middle;\n",
              "    }\n",
              "\n",
              "    .dataframe tbody tr th {\n",
              "        vertical-align: top;\n",
              "    }\n",
              "\n",
              "    .dataframe thead th {\n",
              "        text-align: right;\n",
              "    }\n",
              "</style>\n",
              "<table border=\"1\" class=\"dataframe\">\n",
              "  <thead>\n",
              "    <tr style=\"text-align: right;\">\n",
              "      <th></th>\n",
              "      <th>증가율</th>\n",
              "    </tr>\n",
              "  </thead>\n",
              "  <tbody>\n",
              "    <tr>\n",
              "      <th>PER</th>\n",
              "      <td>0.068686</td>\n",
              "    </tr>\n",
              "    <tr>\n",
              "      <th>업종PER</th>\n",
              "      <td>0.194109</td>\n",
              "    </tr>\n",
              "    <tr>\n",
              "      <th>종가</th>\n",
              "      <td>-0.028786</td>\n",
              "    </tr>\n",
              "    <tr>\n",
              "      <th>다음해종가</th>\n",
              "      <td>0.141685</td>\n",
              "    </tr>\n",
              "    <tr>\n",
              "      <th>증가율</th>\n",
              "      <td>1.000000</td>\n",
              "    </tr>\n",
              "  </tbody>\n",
              "</table>\n",
              "</div>\n",
              "      <button class=\"colab-df-convert\" onclick=\"convertToInteractive('df-ede7ce10-3380-418d-821a-e493102bf033')\"\n",
              "              title=\"Convert this dataframe to an interactive table.\"\n",
              "              style=\"display:none;\">\n",
              "        \n",
              "  <svg xmlns=\"http://www.w3.org/2000/svg\" height=\"24px\"viewBox=\"0 0 24 24\"\n",
              "       width=\"24px\">\n",
              "    <path d=\"M0 0h24v24H0V0z\" fill=\"none\"/>\n",
              "    <path d=\"M18.56 5.44l.94 2.06.94-2.06 2.06-.94-2.06-.94-.94-2.06-.94 2.06-2.06.94zm-11 1L8.5 8.5l.94-2.06 2.06-.94-2.06-.94L8.5 2.5l-.94 2.06-2.06.94zm10 10l.94 2.06.94-2.06 2.06-.94-2.06-.94-.94-2.06-.94 2.06-2.06.94z\"/><path d=\"M17.41 7.96l-1.37-1.37c-.4-.4-.92-.59-1.43-.59-.52 0-1.04.2-1.43.59L10.3 9.45l-7.72 7.72c-.78.78-.78 2.05 0 2.83L4 21.41c.39.39.9.59 1.41.59.51 0 1.02-.2 1.41-.59l7.78-7.78 2.81-2.81c.8-.78.8-2.07 0-2.86zM5.41 20L4 18.59l7.72-7.72 1.47 1.35L5.41 20z\"/>\n",
              "  </svg>\n",
              "      </button>\n",
              "      \n",
              "  <style>\n",
              "    .colab-df-container {\n",
              "      display:flex;\n",
              "      flex-wrap:wrap;\n",
              "      gap: 12px;\n",
              "    }\n",
              "\n",
              "    .colab-df-convert {\n",
              "      background-color: #E8F0FE;\n",
              "      border: none;\n",
              "      border-radius: 50%;\n",
              "      cursor: pointer;\n",
              "      display: none;\n",
              "      fill: #1967D2;\n",
              "      height: 32px;\n",
              "      padding: 0 0 0 0;\n",
              "      width: 32px;\n",
              "    }\n",
              "\n",
              "    .colab-df-convert:hover {\n",
              "      background-color: #E2EBFA;\n",
              "      box-shadow: 0px 1px 2px rgba(60, 64, 67, 0.3), 0px 1px 3px 1px rgba(60, 64, 67, 0.15);\n",
              "      fill: #174EA6;\n",
              "    }\n",
              "\n",
              "    [theme=dark] .colab-df-convert {\n",
              "      background-color: #3B4455;\n",
              "      fill: #D2E3FC;\n",
              "    }\n",
              "\n",
              "    [theme=dark] .colab-df-convert:hover {\n",
              "      background-color: #434B5C;\n",
              "      box-shadow: 0px 1px 3px 1px rgba(0, 0, 0, 0.15);\n",
              "      filter: drop-shadow(0px 1px 2px rgba(0, 0, 0, 0.3));\n",
              "      fill: #FFFFFF;\n",
              "    }\n",
              "  </style>\n",
              "\n",
              "      <script>\n",
              "        const buttonEl =\n",
              "          document.querySelector('#df-ede7ce10-3380-418d-821a-e493102bf033 button.colab-df-convert');\n",
              "        buttonEl.style.display =\n",
              "          google.colab.kernel.accessAllowed ? 'block' : 'none';\n",
              "\n",
              "        async function convertToInteractive(key) {\n",
              "          const element = document.querySelector('#df-ede7ce10-3380-418d-821a-e493102bf033');\n",
              "          const dataTable =\n",
              "            await google.colab.kernel.invokeFunction('convertToInteractive',\n",
              "                                                     [key], {});\n",
              "          if (!dataTable) return;\n",
              "\n",
              "          const docLinkHtml = 'Like what you see? Visit the ' +\n",
              "            '<a target=\"_blank\" href=https://colab.research.google.com/notebooks/data_table.ipynb>data table notebook</a>'\n",
              "            + ' to learn more about interactive tables.';\n",
              "          element.innerHTML = '';\n",
              "          dataTable['output_type'] = 'display_data';\n",
              "          await google.colab.output.renderOutput(dataTable, element);\n",
              "          const docLink = document.createElement('div');\n",
              "          docLink.innerHTML = docLinkHtml;\n",
              "          element.appendChild(docLink);\n",
              "        }\n",
              "      </script>\n",
              "    </div>\n",
              "  </div>\n",
              "  "
            ],
            "text/plain": [
              "            증가율\n",
              "PER    0.068686\n",
              "업종PER  0.194109\n",
              "종가    -0.028786\n",
              "다음해종가  0.141685\n",
              "증가율    1.000000"
            ]
          },
          "execution_count": 130,
          "metadata": {},
          "output_type": "execute_result"
        }
      ],
      "source": [
        "a = pd.merge(join_t2.sort_values('PER'), jongmok_upjong2021, how='left', on = '종목코드')[['종목코드', '종목명_x', '업종명_x', 'PER', '업종PER','종가_x','종가_y']]\n",
        "a.columns = ['종목코드', '종목명', '업종명', 'PER', '업종PER','종가','다음해종가']\n",
        "a['증가율'] = ((a['다음해종가']-a['종가'])/a['종가'])*100\n",
        "a = a.loc[~a['다음해종가'].isnull()]\n",
        "per_returns_corr_score = a.corr()['증가율'].to_frame()\n",
        "per_returns_corr.append(per_returns_corr_score.loc[(per_returns_corr_score.index=='PER')]['증가율'].values)\n",
        "per_returns_corr_score"
      ]
    },
    {
      "cell_type": "code",
      "execution_count": null,
      "metadata": {
        "colab": {
          "base_uri": "https://localhost:8080/",
          "height": 287
        },
        "id": "p_gybrjjuxdp",
        "outputId": "157d1fe9-7cbb-4769-d147-9fa1351692b9"
      },
      "outputs": [
        {
          "data": {
            "text/plain": [
              "(0.0, 500.0)"
            ]
          },
          "execution_count": 131,
          "metadata": {},
          "output_type": "execute_result"
        },
        {
          "name": "stderr",
          "output_type": "stream",
          "text": [
            "findfont: Font family ['NanumBarunGothic'] not found. Falling back to DejaVu Sans.\n"
          ]
        },
        {
          "data": {
            "image/png": "[encoded data removed]",
            "text/plain": [
              "<Figure size 432x288 with 1 Axes>"
            ]
          },
          "metadata": {},
          "output_type": "display_data"
        }
      ],
      "source": [
        "plt.scatter(a['PER'],a['증가율'])\n",
        "plt.xlim(0,1000)\n",
        "plt.ylim(0,500)"
      ]
    },
    {
      "cell_type": "markdown",
      "metadata": {
        "id": "MSmQjeVHOXJQ"
      },
      "source": [
        "## 결과"
      ]
    },
    {
      "cell_type": "code",
      "execution_count": null,
      "metadata": {
        "id": "AW35gwIcOdPB"
      },
      "outputs": [],
      "source": [
        "import matplotlib.pyplot as plt"
      ]
    },
    {
      "cell_type": "code",
      "execution_count": null,
      "metadata": {
        "id": "yLLUTl-3P4pZ"
      },
      "outputs": [],
      "source": [
        "year = range(2011,2021,1)"
      ]
    },
    {
      "cell_type": "code",
      "execution_count": null,
      "metadata": {
        "colab": {
          "base_uri": "https://localhost:8080/",
          "height": 265
        },
        "id": "gtOQjmEfOY9-",
        "outputId": "7a73f40a-b9a4-487a-e851-9244c81d1b9e"
      },
      "outputs": [
        {
          "data": {
            "image/png": "[encoded data removed]",
            "text/plain": [
              "<Figure size 432x288 with 1 Axes>"
            ]
          },
          "metadata": {},
          "output_type": "display_data"
        }
      ],
      "source": [
        "plt.plot(year,lower_per_returns,label=\"average returns of under sector's PER\")\n",
        "plt.plot(year,upper_per_returns, label = \"average returns of over sector's PER\")\n",
        "plt.legend()\n",
        "plt.show()"
      ]
    },
    {
      "cell_type": "code",
      "execution_count": null,
      "metadata": {
        "id": "qH_gihmEQfVQ"
      },
      "outputs": [],
      "source": [
        ""
      ]
    },
    {
      "cell_type": "code",
      "execution_count": null,
      "metadata": {
        "colab": {
          "base_uri": "https://localhost:8080/"
        },
        "id": "hKG5WB_-QPsQ",
        "outputId": "164af060-4ddd-42b2-cf13-3bddb3111881"
      },
      "outputs": [
        {
          "data": {
            "text/plain": [
              "6.172529039083267"
            ]
          },
          "execution_count": 135,
          "metadata": {},
          "output_type": "execute_result"
        }
      ],
      "source": [
        "# 단순산술 연평균 수익 for 업종PER보다 낮은 주식\n",
        "np.array(lower_per_returns).sum()/len(lower_per_returns)"
      ]
    },
    {
      "cell_type": "code",
      "execution_count": null,
      "metadata": {
        "colab": {
          "base_uri": "https://localhost:8080/"
        },
        "id": "j4ZTOP1QQTsR",
        "outputId": "7b084591-f115-44cc-b532-1bfbe65dcbe3"
      },
      "outputs": [
        {
          "data": {
            "text/plain": [
              "9.024984078876997"
            ]
          },
          "execution_count": 136,
          "metadata": {},
          "output_type": "execute_result"
        }
      ],
      "source": [
        "# 단순산술 연평균 수익 for 업종PER보다 높은 주식\n",
        "np.array(upper_per_returns).sum()/len(upper_per_returns)"
      ]
    },
    {
      "cell_type": "markdown",
      "metadata": {
        "id": "da8yZyfqQ2gF"
      },
      "source": [
        "결론 : 최근 10년 데이터를 사용하여 업종PER 대비 높은 주식과 낮은 주식의 평균 수익률을 비교해보았다. 그 결과 수익률이 업종 PER보다 높은 주식이 대략 3퍼센트 높았다. 고로 업종PER보다 낮은 PER의 주식을 선택하는 것이 좋은 것인가에 대해 다시한번 생각해볼 필요가 있다. "
      ]
    },
    {
      "cell_type": "code",
      "execution_count": null,
      "metadata": {
        "id": "5yNfxYtjQjrJ"
      },
      "outputs": [],
      "source": [
        ""
      ]
    },
    {
      "cell_type": "code",
      "execution_count": null,
      "metadata": {
        "colab": {
          "base_uri": "https://localhost:8080/",
          "height": 265
        },
        "id": "TonfmjnTXwNC",
        "outputId": "0b173119-764b-4941-b55d-4dcadc3d96d6"
      },
      "outputs": [
        {
          "data": {
            "image/png": "[encoded data removed]",
            "text/plain": [
              "<Figure size 432x288 with 1 Axes>"
            ]
          },
          "metadata": {},
          "output_type": "display_data"
        }
      ],
      "source": [
        "# per5 이하와 5이상 주식들의 평균수익률\n",
        "plt.plot(year,under5_per_returns,label=\"average returns of under per5\")\n",
        "plt.plot(year,upper5_per_returns, label = \"average returns of over per5\")\n",
        "plt.legend()\n",
        "plt.show()"
      ]
    },
    {
      "cell_type": "code",
      "execution_count": null,
      "metadata": {
        "colab": {
          "base_uri": "https://localhost:8080/"
        },
        "id": "v0yp5xm0YCHL",
        "outputId": "36092df6-36a7-4cb1-9514-0845aafcddd3"
      },
      "outputs": [
        {
          "data": {
            "text/plain": [
              "6.120272498664884"
            ]
          },
          "execution_count": 138,
          "metadata": {},
          "output_type": "execute_result"
        }
      ],
      "source": [
        "# per5이하 단순 산술 평균 \n",
        "np.array(under5_per_returns).sum()/len(under5_per_returns)"
      ]
    },
    {
      "cell_type": "code",
      "execution_count": null,
      "metadata": {
        "colab": {
          "base_uri": "https://localhost:8080/"
        },
        "id": "ZUA8tA4sY1pa",
        "outputId": "fb957470-4368-405e-b5bf-3e3fb152e0ce"
      },
      "outputs": [
        {
          "data": {
            "text/plain": [
              "6.948922711216683"
            ]
          },
          "execution_count": 139,
          "metadata": {},
          "output_type": "execute_result"
        }
      ],
      "source": [
        "# per5이상 단순 산술 평균\n",
        "np.array(upper5_per_returns).sum()/len(upper5_per_returns)"
      ]
    },
    {
      "cell_type": "code",
      "execution_count": null,
      "metadata": {
        "colab": {
          "base_uri": "https://localhost:8080/"
        },
        "id": "SwquCHu5Y6E3",
        "outputId": "ae3239a1-0e09-42bf-bf2e-3bcfa86ba963"
      },
      "outputs": [
        {
          "data": {
            "text/plain": [
              "[-10.098507137310216,\n",
              " 1.5088667850308122,\n",
              " -8.728727021062106,\n",
              " 16.168389276421554,\n",
              " 38.92470310240743,\n",
              " -0.48972332761779863,\n",
              " 2.985909570117709,\n",
              " -7.539355612914269,\n",
              " -6.495709690733142,\n",
              " 64.05756362895508]"
            ]
          },
          "execution_count": 140,
          "metadata": {},
          "output_type": "execute_result"
        }
      ],
      "source": [
        "lower_per_returns \n",
        "upper_per_returns\n",
        "under5_per_returns\n",
        "upper5_per_returns \n",
        "under2_per_returns \n",
        "upper10_per_returns\n",
        "upper50_per_returns"
      ]
    },
    {
      "cell_type": "code",
      "execution_count": null,
      "metadata": {
        "colab": {
          "base_uri": "https://localhost:8080/",
          "height": 265
        },
        "id": "U4aqn1uD-l3l",
        "outputId": "b2e9809b-a6df-4e5b-d20e-ef301458878b"
      },
      "outputs": [
        {
          "data": {
            "image/png": "[encoded data removed]",
            "text/plain": [
              "<Figure size 432x288 with 1 Axes>"
            ]
          },
          "metadata": {},
          "output_type": "display_data"
        }
      ],
      "source": [
        "plt.plot(year,under2_per_returns,label=\"average returns of per under 2\")\n",
        "plt.plot(year,under5_per_returns,label=\"average returns of per under 5\")\n",
        "plt.plot(year,upper10_per_returns,label=\"average returns of per over 10\")\n",
        "plt.plot(year,upper50_per_returns,label=\"average returns of per over 50\")\n",
        "plt.legend()\n",
        "plt.show()"
      ]
    },
    {
      "cell_type": "code",
      "execution_count": null,
      "metadata": {
        "colab": {
          "base_uri": "https://localhost:8080/"
        },
        "id": "iipdB71l-xKD",
        "outputId": "81e90221-cffe-488c-fbc2-865281cde7ae"
      },
      "outputs": [
        {
          "data": {
            "text/plain": [
              "20.219751400027242"
            ]
          },
          "execution_count": 142,
          "metadata": {},
          "output_type": "execute_result"
        }
      ],
      "source": [
        "# per2이하 단순 산술 평균 \n",
        "np.array(under2_per_returns).sum()/len(under2_per_returns)"
      ]
    },
    {
      "cell_type": "code",
      "execution_count": null,
      "metadata": {
        "colab": {
          "base_uri": "https://localhost:8080/"
        },
        "id": "_nXUJ60P_jsT",
        "outputId": "a0812a38-379f-487d-daf0-ad909b95ae58"
      },
      "outputs": [
        {
          "data": {
            "text/plain": [
              "6.120272498664884"
            ]
          },
          "execution_count": 143,
          "metadata": {},
          "output_type": "execute_result"
        }
      ],
      "source": [
        "# per5이하 단순 산술 평균 \n",
        "np.array(under5_per_returns).sum()/len(under5_per_returns)"
      ]
    },
    {
      "cell_type": "code",
      "execution_count": null,
      "metadata": {
        "colab": {
          "base_uri": "https://localhost:8080/"
        },
        "id": "i5Zch8wF_nUI",
        "outputId": "799f671a-4ec4-45f5-9ff9-f971e56aea85"
      },
      "outputs": [
        {
          "data": {
            "text/plain": [
              "7.074559329987042"
            ]
          },
          "execution_count": 144,
          "metadata": {},
          "output_type": "execute_result"
        }
      ],
      "source": [
        "# per10이상 단순 산술 평균 \n",
        "np.array(upper10_per_returns).sum()/len(upper10_per_returns)"
      ]
    },
    {
      "cell_type": "code",
      "execution_count": null,
      "metadata": {
        "colab": {
          "base_uri": "https://localhost:8080/"
        },
        "id": "kUUaJ_g8_r3o",
        "outputId": "abe5e700-b1ea-4718-bb1c-fc5d75ef0156"
      },
      "outputs": [
        {
          "data": {
            "text/plain": [
              "9.029340957329506"
            ]
          },
          "execution_count": 145,
          "metadata": {},
          "output_type": "execute_result"
        }
      ],
      "source": [
        "# per50이상 단순 산술 평균 \n",
        "np.array(upper50_per_returns).sum()/len(upper50_per_returns)"
      ]
    },
    {
      "cell_type": "code",
      "execution_count": null,
      "metadata": {
        "colab": {
          "base_uri": "https://localhost:8080/",
          "height": 960
        },
        "id": "Zw5jFUsE_v9P",
        "outputId": "7bdfd041-581f-4339-8f2c-e0e573222cbd"
      },
      "outputs": [
        {
          "name": "stderr",
          "output_type": "stream",
          "text": [
            "findfont: Font family ['NanumBarunGothic'] not found. Falling back to DejaVu Sans.\n",
            "/usr/local/lib/python3.7/dist-packages/matplotlib/backends/backend_agg.py:214: RuntimeWarning: Glyph 44284 missing from current font.\n",
            "  font.set_text(s, 0.0, flags=flags)\n",
            "/usr/local/lib/python3.7/dist-packages/matplotlib/backends/backend_agg.py:214: RuntimeWarning: Glyph 49688 missing from current font.\n",
            "  font.set_text(s, 0.0, flags=flags)\n",
            "/usr/local/lib/python3.7/dist-packages/matplotlib/backends/backend_agg.py:214: RuntimeWarning: Glyph 51061 missing from current font.\n",
            "  font.set_text(s, 0.0, flags=flags)\n",
            "/usr/local/lib/python3.7/dist-packages/matplotlib/backends/backend_agg.py:214: RuntimeWarning: Glyph 47456 missing from current font.\n",
            "  font.set_text(s, 0.0, flags=flags)\n",
            "/usr/local/lib/python3.7/dist-packages/matplotlib/backends/backend_agg.py:214: RuntimeWarning: Glyph 44036 missing from current font.\n",
            "  font.set_text(s, 0.0, flags=flags)\n",
            "/usr/local/lib/python3.7/dist-packages/matplotlib/backends/backend_agg.py:214: RuntimeWarning: Glyph 51032 missing from current font.\n",
            "  font.set_text(s, 0.0, flags=flags)\n",
            "/usr/local/lib/python3.7/dist-packages/matplotlib/backends/backend_agg.py:214: RuntimeWarning: Glyph 49345 missing from current font.\n",
            "  font.set_text(s, 0.0, flags=flags)\n",
            "/usr/local/lib/python3.7/dist-packages/matplotlib/backends/backend_agg.py:214: RuntimeWarning: Glyph 44288 missing from current font.\n",
            "  font.set_text(s, 0.0, flags=flags)\n",
            "/usr/local/lib/python3.7/dist-packages/matplotlib/backends/backend_agg.py:214: RuntimeWarning: Glyph 44228 missing from current font.\n",
            "  font.set_text(s, 0.0, flags=flags)\n",
            "/usr/local/lib/python3.7/dist-packages/matplotlib/backends/backend_agg.py:183: RuntimeWarning: Glyph 44284 missing from current font.\n",
            "  font.set_text(s, 0, flags=flags)\n",
            "/usr/local/lib/python3.7/dist-packages/matplotlib/backends/backend_agg.py:183: RuntimeWarning: Glyph 49688 missing from current font.\n",
            "  font.set_text(s, 0, flags=flags)\n",
            "/usr/local/lib/python3.7/dist-packages/matplotlib/backends/backend_agg.py:183: RuntimeWarning: Glyph 51061 missing from current font.\n",
            "  font.set_text(s, 0, flags=flags)\n",
            "/usr/local/lib/python3.7/dist-packages/matplotlib/backends/backend_agg.py:183: RuntimeWarning: Glyph 47456 missing from current font.\n",
            "  font.set_text(s, 0, flags=flags)\n",
            "/usr/local/lib/python3.7/dist-packages/matplotlib/backends/backend_agg.py:183: RuntimeWarning: Glyph 44036 missing from current font.\n",
            "  font.set_text(s, 0, flags=flags)\n",
            "/usr/local/lib/python3.7/dist-packages/matplotlib/backends/backend_agg.py:183: RuntimeWarning: Glyph 51032 missing from current font.\n",
            "  font.set_text(s, 0, flags=flags)\n",
            "/usr/local/lib/python3.7/dist-packages/matplotlib/backends/backend_agg.py:183: RuntimeWarning: Glyph 49345 missing from current font.\n",
            "  font.set_text(s, 0, flags=flags)\n",
            "/usr/local/lib/python3.7/dist-packages/matplotlib/backends/backend_agg.py:183: RuntimeWarning: Glyph 44288 missing from current font.\n",
            "  font.set_text(s, 0, flags=flags)\n",
            "/usr/local/lib/python3.7/dist-packages/matplotlib/backends/backend_agg.py:183: RuntimeWarning: Glyph 44228 missing from current font.\n",
            "  font.set_text(s, 0, flags=flags)\n"
          ]
        },
        {
          "data": {
            "image/png": "[encoded data removed]",
            "text/plain": [
              "<Figure size 432x288 with 1 Axes>"
            ]
          },
          "metadata": {},
          "output_type": "display_data"
        }
      ],
      "source": [
        "plt.plot(year,per_returns_corr,label = '상관관계')\n",
        "plt.title('PER과 수익률간의 상관관계')\n",
        "plt.ylim(0,1)\n",
        "plt.legend()\n",
        "plt.show()"
      ]
    },
    {
      "cell_type": "code",
      "execution_count": null,
      "metadata": {
        "colab": {
          "base_uri": "https://localhost:8080/"
        },
        "id": "CnwLpEEcKHIl",
        "outputId": "3ef5b6d4-e671-4b87-965d-3143f6b988fa"
      },
      "outputs": [
        {
          "data": {
            "text/plain": [
              "[array([0.0102598]),\n",
              " array([-0.02276642]),\n",
              " array([-0.02060888]),\n",
              " array([-0.00252153]),\n",
              " array([0.05517497]),\n",
              " array([0.0303681]),\n",
              " array([-0.00819086]),\n",
              " array([0.00378815]),\n",
              " array([-0.02869591]),\n",
              " array([0.06868564])]"
            ]
          },
          "execution_count": 147,
          "metadata": {},
          "output_type": "execute_result"
        }
      ],
      "source": [
        "per_returns_corr"
      ]
    },
    {
      "cell_type": "markdown",
      "metadata": {
        "id": "_Rd4G0w37dFD"
      },
      "source": [
        "# PBR"
      ]
    },
    {
      "cell_type": "code",
      "execution_count": null,
      "metadata": {
        "id": "dfemGM9d7dFD"
      },
      "outputs": [],
      "source": [
        "import pandas as pd\n",
        "import numpy as np\n",
        "import matplotlib.pyplot as plt"
      ]
    },
    {
      "cell_type": "code",
      "execution_count": null,
      "metadata": {
        "colab": {
          "base_uri": "https://localhost:8080/"
        },
        "id": "Ze98hFV_7dFE",
        "outputId": "e42e149a-bb5f-4125-f3e9-6dc20705cc6e"
      },
      "outputs": [
        {
          "name": "stdout",
          "output_type": "stream",
          "text": [
            "Drive already mounted at /gdrive; to attempt to forcibly remount, call drive.mount(\"/gdrive\", force_remount=True).\n"
          ]
        }
      ],
      "source": [
        "from google.colab import drive\n",
        "drive.mount('/gdrive')"
      ]
    },
    {
      "cell_type": "code",
      "execution_count": null,
      "metadata": {
        "colab": {
          "base_uri": "https://localhost:8080/"
        },
        "id": "aFge4xI07dFE",
        "outputId": "14b5db54-d472-4a36-a4e7-dc868c63bfa6"
      },
      "outputs": [
        {
          "name": "stdout",
          "output_type": "stream",
          "text": [
            "total 614\n",
            "-rw------- 1 root root 57194 Mar 26 10:35 jongmok_upjong_2011.xlsx\n",
            "-rw------- 1 root root 58002 Mar 26 10:29 jongmok_upjong_2012.xlsx\n",
            "-rw------- 1 root root 57383 Mar 26 10:29 jongmok_upjong_2013.xlsx\n",
            "-rw------- 1 root root 57065 Mar 26 10:30 jongmok_upjong_2014.xlsx\n",
            "-rw------- 1 root root 55940 Mar 26 10:31 jongmok_upjong_2015.xlsx\n",
            "-rw------- 1 root root 55725 Mar 26 10:31 jongmok_upjong_2016.xlsx\n",
            "-rw------- 1 root root 55936 Mar 26 10:31 jongmok_upjong_2017.xlsx\n",
            "-rw------- 1 root root 55609 Mar 26 10:31 jongmok_upjong_2018.xlsx\n",
            "-rw------- 1 root root 56859 Mar 26 10:32 jongmok_upjong_2019.xlsx\n",
            "-rw------- 1 root root 57558 Mar 26 10:32 jongmok_upjong_2020.xlsx\n",
            "-rw------- 1 root root 58027 Mar 26 11:51 jongmok_upjong_2021.xlsx\n"
          ]
        }
      ],
      "source": [
        "ls -all ../gdrive/MyDrive/PER_Provement/jongmok_upjong/"
      ]
    },
    {
      "cell_type": "code",
      "execution_count": null,
      "metadata": {
        "id": "MLIbgRoZ7dFE"
      },
      "outputs": [],
      "source": [
        "# for문 돌려서 엑셀파일 열기위한 경로 설정\n",
        "import os\n",
        "\n",
        "PATH = '../gdrive/MyDrive/PER_Provement/price_per/'\n",
        "\n",
        "file_list= []\n",
        "for (root, directories, files) in os.walk(PATH):\n",
        "    for file in files:\n",
        "#         print(files)\n",
        "        file_path = os.path.join(root, file)\n",
        "        file_list.append(file_path)"
      ]
    },
    {
      "cell_type": "code",
      "execution_count": null,
      "metadata": {
        "colab": {
          "base_uri": "https://localhost:8080/"
        },
        "id": "u7n2orhe7dFE",
        "outputId": "eba4cc2c-9cc6-4199-b795-f6bc344fe182"
      },
      "outputs": [
        {
          "name": "stderr",
          "output_type": "stream",
          "text": [
            "/usr/local/lib/python3.7/dist-packages/openpyxl/styles/stylesheet.py:226: UserWarning: Workbook contains no default style, apply openpyxl's default\n",
            "  warn(\"Workbook contains no default style, apply openpyxl's default\")\n"
          ]
        }
      ],
      "source": [
        "for file in file_list:\n",
        "  # print(file[-13:-9])\n",
        "  df = pd.read_excel(file)[['종목코드', '종목명','PBR']]\n",
        "  exec(f'pbr_{file[-13:-9]} =df')"
      ]
    },
    {
      "cell_type": "code",
      "execution_count": null,
      "metadata": {
        "id": "jR4pBmxA7dFE"
      },
      "outputs": [],
      "source": [
        "# for문 돌려서 엑셀파일 열기위한 경로 설정\n",
        "import os\n",
        "\n",
        "PATH = '../gdrive/MyDrive/PER_Provement/jongmok_upjong/'\n",
        "\n",
        "file_list= []\n",
        "for (root, directories, files) in os.walk(PATH):\n",
        "    for file in files:\n",
        "#         print(files)\n",
        "        file_path = os.path.join(root, file)\n",
        "        file_list.append(file_path)"
      ]
    },
    {
      "cell_type": "code",
      "execution_count": null,
      "metadata": {
        "colab": {
          "base_uri": "https://localhost:8080/"
        },
        "id": "MjZBCjWg7dFE",
        "outputId": "09c2c612-b788-4fe1-9bdf-572eaa7238f7"
      },
      "outputs": [
        {
          "name": "stderr",
          "output_type": "stream",
          "text": [
            "/usr/local/lib/python3.7/dist-packages/openpyxl/styles/stylesheet.py:226: UserWarning: Workbook contains no default style, apply openpyxl's default\n",
            "  warn(\"Workbook contains no default style, apply openpyxl's default\")\n"
          ]
        }
      ],
      "source": [
        "for file in file_list:\n",
        "  # print(file[-9:-5])\n",
        "  df = pd.read_excel(file)[['종목코드', '종목명','업종명','종가']]\n",
        "  exec(f'jongmok_upjong{file[-9:-5]} =df')"
      ]
    },
    {
      "cell_type": "code",
      "execution_count": null,
      "metadata": {
        "id": "OmXsuLWn7dFE"
      },
      "outputs": [],
      "source": [
        "# for문 돌려서 엑셀파일 열기위한 경로 설정\n",
        "import os\n",
        "\n",
        "PATH = '../gdrive/MyDrive/PER_Provement/upjong/'\n",
        "\n",
        "file_list= []\n",
        "for (root, directories, files) in os.walk(PATH):\n",
        "    for file in files:\n",
        "#         print(files)\n",
        "        file_path = os.path.join(root, file)\n",
        "        file_list.append(file_path)"
      ]
    },
    {
      "cell_type": "code",
      "execution_count": null,
      "metadata": {
        "colab": {
          "base_uri": "https://localhost:8080/"
        },
        "id": "prg7Cwu77dFF",
        "outputId": "789df077-86d6-4a64-eb3a-d07f5b7054bc"
      },
      "outputs": [
        {
          "name": "stderr",
          "output_type": "stream",
          "text": [
            "/usr/local/lib/python3.7/dist-packages/openpyxl/styles/stylesheet.py:226: UserWarning: Workbook contains no default style, apply openpyxl's default\n",
            "  warn(\"Workbook contains no default style, apply openpyxl's default\")\n"
          ]
        }
      ],
      "source": [
        "for file in file_list:\n",
        "  # print(file[-19:-15])\n",
        "  df = pd.read_excel(file)[['지수명','PBR']]\n",
        "  df = df.rename(columns = {'지수명':'업종명',\n",
        "                       'PBR':'업종PBR'})\n",
        "  exec(f'upjong{file[-19:-15]} =df')"
      ]
    },
    {
      "cell_type": "code",
      "execution_count": null,
      "metadata": {
        "id": "_f2MSLHX7dFF"
      },
      "outputs": [],
      "source": [
        "lower_pbr_returns = []\n",
        "upper_pbr_returns = []\n",
        "under02_pbr_returns = []\n",
        "under1_pbr_returns = []\n",
        "upper1_pbr_returns = []\n",
        "upper5_pbr_returns= []\n",
        "pbr_returns_corr = []"
      ]
    },
    {
      "cell_type": "markdown",
      "metadata": {
        "id": "1-eMbLok7dFF"
      },
      "source": [
        "## 2011"
      ]
    },
    {
      "cell_type": "code",
      "execution_count": null,
      "metadata": {
        "id": "tf73Ii1J7dFF"
      },
      "outputs": [],
      "source": [
        "join_t1 = pd.merge(pbr_2011,jongmok_upjong2011,how='left',on='종목코드')[['종목코드','종목명_x','업종명','PBR','종가']]\n",
        "join_t1.columns = ['종목코드','종목명','업종명','PBR','종가']\n",
        "join_t2 = pd.merge(join_t1,upjong2011,how='left',on='업종명')"
      ]
    },
    {
      "cell_type": "code",
      "execution_count": null,
      "metadata": {
        "id": "kM9Tgiz67dFF"
      },
      "outputs": [],
      "source": [
        "join_t2['PBR'] = join_t2['PBR'].apply(lambda x : '0' if x=='-' else x)\n",
        "join_t2['PBR'] = join_t2['PBR'].astype(float)"
      ]
    },
    {
      "cell_type": "code",
      "execution_count": null,
      "metadata": {
        "colab": {
          "base_uri": "https://localhost:8080/"
        },
        "id": "lU4ZtXuj7dFF",
        "outputId": "c62e4910-6052-487d-a69f-60e3ccd89575"
      },
      "outputs": [
        {
          "name": "stdout",
          "output_type": "stream",
          "text": [
            "전처리전 코스피 종목 갯수 : 872\n"
          ]
        }
      ],
      "source": [
        "join_t2['업종PBR'] = join_t2['업종PBR'].apply(lambda x : '0' if x =='-' else x)\n",
        "join_t2['업종PBR'] = join_t2['업종PBR'].astype(float)\n",
        "print('전처리전 코스피 종목 갯수 : {}'.format(len(join_t2)))"
      ]
    },
    {
      "cell_type": "code",
      "execution_count": null,
      "metadata": {
        "colab": {
          "base_uri": "https://localhost:8080/"
        },
        "id": "2nFid7Cr7dFF",
        "outputId": "86846006-d904-4725-ad56-f0272baac859"
      },
      "outputs": [
        {
          "name": "stdout",
          "output_type": "stream",
          "text": [
            "전처리 후 코스피 종목 갯수 : 702\n"
          ]
        }
      ],
      "source": [
        "join_t2 = join_t2.loc[~((join_t2['PBR']==0) | (join_t2['업종PBR']==0))] # PBR이나 업종PBR이 0인 종목을 제외한 종목(872종목에서 >>702종목)\n",
        "print('전처리 후 코스피 종목 갯수 : {}'.format(len(join_t2)))"
      ]
    },
    {
      "cell_type": "code",
      "execution_count": null,
      "metadata": {
        "colab": {
          "base_uri": "https://localhost:8080/"
        },
        "id": "cyGXHs-h7dFF",
        "outputId": "888616e2-6324-43aa-92a4-4007f6760656"
      },
      "outputs": [
        {
          "name": "stdout",
          "output_type": "stream",
          "text": [
            "-4.830978810137763\n"
          ]
        }
      ],
      "source": [
        "lower_upjong = join_t2.loc[join_t2['PBR'] <join_t2['업종PBR']] # 업종pbr보다 낮은 pbr주식\n",
        "comp1112 = pd.merge(lower_upjong, jongmok_upjong2012, how='left',on = '종목코드')[['종목코드', '종목명_x', '업종명_x', 'PBR', '종가_x', '업종PBR','종가_y']]\n",
        "comp1112.columns = ['종목코드', '종목명', '업종명', 'PBR', '종가', '업종PBR','다음년도종가']\n",
        "comp1112['증가율'] = ((comp1112['다음년도종가']-comp1112['종가'])/comp1112['종가'])*100\n",
        "lower_pbr_returns.append(comp1112['증가율'].sum()/len(comp1112))\n",
        "print(comp1112['증가율'].sum()/len(comp1112)) # 평균 기대수익률"
      ]
    },
    {
      "cell_type": "code",
      "execution_count": null,
      "metadata": {
        "colab": {
          "base_uri": "https://localhost:8080/"
        },
        "id": "boT4ezqO7dFF",
        "outputId": "465569e0-157b-4926-a085-c2b1d240325f"
      },
      "outputs": [
        {
          "name": "stdout",
          "output_type": "stream",
          "text": [
            "-8.256433116019416\n"
          ]
        }
      ],
      "source": [
        "over_upjong = join_t2.loc[join_t2['PBR'] >join_t2['업종PBR']] # 업종pbr보다 높은 pbr주식\n",
        "comp1112 = pd.merge(over_upjong, jongmok_upjong2012, how='left',on = '종목코드')[['종목코드', '종목명_x', '업종명_x', 'PBR', '종가_x', '업종PBR','종가_y']]\n",
        "comp1112.columns = ['종목코드', '종목명', '업종명', 'PBR', '종가', '업종PBR','다음년도종가']\n",
        "comp1112['증가율'] = ((comp1112['다음년도종가']-comp1112['종가'])/comp1112['종가'])*100\n",
        "upper_pbr_returns.append(comp1112['증가율'].sum()/len(comp1112))\n",
        "print(comp1112['증가율'].sum()/len(comp1112)) # 평균 기대수익률"
      ]
    },
    {
      "cell_type": "code",
      "execution_count": null,
      "metadata": {
        "colab": {
          "base_uri": "https://localhost:8080/"
        },
        "id": "QePF6tqE7dFF",
        "outputId": "ee825b9a-b2d7-4f65-a945-ab19eacf66cb"
      },
      "outputs": [
        {
          "name": "stdout",
          "output_type": "stream",
          "text": [
            "25.502445002042254\n"
          ]
        }
      ],
      "source": [
        "under02_upjong = join_t2.loc[join_t2['PBR'] <0.2] # pbr이 0.2보다 낮은 주식\n",
        "comp1112 = pd.merge(under02_upjong, jongmok_upjong2012, how='left',on = '종목코드')[['종목코드', '종목명_x', '업종명_x', 'PBR', '종가_x', '업종PBR','종가_y']]\n",
        "comp1112.columns = ['종목코드', '종목명', '업종명', 'PBR', '종가', '업종PBR','다음년도종가']\n",
        "comp1112['증가율'] = ((comp1112['다음년도종가']-comp1112['종가'])/comp1112['종가'])*100\n",
        "under02_pbr_returns.append(comp1112['증가율'].sum()/len(comp1112))\n",
        "print(comp1112['증가율'].sum()/len(comp1112)) # 평균 기대수익률"
      ]
    },
    {
      "cell_type": "code",
      "execution_count": null,
      "metadata": {
        "colab": {
          "base_uri": "https://localhost:8080/"
        },
        "id": "uDbg9gKr7dFF",
        "outputId": "61ccc4dc-93ec-44ee-e8c0-c21eba1daf9f"
      },
      "outputs": [
        {
          "name": "stdout",
          "output_type": "stream",
          "text": [
            "-3.6143198581159037\n"
          ]
        }
      ],
      "source": [
        "under1_upjong = join_t2.loc[join_t2['PBR'] <1] # pbr이 1보다 주식\n",
        "comp1112 = pd.merge(under1_upjong, jongmok_upjong2012, how='left',on = '종목코드')[['종목코드', '종목명_x', '업종명_x', 'PBR', '종가_x', '업종PBR','종가_y']]\n",
        "comp1112.columns = ['종목코드', '종목명', '업종명', 'PBR', '종가', '업종PBR','다음년도종가']\n",
        "comp1112['증가율'] = ((comp1112['다음년도종가']-comp1112['종가'])/comp1112['종가'])*100\n",
        "under1_pbr_returns.append(comp1112['증가율'].sum()/len(comp1112))\n",
        "print(comp1112['증가율'].sum()/len(comp1112)) # 평균 기대수익률"
      ]
    },
    {
      "cell_type": "code",
      "execution_count": null,
      "metadata": {
        "colab": {
          "base_uri": "https://localhost:8080/"
        },
        "id": "ubn8eTRI7dFG",
        "outputId": "731c8087-f7cf-414c-c007-d66a2c08fcc0"
      },
      "outputs": [
        {
          "name": "stdout",
          "output_type": "stream",
          "text": [
            "-8.614999214603923\n"
          ]
        }
      ],
      "source": [
        "upper1_pbr = join_t2.loc[join_t2['PBR'] >1] # pbr이 1보다 높은 주식\n",
        "comp1112 = pd.merge(upper1_pbr, jongmok_upjong2012, how='left',on = '종목코드')[['종목코드', '종목명_x', '업종명_x', 'PBR', '종가_x', '업종PBR','종가_y']]\n",
        "comp1112.columns = ['종목코드', '종목명', '업종명', 'PBR', '종가', '업종PBR','다음년도종가']\n",
        "comp1112['증가율'] = ((comp1112['다음년도종가']-comp1112['종가'])/comp1112['종가'])*100\n",
        "upper1_pbr_returns.append(comp1112['증가율'].sum()/len(comp1112))\n",
        "print(comp1112['증가율'].sum()/len(comp1112)) # 평균 기대수익률"
      ]
    },
    {
      "cell_type": "code",
      "execution_count": null,
      "metadata": {
        "colab": {
          "base_uri": "https://localhost:8080/"
        },
        "id": "8d_ejuyH7dFG",
        "outputId": "91c118bb-3816-426f-c3bc-73c085681d45"
      },
      "outputs": [
        {
          "name": "stdout",
          "output_type": "stream",
          "text": [
            "-16.314647229122453\n"
          ]
        }
      ],
      "source": [
        "upper5_pbr = join_t2.loc[join_t2['PBR'] > 5] # pbr이 5보다 높은 주식\n",
        "comp1112 = pd.merge(upper5_pbr, jongmok_upjong2012, how='left',on = '종목코드')[['종목코드', '종목명_x', '업종명_x', 'PBR', '종가_x', '업종PBR','종가_y']]\n",
        "comp1112.columns = ['종목코드', '종목명', '업종명', 'PBR', '종가', '업종PBR','다음년도종가']\n",
        "comp1112['증가율'] = ((comp1112['다음년도종가']-comp1112['종가'])/comp1112['종가'])*100\n",
        "upper5_pbr_returns.append(comp1112['증가율'].sum()/len(comp1112))\n",
        "print(comp1112['증가율'].sum()/len(comp1112)) # 평균 기대수익률"
      ]
    },
    {
      "cell_type": "code",
      "execution_count": null,
      "metadata": {
        "colab": {
          "base_uri": "https://localhost:8080/",
          "height": 206
        },
        "id": "OmiuDu3r1KgL",
        "outputId": "7be8b758-662b-4a62-efb2-33fe6df30b5d"
      },
      "outputs": [
        {
          "data": {
            "text/html": [
              "\n",
              "  <div id=\"df-4f6720ce-0366-4273-b07f-34e35df52aa1\">\n",
              "    <div class=\"colab-df-container\">\n",
              "      <div>\n",
              "<style scoped>\n",
              "    .dataframe tbody tr th:only-of-type {\n",
              "        vertical-align: middle;\n",
              "    }\n",
              "\n",
              "    .dataframe tbody tr th {\n",
              "        vertical-align: top;\n",
              "    }\n",
              "\n",
              "    .dataframe thead th {\n",
              "        text-align: right;\n",
              "    }\n",
              "</style>\n",
              "<table border=\"1\" class=\"dataframe\">\n",
              "  <thead>\n",
              "    <tr style=\"text-align: right;\">\n",
              "      <th></th>\n",
              "      <th>증가율</th>\n",
              "    </tr>\n",
              "  </thead>\n",
              "  <tbody>\n",
              "    <tr>\n",
              "      <th>PBR</th>\n",
              "      <td>-0.046174</td>\n",
              "    </tr>\n",
              "    <tr>\n",
              "      <th>업종PBR</th>\n",
              "      <td>-0.020344</td>\n",
              "    </tr>\n",
              "    <tr>\n",
              "      <th>종가</th>\n",
              "      <td>-0.004088</td>\n",
              "    </tr>\n",
              "    <tr>\n",
              "      <th>다음해종가</th>\n",
              "      <td>0.051877</td>\n",
              "    </tr>\n",
              "    <tr>\n",
              "      <th>증가율</th>\n",
              "      <td>1.000000</td>\n",
              "    </tr>\n",
              "  </tbody>\n",
              "</table>\n",
              "</div>\n",
              "      <button class=\"colab-df-convert\" onclick=\"convertToInteractive('df-4f6720ce-0366-4273-b07f-34e35df52aa1')\"\n",
              "              title=\"Convert this dataframe to an interactive table.\"\n",
              "              style=\"display:none;\">\n",
              "        \n",
              "  <svg xmlns=\"http://www.w3.org/2000/svg\" height=\"24px\"viewBox=\"0 0 24 24\"\n",
              "       width=\"24px\">\n",
              "    <path d=\"M0 0h24v24H0V0z\" fill=\"none\"/>\n",
              "    <path d=\"M18.56 5.44l.94 2.06.94-2.06 2.06-.94-2.06-.94-.94-2.06-.94 2.06-2.06.94zm-11 1L8.5 8.5l.94-2.06 2.06-.94-2.06-.94L8.5 2.5l-.94 2.06-2.06.94zm10 10l.94 2.06.94-2.06 2.06-.94-2.06-.94-.94-2.06-.94 2.06-2.06.94z\"/><path d=\"M17.41 7.96l-1.37-1.37c-.4-.4-.92-.59-1.43-.59-.52 0-1.04.2-1.43.59L10.3 9.45l-7.72 7.72c-.78.78-.78 2.05 0 2.83L4 21.41c.39.39.9.59 1.41.59.51 0 1.02-.2 1.41-.59l7.78-7.78 2.81-2.81c.8-.78.8-2.07 0-2.86zM5.41 20L4 18.59l7.72-7.72 1.47 1.35L5.41 20z\"/>\n",
              "  </svg>\n",
              "      </button>\n",
              "      \n",
              "  <style>\n",
              "    .colab-df-container {\n",
              "      display:flex;\n",
              "      flex-wrap:wrap;\n",
              "      gap: 12px;\n",
              "    }\n",
              "\n",
              "    .colab-df-convert {\n",
              "      background-color: #E8F0FE;\n",
              "      border: none;\n",
              "      border-radius: 50%;\n",
              "      cursor: pointer;\n",
              "      display: none;\n",
              "      fill: #1967D2;\n",
              "      height: 32px;\n",
              "      padding: 0 0 0 0;\n",
              "      width: 32px;\n",
              "    }\n",
              "\n",
              "    .colab-df-convert:hover {\n",
              "      background-color: #E2EBFA;\n",
              "      box-shadow: 0px 1px 2px rgba(60, 64, 67, 0.3), 0px 1px 3px 1px rgba(60, 64, 67, 0.15);\n",
              "      fill: #174EA6;\n",
              "    }\n",
              "\n",
              "    [theme=dark] .colab-df-convert {\n",
              "      background-color: #3B4455;\n",
              "      fill: #D2E3FC;\n",
              "    }\n",
              "\n",
              "    [theme=dark] .colab-df-convert:hover {\n",
              "      background-color: #434B5C;\n",
              "      box-shadow: 0px 1px 3px 1px rgba(0, 0, 0, 0.15);\n",
              "      filter: drop-shadow(0px 1px 2px rgba(0, 0, 0, 0.3));\n",
              "      fill: #FFFFFF;\n",
              "    }\n",
              "  </style>\n",
              "\n",
              "      <script>\n",
              "        const buttonEl =\n",
              "          document.querySelector('#df-4f6720ce-0366-4273-b07f-34e35df52aa1 button.colab-df-convert');\n",
              "        buttonEl.style.display =\n",
              "          google.colab.kernel.accessAllowed ? 'block' : 'none';\n",
              "\n",
              "        async function convertToInteractive(key) {\n",
              "          const element = document.querySelector('#df-4f6720ce-0366-4273-b07f-34e35df52aa1');\n",
              "          const dataTable =\n",
              "            await google.colab.kernel.invokeFunction('convertToInteractive',\n",
              "                                                     [key], {});\n",
              "          if (!dataTable) return;\n",
              "\n",
              "          const docLinkHtml = 'Like what you see? Visit the ' +\n",
              "            '<a target=\"_blank\" href=https://colab.research.google.com/notebooks/data_table.ipynb>data table notebook</a>'\n",
              "            + ' to learn more about interactive tables.';\n",
              "          element.innerHTML = '';\n",
              "          dataTable['output_type'] = 'display_data';\n",
              "          await google.colab.output.renderOutput(dataTable, element);\n",
              "          const docLink = document.createElement('div');\n",
              "          docLink.innerHTML = docLinkHtml;\n",
              "          element.appendChild(docLink);\n",
              "        }\n",
              "      </script>\n",
              "    </div>\n",
              "  </div>\n",
              "  "
            ],
            "text/plain": [
              "            증가율\n",
              "PBR   -0.046174\n",
              "업종PBR -0.020344\n",
              "종가    -0.004088\n",
              "다음해종가  0.051877\n",
              "증가율    1.000000"
            ]
          },
          "execution_count": 707,
          "metadata": {},
          "output_type": "execute_result"
        }
      ],
      "source": [
        "a = pd.merge(join_t2.sort_values('PBR'), jongmok_upjong2012, how='left', on = '종목코드')[['종목코드', '종목명_x', '업종명_x', 'PBR', '업종PBR','종가_x','종가_y']]\n",
        "a.columns = ['종목코드', '종목명', '업종명', 'PBR', '업종PBR','종가','다음해종가']\n",
        "a['증가율'] = ((a['다음해종가']-a['종가'])/a['종가'])*100\n",
        "a = a.loc[~a['다음해종가'].isnull()]\n",
        "pbr_returns_corr_score = a.corr()['증가율'].to_frame()\n",
        "pbr_returns_corr.append(pbr_returns_corr_score.loc[(pbr_returns_corr_score.index=='PBR')]['증가율'].values)\n",
        "pbr_returns_corr_score"
      ]
    },
    {
      "cell_type": "code",
      "execution_count": null,
      "metadata": {
        "colab": {
          "base_uri": "https://localhost:8080/",
          "height": 424
        },
        "id": "WvcuKir-KM_2",
        "outputId": "7a401947-1a70-49db-ff5c-ca44512a4c78"
      },
      "outputs": [
        {
          "data": {
            "text/html": [
              "\n",
              "  <div id=\"df-4f655111-b530-4d68-af16-469318130ad2\">\n",
              "    <div class=\"colab-df-container\">\n",
              "      <div>\n",
              "<style scoped>\n",
              "    .dataframe tbody tr th:only-of-type {\n",
              "        vertical-align: middle;\n",
              "    }\n",
              "\n",
              "    .dataframe tbody tr th {\n",
              "        vertical-align: top;\n",
              "    }\n",
              "\n",
              "    .dataframe thead th {\n",
              "        text-align: right;\n",
              "    }\n",
              "</style>\n",
              "<table border=\"1\" class=\"dataframe\">\n",
              "  <thead>\n",
              "    <tr style=\"text-align: right;\">\n",
              "      <th></th>\n",
              "      <th>종목코드</th>\n",
              "      <th>종목명</th>\n",
              "      <th>업종명</th>\n",
              "      <th>PBR</th>\n",
              "      <th>업종PBR</th>\n",
              "      <th>종가</th>\n",
              "      <th>다음해종가</th>\n",
              "      <th>증가율</th>\n",
              "    </tr>\n",
              "  </thead>\n",
              "  <tbody>\n",
              "    <tr>\n",
              "      <th>0</th>\n",
              "      <td>009320</td>\n",
              "      <td>대우부품</td>\n",
              "      <td>전기전자</td>\n",
              "      <td>0.05</td>\n",
              "      <td>1.87</td>\n",
              "      <td>2025.0</td>\n",
              "      <td>740.0</td>\n",
              "      <td>-63.456790</td>\n",
              "    </tr>\n",
              "    <tr>\n",
              "      <th>1</th>\n",
              "      <td>004550</td>\n",
              "      <td>대우차판매</td>\n",
              "      <td>유통업</td>\n",
              "      <td>0.08</td>\n",
              "      <td>1.39</td>\n",
              "      <td>2250.0</td>\n",
              "      <td>1190.0</td>\n",
              "      <td>-47.111111</td>\n",
              "    </tr>\n",
              "    <tr>\n",
              "      <th>2</th>\n",
              "      <td>006390</td>\n",
              "      <td>현대시멘트</td>\n",
              "      <td>비금속광물</td>\n",
              "      <td>0.09</td>\n",
              "      <td>0.56</td>\n",
              "      <td>6940.0</td>\n",
              "      <td>5940.0</td>\n",
              "      <td>-14.409222</td>\n",
              "    </tr>\n",
              "    <tr>\n",
              "      <th>3</th>\n",
              "      <td>015110</td>\n",
              "      <td>중앙건설</td>\n",
              "      <td>건설업</td>\n",
              "      <td>0.09</td>\n",
              "      <td>1.18</td>\n",
              "      <td>2705.0</td>\n",
              "      <td>1200.0</td>\n",
              "      <td>-55.637708</td>\n",
              "    </tr>\n",
              "    <tr>\n",
              "      <th>4</th>\n",
              "      <td>001310</td>\n",
              "      <td>풍림산업</td>\n",
              "      <td>건설업</td>\n",
              "      <td>0.12</td>\n",
              "      <td>1.18</td>\n",
              "      <td>2090.0</td>\n",
              "      <td>1325.0</td>\n",
              "      <td>-36.602871</td>\n",
              "    </tr>\n",
              "    <tr>\n",
              "      <th>...</th>\n",
              "      <td>...</td>\n",
              "      <td>...</td>\n",
              "      <td>...</td>\n",
              "      <td>...</td>\n",
              "      <td>...</td>\n",
              "      <td>...</td>\n",
              "      <td>...</td>\n",
              "      <td>...</td>\n",
              "    </tr>\n",
              "    <tr>\n",
              "      <th>697</th>\n",
              "      <td>130660</td>\n",
              "      <td>한전산업</td>\n",
              "      <td>서비스업</td>\n",
              "      <td>9.21</td>\n",
              "      <td>1.78</td>\n",
              "      <td>15100.0</td>\n",
              "      <td>6730.0</td>\n",
              "      <td>-55.430464</td>\n",
              "    </tr>\n",
              "    <tr>\n",
              "      <th>698</th>\n",
              "      <td>051900</td>\n",
              "      <td>LG생활건강</td>\n",
              "      <td>화학</td>\n",
              "      <td>9.58</td>\n",
              "      <td>2.34</td>\n",
              "      <td>398000.0</td>\n",
              "      <td>479500.0</td>\n",
              "      <td>20.477387</td>\n",
              "    </tr>\n",
              "    <tr>\n",
              "      <th>699</th>\n",
              "      <td>005690</td>\n",
              "      <td>에프씨비투웰브</td>\n",
              "      <td>섬유의복</td>\n",
              "      <td>10.32</td>\n",
              "      <td>0.79</td>\n",
              "      <td>74600.0</td>\n",
              "      <td>12800.0</td>\n",
              "      <td>-82.841823</td>\n",
              "    </tr>\n",
              "    <tr>\n",
              "      <th>700</th>\n",
              "      <td>052690</td>\n",
              "      <td>한전기술</td>\n",
              "      <td>서비스업</td>\n",
              "      <td>10.72</td>\n",
              "      <td>1.78</td>\n",
              "      <td>89700.0</td>\n",
              "      <td>93000.0</td>\n",
              "      <td>3.678930</td>\n",
              "    </tr>\n",
              "    <tr>\n",
              "      <th>701</th>\n",
              "      <td>051310</td>\n",
              "      <td>성진지오텍</td>\n",
              "      <td>기계</td>\n",
              "      <td>13.45</td>\n",
              "      <td>2.10</td>\n",
              "      <td>15500.0</td>\n",
              "      <td>11400.0</td>\n",
              "      <td>-26.451613</td>\n",
              "    </tr>\n",
              "  </tbody>\n",
              "</table>\n",
              "<p>689 rows × 8 columns</p>\n",
              "</div>\n",
              "      <button class=\"colab-df-convert\" onclick=\"convertToInteractive('df-4f655111-b530-4d68-af16-469318130ad2')\"\n",
              "              title=\"Convert this dataframe to an interactive table.\"\n",
              "              style=\"display:none;\">\n",
              "        \n",
              "  <svg xmlns=\"http://www.w3.org/2000/svg\" height=\"24px\"viewBox=\"0 0 24 24\"\n",
              "       width=\"24px\">\n",
              "    <path d=\"M0 0h24v24H0V0z\" fill=\"none\"/>\n",
              "    <path d=\"M18.56 5.44l.94 2.06.94-2.06 2.06-.94-2.06-.94-.94-2.06-.94 2.06-2.06.94zm-11 1L8.5 8.5l.94-2.06 2.06-.94-2.06-.94L8.5 2.5l-.94 2.06-2.06.94zm10 10l.94 2.06.94-2.06 2.06-.94-2.06-.94-.94-2.06-.94 2.06-2.06.94z\"/><path d=\"M17.41 7.96l-1.37-1.37c-.4-.4-.92-.59-1.43-.59-.52 0-1.04.2-1.43.59L10.3 9.45l-7.72 7.72c-.78.78-.78 2.05 0 2.83L4 21.41c.39.39.9.59 1.41.59.51 0 1.02-.2 1.41-.59l7.78-7.78 2.81-2.81c.8-.78.8-2.07 0-2.86zM5.41 20L4 18.59l7.72-7.72 1.47 1.35L5.41 20z\"/>\n",
              "  </svg>\n",
              "      </button>\n",
              "      \n",
              "  <style>\n",
              "    .colab-df-container {\n",
              "      display:flex;\n",
              "      flex-wrap:wrap;\n",
              "      gap: 12px;\n",
              "    }\n",
              "\n",
              "    .colab-df-convert {\n",
              "      background-color: #E8F0FE;\n",
              "      border: none;\n",
              "      border-radius: 50%;\n",
              "      cursor: pointer;\n",
              "      display: none;\n",
              "      fill: #1967D2;\n",
              "      height: 32px;\n",
              "      padding: 0 0 0 0;\n",
              "      width: 32px;\n",
              "    }\n",
              "\n",
              "    .colab-df-convert:hover {\n",
              "      background-color: #E2EBFA;\n",
              "      box-shadow: 0px 1px 2px rgba(60, 64, 67, 0.3), 0px 1px 3px 1px rgba(60, 64, 67, 0.15);\n",
              "      fill: #174EA6;\n",
              "    }\n",
              "\n",
              "    [theme=dark] .colab-df-convert {\n",
              "      background-color: #3B4455;\n",
              "      fill: #D2E3FC;\n",
              "    }\n",
              "\n",
              "    [theme=dark] .colab-df-convert:hover {\n",
              "      background-color: #434B5C;\n",
              "      box-shadow: 0px 1px 3px 1px rgba(0, 0, 0, 0.15);\n",
              "      filter: drop-shadow(0px 1px 2px rgba(0, 0, 0, 0.3));\n",
              "      fill: #FFFFFF;\n",
              "    }\n",
              "  </style>\n",
              "\n",
              "      <script>\n",
              "        const buttonEl =\n",
              "          document.querySelector('#df-4f655111-b530-4d68-af16-469318130ad2 button.colab-df-convert');\n",
              "        buttonEl.style.display =\n",
              "          google.colab.kernel.accessAllowed ? 'block' : 'none';\n",
              "\n",
              "        async function convertToInteractive(key) {\n",
              "          const element = document.querySelector('#df-4f655111-b530-4d68-af16-469318130ad2');\n",
              "          const dataTable =\n",
              "            await google.colab.kernel.invokeFunction('convertToInteractive',\n",
              "                                                     [key], {});\n",
              "          if (!dataTable) return;\n",
              "\n",
              "          const docLinkHtml = 'Like what you see? Visit the ' +\n",
              "            '<a target=\"_blank\" href=https://colab.research.google.com/notebooks/data_table.ipynb>data table notebook</a>'\n",
              "            + ' to learn more about interactive tables.';\n",
              "          element.innerHTML = '';\n",
              "          dataTable['output_type'] = 'display_data';\n",
              "          await google.colab.output.renderOutput(dataTable, element);\n",
              "          const docLink = document.createElement('div');\n",
              "          docLink.innerHTML = docLinkHtml;\n",
              "          element.appendChild(docLink);\n",
              "        }\n",
              "      </script>\n",
              "    </div>\n",
              "  </div>\n",
              "  "
            ],
            "text/plain": [
              "       종목코드       종목명    업종명    PBR  업종PBR        종가     다음해종가        증가율\n",
              "0    009320     대우부품    전기전자   0.05   1.87    2025.0     740.0 -63.456790\n",
              "1    004550    대우차판매     유통업   0.08   1.39    2250.0    1190.0 -47.111111\n",
              "2    006390    현대시멘트   비금속광물   0.09   0.56    6940.0    5940.0 -14.409222\n",
              "3    015110     중앙건설     건설업   0.09   1.18    2705.0    1200.0 -55.637708\n",
              "4    001310     풍림산업     건설업   0.12   1.18    2090.0    1325.0 -36.602871\n",
              "..      ...       ...    ...    ...    ...       ...       ...        ...\n",
              "697  130660     한전산업    서비스업   9.21   1.78   15100.0    6730.0 -55.430464\n",
              "698  051900   LG생활건강      화학   9.58   2.34  398000.0  479500.0  20.477387\n",
              "699  005690  에프씨비투웰브    섬유의복  10.32   0.79   74600.0   12800.0 -82.841823\n",
              "700  052690     한전기술    서비스업  10.72   1.78   89700.0   93000.0   3.678930\n",
              "701  051310    성진지오텍      기계  13.45   2.10   15500.0   11400.0 -26.451613\n",
              "\n",
              "[689 rows x 8 columns]"
            ]
          },
          "execution_count": 708,
          "metadata": {},
          "output_type": "execute_result"
        }
      ],
      "source": [
        "a.loc['']"
      ]
    },
    {
      "cell_type": "code",
      "execution_count": null,
      "metadata": {
        "id": "DRaqifOrMeI6"
      },
      "outputs": [],
      "source": [
        ""
      ]
    },
    {
      "cell_type": "markdown",
      "metadata": {
        "id": "QEKtwXcB7dFG"
      },
      "source": [
        "## 2012"
      ]
    },
    {
      "cell_type": "code",
      "execution_count": null,
      "metadata": {
        "id": "hkX1Uqc47dFG"
      },
      "outputs": [],
      "source": [
        "join_t1 = pd.merge(pbr_2012,jongmok_upjong2012,how='left',on='종목코드')[['종목코드','종목명_x','업종명','PBR','종가']]\n",
        "join_t1.columns = ['종목코드','종목명','업종명','PBR','종가']\n",
        "join_t2 = pd.merge(join_t1,upjong2012,how='left',on='업종명')"
      ]
    },
    {
      "cell_type": "code",
      "execution_count": null,
      "metadata": {
        "id": "qjYxh9eF7dFG"
      },
      "outputs": [],
      "source": [
        "join_t2['PBR'] = join_t2['PBR'].apply(lambda x : '0' if x=='-' else x)\n",
        "join_t2['PBR'] = join_t2['PBR'].astype(float)"
      ]
    },
    {
      "cell_type": "code",
      "execution_count": null,
      "metadata": {
        "colab": {
          "base_uri": "https://localhost:8080/"
        },
        "id": "cU44rUiX7dFG",
        "outputId": "af284897-ab1b-4bae-b2d4-db5b17536fbe"
      },
      "outputs": [
        {
          "name": "stdout",
          "output_type": "stream",
          "text": [
            "전처리 하기 전 코스피 종목 수 : 882\n"
          ]
        }
      ],
      "source": [
        "join_t2['업종PBR'] = join_t2['업종PBR'].apply(lambda x : '0' if x =='-' else x)\n",
        "join_t2['업종PBR'] = join_t2['업종PBR'].astype(float)\n",
        "print('전처리 하기 전 코스피 종목 수 : {}'.format(len(join_t2)))"
      ]
    },
    {
      "cell_type": "code",
      "execution_count": null,
      "metadata": {
        "colab": {
          "base_uri": "https://localhost:8080/"
        },
        "id": "Cr2r5s5m7dFG",
        "outputId": "70cc9bc9-67c5-4141-c080-c42bb7cf32b9"
      },
      "outputs": [
        {
          "name": "stdout",
          "output_type": "stream",
          "text": [
            "전처리 한 후 코스피 종목 수 : 718\n"
          ]
        }
      ],
      "source": [
        "join_t2 = join_t2.loc[~((join_t2['업종PBR']==0) | (join_t2['PBR']==0))] # PBR이나 업종PBR이 0인 종목을 제외한 종목\n",
        "print('전처리 한 후 코스피 종목 수 : {}'.format(len(join_t2)))"
      ]
    },
    {
      "cell_type": "code",
      "execution_count": null,
      "metadata": {
        "colab": {
          "base_uri": "https://localhost:8080/"
        },
        "id": "mOQfNtyX7dFG",
        "outputId": "2bd1f604-8c03-434c-b353-2f2be3c62708"
      },
      "outputs": [
        {
          "name": "stdout",
          "output_type": "stream",
          "text": [
            "20.119533470658595\n"
          ]
        }
      ],
      "source": [
        "lower_upjong = join_t2.loc[join_t2['업종PBR'] >join_t2['PBR']] # 업종pbr보다 낮은 pbr주식\n",
        "comp1112 = pd.merge(lower_upjong, jongmok_upjong2013, how='left',on = '종목코드')[['종목코드', '종목명_x', '업종명_x', 'PBR', '종가_x', '업종PBR','종가_y']]\n",
        "comp1112.columns = ['종목코드', '종목명', '업종명', 'PBR', '종가', '업종PBR','다음년도종가']\n",
        "comp1112['증가율'] = ((comp1112['다음년도종가']-comp1112['종가'])/comp1112['종가'])*100\n",
        "lower_pbr_returns.append(comp1112['증가율'].sum()/len(comp1112))\n",
        "print(comp1112['증가율'].sum()/len(comp1112)) # 평균 기대수익률"
      ]
    },
    {
      "cell_type": "code",
      "execution_count": null,
      "metadata": {
        "colab": {
          "base_uri": "https://localhost:8080/"
        },
        "id": "Cce7wF7Z7dFG",
        "outputId": "56f31542-e820-4ab1-e0d8-6b9620b5727a"
      },
      "outputs": [
        {
          "name": "stdout",
          "output_type": "stream",
          "text": [
            "1.4545224648176274\n"
          ]
        }
      ],
      "source": [
        "over_upjong = join_t2.loc[join_t2['PBR'] >join_t2['업종PBR']] # 업종pbr보다 높은 pbr주식\n",
        "comp1112 = pd.merge(over_upjong, jongmok_upjong2013, how='left',on = '종목코드')[['종목코드', '종목명_x', '업종명_x', 'PBR', '종가_x', '업종PBR','종가_y']]\n",
        "comp1112.columns = ['종목코드', '종목명', '업종명', 'PBR', '종가', '업종PBR','다음년도종가']\n",
        "comp1112['증가율'] = ((comp1112['다음년도종가']-comp1112['종가'])/comp1112['종가'])*100\n",
        "upper_pbr_returns.append(comp1112['증가율'].sum()/len(comp1112))\n",
        "print(comp1112['증가율'].sum()/len(comp1112)) # 평균 기대수익률"
      ]
    },
    {
      "cell_type": "code",
      "execution_count": null,
      "metadata": {
        "colab": {
          "base_uri": "https://localhost:8080/"
        },
        "id": "jNEQ3V147dFG",
        "outputId": "08d74558-c3ad-4511-e634-10e0bd880e56"
      },
      "outputs": [
        {
          "name": "stdout",
          "output_type": "stream",
          "text": [
            "95.5126306692384\n"
          ]
        }
      ],
      "source": [
        "under02_upjong = join_t2.loc[join_t2['PBR'] <0.2] # pbr이 0.2보다 낮은 주식\n",
        "comp1112 = pd.merge(under02_upjong, jongmok_upjong2013, how='left',on = '종목코드')[['종목코드', '종목명_x', '업종명_x', 'PBR', '종가_x', '업종PBR','종가_y']]\n",
        "comp1112.columns = ['종목코드', '종목명', '업종명', 'PBR', '종가', '업종PBR','다음년도종가']\n",
        "comp1112['증가율'] = ((comp1112['다음년도종가']-comp1112['종가'])/comp1112['종가'])*100\n",
        "under02_pbr_returns.append(comp1112['증가율'].sum()/len(comp1112))\n",
        "print(comp1112['증가율'].sum()/len(comp1112)) # 평균 기대수익률"
      ]
    },
    {
      "cell_type": "code",
      "execution_count": null,
      "metadata": {
        "colab": {
          "base_uri": "https://localhost:8080/"
        },
        "id": "s1JuIfSq7dFI",
        "outputId": "27c21c20-c13b-4257-d350-6e634e9e9c57"
      },
      "outputs": [
        {
          "name": "stdout",
          "output_type": "stream",
          "text": [
            "21.079699769726062\n"
          ]
        }
      ],
      "source": [
        "under1_upjong = join_t2.loc[join_t2['PBR'] <1] # PBR이 1보다 낮은 주식\n",
        "comp1112 = pd.merge(under1_upjong, jongmok_upjong2013, how='left',on = '종목코드')[['종목코드', '종목명_x', '업종명_x', 'PBR', '종가_x', '업종PBR','종가_y']]\n",
        "comp1112.columns = ['종목코드', '종목명', '업종명', 'PBR', '종가', '업종PBR','다음년도종가']\n",
        "comp1112['증가율'] = ((comp1112['다음년도종가']-comp1112['종가'])/comp1112['종가'])*100\n",
        "under1_pbr_returns.append(comp1112['증가율'].sum()/len(comp1112))\n",
        "print(comp1112['증가율'].sum()/len(comp1112)) # 평균 기대수익률"
      ]
    },
    {
      "cell_type": "code",
      "execution_count": null,
      "metadata": {
        "colab": {
          "base_uri": "https://localhost:8080/"
        },
        "id": "8nLthR8V7dFI",
        "outputId": "968ce136-5a4a-47c6-a38f-6b07130479c1"
      },
      "outputs": [
        {
          "name": "stdout",
          "output_type": "stream",
          "text": [
            "2.330416256476005\n"
          ]
        }
      ],
      "source": [
        "upper1_pbr = join_t2.loc[join_t2['PBR']>1] # pbr이 1보다 높은\n",
        "comp1112 = pd.merge(upper1_pbr, jongmok_upjong2013, how='left',on = '종목코드')[['종목코드', '종목명_x', '업종명_x', 'PBR', '종가_x', '업종PBR','종가_y']]\n",
        "comp1112.columns = ['종목코드', '종목명', '업종명', 'PBR', '종가', '업종PBR','다음년도종가']\n",
        "comp1112['증가율'] = ((comp1112['다음년도종가']-comp1112['종가'])/comp1112['종가'])*100\n",
        "upper1_pbr_returns.append(comp1112['증가율'].sum()/len(comp1112))\n",
        "print(comp1112['증가율'].sum()/len(comp1112)) # 평균 기대수익률"
      ]
    },
    {
      "cell_type": "code",
      "execution_count": null,
      "metadata": {
        "colab": {
          "base_uri": "https://localhost:8080/"
        },
        "id": "CKewmPY27dFI",
        "outputId": "28a2e59d-d3ce-42bc-d99c-fb75af6d6592"
      },
      "outputs": [
        {
          "name": "stdout",
          "output_type": "stream",
          "text": [
            "-5.4721121043494705\n"
          ]
        }
      ],
      "source": [
        "upper5_pbr = join_t2.loc[join_t2['PBR'] > 5] #  pbr이 5보다 높은\n",
        "comp1112 = pd.merge(upper5_pbr, jongmok_upjong2013, how='left',on = '종목코드')[['종목코드', '종목명_x', '업종명_x', 'PBR', '종가_x', '업종PBR','종가_y']]\n",
        "comp1112.columns = ['종목코드', '종목명', '업종명', 'PBR', '종가', '업종PBR','다음년도종가']\n",
        "comp1112['증가율'] = ((comp1112['다음년도종가']-comp1112['종가'])/comp1112['종가'])*100\n",
        "upper5_pbr_returns.append(comp1112['증가율'].sum()/len(comp1112))\n",
        "print(comp1112['증가율'].sum()/len(comp1112)) # 평균 기대수익률"
      ]
    },
    {
      "cell_type": "code",
      "execution_count": null,
      "metadata": {
        "colab": {
          "base_uri": "https://localhost:8080/",
          "height": 206
        },
        "id": "dzrZeBne2VJ2",
        "outputId": "cc19584d-ae6c-4f36-8fd2-9c0a496bd7fe"
      },
      "outputs": [
        {
          "data": {
            "text/html": [
              "\n",
              "  <div id=\"df-515cb6ea-eca6-4caf-afe4-2c088fd73668\">\n",
              "    <div class=\"colab-df-container\">\n",
              "      <div>\n",
              "<style scoped>\n",
              "    .dataframe tbody tr th:only-of-type {\n",
              "        vertical-align: middle;\n",
              "    }\n",
              "\n",
              "    .dataframe tbody tr th {\n",
              "        vertical-align: top;\n",
              "    }\n",
              "\n",
              "    .dataframe thead th {\n",
              "        text-align: right;\n",
              "    }\n",
              "</style>\n",
              "<table border=\"1\" class=\"dataframe\">\n",
              "  <thead>\n",
              "    <tr style=\"text-align: right;\">\n",
              "      <th></th>\n",
              "      <th>증가율</th>\n",
              "    </tr>\n",
              "  </thead>\n",
              "  <tbody>\n",
              "    <tr>\n",
              "      <th>PBR</th>\n",
              "      <td>-0.071903</td>\n",
              "    </tr>\n",
              "    <tr>\n",
              "      <th>업종PBR</th>\n",
              "      <td>-0.009932</td>\n",
              "    </tr>\n",
              "    <tr>\n",
              "      <th>종가</th>\n",
              "      <td>-0.016346</td>\n",
              "    </tr>\n",
              "    <tr>\n",
              "      <th>다음해종가</th>\n",
              "      <td>0.016401</td>\n",
              "    </tr>\n",
              "    <tr>\n",
              "      <th>증가율</th>\n",
              "      <td>1.000000</td>\n",
              "    </tr>\n",
              "  </tbody>\n",
              "</table>\n",
              "</div>\n",
              "      <button class=\"colab-df-convert\" onclick=\"convertToInteractive('df-515cb6ea-eca6-4caf-afe4-2c088fd73668')\"\n",
              "              title=\"Convert this dataframe to an interactive table.\"\n",
              "              style=\"display:none;\">\n",
              "        \n",
              "  <svg xmlns=\"http://www.w3.org/2000/svg\" height=\"24px\"viewBox=\"0 0 24 24\"\n",
              "       width=\"24px\">\n",
              "    <path d=\"M0 0h24v24H0V0z\" fill=\"none\"/>\n",
              "    <path d=\"M18.56 5.44l.94 2.06.94-2.06 2.06-.94-2.06-.94-.94-2.06-.94 2.06-2.06.94zm-11 1L8.5 8.5l.94-2.06 2.06-.94-2.06-.94L8.5 2.5l-.94 2.06-2.06.94zm10 10l.94 2.06.94-2.06 2.06-.94-2.06-.94-.94-2.06-.94 2.06-2.06.94z\"/><path d=\"M17.41 7.96l-1.37-1.37c-.4-.4-.92-.59-1.43-.59-.52 0-1.04.2-1.43.59L10.3 9.45l-7.72 7.72c-.78.78-.78 2.05 0 2.83L4 21.41c.39.39.9.59 1.41.59.51 0 1.02-.2 1.41-.59l7.78-7.78 2.81-2.81c.8-.78.8-2.07 0-2.86zM5.41 20L4 18.59l7.72-7.72 1.47 1.35L5.41 20z\"/>\n",
              "  </svg>\n",
              "      </button>\n",
              "      \n",
              "  <style>\n",
              "    .colab-df-container {\n",
              "      display:flex;\n",
              "      flex-wrap:wrap;\n",
              "      gap: 12px;\n",
              "    }\n",
              "\n",
              "    .colab-df-convert {\n",
              "      background-color: #E8F0FE;\n",
              "      border: none;\n",
              "      border-radius: 50%;\n",
              "      cursor: pointer;\n",
              "      display: none;\n",
              "      fill: #1967D2;\n",
              "      height: 32px;\n",
              "      padding: 0 0 0 0;\n",
              "      width: 32px;\n",
              "    }\n",
              "\n",
              "    .colab-df-convert:hover {\n",
              "      background-color: #E2EBFA;\n",
              "      box-shadow: 0px 1px 2px rgba(60, 64, 67, 0.3), 0px 1px 3px 1px rgba(60, 64, 67, 0.15);\n",
              "      fill: #174EA6;\n",
              "    }\n",
              "\n",
              "    [theme=dark] .colab-df-convert {\n",
              "      background-color: #3B4455;\n",
              "      fill: #D2E3FC;\n",
              "    }\n",
              "\n",
              "    [theme=dark] .colab-df-convert:hover {\n",
              "      background-color: #434B5C;\n",
              "      box-shadow: 0px 1px 3px 1px rgba(0, 0, 0, 0.15);\n",
              "      filter: drop-shadow(0px 1px 2px rgba(0, 0, 0, 0.3));\n",
              "      fill: #FFFFFF;\n",
              "    }\n",
              "  </style>\n",
              "\n",
              "      <script>\n",
              "        const buttonEl =\n",
              "          document.querySelector('#df-515cb6ea-eca6-4caf-afe4-2c088fd73668 button.colab-df-convert');\n",
              "        buttonEl.style.display =\n",
              "          google.colab.kernel.accessAllowed ? 'block' : 'none';\n",
              "\n",
              "        async function convertToInteractive(key) {\n",
              "          const element = document.querySelector('#df-515cb6ea-eca6-4caf-afe4-2c088fd73668');\n",
              "          const dataTable =\n",
              "            await google.colab.kernel.invokeFunction('convertToInteractive',\n",
              "                                                     [key], {});\n",
              "          if (!dataTable) return;\n",
              "\n",
              "          const docLinkHtml = 'Like what you see? Visit the ' +\n",
              "            '<a target=\"_blank\" href=https://colab.research.google.com/notebooks/data_table.ipynb>data table notebook</a>'\n",
              "            + ' to learn more about interactive tables.';\n",
              "          element.innerHTML = '';\n",
              "          dataTable['output_type'] = 'display_data';\n",
              "          await google.colab.output.renderOutput(dataTable, element);\n",
              "          const docLink = document.createElement('div');\n",
              "          docLink.innerHTML = docLinkHtml;\n",
              "          element.appendChild(docLink);\n",
              "        }\n",
              "      </script>\n",
              "    </div>\n",
              "  </div>\n",
              "  "
            ],
            "text/plain": [
              "            증가율\n",
              "PBR   -0.071903\n",
              "업종PBR -0.009932\n",
              "종가    -0.016346\n",
              "다음해종가  0.016401\n",
              "증가율    1.000000"
            ]
          },
          "execution_count": 585,
          "metadata": {},
          "output_type": "execute_result"
        }
      ],
      "source": [
        "a = pd.merge(join_t2.sort_values('PBR'), jongmok_upjong2013, how='left', on = '종목코드')[['종목코드', '종목명_x', '업종명_x', 'PBR', '업종PBR','종가_x','종가_y']]\n",
        "a.columns = ['종목코드', '종목명', '업종명', 'PBR', '업종PBR','종가','다음해종가']\n",
        "a['증가율'] = ((a['다음해종가']-a['종가'])/a['종가'])*100\n",
        "a = a.loc[~a['다음해종가'].isnull()]\n",
        "pbr_returns_corr_score = a.corr()['증가율'].to_frame()\n",
        "pbr_returns_corr.append(pbr_returns_corr_score.loc[(pbr_returns_corr_score.index=='PBR')]['증가율'].values)\n",
        "pbr_returns_corr_score"
      ]
    },
    {
      "cell_type": "code",
      "execution_count": null,
      "metadata": {
        "colab": {
          "base_uri": "https://localhost:8080/",
          "height": 286
        },
        "id": "xKfDErfg3mkH",
        "outputId": "96aa664b-c205-4b69-890e-662d9c3b9ada"
      },
      "outputs": [
        {
          "data": {
            "text/plain": [
              "<matplotlib.collections.PathCollection at 0x7f1be3ec7d90>"
            ]
          },
          "execution_count": 586,
          "metadata": {},
          "output_type": "execute_result"
        },
        {
          "data": {
            "image/png": "[encoded data removed]",
            "text/plain": [
              "<Figure size 432x288 with 1 Axes>"
            ]
          },
          "metadata": {},
          "output_type": "display_data"
        }
      ],
      "source": [
        "plt.scatter(a['PBR'],a['증가율'])"
      ]
    },
    {
      "cell_type": "code",
      "execution_count": null,
      "metadata": {
        "colab": {
          "base_uri": "https://localhost:8080/",
          "height": 81
        },
        "id": "Twi_mlD53mwC",
        "outputId": "806eaead-e696-48d7-d42a-ec9df89bad3b"
      },
      "outputs": [
        {
          "data": {
            "text/html": [
              "\n",
              "  <div id=\"df-0a3bfdda-450f-455b-9397-1e235da482d3\">\n",
              "    <div class=\"colab-df-container\">\n",
              "      <div>\n",
              "<style scoped>\n",
              "    .dataframe tbody tr th:only-of-type {\n",
              "        vertical-align: middle;\n",
              "    }\n",
              "\n",
              "    .dataframe tbody tr th {\n",
              "        vertical-align: top;\n",
              "    }\n",
              "\n",
              "    .dataframe thead th {\n",
              "        text-align: right;\n",
              "    }\n",
              "</style>\n",
              "<table border=\"1\" class=\"dataframe\">\n",
              "  <thead>\n",
              "    <tr style=\"text-align: right;\">\n",
              "      <th></th>\n",
              "      <th>종목코드</th>\n",
              "      <th>종목명</th>\n",
              "      <th>업종명</th>\n",
              "      <th>PBR</th>\n",
              "      <th>업종PBR</th>\n",
              "      <th>종가</th>\n",
              "      <th>다음해종가</th>\n",
              "      <th>증가율</th>\n",
              "    </tr>\n",
              "  </thead>\n",
              "  <tbody>\n",
              "    <tr>\n",
              "      <th>2</th>\n",
              "      <td>002410</td>\n",
              "      <td>범양건영</td>\n",
              "      <td>건설업</td>\n",
              "      <td>0.08</td>\n",
              "      <td>0.96</td>\n",
              "      <td>1520.0</td>\n",
              "      <td>37800.0</td>\n",
              "      <td>2386.842105</td>\n",
              "    </tr>\n",
              "  </tbody>\n",
              "</table>\n",
              "</div>\n",
              "      <button class=\"colab-df-convert\" onclick=\"convertToInteractive('df-0a3bfdda-450f-455b-9397-1e235da482d3')\"\n",
              "              title=\"Convert this dataframe to an interactive table.\"\n",
              "              style=\"display:none;\">\n",
              "        \n",
              "  <svg xmlns=\"http://www.w3.org/2000/svg\" height=\"24px\"viewBox=\"0 0 24 24\"\n",
              "       width=\"24px\">\n",
              "    <path d=\"M0 0h24v24H0V0z\" fill=\"none\"/>\n",
              "    <path d=\"M18.56 5.44l.94 2.06.94-2.06 2.06-.94-2.06-.94-.94-2.06-.94 2.06-2.06.94zm-11 1L8.5 8.5l.94-2.06 2.06-.94-2.06-.94L8.5 2.5l-.94 2.06-2.06.94zm10 10l.94 2.06.94-2.06 2.06-.94-2.06-.94-.94-2.06-.94 2.06-2.06.94z\"/><path d=\"M17.41 7.96l-1.37-1.37c-.4-.4-.92-.59-1.43-.59-.52 0-1.04.2-1.43.59L10.3 9.45l-7.72 7.72c-.78.78-.78 2.05 0 2.83L4 21.41c.39.39.9.59 1.41.59.51 0 1.02-.2 1.41-.59l7.78-7.78 2.81-2.81c.8-.78.8-2.07 0-2.86zM5.41 20L4 18.59l7.72-7.72 1.47 1.35L5.41 20z\"/>\n",
              "  </svg>\n",
              "      </button>\n",
              "      \n",
              "  <style>\n",
              "    .colab-df-container {\n",
              "      display:flex;\n",
              "      flex-wrap:wrap;\n",
              "      gap: 12px;\n",
              "    }\n",
              "\n",
              "    .colab-df-convert {\n",
              "      background-color: #E8F0FE;\n",
              "      border: none;\n",
              "      border-radius: 50%;\n",
              "      cursor: pointer;\n",
              "      display: none;\n",
              "      fill: #1967D2;\n",
              "      height: 32px;\n",
              "      padding: 0 0 0 0;\n",
              "      width: 32px;\n",
              "    }\n",
              "\n",
              "    .colab-df-convert:hover {\n",
              "      background-color: #E2EBFA;\n",
              "      box-shadow: 0px 1px 2px rgba(60, 64, 67, 0.3), 0px 1px 3px 1px rgba(60, 64, 67, 0.15);\n",
              "      fill: #174EA6;\n",
              "    }\n",
              "\n",
              "    [theme=dark] .colab-df-convert {\n",
              "      background-color: #3B4455;\n",
              "      fill: #D2E3FC;\n",
              "    }\n",
              "\n",
              "    [theme=dark] .colab-df-convert:hover {\n",
              "      background-color: #434B5C;\n",
              "      box-shadow: 0px 1px 3px 1px rgba(0, 0, 0, 0.15);\n",
              "      filter: drop-shadow(0px 1px 2px rgba(0, 0, 0, 0.3));\n",
              "      fill: #FFFFFF;\n",
              "    }\n",
              "  </style>\n",
              "\n",
              "      <script>\n",
              "        const buttonEl =\n",
              "          document.querySelector('#df-0a3bfdda-450f-455b-9397-1e235da482d3 button.colab-df-convert');\n",
              "        buttonEl.style.display =\n",
              "          google.colab.kernel.accessAllowed ? 'block' : 'none';\n",
              "\n",
              "        async function convertToInteractive(key) {\n",
              "          const element = document.querySelector('#df-0a3bfdda-450f-455b-9397-1e235da482d3');\n",
              "          const dataTable =\n",
              "            await google.colab.kernel.invokeFunction('convertToInteractive',\n",
              "                                                     [key], {});\n",
              "          if (!dataTable) return;\n",
              "\n",
              "          const docLinkHtml = 'Like what you see? Visit the ' +\n",
              "            '<a target=\"_blank\" href=https://colab.research.google.com/notebooks/data_table.ipynb>data table notebook</a>'\n",
              "            + ' to learn more about interactive tables.';\n",
              "          element.innerHTML = '';\n",
              "          dataTable['output_type'] = 'display_data';\n",
              "          await google.colab.output.renderOutput(dataTable, element);\n",
              "          const docLink = document.createElement('div');\n",
              "          docLink.innerHTML = docLinkHtml;\n",
              "          element.appendChild(docLink);\n",
              "        }\n",
              "      </script>\n",
              "    </div>\n",
              "  </div>\n",
              "  "
            ],
            "text/plain": [
              "     종목코드    종목명  업종명   PBR  업종PBR      종가    다음해종가          증가율\n",
              "2  002410  범양건영   건설업  0.08   0.96  1520.0  37800.0  2386.842105"
            ]
          },
          "execution_count": 587,
          "metadata": {},
          "output_type": "execute_result"
        }
      ],
      "source": [
        "a.loc[a['증가율']>2000]"
      ]
    },
    {
      "cell_type": "code",
      "execution_count": null,
      "metadata": {
        "colab": {
          "base_uri": "https://localhost:8080/",
          "height": 81
        },
        "id": "q5xLsD7r3m4-",
        "outputId": "094c7029-9f02-4968-8b35-127a1f3ceb52"
      },
      "outputs": [
        {
          "data": {
            "text/html": [
              "\n",
              "  <div id=\"df-21b7de29-9caa-4c61-a39e-0f19a7b1479a\">\n",
              "    <div class=\"colab-df-container\">\n",
              "      <div>\n",
              "<style scoped>\n",
              "    .dataframe tbody tr th:only-of-type {\n",
              "        vertical-align: middle;\n",
              "    }\n",
              "\n",
              "    .dataframe tbody tr th {\n",
              "        vertical-align: top;\n",
              "    }\n",
              "\n",
              "    .dataframe thead th {\n",
              "        text-align: right;\n",
              "    }\n",
              "</style>\n",
              "<table border=\"1\" class=\"dataframe\">\n",
              "  <thead>\n",
              "    <tr style=\"text-align: right;\">\n",
              "      <th></th>\n",
              "      <th>종목코드</th>\n",
              "      <th>종목명</th>\n",
              "      <th>업종명</th>\n",
              "      <th>종가</th>\n",
              "    </tr>\n",
              "  </thead>\n",
              "  <tbody>\n",
              "    <tr>\n",
              "      <th>386</th>\n",
              "      <td>002410</td>\n",
              "      <td>범양건영</td>\n",
              "      <td>건설업</td>\n",
              "      <td>1520.0</td>\n",
              "    </tr>\n",
              "  </tbody>\n",
              "</table>\n",
              "</div>\n",
              "      <button class=\"colab-df-convert\" onclick=\"convertToInteractive('df-21b7de29-9caa-4c61-a39e-0f19a7b1479a')\"\n",
              "              title=\"Convert this dataframe to an interactive table.\"\n",
              "              style=\"display:none;\">\n",
              "        \n",
              "  <svg xmlns=\"http://www.w3.org/2000/svg\" height=\"24px\"viewBox=\"0 0 24 24\"\n",
              "       width=\"24px\">\n",
              "    <path d=\"M0 0h24v24H0V0z\" fill=\"none\"/>\n",
              "    <path d=\"M18.56 5.44l.94 2.06.94-2.06 2.06-.94-2.06-.94-.94-2.06-.94 2.06-2.06.94zm-11 1L8.5 8.5l.94-2.06 2.06-.94-2.06-.94L8.5 2.5l-.94 2.06-2.06.94zm10 10l.94 2.06.94-2.06 2.06-.94-2.06-.94-.94-2.06-.94 2.06-2.06.94z\"/><path d=\"M17.41 7.96l-1.37-1.37c-.4-.4-.92-.59-1.43-.59-.52 0-1.04.2-1.43.59L10.3 9.45l-7.72 7.72c-.78.78-.78 2.05 0 2.83L4 21.41c.39.39.9.59 1.41.59.51 0 1.02-.2 1.41-.59l7.78-7.78 2.81-2.81c.8-.78.8-2.07 0-2.86zM5.41 20L4 18.59l7.72-7.72 1.47 1.35L5.41 20z\"/>\n",
              "  </svg>\n",
              "      </button>\n",
              "      \n",
              "  <style>\n",
              "    .colab-df-container {\n",
              "      display:flex;\n",
              "      flex-wrap:wrap;\n",
              "      gap: 12px;\n",
              "    }\n",
              "\n",
              "    .colab-df-convert {\n",
              "      background-color: #E8F0FE;\n",
              "      border: none;\n",
              "      border-radius: 50%;\n",
              "      cursor: pointer;\n",
              "      display: none;\n",
              "      fill: #1967D2;\n",
              "      height: 32px;\n",
              "      padding: 0 0 0 0;\n",
              "      width: 32px;\n",
              "    }\n",
              "\n",
              "    .colab-df-convert:hover {\n",
              "      background-color: #E2EBFA;\n",
              "      box-shadow: 0px 1px 2px rgba(60, 64, 67, 0.3), 0px 1px 3px 1px rgba(60, 64, 67, 0.15);\n",
              "      fill: #174EA6;\n",
              "    }\n",
              "\n",
              "    [theme=dark] .colab-df-convert {\n",
              "      background-color: #3B4455;\n",
              "      fill: #D2E3FC;\n",
              "    }\n",
              "\n",
              "    [theme=dark] .colab-df-convert:hover {\n",
              "      background-color: #434B5C;\n",
              "      box-shadow: 0px 1px 3px 1px rgba(0, 0, 0, 0.15);\n",
              "      filter: drop-shadow(0px 1px 2px rgba(0, 0, 0, 0.3));\n",
              "      fill: #FFFFFF;\n",
              "    }\n",
              "  </style>\n",
              "\n",
              "      <script>\n",
              "        const buttonEl =\n",
              "          document.querySelector('#df-21b7de29-9caa-4c61-a39e-0f19a7b1479a button.colab-df-convert');\n",
              "        buttonEl.style.display =\n",
              "          google.colab.kernel.accessAllowed ? 'block' : 'none';\n",
              "\n",
              "        async function convertToInteractive(key) {\n",
              "          const element = document.querySelector('#df-21b7de29-9caa-4c61-a39e-0f19a7b1479a');\n",
              "          const dataTable =\n",
              "            await google.colab.kernel.invokeFunction('convertToInteractive',\n",
              "                                                     [key], {});\n",
              "          if (!dataTable) return;\n",
              "\n",
              "          const docLinkHtml = 'Like what you see? Visit the ' +\n",
              "            '<a target=\"_blank\" href=https://colab.research.google.com/notebooks/data_table.ipynb>data table notebook</a>'\n",
              "            + ' to learn more about interactive tables.';\n",
              "          element.innerHTML = '';\n",
              "          dataTable['output_type'] = 'display_data';\n",
              "          await google.colab.output.renderOutput(dataTable, element);\n",
              "          const docLink = document.createElement('div');\n",
              "          docLink.innerHTML = docLinkHtml;\n",
              "          element.appendChild(docLink);\n",
              "        }\n",
              "      </script>\n",
              "    </div>\n",
              "  </div>\n",
              "  "
            ],
            "text/plain": [
              "       종목코드   종목명  업종명      종가\n",
              "386  002410  범양건영  건설업  1520.0"
            ]
          },
          "execution_count": 588,
          "metadata": {},
          "output_type": "execute_result"
        }
      ],
      "source": [
        "jongmok_upjong2012[jongmok_upjong2012['종목명']=='범양건영']"
      ]
    },
    {
      "cell_type": "markdown",
      "metadata": {
        "id": "akpeEXVt3rFs"
      },
      "source": [
        "## 2013"
      ]
    },
    {
      "cell_type": "code",
      "execution_count": null,
      "metadata": {
        "id": "yaOsotoB3rFs"
      },
      "outputs": [],
      "source": [
        "join_t1 = pd.merge(pbr_2013,jongmok_upjong2013,how='left',on='종목코드')[['종목코드','종목명_x','업종명','PBR','종가']]\n",
        "join_t1.columns = ['종목코드','종목명','업종명','PBR','종가']\n",
        "join_t2 = pd.merge(join_t1,upjong2013,how='left',on='업종명')"
      ]
    },
    {
      "cell_type": "code",
      "execution_count": null,
      "metadata": {
        "id": "tZwN_66g3rFs"
      },
      "outputs": [],
      "source": [
        "join_t2['PBR'] = join_t2['PBR'].apply(lambda x : '0' if x=='-' else x)\n",
        "join_t2['PBR'] = join_t2['PBR'].astype(float)"
      ]
    },
    {
      "cell_type": "code",
      "execution_count": null,
      "metadata": {
        "colab": {
          "base_uri": "https://localhost:8080/"
        },
        "id": "P2oPc_Co3rFt",
        "outputId": "cc8d098c-ab60-45fb-e3ed-f67a0297f073"
      },
      "outputs": [
        {
          "name": "stdout",
          "output_type": "stream",
          "text": [
            "전처리 하기 전 코스피 종목 수 : 875\n"
          ]
        }
      ],
      "source": [
        "join_t2['업종PBR'] = join_t2['업종PBR'].apply(lambda x : '0' if x =='-' else x)\n",
        "join_t2['업종PBR'] = join_t2['업종PBR'].astype(float)\n",
        "print('전처리 하기 전 코스피 종목 수 : {}'.format(len(join_t2)))"
      ]
    },
    {
      "cell_type": "code",
      "execution_count": null,
      "metadata": {
        "colab": {
          "base_uri": "https://localhost:8080/"
        },
        "id": "4mF7BPIW3rFt",
        "outputId": "52c3c956-943c-4593-e036-5de38dfaf47e"
      },
      "outputs": [
        {
          "name": "stdout",
          "output_type": "stream",
          "text": [
            "전처리 한 후 코스피 종목 수 : 723\n"
          ]
        }
      ],
      "source": [
        "join_t2 = join_t2.loc[~((join_t2['업종PBR']==0) | (join_t2['PBR']==0))] # PBR이나 업종PBR이 0인 종목을 제외한 종목\n",
        "print('전처리 한 후 코스피 종목 수 : {}'.format(len(join_t2)))"
      ]
    },
    {
      "cell_type": "code",
      "execution_count": null,
      "metadata": {
        "colab": {
          "base_uri": "https://localhost:8080/"
        },
        "id": "F332duJ73rFt",
        "outputId": "15394eb6-ecf1-48ed-ee02-4ce7f8c2f623"
      },
      "outputs": [
        {
          "name": "stdout",
          "output_type": "stream",
          "text": [
            "16.71198506108042\n"
          ]
        }
      ],
      "source": [
        "lower_upjong = join_t2.loc[join_t2['업종PBR'] >join_t2['PBR']] # 업종pbr보다 낮은 pbr주식\n",
        "comp1112 = pd.merge(lower_upjong, jongmok_upjong2014, how='left',on = '종목코드')[['종목코드', '종목명_x', '업종명_x', 'PBR', '종가_x', '업종PBR','종가_y']]\n",
        "comp1112.columns = ['종목코드', '종목명', '업종명', 'PBR', '종가', '업종PBR','다음년도종가']\n",
        "comp1112['증가율'] = ((comp1112['다음년도종가']-comp1112['종가'])/comp1112['종가'])*100\n",
        "lower_pbr_returns.append(comp1112['증가율'].sum()/len(comp1112))\n",
        "print(comp1112['증가율'].sum()/len(comp1112)) # 평균 기대수익률"
      ]
    },
    {
      "cell_type": "code",
      "execution_count": null,
      "metadata": {
        "colab": {
          "base_uri": "https://localhost:8080/"
        },
        "id": "60ewTe1R3rFt",
        "outputId": "b243cccc-6117-406e-8151-3114c52b08ce"
      },
      "outputs": [
        {
          "name": "stdout",
          "output_type": "stream",
          "text": [
            "6.613124749176684\n"
          ]
        }
      ],
      "source": [
        "over_upjong = join_t2.loc[join_t2['PBR'] >join_t2['업종PBR']] # 업종pbr보다 높은 pbr주식\n",
        "comp1112 = pd.merge(over_upjong, jongmok_upjong2014, how='left',on = '종목코드')[['종목코드', '종목명_x', '업종명_x', 'PBR', '종가_x', '업종PBR','종가_y']]\n",
        "comp1112.columns = ['종목코드', '종목명', '업종명', 'PBR', '종가', '업종PBR','다음년도종가']\n",
        "comp1112['증가율'] = ((comp1112['다음년도종가']-comp1112['종가'])/comp1112['종가'])*100\n",
        "upper_pbr_returns.append(comp1112['증가율'].sum()/len(comp1112))\n",
        "print(comp1112['증가율'].sum()/len(comp1112)) # 평균 기대수익률"
      ]
    },
    {
      "cell_type": "code",
      "execution_count": null,
      "metadata": {
        "colab": {
          "base_uri": "https://localhost:8080/"
        },
        "id": "Ll2FqtF73rFt",
        "outputId": "0802e0aa-a84a-444a-ae55-55b635feaad8"
      },
      "outputs": [
        {
          "name": "stdout",
          "output_type": "stream",
          "text": [
            "85.49654994927494\n"
          ]
        }
      ],
      "source": [
        "under02_upjong = join_t2.loc[join_t2['PBR'] <0.2] # pbr이 0.2보다 낮은 주식\n",
        "comp1112 = pd.merge(under02_upjong, jongmok_upjong2014, how='left',on = '종목코드')[['종목코드', '종목명_x', '업종명_x', 'PBR', '종가_x', '업종PBR','종가_y']]\n",
        "comp1112.columns = ['종목코드', '종목명', '업종명', 'PBR', '종가', '업종PBR','다음년도종가']\n",
        "comp1112['증가율'] = ((comp1112['다음년도종가']-comp1112['종가'])/comp1112['종가'])*100\n",
        "under02_pbr_returns.append(comp1112['증가율'].sum()/len(comp1112))\n",
        "print(comp1112['증가율'].sum()/len(comp1112)) # 평균 기대수익률"
      ]
    },
    {
      "cell_type": "code",
      "execution_count": null,
      "metadata": {
        "colab": {
          "base_uri": "https://localhost:8080/"
        },
        "id": "NP1tEXbs3rFt",
        "outputId": "bd5fb11c-bddc-45e1-ed6e-a7dd95b90080"
      },
      "outputs": [
        {
          "name": "stdout",
          "output_type": "stream",
          "text": [
            "14.276546031434709\n"
          ]
        }
      ],
      "source": [
        "under1_upjong = join_t2.loc[join_t2['PBR'] <1] # PBR이 1보다 낮은 주식\n",
        "comp1112 = pd.merge(under1_upjong, jongmok_upjong2014, how='left',on = '종목코드')[['종목코드', '종목명_x', '업종명_x', 'PBR', '종가_x', '업종PBR','종가_y']]\n",
        "comp1112.columns = ['종목코드', '종목명', '업종명', 'PBR', '종가', '업종PBR','다음년도종가']\n",
        "comp1112['증가율'] = ((comp1112['다음년도종가']-comp1112['종가'])/comp1112['종가'])*100\n",
        "under1_pbr_returns.append(comp1112['증가율'].sum()/len(comp1112))\n",
        "print(comp1112['증가율'].sum()/len(comp1112)) # 평균 기대수익률"
      ]
    },
    {
      "cell_type": "code",
      "execution_count": null,
      "metadata": {
        "colab": {
          "base_uri": "https://localhost:8080/"
        },
        "id": "XSummqlw3rFt",
        "outputId": "0fa3716d-b08f-4f5d-94e6-b30f148d4618"
      },
      "outputs": [
        {
          "name": "stdout",
          "output_type": "stream",
          "text": [
            "13.47365147604726\n"
          ]
        }
      ],
      "source": [
        "upper1_pbr = join_t2.loc[join_t2['PBR']>1] # pbr이 1보다 높은\n",
        "comp1112 = pd.merge(upper1_pbr, jongmok_upjong2014, how='left',on = '종목코드')[['종목코드', '종목명_x', '업종명_x', 'PBR', '종가_x', '업종PBR','종가_y']]\n",
        "comp1112.columns = ['종목코드', '종목명', '업종명', 'PBR', '종가', '업종PBR','다음년도종가']\n",
        "comp1112['증가율'] = ((comp1112['다음년도종가']-comp1112['종가'])/comp1112['종가'])*100\n",
        "upper1_pbr_returns.append(comp1112['증가율'].sum()/len(comp1112))\n",
        "print(comp1112['증가율'].sum()/len(comp1112)) # 평균 기대수익률"
      ]
    },
    {
      "cell_type": "code",
      "execution_count": null,
      "metadata": {
        "colab": {
          "base_uri": "https://localhost:8080/"
        },
        "id": "k47I5uyu3rFt",
        "outputId": "d5a1c2df-5259-4357-abe4-aecbf70f41cb"
      },
      "outputs": [
        {
          "name": "stdout",
          "output_type": "stream",
          "text": [
            "3.2604152169355594\n"
          ]
        }
      ],
      "source": [
        "upper5_pbr = join_t2.loc[join_t2['PBR'] > 5] #  pbr이 5보다 높은\n",
        "comp1112 = pd.merge(upper5_pbr, jongmok_upjong2014, how='left',on = '종목코드')[['종목코드', '종목명_x', '업종명_x', 'PBR', '종가_x', '업종PBR','종가_y']]\n",
        "comp1112.columns = ['종목코드', '종목명', '업종명', 'PBR', '종가', '업종PBR','다음년도종가']\n",
        "comp1112['증가율'] = ((comp1112['다음년도종가']-comp1112['종가'])/comp1112['종가'])*100\n",
        "upper5_pbr_returns.append(comp1112['증가율'].sum()/len(comp1112))\n",
        "print(comp1112['증가율'].sum()/len(comp1112)) # 평균 기대수익률"
      ]
    },
    {
      "cell_type": "code",
      "execution_count": null,
      "metadata": {
        "colab": {
          "base_uri": "https://localhost:8080/",
          "height": 206
        },
        "id": "I6xanrdJ3rFt",
        "outputId": "ffbeaf8b-6eff-432f-90f1-175f889a8b09"
      },
      "outputs": [
        {
          "data": {
            "text/html": [
              "\n",
              "  <div id=\"df-25272125-2a5f-41c2-8111-4d7feb824107\">\n",
              "    <div class=\"colab-df-container\">\n",
              "      <div>\n",
              "<style scoped>\n",
              "    .dataframe tbody tr th:only-of-type {\n",
              "        vertical-align: middle;\n",
              "    }\n",
              "\n",
              "    .dataframe tbody tr th {\n",
              "        vertical-align: top;\n",
              "    }\n",
              "\n",
              "    .dataframe thead th {\n",
              "        text-align: right;\n",
              "    }\n",
              "</style>\n",
              "<table border=\"1\" class=\"dataframe\">\n",
              "  <thead>\n",
              "    <tr style=\"text-align: right;\">\n",
              "      <th></th>\n",
              "      <th>증가율</th>\n",
              "    </tr>\n",
              "  </thead>\n",
              "  <tbody>\n",
              "    <tr>\n",
              "      <th>PBR</th>\n",
              "      <td>-0.050151</td>\n",
              "    </tr>\n",
              "    <tr>\n",
              "      <th>업종PBR</th>\n",
              "      <td>-0.004459</td>\n",
              "    </tr>\n",
              "    <tr>\n",
              "      <th>종가</th>\n",
              "      <td>-0.028864</td>\n",
              "    </tr>\n",
              "    <tr>\n",
              "      <th>다음해종가</th>\n",
              "      <td>0.011172</td>\n",
              "    </tr>\n",
              "    <tr>\n",
              "      <th>증가율</th>\n",
              "      <td>1.000000</td>\n",
              "    </tr>\n",
              "  </tbody>\n",
              "</table>\n",
              "</div>\n",
              "      <button class=\"colab-df-convert\" onclick=\"convertToInteractive('df-25272125-2a5f-41c2-8111-4d7feb824107')\"\n",
              "              title=\"Convert this dataframe to an interactive table.\"\n",
              "              style=\"display:none;\">\n",
              "        \n",
              "  <svg xmlns=\"http://www.w3.org/2000/svg\" height=\"24px\"viewBox=\"0 0 24 24\"\n",
              "       width=\"24px\">\n",
              "    <path d=\"M0 0h24v24H0V0z\" fill=\"none\"/>\n",
              "    <path d=\"M18.56 5.44l.94 2.06.94-2.06 2.06-.94-2.06-.94-.94-2.06-.94 2.06-2.06.94zm-11 1L8.5 8.5l.94-2.06 2.06-.94-2.06-.94L8.5 2.5l-.94 2.06-2.06.94zm10 10l.94 2.06.94-2.06 2.06-.94-2.06-.94-.94-2.06-.94 2.06-2.06.94z\"/><path d=\"M17.41 7.96l-1.37-1.37c-.4-.4-.92-.59-1.43-.59-.52 0-1.04.2-1.43.59L10.3 9.45l-7.72 7.72c-.78.78-.78 2.05 0 2.83L4 21.41c.39.39.9.59 1.41.59.51 0 1.02-.2 1.41-.59l7.78-7.78 2.81-2.81c.8-.78.8-2.07 0-2.86zM5.41 20L4 18.59l7.72-7.72 1.47 1.35L5.41 20z\"/>\n",
              "  </svg>\n",
              "      </button>\n",
              "      \n",
              "  <style>\n",
              "    .colab-df-container {\n",
              "      display:flex;\n",
              "      flex-wrap:wrap;\n",
              "      gap: 12px;\n",
              "    }\n",
              "\n",
              "    .colab-df-convert {\n",
              "      background-color: #E8F0FE;\n",
              "      border: none;\n",
              "      border-radius: 50%;\n",
              "      cursor: pointer;\n",
              "      display: none;\n",
              "      fill: #1967D2;\n",
              "      height: 32px;\n",
              "      padding: 0 0 0 0;\n",
              "      width: 32px;\n",
              "    }\n",
              "\n",
              "    .colab-df-convert:hover {\n",
              "      background-color: #E2EBFA;\n",
              "      box-shadow: 0px 1px 2px rgba(60, 64, 67, 0.3), 0px 1px 3px 1px rgba(60, 64, 67, 0.15);\n",
              "      fill: #174EA6;\n",
              "    }\n",
              "\n",
              "    [theme=dark] .colab-df-convert {\n",
              "      background-color: #3B4455;\n",
              "      fill: #D2E3FC;\n",
              "    }\n",
              "\n",
              "    [theme=dark] .colab-df-convert:hover {\n",
              "      background-color: #434B5C;\n",
              "      box-shadow: 0px 1px 3px 1px rgba(0, 0, 0, 0.15);\n",
              "      filter: drop-shadow(0px 1px 2px rgba(0, 0, 0, 0.3));\n",
              "      fill: #FFFFFF;\n",
              "    }\n",
              "  </style>\n",
              "\n",
              "      <script>\n",
              "        const buttonEl =\n",
              "          document.querySelector('#df-25272125-2a5f-41c2-8111-4d7feb824107 button.colab-df-convert');\n",
              "        buttonEl.style.display =\n",
              "          google.colab.kernel.accessAllowed ? 'block' : 'none';\n",
              "\n",
              "        async function convertToInteractive(key) {\n",
              "          const element = document.querySelector('#df-25272125-2a5f-41c2-8111-4d7feb824107');\n",
              "          const dataTable =\n",
              "            await google.colab.kernel.invokeFunction('convertToInteractive',\n",
              "                                                     [key], {});\n",
              "          if (!dataTable) return;\n",
              "\n",
              "          const docLinkHtml = 'Like what you see? Visit the ' +\n",
              "            '<a target=\"_blank\" href=https://colab.research.google.com/notebooks/data_table.ipynb>data table notebook</a>'\n",
              "            + ' to learn more about interactive tables.';\n",
              "          element.innerHTML = '';\n",
              "          dataTable['output_type'] = 'display_data';\n",
              "          await google.colab.output.renderOutput(dataTable, element);\n",
              "          const docLink = document.createElement('div');\n",
              "          docLink.innerHTML = docLinkHtml;\n",
              "          element.appendChild(docLink);\n",
              "        }\n",
              "      </script>\n",
              "    </div>\n",
              "  </div>\n",
              "  "
            ],
            "text/plain": [
              "            증가율\n",
              "PBR   -0.050151\n",
              "업종PBR -0.004459\n",
              "종가    -0.028864\n",
              "다음해종가  0.011172\n",
              "증가율    1.000000"
            ]
          },
          "execution_count": 599,
          "metadata": {},
          "output_type": "execute_result"
        }
      ],
      "source": [
        "a = pd.merge(join_t2.sort_values('PBR'), jongmok_upjong2014, how='left', on = '종목코드')[['종목코드', '종목명_x', '업종명_x', 'PBR', '업종PBR','종가_x','종가_y']]\n",
        "a.columns = ['종목코드', '종목명', '업종명', 'PBR', '업종PBR','종가','다음해종가']\n",
        "a['증가율'] = ((a['다음해종가']-a['종가'])/a['종가'])*100\n",
        "a = a.loc[~a['다음해종가'].isnull()]\n",
        "pbr_returns_corr_score = a.corr()['증가율'].to_frame()\n",
        "pbr_returns_corr.append(pbr_returns_corr_score.loc[(pbr_returns_corr_score.index=='PBR')]['증가율'].values)\n",
        "pbr_returns_corr_score"
      ]
    },
    {
      "cell_type": "code",
      "execution_count": null,
      "metadata": {
        "id": "cVz5s5pa3rFu"
      },
      "outputs": [],
      "source": [
        ""
      ]
    },
    {
      "cell_type": "markdown",
      "metadata": {
        "id": "uazxQTx64tkS"
      },
      "source": [
        "## 2014"
      ]
    },
    {
      "cell_type": "code",
      "execution_count": null,
      "metadata": {
        "id": "rn4KgSk24tkT"
      },
      "outputs": [],
      "source": [
        "join_t1 = pd.merge(pbr_2014,jongmok_upjong2014,how='left',on='종목코드')[['종목코드','종목명_x','업종명','PBR','종가']]\n",
        "join_t1.columns = ['종목코드','종목명','업종명','PBR','종가']\n",
        "join_t2 = pd.merge(join_t1,upjong2014,how='left',on='업종명')"
      ]
    },
    {
      "cell_type": "code",
      "execution_count": null,
      "metadata": {
        "id": "ON38hpDg4tkU"
      },
      "outputs": [],
      "source": [
        "join_t2['PBR'] = join_t2['PBR'].apply(lambda x : '0' if x=='-' else x)\n",
        "join_t2['PBR'] = join_t2['PBR'].astype(float)"
      ]
    },
    {
      "cell_type": "code",
      "execution_count": null,
      "metadata": {
        "colab": {
          "base_uri": "https://localhost:8080/"
        },
        "id": "0wJyN2Kw4tkU",
        "outputId": "68d1ffa9-104c-449a-c44a-cf6d2d9cde4d"
      },
      "outputs": [
        {
          "name": "stdout",
          "output_type": "stream",
          "text": [
            "전처리 하기 전 코스피 종목 수 : 865\n"
          ]
        }
      ],
      "source": [
        "join_t2['업종PBR'] = join_t2['업종PBR'].apply(lambda x : '0' if x =='-' else x)\n",
        "join_t2['업종PBR'] = join_t2['업종PBR'].astype(float)\n",
        "print('전처리 하기 전 코스피 종목 수 : {}'.format(len(join_t2)))"
      ]
    },
    {
      "cell_type": "code",
      "execution_count": null,
      "metadata": {
        "colab": {
          "base_uri": "https://localhost:8080/"
        },
        "id": "2YRaRbuM4tkU",
        "outputId": "d0cdee7f-b896-4e93-c5db-5fdf3e743158"
      },
      "outputs": [
        {
          "name": "stdout",
          "output_type": "stream",
          "text": [
            "전처리 한 후 코스피 종목 수 : 710\n"
          ]
        }
      ],
      "source": [
        "join_t2 = join_t2.loc[~((join_t2['업종PBR']==0) | (join_t2['PBR']==0))] # PBR이나 업종PBR이 0인 종목을 제외한 종목\n",
        "print('전처리 한 후 코스피 종목 수 : {}'.format(len(join_t2)))"
      ]
    },
    {
      "cell_type": "code",
      "execution_count": null,
      "metadata": {
        "colab": {
          "base_uri": "https://localhost:8080/"
        },
        "id": "xFdBaSAx4tkU",
        "outputId": "4da05a6e-d7b1-41fc-d7ca-648670ceb8a7"
      },
      "outputs": [
        {
          "name": "stdout",
          "output_type": "stream",
          "text": [
            "25.57279061308115\n"
          ]
        }
      ],
      "source": [
        "lower_upjong = join_t2.loc[join_t2['업종PBR'] >join_t2['PBR']] # 업종pbr보다 낮은 pbr주식\n",
        "comp1112 = pd.merge(lower_upjong, jongmok_upjong2015, how='left',on = '종목코드')[['종목코드', '종목명_x', '업종명_x', 'PBR', '종가_x', '업종PBR','종가_y']]\n",
        "comp1112.columns = ['종목코드', '종목명', '업종명', 'PBR', '종가', '업종PBR','다음년도종가']\n",
        "comp1112['증가율'] = ((comp1112['다음년도종가']-comp1112['종가'])/comp1112['종가'])*100\n",
        "lower_pbr_returns.append(comp1112['증가율'].sum()/len(comp1112))\n",
        "print(comp1112['증가율'].sum()/len(comp1112)) # 평균 기대수익률"
      ]
    },
    {
      "cell_type": "code",
      "execution_count": null,
      "metadata": {
        "colab": {
          "base_uri": "https://localhost:8080/"
        },
        "id": "X4ulWIJG4tkU",
        "outputId": "9c1d831a-3454-49de-aed0-0d59c94219f2"
      },
      "outputs": [
        {
          "name": "stdout",
          "output_type": "stream",
          "text": [
            "15.917661735378497\n"
          ]
        }
      ],
      "source": [
        "over_upjong = join_t2.loc[join_t2['PBR'] >join_t2['업종PBR']] # 업종pbr보다 높은 pbr주식\n",
        "comp1112 = pd.merge(over_upjong, jongmok_upjong2015, how='left',on = '종목코드')[['종목코드', '종목명_x', '업종명_x', 'PBR', '종가_x', '업종PBR','종가_y']]\n",
        "comp1112.columns = ['종목코드', '종목명', '업종명', 'PBR', '종가', '업종PBR','다음년도종가']\n",
        "comp1112['증가율'] = ((comp1112['다음년도종가']-comp1112['종가'])/comp1112['종가'])*100\n",
        "upper_pbr_returns.append(comp1112['증가율'].sum()/len(comp1112))\n",
        "print(comp1112['증가율'].sum()/len(comp1112)) # 평균 기대수익률"
      ]
    },
    {
      "cell_type": "code",
      "execution_count": null,
      "metadata": {
        "colab": {
          "base_uri": "https://localhost:8080/"
        },
        "id": "HF5sOF5n4tkV",
        "outputId": "25230265-c085-4335-db6f-46273c611be7"
      },
      "outputs": [
        {
          "name": "stdout",
          "output_type": "stream",
          "text": [
            "24.733995980950542\n"
          ]
        }
      ],
      "source": [
        "under02_upjong = join_t2.loc[join_t2['PBR'] <0.2] # pbr이 0.2보다 낮은 주식\n",
        "comp1112 = pd.merge(under02_upjong, jongmok_upjong2015, how='left',on = '종목코드')[['종목코드', '종목명_x', '업종명_x', 'PBR', '종가_x', '업종PBR','종가_y']]\n",
        "comp1112.columns = ['종목코드', '종목명', '업종명', 'PBR', '종가', '업종PBR','다음년도종가']\n",
        "comp1112['증가율'] = ((comp1112['다음년도종가']-comp1112['종가'])/comp1112['종가'])*100\n",
        "under02_pbr_returns.append(comp1112['증가율'].sum()/len(comp1112))\n",
        "print(comp1112['증가율'].sum()/len(comp1112)) # 평균 기대수익률"
      ]
    },
    {
      "cell_type": "code",
      "execution_count": null,
      "metadata": {
        "colab": {
          "base_uri": "https://localhost:8080/"
        },
        "id": "qBfsRwOd4tkV",
        "outputId": "32ce227f-fcf1-4f53-e25e-83013f0b9d85"
      },
      "outputs": [
        {
          "name": "stdout",
          "output_type": "stream",
          "text": [
            "23.564500516945955\n"
          ]
        }
      ],
      "source": [
        "under1_upjong = join_t2.loc[join_t2['PBR'] <1] # PBR이 1보다 낮은 주식\n",
        "comp1112 = pd.merge(under1_upjong, jongmok_upjong2015, how='left',on = '종목코드')[['종목코드', '종목명_x', '업종명_x', 'PBR', '종가_x', '업종PBR','종가_y']]\n",
        "comp1112.columns = ['종목코드', '종목명', '업종명', 'PBR', '종가', '업종PBR','다음년도종가']\n",
        "comp1112['증가율'] = ((comp1112['다음년도종가']-comp1112['종가'])/comp1112['종가'])*100\n",
        "under1_pbr_returns.append(comp1112['증가율'].sum()/len(comp1112))\n",
        "print(comp1112['증가율'].sum()/len(comp1112)) # 평균 기대수익률"
      ]
    },
    {
      "cell_type": "code",
      "execution_count": null,
      "metadata": {
        "colab": {
          "base_uri": "https://localhost:8080/"
        },
        "id": "0NS5bZD14tkV",
        "outputId": "89ac466f-f19f-429c-cd44-5d8568b65280"
      },
      "outputs": [
        {
          "name": "stdout",
          "output_type": "stream",
          "text": [
            "23.470510343262735\n"
          ]
        }
      ],
      "source": [
        "upper1_pbr = join_t2.loc[join_t2['PBR']>1] # pbr이 1보다 높은\n",
        "comp1112 = pd.merge(upper1_pbr, jongmok_upjong2015, how='left',on = '종목코드')[['종목코드', '종목명_x', '업종명_x', 'PBR', '종가_x', '업종PBR','종가_y']]\n",
        "comp1112.columns = ['종목코드', '종목명', '업종명', 'PBR', '종가', '업종PBR','다음년도종가']\n",
        "comp1112['증가율'] = ((comp1112['다음년도종가']-comp1112['종가'])/comp1112['종가'])*100\n",
        "upper1_pbr_returns.append(comp1112['증가율'].sum()/len(comp1112))\n",
        "print(comp1112['증가율'].sum()/len(comp1112)) # 평균 기대수익률"
      ]
    },
    {
      "cell_type": "code",
      "execution_count": null,
      "metadata": {
        "colab": {
          "base_uri": "https://localhost:8080/"
        },
        "id": "bnB_ThJA4tkV",
        "outputId": "e9601c5f-2c7c-4bfd-f1b9-b7574d083cf4"
      },
      "outputs": [
        {
          "name": "stdout",
          "output_type": "stream",
          "text": [
            "8.51455103215505\n"
          ]
        }
      ],
      "source": [
        "upper5_pbr = join_t2.loc[join_t2['PBR'] > 5] #  pbr이 5보다 높은\n",
        "comp1112 = pd.merge(upper5_pbr, jongmok_upjong2015, how='left',on = '종목코드')[['종목코드', '종목명_x', '업종명_x', 'PBR', '종가_x', '업종PBR','종가_y']]\n",
        "comp1112.columns = ['종목코드', '종목명', '업종명', 'PBR', '종가', '업종PBR','다음년도종가']\n",
        "comp1112['증가율'] = ((comp1112['다음년도종가']-comp1112['종가'])/comp1112['종가'])*100\n",
        "upper5_pbr_returns.append(comp1112['증가율'].sum()/len(comp1112))\n",
        "print(comp1112['증가율'].sum()/len(comp1112)) # 평균 기대수익률"
      ]
    },
    {
      "cell_type": "code",
      "execution_count": null,
      "metadata": {
        "colab": {
          "base_uri": "https://localhost:8080/",
          "height": 206
        },
        "id": "aCY7GjPN4tkW",
        "outputId": "6e3e878f-20c1-481b-da58-214638677225"
      },
      "outputs": [
        {
          "data": {
            "text/html": [
              "\n",
              "  <div id=\"df-22dc200a-1ac9-4f65-a338-9d6b047c5171\">\n",
              "    <div class=\"colab-df-container\">\n",
              "      <div>\n",
              "<style scoped>\n",
              "    .dataframe tbody tr th:only-of-type {\n",
              "        vertical-align: middle;\n",
              "    }\n",
              "\n",
              "    .dataframe tbody tr th {\n",
              "        vertical-align: top;\n",
              "    }\n",
              "\n",
              "    .dataframe thead th {\n",
              "        text-align: right;\n",
              "    }\n",
              "</style>\n",
              "<table border=\"1\" class=\"dataframe\">\n",
              "  <thead>\n",
              "    <tr style=\"text-align: right;\">\n",
              "      <th></th>\n",
              "      <th>증가율</th>\n",
              "    </tr>\n",
              "  </thead>\n",
              "  <tbody>\n",
              "    <tr>\n",
              "      <th>PBR</th>\n",
              "      <td>-0.035492</td>\n",
              "    </tr>\n",
              "    <tr>\n",
              "      <th>업종PBR</th>\n",
              "      <td>-0.011181</td>\n",
              "    </tr>\n",
              "    <tr>\n",
              "      <th>종가</th>\n",
              "      <td>-0.061133</td>\n",
              "    </tr>\n",
              "    <tr>\n",
              "      <th>다음해종가</th>\n",
              "      <td>0.002804</td>\n",
              "    </tr>\n",
              "    <tr>\n",
              "      <th>증가율</th>\n",
              "      <td>1.000000</td>\n",
              "    </tr>\n",
              "  </tbody>\n",
              "</table>\n",
              "</div>\n",
              "      <button class=\"colab-df-convert\" onclick=\"convertToInteractive('df-22dc200a-1ac9-4f65-a338-9d6b047c5171')\"\n",
              "              title=\"Convert this dataframe to an interactive table.\"\n",
              "              style=\"display:none;\">\n",
              "        \n",
              "  <svg xmlns=\"http://www.w3.org/2000/svg\" height=\"24px\"viewBox=\"0 0 24 24\"\n",
              "       width=\"24px\">\n",
              "    <path d=\"M0 0h24v24H0V0z\" fill=\"none\"/>\n",
              "    <path d=\"M18.56 5.44l.94 2.06.94-2.06 2.06-.94-2.06-.94-.94-2.06-.94 2.06-2.06.94zm-11 1L8.5 8.5l.94-2.06 2.06-.94-2.06-.94L8.5 2.5l-.94 2.06-2.06.94zm10 10l.94 2.06.94-2.06 2.06-.94-2.06-.94-.94-2.06-.94 2.06-2.06.94z\"/><path d=\"M17.41 7.96l-1.37-1.37c-.4-.4-.92-.59-1.43-.59-.52 0-1.04.2-1.43.59L10.3 9.45l-7.72 7.72c-.78.78-.78 2.05 0 2.83L4 21.41c.39.39.9.59 1.41.59.51 0 1.02-.2 1.41-.59l7.78-7.78 2.81-2.81c.8-.78.8-2.07 0-2.86zM5.41 20L4 18.59l7.72-7.72 1.47 1.35L5.41 20z\"/>\n",
              "  </svg>\n",
              "      </button>\n",
              "      \n",
              "  <style>\n",
              "    .colab-df-container {\n",
              "      display:flex;\n",
              "      flex-wrap:wrap;\n",
              "      gap: 12px;\n",
              "    }\n",
              "\n",
              "    .colab-df-convert {\n",
              "      background-color: #E8F0FE;\n",
              "      border: none;\n",
              "      border-radius: 50%;\n",
              "      cursor: pointer;\n",
              "      display: none;\n",
              "      fill: #1967D2;\n",
              "      height: 32px;\n",
              "      padding: 0 0 0 0;\n",
              "      width: 32px;\n",
              "    }\n",
              "\n",
              "    .colab-df-convert:hover {\n",
              "      background-color: #E2EBFA;\n",
              "      box-shadow: 0px 1px 2px rgba(60, 64, 67, 0.3), 0px 1px 3px 1px rgba(60, 64, 67, 0.15);\n",
              "      fill: #174EA6;\n",
              "    }\n",
              "\n",
              "    [theme=dark] .colab-df-convert {\n",
              "      background-color: #3B4455;\n",
              "      fill: #D2E3FC;\n",
              "    }\n",
              "\n",
              "    [theme=dark] .colab-df-convert:hover {\n",
              "      background-color: #434B5C;\n",
              "      box-shadow: 0px 1px 3px 1px rgba(0, 0, 0, 0.15);\n",
              "      filter: drop-shadow(0px 1px 2px rgba(0, 0, 0, 0.3));\n",
              "      fill: #FFFFFF;\n",
              "    }\n",
              "  </style>\n",
              "\n",
              "      <script>\n",
              "        const buttonEl =\n",
              "          document.querySelector('#df-22dc200a-1ac9-4f65-a338-9d6b047c5171 button.colab-df-convert');\n",
              "        buttonEl.style.display =\n",
              "          google.colab.kernel.accessAllowed ? 'block' : 'none';\n",
              "\n",
              "        async function convertToInteractive(key) {\n",
              "          const element = document.querySelector('#df-22dc200a-1ac9-4f65-a338-9d6b047c5171');\n",
              "          const dataTable =\n",
              "            await google.colab.kernel.invokeFunction('convertToInteractive',\n",
              "                                                     [key], {});\n",
              "          if (!dataTable) return;\n",
              "\n",
              "          const docLinkHtml = 'Like what you see? Visit the ' +\n",
              "            '<a target=\"_blank\" href=https://colab.research.google.com/notebooks/data_table.ipynb>data table notebook</a>'\n",
              "            + ' to learn more about interactive tables.';\n",
              "          element.innerHTML = '';\n",
              "          dataTable['output_type'] = 'display_data';\n",
              "          await google.colab.output.renderOutput(dataTable, element);\n",
              "          const docLink = document.createElement('div');\n",
              "          docLink.innerHTML = docLinkHtml;\n",
              "          element.appendChild(docLink);\n",
              "        }\n",
              "      </script>\n",
              "    </div>\n",
              "  </div>\n",
              "  "
            ],
            "text/plain": [
              "            증가율\n",
              "PBR   -0.035492\n",
              "업종PBR -0.011181\n",
              "종가    -0.061133\n",
              "다음해종가  0.002804\n",
              "증가율    1.000000"
            ]
          },
          "execution_count": 610,
          "metadata": {},
          "output_type": "execute_result"
        }
      ],
      "source": [
        "a = pd.merge(join_t2.sort_values('PBR'), jongmok_upjong2015, how='left', on = '종목코드')[['종목코드', '종목명_x', '업종명_x', 'PBR', '업종PBR','종가_x','종가_y']]\n",
        "a.columns = ['종목코드', '종목명', '업종명', 'PBR', '업종PBR','종가','다음해종가']\n",
        "a['증가율'] = ((a['다음해종가']-a['종가'])/a['종가'])*100\n",
        "a = a.loc[~a['다음해종가'].isnull()]\n",
        "pbr_returns_corr_score = a.corr()['증가율'].to_frame()\n",
        "pbr_returns_corr.append(pbr_returns_corr_score.loc[(pbr_returns_corr_score.index=='PBR')]['증가율'].values)\n",
        "pbr_returns_corr_score"
      ]
    },
    {
      "cell_type": "code",
      "execution_count": null,
      "metadata": {
        "id": "CwSw94kT4tkW"
      },
      "outputs": [],
      "source": [
        ""
      ]
    },
    {
      "cell_type": "code",
      "execution_count": null,
      "metadata": {
        "id": "1ZAemK5S4tkW"
      },
      "outputs": [],
      "source": [
        ""
      ]
    },
    {
      "cell_type": "code",
      "execution_count": null,
      "metadata": {
        "id": "7NiSa7AR4tkW"
      },
      "outputs": [],
      "source": [
        ""
      ]
    },
    {
      "cell_type": "markdown",
      "metadata": {
        "id": "oiFFVMBR5AaF"
      },
      "source": [
        "## 2015"
      ]
    },
    {
      "cell_type": "code",
      "execution_count": null,
      "metadata": {
        "id": "5Fd-Tap35AaG"
      },
      "outputs": [],
      "source": [
        "join_t1 = pd.merge(pbr_2015,jongmok_upjong2015,how='left',on='종목코드')[['종목코드','종목명_x','업종명','PBR','종가']]\n",
        "join_t1.columns = ['종목코드','종목명','업종명','PBR','종가']\n",
        "join_t2 = pd.merge(join_t1,upjong2015,how='left',on='업종명')"
      ]
    },
    {
      "cell_type": "code",
      "execution_count": null,
      "metadata": {
        "id": "_ReeonJn5AaG"
      },
      "outputs": [],
      "source": [
        "join_t2['PBR'] = join_t2['PBR'].apply(lambda x : '0' if x=='-' else x)\n",
        "join_t2['PBR'] = join_t2['PBR'].astype(float)"
      ]
    },
    {
      "cell_type": "code",
      "execution_count": null,
      "metadata": {
        "colab": {
          "base_uri": "https://localhost:8080/"
        },
        "id": "dj6Jy_Mk5AaG",
        "outputId": "33824281-456b-4b43-c5e9-091a1fc3f9e0"
      },
      "outputs": [
        {
          "name": "stdout",
          "output_type": "stream",
          "text": [
            "전처리 하기 전 코스피 종목 수 : 854\n"
          ]
        }
      ],
      "source": [
        "join_t2['업종PBR'] = join_t2['업종PBR'].apply(lambda x : '0' if x =='-' else x)\n",
        "join_t2['업종PBR'] = join_t2['업종PBR'].astype(float)\n",
        "print('전처리 하기 전 코스피 종목 수 : {}'.format(len(join_t2)))"
      ]
    },
    {
      "cell_type": "code",
      "execution_count": null,
      "metadata": {
        "colab": {
          "base_uri": "https://localhost:8080/"
        },
        "id": "3hpdwjNU5AaH",
        "outputId": "6a28eeed-918e-4316-b78f-fd79cc1835ec"
      },
      "outputs": [
        {
          "name": "stdout",
          "output_type": "stream",
          "text": [
            "전처리 한 후 코스피 종목 수 : 714\n"
          ]
        }
      ],
      "source": [
        "join_t2 = join_t2.loc[~((join_t2['업종PBR']==0) | (join_t2['PBR']==0))] # PBR이나 업종PBR이 0인 종목을 제외한 종목\n",
        "print('전처리 한 후 코스피 종목 수 : {}'.format(len(join_t2)))"
      ]
    },
    {
      "cell_type": "code",
      "execution_count": null,
      "metadata": {
        "colab": {
          "base_uri": "https://localhost:8080/"
        },
        "id": "rC-N4V365AaH",
        "outputId": "c91a7515-6da2-4741-dd4a-570455928920"
      },
      "outputs": [
        {
          "name": "stdout",
          "output_type": "stream",
          "text": [
            "29.020907157645887\n"
          ]
        }
      ],
      "source": [
        "lower_upjong = join_t2.loc[join_t2['업종PBR'] >join_t2['PBR']] # 업종pbr보다 낮은 pbr주식\n",
        "comp1112 = pd.merge(lower_upjong, jongmok_upjong2016, how='left',on = '종목코드')[['종목코드', '종목명_x', '업종명_x', 'PBR', '종가_x', '업종PBR','종가_y']]\n",
        "comp1112.columns = ['종목코드', '종목명', '업종명', 'PBR', '종가', '업종PBR','다음년도종가']\n",
        "comp1112['증가율'] = ((comp1112['다음년도종가']-comp1112['종가'])/comp1112['종가'])*100\n",
        "lower_pbr_returns.append(comp1112['증가율'].sum()/len(comp1112))\n",
        "print(comp1112['증가율'].sum()/len(comp1112)) # 평균 기대수익률"
      ]
    },
    {
      "cell_type": "code",
      "execution_count": null,
      "metadata": {
        "colab": {
          "base_uri": "https://localhost:8080/"
        },
        "id": "DN2uvNGZ5AaH",
        "outputId": "25151791-f32f-4e39-ddd0-4de82d3893ad"
      },
      "outputs": [
        {
          "name": "stdout",
          "output_type": "stream",
          "text": [
            "31.16231315828137\n"
          ]
        }
      ],
      "source": [
        "over_upjong = join_t2.loc[join_t2['PBR'] >join_t2['업종PBR']] # 업종pbr보다 높은 pbr주식\n",
        "comp1112 = pd.merge(over_upjong, jongmok_upjong2016, how='left',on = '종목코드')[['종목코드', '종목명_x', '업종명_x', 'PBR', '종가_x', '업종PBR','종가_y']]\n",
        "comp1112.columns = ['종목코드', '종목명', '업종명', 'PBR', '종가', '업종PBR','다음년도종가']\n",
        "comp1112['증가율'] = ((comp1112['다음년도종가']-comp1112['종가'])/comp1112['종가'])*100\n",
        "upper_pbr_returns.append(comp1112['증가율'].sum()/len(comp1112))\n",
        "print(comp1112['증가율'].sum()/len(comp1112)) # 평균 기대수익률"
      ]
    },
    {
      "cell_type": "code",
      "execution_count": null,
      "metadata": {
        "colab": {
          "base_uri": "https://localhost:8080/"
        },
        "id": "QUmbgNE35AaI",
        "outputId": "2c35ace3-8562-46ac-8951-ce52c40842db"
      },
      "outputs": [
        {
          "name": "stdout",
          "output_type": "stream",
          "text": [
            "134.93671556490412\n"
          ]
        }
      ],
      "source": [
        "under02_upjong = join_t2.loc[join_t2['PBR'] <0.2] # pbr이 0.2보다 낮은 주식\n",
        "comp1112 = pd.merge(under02_upjong, jongmok_upjong2016, how='left',on = '종목코드')[['종목코드', '종목명_x', '업종명_x', 'PBR', '종가_x', '업종PBR','종가_y']]\n",
        "comp1112.columns = ['종목코드', '종목명', '업종명', 'PBR', '종가', '업종PBR','다음년도종가']\n",
        "comp1112['증가율'] = ((comp1112['다음년도종가']-comp1112['종가'])/comp1112['종가'])*100\n",
        "under02_pbr_returns.append(comp1112['증가율'].sum()/len(comp1112))\n",
        "print(comp1112['증가율'].sum()/len(comp1112)) # 평균 기대수익률"
      ]
    },
    {
      "cell_type": "code",
      "execution_count": null,
      "metadata": {
        "colab": {
          "base_uri": "https://localhost:8080/"
        },
        "id": "l1u2Z6Tc5AaI",
        "outputId": "272232b6-995d-4f48-f6bd-0fcc93948f39"
      },
      "outputs": [
        {
          "name": "stdout",
          "output_type": "stream",
          "text": [
            "24.65641866593722\n"
          ]
        }
      ],
      "source": [
        "under1_upjong = join_t2.loc[join_t2['PBR'] <1] # PBR이 1보다 낮은 주식\n",
        "comp1112 = pd.merge(under1_upjong, jongmok_upjong2016, how='left',on = '종목코드')[['종목코드', '종목명_x', '업종명_x', 'PBR', '종가_x', '업종PBR','종가_y']]\n",
        "comp1112.columns = ['종목코드', '종목명', '업종명', 'PBR', '종가', '업종PBR','다음년도종가']\n",
        "comp1112['증가율'] = ((comp1112['다음년도종가']-comp1112['종가'])/comp1112['종가'])*100\n",
        "under1_pbr_returns.append(comp1112['증가율'].sum()/len(comp1112))\n",
        "print(comp1112['증가율'].sum()/len(comp1112)) # 평균 기대수익률"
      ]
    },
    {
      "cell_type": "code",
      "execution_count": null,
      "metadata": {
        "colab": {
          "base_uri": "https://localhost:8080/"
        },
        "id": "zZjV_9EP5AaI",
        "outputId": "73ddb4c1-a9a7-4157-cdbc-30451ef44c3e"
      },
      "outputs": [
        {
          "name": "stdout",
          "output_type": "stream",
          "text": [
            "33.09837659942185\n"
          ]
        }
      ],
      "source": [
        "upper1_pbr = join_t2.loc[join_t2['PBR']>1] # pbr이 1보다 높은\n",
        "comp1112 = pd.merge(upper1_pbr, jongmok_upjong2016, how='left',on = '종목코드')[['종목코드', '종목명_x', '업종명_x', 'PBR', '종가_x', '업종PBR','종가_y']]\n",
        "comp1112.columns = ['종목코드', '종목명', '업종명', 'PBR', '종가', '업종PBR','다음년도종가']\n",
        "comp1112['증가율'] = ((comp1112['다음년도종가']-comp1112['종가'])/comp1112['종가'])*100\n",
        "upper1_pbr_returns.append(comp1112['증가율'].sum()/len(comp1112))\n",
        "print(comp1112['증가율'].sum()/len(comp1112)) # 평균 기대수익률"
      ]
    },
    {
      "cell_type": "code",
      "execution_count": null,
      "metadata": {
        "colab": {
          "base_uri": "https://localhost:8080/"
        },
        "id": "cvrObc5P5AaI",
        "outputId": "aa87a93c-26be-481c-c22e-3d50a44b6a7f"
      },
      "outputs": [
        {
          "name": "stdout",
          "output_type": "stream",
          "text": [
            "10.178912681227722\n"
          ]
        }
      ],
      "source": [
        "upper5_pbr = join_t2.loc[join_t2['PBR'] > 5] #  pbr이 5보다 높은\n",
        "comp1112 = pd.merge(upper5_pbr, jongmok_upjong2016, how='left',on = '종목코드')[['종목코드', '종목명_x', '업종명_x', 'PBR', '종가_x', '업종PBR','종가_y']]\n",
        "comp1112.columns = ['종목코드', '종목명', '업종명', 'PBR', '종가', '업종PBR','다음년도종가']\n",
        "comp1112['증가율'] = ((comp1112['다음년도종가']-comp1112['종가'])/comp1112['종가'])*100\n",
        "upper5_pbr_returns.append(comp1112['증가율'].sum()/len(comp1112))\n",
        "print(comp1112['증가율'].sum()/len(comp1112)) # 평균 기대수익률"
      ]
    },
    {
      "cell_type": "code",
      "execution_count": null,
      "metadata": {
        "colab": {
          "base_uri": "https://localhost:8080/",
          "height": 206
        },
        "id": "4IeAQiYi5AaI",
        "outputId": "6df11830-64b5-4e28-bbec-7cb1669e28a8"
      },
      "outputs": [
        {
          "data": {
            "text/html": [
              "\n",
              "  <div id=\"df-9c3c03a7-7eab-4de5-825a-8a3892b2d33a\">\n",
              "    <div class=\"colab-df-container\">\n",
              "      <div>\n",
              "<style scoped>\n",
              "    .dataframe tbody tr th:only-of-type {\n",
              "        vertical-align: middle;\n",
              "    }\n",
              "\n",
              "    .dataframe tbody tr th {\n",
              "        vertical-align: top;\n",
              "    }\n",
              "\n",
              "    .dataframe thead th {\n",
              "        text-align: right;\n",
              "    }\n",
              "</style>\n",
              "<table border=\"1\" class=\"dataframe\">\n",
              "  <thead>\n",
              "    <tr style=\"text-align: right;\">\n",
              "      <th></th>\n",
              "      <th>증가율</th>\n",
              "    </tr>\n",
              "  </thead>\n",
              "  <tbody>\n",
              "    <tr>\n",
              "      <th>PBR</th>\n",
              "      <td>0.006152</td>\n",
              "    </tr>\n",
              "    <tr>\n",
              "      <th>업종PBR</th>\n",
              "      <td>0.041093</td>\n",
              "    </tr>\n",
              "    <tr>\n",
              "      <th>종가</th>\n",
              "      <td>-0.081424</td>\n",
              "    </tr>\n",
              "    <tr>\n",
              "      <th>다음해종가</th>\n",
              "      <td>0.048410</td>\n",
              "    </tr>\n",
              "    <tr>\n",
              "      <th>증가율</th>\n",
              "      <td>1.000000</td>\n",
              "    </tr>\n",
              "  </tbody>\n",
              "</table>\n",
              "</div>\n",
              "      <button class=\"colab-df-convert\" onclick=\"convertToInteractive('df-9c3c03a7-7eab-4de5-825a-8a3892b2d33a')\"\n",
              "              title=\"Convert this dataframe to an interactive table.\"\n",
              "              style=\"display:none;\">\n",
              "        \n",
              "  <svg xmlns=\"http://www.w3.org/2000/svg\" height=\"24px\"viewBox=\"0 0 24 24\"\n",
              "       width=\"24px\">\n",
              "    <path d=\"M0 0h24v24H0V0z\" fill=\"none\"/>\n",
              "    <path d=\"M18.56 5.44l.94 2.06.94-2.06 2.06-.94-2.06-.94-.94-2.06-.94 2.06-2.06.94zm-11 1L8.5 8.5l.94-2.06 2.06-.94-2.06-.94L8.5 2.5l-.94 2.06-2.06.94zm10 10l.94 2.06.94-2.06 2.06-.94-2.06-.94-.94-2.06-.94 2.06-2.06.94z\"/><path d=\"M17.41 7.96l-1.37-1.37c-.4-.4-.92-.59-1.43-.59-.52 0-1.04.2-1.43.59L10.3 9.45l-7.72 7.72c-.78.78-.78 2.05 0 2.83L4 21.41c.39.39.9.59 1.41.59.51 0 1.02-.2 1.41-.59l7.78-7.78 2.81-2.81c.8-.78.8-2.07 0-2.86zM5.41 20L4 18.59l7.72-7.72 1.47 1.35L5.41 20z\"/>\n",
              "  </svg>\n",
              "      </button>\n",
              "      \n",
              "  <style>\n",
              "    .colab-df-container {\n",
              "      display:flex;\n",
              "      flex-wrap:wrap;\n",
              "      gap: 12px;\n",
              "    }\n",
              "\n",
              "    .colab-df-convert {\n",
              "      background-color: #E8F0FE;\n",
              "      border: none;\n",
              "      border-radius: 50%;\n",
              "      cursor: pointer;\n",
              "      display: none;\n",
              "      fill: #1967D2;\n",
              "      height: 32px;\n",
              "      padding: 0 0 0 0;\n",
              "      width: 32px;\n",
              "    }\n",
              "\n",
              "    .colab-df-convert:hover {\n",
              "      background-color: #E2EBFA;\n",
              "      box-shadow: 0px 1px 2px rgba(60, 64, 67, 0.3), 0px 1px 3px 1px rgba(60, 64, 67, 0.15);\n",
              "      fill: #174EA6;\n",
              "    }\n",
              "\n",
              "    [theme=dark] .colab-df-convert {\n",
              "      background-color: #3B4455;\n",
              "      fill: #D2E3FC;\n",
              "    }\n",
              "\n",
              "    [theme=dark] .colab-df-convert:hover {\n",
              "      background-color: #434B5C;\n",
              "      box-shadow: 0px 1px 3px 1px rgba(0, 0, 0, 0.15);\n",
              "      filter: drop-shadow(0px 1px 2px rgba(0, 0, 0, 0.3));\n",
              "      fill: #FFFFFF;\n",
              "    }\n",
              "  </style>\n",
              "\n",
              "      <script>\n",
              "        const buttonEl =\n",
              "          document.querySelector('#df-9c3c03a7-7eab-4de5-825a-8a3892b2d33a button.colab-df-convert');\n",
              "        buttonEl.style.display =\n",
              "          google.colab.kernel.accessAllowed ? 'block' : 'none';\n",
              "\n",
              "        async function convertToInteractive(key) {\n",
              "          const element = document.querySelector('#df-9c3c03a7-7eab-4de5-825a-8a3892b2d33a');\n",
              "          const dataTable =\n",
              "            await google.colab.kernel.invokeFunction('convertToInteractive',\n",
              "                                                     [key], {});\n",
              "          if (!dataTable) return;\n",
              "\n",
              "          const docLinkHtml = 'Like what you see? Visit the ' +\n",
              "            '<a target=\"_blank\" href=https://colab.research.google.com/notebooks/data_table.ipynb>data table notebook</a>'\n",
              "            + ' to learn more about interactive tables.';\n",
              "          element.innerHTML = '';\n",
              "          dataTable['output_type'] = 'display_data';\n",
              "          await google.colab.output.renderOutput(dataTable, element);\n",
              "          const docLink = document.createElement('div');\n",
              "          docLink.innerHTML = docLinkHtml;\n",
              "          element.appendChild(docLink);\n",
              "        }\n",
              "      </script>\n",
              "    </div>\n",
              "  </div>\n",
              "  "
            ],
            "text/plain": [
              "            증가율\n",
              "PBR    0.006152\n",
              "업종PBR  0.041093\n",
              "종가    -0.081424\n",
              "다음해종가  0.048410\n",
              "증가율    1.000000"
            ]
          },
          "execution_count": 621,
          "metadata": {},
          "output_type": "execute_result"
        }
      ],
      "source": [
        "a = pd.merge(join_t2.sort_values('PBR'), jongmok_upjong2016, how='left', on = '종목코드')[['종목코드', '종목명_x', '업종명_x', 'PBR', '업종PBR','종가_x','종가_y']]\n",
        "a.columns = ['종목코드', '종목명', '업종명', 'PBR', '업종PBR','종가','다음해종가']\n",
        "a['증가율'] = ((a['다음해종가']-a['종가'])/a['종가'])*100\n",
        "a = a.loc[~a['다음해종가'].isnull()]\n",
        "pbr_returns_corr_score = a.corr()['증가율'].to_frame()\n",
        "pbr_returns_corr.append(pbr_returns_corr_score.loc[(pbr_returns_corr_score.index=='PBR')]['증가율'].values)\n",
        "pbr_returns_corr_score"
      ]
    },
    {
      "cell_type": "code",
      "execution_count": null,
      "metadata": {
        "id": "_WZoUgHh5AaJ"
      },
      "outputs": [],
      "source": [
        ""
      ]
    },
    {
      "cell_type": "code",
      "execution_count": null,
      "metadata": {
        "id": "8jlrJ0oQ5AaJ"
      },
      "outputs": [],
      "source": [
        ""
      ]
    },
    {
      "cell_type": "code",
      "execution_count": null,
      "metadata": {
        "id": "OD4svMJd5AaJ"
      },
      "outputs": [],
      "source": [
        ""
      ]
    },
    {
      "cell_type": "markdown",
      "metadata": {
        "id": "sVtIOdhx5OuH"
      },
      "source": [
        "## 2016"
      ]
    },
    {
      "cell_type": "code",
      "execution_count": null,
      "metadata": {
        "id": "lya3Vhxk5OuH"
      },
      "outputs": [],
      "source": [
        "join_t1 = pd.merge(pbr_2016,jongmok_upjong2016,how='left',on='종목코드')[['종목코드','종목명_x','업종명','PBR','종가']]\n",
        "join_t1.columns = ['종목코드','종목명','업종명','PBR','종가']\n",
        "join_t2 = pd.merge(join_t1,upjong2016,how='left',on='업종명')"
      ]
    },
    {
      "cell_type": "code",
      "execution_count": null,
      "metadata": {
        "id": "vtjyoGcy5OuI"
      },
      "outputs": [],
      "source": [
        "join_t2['PBR'] = join_t2['PBR'].apply(lambda x : '0' if x=='-' else x)\n",
        "join_t2['PBR'] = join_t2['PBR'].astype(float)"
      ]
    },
    {
      "cell_type": "code",
      "execution_count": null,
      "metadata": {
        "colab": {
          "base_uri": "https://localhost:8080/"
        },
        "id": "omTLlzOE5OuI",
        "outputId": "9a44cc50-e07b-4f3d-b902-34f9e596372a"
      },
      "outputs": [
        {
          "name": "stdout",
          "output_type": "stream",
          "text": [
            "전처리 하기 전 코스피 종목 수 : 854\n"
          ]
        }
      ],
      "source": [
        "join_t2['업종PBR'] = join_t2['업종PBR'].apply(lambda x : '0' if x =='-' else x)\n",
        "join_t2['업종PBR'] = join_t2['업종PBR'].astype(float)\n",
        "print('전처리 하기 전 코스피 종목 수 : {}'.format(len(join_t2)))"
      ]
    },
    {
      "cell_type": "code",
      "execution_count": null,
      "metadata": {
        "colab": {
          "base_uri": "https://localhost:8080/"
        },
        "id": "vMBoPHbl5OuI",
        "outputId": "566cd384-7312-4804-9699-826aba04c1df"
      },
      "outputs": [
        {
          "name": "stdout",
          "output_type": "stream",
          "text": [
            "전처리 한 후 코스피 종목 수 : 729\n"
          ]
        }
      ],
      "source": [
        "join_t2 = join_t2.loc[~((join_t2['업종PBR']==0) | (join_t2['PBR']==0))] # PBR이나 업종PBR이 0인 종목을 제외한 종목\n",
        "print('전처리 한 후 코스피 종목 수 : {}'.format(len(join_t2)))"
      ]
    },
    {
      "cell_type": "code",
      "execution_count": null,
      "metadata": {
        "colab": {
          "base_uri": "https://localhost:8080/"
        },
        "id": "SKJcaG8y5OuI",
        "outputId": "ef07bedb-2d22-4cb3-c95c-8b2dc033edcb"
      },
      "outputs": [
        {
          "name": "stdout",
          "output_type": "stream",
          "text": [
            "6.189604246475087\n"
          ]
        }
      ],
      "source": [
        "lower_upjong = join_t2.loc[join_t2['업종PBR'] >join_t2['PBR']] # 업종pbr보다 낮은 pbr주식\n",
        "comp1112 = pd.merge(lower_upjong, jongmok_upjong2017, how='left',on = '종목코드')[['종목코드', '종목명_x', '업종명_x', 'PBR', '종가_x', '업종PBR','종가_y']]\n",
        "comp1112.columns = ['종목코드', '종목명', '업종명', 'PBR', '종가', '업종PBR','다음년도종가']\n",
        "comp1112['증가율'] = ((comp1112['다음년도종가']-comp1112['종가'])/comp1112['종가'])*100\n",
        "lower_pbr_returns.append(comp1112['증가율'].sum()/len(comp1112))\n",
        "print(comp1112['증가율'].sum()/len(comp1112)) # 평균 기대수익률"
      ]
    },
    {
      "cell_type": "code",
      "execution_count": null,
      "metadata": {
        "colab": {
          "base_uri": "https://localhost:8080/"
        },
        "id": "rngEQEz_5OuI",
        "outputId": "c1e3b9c1-65ed-4385-d68e-acd483f41aba"
      },
      "outputs": [
        {
          "name": "stdout",
          "output_type": "stream",
          "text": [
            "-0.9567834250482917\n"
          ]
        }
      ],
      "source": [
        "over_upjong = join_t2.loc[join_t2['PBR'] >join_t2['업종PBR']] # 업종pbr보다 높은 pbr주식\n",
        "comp1112 = pd.merge(over_upjong, jongmok_upjong2017, how='left',on = '종목코드')[['종목코드', '종목명_x', '업종명_x', 'PBR', '종가_x', '업종PBR','종가_y']]\n",
        "comp1112.columns = ['종목코드', '종목명', '업종명', 'PBR', '종가', '업종PBR','다음년도종가']\n",
        "comp1112['증가율'] = ((comp1112['다음년도종가']-comp1112['종가'])/comp1112['종가'])*100\n",
        "upper_pbr_returns.append(comp1112['증가율'].sum()/len(comp1112))\n",
        "print(comp1112['증가율'].sum()/len(comp1112)) # 평균 기대수익률"
      ]
    },
    {
      "cell_type": "code",
      "execution_count": null,
      "metadata": {
        "colab": {
          "base_uri": "https://localhost:8080/"
        },
        "id": "v-Ldita-5OuI",
        "outputId": "587a4362-62bd-4beb-c15c-a8f9cc3059fd"
      },
      "outputs": [
        {
          "name": "stdout",
          "output_type": "stream",
          "text": [
            "26.95167675797683\n"
          ]
        }
      ],
      "source": [
        "under02_upjong = join_t2.loc[join_t2['PBR'] <0.2] # pbr이 0.2보다 낮은 주식\n",
        "comp1112 = pd.merge(under02_upjong, jongmok_upjong2017, how='left',on = '종목코드')[['종목코드', '종목명_x', '업종명_x', 'PBR', '종가_x', '업종PBR','종가_y']]\n",
        "comp1112.columns = ['종목코드', '종목명', '업종명', 'PBR', '종가', '업종PBR','다음년도종가']\n",
        "comp1112['증가율'] = ((comp1112['다음년도종가']-comp1112['종가'])/comp1112['종가'])*100\n",
        "under02_pbr_returns.append(comp1112['증가율'].sum()/len(comp1112))\n",
        "print(comp1112['증가율'].sum()/len(comp1112)) # 평균 기대수익률"
      ]
    },
    {
      "cell_type": "code",
      "execution_count": null,
      "metadata": {
        "colab": {
          "base_uri": "https://localhost:8080/"
        },
        "id": "6_oWwyia5OuI",
        "outputId": "ecc26554-5fe9-4c93-da35-2805b962edce"
      },
      "outputs": [
        {
          "name": "stdout",
          "output_type": "stream",
          "text": [
            "10.235656654328421\n"
          ]
        }
      ],
      "source": [
        "under1_upjong = join_t2.loc[join_t2['PBR'] <1] # PBR이 1보다 낮은 주식\n",
        "comp1112 = pd.merge(under1_upjong, jongmok_upjong2017, how='left',on = '종목코드')[['종목코드', '종목명_x', '업종명_x', 'PBR', '종가_x', '업종PBR','종가_y']]\n",
        "comp1112.columns = ['종목코드', '종목명', '업종명', 'PBR', '종가', '업종PBR','다음년도종가']\n",
        "comp1112['증가율'] = ((comp1112['다음년도종가']-comp1112['종가'])/comp1112['종가'])*100\n",
        "under1_pbr_returns.append(comp1112['증가율'].sum()/len(comp1112))\n",
        "print(comp1112['증가율'].sum()/len(comp1112)) # 평균 기대수익률"
      ]
    },
    {
      "cell_type": "code",
      "execution_count": null,
      "metadata": {
        "colab": {
          "base_uri": "https://localhost:8080/"
        },
        "id": "wHulX9v75OuI",
        "outputId": "fbc86549-e04f-42cb-e01f-64b50389c21a"
      },
      "outputs": [
        {
          "name": "stdout",
          "output_type": "stream",
          "text": [
            "0.31561357873022455\n"
          ]
        }
      ],
      "source": [
        "upper1_pbr = join_t2.loc[join_t2['PBR']>1] # pbr이 1보다 높은\n",
        "comp1112 = pd.merge(upper1_pbr, jongmok_upjong2017, how='left',on = '종목코드')[['종목코드', '종목명_x', '업종명_x', 'PBR', '종가_x', '업종PBR','종가_y']]\n",
        "comp1112.columns = ['종목코드', '종목명', '업종명', 'PBR', '종가', '업종PBR','다음년도종가']\n",
        "comp1112['증가율'] = ((comp1112['다음년도종가']-comp1112['종가'])/comp1112['종가'])*100\n",
        "upper1_pbr_returns.append(comp1112['증가율'].sum()/len(comp1112))\n",
        "print(comp1112['증가율'].sum()/len(comp1112)) # 평균 기대수익률"
      ]
    },
    {
      "cell_type": "code",
      "execution_count": null,
      "metadata": {
        "colab": {
          "base_uri": "https://localhost:8080/"
        },
        "id": "CjaN3MnL5OuI",
        "outputId": "16c46247-21de-46ed-d89f-7ef4f76de4fe"
      },
      "outputs": [
        {
          "name": "stdout",
          "output_type": "stream",
          "text": [
            "-6.758921216878057\n"
          ]
        }
      ],
      "source": [
        "upper5_pbr = join_t2.loc[join_t2['PBR'] > 5] #  pbr이 5보다 높은\n",
        "comp1112 = pd.merge(upper5_pbr, jongmok_upjong2017, how='left',on = '종목코드')[['종목코드', '종목명_x', '업종명_x', 'PBR', '종가_x', '업종PBR','종가_y']]\n",
        "comp1112.columns = ['종목코드', '종목명', '업종명', 'PBR', '종가', '업종PBR','다음년도종가']\n",
        "comp1112['증가율'] = ((comp1112['다음년도종가']-comp1112['종가'])/comp1112['종가'])*100\n",
        "upper5_pbr_returns.append(comp1112['증가율'].sum()/len(comp1112))\n",
        "print(comp1112['증가율'].sum()/len(comp1112)) # 평균 기대수익률"
      ]
    },
    {
      "cell_type": "code",
      "execution_count": null,
      "metadata": {
        "colab": {
          "base_uri": "https://localhost:8080/",
          "height": 206
        },
        "id": "h7pIRKiC5OuJ",
        "outputId": "f46e8f0b-5cc0-45fe-9c9c-64d6100f1bf8"
      },
      "outputs": [
        {
          "data": {
            "text/html": [
              "\n",
              "  <div id=\"df-cd442c52-7a1a-44d8-9ce9-ae8bb4ac8c51\">\n",
              "    <div class=\"colab-df-container\">\n",
              "      <div>\n",
              "<style scoped>\n",
              "    .dataframe tbody tr th:only-of-type {\n",
              "        vertical-align: middle;\n",
              "    }\n",
              "\n",
              "    .dataframe tbody tr th {\n",
              "        vertical-align: top;\n",
              "    }\n",
              "\n",
              "    .dataframe thead th {\n",
              "        text-align: right;\n",
              "    }\n",
              "</style>\n",
              "<table border=\"1\" class=\"dataframe\">\n",
              "  <thead>\n",
              "    <tr style=\"text-align: right;\">\n",
              "      <th></th>\n",
              "      <th>증가율</th>\n",
              "    </tr>\n",
              "  </thead>\n",
              "  <tbody>\n",
              "    <tr>\n",
              "      <th>PBR</th>\n",
              "      <td>-0.086639</td>\n",
              "    </tr>\n",
              "    <tr>\n",
              "      <th>업종PBR</th>\n",
              "      <td>-0.064255</td>\n",
              "    </tr>\n",
              "    <tr>\n",
              "      <th>종가</th>\n",
              "      <td>-0.123269</td>\n",
              "    </tr>\n",
              "    <tr>\n",
              "      <th>다음해종가</th>\n",
              "      <td>-0.027298</td>\n",
              "    </tr>\n",
              "    <tr>\n",
              "      <th>증가율</th>\n",
              "      <td>1.000000</td>\n",
              "    </tr>\n",
              "  </tbody>\n",
              "</table>\n",
              "</div>\n",
              "      <button class=\"colab-df-convert\" onclick=\"convertToInteractive('df-cd442c52-7a1a-44d8-9ce9-ae8bb4ac8c51')\"\n",
              "              title=\"Convert this dataframe to an interactive table.\"\n",
              "              style=\"display:none;\">\n",
              "        \n",
              "  <svg xmlns=\"http://www.w3.org/2000/svg\" height=\"24px\"viewBox=\"0 0 24 24\"\n",
              "       width=\"24px\">\n",
              "    <path d=\"M0 0h24v24H0V0z\" fill=\"none\"/>\n",
              "    <path d=\"M18.56 5.44l.94 2.06.94-2.06 2.06-.94-2.06-.94-.94-2.06-.94 2.06-2.06.94zm-11 1L8.5 8.5l.94-2.06 2.06-.94-2.06-.94L8.5 2.5l-.94 2.06-2.06.94zm10 10l.94 2.06.94-2.06 2.06-.94-2.06-.94-.94-2.06-.94 2.06-2.06.94z\"/><path d=\"M17.41 7.96l-1.37-1.37c-.4-.4-.92-.59-1.43-.59-.52 0-1.04.2-1.43.59L10.3 9.45l-7.72 7.72c-.78.78-.78 2.05 0 2.83L4 21.41c.39.39.9.59 1.41.59.51 0 1.02-.2 1.41-.59l7.78-7.78 2.81-2.81c.8-.78.8-2.07 0-2.86zM5.41 20L4 18.59l7.72-7.72 1.47 1.35L5.41 20z\"/>\n",
              "  </svg>\n",
              "      </button>\n",
              "      \n",
              "  <style>\n",
              "    .colab-df-container {\n",
              "      display:flex;\n",
              "      flex-wrap:wrap;\n",
              "      gap: 12px;\n",
              "    }\n",
              "\n",
              "    .colab-df-convert {\n",
              "      background-color: #E8F0FE;\n",
              "      border: none;\n",
              "      border-radius: 50%;\n",
              "      cursor: pointer;\n",
              "      display: none;\n",
              "      fill: #1967D2;\n",
              "      height: 32px;\n",
              "      padding: 0 0 0 0;\n",
              "      width: 32px;\n",
              "    }\n",
              "\n",
              "    .colab-df-convert:hover {\n",
              "      background-color: #E2EBFA;\n",
              "      box-shadow: 0px 1px 2px rgba(60, 64, 67, 0.3), 0px 1px 3px 1px rgba(60, 64, 67, 0.15);\n",
              "      fill: #174EA6;\n",
              "    }\n",
              "\n",
              "    [theme=dark] .colab-df-convert {\n",
              "      background-color: #3B4455;\n",
              "      fill: #D2E3FC;\n",
              "    }\n",
              "\n",
              "    [theme=dark] .colab-df-convert:hover {\n",
              "      background-color: #434B5C;\n",
              "      box-shadow: 0px 1px 3px 1px rgba(0, 0, 0, 0.15);\n",
              "      filter: drop-shadow(0px 1px 2px rgba(0, 0, 0, 0.3));\n",
              "      fill: #FFFFFF;\n",
              "    }\n",
              "  </style>\n",
              "\n",
              "      <script>\n",
              "        const buttonEl =\n",
              "          document.querySelector('#df-cd442c52-7a1a-44d8-9ce9-ae8bb4ac8c51 button.colab-df-convert');\n",
              "        buttonEl.style.display =\n",
              "          google.colab.kernel.accessAllowed ? 'block' : 'none';\n",
              "\n",
              "        async function convertToInteractive(key) {\n",
              "          const element = document.querySelector('#df-cd442c52-7a1a-44d8-9ce9-ae8bb4ac8c51');\n",
              "          const dataTable =\n",
              "            await google.colab.kernel.invokeFunction('convertToInteractive',\n",
              "                                                     [key], {});\n",
              "          if (!dataTable) return;\n",
              "\n",
              "          const docLinkHtml = 'Like what you see? Visit the ' +\n",
              "            '<a target=\"_blank\" href=https://colab.research.google.com/notebooks/data_table.ipynb>data table notebook</a>'\n",
              "            + ' to learn more about interactive tables.';\n",
              "          element.innerHTML = '';\n",
              "          dataTable['output_type'] = 'display_data';\n",
              "          await google.colab.output.renderOutput(dataTable, element);\n",
              "          const docLink = document.createElement('div');\n",
              "          docLink.innerHTML = docLinkHtml;\n",
              "          element.appendChild(docLink);\n",
              "        }\n",
              "      </script>\n",
              "    </div>\n",
              "  </div>\n",
              "  "
            ],
            "text/plain": [
              "            증가율\n",
              "PBR   -0.086639\n",
              "업종PBR -0.064255\n",
              "종가    -0.123269\n",
              "다음해종가 -0.027298\n",
              "증가율    1.000000"
            ]
          },
          "execution_count": 632,
          "metadata": {},
          "output_type": "execute_result"
        }
      ],
      "source": [
        "a = pd.merge(join_t2.sort_values('PBR'), jongmok_upjong2017, how='left', on = '종목코드')[['종목코드', '종목명_x', '업종명_x', 'PBR', '업종PBR','종가_x','종가_y']]\n",
        "a.columns = ['종목코드', '종목명', '업종명', 'PBR', '업종PBR','종가','다음해종가']\n",
        "a['증가율'] = ((a['다음해종가']-a['종가'])/a['종가'])*100\n",
        "a = a.loc[~a['다음해종가'].isnull()]\n",
        "pbr_returns_corr_score = a.corr()['증가율'].to_frame()\n",
        "pbr_returns_corr.append(pbr_returns_corr_score.loc[(pbr_returns_corr_score.index=='PBR')]['증가율'].values)\n",
        "pbr_returns_corr_score"
      ]
    },
    {
      "cell_type": "code",
      "execution_count": null,
      "metadata": {
        "id": "nh2sBDPO5OuJ"
      },
      "outputs": [],
      "source": [
        ""
      ]
    },
    {
      "cell_type": "code",
      "execution_count": null,
      "metadata": {
        "id": "GRhqpGLZ5OuJ"
      },
      "outputs": [],
      "source": [
        ""
      ]
    },
    {
      "cell_type": "code",
      "execution_count": null,
      "metadata": {
        "id": "a0jNcq2i5OuJ"
      },
      "outputs": [],
      "source": [
        ""
      ]
    },
    {
      "cell_type": "markdown",
      "metadata": {
        "id": "EjqK0FUw5a3q"
      },
      "source": [
        "## 2017"
      ]
    },
    {
      "cell_type": "code",
      "execution_count": null,
      "metadata": {
        "id": "MaS4zD_g5a3r"
      },
      "outputs": [],
      "source": [
        "join_t1 = pd.merge(pbr_2017,jongmok_upjong2017,how='left',on='종목코드')[['종목코드','종목명_x','업종명','PBR','종가']]\n",
        "join_t1.columns = ['종목코드','종목명','업종명','PBR','종가']\n",
        "join_t2 = pd.merge(join_t1,upjong2017,how='left',on='업종명')"
      ]
    },
    {
      "cell_type": "code",
      "execution_count": null,
      "metadata": {
        "id": "o2oINpdj5a3r"
      },
      "outputs": [],
      "source": [
        "join_t2['PBR'] = join_t2['PBR'].apply(lambda x : '0' if x=='-' else x)\n",
        "join_t2['PBR'] = join_t2['PBR'].astype(float)"
      ]
    },
    {
      "cell_type": "code",
      "execution_count": null,
      "metadata": {
        "colab": {
          "base_uri": "https://localhost:8080/"
        },
        "id": "KSajN2Jl5a3r",
        "outputId": "893bce11-5393-4c46-ded9-30330baf7c9b"
      },
      "outputs": [
        {
          "name": "stdout",
          "output_type": "stream",
          "text": [
            "전처리 하기 전 코스피 종목 수 : 861\n"
          ]
        }
      ],
      "source": [
        "join_t2['업종PBR'] = join_t2['업종PBR'].apply(lambda x : '0' if x =='-' else x)\n",
        "join_t2['업종PBR'] = join_t2['업종PBR'].astype(float)\n",
        "print('전처리 하기 전 코스피 종목 수 : {}'.format(len(join_t2)))"
      ]
    },
    {
      "cell_type": "code",
      "execution_count": null,
      "metadata": {
        "colab": {
          "base_uri": "https://localhost:8080/"
        },
        "id": "LsjzcGZv5a3r",
        "outputId": "cffc0a2e-1dd7-4375-d640-800da37f3aac"
      },
      "outputs": [
        {
          "name": "stdout",
          "output_type": "stream",
          "text": [
            "전처리 한 후 코스피 종목 수 : 740\n"
          ]
        }
      ],
      "source": [
        "join_t2 = join_t2.loc[~((join_t2['업종PBR']==0) | (join_t2['PBR']==0))] # PBR이나 업종PBR이 0인 종목을 제외한 종목\n",
        "print('전처리 한 후 코스피 종목 수 : {}'.format(len(join_t2)))"
      ]
    },
    {
      "cell_type": "code",
      "execution_count": null,
      "metadata": {
        "colab": {
          "base_uri": "https://localhost:8080/"
        },
        "id": "ch9vybyF5a3r",
        "outputId": "f2f8400a-a4c6-4338-ddf4-5d7b2ab33602"
      },
      "outputs": [
        {
          "name": "stdout",
          "output_type": "stream",
          "text": [
            "12.05200805500173\n"
          ]
        }
      ],
      "source": [
        "lower_upjong = join_t2.loc[join_t2['업종PBR'] >join_t2['PBR']] # 업종pbr보다 낮은 pbr주식\n",
        "comp1112 = pd.merge(lower_upjong, jongmok_upjong2018, how='left',on = '종목코드')[['종목코드', '종목명_x', '업종명_x', 'PBR', '종가_x', '업종PBR','종가_y']]\n",
        "comp1112.columns = ['종목코드', '종목명', '업종명', 'PBR', '종가', '업종PBR','다음년도종가']\n",
        "comp1112['증가율'] = ((comp1112['다음년도종가']-comp1112['종가'])/comp1112['종가'])*100\n",
        "lower_pbr_returns.append(comp1112['증가율'].sum()/len(comp1112))\n",
        "print(comp1112['증가율'].sum()/len(comp1112)) # 평균 기대수익률"
      ]
    },
    {
      "cell_type": "code",
      "execution_count": null,
      "metadata": {
        "colab": {
          "base_uri": "https://localhost:8080/"
        },
        "id": "bHhAXOA55a3r",
        "outputId": "717617b8-202d-4ddf-8444-c18c2f16d966"
      },
      "outputs": [
        {
          "name": "stdout",
          "output_type": "stream",
          "text": [
            "2.9819147346817756\n"
          ]
        }
      ],
      "source": [
        "over_upjong = join_t2.loc[join_t2['PBR'] >join_t2['업종PBR']] # 업종pbr보다 높은 pbr주식\n",
        "comp1112 = pd.merge(over_upjong, jongmok_upjong2018, how='left',on = '종목코드')[['종목코드', '종목명_x', '업종명_x', 'PBR', '종가_x', '업종PBR','종가_y']]\n",
        "comp1112.columns = ['종목코드', '종목명', '업종명', 'PBR', '종가', '업종PBR','다음년도종가']\n",
        "comp1112['증가율'] = ((comp1112['다음년도종가']-comp1112['종가'])/comp1112['종가'])*100\n",
        "upper_pbr_returns.append(comp1112['증가율'].sum()/len(comp1112))\n",
        "print(comp1112['증가율'].sum()/len(comp1112)) # 평균 기대수익률"
      ]
    },
    {
      "cell_type": "code",
      "execution_count": null,
      "metadata": {
        "colab": {
          "base_uri": "https://localhost:8080/"
        },
        "id": "1Bq3GSQh5a3r",
        "outputId": "a6b1a37b-8a91-4306-8745-f6b700990b3a"
      },
      "outputs": [
        {
          "name": "stdout",
          "output_type": "stream",
          "text": [
            "-9.540117416829744\n"
          ]
        }
      ],
      "source": [
        "under02_upjong = join_t2.loc[join_t2['PBR'] <0.2] # pbr이 0.2보다 낮은 주식\n",
        "comp1112 = pd.merge(under02_upjong, jongmok_upjong2018, how='left',on = '종목코드')[['종목코드', '종목명_x', '업종명_x', 'PBR', '종가_x', '업종PBR','종가_y']]\n",
        "comp1112.columns = ['종목코드', '종목명', '업종명', 'PBR', '종가', '업종PBR','다음년도종가']\n",
        "comp1112['증가율'] = ((comp1112['다음년도종가']-comp1112['종가'])/comp1112['종가'])*100\n",
        "under02_pbr_returns.append(comp1112['증가율'].sum()/len(comp1112))\n",
        "print(comp1112['증가율'].sum()/len(comp1112)) # 평균 기대수익률"
      ]
    },
    {
      "cell_type": "code",
      "execution_count": null,
      "metadata": {
        "colab": {
          "base_uri": "https://localhost:8080/"
        },
        "id": "tO6EAJZ25a3r",
        "outputId": "043d0fa0-aa10-4ef3-dee3-52b722032c51"
      },
      "outputs": [
        {
          "name": "stdout",
          "output_type": "stream",
          "text": [
            "10.415852189998244\n"
          ]
        }
      ],
      "source": [
        "under1_upjong = join_t2.loc[join_t2['PBR'] <1] # PBR이 1보다 낮은 주식\n",
        "comp1112 = pd.merge(under1_upjong, jongmok_upjong2018, how='left',on = '종목코드')[['종목코드', '종목명_x', '업종명_x', 'PBR', '종가_x', '업종PBR','종가_y']]\n",
        "comp1112.columns = ['종목코드', '종목명', '업종명', 'PBR', '종가', '업종PBR','다음년도종가']\n",
        "comp1112['증가율'] = ((comp1112['다음년도종가']-comp1112['종가'])/comp1112['종가'])*100\n",
        "under1_pbr_returns.append(comp1112['증가율'].sum()/len(comp1112))\n",
        "print(comp1112['증가율'].sum()/len(comp1112)) # 평균 기대수익률"
      ]
    },
    {
      "cell_type": "code",
      "execution_count": null,
      "metadata": {
        "colab": {
          "base_uri": "https://localhost:8080/"
        },
        "id": "lfRNanFl5a3s",
        "outputId": "0b8d38fc-2c95-41bc-a9ed-2b78201e5b8c"
      },
      "outputs": [
        {
          "name": "stdout",
          "output_type": "stream",
          "text": [
            "6.074277747018664\n"
          ]
        }
      ],
      "source": [
        "upper1_pbr = join_t2.loc[join_t2['PBR']>1] # pbr이 1보다 높은\n",
        "comp1112 = pd.merge(upper1_pbr, jongmok_upjong2018, how='left',on = '종목코드')[['종목코드', '종목명_x', '업종명_x', 'PBR', '종가_x', '업종PBR','종가_y']]\n",
        "comp1112.columns = ['종목코드', '종목명', '업종명', 'PBR', '종가', '업종PBR','다음년도종가']\n",
        "comp1112['증가율'] = ((comp1112['다음년도종가']-comp1112['종가'])/comp1112['종가'])*100\n",
        "upper1_pbr_returns.append(comp1112['증가율'].sum()/len(comp1112))\n",
        "print(comp1112['증가율'].sum()/len(comp1112)) # 평균 기대수익률"
      ]
    },
    {
      "cell_type": "code",
      "execution_count": null,
      "metadata": {
        "colab": {
          "base_uri": "https://localhost:8080/"
        },
        "id": "saKYcfg-5a3s",
        "outputId": "3667352e-e826-4048-d48c-3384a56f8e06"
      },
      "outputs": [
        {
          "name": "stdout",
          "output_type": "stream",
          "text": [
            "6.988500898468591\n"
          ]
        }
      ],
      "source": [
        "upper5_pbr = join_t2.loc[join_t2['PBR'] > 5] #  pbr이 5보다 높은\n",
        "comp1112 = pd.merge(upper5_pbr, jongmok_upjong2018, how='left',on = '종목코드')[['종목코드', '종목명_x', '업종명_x', 'PBR', '종가_x', '업종PBR','종가_y']]\n",
        "comp1112.columns = ['종목코드', '종목명', '업종명', 'PBR', '종가', '업종PBR','다음년도종가']\n",
        "comp1112['증가율'] = ((comp1112['다음년도종가']-comp1112['종가'])/comp1112['종가'])*100\n",
        "upper5_pbr_returns.append(comp1112['증가율'].sum()/len(comp1112))\n",
        "print(comp1112['증가율'].sum()/len(comp1112)) # 평균 기대수익률"
      ]
    },
    {
      "cell_type": "code",
      "execution_count": null,
      "metadata": {
        "colab": {
          "base_uri": "https://localhost:8080/",
          "height": 206
        },
        "id": "DhgtoIM_5a3s",
        "outputId": "c32fd839-464e-4484-c912-c30afcc54276"
      },
      "outputs": [
        {
          "data": {
            "text/html": [
              "\n",
              "  <div id=\"df-46cdfef6-b298-4bca-8fe3-02ff12b5c423\">\n",
              "    <div class=\"colab-df-container\">\n",
              "      <div>\n",
              "<style scoped>\n",
              "    .dataframe tbody tr th:only-of-type {\n",
              "        vertical-align: middle;\n",
              "    }\n",
              "\n",
              "    .dataframe tbody tr th {\n",
              "        vertical-align: top;\n",
              "    }\n",
              "\n",
              "    .dataframe thead th {\n",
              "        text-align: right;\n",
              "    }\n",
              "</style>\n",
              "<table border=\"1\" class=\"dataframe\">\n",
              "  <thead>\n",
              "    <tr style=\"text-align: right;\">\n",
              "      <th></th>\n",
              "      <th>증가율</th>\n",
              "    </tr>\n",
              "  </thead>\n",
              "  <tbody>\n",
              "    <tr>\n",
              "      <th>PBR</th>\n",
              "      <td>-0.013128</td>\n",
              "    </tr>\n",
              "    <tr>\n",
              "      <th>업종PBR</th>\n",
              "      <td>0.074955</td>\n",
              "    </tr>\n",
              "    <tr>\n",
              "      <th>종가</th>\n",
              "      <td>0.000174</td>\n",
              "    </tr>\n",
              "    <tr>\n",
              "      <th>다음해종가</th>\n",
              "      <td>0.068355</td>\n",
              "    </tr>\n",
              "    <tr>\n",
              "      <th>증가율</th>\n",
              "      <td>1.000000</td>\n",
              "    </tr>\n",
              "  </tbody>\n",
              "</table>\n",
              "</div>\n",
              "      <button class=\"colab-df-convert\" onclick=\"convertToInteractive('df-46cdfef6-b298-4bca-8fe3-02ff12b5c423')\"\n",
              "              title=\"Convert this dataframe to an interactive table.\"\n",
              "              style=\"display:none;\">\n",
              "        \n",
              "  <svg xmlns=\"http://www.w3.org/2000/svg\" height=\"24px\"viewBox=\"0 0 24 24\"\n",
              "       width=\"24px\">\n",
              "    <path d=\"M0 0h24v24H0V0z\" fill=\"none\"/>\n",
              "    <path d=\"M18.56 5.44l.94 2.06.94-2.06 2.06-.94-2.06-.94-.94-2.06-.94 2.06-2.06.94zm-11 1L8.5 8.5l.94-2.06 2.06-.94-2.06-.94L8.5 2.5l-.94 2.06-2.06.94zm10 10l.94 2.06.94-2.06 2.06-.94-2.06-.94-.94-2.06-.94 2.06-2.06.94z\"/><path d=\"M17.41 7.96l-1.37-1.37c-.4-.4-.92-.59-1.43-.59-.52 0-1.04.2-1.43.59L10.3 9.45l-7.72 7.72c-.78.78-.78 2.05 0 2.83L4 21.41c.39.39.9.59 1.41.59.51 0 1.02-.2 1.41-.59l7.78-7.78 2.81-2.81c.8-.78.8-2.07 0-2.86zM5.41 20L4 18.59l7.72-7.72 1.47 1.35L5.41 20z\"/>\n",
              "  </svg>\n",
              "      </button>\n",
              "      \n",
              "  <style>\n",
              "    .colab-df-container {\n",
              "      display:flex;\n",
              "      flex-wrap:wrap;\n",
              "      gap: 12px;\n",
              "    }\n",
              "\n",
              "    .colab-df-convert {\n",
              "      background-color: #E8F0FE;\n",
              "      border: none;\n",
              "      border-radius: 50%;\n",
              "      cursor: pointer;\n",
              "      display: none;\n",
              "      fill: #1967D2;\n",
              "      height: 32px;\n",
              "      padding: 0 0 0 0;\n",
              "      width: 32px;\n",
              "    }\n",
              "\n",
              "    .colab-df-convert:hover {\n",
              "      background-color: #E2EBFA;\n",
              "      box-shadow: 0px 1px 2px rgba(60, 64, 67, 0.3), 0px 1px 3px 1px rgba(60, 64, 67, 0.15);\n",
              "      fill: #174EA6;\n",
              "    }\n",
              "\n",
              "    [theme=dark] .colab-df-convert {\n",
              "      background-color: #3B4455;\n",
              "      fill: #D2E3FC;\n",
              "    }\n",
              "\n",
              "    [theme=dark] .colab-df-convert:hover {\n",
              "      background-color: #434B5C;\n",
              "      box-shadow: 0px 1px 3px 1px rgba(0, 0, 0, 0.15);\n",
              "      filter: drop-shadow(0px 1px 2px rgba(0, 0, 0, 0.3));\n",
              "      fill: #FFFFFF;\n",
              "    }\n",
              "  </style>\n",
              "\n",
              "      <script>\n",
              "        const buttonEl =\n",
              "          document.querySelector('#df-46cdfef6-b298-4bca-8fe3-02ff12b5c423 button.colab-df-convert');\n",
              "        buttonEl.style.display =\n",
              "          google.colab.kernel.accessAllowed ? 'block' : 'none';\n",
              "\n",
              "        async function convertToInteractive(key) {\n",
              "          const element = document.querySelector('#df-46cdfef6-b298-4bca-8fe3-02ff12b5c423');\n",
              "          const dataTable =\n",
              "            await google.colab.kernel.invokeFunction('convertToInteractive',\n",
              "                                                     [key], {});\n",
              "          if (!dataTable) return;\n",
              "\n",
              "          const docLinkHtml = 'Like what you see? Visit the ' +\n",
              "            '<a target=\"_blank\" href=https://colab.research.google.com/notebooks/data_table.ipynb>data table notebook</a>'\n",
              "            + ' to learn more about interactive tables.';\n",
              "          element.innerHTML = '';\n",
              "          dataTable['output_type'] = 'display_data';\n",
              "          await google.colab.output.renderOutput(dataTable, element);\n",
              "          const docLink = document.createElement('div');\n",
              "          docLink.innerHTML = docLinkHtml;\n",
              "          element.appendChild(docLink);\n",
              "        }\n",
              "      </script>\n",
              "    </div>\n",
              "  </div>\n",
              "  "
            ],
            "text/plain": [
              "            증가율\n",
              "PBR   -0.013128\n",
              "업종PBR  0.074955\n",
              "종가     0.000174\n",
              "다음해종가  0.068355\n",
              "증가율    1.000000"
            ]
          },
          "execution_count": 643,
          "metadata": {},
          "output_type": "execute_result"
        }
      ],
      "source": [
        "a = pd.merge(join_t2.sort_values('PBR'), jongmok_upjong2018, how='left', on = '종목코드')[['종목코드', '종목명_x', '업종명_x', 'PBR', '업종PBR','종가_x','종가_y']]\n",
        "a.columns = ['종목코드', '종목명', '업종명', 'PBR', '업종PBR','종가','다음해종가']\n",
        "a['증가율'] = ((a['다음해종가']-a['종가'])/a['종가'])*100\n",
        "a = a.loc[~a['다음해종가'].isnull()]\n",
        "pbr_returns_corr_score = a.corr()['증가율'].to_frame()\n",
        "pbr_returns_corr.append(pbr_returns_corr_score.loc[(pbr_returns_corr_score.index=='PBR')]['증가율'].values)\n",
        "pbr_returns_corr_score"
      ]
    },
    {
      "cell_type": "code",
      "execution_count": null,
      "metadata": {
        "id": "38APd2ba5a3s"
      },
      "outputs": [],
      "source": [
        ""
      ]
    },
    {
      "cell_type": "code",
      "execution_count": null,
      "metadata": {
        "id": "qdO4XXI15a3s"
      },
      "outputs": [],
      "source": [
        ""
      ]
    },
    {
      "cell_type": "code",
      "execution_count": null,
      "metadata": {
        "id": "Jt-1ZLtJ5a3s"
      },
      "outputs": [],
      "source": [
        ""
      ]
    },
    {
      "cell_type": "markdown",
      "metadata": {
        "id": "6XQEdfF95x-w"
      },
      "source": [
        "## 2018"
      ]
    },
    {
      "cell_type": "code",
      "execution_count": null,
      "metadata": {
        "id": "z1fk9zuE5x-w"
      },
      "outputs": [],
      "source": [
        "join_t1 = pd.merge(pbr_2018,jongmok_upjong2018,how='left',on='종목코드')[['종목코드','종목명_x','업종명','PBR','종가']]\n",
        "join_t1.columns = ['종목코드','종목명','업종명','PBR','종가']\n",
        "join_t2 = pd.merge(join_t1,upjong2018,how='left',on='업종명')"
      ]
    },
    {
      "cell_type": "code",
      "execution_count": null,
      "metadata": {
        "id": "ijzwMok85x-w"
      },
      "outputs": [],
      "source": [
        "join_t2['PBR'] = join_t2['PBR'].apply(lambda x : '0' if x=='-' else x)\n",
        "join_t2['PBR'] = join_t2['PBR'].astype(float)"
      ]
    },
    {
      "cell_type": "code",
      "execution_count": null,
      "metadata": {
        "colab": {
          "base_uri": "https://localhost:8080/"
        },
        "id": "LT5Q62Uu5x-w",
        "outputId": "2066802d-e450-42a9-9286-666efa48f849"
      },
      "outputs": [
        {
          "name": "stdout",
          "output_type": "stream",
          "text": [
            "전처리 하기 전 코스피 종목 수 : 869\n"
          ]
        }
      ],
      "source": [
        "join_t2['업종PBR'] = join_t2['업종PBR'].apply(lambda x : '0' if x =='-' else x)\n",
        "join_t2['업종PBR'] = join_t2['업종PBR'].astype(float)\n",
        "print('전처리 하기 전 코스피 종목 수 : {}'.format(len(join_t2)))"
      ]
    },
    {
      "cell_type": "code",
      "execution_count": null,
      "metadata": {
        "colab": {
          "base_uri": "https://localhost:8080/"
        },
        "id": "kv_LmEVn5x-w",
        "outputId": "7fa0751f-5f11-4c15-f25a-464b4a652dfd"
      },
      "outputs": [
        {
          "name": "stdout",
          "output_type": "stream",
          "text": [
            "전처리 한 후 코스피 종목 수 : 741\n"
          ]
        }
      ],
      "source": [
        "join_t2 = join_t2.loc[~((join_t2['업종PBR']==0) | (join_t2['PBR']==0))] # PBR이나 업종PBR이 0인 종목을 제외한 종목\n",
        "print('전처리 한 후 코스피 종목 수 : {}'.format(len(join_t2)))"
      ]
    },
    {
      "cell_type": "code",
      "execution_count": null,
      "metadata": {
        "colab": {
          "base_uri": "https://localhost:8080/"
        },
        "id": "vsjNaXlC5x-w",
        "outputId": "5fd16137-4a08-4cbe-c9f0-be104f8972e1"
      },
      "outputs": [
        {
          "name": "stdout",
          "output_type": "stream",
          "text": [
            "-8.998134747517854\n"
          ]
        }
      ],
      "source": [
        "lower_upjong = join_t2.loc[join_t2['업종PBR'] >join_t2['PBR']] # 업종pbr보다 낮은 pbr주식\n",
        "comp1112 = pd.merge(lower_upjong, jongmok_upjong2019, how='left',on = '종목코드')[['종목코드', '종목명_x', '업종명_x', 'PBR', '종가_x', '업종PBR','종가_y']]\n",
        "comp1112.columns = ['종목코드', '종목명', '업종명', 'PBR', '종가', '업종PBR','다음년도종가']\n",
        "comp1112['증가율'] = ((comp1112['다음년도종가']-comp1112['종가'])/comp1112['종가'])*100\n",
        "lower_pbr_returns.append(comp1112['증가율'].sum()/len(comp1112))\n",
        "print(comp1112['증가율'].sum()/len(comp1112)) # 평균 기대수익률"
      ]
    },
    {
      "cell_type": "code",
      "execution_count": null,
      "metadata": {
        "colab": {
          "base_uri": "https://localhost:8080/"
        },
        "id": "-kwUL-wJ5x-w",
        "outputId": "0a0c8be4-f8f4-47a8-8770-d301b5f4e6ca"
      },
      "outputs": [
        {
          "name": "stdout",
          "output_type": "stream",
          "text": [
            "-8.11892615378681\n"
          ]
        }
      ],
      "source": [
        "over_upjong = join_t2.loc[join_t2['PBR'] >join_t2['업종PBR']] # 업종pbr보다 높은 pbr주식\n",
        "comp1112 = pd.merge(over_upjong, jongmok_upjong2019, how='left',on = '종목코드')[['종목코드', '종목명_x', '업종명_x', 'PBR', '종가_x', '업종PBR','종가_y']]\n",
        "comp1112.columns = ['종목코드', '종목명', '업종명', 'PBR', '종가', '업종PBR','다음년도종가']\n",
        "comp1112['증가율'] = ((comp1112['다음년도종가']-comp1112['종가'])/comp1112['종가'])*100\n",
        "upper_pbr_returns.append(comp1112['증가율'].sum()/len(comp1112))\n",
        "print(comp1112['증가율'].sum()/len(comp1112)) # 평균 기대수익률"
      ]
    },
    {
      "cell_type": "code",
      "execution_count": null,
      "metadata": {
        "colab": {
          "base_uri": "https://localhost:8080/"
        },
        "id": "w25hVdiR5x-x",
        "outputId": "c90293ef-01ee-439c-c456-6c4b4dc01299"
      },
      "outputs": [
        {
          "name": "stdout",
          "output_type": "stream",
          "text": [
            "-25.388127853881276\n"
          ]
        }
      ],
      "source": [
        "under02_upjong = join_t2.loc[join_t2['PBR'] <0.2] # pbr이 0.2보다 낮은 주식\n",
        "comp1112 = pd.merge(under02_upjong, jongmok_upjong2019, how='left',on = '종목코드')[['종목코드', '종목명_x', '업종명_x', 'PBR', '종가_x', '업종PBR','종가_y']]\n",
        "comp1112.columns = ['종목코드', '종목명', '업종명', 'PBR', '종가', '업종PBR','다음년도종가']\n",
        "comp1112['증가율'] = ((comp1112['다음년도종가']-comp1112['종가'])/comp1112['종가'])*100\n",
        "under02_pbr_returns.append(comp1112['증가율'].sum()/len(comp1112))\n",
        "print(comp1112['증가율'].sum()/len(comp1112)) # 평균 기대수익률"
      ]
    },
    {
      "cell_type": "code",
      "execution_count": null,
      "metadata": {
        "colab": {
          "base_uri": "https://localhost:8080/"
        },
        "id": "JbMHEtop5x-x",
        "outputId": "293a2689-ae26-444c-d087-2ca788ac7a71"
      },
      "outputs": [
        {
          "name": "stdout",
          "output_type": "stream",
          "text": [
            "-7.352205662973763\n"
          ]
        }
      ],
      "source": [
        "under1_upjong = join_t2.loc[join_t2['PBR'] <1] # PBR이 1보다 낮은 주식\n",
        "comp1112 = pd.merge(under1_upjong, jongmok_upjong2019, how='left',on = '종목코드')[['종목코드', '종목명_x', '업종명_x', 'PBR', '종가_x', '업종PBR','종가_y']]\n",
        "comp1112.columns = ['종목코드', '종목명', '업종명', 'PBR', '종가', '업종PBR','다음년도종가']\n",
        "comp1112['증가율'] = ((comp1112['다음년도종가']-comp1112['종가'])/comp1112['종가'])*100\n",
        "under1_pbr_returns.append(comp1112['증가율'].sum()/len(comp1112))\n",
        "print(comp1112['증가율'].sum()/len(comp1112)) # 평균 기대수익률"
      ]
    },
    {
      "cell_type": "code",
      "execution_count": null,
      "metadata": {
        "colab": {
          "base_uri": "https://localhost:8080/"
        },
        "id": "9POnsxwX5x-x",
        "outputId": "c4f40183-3a28-4d94-cb40-747325e713aa"
      },
      "outputs": [
        {
          "name": "stdout",
          "output_type": "stream",
          "text": [
            "-12.426412526068477\n"
          ]
        }
      ],
      "source": [
        "upper1_pbr = join_t2.loc[join_t2['PBR']>1] # pbr이 1보다 높은\n",
        "comp1112 = pd.merge(upper1_pbr, jongmok_upjong2019, how='left',on = '종목코드')[['종목코드', '종목명_x', '업종명_x', 'PBR', '종가_x', '업종PBR','종가_y']]\n",
        "comp1112.columns = ['종목코드', '종목명', '업종명', 'PBR', '종가', '업종PBR','다음년도종가']\n",
        "comp1112['증가율'] = ((comp1112['다음년도종가']-comp1112['종가'])/comp1112['종가'])*100\n",
        "upper1_pbr_returns.append(comp1112['증가율'].sum()/len(comp1112))\n",
        "print(comp1112['증가율'].sum()/len(comp1112)) # 평균 기대수익률"
      ]
    },
    {
      "cell_type": "code",
      "execution_count": null,
      "metadata": {
        "colab": {
          "base_uri": "https://localhost:8080/"
        },
        "id": "J4YauaaG5x-x",
        "outputId": "43b765cf-b784-4ea4-8f9d-7c6d0c05b223"
      },
      "outputs": [
        {
          "name": "stdout",
          "output_type": "stream",
          "text": [
            "-13.372239595692024\n"
          ]
        }
      ],
      "source": [
        "upper5_pbr = join_t2.loc[join_t2['PBR'] > 5] #  pbr이 5보다 높은\n",
        "comp1112 = pd.merge(upper5_pbr, jongmok_upjong2019, how='left',on = '종목코드')[['종목코드', '종목명_x', '업종명_x', 'PBR', '종가_x', '업종PBR','종가_y']]\n",
        "comp1112.columns = ['종목코드', '종목명', '업종명', 'PBR', '종가', '업종PBR','다음년도종가']\n",
        "comp1112['증가율'] = ((comp1112['다음년도종가']-comp1112['종가'])/comp1112['종가'])*100\n",
        "upper5_pbr_returns.append(comp1112['증가율'].sum()/len(comp1112))\n",
        "print(comp1112['증가율'].sum()/len(comp1112)) # 평균 기대수익률"
      ]
    },
    {
      "cell_type": "code",
      "execution_count": null,
      "metadata": {
        "colab": {
          "base_uri": "https://localhost:8080/",
          "height": 206
        },
        "id": "OL74zq2-5x-x",
        "outputId": "7ca82d7b-b72d-41b7-e09b-e93e0a0d0e01"
      },
      "outputs": [
        {
          "data": {
            "text/html": [
              "\n",
              "  <div id=\"df-af5d79d5-1692-4255-86e0-d3c3299217e4\">\n",
              "    <div class=\"colab-df-container\">\n",
              "      <div>\n",
              "<style scoped>\n",
              "    .dataframe tbody tr th:only-of-type {\n",
              "        vertical-align: middle;\n",
              "    }\n",
              "\n",
              "    .dataframe tbody tr th {\n",
              "        vertical-align: top;\n",
              "    }\n",
              "\n",
              "    .dataframe thead th {\n",
              "        text-align: right;\n",
              "    }\n",
              "</style>\n",
              "<table border=\"1\" class=\"dataframe\">\n",
              "  <thead>\n",
              "    <tr style=\"text-align: right;\">\n",
              "      <th></th>\n",
              "      <th>증가율</th>\n",
              "    </tr>\n",
              "  </thead>\n",
              "  <tbody>\n",
              "    <tr>\n",
              "      <th>PBR</th>\n",
              "      <td>-0.058346</td>\n",
              "    </tr>\n",
              "    <tr>\n",
              "      <th>업종PBR</th>\n",
              "      <td>-0.029749</td>\n",
              "    </tr>\n",
              "    <tr>\n",
              "      <th>종가</th>\n",
              "      <td>-0.108283</td>\n",
              "    </tr>\n",
              "    <tr>\n",
              "      <th>다음해종가</th>\n",
              "      <td>0.019156</td>\n",
              "    </tr>\n",
              "    <tr>\n",
              "      <th>증가율</th>\n",
              "      <td>1.000000</td>\n",
              "    </tr>\n",
              "  </tbody>\n",
              "</table>\n",
              "</div>\n",
              "      <button class=\"colab-df-convert\" onclick=\"convertToInteractive('df-af5d79d5-1692-4255-86e0-d3c3299217e4')\"\n",
              "              title=\"Convert this dataframe to an interactive table.\"\n",
              "              style=\"display:none;\">\n",
              "        \n",
              "  <svg xmlns=\"http://www.w3.org/2000/svg\" height=\"24px\"viewBox=\"0 0 24 24\"\n",
              "       width=\"24px\">\n",
              "    <path d=\"M0 0h24v24H0V0z\" fill=\"none\"/>\n",
              "    <path d=\"M18.56 5.44l.94 2.06.94-2.06 2.06-.94-2.06-.94-.94-2.06-.94 2.06-2.06.94zm-11 1L8.5 8.5l.94-2.06 2.06-.94-2.06-.94L8.5 2.5l-.94 2.06-2.06.94zm10 10l.94 2.06.94-2.06 2.06-.94-2.06-.94-.94-2.06-.94 2.06-2.06.94z\"/><path d=\"M17.41 7.96l-1.37-1.37c-.4-.4-.92-.59-1.43-.59-.52 0-1.04.2-1.43.59L10.3 9.45l-7.72 7.72c-.78.78-.78 2.05 0 2.83L4 21.41c.39.39.9.59 1.41.59.51 0 1.02-.2 1.41-.59l7.78-7.78 2.81-2.81c.8-.78.8-2.07 0-2.86zM5.41 20L4 18.59l7.72-7.72 1.47 1.35L5.41 20z\"/>\n",
              "  </svg>\n",
              "      </button>\n",
              "      \n",
              "  <style>\n",
              "    .colab-df-container {\n",
              "      display:flex;\n",
              "      flex-wrap:wrap;\n",
              "      gap: 12px;\n",
              "    }\n",
              "\n",
              "    .colab-df-convert {\n",
              "      background-color: #E8F0FE;\n",
              "      border: none;\n",
              "      border-radius: 50%;\n",
              "      cursor: pointer;\n",
              "      display: none;\n",
              "      fill: #1967D2;\n",
              "      height: 32px;\n",
              "      padding: 0 0 0 0;\n",
              "      width: 32px;\n",
              "    }\n",
              "\n",
              "    .colab-df-convert:hover {\n",
              "      background-color: #E2EBFA;\n",
              "      box-shadow: 0px 1px 2px rgba(60, 64, 67, 0.3), 0px 1px 3px 1px rgba(60, 64, 67, 0.15);\n",
              "      fill: #174EA6;\n",
              "    }\n",
              "\n",
              "    [theme=dark] .colab-df-convert {\n",
              "      background-color: #3B4455;\n",
              "      fill: #D2E3FC;\n",
              "    }\n",
              "\n",
              "    [theme=dark] .colab-df-convert:hover {\n",
              "      background-color: #434B5C;\n",
              "      box-shadow: 0px 1px 3px 1px rgba(0, 0, 0, 0.15);\n",
              "      filter: drop-shadow(0px 1px 2px rgba(0, 0, 0, 0.3));\n",
              "      fill: #FFFFFF;\n",
              "    }\n",
              "  </style>\n",
              "\n",
              "      <script>\n",
              "        const buttonEl =\n",
              "          document.querySelector('#df-af5d79d5-1692-4255-86e0-d3c3299217e4 button.colab-df-convert');\n",
              "        buttonEl.style.display =\n",
              "          google.colab.kernel.accessAllowed ? 'block' : 'none';\n",
              "\n",
              "        async function convertToInteractive(key) {\n",
              "          const element = document.querySelector('#df-af5d79d5-1692-4255-86e0-d3c3299217e4');\n",
              "          const dataTable =\n",
              "            await google.colab.kernel.invokeFunction('convertToInteractive',\n",
              "                                                     [key], {});\n",
              "          if (!dataTable) return;\n",
              "\n",
              "          const docLinkHtml = 'Like what you see? Visit the ' +\n",
              "            '<a target=\"_blank\" href=https://colab.research.google.com/notebooks/data_table.ipynb>data table notebook</a>'\n",
              "            + ' to learn more about interactive tables.';\n",
              "          element.innerHTML = '';\n",
              "          dataTable['output_type'] = 'display_data';\n",
              "          await google.colab.output.renderOutput(dataTable, element);\n",
              "          const docLink = document.createElement('div');\n",
              "          docLink.innerHTML = docLinkHtml;\n",
              "          element.appendChild(docLink);\n",
              "        }\n",
              "      </script>\n",
              "    </div>\n",
              "  </div>\n",
              "  "
            ],
            "text/plain": [
              "            증가율\n",
              "PBR   -0.058346\n",
              "업종PBR -0.029749\n",
              "종가    -0.108283\n",
              "다음해종가  0.019156\n",
              "증가율    1.000000"
            ]
          },
          "execution_count": 654,
          "metadata": {},
          "output_type": "execute_result"
        }
      ],
      "source": [
        "a = pd.merge(join_t2.sort_values('PBR'), jongmok_upjong2019, how='left', on = '종목코드')[['종목코드', '종목명_x', '업종명_x', 'PBR', '업종PBR','종가_x','종가_y']]\n",
        "a.columns = ['종목코드', '종목명', '업종명', 'PBR', '업종PBR','종가','다음해종가']\n",
        "a['증가율'] = ((a['다음해종가']-a['종가'])/a['종가'])*100\n",
        "a = a.loc[~a['다음해종가'].isnull()]\n",
        "pbr_returns_corr_score = a.corr()['증가율'].to_frame()\n",
        "pbr_returns_corr.append(pbr_returns_corr_score.loc[(pbr_returns_corr_score.index=='PBR')]['증가율'].values)\n",
        "pbr_returns_corr_score"
      ]
    },
    {
      "cell_type": "code",
      "execution_count": null,
      "metadata": {
        "id": "OgrN1Vqb5x-x"
      },
      "outputs": [],
      "source": [
        ""
      ]
    },
    {
      "cell_type": "code",
      "execution_count": null,
      "metadata": {
        "id": "3TG1tkay5x-x"
      },
      "outputs": [],
      "source": [
        ""
      ]
    },
    {
      "cell_type": "code",
      "execution_count": null,
      "metadata": {
        "id": "RuLD2CBi5x-x"
      },
      "outputs": [],
      "source": [
        ""
      ]
    },
    {
      "cell_type": "markdown",
      "metadata": {
        "id": "bja-bQo45-e_"
      },
      "source": [
        "## 2019"
      ]
    },
    {
      "cell_type": "code",
      "execution_count": null,
      "metadata": {
        "id": "jano25gp5-e_"
      },
      "outputs": [],
      "source": [
        "join_t1 = pd.merge(pbr_2019,jongmok_upjong2019,how='left',on='종목코드')[['종목코드','종목명_x','업종명','PBR','종가']]\n",
        "join_t1.columns = ['종목코드','종목명','업종명','PBR','종가']\n",
        "join_t2 = pd.merge(join_t1,upjong2019,how='left',on='업종명')"
      ]
    },
    {
      "cell_type": "code",
      "execution_count": null,
      "metadata": {
        "id": "SpI8N0YQ5-e_"
      },
      "outputs": [],
      "source": [
        "join_t2['PBR'] = join_t2['PBR'].apply(lambda x : '0' if x=='-' else x)\n",
        "join_t2['PBR'] = join_t2['PBR'].astype(float)"
      ]
    },
    {
      "cell_type": "code",
      "execution_count": null,
      "metadata": {
        "colab": {
          "base_uri": "https://localhost:8080/"
        },
        "id": "5Iiql7zh5-e_",
        "outputId": "cb8fd677-bcc9-4fd2-a3c0-ca85e8471fc0"
      },
      "outputs": [
        {
          "name": "stdout",
          "output_type": "stream",
          "text": [
            "전처리 하기 전 코스피 종목 수 : 881\n"
          ]
        }
      ],
      "source": [
        "join_t2['업종PBR'] = join_t2['업종PBR'].apply(lambda x : '0' if x =='-' else x)\n",
        "join_t2['업종PBR'] = join_t2['업종PBR'].astype(float)\n",
        "print('전처리 하기 전 코스피 종목 수 : {}'.format(len(join_t2)))"
      ]
    },
    {
      "cell_type": "code",
      "execution_count": null,
      "metadata": {
        "colab": {
          "base_uri": "https://localhost:8080/"
        },
        "id": "-u_Hf-ov5-e_",
        "outputId": "541675a8-c24c-4d10-c95a-ecfc0f7f8aa6"
      },
      "outputs": [
        {
          "name": "stdout",
          "output_type": "stream",
          "text": [
            "전처리 한 후 코스피 종목 수 : 760\n"
          ]
        }
      ],
      "source": [
        "join_t2 = join_t2.loc[~((join_t2['업종PBR']==0) | (join_t2['PBR']==0))] # PBR이나 업종PBR이 0인 종목을 제외한 종목\n",
        "print('전처리 한 후 코스피 종목 수 : {}'.format(len(join_t2)))"
      ]
    },
    {
      "cell_type": "code",
      "execution_count": null,
      "metadata": {
        "colab": {
          "base_uri": "https://localhost:8080/"
        },
        "id": "ZO5D9bwU5-fA",
        "outputId": "9a59be0e-1589-46b6-865c-c762b105c4f9"
      },
      "outputs": [
        {
          "name": "stdout",
          "output_type": "stream",
          "text": [
            "0.18046812699975007\n"
          ]
        }
      ],
      "source": [
        "lower_upjong = join_t2.loc[join_t2['업종PBR'] >join_t2['PBR']] # 업종pbr보다 낮은 pbr주식\n",
        "comp1112 = pd.merge(lower_upjong, jongmok_upjong2020, how='left',on = '종목코드')[['종목코드', '종목명_x', '업종명_x', 'PBR', '종가_x', '업종PBR','종가_y']]\n",
        "comp1112.columns = ['종목코드', '종목명', '업종명', 'PBR', '종가', '업종PBR','다음년도종가']\n",
        "comp1112['증가율'] = ((comp1112['다음년도종가']-comp1112['종가'])/comp1112['종가'])*100\n",
        "lower_pbr_returns.append(comp1112['증가율'].sum()/len(comp1112))\n",
        "print(comp1112['증가율'].sum()/len(comp1112)) # 평균 기대수익률"
      ]
    },
    {
      "cell_type": "code",
      "execution_count": null,
      "metadata": {
        "colab": {
          "base_uri": "https://localhost:8080/"
        },
        "id": "CR8dhX4q5-fA",
        "outputId": "3f4497e2-5e16-4778-af9b-cea41985dc9b"
      },
      "outputs": [
        {
          "name": "stdout",
          "output_type": "stream",
          "text": [
            "-0.09790134898158172\n"
          ]
        }
      ],
      "source": [
        "over_upjong = join_t2.loc[join_t2['PBR'] >join_t2['업종PBR']] # 업종pbr보다 높은 pbr주식\n",
        "comp1112 = pd.merge(over_upjong, jongmok_upjong2020, how='left',on = '종목코드')[['종목코드', '종목명_x', '업종명_x', 'PBR', '종가_x', '업종PBR','종가_y']]\n",
        "comp1112.columns = ['종목코드', '종목명', '업종명', 'PBR', '종가', '업종PBR','다음년도종가']\n",
        "comp1112['증가율'] = ((comp1112['다음년도종가']-comp1112['종가'])/comp1112['종가'])*100\n",
        "upper_pbr_returns.append(comp1112['증가율'].sum()/len(comp1112))\n",
        "print(comp1112['증가율'].sum()/len(comp1112)) # 평균 기대수익률"
      ]
    },
    {
      "cell_type": "code",
      "execution_count": null,
      "metadata": {
        "colab": {
          "base_uri": "https://localhost:8080/"
        },
        "id": "NNn2Ehl05-fA",
        "outputId": "519cca54-fec1-4ffe-f7d2-4ba3b2ac376e"
      },
      "outputs": [
        {
          "name": "stdout",
          "output_type": "stream",
          "text": [
            "-4.133500949085938\n"
          ]
        }
      ],
      "source": [
        "under02_upjong = join_t2.loc[join_t2['PBR'] <0.2] # pbr이 0.2보다 낮은 주식\n",
        "comp1112 = pd.merge(under02_upjong, jongmok_upjong2020, how='left',on = '종목코드')[['종목코드', '종목명_x', '업종명_x', 'PBR', '종가_x', '업종PBR','종가_y']]\n",
        "comp1112.columns = ['종목코드', '종목명', '업종명', 'PBR', '종가', '업종PBR','다음년도종가']\n",
        "comp1112['증가율'] = ((comp1112['다음년도종가']-comp1112['종가'])/comp1112['종가'])*100\n",
        "under02_pbr_returns.append(comp1112['증가율'].sum()/len(comp1112))\n",
        "print(comp1112['증가율'].sum()/len(comp1112)) # 평균 기대수익률"
      ]
    },
    {
      "cell_type": "code",
      "execution_count": null,
      "metadata": {
        "colab": {
          "base_uri": "https://localhost:8080/"
        },
        "id": "-qug_Ozr5-fA",
        "outputId": "432b11cd-36e2-4f5f-de3a-d32ca04926a8"
      },
      "outputs": [
        {
          "name": "stdout",
          "output_type": "stream",
          "text": [
            "0.6845457484995365\n"
          ]
        }
      ],
      "source": [
        "under1_upjong = join_t2.loc[join_t2['PBR'] <1] # PBR이 1보다 낮은 주식\n",
        "comp1112 = pd.merge(under1_upjong, jongmok_upjong2020, how='left',on = '종목코드')[['종목코드', '종목명_x', '업종명_x', 'PBR', '종가_x', '업종PBR','종가_y']]\n",
        "comp1112.columns = ['종목코드', '종목명', '업종명', 'PBR', '종가', '업종PBR','다음년도종가']\n",
        "comp1112['증가율'] = ((comp1112['다음년도종가']-comp1112['종가'])/comp1112['종가'])*100\n",
        "under1_pbr_returns.append(comp1112['증가율'].sum()/len(comp1112))\n",
        "print(comp1112['증가율'].sum()/len(comp1112)) # 평균 기대수익률"
      ]
    },
    {
      "cell_type": "code",
      "execution_count": null,
      "metadata": {
        "colab": {
          "base_uri": "https://localhost:8080/"
        },
        "id": "dbE5jVES5-fA",
        "outputId": "5d5328d6-9389-4a72-a40e-61569ee3cd57"
      },
      "outputs": [
        {
          "name": "stdout",
          "output_type": "stream",
          "text": [
            "-1.826766145358229\n"
          ]
        }
      ],
      "source": [
        "upper1_pbr = join_t2.loc[join_t2['PBR']>1] # pbr이 1보다 높은\n",
        "comp1112 = pd.merge(upper1_pbr, jongmok_upjong2020, how='left',on = '종목코드')[['종목코드', '종목명_x', '업종명_x', 'PBR', '종가_x', '업종PBR','종가_y']]\n",
        "comp1112.columns = ['종목코드', '종목명', '업종명', 'PBR', '종가', '업종PBR','다음년도종가']\n",
        "comp1112['증가율'] = ((comp1112['다음년도종가']-comp1112['종가'])/comp1112['종가'])*100\n",
        "upper1_pbr_returns.append(comp1112['증가율'].sum()/len(comp1112))\n",
        "print(comp1112['증가율'].sum()/len(comp1112)) # 평균 기대수익률"
      ]
    },
    {
      "cell_type": "code",
      "execution_count": null,
      "metadata": {
        "colab": {
          "base_uri": "https://localhost:8080/"
        },
        "id": "O0oUl80l5-fA",
        "outputId": "9fd7dcfe-dfe6-474b-e32d-69aefda0acfc"
      },
      "outputs": [
        {
          "name": "stdout",
          "output_type": "stream",
          "text": [
            "-16.891473017344286\n"
          ]
        }
      ],
      "source": [
        "upper5_pbr = join_t2.loc[join_t2['PBR'] > 5] #  pbr이 5보다 높은\n",
        "comp1112 = pd.merge(upper5_pbr, jongmok_upjong2020, how='left',on = '종목코드')[['종목코드', '종목명_x', '업종명_x', 'PBR', '종가_x', '업종PBR','종가_y']]\n",
        "comp1112.columns = ['종목코드', '종목명', '업종명', 'PBR', '종가', '업종PBR','다음년도종가']\n",
        "comp1112['증가율'] = ((comp1112['다음년도종가']-comp1112['종가'])/comp1112['종가'])*100\n",
        "upper5_pbr_returns.append(comp1112['증가율'].sum()/len(comp1112))\n",
        "print(comp1112['증가율'].sum()/len(comp1112)) # 평균 기대수익률"
      ]
    },
    {
      "cell_type": "code",
      "execution_count": null,
      "metadata": {
        "colab": {
          "base_uri": "https://localhost:8080/",
          "height": 206
        },
        "id": "Xk7dj4kl5-fA",
        "outputId": "bcf5b84a-e86d-4c08-cab4-aa1c4e592dcb"
      },
      "outputs": [
        {
          "data": {
            "text/html": [
              "\n",
              "  <div id=\"df-018bcd1f-23fb-48e8-9892-b5c42d8e236d\">\n",
              "    <div class=\"colab-df-container\">\n",
              "      <div>\n",
              "<style scoped>\n",
              "    .dataframe tbody tr th:only-of-type {\n",
              "        vertical-align: middle;\n",
              "    }\n",
              "\n",
              "    .dataframe tbody tr th {\n",
              "        vertical-align: top;\n",
              "    }\n",
              "\n",
              "    .dataframe thead th {\n",
              "        text-align: right;\n",
              "    }\n",
              "</style>\n",
              "<table border=\"1\" class=\"dataframe\">\n",
              "  <thead>\n",
              "    <tr style=\"text-align: right;\">\n",
              "      <th></th>\n",
              "      <th>증가율</th>\n",
              "    </tr>\n",
              "  </thead>\n",
              "  <tbody>\n",
              "    <tr>\n",
              "      <th>PBR</th>\n",
              "      <td>-0.078687</td>\n",
              "    </tr>\n",
              "    <tr>\n",
              "      <th>업종PBR</th>\n",
              "      <td>-0.026970</td>\n",
              "    </tr>\n",
              "    <tr>\n",
              "      <th>종가</th>\n",
              "      <td>-0.115229</td>\n",
              "    </tr>\n",
              "    <tr>\n",
              "      <th>다음해종가</th>\n",
              "      <td>-0.008536</td>\n",
              "    </tr>\n",
              "    <tr>\n",
              "      <th>증가율</th>\n",
              "      <td>1.000000</td>\n",
              "    </tr>\n",
              "  </tbody>\n",
              "</table>\n",
              "</div>\n",
              "      <button class=\"colab-df-convert\" onclick=\"convertToInteractive('df-018bcd1f-23fb-48e8-9892-b5c42d8e236d')\"\n",
              "              title=\"Convert this dataframe to an interactive table.\"\n",
              "              style=\"display:none;\">\n",
              "        \n",
              "  <svg xmlns=\"http://www.w3.org/2000/svg\" height=\"24px\"viewBox=\"0 0 24 24\"\n",
              "       width=\"24px\">\n",
              "    <path d=\"M0 0h24v24H0V0z\" fill=\"none\"/>\n",
              "    <path d=\"M18.56 5.44l.94 2.06.94-2.06 2.06-.94-2.06-.94-.94-2.06-.94 2.06-2.06.94zm-11 1L8.5 8.5l.94-2.06 2.06-.94-2.06-.94L8.5 2.5l-.94 2.06-2.06.94zm10 10l.94 2.06.94-2.06 2.06-.94-2.06-.94-.94-2.06-.94 2.06-2.06.94z\"/><path d=\"M17.41 7.96l-1.37-1.37c-.4-.4-.92-.59-1.43-.59-.52 0-1.04.2-1.43.59L10.3 9.45l-7.72 7.72c-.78.78-.78 2.05 0 2.83L4 21.41c.39.39.9.59 1.41.59.51 0 1.02-.2 1.41-.59l7.78-7.78 2.81-2.81c.8-.78.8-2.07 0-2.86zM5.41 20L4 18.59l7.72-7.72 1.47 1.35L5.41 20z\"/>\n",
              "  </svg>\n",
              "      </button>\n",
              "      \n",
              "  <style>\n",
              "    .colab-df-container {\n",
              "      display:flex;\n",
              "      flex-wrap:wrap;\n",
              "      gap: 12px;\n",
              "    }\n",
              "\n",
              "    .colab-df-convert {\n",
              "      background-color: #E8F0FE;\n",
              "      border: none;\n",
              "      border-radius: 50%;\n",
              "      cursor: pointer;\n",
              "      display: none;\n",
              "      fill: #1967D2;\n",
              "      height: 32px;\n",
              "      padding: 0 0 0 0;\n",
              "      width: 32px;\n",
              "    }\n",
              "\n",
              "    .colab-df-convert:hover {\n",
              "      background-color: #E2EBFA;\n",
              "      box-shadow: 0px 1px 2px rgba(60, 64, 67, 0.3), 0px 1px 3px 1px rgba(60, 64, 67, 0.15);\n",
              "      fill: #174EA6;\n",
              "    }\n",
              "\n",
              "    [theme=dark] .colab-df-convert {\n",
              "      background-color: #3B4455;\n",
              "      fill: #D2E3FC;\n",
              "    }\n",
              "\n",
              "    [theme=dark] .colab-df-convert:hover {\n",
              "      background-color: #434B5C;\n",
              "      box-shadow: 0px 1px 3px 1px rgba(0, 0, 0, 0.15);\n",
              "      filter: drop-shadow(0px 1px 2px rgba(0, 0, 0, 0.3));\n",
              "      fill: #FFFFFF;\n",
              "    }\n",
              "  </style>\n",
              "\n",
              "      <script>\n",
              "        const buttonEl =\n",
              "          document.querySelector('#df-018bcd1f-23fb-48e8-9892-b5c42d8e236d button.colab-df-convert');\n",
              "        buttonEl.style.display =\n",
              "          google.colab.kernel.accessAllowed ? 'block' : 'none';\n",
              "\n",
              "        async function convertToInteractive(key) {\n",
              "          const element = document.querySelector('#df-018bcd1f-23fb-48e8-9892-b5c42d8e236d');\n",
              "          const dataTable =\n",
              "            await google.colab.kernel.invokeFunction('convertToInteractive',\n",
              "                                                     [key], {});\n",
              "          if (!dataTable) return;\n",
              "\n",
              "          const docLinkHtml = 'Like what you see? Visit the ' +\n",
              "            '<a target=\"_blank\" href=https://colab.research.google.com/notebooks/data_table.ipynb>data table notebook</a>'\n",
              "            + ' to learn more about interactive tables.';\n",
              "          element.innerHTML = '';\n",
              "          dataTable['output_type'] = 'display_data';\n",
              "          await google.colab.output.renderOutput(dataTable, element);\n",
              "          const docLink = document.createElement('div');\n",
              "          docLink.innerHTML = docLinkHtml;\n",
              "          element.appendChild(docLink);\n",
              "        }\n",
              "      </script>\n",
              "    </div>\n",
              "  </div>\n",
              "  "
            ],
            "text/plain": [
              "            증가율\n",
              "PBR   -0.078687\n",
              "업종PBR -0.026970\n",
              "종가    -0.115229\n",
              "다음해종가 -0.008536\n",
              "증가율    1.000000"
            ]
          },
          "execution_count": 665,
          "metadata": {},
          "output_type": "execute_result"
        }
      ],
      "source": [
        "a = pd.merge(join_t2.sort_values('PBR'), jongmok_upjong2020, how='left', on = '종목코드')[['종목코드', '종목명_x', '업종명_x', 'PBR', '업종PBR','종가_x','종가_y']]\n",
        "a.columns = ['종목코드', '종목명', '업종명', 'PBR', '업종PBR','종가','다음해종가']\n",
        "a['증가율'] = ((a['다음해종가']-a['종가'])/a['종가'])*100\n",
        "a = a.loc[~a['다음해종가'].isnull()]\n",
        "pbr_returns_corr_score = a.corr()['증가율'].to_frame()\n",
        "pbr_returns_corr.append(pbr_returns_corr_score.loc[(pbr_returns_corr_score.index=='PBR')]['증가율'].values)\n",
        "pbr_returns_corr_score"
      ]
    },
    {
      "cell_type": "code",
      "execution_count": null,
      "metadata": {
        "colab": {
          "base_uri": "https://localhost:8080/",
          "height": 424
        },
        "id": "gEFSxWtJ5-fA",
        "outputId": "6923e9ff-2910-4fdc-f604-a616a07ee99e"
      },
      "outputs": [
        {
          "data": {
            "text/html": [
              "\n",
              "  <div id=\"df-700efe68-6690-4e5d-97c7-af8eb14e9ee1\">\n",
              "    <div class=\"colab-df-container\">\n",
              "      <div>\n",
              "<style scoped>\n",
              "    .dataframe tbody tr th:only-of-type {\n",
              "        vertical-align: middle;\n",
              "    }\n",
              "\n",
              "    .dataframe tbody tr th {\n",
              "        vertical-align: top;\n",
              "    }\n",
              "\n",
              "    .dataframe thead th {\n",
              "        text-align: right;\n",
              "    }\n",
              "</style>\n",
              "<table border=\"1\" class=\"dataframe\">\n",
              "  <thead>\n",
              "    <tr style=\"text-align: right;\">\n",
              "      <th></th>\n",
              "      <th>종목코드</th>\n",
              "      <th>종목명</th>\n",
              "      <th>업종명</th>\n",
              "      <th>PBR</th>\n",
              "      <th>업종PBR</th>\n",
              "      <th>종가</th>\n",
              "      <th>다음해종가</th>\n",
              "      <th>증가율</th>\n",
              "    </tr>\n",
              "  </thead>\n",
              "  <tbody>\n",
              "    <tr>\n",
              "      <th>0</th>\n",
              "      <td>071970</td>\n",
              "      <td>STX중공업</td>\n",
              "      <td>기계</td>\n",
              "      <td>0.12</td>\n",
              "      <td>1.17</td>\n",
              "      <td>5600.0</td>\n",
              "      <td>3185.0</td>\n",
              "      <td>-43.125000</td>\n",
              "    </tr>\n",
              "    <tr>\n",
              "      <th>1</th>\n",
              "      <td>011160</td>\n",
              "      <td>두산건설</td>\n",
              "      <td>건설업</td>\n",
              "      <td>0.15</td>\n",
              "      <td>0.84</td>\n",
              "      <td>1470.0</td>\n",
              "      <td>1410.0</td>\n",
              "      <td>-4.081633</td>\n",
              "    </tr>\n",
              "    <tr>\n",
              "      <th>2</th>\n",
              "      <td>021820</td>\n",
              "      <td>세원정공</td>\n",
              "      <td>운수장비</td>\n",
              "      <td>0.16</td>\n",
              "      <td>0.53</td>\n",
              "      <td>6760.0</td>\n",
              "      <td>8090.0</td>\n",
              "      <td>19.674556</td>\n",
              "    </tr>\n",
              "    <tr>\n",
              "      <th>3</th>\n",
              "      <td>007860</td>\n",
              "      <td>서연</td>\n",
              "      <td>기타금융</td>\n",
              "      <td>0.17</td>\n",
              "      <td>NaN</td>\n",
              "      <td>3660.0</td>\n",
              "      <td>3250.0</td>\n",
              "      <td>-11.202186</td>\n",
              "    </tr>\n",
              "    <tr>\n",
              "      <th>4</th>\n",
              "      <td>002300</td>\n",
              "      <td>한국제지</td>\n",
              "      <td>종이목재</td>\n",
              "      <td>0.17</td>\n",
              "      <td>0.61</td>\n",
              "      <td>16500.0</td>\n",
              "      <td>17250.0</td>\n",
              "      <td>4.545455</td>\n",
              "    </tr>\n",
              "    <tr>\n",
              "      <th>...</th>\n",
              "      <td>...</td>\n",
              "      <td>...</td>\n",
              "      <td>...</td>\n",
              "      <td>...</td>\n",
              "      <td>...</td>\n",
              "      <td>...</td>\n",
              "      <td>...</td>\n",
              "      <td>...</td>\n",
              "    </tr>\n",
              "    <tr>\n",
              "      <th>755</th>\n",
              "      <td>101140</td>\n",
              "      <td>아티스</td>\n",
              "      <td>유통업</td>\n",
              "      <td>10.69</td>\n",
              "      <td>0.84</td>\n",
              "      <td>5120.0</td>\n",
              "      <td>3085.0</td>\n",
              "      <td>-39.746094</td>\n",
              "    </tr>\n",
              "    <tr>\n",
              "      <th>756</th>\n",
              "      <td>068270</td>\n",
              "      <td>셀트리온</td>\n",
              "      <td>의약품</td>\n",
              "      <td>11.27</td>\n",
              "      <td>4.62</td>\n",
              "      <td>214500.0</td>\n",
              "      <td>180000.0</td>\n",
              "      <td>-16.083916</td>\n",
              "    </tr>\n",
              "    <tr>\n",
              "      <th>757</th>\n",
              "      <td>006490</td>\n",
              "      <td>인스코비</td>\n",
              "      <td>통신업</td>\n",
              "      <td>12.52</td>\n",
              "      <td>0.92</td>\n",
              "      <td>5160.0</td>\n",
              "      <td>3195.0</td>\n",
              "      <td>-38.081395</td>\n",
              "    </tr>\n",
              "    <tr>\n",
              "      <th>758</th>\n",
              "      <td>005690</td>\n",
              "      <td>파미셀</td>\n",
              "      <td>의약품</td>\n",
              "      <td>13.35</td>\n",
              "      <td>4.62</td>\n",
              "      <td>12800.0</td>\n",
              "      <td>8660.0</td>\n",
              "      <td>-32.343750</td>\n",
              "    </tr>\n",
              "    <tr>\n",
              "      <th>759</th>\n",
              "      <td>009420</td>\n",
              "      <td>한올바이오파마</td>\n",
              "      <td>의약품</td>\n",
              "      <td>16.42</td>\n",
              "      <td>4.62</td>\n",
              "      <td>34950.0</td>\n",
              "      <td>36450.0</td>\n",
              "      <td>4.291845</td>\n",
              "    </tr>\n",
              "  </tbody>\n",
              "</table>\n",
              "<p>757 rows × 8 columns</p>\n",
              "</div>\n",
              "      <button class=\"colab-df-convert\" onclick=\"convertToInteractive('df-700efe68-6690-4e5d-97c7-af8eb14e9ee1')\"\n",
              "              title=\"Convert this dataframe to an interactive table.\"\n",
              "              style=\"display:none;\">\n",
              "        \n",
              "  <svg xmlns=\"http://www.w3.org/2000/svg\" height=\"24px\"viewBox=\"0 0 24 24\"\n",
              "       width=\"24px\">\n",
              "    <path d=\"M0 0h24v24H0V0z\" fill=\"none\"/>\n",
              "    <path d=\"M18.56 5.44l.94 2.06.94-2.06 2.06-.94-2.06-.94-.94-2.06-.94 2.06-2.06.94zm-11 1L8.5 8.5l.94-2.06 2.06-.94-2.06-.94L8.5 2.5l-.94 2.06-2.06.94zm10 10l.94 2.06.94-2.06 2.06-.94-2.06-.94-.94-2.06-.94 2.06-2.06.94z\"/><path d=\"M17.41 7.96l-1.37-1.37c-.4-.4-.92-.59-1.43-.59-.52 0-1.04.2-1.43.59L10.3 9.45l-7.72 7.72c-.78.78-.78 2.05 0 2.83L4 21.41c.39.39.9.59 1.41.59.51 0 1.02-.2 1.41-.59l7.78-7.78 2.81-2.81c.8-.78.8-2.07 0-2.86zM5.41 20L4 18.59l7.72-7.72 1.47 1.35L5.41 20z\"/>\n",
              "  </svg>\n",
              "      </button>\n",
              "      \n",
              "  <style>\n",
              "    .colab-df-container {\n",
              "      display:flex;\n",
              "      flex-wrap:wrap;\n",
              "      gap: 12px;\n",
              "    }\n",
              "\n",
              "    .colab-df-convert {\n",
              "      background-color: #E8F0FE;\n",
              "      border: none;\n",
              "      border-radius: 50%;\n",
              "      cursor: pointer;\n",
              "      display: none;\n",
              "      fill: #1967D2;\n",
              "      height: 32px;\n",
              "      padding: 0 0 0 0;\n",
              "      width: 32px;\n",
              "    }\n",
              "\n",
              "    .colab-df-convert:hover {\n",
              "      background-color: #E2EBFA;\n",
              "      box-shadow: 0px 1px 2px rgba(60, 64, 67, 0.3), 0px 1px 3px 1px rgba(60, 64, 67, 0.15);\n",
              "      fill: #174EA6;\n",
              "    }\n",
              "\n",
              "    [theme=dark] .colab-df-convert {\n",
              "      background-color: #3B4455;\n",
              "      fill: #D2E3FC;\n",
              "    }\n",
              "\n",
              "    [theme=dark] .colab-df-convert:hover {\n",
              "      background-color: #434B5C;\n",
              "      box-shadow: 0px 1px 3px 1px rgba(0, 0, 0, 0.15);\n",
              "      filter: drop-shadow(0px 1px 2px rgba(0, 0, 0, 0.3));\n",
              "      fill: #FFFFFF;\n",
              "    }\n",
              "  </style>\n",
              "\n",
              "      <script>\n",
              "        const buttonEl =\n",
              "          document.querySelector('#df-700efe68-6690-4e5d-97c7-af8eb14e9ee1 button.colab-df-convert');\n",
              "        buttonEl.style.display =\n",
              "          google.colab.kernel.accessAllowed ? 'block' : 'none';\n",
              "\n",
              "        async function convertToInteractive(key) {\n",
              "          const element = document.querySelector('#df-700efe68-6690-4e5d-97c7-af8eb14e9ee1');\n",
              "          const dataTable =\n",
              "            await google.colab.kernel.invokeFunction('convertToInteractive',\n",
              "                                                     [key], {});\n",
              "          if (!dataTable) return;\n",
              "\n",
              "          const docLinkHtml = 'Like what you see? Visit the ' +\n",
              "            '<a target=\"_blank\" href=https://colab.research.google.com/notebooks/data_table.ipynb>data table notebook</a>'\n",
              "            + ' to learn more about interactive tables.';\n",
              "          element.innerHTML = '';\n",
              "          dataTable['output_type'] = 'display_data';\n",
              "          await google.colab.output.renderOutput(dataTable, element);\n",
              "          const docLink = document.createElement('div');\n",
              "          docLink.innerHTML = docLinkHtml;\n",
              "          element.appendChild(docLink);\n",
              "        }\n",
              "      </script>\n",
              "    </div>\n",
              "  </div>\n",
              "  "
            ],
            "text/plain": [
              "       종목코드       종목명   업종명    PBR  업종PBR        종가     다음해종가        증가율\n",
              "0    071970   STX중공업     기계   0.12   1.17    5600.0    3185.0 -43.125000\n",
              "1    011160     두산건설    건설업   0.15   0.84    1470.0    1410.0  -4.081633\n",
              "2    021820     세원정공   운수장비   0.16   0.53    6760.0    8090.0  19.674556\n",
              "3    007860       서연   기타금융   0.17    NaN    3660.0    3250.0 -11.202186\n",
              "4    002300     한국제지   종이목재   0.17   0.61   16500.0   17250.0   4.545455\n",
              "..      ...       ...   ...    ...    ...       ...       ...        ...\n",
              "755  101140      아티스    유통업  10.69   0.84    5120.0    3085.0 -39.746094\n",
              "756  068270     셀트리온    의약품  11.27   4.62  214500.0  180000.0 -16.083916\n",
              "757  006490     인스코비    통신업  12.52   0.92    5160.0    3195.0 -38.081395\n",
              "758  005690      파미셀    의약품  13.35   4.62   12800.0    8660.0 -32.343750\n",
              "759  009420  한올바이오파마    의약품  16.42   4.62   34950.0   36450.0   4.291845\n",
              "\n",
              "[757 rows x 8 columns]"
            ]
          },
          "execution_count": 666,
          "metadata": {},
          "output_type": "execute_result"
        }
      ],
      "source": [
        "a"
      ]
    },
    {
      "cell_type": "code",
      "execution_count": null,
      "metadata": {
        "id": "XtiRuHeF5-fA"
      },
      "outputs": [],
      "source": [
        ""
      ]
    },
    {
      "cell_type": "code",
      "execution_count": null,
      "metadata": {
        "id": "f0BdBHAv5-fA"
      },
      "outputs": [],
      "source": [
        ""
      ]
    },
    {
      "cell_type": "markdown",
      "metadata": {
        "id": "Hv4N7KBx6TnU"
      },
      "source": [
        "## 2020"
      ]
    },
    {
      "cell_type": "code",
      "execution_count": null,
      "metadata": {
        "id": "NO6b0hql6TnV"
      },
      "outputs": [],
      "source": [
        "join_t1 = pd.merge(pbr_2020,jongmok_upjong2020,how='left',on='종목코드')[['종목코드','종목명_x','업종명','PBR','종가']]\n",
        "join_t1.columns = ['종목코드','종목명','업종명','PBR','종가']\n",
        "join_t2 = pd.merge(join_t1,upjong2020,how='left',on='업종명')"
      ]
    },
    {
      "cell_type": "code",
      "execution_count": null,
      "metadata": {
        "id": "raMCpnBZ6TnV"
      },
      "outputs": [],
      "source": [
        "join_t2['PBR'] = join_t2['PBR'].apply(lambda x : '0' if x=='-' else x)\n",
        "join_t2['PBR'] = join_t2['PBR'].astype(float)"
      ]
    },
    {
      "cell_type": "code",
      "execution_count": null,
      "metadata": {
        "colab": {
          "base_uri": "https://localhost:8080/"
        },
        "id": "HFlf9nQC6TnV",
        "outputId": "741d4a11-1c44-4218-a981-32de8dc9ce1e"
      },
      "outputs": [
        {
          "name": "stdout",
          "output_type": "stream",
          "text": [
            "전처리 하기 전 코스피 종목 수 : 895\n"
          ]
        }
      ],
      "source": [
        "join_t2['업종PBR'] = join_t2['업종PBR'].apply(lambda x : '0' if x =='-' else x)\n",
        "join_t2['업종PBR'] = join_t2['업종PBR'].astype(float)\n",
        "print('전처리 하기 전 코스피 종목 수 : {}'.format(len(join_t2)))"
      ]
    },
    {
      "cell_type": "code",
      "execution_count": null,
      "metadata": {
        "colab": {
          "base_uri": "https://localhost:8080/"
        },
        "id": "UgTPrtlk6TnV",
        "outputId": "20531a5e-9221-43f7-c7c4-aef9a29e78b4"
      },
      "outputs": [
        {
          "name": "stdout",
          "output_type": "stream",
          "text": [
            "전처리 한 후 코스피 종목 수 : 774\n"
          ]
        }
      ],
      "source": [
        "join_t2 = join_t2.loc[~((join_t2['업종PBR']==0) | (join_t2['PBR']==0))] # PBR이나 업종PBR이 0인 종목을 제외한 종목\n",
        "print('전처리 한 후 코스피 종목 수 : {}'.format(len(join_t2)))"
      ]
    },
    {
      "cell_type": "code",
      "execution_count": null,
      "metadata": {
        "colab": {
          "base_uri": "https://localhost:8080/"
        },
        "id": "GUgKUcrW6TnW",
        "outputId": "d870261f-99ba-4a0e-ccef-d121d0abc8b5"
      },
      "outputs": [
        {
          "name": "stdout",
          "output_type": "stream",
          "text": [
            "41.2430974991066\n"
          ]
        }
      ],
      "source": [
        "lower_upjong = join_t2.loc[join_t2['업종PBR'] >join_t2['PBR']] # 업종pbr보다 낮은 pbr주식\n",
        "comp1112 = pd.merge(lower_upjong, jongmok_upjong2021, how='left',on = '종목코드')[['종목코드', '종목명_x', '업종명_x', 'PBR', '종가_x', '업종PBR','종가_y']]\n",
        "comp1112.columns = ['종목코드', '종목명', '업종명', 'PBR', '종가', '업종PBR','다음년도종가']\n",
        "comp1112['증가율'] = ((comp1112['다음년도종가']-comp1112['종가'])/comp1112['종가'])*100\n",
        "lower_pbr_returns.append(comp1112['증가율'].sum()/len(comp1112))\n",
        "print(comp1112['증가율'].sum()/len(comp1112)) # 평균 기대수익률"
      ]
    },
    {
      "cell_type": "code",
      "execution_count": null,
      "metadata": {
        "colab": {
          "base_uri": "https://localhost:8080/"
        },
        "id": "ITDvgizx6TnW",
        "outputId": "101b6402-d02e-4568-d3f6-06c065a4081b"
      },
      "outputs": [
        {
          "name": "stdout",
          "output_type": "stream",
          "text": [
            "32.593797181679086\n"
          ]
        }
      ],
      "source": [
        "over_upjong = join_t2.loc[join_t2['PBR'] >join_t2['업종PBR']] # 업종pbr보다 높은 pbr주식\n",
        "comp1112 = pd.merge(over_upjong, jongmok_upjong2021, how='left',on = '종목코드')[['종목코드', '종목명_x', '업종명_x', 'PBR', '종가_x', '업종PBR','종가_y']]\n",
        "comp1112.columns = ['종목코드', '종목명', '업종명', 'PBR', '종가', '업종PBR','다음년도종가']\n",
        "comp1112['증가율'] = ((comp1112['다음년도종가']-comp1112['종가'])/comp1112['종가'])*100\n",
        "upper_pbr_returns.append(comp1112['증가율'].sum()/len(comp1112))\n",
        "print(comp1112['증가율'].sum()/len(comp1112)) # 평균 기대수익률"
      ]
    },
    {
      "cell_type": "code",
      "execution_count": null,
      "metadata": {
        "colab": {
          "base_uri": "https://localhost:8080/"
        },
        "id": "dVW887Km6TnW",
        "outputId": "06501474-d3c0-4b13-c37a-0fd7a323df13"
      },
      "outputs": [
        {
          "name": "stdout",
          "output_type": "stream",
          "text": [
            "35.98263084830306\n"
          ]
        }
      ],
      "source": [
        "under02_upjong = join_t2.loc[join_t2['PBR'] <0.2] # pbr이 0.2보다 낮은 주식\n",
        "comp1112 = pd.merge(under02_upjong, jongmok_upjong2021, how='left',on = '종목코드')[['종목코드', '종목명_x', '업종명_x', 'PBR', '종가_x', '업종PBR','종가_y']]\n",
        "comp1112.columns = ['종목코드', '종목명', '업종명', 'PBR', '종가', '업종PBR','다음년도종가']\n",
        "comp1112['증가율'] = ((comp1112['다음년도종가']-comp1112['종가'])/comp1112['종가'])*100\n",
        "under02_pbr_returns.append(comp1112['증가율'].sum()/len(comp1112))\n",
        "print(comp1112['증가율'].sum()/len(comp1112)) # 평균 기대수익률"
      ]
    },
    {
      "cell_type": "code",
      "execution_count": null,
      "metadata": {
        "colab": {
          "base_uri": "https://localhost:8080/"
        },
        "id": "rm5v6YzL6TnW",
        "outputId": "287b5394-68f0-4e93-a5c5-2caefbed6a1f"
      },
      "outputs": [
        {
          "name": "stdout",
          "output_type": "stream",
          "text": [
            "28.114047479324338\n"
          ]
        }
      ],
      "source": [
        "under1_upjong = join_t2.loc[join_t2['PBR'] <1] # PBR이 1보다 낮은 주식\n",
        "comp1112 = pd.merge(under1_upjong, jongmok_upjong2021, how='left',on = '종목코드')[['종목코드', '종목명_x', '업종명_x', 'PBR', '종가_x', '업종PBR','종가_y']]\n",
        "comp1112.columns = ['종목코드', '종목명', '업종명', 'PBR', '종가', '업종PBR','다음년도종가']\n",
        "comp1112['증가율'] = ((comp1112['다음년도종가']-comp1112['종가'])/comp1112['종가'])*100\n",
        "under1_pbr_returns.append(comp1112['증가율'].sum()/len(comp1112))\n",
        "print(comp1112['증가율'].sum()/len(comp1112)) # 평균 기대수익률"
      ]
    },
    {
      "cell_type": "code",
      "execution_count": null,
      "metadata": {
        "colab": {
          "base_uri": "https://localhost:8080/"
        },
        "id": "NB0RKe4y6TnX",
        "outputId": "44e8e657-c83e-4af8-ada5-fa62f10e3d28"
      },
      "outputs": [
        {
          "name": "stdout",
          "output_type": "stream",
          "text": [
            "46.796782361167054\n"
          ]
        }
      ],
      "source": [
        "upper1_pbr = join_t2.loc[join_t2['PBR']>1] # pbr이 1보다 높은\n",
        "comp1112 = pd.merge(upper1_pbr, jongmok_upjong2021, how='left',on = '종목코드')[['종목코드', '종목명_x', '업종명_x', 'PBR', '종가_x', '업종PBR','종가_y']]\n",
        "comp1112.columns = ['종목코드', '종목명', '업종명', 'PBR', '종가', '업종PBR','다음년도종가']\n",
        "comp1112['증가율'] = ((comp1112['다음년도종가']-comp1112['종가'])/comp1112['종가'])*100\n",
        "upper1_pbr_returns.append(comp1112['증가율'].sum()/len(comp1112))\n",
        "print(comp1112['증가율'].sum()/len(comp1112)) # 평균 기대수익률"
      ]
    },
    {
      "cell_type": "code",
      "execution_count": null,
      "metadata": {
        "colab": {
          "base_uri": "https://localhost:8080/"
        },
        "id": "FSxbxxg56TnX",
        "outputId": "ca273f8b-5a40-403a-f838-85a2b0f0ac17"
      },
      "outputs": [
        {
          "name": "stdout",
          "output_type": "stream",
          "text": [
            "20.988443333924785\n"
          ]
        }
      ],
      "source": [
        "upper5_pbr = join_t2.loc[join_t2['PBR'] > 5] #  pbr이 5보다 높은\n",
        "comp1112 = pd.merge(upper5_pbr, jongmok_upjong2021, how='left',on = '종목코드')[['종목코드', '종목명_x', '업종명_x', 'PBR', '종가_x', '업종PBR','종가_y']]\n",
        "comp1112.columns = ['종목코드', '종목명', '업종명', 'PBR', '종가', '업종PBR','다음년도종가']\n",
        "comp1112['증가율'] = ((comp1112['다음년도종가']-comp1112['종가'])/comp1112['종가'])*100\n",
        "upper5_pbr_returns.append(comp1112['증가율'].sum()/len(comp1112))\n",
        "print(comp1112['증가율'].sum()/len(comp1112)) # 평균 기대수익률"
      ]
    },
    {
      "cell_type": "code",
      "execution_count": null,
      "metadata": {
        "colab": {
          "base_uri": "https://localhost:8080/",
          "height": 206
        },
        "id": "LROjULwI6TnX",
        "outputId": "a7996acd-0bf3-4f16-ec93-b8dc9cf05c06"
      },
      "outputs": [
        {
          "data": {
            "text/html": [
              "\n",
              "  <div id=\"df-68ac8407-cfe6-4d3b-83a4-5a22c9563c60\">\n",
              "    <div class=\"colab-df-container\">\n",
              "      <div>\n",
              "<style scoped>\n",
              "    .dataframe tbody tr th:only-of-type {\n",
              "        vertical-align: middle;\n",
              "    }\n",
              "\n",
              "    .dataframe tbody tr th {\n",
              "        vertical-align: top;\n",
              "    }\n",
              "\n",
              "    .dataframe thead th {\n",
              "        text-align: right;\n",
              "    }\n",
              "</style>\n",
              "<table border=\"1\" class=\"dataframe\">\n",
              "  <thead>\n",
              "    <tr style=\"text-align: right;\">\n",
              "      <th></th>\n",
              "      <th>증가율</th>\n",
              "    </tr>\n",
              "  </thead>\n",
              "  <tbody>\n",
              "    <tr>\n",
              "      <th>PBR</th>\n",
              "      <td>0.002273</td>\n",
              "    </tr>\n",
              "    <tr>\n",
              "      <th>업종PBR</th>\n",
              "      <td>0.152952</td>\n",
              "    </tr>\n",
              "    <tr>\n",
              "      <th>종가</th>\n",
              "      <td>-0.040680</td>\n",
              "    </tr>\n",
              "    <tr>\n",
              "      <th>다음해종가</th>\n",
              "      <td>0.048182</td>\n",
              "    </tr>\n",
              "    <tr>\n",
              "      <th>증가율</th>\n",
              "      <td>1.000000</td>\n",
              "    </tr>\n",
              "  </tbody>\n",
              "</table>\n",
              "</div>\n",
              "      <button class=\"colab-df-convert\" onclick=\"convertToInteractive('df-68ac8407-cfe6-4d3b-83a4-5a22c9563c60')\"\n",
              "              title=\"Convert this dataframe to an interactive table.\"\n",
              "              style=\"display:none;\">\n",
              "        \n",
              "  <svg xmlns=\"http://www.w3.org/2000/svg\" height=\"24px\"viewBox=\"0 0 24 24\"\n",
              "       width=\"24px\">\n",
              "    <path d=\"M0 0h24v24H0V0z\" fill=\"none\"/>\n",
              "    <path d=\"M18.56 5.44l.94 2.06.94-2.06 2.06-.94-2.06-.94-.94-2.06-.94 2.06-2.06.94zm-11 1L8.5 8.5l.94-2.06 2.06-.94-2.06-.94L8.5 2.5l-.94 2.06-2.06.94zm10 10l.94 2.06.94-2.06 2.06-.94-2.06-.94-.94-2.06-.94 2.06-2.06.94z\"/><path d=\"M17.41 7.96l-1.37-1.37c-.4-.4-.92-.59-1.43-.59-.52 0-1.04.2-1.43.59L10.3 9.45l-7.72 7.72c-.78.78-.78 2.05 0 2.83L4 21.41c.39.39.9.59 1.41.59.51 0 1.02-.2 1.41-.59l7.78-7.78 2.81-2.81c.8-.78.8-2.07 0-2.86zM5.41 20L4 18.59l7.72-7.72 1.47 1.35L5.41 20z\"/>\n",
              "  </svg>\n",
              "      </button>\n",
              "      \n",
              "  <style>\n",
              "    .colab-df-container {\n",
              "      display:flex;\n",
              "      flex-wrap:wrap;\n",
              "      gap: 12px;\n",
              "    }\n",
              "\n",
              "    .colab-df-convert {\n",
              "      background-color: #E8F0FE;\n",
              "      border: none;\n",
              "      border-radius: 50%;\n",
              "      cursor: pointer;\n",
              "      display: none;\n",
              "      fill: #1967D2;\n",
              "      height: 32px;\n",
              "      padding: 0 0 0 0;\n",
              "      width: 32px;\n",
              "    }\n",
              "\n",
              "    .colab-df-convert:hover {\n",
              "      background-color: #E2EBFA;\n",
              "      box-shadow: 0px 1px 2px rgba(60, 64, 67, 0.3), 0px 1px 3px 1px rgba(60, 64, 67, 0.15);\n",
              "      fill: #174EA6;\n",
              "    }\n",
              "\n",
              "    [theme=dark] .colab-df-convert {\n",
              "      background-color: #3B4455;\n",
              "      fill: #D2E3FC;\n",
              "    }\n",
              "\n",
              "    [theme=dark] .colab-df-convert:hover {\n",
              "      background-color: #434B5C;\n",
              "      box-shadow: 0px 1px 3px 1px rgba(0, 0, 0, 0.15);\n",
              "      filter: drop-shadow(0px 1px 2px rgba(0, 0, 0, 0.3));\n",
              "      fill: #FFFFFF;\n",
              "    }\n",
              "  </style>\n",
              "\n",
              "      <script>\n",
              "        const buttonEl =\n",
              "          document.querySelector('#df-68ac8407-cfe6-4d3b-83a4-5a22c9563c60 button.colab-df-convert');\n",
              "        buttonEl.style.display =\n",
              "          google.colab.kernel.accessAllowed ? 'block' : 'none';\n",
              "\n",
              "        async function convertToInteractive(key) {\n",
              "          const element = document.querySelector('#df-68ac8407-cfe6-4d3b-83a4-5a22c9563c60');\n",
              "          const dataTable =\n",
              "            await google.colab.kernel.invokeFunction('convertToInteractive',\n",
              "                                                     [key], {});\n",
              "          if (!dataTable) return;\n",
              "\n",
              "          const docLinkHtml = 'Like what you see? Visit the ' +\n",
              "            '<a target=\"_blank\" href=https://colab.research.google.com/notebooks/data_table.ipynb>data table notebook</a>'\n",
              "            + ' to learn more about interactive tables.';\n",
              "          element.innerHTML = '';\n",
              "          dataTable['output_type'] = 'display_data';\n",
              "          await google.colab.output.renderOutput(dataTable, element);\n",
              "          const docLink = document.createElement('div');\n",
              "          docLink.innerHTML = docLinkHtml;\n",
              "          element.appendChild(docLink);\n",
              "        }\n",
              "      </script>\n",
              "    </div>\n",
              "  </div>\n",
              "  "
            ],
            "text/plain": [
              "            증가율\n",
              "PBR    0.002273\n",
              "업종PBR  0.152952\n",
              "종가    -0.040680\n",
              "다음해종가  0.048182\n",
              "증가율    1.000000"
            ]
          },
          "execution_count": 677,
          "metadata": {},
          "output_type": "execute_result"
        }
      ],
      "source": [
        "a = pd.merge(join_t2.sort_values('PBR'), jongmok_upjong2021, how='left', on = '종목코드')[['종목코드', '종목명_x', '업종명_x', 'PBR', '업종PBR','종가_x','종가_y']]\n",
        "a.columns = ['종목코드', '종목명', '업종명', 'PBR', '업종PBR','종가','다음해종가']\n",
        "a['증가율'] = ((a['다음해종가']-a['종가'])/a['종가'])*100\n",
        "a = a.loc[~a['다음해종가'].isnull()]\n",
        "pbr_returns_corr_score = a.corr()['증가율'].to_frame()\n",
        "pbr_returns_corr.append(pbr_returns_corr_score.loc[(pbr_returns_corr_score.index=='PBR')]['증가율'].values)\n",
        "pbr_returns_corr_score"
      ]
    },
    {
      "cell_type": "code",
      "execution_count": null,
      "metadata": {
        "colab": {
          "base_uri": "https://localhost:8080/",
          "height": 284
        },
        "id": "nP-kdeDv9eXJ",
        "outputId": "7a324663-d102-497a-a336-4ca228e6323c"
      },
      "outputs": [
        {
          "data": {
            "text/plain": [
              "<matplotlib.collections.PathCollection at 0x7f1be3d1c650>"
            ]
          },
          "execution_count": 678,
          "metadata": {},
          "output_type": "execute_result"
        },
        {
          "data": {
            "image/png": "[encoded data removed]",
            "text/plain": [
              "<Figure size 432x288 with 1 Axes>"
            ]
          },
          "metadata": {},
          "output_type": "display_data"
        }
      ],
      "source": [
        "plt.scatter(a['PBR'],a['증가율'])\n"
      ]
    },
    {
      "cell_type": "code",
      "execution_count": null,
      "metadata": {
        "colab": {
          "base_uri": "https://localhost:8080/",
          "height": 284
        },
        "id": "QVJYL89P9ysR",
        "outputId": "1a921f81-ec9f-4965-fe48-b5ac188ecf96"
      },
      "outputs": [
        {
          "data": {
            "text/plain": [
              "<matplotlib.collections.PathCollection at 0x7f1be6c6f210>"
            ]
          },
          "execution_count": 695,
          "metadata": {},
          "output_type": "execute_result"
        },
        {
          "data": {
            "image/png": "[encoded data removed]",
            "text/plain": [
              "<Figure size 432x288 with 1 Axes>"
            ]
          },
          "metadata": {},
          "output_type": "display_data"
        }
      ],
      "source": [
        "plt.scatter(a['PBR'],a['증가율'])"
      ]
    },
    {
      "cell_type": "markdown",
      "metadata": {
        "id": "jDCrzTXD7Km1"
      },
      "source": [
        "## 결과"
      ]
    },
    {
      "cell_type": "code",
      "execution_count": null,
      "metadata": {
        "id": "FICnuCQE7Km2"
      },
      "outputs": [],
      "source": [
        "import matplotlib.pyplot as plt"
      ]
    },
    {
      "cell_type": "code",
      "execution_count": null,
      "metadata": {
        "id": "67ssFKdH7Km2"
      },
      "outputs": [],
      "source": [
        "year = range(2011,2021,1)"
      ]
    },
    {
      "cell_type": "code",
      "execution_count": null,
      "metadata": {
        "colab": {
          "base_uri": "https://localhost:8080/",
          "height": 358
        },
        "id": "rNOXuH0N7Km2",
        "outputId": "6399c1d7-d3a4-4422-a942-82ffb8f7fdbb"
      },
      "outputs": [
        {
          "name": "stderr",
          "output_type": "stream",
          "text": [
            "/usr/local/lib/python3.7/dist-packages/matplotlib/backends/backend_agg.py:214: RuntimeWarning: Glyph 8722 missing from current font.\n",
            "  font.set_text(s, 0.0, flags=flags)\n",
            "/usr/local/lib/python3.7/dist-packages/matplotlib/backends/backend_agg.py:183: RuntimeWarning: Glyph 8722 missing from current font.\n",
            "  font.set_text(s, 0, flags=flags)\n"
          ]
        },
        {
          "data": {
            "image/png": "[encoded data removed]",
            "text/plain": [
              "<Figure size 432x288 with 1 Axes>"
            ]
          },
          "metadata": {},
          "output_type": "display_data"
        }
      ],
      "source": [
        "plt.plot(year,lower_pbr_returns,label=\"average returns of under sector's PBR\")\n",
        "plt.plot(year,upper_pbr_returns, label = \"average returns of over sector's PBR\")\n",
        "plt.legend()\n",
        "plt.show()"
      ]
    },
    {
      "cell_type": "code",
      "execution_count": null,
      "metadata": {
        "id": "48WqkOHZ7Km2"
      },
      "outputs": [],
      "source": [
        ""
      ]
    },
    {
      "cell_type": "code",
      "execution_count": null,
      "metadata": {
        "colab": {
          "base_uri": "https://localhost:8080/"
        },
        "id": "4VvMfKvJ7Km2",
        "outputId": "3c6e262f-23d7-4421-dc99-003df0d6dd00"
      },
      "outputs": [
        {
          "data": {
            "text/plain": [
              "13.726128067239358"
            ]
          },
          "execution_count": 683,
          "metadata": {},
          "output_type": "execute_result"
        }
      ],
      "source": [
        "# 단순산술 연평균 수익 for 업종PBR보다 낮은 주식\n",
        "np.array(lower_pbr_returns).sum()/len(lower_pbr_returns)"
      ]
    },
    {
      "cell_type": "code",
      "execution_count": null,
      "metadata": {
        "colab": {
          "base_uri": "https://localhost:8080/"
        },
        "id": "Ztq9T5MF7Km2",
        "outputId": "f2c2530f-35be-49d1-f768-7d9f4a5f84c2"
      },
      "outputs": [
        {
          "data": {
            "text/plain": [
              "7.329328998017894"
            ]
          },
          "execution_count": 684,
          "metadata": {},
          "output_type": "execute_result"
        }
      ],
      "source": [
        "# 단순산술 연평균 수익 for 업종PER보다 높은 주식\n",
        "np.array(upper_pbr_returns).sum()/len(upper_pbr_returns)"
      ]
    },
    {
      "cell_type": "markdown",
      "metadata": {
        "id": "57pS9dPN7Km2"
      },
      "source": [
        "결론 : 최근 10년 데이터를 사용하여 업종PER 대비 높은 주식과 낮은 주식의 평균 수익률을 비교해보았다. 그 결과 수익률이 업종 PER보다 높은 주식이 대략 3퍼센트 높았다. 고로 업종PER보다 낮은 PER의 주식을 선택하는 것이 좋은 것인가에 대해 다시한번 생각해볼 필요가 있다. "
      ]
    },
    {
      "cell_type": "code",
      "execution_count": null,
      "metadata": {
        "id": "r9IJF9Mj7Km2"
      },
      "outputs": [],
      "source": [
        ""
      ]
    },
    {
      "cell_type": "code",
      "execution_count": null,
      "metadata": {
        "colab": {
          "base_uri": "https://localhost:8080/",
          "height": 358
        },
        "id": "4osGIuRo7Km3",
        "outputId": "9ce6f627-332a-497d-ddec-047ce9dedf9d"
      },
      "outputs": [
        {
          "name": "stderr",
          "output_type": "stream",
          "text": [
            "/usr/local/lib/python3.7/dist-packages/matplotlib/backends/backend_agg.py:214: RuntimeWarning: Glyph 8722 missing from current font.\n",
            "  font.set_text(s, 0.0, flags=flags)\n",
            "/usr/local/lib/python3.7/dist-packages/matplotlib/backends/backend_agg.py:183: RuntimeWarning: Glyph 8722 missing from current font.\n",
            "  font.set_text(s, 0, flags=flags)\n"
          ]
        },
        {
          "data": {
            "image/png": "[encoded data removed]",
            "text/plain": [
              "<Figure size 432x288 with 1 Axes>"
            ]
          },
          "metadata": {},
          "output_type": "display_data"
        }
      ],
      "source": [
        "plt.plot(year,under02_pbr_returns,label=\"average returns of pbr under 0.2\")\n",
        "plt.plot(year,under1_pbr_returns,label=\"average returns of pbr under 1\")\n",
        "plt.plot(year,upper1_pbr_returns,label=\"average returns of pbr over 1\")\n",
        "plt.plot(year,upper5_pbr_returns,label=\"average returns of pbr over 5\")\n",
        "plt.legend()\n",
        "plt.show()"
      ]
    },
    {
      "cell_type": "code",
      "execution_count": null,
      "metadata": {
        "colab": {
          "base_uri": "https://localhost:8080/"
        },
        "id": "GzWNHA-m7Km3",
        "outputId": "fd06f790-e799-4b56-e253-40cca01feb58"
      },
      "outputs": [
        {
          "data": {
            "text/plain": [
              "39.00548985528932"
            ]
          },
          "execution_count": 686,
          "metadata": {},
          "output_type": "execute_result"
        }
      ],
      "source": [
        "# per2이하 단순 산술 평균 \n",
        "np.array(under02_pbr_returns).sum()/len(under02_pbr_returns)"
      ]
    },
    {
      "cell_type": "code",
      "execution_count": null,
      "metadata": {
        "colab": {
          "base_uri": "https://localhost:8080/"
        },
        "id": "w-w0Gx_s7Km3",
        "outputId": "8bf4bf73-910a-4a8f-9d66-66d7c901b169"
      },
      "outputs": [
        {
          "data": {
            "text/plain": [
              "12.206074153510482"
            ]
          },
          "execution_count": 687,
          "metadata": {},
          "output_type": "execute_result"
        }
      ],
      "source": [
        "# per5이하 단순 산술 평균 \n",
        "np.array(under1_pbr_returns).sum()/len(under1_pbr_returns)"
      ]
    },
    {
      "cell_type": "code",
      "execution_count": null,
      "metadata": {
        "colab": {
          "base_uri": "https://localhost:8080/"
        },
        "id": "9Z5__Ptg7Km3",
        "outputId": "64d76837-2d41-441a-f9d1-c0b77b6c1f11"
      },
      "outputs": [
        {
          "data": {
            "text/plain": [
              "10.269145047609317"
            ]
          },
          "execution_count": 688,
          "metadata": {},
          "output_type": "execute_result"
        }
      ],
      "source": [
        "# per10이상 단순 산술 평균 \n",
        "np.array(upper1_pbr_returns).sum()/len(upper1_pbr_returns)"
      ]
    },
    {
      "cell_type": "code",
      "execution_count": null,
      "metadata": {
        "colab": {
          "base_uri": "https://localhost:8080/"
        },
        "id": "3ryn1s1k7Km3",
        "outputId": "eb2ab9dc-5d07-4455-f422-c26b00983aa0"
      },
      "outputs": [
        {
          "data": {
            "text/plain": [
              "-0.8878570000674586"
            ]
          },
          "execution_count": 689,
          "metadata": {},
          "output_type": "execute_result"
        }
      ],
      "source": [
        "# per50이상 단순 산술 평균 \n",
        "np.array(upper5_pbr_returns).sum()/len(upper5_pbr_returns)"
      ]
    },
    {
      "cell_type": "code",
      "execution_count": null,
      "metadata": {
        "colab": {
          "base_uri": "https://localhost:8080/"
        },
        "id": "tXyhX1Se8EMR",
        "outputId": "3691437f-dd3c-43c3-cbc6-4cab82a91f39"
      },
      "outputs": [
        {
          "data": {
            "text/plain": [
              "[array([-0.04617391]),\n",
              " array([-0.07190265]),\n",
              " array([-0.05015108]),\n",
              " array([-0.0354918]),\n",
              " array([0.00615175]),\n",
              " array([-0.08663919]),\n",
              " array([-0.01312762]),\n",
              " array([-0.05834594]),\n",
              " array([-0.07868688]),\n",
              " array([0.00227263])]"
            ]
          },
          "execution_count": 690,
          "metadata": {},
          "output_type": "execute_result"
        }
      ],
      "source": [
        "pbr_returns_corr"
      ]
    },
    {
      "cell_type": "code",
      "execution_count": null,
      "metadata": {
        "colab": {
          "base_uri": "https://localhost:8080/",
          "height": 280
        },
        "id": "OYEr6iKl7Km3",
        "outputId": "22d9949a-c6e6-4e52-e9a7-ae4d9876b715"
      },
      "outputs": [
        {
          "data": {
            "image/png": "[encoded data removed]",
            "text/plain": [
              "<Figure size 432x288 with 1 Axes>"
            ]
          },
          "metadata": {},
          "output_type": "display_data"
        }
      ],
      "source": [
        "plt.plot(year,pbr_returns_corr,label = '상관관계')\n",
        "plt.title('PBR과 수익률간의 상관관계')\n",
        "plt.ylim(0,1)\n",
        "plt.legend()\n",
        "plt.show()"
      ]
    },
    {
      "cell_type": "code",
      "execution_count": null,
      "metadata": {
        "id": "tMBaVnI_B8LL"
      },
      "outputs": [],
      "source": [
        ""
      ]
    }
  ],
  "metadata": {
    "colab": {
      "collapsed_sections": [],
      "name": "PER_Provement.ipynb",
      "toc_visible": true,
      "provenance": []
    },
    "kernelspec": {
      "display_name": "Python 3",
      "name": "python3"
    },
    "language_info": {
      "name": "python"
    }
  },
  "nbformat": 4,
  "nbformat_minor": 0
}