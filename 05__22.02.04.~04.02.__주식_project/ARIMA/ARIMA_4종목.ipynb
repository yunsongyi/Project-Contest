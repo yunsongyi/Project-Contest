{
  "cells": [
    {
      "cell_type": "markdown",
      "metadata": {
        "id": "XafHrZW6uuMf"
      },
      "source": [
        "# 4종목\n",
        "포스코 홀딩스, 팬오션, 태광산업, 아이에스동서\n",
        "\n",
        "```\n",
        "PER과 PBR이 동종산업대비 낮고, 3개년 영업이익이 꾸준히 증가한 기업!\n",
        "```"
      ]
    },
    {
      "cell_type": "markdown",
      "metadata": {
        "id": "phDunxWqu9YZ"
      },
      "source": [
        "## 임포트 모듈"
      ]
    },
    {
      "cell_type": "code",
      "execution_count": null,
      "metadata": {
        "colab": {
          "base_uri": "https://localhost:8080/"
        },
        "id": "ri7IGF5-u9G0",
        "outputId": "a3d7f0a2-47bd-4f71-8f6d-98469f6b303e"
      },
      "outputs": [
        {
          "name": "stdout",
          "output_type": "stream",
          "text": [
            "Requirement already satisfied: statsmodels in /usr/local/lib/python3.7/dist-packages (0.10.2)\n",
            "Requirement already satisfied: numpy>=1.11 in /usr/local/lib/python3.7/dist-packages (from statsmodels) (1.21.5)\n",
            "Requirement already satisfied: scipy>=0.18 in /usr/local/lib/python3.7/dist-packages (from statsmodels) (1.4.1)\n",
            "Requirement already satisfied: pandas>=0.19 in /usr/local/lib/python3.7/dist-packages (from statsmodels) (1.3.5)\n",
            "Requirement already satisfied: patsy>=0.4.0 in /usr/local/lib/python3.7/dist-packages (from statsmodels) (0.5.2)\n",
            "Requirement already satisfied: pytz>=2017.3 in /usr/local/lib/python3.7/dist-packages (from pandas>=0.19->statsmodels) (2018.9)\n",
            "Requirement already satisfied: python-dateutil>=2.7.3 in /usr/local/lib/python3.7/dist-packages (from pandas>=0.19->statsmodels) (2.8.2)\n",
            "Requirement already satisfied: six in /usr/local/lib/python3.7/dist-packages (from patsy>=0.4.0->statsmodels) (1.15.0)\n"
          ]
        }
      ],
      "source": [
        "!pip install statsmodels"
      ]
    },
    {
      "cell_type": "code",
      "execution_count": null,
      "metadata": {
        "colab": {
          "background_save": true,
          "base_uri": "https://localhost:8080/"
        },
        "id": "b7W6Pp2zu8_4",
        "outputId": "3bebc34a-dccb-4d2d-ccf9-709673c51a69"
      },
      "outputs": [
        {
          "name": "stdout",
          "output_type": "stream",
          "text": [
            "Collecting mplfinance\n",
            "  Downloading mplfinance-0.12.8b9-py3-none-any.whl (70 kB)\n",
            "\u001b[?25l\r\u001b[K     |████▋                           | 10 kB 17.6 MB/s eta 0:00:01\r\u001b[K     |█████████▎                      | 20 kB 14.1 MB/s eta 0:00:01\r\u001b[K     |██████████████                  | 30 kB 8.3 MB/s eta 0:00:01\r\u001b[K     |██████████████████▋             | 40 kB 9.1 MB/s eta 0:00:01\r\u001b[K     |███████████████████████▎        | 51 kB 4.4 MB/s eta 0:00:01\r\u001b[K     |████████████████████████████    | 61 kB 5.1 MB/s eta 0:00:01\r\u001b[K     |████████████████████████████████| 70 kB 3.0 MB/s \n",
            "\u001b[?25hRequirement already satisfied: pandas in /usr/local/lib/python3.7/dist-packages (from mplfinance) (1.3.5)\n",
            "Requirement already satisfied: matplotlib in /usr/local/lib/python3.7/dist-packages (from mplfinance) (3.2.2)\n",
            "Requirement already satisfied: numpy>=1.11 in /usr/local/lib/python3.7/dist-packages (from matplotlib->mplfinance) (1.21.5)\n",
            "Requirement already satisfied: python-dateutil>=2.1 in /usr/local/lib/python3.7/dist-packages (from matplotlib->mplfinance) (2.8.2)\n",
            "Requirement already satisfied: cycler>=0.10 in /usr/local/lib/python3.7/dist-packages (from matplotlib->mplfinance) (0.11.0)\n",
            "Requirement already satisfied: kiwisolver>=1.0.1 in /usr/local/lib/python3.7/dist-packages (from matplotlib->mplfinance) (1.4.0)\n",
            "Requirement already satisfied: pyparsing!=2.0.4,!=2.1.2,!=2.1.6,>=2.0.1 in /usr/local/lib/python3.7/dist-packages (from matplotlib->mplfinance) (3.0.7)\n",
            "Requirement already satisfied: typing-extensions in /usr/local/lib/python3.7/dist-packages (from kiwisolver>=1.0.1->matplotlib->mplfinance) (3.10.0.2)\n",
            "Requirement already satisfied: six>=1.5 in /usr/local/lib/python3.7/dist-packages (from python-dateutil>=2.1->matplotlib->mplfinance) (1.15.0)\n",
            "Requirement already satisfied: pytz>=2017.3 in /usr/local/lib/python3.7/dist-packages (from pandas->mplfinance) (2018.9)\n",
            "Installing collected packages: mplfinance\n",
            "Successfully installed mplfinance-0.12.8b9\n"
          ]
        }
      ],
      "source": [
        "!pip install mplfinance"
      ]
    },
    {
      "cell_type": "code",
      "execution_count": null,
      "metadata": {
        "colab": {
          "background_save": true,
          "base_uri": "https://localhost:8080/"
        },
        "id": "_OTqPPsju89L",
        "outputId": "cb548bf5-3089-4c29-b569-462e63056f86"
      },
      "outputs": [
        {
          "name": "stdout",
          "output_type": "stream",
          "text": [
            "Collecting finance-datareader\n",
            "  Downloading finance_datareader-0.9.33-py3-none-any.whl (48 kB)\n",
            "\u001b[?25l\r\u001b[K     |██████▊                         | 10 kB 22.1 MB/s eta 0:00:01\r\u001b[K     |█████████████▍                  | 20 kB 12.0 MB/s eta 0:00:01\r\u001b[K     |████████████████████▏           | 30 kB 8.7 MB/s eta 0:00:01\r\u001b[K     |██████████████████████████▉     | 40 kB 7.6 MB/s eta 0:00:01\r\u001b[K     |████████████████████████████████| 48 kB 2.0 MB/s \n",
            "\u001b[?25hRequirement already satisfied: lxml in /usr/local/lib/python3.7/dist-packages (from finance-datareader) (4.2.6)\n",
            "Collecting requests-file\n",
            "  Downloading requests_file-1.5.1-py2.py3-none-any.whl (3.7 kB)\n",
            "Requirement already satisfied: pandas>=0.19.2 in /usr/local/lib/python3.7/dist-packages (from finance-datareader) (1.3.5)\n",
            "Requirement already satisfied: requests>=2.3.0 in /usr/local/lib/python3.7/dist-packages (from finance-datareader) (2.23.0)\n",
            "Requirement already satisfied: tqdm in /usr/local/lib/python3.7/dist-packages (from finance-datareader) (4.63.0)\n",
            "Requirement already satisfied: pytz>=2017.3 in /usr/local/lib/python3.7/dist-packages (from pandas>=0.19.2->finance-datareader) (2018.9)\n",
            "Requirement already satisfied: numpy>=1.17.3 in /usr/local/lib/python3.7/dist-packages (from pandas>=0.19.2->finance-datareader) (1.21.5)\n",
            "Requirement already satisfied: python-dateutil>=2.7.3 in /usr/local/lib/python3.7/dist-packages (from pandas>=0.19.2->finance-datareader) (2.8.2)\n",
            "Requirement already satisfied: six>=1.5 in /usr/local/lib/python3.7/dist-packages (from python-dateutil>=2.7.3->pandas>=0.19.2->finance-datareader) (1.15.0)\n",
            "Requirement already satisfied: urllib3!=1.25.0,!=1.25.1,<1.26,>=1.21.1 in /usr/local/lib/python3.7/dist-packages (from requests>=2.3.0->finance-datareader) (1.24.3)\n",
            "Requirement already satisfied: certifi>=2017.4.17 in /usr/local/lib/python3.7/dist-packages (from requests>=2.3.0->finance-datareader) (2021.10.8)\n",
            "Requirement already satisfied: idna<3,>=2.5 in /usr/local/lib/python3.7/dist-packages (from requests>=2.3.0->finance-datareader) (2.10)\n",
            "Requirement already satisfied: chardet<4,>=3.0.2 in /usr/local/lib/python3.7/dist-packages (from requests>=2.3.0->finance-datareader) (3.0.4)\n",
            "Installing collected packages: requests-file, finance-datareader\n",
            "Successfully installed finance-datareader-0.9.33 requests-file-1.5.1\n"
          ]
        }
      ],
      "source": [
        "!pip install finance-datareader"
      ]
    },
    {
      "cell_type": "code",
      "execution_count": null,
      "metadata": {
        "colab": {
          "background_save": true,
          "base_uri": "https://localhost:8080/"
        },
        "id": "IQvzXW3Iu86n",
        "outputId": "d553d994-1517-4e9b-bcfc-4f751d0b0a9f"
      },
      "outputs": [
        {
          "name": "stdout",
          "output_type": "stream",
          "text": [
            "Collecting pmdarima\n",
            "  Downloading pmdarima-1.8.5-cp37-cp37m-manylinux_2_17_x86_64.manylinux2014_x86_64.manylinux_2_24_x86_64.whl (1.4 MB)\n",
            "\u001b[K     |████████████████████████████████| 1.4 MB 5.1 MB/s \n",
            "\u001b[?25hRequirement already satisfied: scikit-learn>=0.22 in /usr/local/lib/python3.7/dist-packages (from pmdarima) (1.0.2)\n",
            "Requirement already satisfied: urllib3 in /usr/local/lib/python3.7/dist-packages (from pmdarima) (1.24.3)\n",
            "Requirement already satisfied: setuptools!=50.0.0,>=38.6.0 in /usr/local/lib/python3.7/dist-packages (from pmdarima) (57.4.0)\n",
            "Requirement already satisfied: scipy>=1.3.2 in /usr/local/lib/python3.7/dist-packages (from pmdarima) (1.4.1)\n",
            "Requirement already satisfied: Cython!=0.29.18,>=0.29 in /usr/local/lib/python3.7/dist-packages (from pmdarima) (0.29.28)\n",
            "Requirement already satisfied: pandas>=0.19 in /usr/local/lib/python3.7/dist-packages (from pmdarima) (1.3.5)\n",
            "Collecting statsmodels!=0.12.0,>=0.11\n",
            "  Downloading statsmodels-0.13.2-cp37-cp37m-manylinux_2_17_x86_64.manylinux2014_x86_64.whl (9.8 MB)\n",
            "\u001b[K     |████████████████████████████████| 9.8 MB 43.1 MB/s \n",
            "\u001b[?25hRequirement already satisfied: joblib>=0.11 in /usr/local/lib/python3.7/dist-packages (from pmdarima) (1.1.0)\n",
            "Requirement already satisfied: numpy>=1.19.3 in /usr/local/lib/python3.7/dist-packages (from pmdarima) (1.21.5)\n",
            "Requirement already satisfied: python-dateutil>=2.7.3 in /usr/local/lib/python3.7/dist-packages (from pandas>=0.19->pmdarima) (2.8.2)\n",
            "Requirement already satisfied: pytz>=2017.3 in /usr/local/lib/python3.7/dist-packages (from pandas>=0.19->pmdarima) (2018.9)\n",
            "Requirement already satisfied: six>=1.5 in /usr/local/lib/python3.7/dist-packages (from python-dateutil>=2.7.3->pandas>=0.19->pmdarima) (1.15.0)\n",
            "Requirement already satisfied: threadpoolctl>=2.0.0 in /usr/local/lib/python3.7/dist-packages (from scikit-learn>=0.22->pmdarima) (3.1.0)\n",
            "Requirement already satisfied: patsy>=0.5.2 in /usr/local/lib/python3.7/dist-packages (from statsmodels!=0.12.0,>=0.11->pmdarima) (0.5.2)\n",
            "Requirement already satisfied: packaging>=21.3 in /usr/local/lib/python3.7/dist-packages (from statsmodels!=0.12.0,>=0.11->pmdarima) (21.3)\n",
            "Requirement already satisfied: pyparsing!=3.0.5,>=2.0.2 in /usr/local/lib/python3.7/dist-packages (from packaging>=21.3->statsmodels!=0.12.0,>=0.11->pmdarima) (3.0.7)\n",
            "Installing collected packages: statsmodels, pmdarima\n",
            "  Attempting uninstall: statsmodels\n",
            "    Found existing installation: statsmodels 0.10.2\n",
            "    Uninstalling statsmodels-0.10.2:\n",
            "      Successfully uninstalled statsmodels-0.10.2\n",
            "Successfully installed pmdarima-1.8.5 statsmodels-0.13.2\n"
          ]
        }
      ],
      "source": [
        "!pip install pmdarima"
      ]
    },
    {
      "cell_type": "code",
      "execution_count": null,
      "metadata": {
        "colab": {
          "background_save": true,
          "base_uri": "https://localhost:8080/"
        },
        "id": "ntCW_2ahu8uc",
        "outputId": "c1d87181-ad37-42f7-9fbc-f4f8f3793e46"
      },
      "outputs": [
        {
          "name": "stdout",
          "output_type": "stream",
          "text": [
            "Reading package lists... Done\n",
            "Building dependency tree       \n",
            "Reading state information... Done\n",
            "The following NEW packages will be installed:\n",
            "  fonts-nanum\n",
            "0 upgraded, 1 newly installed, 0 to remove and 39 not upgraded.\n",
            "Need to get 9,604 kB of archives.\n",
            "After this operation, 29.5 MB of additional disk space will be used.\n",
            "Get:1 http://archive.ubuntu.com/ubuntu bionic/universe amd64 fonts-nanum all 20170925-1 [9,604 kB]\n",
            "Fetched 9,604 kB in 0s (23.1 MB/s)\n",
            "debconf: unable to initialize frontend: Dialog\n",
            "debconf: (No usable dialog-like program is installed, so the dialog based frontend cannot be used. at /usr/share/perl5/Debconf/FrontEnd/Dialog.pm line 76, <> line 1.)\n",
            "debconf: falling back to frontend: Readline\n",
            "debconf: unable to initialize frontend: Readline\n",
            "debconf: (This frontend requires a controlling tty.)\n",
            "debconf: falling back to frontend: Teletype\n",
            "dpkg-preconfigure: unable to re-open stdin: \n",
            "Selecting previously unselected package fonts-nanum.\n",
            "(Reading database ... 156210 files and directories currently installed.)\n",
            "Preparing to unpack .../fonts-nanum_20170925-1_all.deb ...\n",
            "Unpacking fonts-nanum (20170925-1) ...\n",
            "Setting up fonts-nanum (20170925-1) ...\n",
            "Processing triggers for fontconfig (2.12.6-0ubuntu2) ...\n",
            "/usr/share/fonts: caching, new cache contents: 0 fonts, 1 dirs\n",
            "/usr/share/fonts/truetype: caching, new cache contents: 0 fonts, 3 dirs\n",
            "/usr/share/fonts/truetype/humor-sans: caching, new cache contents: 1 fonts, 0 dirs\n",
            "/usr/share/fonts/truetype/liberation: caching, new cache contents: 16 fonts, 0 dirs\n",
            "/usr/share/fonts/truetype/nanum: caching, new cache contents: 10 fonts, 0 dirs\n",
            "/usr/local/share/fonts: caching, new cache contents: 0 fonts, 0 dirs\n",
            "/root/.local/share/fonts: skipping, no such directory\n",
            "/root/.fonts: skipping, no such directory\n",
            "/var/cache/fontconfig: cleaning cache directory\n",
            "/root/.cache/fontconfig: not cleaning non-existent cache directory\n",
            "/root/.fontconfig: not cleaning non-existent cache directory\n",
            "fc-cache: succeeded\n"
          ]
        }
      ],
      "source": [
        "!sudo apt-get install -y fonts-nanum\n",
        "!sudo fc-cache -fv\n",
        "!rm ~/.cache/matplotlib -rf"
      ]
    },
    {
      "cell_type": "code",
      "execution_count": null,
      "metadata": {
        "colab": {
          "background_save": true
        },
        "id": "BO_3JWr0vLsN"
      },
      "outputs": [],
      "source": [
        "import warnings\n",
        "\n",
        "warnings.filterwarnings(\"ignore\")"
      ]
    },
    {
      "cell_type": "code",
      "execution_count": null,
      "metadata": {
        "colab": {
          "background_save": true
        },
        "id": "AxEjcnFPvLqW"
      },
      "outputs": [],
      "source": [
        "import pandas as pd\n",
        "import numpy as np\n",
        "import matplotlib.pyplot as plt\n",
        "import datetime as dt\n",
        "from statsmodels.tsa.arima_model import ARIMA\n",
        "\n",
        "import seaborn as sns\n",
        "import os\n",
        "\n",
        "import pandas_datareader.data as web\n",
        "import mplfinance as mpf"
      ]
    },
    {
      "cell_type": "code",
      "execution_count": null,
      "metadata": {
        "colab": {
          "background_save": true
        },
        "id": "kqXzermEvLoL"
      },
      "outputs": [],
      "source": [
        "from bs4 import BeautifulSoup\n",
        "import csv\n",
        "import os\n",
        "import re\n",
        "import requests"
      ]
    },
    {
      "cell_type": "code",
      "execution_count": null,
      "metadata": {
        "colab": {
          "background_save": true
        },
        "id": "BBmOcPSgvLkT"
      },
      "outputs": [],
      "source": [
        "import FinanceDataReader as fdr"
      ]
    },
    {
      "cell_type": "code",
      "execution_count": null,
      "metadata": {
        "colab": {
          "background_save": true
        },
        "id": "pFqSfSlHvLic"
      },
      "outputs": [],
      "source": [
        "from pmdarima.arima import ndiffs\n",
        "import pmdarima as pm\n",
        "from plotly.subplots import make_subplots\n",
        "import plotly.graph_objects as go"
      ]
    },
    {
      "cell_type": "code",
      "execution_count": null,
      "metadata": {
        "colab": {
          "background_save": true
        },
        "id": "cySLmSb0vLgf"
      },
      "outputs": [],
      "source": [
        "#그래프 한글띄우기\n",
        "import pandas as pd\n",
        "import matplotlib.pyplot as plt\n",
        "import platform\n",
        "if platform.system() == 'Darwin': \n",
        "        plt.rc('font', family='AppleGothic') \n",
        "elif platform.system() == 'Windows': \n",
        "        plt.rc('font', family='Malgun Gothic') \n",
        "elif platform.system() == 'Linux': \n",
        "        plt.rc('font', family='Malgun Gothic') \n",
        "plt.rcParams['axes.unicode_minus'] = False"
      ]
    },
    {
      "cell_type": "markdown",
      "metadata": {
        "id": "xYPXKa7bvR21"
      },
      "source": [
        "## 크롤링\n",
        "2019 기준 kospi200"
      ]
    },
    {
      "cell_type": "code",
      "execution_count": null,
      "metadata": {
        "colab": {
          "background_save": true
        },
        "id": "NURlvMeTvLeX"
      },
      "outputs": [],
      "source": [
        "from bs4 import BeautifulSoup\n",
        "import requests\n",
        "\n",
        "BaseUrl = ' http://finance.naver.com/sise/entryJongmok.nhn?&page='\n",
        "\n",
        "for i in range(1, 21):\n",
        "    url = BaseUrl + str(i)\n",
        "    r = requests.get(url)\n",
        "    soup = BeautifulSoup(r.text, 'lxml')\n",
        "    items = soup.find_all('td', {'class': 'ctg'})\n",
        "\n",
        "    for item in items:\n",
        "        #print(item)\n",
        "        txt = item.a.get('href') # https://finance.naver.com/item/main.nhn?code=006390\n",
        "        k = re.search('[\\d]+', txt) ##정규표현식 사용. [\\d] 숫자표현, + : 반복\n",
        "        if k:\n",
        "            code = k.group()\n",
        "            name = item.text\n",
        "            data = code, name\n",
        "\n",
        "            with open ('KOSPI200.csv', 'a', newline='') as f: ## with 블록안에서 open, 블록밖에서 자동으로 close.\n",
        "                writer = csv.writer(f)\n",
        "                writer.writerow(data)"
      ]
    },
    {
      "cell_type": "code",
      "execution_count": null,
      "metadata": {
        "colab": {
          "base_uri": "https://localhost:8080/",
          "height": 424
        },
        "id": "-4UVoAEcvLca",
        "outputId": "d653c6a7-8511-45ec-e371-100f909c998b"
      },
      "outputs": [
        {
          "data": {
            "text/html": [
              "\n",
              "  <div id=\"df-e1567c9a-7e42-4a32-9d33-eb6cc6c3d3af\">\n",
              "    <div class=\"colab-df-container\">\n",
              "      <div>\n",
              "<style scoped>\n",
              "    .dataframe tbody tr th:only-of-type {\n",
              "        vertical-align: middle;\n",
              "    }\n",
              "\n",
              "    .dataframe tbody tr th {\n",
              "        vertical-align: top;\n",
              "    }\n",
              "\n",
              "    .dataframe thead th {\n",
              "        text-align: right;\n",
              "    }\n",
              "</style>\n",
              "<table border=\"1\" class=\"dataframe\">\n",
              "  <thead>\n",
              "    <tr style=\"text-align: right;\">\n",
              "      <th></th>\n",
              "      <th>code</th>\n",
              "      <th>name</th>\n",
              "    </tr>\n",
              "  </thead>\n",
              "  <tbody>\n",
              "    <tr>\n",
              "      <th>0</th>\n",
              "      <td>005930</td>\n",
              "      <td>삼성전자</td>\n",
              "    </tr>\n",
              "    <tr>\n",
              "      <th>1</th>\n",
              "      <td>373220</td>\n",
              "      <td>LG에너지솔루션</td>\n",
              "    </tr>\n",
              "    <tr>\n",
              "      <th>2</th>\n",
              "      <td>000660</td>\n",
              "      <td>SK하이닉스</td>\n",
              "    </tr>\n",
              "    <tr>\n",
              "      <th>3</th>\n",
              "      <td>207940</td>\n",
              "      <td>삼성바이오로직스</td>\n",
              "    </tr>\n",
              "    <tr>\n",
              "      <th>4</th>\n",
              "      <td>035420</td>\n",
              "      <td>NAVER</td>\n",
              "    </tr>\n",
              "    <tr>\n",
              "      <th>...</th>\n",
              "      <td>...</td>\n",
              "      <td>...</td>\n",
              "    </tr>\n",
              "    <tr>\n",
              "      <th>295</th>\n",
              "      <td>000070</td>\n",
              "      <td>삼양홀딩스</td>\n",
              "    </tr>\n",
              "    <tr>\n",
              "      <th>296</th>\n",
              "      <td>057050</td>\n",
              "      <td>현대홈쇼핑</td>\n",
              "    </tr>\n",
              "    <tr>\n",
              "      <th>297</th>\n",
              "      <td>064960</td>\n",
              "      <td>SNT모티브</td>\n",
              "    </tr>\n",
              "    <tr>\n",
              "      <th>298</th>\n",
              "      <td>192400</td>\n",
              "      <td>쿠쿠홀딩스</td>\n",
              "    </tr>\n",
              "    <tr>\n",
              "      <th>299</th>\n",
              "      <td>002350</td>\n",
              "      <td>넥센타이어</td>\n",
              "    </tr>\n",
              "  </tbody>\n",
              "</table>\n",
              "<p>300 rows × 2 columns</p>\n",
              "</div>\n",
              "      <button class=\"colab-df-convert\" onclick=\"convertToInteractive('df-e1567c9a-7e42-4a32-9d33-eb6cc6c3d3af')\"\n",
              "              title=\"Convert this dataframe to an interactive table.\"\n",
              "              style=\"display:none;\">\n",
              "        \n",
              "  <svg xmlns=\"http://www.w3.org/2000/svg\" height=\"24px\"viewBox=\"0 0 24 24\"\n",
              "       width=\"24px\">\n",
              "    <path d=\"M0 0h24v24H0V0z\" fill=\"none\"/>\n",
              "    <path d=\"M18.56 5.44l.94 2.06.94-2.06 2.06-.94-2.06-.94-.94-2.06-.94 2.06-2.06.94zm-11 1L8.5 8.5l.94-2.06 2.06-.94-2.06-.94L8.5 2.5l-.94 2.06-2.06.94zm10 10l.94 2.06.94-2.06 2.06-.94-2.06-.94-.94-2.06-.94 2.06-2.06.94z\"/><path d=\"M17.41 7.96l-1.37-1.37c-.4-.4-.92-.59-1.43-.59-.52 0-1.04.2-1.43.59L10.3 9.45l-7.72 7.72c-.78.78-.78 2.05 0 2.83L4 21.41c.39.39.9.59 1.41.59.51 0 1.02-.2 1.41-.59l7.78-7.78 2.81-2.81c.8-.78.8-2.07 0-2.86zM5.41 20L4 18.59l7.72-7.72 1.47 1.35L5.41 20z\"/>\n",
              "  </svg>\n",
              "      </button>\n",
              "      \n",
              "  <style>\n",
              "    .colab-df-container {\n",
              "      display:flex;\n",
              "      flex-wrap:wrap;\n",
              "      gap: 12px;\n",
              "    }\n",
              "\n",
              "    .colab-df-convert {\n",
              "      background-color: #E8F0FE;\n",
              "      border: none;\n",
              "      border-radius: 50%;\n",
              "      cursor: pointer;\n",
              "      display: none;\n",
              "      fill: #1967D2;\n",
              "      height: 32px;\n",
              "      padding: 0 0 0 0;\n",
              "      width: 32px;\n",
              "    }\n",
              "\n",
              "    .colab-df-convert:hover {\n",
              "      background-color: #E2EBFA;\n",
              "      box-shadow: 0px 1px 2px rgba(60, 64, 67, 0.3), 0px 1px 3px 1px rgba(60, 64, 67, 0.15);\n",
              "      fill: #174EA6;\n",
              "    }\n",
              "\n",
              "    [theme=dark] .colab-df-convert {\n",
              "      background-color: #3B4455;\n",
              "      fill: #D2E3FC;\n",
              "    }\n",
              "\n",
              "    [theme=dark] .colab-df-convert:hover {\n",
              "      background-color: #434B5C;\n",
              "      box-shadow: 0px 1px 3px 1px rgba(0, 0, 0, 0.15);\n",
              "      filter: drop-shadow(0px 1px 2px rgba(0, 0, 0, 0.3));\n",
              "      fill: #FFFFFF;\n",
              "    }\n",
              "  </style>\n",
              "\n",
              "      <script>\n",
              "        const buttonEl =\n",
              "          document.querySelector('#df-e1567c9a-7e42-4a32-9d33-eb6cc6c3d3af button.colab-df-convert');\n",
              "        buttonEl.style.display =\n",
              "          google.colab.kernel.accessAllowed ? 'block' : 'none';\n",
              "\n",
              "        async function convertToInteractive(key) {\n",
              "          const element = document.querySelector('#df-e1567c9a-7e42-4a32-9d33-eb6cc6c3d3af');\n",
              "          const dataTable =\n",
              "            await google.colab.kernel.invokeFunction('convertToInteractive',\n",
              "                                                     [key], {});\n",
              "          if (!dataTable) return;\n",
              "\n",
              "          const docLinkHtml = 'Like what you see? Visit the ' +\n",
              "            '<a target=\"_blank\" href=https://colab.research.google.com/notebooks/data_table.ipynb>data table notebook</a>'\n",
              "            + ' to learn more about interactive tables.';\n",
              "          element.innerHTML = '';\n",
              "          dataTable['output_type'] = 'display_data';\n",
              "          await google.colab.output.renderOutput(dataTable, element);\n",
              "          const docLink = document.createElement('div');\n",
              "          docLink.innerHTML = docLinkHtml;\n",
              "          element.appendChild(docLink);\n",
              "        }\n",
              "      </script>\n",
              "    </div>\n",
              "  </div>\n",
              "  "
            ],
            "text/plain": [
              "       code      name\n",
              "0    005930      삼성전자\n",
              "1    373220  LG에너지솔루션\n",
              "2    000660    SK하이닉스\n",
              "3    207940  삼성바이오로직스\n",
              "4    035420     NAVER\n",
              "..      ...       ...\n",
              "295  000070     삼양홀딩스\n",
              "296  057050     현대홈쇼핑\n",
              "297  064960    SNT모티브\n",
              "298  192400     쿠쿠홀딩스\n",
              "299  002350     넥센타이어\n",
              "\n",
              "[300 rows x 2 columns]"
            ]
          },
          "execution_count": 21,
          "metadata": {},
          "output_type": "execute_result"
        }
      ],
      "source": [
        "# 코드, 종목 csv 파일 저장\n",
        "KOSPI_200 = pd.read_csv(\"KOSPI200.csv\", names=[\"code\",\"name\"],converters={'code':str})\n",
        "KOSPI_200"
      ]
    },
    {
      "cell_type": "markdown",
      "metadata": {
        "id": "dlPuDkhyKdlC"
      },
      "source": [
        "### code, name 정리"
      ]
    },
    {
      "cell_type": "code",
      "execution_count": null,
      "metadata": {
        "colab": {
          "base_uri": "https://localhost:8080/"
        },
        "id": "mhWLkCkoJVHe",
        "outputId": "51e6d90e-6a5f-4f1f-f809-593f8de503bb"
      },
      "outputs": [
        {
          "data": {
            "text/plain": [
              "array(['005930', '373220', '000660', '207940', '035420', '035720',\n",
              "       '005380', '006400', '051910', '000270', '005490', '105560',\n",
              "       '068270', '323410', '055550', '028260', '012330', '377300',\n",
              "       '066570', '096770', '034730', '015760', '086790', '011200',\n",
              "       '051900', '259960', '032830', '352820', '009150', '034020',\n",
              "       '017670', '302440', '003550', '033780', '316140', '010950',\n",
              "       '010130', '003490', '329180', '018260', '036570', '000810',\n",
              "       '251270', '090430', '003670', '011070', '030200', '361610',\n",
              "       '024110', '402340', '034220', '086280', '326030', '011170',\n",
              "       '009830', '018880', '009540', '032640', '035250', '097950',\n",
              "       '011790', '004020', '000720', '006800', '028050', '138040',\n",
              "       '010140', '021240', '005830', '011780', '008560', '000100',\n",
              "       '071050', '161390', '267250', '020150', '180640', '047810',\n",
              "       '003410', '078930', '006360', '241560', '139480', '005940',\n",
              "       '016360', '029780', '002790', '028670', '036460', '271560',\n",
              "       '004990', '000990', '128940', '008770', '052690', '272210',\n",
              "       '010620', '008930', '002380', '282330', '005930', '373220',\n",
              "       '000660', '207940', '035420', '035720', '005380', '006400',\n",
              "       '051910', '000270', '005490', '105560', '068270', '323410',\n",
              "       '055550', '028260', '012330', '377300', '066570', '096770',\n",
              "       '034730', '015760', '086790', '011200', '051900', '259960',\n",
              "       '032830', '352820', '009150', '034020', '017670', '302440',\n",
              "       '003550', '033780', '316140', '010950', '010130', '003490',\n",
              "       '329180', '018260', '036570', '000810', '251270', '090430',\n",
              "       '003670', '011070', '030200', '361610', '024110', '402340',\n",
              "       '034220', '086280', '326030', '011170', '009830', '018880',\n",
              "       '009540', '032640', '035250', '097950', '011790', '004020',\n",
              "       '000720', '006800', '028050', '138040', '010140', '021240',\n",
              "       '005830', '011780', '008560', '000100', '071050', '161390',\n",
              "       '267250', '020150', '180640', '047810', '003410', '078930',\n",
              "       '006360', '241560', '139480', '005940', '016360', '029780',\n",
              "       '002790', '028670', '036460', '271560', '004990', '000990',\n",
              "       '128940', '008770', '052690', '272210', '010620', '008930',\n",
              "       '002380', '282330', '000120', '007070', '047040', '001450',\n",
              "       '023530', '012450', '088350', '026960', '012750', '014680',\n",
              "       '030000', '336260', '042660', '047050', '112610', '000080',\n",
              "       '039490', '138930', '375500', '004170', '010060', '001040',\n",
              "       '285130', '006280', '000880', '204320', '064350', '298050',\n",
              "       '111770', '019170', '004000', '009240', '298020', '081660',\n",
              "       '069620', '051600', '003090', '004370', '093370', '004800',\n",
              "       '001440', '069960', '011210', '010780', '000150', '014820',\n",
              "       '006260', '007310', '020560', '120110', '079550', '005300',\n",
              "       '001230', '017800', '000240', '178920', '010120', '001120',\n",
              "       '042670', '032350', '000670', '000210', '009900', '005850',\n",
              "       '073240', '185750', '001740', '003240', '013890', '031430',\n",
              "       '005250', '079160', '016380', '105630', '009420', '006650',\n",
              "       '294870', '161890', '192820', '192080', '003520', '004490',\n",
              "       '103140', '069260', '241590', '003000', '114090', '003850',\n",
              "       '001800', '006040', '020000', '005440', '001680', '284740',\n",
              "       '006120', '000070', '057050', '064960', '192400', '002350'],\n",
              "      dtype=object)"
            ]
          },
          "execution_count": 22,
          "metadata": {},
          "output_type": "execute_result"
        }
      ],
      "source": [
        "# code list로 변환\n",
        "code = KOSPI_200['code']\n",
        "code=code.values\n",
        "code"
      ]
    },
    {
      "cell_type": "code",
      "execution_count": null,
      "metadata": {
        "colab": {
          "base_uri": "https://localhost:8080/"
        },
        "id": "Q5hqDbAgJVJU",
        "outputId": "c8c8d809-ff3d-4bb0-ac31-d0dce97fa733"
      },
      "outputs": [
        {
          "data": {
            "text/plain": [
              "array(['삼성전자', 'LG에너지솔루션', 'SK하이닉스', '삼성바이오로직스', 'NAVER', '카카오', '현대차',\n",
              "       '삼성SDI', 'LG화학', '기아', 'POSCO홀딩스', 'KB금융', '셀트리온', '카카오뱅크', '신한지주',\n",
              "       '삼성물산', '현대모비스', '카카오페이', 'LG전자', 'SK이노베이션', 'SK', '한국전력',\n",
              "       '하나금융지주', 'HMM', 'LG생활건강', '크래프톤', '삼성생명', '하이브', '삼성전기', '두산중공업',\n",
              "       'SK텔레콤', 'SK바이오사이언스', 'LG', 'KT&G', '우리금융지주', 'S-Oil', '고려아연',\n",
              "       '대한항공', '현대중공업', '삼성에스디에스', '엔씨소프트', '삼성화재', '넷마블', '아모레퍼시픽',\n",
              "       '포스코케미칼', 'LG이노텍', 'KT', 'SK아이이테크놀로지', '기업은행', 'SK스퀘어', 'LG디스플레이',\n",
              "       '현대글로비스', 'SK바이오팜', '롯데케미칼', '한화솔루션', '한온시스템', '한국조선해양', 'LG유플러스',\n",
              "       '강원랜드', 'CJ제일제당', 'SKC', '현대제철', '현대건설', '미래에셋증권', '삼성엔지니어링',\n",
              "       '메리츠금융지주', '삼성중공업', '코웨이', 'DB손해보험', '금호석유', '메리츠증권', '유한양행',\n",
              "       '한국금융지주', '한국타이어앤테크놀로지', '현대중공업지주', '일진머티리얼즈', '한진칼', '한국항공우주',\n",
              "       '쌍용C&E', 'GS', 'GS건설', '두산밥캣', '이마트', 'NH투자증권', '삼성증권', '삼성카드',\n",
              "       '아모레G', '팬오션', '한국가스공사', '오리온', '롯데지주', 'DB하이텍', '한미약품', '호텔신라',\n",
              "       '한전기술', '한화시스템', '현대미포조선', '한미사이언스', 'KCC', 'BGF리테일', '삼성전자',\n",
              "       'LG에너지솔루션', 'SK하이닉스', '삼성바이오로직스', 'NAVER', '카카오', '현대차', '삼성SDI',\n",
              "       'LG화학', '기아', 'POSCO홀딩스', 'KB금융', '셀트리온', '카카오뱅크', '신한지주', '삼성물산',\n",
              "       '현대모비스', '카카오페이', 'LG전자', 'SK이노베이션', 'SK', '한국전력', '하나금융지주', 'HMM',\n",
              "       'LG생활건강', '크래프톤', '삼성생명', '하이브', '삼성전기', '두산중공업', 'SK텔레콤',\n",
              "       'SK바이오사이언스', 'LG', 'KT&G', '우리금융지주', 'S-Oil', '고려아연', '대한항공',\n",
              "       '현대중공업', '삼성에스디에스', '엔씨소프트', '삼성화재', '넷마블', '아모레퍼시픽', '포스코케미칼',\n",
              "       'LG이노텍', 'KT', 'SK아이이테크놀로지', '기업은행', 'SK스퀘어', 'LG디스플레이', '현대글로비스',\n",
              "       'SK바이오팜', '롯데케미칼', '한화솔루션', '한온시스템', '한국조선해양', 'LG유플러스', '강원랜드',\n",
              "       'CJ제일제당', 'SKC', '현대제철', '현대건설', '미래에셋증권', '삼성엔지니어링', '메리츠금융지주',\n",
              "       '삼성중공업', '코웨이', 'DB손해보험', '금호석유', '메리츠증권', '유한양행', '한국금융지주',\n",
              "       '한국타이어앤테크놀로지', '현대중공업지주', '일진머티리얼즈', '한진칼', '한국항공우주', '쌍용C&E',\n",
              "       'GS', 'GS건설', '두산밥캣', '이마트', 'NH투자증권', '삼성증권', '삼성카드', '아모레G',\n",
              "       '팬오션', '한국가스공사', '오리온', '롯데지주', 'DB하이텍', '한미약품', '호텔신라', '한전기술',\n",
              "       '한화시스템', '현대미포조선', '한미사이언스', 'KCC', 'BGF리테일', 'CJ대한통운', 'GS리테일',\n",
              "       '대우건설', '현대해상', '롯데쇼핑', '한화에어로스페이스', '한화생명', '동서', '에스원', '한솔케미칼',\n",
              "       '제일기획', '두산퓨얼셀', '대우조선해양', '포스코인터내셔널', '씨에스윈드', '하이트진로', '키움증권',\n",
              "       'BNK금융지주', 'DL이앤씨', '신세계', 'OCI', 'CJ', 'SK케미칼', '녹십자', '한화', '만도',\n",
              "       '현대로템', '효성첨단소재', '영원무역', '신풍제약', '롯데정밀화학', '한샘', '효성티앤씨', '휠라홀딩스',\n",
              "       '대웅제약', '한전KPS', '대웅', '농심', '후성', '효성', '대한전선', '현대백화점', '현대위아',\n",
              "       '아이에스동서', '두산', '동원시스템즈', 'LS', '오뚜기', '아시아나항공', '코오롱인더', 'LIG넥스원',\n",
              "       '롯데칠성', '동국제강', '현대엘리베이', '한국앤컴퍼니', 'PI첨단소재', 'LS ELECTRIC',\n",
              "       'LX인터내셔널', '현대두산인프라코어', '롯데관광개발', '영풍', 'DL', '명신산업', '에스엘',\n",
              "       '금호타이어', '종근당', 'SK네트웍스', '태광산업', '지누스', '신세계인터내셔날', '녹십자홀딩스',\n",
              "       'CJ CGV', 'KG동부제철', '한세실업', '한올바이오파마', '대한유화', 'HDC현대산업개발', '한국콜마',\n",
              "       '코스맥스', '더블유게임즈', '영진약품', '세방전지', '풍산', '휴켐스', '화승엔터프라이즈', '부광약품',\n",
              "       'GKL', '보령제약', '오리온홀딩스', '동원산업', '한섬', '현대그린푸드', '대상', '쿠쿠홈시스',\n",
              "       'SK디스커버리', '삼양홀딩스', '현대홈쇼핑', 'SNT모티브', '쿠쿠홀딩스', '넥센타이어'],\n",
              "      dtype=object)"
            ]
          },
          "execution_count": 23,
          "metadata": {},
          "output_type": "execute_result"
        }
      ],
      "source": [
        "# name list로 변환\n",
        "name = KOSPI_200['name']\n",
        "name = name.values\n",
        "name"
      ]
    },
    {
      "cell_type": "code",
      "execution_count": null,
      "metadata": {
        "id": "AXPrarPYJVLX"
      },
      "outputs": [],
      "source": [
        "sample = []\n",
        "for c, n in zip(code, name):\n",
        "  sample.append([c, n])"
      ]
    },
    {
      "cell_type": "code",
      "execution_count": null,
      "metadata": {
        "id": "O14emQ5pJVNr"
      },
      "outputs": [],
      "source": [
        "sample"
      ]
    },
    {
      "cell_type": "code",
      "execution_count": null,
      "metadata": {
        "id": "yzaXEc8rJVPk"
      },
      "outputs": [],
      "source": [
        "len(sample)"
      ]
    },
    {
      "cell_type": "code",
      "execution_count": null,
      "metadata": {
        "id": "EBRUBBGg0lFn"
      },
      "outputs": [],
      "source": [
        ""
      ]
    },
    {
      "cell_type": "code",
      "execution_count": null,
      "metadata": {
        "id": "bk4dmZ3O0lDf"
      },
      "outputs": [],
      "source": [
        ""
      ]
    },
    {
      "cell_type": "code",
      "execution_count": null,
      "metadata": {
        "id": "46E39i8d0lBb"
      },
      "outputs": [],
      "source": [
        ""
      ]
    },
    {
      "cell_type": "code",
      "execution_count": null,
      "metadata": {
        "id": "b0lRB4-x0k_K"
      },
      "outputs": [],
      "source": [
        ""
      ]
    },
    {
      "cell_type": "code",
      "execution_count": null,
      "metadata": {
        "id": "U3b1PBvg0k84"
      },
      "outputs": [],
      "source": [
        ""
      ]
    },
    {
      "cell_type": "code",
      "execution_count": null,
      "metadata": {
        "id": "O_CNXQ-e0k6d"
      },
      "outputs": [],
      "source": [
        ""
      ]
    },
    {
      "cell_type": "code",
      "execution_count": null,
      "metadata": {
        "id": "WoMKVabI0kvW"
      },
      "outputs": [],
      "source": [
        ""
      ]
    },
    {
      "cell_type": "markdown",
      "metadata": {
        "id": "gRjb_ammuzi_"
      },
      "source": [
        "# 포스코 홀딩스\n",
        "005490"
      ]
    },
    {
      "cell_type": "code",
      "execution_count": null,
      "metadata": {
        "colab": {
          "base_uri": "https://localhost:8080/",
          "height": 112
        },
        "id": "RRo1DMuouktl",
        "outputId": "9c0b5151-b36c-41d1-a0c4-a20297660f04"
      },
      "outputs": [
        {
          "data": {
            "text/html": [
              "\n",
              "  <div id=\"df-c36bd6ab-36b0-4075-8677-7e06a8d27839\">\n",
              "    <div class=\"colab-df-container\">\n",
              "      <div>\n",
              "<style scoped>\n",
              "    .dataframe tbody tr th:only-of-type {\n",
              "        vertical-align: middle;\n",
              "    }\n",
              "\n",
              "    .dataframe tbody tr th {\n",
              "        vertical-align: top;\n",
              "    }\n",
              "\n",
              "    .dataframe thead th {\n",
              "        text-align: right;\n",
              "    }\n",
              "</style>\n",
              "<table border=\"1\" class=\"dataframe\">\n",
              "  <thead>\n",
              "    <tr style=\"text-align: right;\">\n",
              "      <th></th>\n",
              "      <th>code</th>\n",
              "      <th>name</th>\n",
              "    </tr>\n",
              "  </thead>\n",
              "  <tbody>\n",
              "    <tr>\n",
              "      <th>10</th>\n",
              "      <td>005490</td>\n",
              "      <td>POSCO홀딩스</td>\n",
              "    </tr>\n",
              "    <tr>\n",
              "      <th>110</th>\n",
              "      <td>005490</td>\n",
              "      <td>POSCO홀딩스</td>\n",
              "    </tr>\n",
              "  </tbody>\n",
              "</table>\n",
              "</div>\n",
              "      <button class=\"colab-df-convert\" onclick=\"convertToInteractive('df-c36bd6ab-36b0-4075-8677-7e06a8d27839')\"\n",
              "              title=\"Convert this dataframe to an interactive table.\"\n",
              "              style=\"display:none;\">\n",
              "        \n",
              "  <svg xmlns=\"http://www.w3.org/2000/svg\" height=\"24px\"viewBox=\"0 0 24 24\"\n",
              "       width=\"24px\">\n",
              "    <path d=\"M0 0h24v24H0V0z\" fill=\"none\"/>\n",
              "    <path d=\"M18.56 5.44l.94 2.06.94-2.06 2.06-.94-2.06-.94-.94-2.06-.94 2.06-2.06.94zm-11 1L8.5 8.5l.94-2.06 2.06-.94-2.06-.94L8.5 2.5l-.94 2.06-2.06.94zm10 10l.94 2.06.94-2.06 2.06-.94-2.06-.94-.94-2.06-.94 2.06-2.06.94z\"/><path d=\"M17.41 7.96l-1.37-1.37c-.4-.4-.92-.59-1.43-.59-.52 0-1.04.2-1.43.59L10.3 9.45l-7.72 7.72c-.78.78-.78 2.05 0 2.83L4 21.41c.39.39.9.59 1.41.59.51 0 1.02-.2 1.41-.59l7.78-7.78 2.81-2.81c.8-.78.8-2.07 0-2.86zM5.41 20L4 18.59l7.72-7.72 1.47 1.35L5.41 20z\"/>\n",
              "  </svg>\n",
              "      </button>\n",
              "      \n",
              "  <style>\n",
              "    .colab-df-container {\n",
              "      display:flex;\n",
              "      flex-wrap:wrap;\n",
              "      gap: 12px;\n",
              "    }\n",
              "\n",
              "    .colab-df-convert {\n",
              "      background-color: #E8F0FE;\n",
              "      border: none;\n",
              "      border-radius: 50%;\n",
              "      cursor: pointer;\n",
              "      display: none;\n",
              "      fill: #1967D2;\n",
              "      height: 32px;\n",
              "      padding: 0 0 0 0;\n",
              "      width: 32px;\n",
              "    }\n",
              "\n",
              "    .colab-df-convert:hover {\n",
              "      background-color: #E2EBFA;\n",
              "      box-shadow: 0px 1px 2px rgba(60, 64, 67, 0.3), 0px 1px 3px 1px rgba(60, 64, 67, 0.15);\n",
              "      fill: #174EA6;\n",
              "    }\n",
              "\n",
              "    [theme=dark] .colab-df-convert {\n",
              "      background-color: #3B4455;\n",
              "      fill: #D2E3FC;\n",
              "    }\n",
              "\n",
              "    [theme=dark] .colab-df-convert:hover {\n",
              "      background-color: #434B5C;\n",
              "      box-shadow: 0px 1px 3px 1px rgba(0, 0, 0, 0.15);\n",
              "      filter: drop-shadow(0px 1px 2px rgba(0, 0, 0, 0.3));\n",
              "      fill: #FFFFFF;\n",
              "    }\n",
              "  </style>\n",
              "\n",
              "      <script>\n",
              "        const buttonEl =\n",
              "          document.querySelector('#df-c36bd6ab-36b0-4075-8677-7e06a8d27839 button.colab-df-convert');\n",
              "        buttonEl.style.display =\n",
              "          google.colab.kernel.accessAllowed ? 'block' : 'none';\n",
              "\n",
              "        async function convertToInteractive(key) {\n",
              "          const element = document.querySelector('#df-c36bd6ab-36b0-4075-8677-7e06a8d27839');\n",
              "          const dataTable =\n",
              "            await google.colab.kernel.invokeFunction('convertToInteractive',\n",
              "                                                     [key], {});\n",
              "          if (!dataTable) return;\n",
              "\n",
              "          const docLinkHtml = 'Like what you see? Visit the ' +\n",
              "            '<a target=\"_blank\" href=https://colab.research.google.com/notebooks/data_table.ipynb>data table notebook</a>'\n",
              "            + ' to learn more about interactive tables.';\n",
              "          element.innerHTML = '';\n",
              "          dataTable['output_type'] = 'display_data';\n",
              "          await google.colab.output.renderOutput(dataTable, element);\n",
              "          const docLink = document.createElement('div');\n",
              "          docLink.innerHTML = docLinkHtml;\n",
              "          element.appendChild(docLink);\n",
              "        }\n",
              "      </script>\n",
              "    </div>\n",
              "  </div>\n",
              "  "
            ],
            "text/plain": [
              "       code      name\n",
              "10   005490  POSCO홀딩스\n",
              "110  005490  POSCO홀딩스"
            ]
          },
          "execution_count": 24,
          "metadata": {},
          "output_type": "execute_result"
        }
      ],
      "source": [
        "KOSPI_200.loc[KOSPI_200['name']=='POSCO홀딩스']"
      ]
    },
    {
      "cell_type": "code",
      "execution_count": null,
      "metadata": {
        "colab": {
          "base_uri": "https://localhost:8080/"
        },
        "id": "t6wYpAIFuy1M",
        "outputId": "f283b95f-6409-4a4d-962d-d7e7b1ee93d1"
      },
      "outputs": [
        {
          "data": {
            "text/plain": [
              "Date\n",
              "2019-01-02    237000\n",
              "2019-01-03    237000\n",
              "2019-01-04    239000\n",
              "2019-01-07    246000\n",
              "2019-01-08    245500\n",
              "               ...  \n",
              "2021-12-24    284000\n",
              "2021-12-27    281500\n",
              "2021-12-28    283500\n",
              "2021-12-29    279000\n",
              "2021-12-30    274500\n",
              "Name: Close, Length: 742, dtype: int64"
            ]
          },
          "execution_count": 25,
          "metadata": {},
          "output_type": "execute_result"
        }
      ],
      "source": [
        "POSCO_홀딩스 = fdr.DataReader('005490', '2019-01-02', '2021-12-31')['Close']\n",
        "POSCO_홀딩스"
      ]
    },
    {
      "cell_type": "markdown",
      "metadata": {
        "id": "PjPIwo1V4g3G"
      },
      "source": [
        "#### 시각화"
      ]
    },
    {
      "cell_type": "code",
      "execution_count": null,
      "metadata": {
        "colab": {
          "base_uri": "https://localhost:8080/",
          "height": 632
        },
        "id": "ycRGdrFI1nb3",
        "outputId": "982b10d0-5143-4d93-d0c7-e9660af3ab1f"
      },
      "outputs": [
        {
          "data": {
            "text/plain": [
              "<matplotlib.axes._subplots.AxesSubplot at 0x7fb418f4cf90>"
            ]
          },
          "execution_count": 26,
          "metadata": {},
          "output_type": "execute_result"
        },
        {
          "name": "stderr",
          "output_type": "stream",
          "text": [
            "findfont: Font family ['NanumBarunGothic'] not found. Falling back to DejaVu Sans.\n",
            "findfont: Font family ['NanumBarunGothic'] not found. Falling back to DejaVu Sans.\n"
          ]
        },
        {
          "data": {
            "image/png": "[encoded data removed]",
            "text/plain": [
              "<Figure size 1440x1152 with 1 Axes>"
            ]
          },
          "metadata": {},
          "output_type": "display_data"
        }
      ],
      "source": [
        "plt.rc('font', family='NanumBarunGothic')\n",
        "plt.figure(figsize=(20,16))\n",
        "plt.title(\"POSCO홀딩스\", fontsize =30)\n",
        "POSCO_홀딩스.plot()"
      ]
    },
    {
      "cell_type": "markdown",
      "metadata": {
        "id": "iiI6ouDe5Qrh"
      },
      "source": [
        "#### 데이터 나누기\n",
        "train, test 8:2"
      ]
    },
    {
      "cell_type": "code",
      "execution_count": null,
      "metadata": {
        "colab": {
          "base_uri": "https://localhost:8080/",
          "height": 575
        },
        "id": "_zqiaxCY1nZh",
        "outputId": "1772c075-cded-467b-fee9-704ede0c928a"
      },
      "outputs": [
        {
          "data": {
            "text/plain": [
              "<matplotlib.axes._subplots.AxesSubplot at 0x7fb4184a4590>"
            ]
          },
          "execution_count": 27,
          "metadata": {},
          "output_type": "execute_result"
        },
        {
          "data": {
            "image/png": "[encoded data removed]",
            "text/plain": [
              "<Figure size 1440x1152 with 1 Axes>"
            ]
          },
          "metadata": {},
          "output_type": "display_data"
        }
      ],
      "source": [
        "# train, test 데이터 나누기\n",
        "y_train = POSCO_홀딩스[:int(0.8*len(POSCO_홀딩스))]\n",
        "y_test = POSCO_홀딩스[int(0.8*len(POSCO_홀딩스)):]\n",
        "plt.figure(figsize=(20,16))\n",
        "y_train.plot()\n",
        "y_test.plot()"
      ]
    },
    {
      "cell_type": "markdown",
      "metadata": {
        "id": "s5tdEYfx5bvk"
      },
      "source": [
        "#### 차분\n"
      ]
    },
    {
      "cell_type": "code",
      "execution_count": null,
      "metadata": {
        "colab": {
          "base_uri": "https://localhost:8080/"
        },
        "id": "eQZ0CB8O1nXF",
        "outputId": "5af2f44d-b1bb-49eb-d334-1c4616b6f03b"
      },
      "outputs": [
        {
          "name": "stdout",
          "output_type": "stream",
          "text": [
            "추정된 차수 d = 1\n"
          ]
        }
      ],
      "source": [
        "kpss_diffs = ndiffs(y_train, alpha=0.05, test='kpss', max_d=6)\n",
        "adf_diffs = ndiffs(y_train, alpha=0.05, test='adf', max_d=6)\n",
        "n_diffs = max(adf_diffs, kpss_diffs)\n",
        "\n",
        "print(f\"추정된 차수 d = {n_diffs}\")"
      ]
    },
    {
      "cell_type": "markdown",
      "metadata": {
        "id": "PzbvUtpx5ryd"
      },
      "source": [
        "#### ARIMA 모형 적합"
      ]
    },
    {
      "cell_type": "code",
      "execution_count": null,
      "metadata": {
        "colab": {
          "base_uri": "https://localhost:8080/"
        },
        "id": "eEpBnTuT1nUT",
        "outputId": "a81899fd-ce3f-4a83-e7bf-a195504693ed"
      },
      "outputs": [
        {
          "name": "stdout",
          "output_type": "stream",
          "text": [
            "Performing stepwise search to minimize aic\n",
            " ARIMA(0,1,0)(0,0,0)[0] intercept   : AIC=11775.317, Time=0.07 sec\n",
            " ARIMA(1,1,0)(0,0,0)[0] intercept   : AIC=11777.312, Time=0.04 sec\n",
            " ARIMA(0,1,1)(0,0,0)[0] intercept   : AIC=11777.320, Time=0.07 sec\n",
            " ARIMA(0,1,0)(0,0,0)[0]             : AIC=11774.327, Time=0.03 sec\n",
            " ARIMA(1,1,1)(0,0,0)[0] intercept   : AIC=11779.318, Time=0.16 sec\n",
            "\n",
            "Best model:  ARIMA(0,1,0)(0,0,0)[0]          \n",
            "Total fit time: 0.381 seconds\n"
          ]
        }
      ],
      "source": [
        "model = pm.auto_arima(y = y_train        # 데이터\n",
        "                      , d = 1            # 차분 차수, ndiffs 결과!\n",
        "                      , start_p = 0 \n",
        "                      , max_p = 3   \n",
        "                      , start_q = 0 \n",
        "                      , max_q = 3   \n",
        "                      , m = 1       \n",
        "                      , seasonal = False # 계절성 ARIMA가 아니라면 필수!\n",
        "                      , stepwise = True\n",
        "                      , trace=True\n",
        "                      )"
      ]
    },
    {
      "cell_type": "markdown",
      "metadata": {
        "id": "y1HuU4415vwy"
      },
      "source": [
        "#### 잔차 검정"
      ]
    },
    {
      "cell_type": "code",
      "execution_count": null,
      "metadata": {
        "colab": {
          "base_uri": "https://localhost:8080/"
        },
        "id": "c3cVfEFP1nRr",
        "outputId": "562f0e75-e85d-494e-9855-470da7b7d74b"
      },
      "outputs": [
        {
          "name": "stdout",
          "output_type": "stream",
          "text": [
            "                               SARIMAX Results                                \n",
            "==============================================================================\n",
            "Dep. Variable:                      y   No. Observations:                  593\n",
            "Model:               SARIMAX(0, 1, 0)   Log Likelihood               -5886.164\n",
            "Date:                Wed, 30 Mar 2022   AIC                          11774.327\n",
            "Time:                        07:42:37   BIC                          11778.711\n",
            "Sample:                             0   HQIC                         11776.035\n",
            "                                - 593                                         \n",
            "Covariance Type:                  opg                                         \n",
            "==============================================================================\n",
            "                 coef    std err          z      P>|z|      [0.025      0.975]\n",
            "------------------------------------------------------------------------------\n",
            "sigma2       2.53e+07   1.01e+06     25.123      0.000    2.33e+07    2.73e+07\n",
            "===================================================================================\n",
            "Ljung-Box (L1) (Q):                   0.01   Jarque-Bera (JB):               126.16\n",
            "Prob(Q):                              0.93   Prob(JB):                         0.00\n",
            "Heteroskedasticity (H):               2.97   Skew:                             0.21\n",
            "Prob(H) (two-sided):                  0.00   Kurtosis:                         5.22\n",
            "===================================================================================\n",
            "\n",
            "Warnings:\n",
            "[1] Covariance matrix calculated using the outer product of gradients (complex-step).\n"
          ]
        }
      ],
      "source": [
        "print(model.summary())"
      ]
    },
    {
      "cell_type": "markdown",
      "metadata": {
        "id": "zGOKgsUa50td"
      },
      "source": [
        "#### 모형 refresh 및 예측"
      ]
    },
    {
      "cell_type": "code",
      "execution_count": null,
      "metadata": {
        "colab": {
          "base_uri": "https://localhost:8080/",
          "height": 265
        },
        "id": "JFJfQvlg50RB",
        "outputId": "15b30dca-dfc7-4cf8-de4d-fda62db47c49"
      },
      "outputs": [
        {
          "data": {
            "image/png": "[encoded data removed]",
            "text/plain": [
              "<Figure size 864x288 with 1 Axes>"
            ]
          },
          "metadata": {},
          "output_type": "display_data"
        }
      ],
      "source": [
        "# 테스트 데이터 개수만큼 예측\n",
        "y_predict = model.predict(n_periods=len(y_test)) \n",
        "y_predict = pd.DataFrame(y_predict,index = y_test.index,columns=['Prediction'])\n",
        "\n",
        "# 그래프\n",
        "fig, axes = plt.subplots(1, 1, figsize=(12, 4))\n",
        "plt.plot(y_train, label='Train')        # 훈련 데이터\n",
        "plt.plot(y_test, label='Test')          # 테스트 데이터\n",
        "plt.plot(y_predict, label='Prediction')  # 예측 데이터\n",
        "plt.legend()\n",
        "plt.show()"
      ]
    },
    {
      "cell_type": "code",
      "execution_count": null,
      "metadata": {
        "colab": {
          "base_uri": "https://localhost:8080/",
          "height": 455
        },
        "id": "os7c--coxZBO",
        "outputId": "0aca71fe-2730-4935-a59e-39e5a089288f"
      },
      "outputs": [
        {
          "data": {
            "text/html": [
              "\n",
              "  <div id=\"df-7286522c-79c9-4e9a-aadd-b5c6c7c8527b\">\n",
              "    <div class=\"colab-df-container\">\n",
              "      <div>\n",
              "<style scoped>\n",
              "    .dataframe tbody tr th:only-of-type {\n",
              "        vertical-align: middle;\n",
              "    }\n",
              "\n",
              "    .dataframe tbody tr th {\n",
              "        vertical-align: top;\n",
              "    }\n",
              "\n",
              "    .dataframe thead th {\n",
              "        text-align: right;\n",
              "    }\n",
              "</style>\n",
              "<table border=\"1\" class=\"dataframe\">\n",
              "  <thead>\n",
              "    <tr style=\"text-align: right;\">\n",
              "      <th></th>\n",
              "      <th>Prediction</th>\n",
              "    </tr>\n",
              "    <tr>\n",
              "      <th>Date</th>\n",
              "      <th></th>\n",
              "    </tr>\n",
              "  </thead>\n",
              "  <tbody>\n",
              "    <tr>\n",
              "      <th>2021-05-28</th>\n",
              "      <td>360000.0</td>\n",
              "    </tr>\n",
              "    <tr>\n",
              "      <th>2021-05-31</th>\n",
              "      <td>360000.0</td>\n",
              "    </tr>\n",
              "    <tr>\n",
              "      <th>2021-06-01</th>\n",
              "      <td>360000.0</td>\n",
              "    </tr>\n",
              "    <tr>\n",
              "      <th>2021-06-02</th>\n",
              "      <td>360000.0</td>\n",
              "    </tr>\n",
              "    <tr>\n",
              "      <th>2021-06-03</th>\n",
              "      <td>360000.0</td>\n",
              "    </tr>\n",
              "    <tr>\n",
              "      <th>...</th>\n",
              "      <td>...</td>\n",
              "    </tr>\n",
              "    <tr>\n",
              "      <th>2021-12-24</th>\n",
              "      <td>360000.0</td>\n",
              "    </tr>\n",
              "    <tr>\n",
              "      <th>2021-12-27</th>\n",
              "      <td>360000.0</td>\n",
              "    </tr>\n",
              "    <tr>\n",
              "      <th>2021-12-28</th>\n",
              "      <td>360000.0</td>\n",
              "    </tr>\n",
              "    <tr>\n",
              "      <th>2021-12-29</th>\n",
              "      <td>360000.0</td>\n",
              "    </tr>\n",
              "    <tr>\n",
              "      <th>2021-12-30</th>\n",
              "      <td>360000.0</td>\n",
              "    </tr>\n",
              "  </tbody>\n",
              "</table>\n",
              "<p>149 rows × 1 columns</p>\n",
              "</div>\n",
              "      <button class=\"colab-df-convert\" onclick=\"convertToInteractive('df-7286522c-79c9-4e9a-aadd-b5c6c7c8527b')\"\n",
              "              title=\"Convert this dataframe to an interactive table.\"\n",
              "              style=\"display:none;\">\n",
              "        \n",
              "  <svg xmlns=\"http://www.w3.org/2000/svg\" height=\"24px\"viewBox=\"0 0 24 24\"\n",
              "       width=\"24px\">\n",
              "    <path d=\"M0 0h24v24H0V0z\" fill=\"none\"/>\n",
              "    <path d=\"M18.56 5.44l.94 2.06.94-2.06 2.06-.94-2.06-.94-.94-2.06-.94 2.06-2.06.94zm-11 1L8.5 8.5l.94-2.06 2.06-.94-2.06-.94L8.5 2.5l-.94 2.06-2.06.94zm10 10l.94 2.06.94-2.06 2.06-.94-2.06-.94-.94-2.06-.94 2.06-2.06.94z\"/><path d=\"M17.41 7.96l-1.37-1.37c-.4-.4-.92-.59-1.43-.59-.52 0-1.04.2-1.43.59L10.3 9.45l-7.72 7.72c-.78.78-.78 2.05 0 2.83L4 21.41c.39.39.9.59 1.41.59.51 0 1.02-.2 1.41-.59l7.78-7.78 2.81-2.81c.8-.78.8-2.07 0-2.86zM5.41 20L4 18.59l7.72-7.72 1.47 1.35L5.41 20z\"/>\n",
              "  </svg>\n",
              "      </button>\n",
              "      \n",
              "  <style>\n",
              "    .colab-df-container {\n",
              "      display:flex;\n",
              "      flex-wrap:wrap;\n",
              "      gap: 12px;\n",
              "    }\n",
              "\n",
              "    .colab-df-convert {\n",
              "      background-color: #E8F0FE;\n",
              "      border: none;\n",
              "      border-radius: 50%;\n",
              "      cursor: pointer;\n",
              "      display: none;\n",
              "      fill: #1967D2;\n",
              "      height: 32px;\n",
              "      padding: 0 0 0 0;\n",
              "      width: 32px;\n",
              "    }\n",
              "\n",
              "    .colab-df-convert:hover {\n",
              "      background-color: #E2EBFA;\n",
              "      box-shadow: 0px 1px 2px rgba(60, 64, 67, 0.3), 0px 1px 3px 1px rgba(60, 64, 67, 0.15);\n",
              "      fill: #174EA6;\n",
              "    }\n",
              "\n",
              "    [theme=dark] .colab-df-convert {\n",
              "      background-color: #3B4455;\n",
              "      fill: #D2E3FC;\n",
              "    }\n",
              "\n",
              "    [theme=dark] .colab-df-convert:hover {\n",
              "      background-color: #434B5C;\n",
              "      box-shadow: 0px 1px 3px 1px rgba(0, 0, 0, 0.15);\n",
              "      filter: drop-shadow(0px 1px 2px rgba(0, 0, 0, 0.3));\n",
              "      fill: #FFFFFF;\n",
              "    }\n",
              "  </style>\n",
              "\n",
              "      <script>\n",
              "        const buttonEl =\n",
              "          document.querySelector('#df-7286522c-79c9-4e9a-aadd-b5c6c7c8527b button.colab-df-convert');\n",
              "        buttonEl.style.display =\n",
              "          google.colab.kernel.accessAllowed ? 'block' : 'none';\n",
              "\n",
              "        async function convertToInteractive(key) {\n",
              "          const element = document.querySelector('#df-7286522c-79c9-4e9a-aadd-b5c6c7c8527b');\n",
              "          const dataTable =\n",
              "            await google.colab.kernel.invokeFunction('convertToInteractive',\n",
              "                                                     [key], {});\n",
              "          if (!dataTable) return;\n",
              "\n",
              "          const docLinkHtml = 'Like what you see? Visit the ' +\n",
              "            '<a target=\"_blank\" href=https://colab.research.google.com/notebooks/data_table.ipynb>data table notebook</a>'\n",
              "            + ' to learn more about interactive tables.';\n",
              "          element.innerHTML = '';\n",
              "          dataTable['output_type'] = 'display_data';\n",
              "          await google.colab.output.renderOutput(dataTable, element);\n",
              "          const docLink = document.createElement('div');\n",
              "          docLink.innerHTML = docLinkHtml;\n",
              "          element.appendChild(docLink);\n",
              "        }\n",
              "      </script>\n",
              "    </div>\n",
              "  </div>\n",
              "  "
            ],
            "text/plain": [
              "            Prediction\n",
              "Date                  \n",
              "2021-05-28    360000.0\n",
              "2021-05-31    360000.0\n",
              "2021-06-01    360000.0\n",
              "2021-06-02    360000.0\n",
              "2021-06-03    360000.0\n",
              "...                ...\n",
              "2021-12-24    360000.0\n",
              "2021-12-27    360000.0\n",
              "2021-12-28    360000.0\n",
              "2021-12-29    360000.0\n",
              "2021-12-30    360000.0\n",
              "\n",
              "[149 rows x 1 columns]"
            ]
          },
          "execution_count": 32,
          "metadata": {},
          "output_type": "execute_result"
        }
      ],
      "source": [
        "y_predict"
      ]
    },
    {
      "cell_type": "code",
      "execution_count": null,
      "metadata": {
        "id": "repWP7Uf50YF"
      },
      "outputs": [],
      "source": [
        "def forecast_one_step():\n",
        "    fc, conf_int = model.predict(n_periods=1 # 한 스텝씩!\n",
        "        , return_conf_int=True)              # 신뢰구간 출력\n",
        "    return (\n",
        "        fc.tolist()[0],\n",
        "        np.asarray(conf_int).tolist()[0]\n",
        "    )"
      ]
    },
    {
      "cell_type": "code",
      "execution_count": null,
      "metadata": {
        "id": "puT1UB9P50UO"
      },
      "outputs": [],
      "source": [
        "forecasts = []\n",
        "y_pred = []\n",
        "pred_upper = []\n",
        "pred_lower = []\n",
        "\n",
        "for new_ob in y_test:\n",
        "    fc, conf = forecast_one_step()\n",
        "    y_pred.append(fc)\n",
        "    pred_upper.append(conf[1])\n",
        "    pred_lower.append(conf[0])\n",
        "\n",
        "    ## 모형 업데이트 !!\n",
        "    model.update(new_ob)"
      ]
    },
    {
      "cell_type": "code",
      "execution_count": null,
      "metadata": {
        "id": "uXSMkp9e5766"
      },
      "outputs": [],
      "source": [
        "pd.DataFrame({\"test\": y_test, \"pred\": y_pred})"
      ]
    },
    {
      "cell_type": "markdown",
      "metadata": {
        "id": "2l646lkY59rd"
      },
      "source": [
        "#### 잘 적합됐는지 시각화"
      ]
    },
    {
      "cell_type": "code",
      "execution_count": null,
      "metadata": {
        "id": "gFD4CJ1558fW"
      },
      "outputs": [],
      "source": [
        "from plotly.subplots import make_subplots\n",
        "import plotly.graph_objects as go\n",
        "\n",
        "fig = go.Figure([\n",
        "    # 훈련 데이터-------------------------------------------------------\n",
        "    go.Scatter(x = y_train.index, y = y_train, name = \"Train\", mode = 'lines'\n",
        "              ,line=dict(color = 'royalblue'))\n",
        "    # 테스트 데이터------------------------------------------------------\n",
        "    , go.Scatter(x = y_test.index, y = y_test, name = \"Test\", mode = 'lines'\n",
        "                ,line = dict(color = 'rgba(0,0,30,0.5)'))\n",
        "    # 예측값-----------------------------------------------------------\n",
        "    , go.Scatter(x = y_test.index, y = y_pred, name = \"Prediction\", mode = 'lines'\n",
        "                     ,line = dict(color = 'red', dash = 'dot', width=3))\n",
        "    \n",
        "    # 신뢰 구간---------------------------------------------------------\n",
        "    , go.Scatter(x = y_test.index.tolist() + y_test.index[::-1].tolist() \n",
        "                ,y = pred_upper + pred_lower[::-1] ## 상위 신뢰 구간 -> 하위 신뢰 구간 역순으로\n",
        "                ,fill='toself'\n",
        "                ,fillcolor='rgba(0,0,30,0.1)'\n",
        "                ,line=dict(color='rgba(0,0,0,0)')\n",
        "                ,hoverinfo=\"skip\"\n",
        "                ,showlegend=False)\n",
        "])\n",
        "\n",
        "fig.update_layout(height=400, width=1000, title_text=\"ARIMA(0,1,0)모형\")\n",
        "fig.show()"
      ]
    },
    {
      "cell_type": "markdown",
      "metadata": {
        "id": "zDxkNcbk6DUr"
      },
      "source": [
        "#### 모델 평가\n",
        "MAPE"
      ]
    },
    {
      "cell_type": "code",
      "execution_count": null,
      "metadata": {
        "id": "dYgKCI6m58cc"
      },
      "outputs": [],
      "source": [
        "def MAPE(y_test, y_pred):\n",
        "\treturn np.mean(np.abs((y_test - y_pred) / y_test)) * 100 \n",
        "    \n",
        "print(f\"MAPE: {MAPE(y_test, y_pred):.3f}\")"
      ]
    },
    {
      "cell_type": "markdown",
      "metadata": {
        "id": "0rGaktSIzs_4"
      },
      "source": [
        "# 팬오션\n",
        "028670"
      ]
    },
    {
      "cell_type": "code",
      "execution_count": null,
      "metadata": {
        "id": "BWUpofbHuy3a"
      },
      "outputs": [],
      "source": [
        "KOSPI_200.loc[KOSPI_200['name']=='팬오션']"
      ]
    },
    {
      "cell_type": "code",
      "execution_count": null,
      "metadata": {
        "id": "E4lJ3PUuuy5X"
      },
      "outputs": [],
      "source": [
        "팬오션 = fdr.DataReader('028670', '2019-01-02', '2021-12-31')['Close']\n",
        "팬오션"
      ]
    },
    {
      "cell_type": "markdown",
      "metadata": {
        "id": "YNpeJMDd4l1p"
      },
      "source": [
        "#### 시각화"
      ]
    },
    {
      "cell_type": "code",
      "execution_count": null,
      "metadata": {
        "id": "X5kslyAu2qo5"
      },
      "outputs": [],
      "source": [
        "plt.rc('font', family='NanumBarunGothic')\n",
        "plt.figure(figsize=(20,16))\n",
        "plt.title(\"팬오션\", fontsize =30)\n",
        "팬오션.plot()"
      ]
    },
    {
      "cell_type": "code",
      "execution_count": null,
      "metadata": {
        "id": "hiEdO1xY2qku"
      },
      "outputs": [],
      "source": [
        ""
      ]
    },
    {
      "cell_type": "markdown",
      "metadata": {
        "id": "iaZC8tx06aeG"
      },
      "source": [
        "#### 데이터 나누기\n",
        "train, test 8:2"
      ]
    },
    {
      "cell_type": "code",
      "execution_count": null,
      "metadata": {
        "id": "HsSEf_Ry6aeK"
      },
      "outputs": [],
      "source": [
        "# train, test 데이터 나누기\n",
        "y_train = 팬오션[:int(0.8*len(팬오션))]\n",
        "y_test = 팬오션[int(0.8*len(팬오션)):]\n",
        "plt.figure(figsize=(20,16))\n",
        "y_train.plot()\n",
        "y_test.plot()"
      ]
    },
    {
      "cell_type": "markdown",
      "metadata": {
        "id": "6D0tppBH6aeL"
      },
      "source": [
        "#### 차분\n"
      ]
    },
    {
      "cell_type": "code",
      "execution_count": null,
      "metadata": {
        "id": "2XLO8jur6aeL"
      },
      "outputs": [],
      "source": [
        "kpss_diffs = ndiffs(y_train, alpha=0.05, test='kpss', max_d=6)\n",
        "adf_diffs = ndiffs(y_train, alpha=0.05, test='adf', max_d=6)\n",
        "n_diffs = max(adf_diffs, kpss_diffs)\n",
        "\n",
        "print(f\"추정된 차수 d = {n_diffs}\")"
      ]
    },
    {
      "cell_type": "markdown",
      "metadata": {
        "id": "zBasFmDv6aeL"
      },
      "source": [
        "#### ARIMA 모형 적합"
      ]
    },
    {
      "cell_type": "code",
      "execution_count": null,
      "metadata": {
        "id": "L4qG7dYH6aeL"
      },
      "outputs": [],
      "source": [
        "model = pm.auto_arima(y = y_train        # 데이터\n",
        "                      , d = 1            # 차분 차수, ndiffs 결과!\n",
        "                      , start_p = 0 \n",
        "                      , max_p = 3   \n",
        "                      , start_q = 0 \n",
        "                      , max_q = 3   \n",
        "                      , m = 1       \n",
        "                      , seasonal = False # 계절성 ARIMA가 아니라면 필수!\n",
        "                      , stepwise = True\n",
        "                      , trace=True\n",
        "                      )"
      ]
    },
    {
      "cell_type": "markdown",
      "metadata": {
        "id": "7i-mkQLx6aeL"
      },
      "source": [
        "#### 잔차 검정"
      ]
    },
    {
      "cell_type": "code",
      "execution_count": null,
      "metadata": {
        "id": "sVMW8tqN6aeL"
      },
      "outputs": [],
      "source": [
        "print(model.summary())"
      ]
    },
    {
      "cell_type": "markdown",
      "metadata": {
        "id": "sCIDuTdV6aeL"
      },
      "source": [
        "#### 모형 refresh 및 예측"
      ]
    },
    {
      "cell_type": "code",
      "execution_count": null,
      "metadata": {
        "id": "oLoZEjPE6aeL"
      },
      "outputs": [],
      "source": [
        "# 테스트 데이터 개수만큼 예측\n",
        "y_predict = model.predict(n_periods=len(y_test)) \n",
        "y_predict = pd.DataFrame(y_predict,index = y_test.index,columns=['Prediction'])\n",
        "\n",
        "# 그래프\n",
        "fig, axes = plt.subplots(1, 1, figsize=(12, 4))\n",
        "plt.plot(y_train, label='Train')        # 훈련 데이터\n",
        "plt.plot(y_test, label='Test')          # 테스트 데이터\n",
        "plt.plot(y_predict, label='Prediction')  # 예측 데이터\n",
        "plt.legend()\n",
        "plt.show()"
      ]
    },
    {
      "cell_type": "code",
      "execution_count": null,
      "metadata": {
        "id": "fPCBtOoQ6aeL"
      },
      "outputs": [],
      "source": [
        "def forecast_one_step():\n",
        "    fc, conf_int = model.predict(n_periods=1 # 한 스텝씩!\n",
        "        , return_conf_int=True)              # 신뢰구간 출력\n",
        "    return (\n",
        "        fc.tolist()[0],\n",
        "        np.asarray(conf_int).tolist()[0]\n",
        "    )"
      ]
    },
    {
      "cell_type": "code",
      "execution_count": null,
      "metadata": {
        "id": "IXiqcicD6aeM"
      },
      "outputs": [],
      "source": [
        "forecasts = []\n",
        "y_pred = []\n",
        "pred_upper = []\n",
        "pred_lower = []\n",
        "\n",
        "for new_ob in y_test:\n",
        "    fc, conf = forecast_one_step()\n",
        "    y_pred.append(fc)\n",
        "    pred_upper.append(conf[1])\n",
        "    pred_lower.append(conf[0])\n",
        "\n",
        "    ## 모형 업데이트 !!\n",
        "    model.update(new_ob)"
      ]
    },
    {
      "cell_type": "code",
      "execution_count": null,
      "metadata": {
        "id": "WIUwR9GN6aeM"
      },
      "outputs": [],
      "source": [
        "pd.DataFrame({\"test\": y_test, \"pred\": y_pred})"
      ]
    },
    {
      "cell_type": "markdown",
      "metadata": {
        "id": "2fz4E8yu6aeM"
      },
      "source": [
        "#### 잘 적합됐는지 시각화"
      ]
    },
    {
      "cell_type": "code",
      "execution_count": null,
      "metadata": {
        "id": "uzeQewH46aeM"
      },
      "outputs": [],
      "source": [
        "from plotly.subplots import make_subplots\n",
        "import plotly.graph_objects as go\n",
        "\n",
        "fig = go.Figure([\n",
        "    # 훈련 데이터-------------------------------------------------------\n",
        "    go.Scatter(x = y_train.index, y = y_train, name = \"Train\", mode = 'lines'\n",
        "              ,line=dict(color = 'royalblue'))\n",
        "    # 테스트 데이터------------------------------------------------------\n",
        "    , go.Scatter(x = y_test.index, y = y_test, name = \"Test\", mode = 'lines'\n",
        "                ,line = dict(color = 'rgba(0,0,30,0.5)'))\n",
        "    # 예측값-----------------------------------------------------------\n",
        "    , go.Scatter(x = y_test.index, y = y_pred, name = \"Prediction\", mode = 'lines'\n",
        "                     ,line = dict(color = 'red', dash = 'dot', width=3))\n",
        "    \n",
        "    # 신뢰 구간---------------------------------------------------------\n",
        "    , go.Scatter(x = y_test.index.tolist() + y_test.index[::-1].tolist() \n",
        "                ,y = pred_upper + pred_lower[::-1] ## 상위 신뢰 구간 -> 하위 신뢰 구간 역순으로\n",
        "                ,fill='toself'\n",
        "                ,fillcolor='rgba(0,0,30,0.1)'\n",
        "                ,line=dict(color='rgba(0,0,0,0)')\n",
        "                ,hoverinfo=\"skip\"\n",
        "                ,showlegend=False)\n",
        "])\n",
        "\n",
        "fig.update_layout(height=400, width=1000, title_text=\"ARIMA(1,1,0)모형\")\n",
        "fig.show()"
      ]
    },
    {
      "cell_type": "markdown",
      "metadata": {
        "id": "KpG4-Ugk6aeM"
      },
      "source": [
        "#### 모델 평가\n",
        "MAPE"
      ]
    },
    {
      "cell_type": "code",
      "execution_count": null,
      "metadata": {
        "id": "_60Wg7Wx6aeM"
      },
      "outputs": [],
      "source": [
        "def MAPE(y_test, y_pred):\n",
        "\treturn np.mean(np.abs((y_test - y_pred) / y_test)) * 100 \n",
        "    \n",
        "print(f\"MAPE: {MAPE(y_test, y_pred):.3f}\")"
      ]
    },
    {
      "cell_type": "code",
      "execution_count": null,
      "metadata": {
        "id": "Nhcj04RB2qhx"
      },
      "outputs": [],
      "source": [
        ""
      ]
    },
    {
      "cell_type": "code",
      "execution_count": null,
      "metadata": {
        "id": "6ly6X_uR2qfZ"
      },
      "outputs": [],
      "source": [
        ""
      ]
    },
    {
      "cell_type": "code",
      "execution_count": null,
      "metadata": {
        "id": "LCesoNIq2qbj"
      },
      "outputs": [],
      "source": [
        ""
      ]
    },
    {
      "cell_type": "markdown",
      "metadata": {
        "id": "n5wCgXKCzuMQ"
      },
      "source": [
        "# 태광산업\n",
        "003240"
      ]
    },
    {
      "cell_type": "code",
      "execution_count": null,
      "metadata": {
        "id": "u-uQQu1vuy7d"
      },
      "outputs": [],
      "source": [
        "KOSPI_200.loc[KOSPI_200['name']=='태광산업']"
      ]
    },
    {
      "cell_type": "code",
      "execution_count": null,
      "metadata": {
        "id": "4UVGhD3kuy9g"
      },
      "outputs": [],
      "source": [
        "태광산업 = fdr.DataReader('003240', '2019-01-02', '2021-12-31')['Close']\n",
        "태광산업"
      ]
    },
    {
      "cell_type": "markdown",
      "metadata": {
        "id": "ul103P2M4m5m"
      },
      "source": [
        "#### 시각화"
      ]
    },
    {
      "cell_type": "code",
      "execution_count": null,
      "metadata": {
        "id": "XABJR56N2rx9"
      },
      "outputs": [],
      "source": [
        "plt.rc('font', family='NanumBarunGothic')\n",
        "plt.figure(figsize=(20,16))\n",
        "plt.title(\"태광산업\", fontsize =30)\n",
        "태광산업.plot()"
      ]
    },
    {
      "cell_type": "code",
      "execution_count": null,
      "metadata": {
        "id": "0I_S9z392ruF"
      },
      "outputs": [],
      "source": [
        ""
      ]
    },
    {
      "cell_type": "markdown",
      "metadata": {
        "id": "y3ikB62w6bPI"
      },
      "source": [
        "#### 데이터 나누기\n",
        "train, test 8:2"
      ]
    },
    {
      "cell_type": "code",
      "execution_count": null,
      "metadata": {
        "id": "Fs25rmB86bPI"
      },
      "outputs": [],
      "source": [
        "# train, test 데이터 나누기\n",
        "y_train = 태광산업[:int(0.8*len(태광산업))]\n",
        "y_test = 태광산업[int(0.8*len(태광산업)):]\n",
        "plt.figure(figsize=(20,16))\n",
        "y_train.plot()\n",
        "y_test.plot()"
      ]
    },
    {
      "cell_type": "markdown",
      "metadata": {
        "id": "lGZLvVuR6bPI"
      },
      "source": [
        "#### 차분\n"
      ]
    },
    {
      "cell_type": "code",
      "execution_count": null,
      "metadata": {
        "id": "Od1TCcfo6bPI"
      },
      "outputs": [],
      "source": [
        "kpss_diffs = ndiffs(y_train, alpha=0.05, test='kpss', max_d=6)\n",
        "adf_diffs = ndiffs(y_train, alpha=0.05, test='adf', max_d=6)\n",
        "n_diffs = max(adf_diffs, kpss_diffs)\n",
        "\n",
        "print(f\"추정된 차수 d = {n_diffs}\")"
      ]
    },
    {
      "cell_type": "markdown",
      "metadata": {
        "id": "Vcm-ufe56bPJ"
      },
      "source": [
        "#### ARIMA 모형 적합"
      ]
    },
    {
      "cell_type": "code",
      "execution_count": null,
      "metadata": {
        "id": "Rel8z4lg6bPJ"
      },
      "outputs": [],
      "source": [
        "model = pm.auto_arima(y = y_train        # 데이터\n",
        "                      , d = 1            # 차분 차수, ndiffs 결과!\n",
        "                      , start_p = 0 \n",
        "                      , max_p = 3   \n",
        "                      , start_q = 0 \n",
        "                      , max_q = 3   \n",
        "                      , m = 1       \n",
        "                      , seasonal = False # 계절성 ARIMA가 아니라면 필수!\n",
        "                      , stepwise = True\n",
        "                      , trace=True\n",
        "                      )"
      ]
    },
    {
      "cell_type": "markdown",
      "metadata": {
        "id": "9bG1G9vv6bPJ"
      },
      "source": [
        "#### 잔차 검정"
      ]
    },
    {
      "cell_type": "code",
      "execution_count": null,
      "metadata": {
        "id": "pFjZVDgD6bPJ"
      },
      "outputs": [],
      "source": [
        "print(model.summary())"
      ]
    },
    {
      "cell_type": "markdown",
      "metadata": {
        "id": "rLxDZvy66bPJ"
      },
      "source": [
        "#### 모형 refresh 및 예측"
      ]
    },
    {
      "cell_type": "code",
      "execution_count": null,
      "metadata": {
        "id": "tg0SjeSm6bPJ"
      },
      "outputs": [],
      "source": [
        "# 테스트 데이터 개수만큼 예측\n",
        "y_predict = model.predict(n_periods=len(y_test)) \n",
        "y_predict = pd.DataFrame(y_predict,index = y_test.index,columns=['Prediction'])\n",
        "\n",
        "# 그래프\n",
        "fig, axes = plt.subplots(1, 1, figsize=(12, 4))\n",
        "plt.plot(y_train, label='Train')        # 훈련 데이터\n",
        "plt.plot(y_test, label='Test')          # 테스트 데이터\n",
        "plt.plot(y_predict, label='Prediction')  # 예측 데이터\n",
        "plt.legend()\n",
        "plt.show()"
      ]
    },
    {
      "cell_type": "code",
      "execution_count": null,
      "metadata": {
        "id": "npNB_zMx6bPJ"
      },
      "outputs": [],
      "source": [
        "def forecast_one_step():\n",
        "    fc, conf_int = model.predict(n_periods=1 # 한 스텝씩!\n",
        "        , return_conf_int=True)              # 신뢰구간 출력\n",
        "    return (\n",
        "        fc.tolist()[0],\n",
        "        np.asarray(conf_int).tolist()[0]\n",
        "    )"
      ]
    },
    {
      "cell_type": "code",
      "execution_count": null,
      "metadata": {
        "id": "k1Cv36cl6bPJ"
      },
      "outputs": [],
      "source": [
        "forecasts = []\n",
        "y_pred = []\n",
        "pred_upper = []\n",
        "pred_lower = []\n",
        "\n",
        "for new_ob in y_test:\n",
        "    fc, conf = forecast_one_step()\n",
        "    y_pred.append(fc)\n",
        "    pred_upper.append(conf[1])\n",
        "    pred_lower.append(conf[0])\n",
        "\n",
        "    ## 모형 업데이트 !!\n",
        "    model.update(new_ob)"
      ]
    },
    {
      "cell_type": "code",
      "execution_count": null,
      "metadata": {
        "id": "Of5lOHO46bPJ"
      },
      "outputs": [],
      "source": [
        "pd.DataFrame({\"test\": y_test, \"pred\": y_pred})"
      ]
    },
    {
      "cell_type": "markdown",
      "metadata": {
        "id": "jmIG04bf6bPJ"
      },
      "source": [
        "#### 잘 적합됐는지 시각화"
      ]
    },
    {
      "cell_type": "code",
      "execution_count": null,
      "metadata": {
        "id": "EljKkbAU6bPK"
      },
      "outputs": [],
      "source": [
        "from plotly.subplots import make_subplots\n",
        "import plotly.graph_objects as go\n",
        "\n",
        "fig = go.Figure([\n",
        "    # 훈련 데이터-------------------------------------------------------\n",
        "    go.Scatter(x = y_train.index, y = y_train, name = \"Train\", mode = 'lines'\n",
        "              ,line=dict(color = 'royalblue'))\n",
        "    # 테스트 데이터------------------------------------------------------\n",
        "    , go.Scatter(x = y_test.index, y = y_test, name = \"Test\", mode = 'lines'\n",
        "                ,line = dict(color = 'rgba(0,0,30,0.5)'))\n",
        "    # 예측값-----------------------------------------------------------\n",
        "    , go.Scatter(x = y_test.index, y = y_pred, name = \"Prediction\", mode = 'lines'\n",
        "                     ,line = dict(color = 'red', dash = 'dot', width=3))\n",
        "    \n",
        "    # 신뢰 구간---------------------------------------------------------\n",
        "    , go.Scatter(x = y_test.index.tolist() + y_test.index[::-1].tolist() \n",
        "                ,y = pred_upper + pred_lower[::-1] ## 상위 신뢰 구간 -> 하위 신뢰 구간 역순으로\n",
        "                ,fill='toself'\n",
        "                ,fillcolor='rgba(0,0,30,0.1)'\n",
        "                ,line=dict(color='rgba(0,0,0,0)')\n",
        "                ,hoverinfo=\"skip\"\n",
        "                ,showlegend=False)\n",
        "])\n",
        "\n",
        "fig.update_layout(height=400, width=1000, title_text=\"ARIMA(0,1,0)모형\")\n",
        "fig.show()"
      ]
    },
    {
      "cell_type": "markdown",
      "metadata": {
        "id": "zaZBve_G6bPK"
      },
      "source": [
        "#### 모델 평가\n",
        "MAPE"
      ]
    },
    {
      "cell_type": "code",
      "execution_count": null,
      "metadata": {
        "id": "oZHQXfot6bPK"
      },
      "outputs": [],
      "source": [
        "def MAPE(y_test, y_pred):\n",
        "\treturn np.mean(np.abs((y_test - y_pred) / y_test)) * 100 \n",
        "    \n",
        "print(f\"MAPE: {MAPE(y_test, y_pred):.3f}\")"
      ]
    },
    {
      "cell_type": "code",
      "execution_count": null,
      "metadata": {
        "id": "vu4tZXSi2rrc"
      },
      "outputs": [],
      "source": [
        ""
      ]
    },
    {
      "cell_type": "code",
      "execution_count": null,
      "metadata": {
        "id": "oH7SNd5s2roj"
      },
      "outputs": [],
      "source": [
        ""
      ]
    },
    {
      "cell_type": "code",
      "execution_count": null,
      "metadata": {
        "id": "KbpXFLXW2rmD"
      },
      "outputs": [],
      "source": [
        ""
      ]
    },
    {
      "cell_type": "markdown",
      "metadata": {
        "id": "g8yDCVeYzvPh"
      },
      "source": [
        "# 아이에스동서\n",
        "010780"
      ]
    },
    {
      "cell_type": "code",
      "execution_count": null,
      "metadata": {
        "id": "Y1Cg5UnPuy_i"
      },
      "outputs": [],
      "source": [
        "KOSPI_200.loc[KOSPI_200['name']=='아이에스동서']"
      ]
    },
    {
      "cell_type": "code",
      "execution_count": null,
      "metadata": {
        "id": "Ni-Y_bxEuzBo"
      },
      "outputs": [],
      "source": [
        "아이에스동서 = fdr.DataReader('010780', '2019-01-02', '2021-12-31')['Close']\n",
        "아이에스동서"
      ]
    },
    {
      "cell_type": "markdown",
      "metadata": {
        "id": "yI8QZRKR4oRo"
      },
      "source": [
        "#### 시각화"
      ]
    },
    {
      "cell_type": "code",
      "execution_count": null,
      "metadata": {
        "id": "d5JkJKHwuzD4"
      },
      "outputs": [],
      "source": [
        "plt.rc('font', family='NanumBarunGothic')\n",
        "plt.figure(figsize=(20,16))\n",
        "plt.title(\"아이에스동서\", fontsize =30)\n",
        "아이에스동서.plot()"
      ]
    },
    {
      "cell_type": "markdown",
      "metadata": {
        "id": "43_hJWy-6b5Q"
      },
      "source": [
        "#### 데이터 나누기\n",
        "train, test 8:2"
      ]
    },
    {
      "cell_type": "code",
      "execution_count": null,
      "metadata": {
        "id": "pbrdK4gy6b5Q"
      },
      "outputs": [],
      "source": [
        "# train, test 데이터 나누기\n",
        "y_train = 아이에스동서[:int(0.8*len(아이에스동서))]\n",
        "y_test = 아이에스동서[int(0.8*len(아이에스동서)):]\n",
        "plt.figure(figsize=(20,16))\n",
        "y_train.plot()\n",
        "y_test.plot()"
      ]
    },
    {
      "cell_type": "markdown",
      "metadata": {
        "id": "4CsuLGlA6b5Q"
      },
      "source": [
        "#### 차분\n"
      ]
    },
    {
      "cell_type": "code",
      "execution_count": null,
      "metadata": {
        "id": "vTyteHP46b5Q"
      },
      "outputs": [],
      "source": [
        "kpss_diffs = ndiffs(y_train, alpha=0.05, test='kpss', max_d=6)\n",
        "adf_diffs = ndiffs(y_train, alpha=0.05, test='adf', max_d=6)\n",
        "n_diffs = max(adf_diffs, kpss_diffs)\n",
        "\n",
        "print(f\"추정된 차수 d = {n_diffs}\")"
      ]
    },
    {
      "cell_type": "markdown",
      "metadata": {
        "id": "TpXQa45b6b5Q"
      },
      "source": [
        "#### ARIMA 모형 적합"
      ]
    },
    {
      "cell_type": "code",
      "execution_count": null,
      "metadata": {
        "id": "MdIgXDgB6b5R"
      },
      "outputs": [],
      "source": [
        "model = pm.auto_arima(y = y_train        # 데이터\n",
        "                      , d = 1            # 차분 차수, ndiffs 결과!\n",
        "                      , start_p = 0 \n",
        "                      , max_p = 3   \n",
        "                      , start_q = 0 \n",
        "                      , max_q = 3   \n",
        "                      , m = 1       \n",
        "                      , seasonal = False # 계절성 ARIMA가 아니라면 필수!\n",
        "                      , stepwise = True\n",
        "                      , trace=True\n",
        "                      )"
      ]
    },
    {
      "cell_type": "markdown",
      "metadata": {
        "id": "M0gPbzd96b5R"
      },
      "source": [
        "#### 잔차 검정"
      ]
    },
    {
      "cell_type": "code",
      "execution_count": null,
      "metadata": {
        "id": "r23yalnm6b5R"
      },
      "outputs": [],
      "source": [
        "print(model.summary())"
      ]
    },
    {
      "cell_type": "markdown",
      "metadata": {
        "id": "tu6pxLmR6b5R"
      },
      "source": [
        "#### 모형 refresh 및 예측"
      ]
    },
    {
      "cell_type": "code",
      "execution_count": null,
      "metadata": {
        "id": "3l4Myvpx6b5R"
      },
      "outputs": [],
      "source": [
        "# 테스트 데이터 개수만큼 예측\n",
        "y_predict = model.predict(n_periods=len(y_test)) \n",
        "y_predict = pd.DataFrame(y_predict,index = y_test.index,columns=['Prediction'])\n",
        "\n",
        "# 그래프\n",
        "fig, axes = plt.subplots(1, 1, figsize=(12, 4))\n",
        "plt.plot(y_train, label='Train')        # 훈련 데이터\n",
        "plt.plot(y_test, label='Test')          # 테스트 데이터\n",
        "plt.plot(y_predict, label='Prediction')  # 예측 데이터\n",
        "plt.legend()\n",
        "plt.show()"
      ]
    },
    {
      "cell_type": "code",
      "execution_count": null,
      "metadata": {
        "id": "oGkmf1r0xFVv"
      },
      "outputs": [],
      "source": [
        "y_predict"
      ]
    },
    {
      "cell_type": "code",
      "execution_count": null,
      "metadata": {
        "id": "8QZVtp336b5R"
      },
      "outputs": [],
      "source": [
        "def forecast_one_step():\n",
        "    fc, conf_int = model.predict(n_periods=1 # 한 스텝씩!\n",
        "        , return_conf_int=True)              # 신뢰구간 출력\n",
        "    return (\n",
        "        fc.tolist()[0],\n",
        "        np.asarray(conf_int).tolist()[0]\n",
        "    )"
      ]
    },
    {
      "cell_type": "code",
      "execution_count": null,
      "metadata": {
        "id": "VuA49b_I6b5R"
      },
      "outputs": [],
      "source": [
        "forecasts = []\n",
        "y_pred = []\n",
        "pred_upper = []\n",
        "pred_lower = []\n",
        "\n",
        "for new_ob in y_test:\n",
        "    fc, conf = forecast_one_step()\n",
        "    y_pred.append(fc)\n",
        "    pred_upper.append(conf[1])\n",
        "    pred_lower.append(conf[0])\n",
        "\n",
        "    ## 모형 업데이트 !!\n",
        "    model.update(new_ob)"
      ]
    },
    {
      "cell_type": "code",
      "execution_count": null,
      "metadata": {
        "colab": {
          "base_uri": "https://localhost:8080/",
          "height": 455
        },
        "id": "tH-z57GM6b5R",
        "outputId": "1545f24e-0f6c-4825-a45b-da6d44ded894"
      },
      "outputs": [
        {
          "data": {
            "text/html": [
              "\n",
              "  <div id=\"df-7ed4c42c-fe92-4f42-86a1-c8283172d060\">\n",
              "    <div class=\"colab-df-container\">\n",
              "      <div>\n",
              "<style scoped>\n",
              "    .dataframe tbody tr th:only-of-type {\n",
              "        vertical-align: middle;\n",
              "    }\n",
              "\n",
              "    .dataframe tbody tr th {\n",
              "        vertical-align: top;\n",
              "    }\n",
              "\n",
              "    .dataframe thead th {\n",
              "        text-align: right;\n",
              "    }\n",
              "</style>\n",
              "<table border=\"1\" class=\"dataframe\">\n",
              "  <thead>\n",
              "    <tr style=\"text-align: right;\">\n",
              "      <th></th>\n",
              "      <th>test</th>\n",
              "      <th>pred</th>\n",
              "    </tr>\n",
              "    <tr>\n",
              "      <th>Date</th>\n",
              "      <th></th>\n",
              "      <th></th>\n",
              "    </tr>\n",
              "  </thead>\n",
              "  <tbody>\n",
              "    <tr>\n",
              "      <th>2021-05-28</th>\n",
              "      <td>61000</td>\n",
              "      <td>60300.0</td>\n",
              "    </tr>\n",
              "    <tr>\n",
              "      <th>2021-05-31</th>\n",
              "      <td>60000</td>\n",
              "      <td>61000.0</td>\n",
              "    </tr>\n",
              "    <tr>\n",
              "      <th>2021-06-01</th>\n",
              "      <td>60700</td>\n",
              "      <td>60000.0</td>\n",
              "    </tr>\n",
              "    <tr>\n",
              "      <th>2021-06-02</th>\n",
              "      <td>59700</td>\n",
              "      <td>60700.0</td>\n",
              "    </tr>\n",
              "    <tr>\n",
              "      <th>2021-06-03</th>\n",
              "      <td>59100</td>\n",
              "      <td>59700.0</td>\n",
              "    </tr>\n",
              "    <tr>\n",
              "      <th>...</th>\n",
              "      <td>...</td>\n",
              "      <td>...</td>\n",
              "    </tr>\n",
              "    <tr>\n",
              "      <th>2021-12-24</th>\n",
              "      <td>43700</td>\n",
              "      <td>42550.0</td>\n",
              "    </tr>\n",
              "    <tr>\n",
              "      <th>2021-12-27</th>\n",
              "      <td>44500</td>\n",
              "      <td>43700.0</td>\n",
              "    </tr>\n",
              "    <tr>\n",
              "      <th>2021-12-28</th>\n",
              "      <td>44100</td>\n",
              "      <td>44500.0</td>\n",
              "    </tr>\n",
              "    <tr>\n",
              "      <th>2021-12-29</th>\n",
              "      <td>44700</td>\n",
              "      <td>44100.0</td>\n",
              "    </tr>\n",
              "    <tr>\n",
              "      <th>2021-12-30</th>\n",
              "      <td>44250</td>\n",
              "      <td>44700.0</td>\n",
              "    </tr>\n",
              "  </tbody>\n",
              "</table>\n",
              "<p>149 rows × 2 columns</p>\n",
              "</div>\n",
              "      <button class=\"colab-df-convert\" onclick=\"convertToInteractive('df-7ed4c42c-fe92-4f42-86a1-c8283172d060')\"\n",
              "              title=\"Convert this dataframe to an interactive table.\"\n",
              "              style=\"display:none;\">\n",
              "        \n",
              "  <svg xmlns=\"http://www.w3.org/2000/svg\" height=\"24px\"viewBox=\"0 0 24 24\"\n",
              "       width=\"24px\">\n",
              "    <path d=\"M0 0h24v24H0V0z\" fill=\"none\"/>\n",
              "    <path d=\"M18.56 5.44l.94 2.06.94-2.06 2.06-.94-2.06-.94-.94-2.06-.94 2.06-2.06.94zm-11 1L8.5 8.5l.94-2.06 2.06-.94-2.06-.94L8.5 2.5l-.94 2.06-2.06.94zm10 10l.94 2.06.94-2.06 2.06-.94-2.06-.94-.94-2.06-.94 2.06-2.06.94z\"/><path d=\"M17.41 7.96l-1.37-1.37c-.4-.4-.92-.59-1.43-.59-.52 0-1.04.2-1.43.59L10.3 9.45l-7.72 7.72c-.78.78-.78 2.05 0 2.83L4 21.41c.39.39.9.59 1.41.59.51 0 1.02-.2 1.41-.59l7.78-7.78 2.81-2.81c.8-.78.8-2.07 0-2.86zM5.41 20L4 18.59l7.72-7.72 1.47 1.35L5.41 20z\"/>\n",
              "  </svg>\n",
              "      </button>\n",
              "      \n",
              "  <style>\n",
              "    .colab-df-container {\n",
              "      display:flex;\n",
              "      flex-wrap:wrap;\n",
              "      gap: 12px;\n",
              "    }\n",
              "\n",
              "    .colab-df-convert {\n",
              "      background-color: #E8F0FE;\n",
              "      border: none;\n",
              "      border-radius: 50%;\n",
              "      cursor: pointer;\n",
              "      display: none;\n",
              "      fill: #1967D2;\n",
              "      height: 32px;\n",
              "      padding: 0 0 0 0;\n",
              "      width: 32px;\n",
              "    }\n",
              "\n",
              "    .colab-df-convert:hover {\n",
              "      background-color: #E2EBFA;\n",
              "      box-shadow: 0px 1px 2px rgba(60, 64, 67, 0.3), 0px 1px 3px 1px rgba(60, 64, 67, 0.15);\n",
              "      fill: #174EA6;\n",
              "    }\n",
              "\n",
              "    [theme=dark] .colab-df-convert {\n",
              "      background-color: #3B4455;\n",
              "      fill: #D2E3FC;\n",
              "    }\n",
              "\n",
              "    [theme=dark] .colab-df-convert:hover {\n",
              "      background-color: #434B5C;\n",
              "      box-shadow: 0px 1px 3px 1px rgba(0, 0, 0, 0.15);\n",
              "      filter: drop-shadow(0px 1px 2px rgba(0, 0, 0, 0.3));\n",
              "      fill: #FFFFFF;\n",
              "    }\n",
              "  </style>\n",
              "\n",
              "      <script>\n",
              "        const buttonEl =\n",
              "          document.querySelector('#df-7ed4c42c-fe92-4f42-86a1-c8283172d060 button.colab-df-convert');\n",
              "        buttonEl.style.display =\n",
              "          google.colab.kernel.accessAllowed ? 'block' : 'none';\n",
              "\n",
              "        async function convertToInteractive(key) {\n",
              "          const element = document.querySelector('#df-7ed4c42c-fe92-4f42-86a1-c8283172d060');\n",
              "          const dataTable =\n",
              "            await google.colab.kernel.invokeFunction('convertToInteractive',\n",
              "                                                     [key], {});\n",
              "          if (!dataTable) return;\n",
              "\n",
              "          const docLinkHtml = 'Like what you see? Visit the ' +\n",
              "            '<a target=\"_blank\" href=https://colab.research.google.com/notebooks/data_table.ipynb>data table notebook</a>'\n",
              "            + ' to learn more about interactive tables.';\n",
              "          element.innerHTML = '';\n",
              "          dataTable['output_type'] = 'display_data';\n",
              "          await google.colab.output.renderOutput(dataTable, element);\n",
              "          const docLink = document.createElement('div');\n",
              "          docLink.innerHTML = docLinkHtml;\n",
              "          element.appendChild(docLink);\n",
              "        }\n",
              "      </script>\n",
              "    </div>\n",
              "  </div>\n",
              "  "
            ],
            "text/plain": [
              "             test     pred\n",
              "Date                      \n",
              "2021-05-28  61000  60300.0\n",
              "2021-05-31  60000  61000.0\n",
              "2021-06-01  60700  60000.0\n",
              "2021-06-02  59700  60700.0\n",
              "2021-06-03  59100  59700.0\n",
              "...           ...      ...\n",
              "2021-12-24  43700  42550.0\n",
              "2021-12-27  44500  43700.0\n",
              "2021-12-28  44100  44500.0\n",
              "2021-12-29  44700  44100.0\n",
              "2021-12-30  44250  44700.0\n",
              "\n",
              "[149 rows x 2 columns]"
            ]
          },
          "execution_count": 72,
          "metadata": {},
          "output_type": "execute_result"
        }
      ],
      "source": [
        "pd.DataFrame({\"test\": y_test, \"pred\": y_pred})"
      ]
    },
    {
      "cell_type": "markdown",
      "metadata": {
        "id": "eCx5rR2D6b5R"
      },
      "source": [
        "#### 잘 적합됐는지 시각화"
      ]
    },
    {
      "cell_type": "code",
      "execution_count": null,
      "metadata": {
        "colab": {
          "base_uri": "https://localhost:8080/",
          "height": 437
        },
        "id": "FezWWnMu6b5R",
        "outputId": "d3b62364-84d5-49cc-bf34-717dd86b4202"
      },
      "outputs": [
        {
          "data": {
            "text/html": [
              "<html>\n",
              "<head><meta charset=\"utf-8\" /></head>\n",
              "<body>\n",
              "    <div>            <script src=\"https://cdnjs.cloudflare.com/ajax/libs/mathjax/2.7.5/MathJax.js?config=TeX-AMS-MML_SVG\"></script><script type=\"text/javascript\">if (window.MathJax) {MathJax.Hub.Config({SVG: {font: \"STIX-Web\"}});}</script>                <script type=\"text/javascript\">window.PlotlyConfig = {MathJaxConfig: 'local'};</script>\n",
              "        <script src=\"https://cdn.plot.ly/plotly-2.8.3.min.js\"></script>                <div id=\"849d4ba8-fb82-4651-aff9-018fab414a7b\" class=\"plotly-graph-div\" style=\"height:400px; width:1000px;\"></div>            <script type=\"text/javascript\">                                    window.PLOTLYENV=window.PLOTLYENV || {};                                    if (document.getElementById(\"849d4ba8-fb82-4651-aff9-018fab414a7b\")) {                    Plotly.newPlot(                        \"849d4ba8-fb82-4651-aff9-018fab414a7b\",                        [{\"line\":{\"color\":\"royalblue\"},\"mode\":\"lines\",\"name\":\"Train\",\"x\":[\"2019-01-02T00:00:00\",\"2019-01-03T00:00:00\",\"2019-01-04T00:00:00\",\"2019-01-07T00:00:00\",\"2019-01-08T00:00:00\",\"2019-01-09T00:00:00\",\"2019-01-10T00:00:00\",\"2019-01-11T00:00:00\",\"2019-01-14T00:00:00\",\"2019-01-15T00:00:00\",\"2019-01-16T00:00:00\",\"2019-01-17T00:00:00\",\"2019-01-18T00:00:00\",\"2019-01-21T00:00:00\",\"2019-01-22T00:00:00\",\"2019-01-23T00:00:00\",\"2019-01-24T00:00:00\",\"2019-01-25T00:00:00\",\"2019-01-28T00:00:00\",\"2019-01-29T00:00:00\",\"2019-01-30T00:00:00\",\"2019-01-31T00:00:00\",\"2019-02-01T00:00:00\",\"2019-02-07T00:00:00\",\"2019-02-08T00:00:00\",\"2019-02-11T00:00:00\",\"2019-02-12T00:00:00\",\"2019-02-13T00:00:00\",\"2019-02-14T00:00:00\",\"2019-02-15T00:00:00\",\"2019-02-18T00:00:00\",\"2019-02-19T00:00:00\",\"2019-02-20T00:00:00\",\"2019-02-21T00:00:00\",\"2019-02-22T00:00:00\",\"2019-02-25T00:00:00\",\"2019-02-26T00:00:00\",\"2019-02-27T00:00:00\",\"2019-02-28T00:00:00\",\"2019-03-04T00:00:00\",\"2019-03-05T00:00:00\",\"2019-03-06T00:00:00\",\"2019-03-07T00:00:00\",\"2019-03-08T00:00:00\",\"2019-03-11T00:00:00\",\"2019-03-12T00:00:00\",\"2019-03-13T00:00:00\",\"2019-03-14T00:00:00\",\"2019-03-15T00:00:00\",\"2019-03-18T00:00:00\",\"2019-03-19T00:00:00\",\"2019-03-20T00:00:00\",\"2019-03-21T00:00:00\",\"2019-03-22T00:00:00\",\"2019-03-25T00:00:00\",\"2019-03-26T00:00:00\",\"2019-03-27T00:00:00\",\"2019-03-28T00:00:00\",\"2019-03-29T00:00:00\",\"2019-04-01T00:00:00\",\"2019-04-02T00:00:00\",\"2019-04-03T00:00:00\",\"2019-04-04T00:00:00\",\"2019-04-05T00:00:00\",\"2019-04-08T00:00:00\",\"2019-04-09T00:00:00\",\"2019-04-10T00:00:00\",\"2019-04-11T00:00:00\",\"2019-04-12T00:00:00\",\"2019-04-15T00:00:00\",\"2019-04-16T00:00:00\",\"2019-04-17T00:00:00\",\"2019-04-18T00:00:00\",\"2019-04-19T00:00:00\",\"2019-04-22T00:00:00\",\"2019-04-23T00:00:00\",\"2019-04-24T00:00:00\",\"2019-04-25T00:00:00\",\"2019-04-26T00:00:00\",\"2019-04-29T00:00:00\",\"2019-04-30T00:00:00\",\"2019-05-02T00:00:00\",\"2019-05-03T00:00:00\",\"2019-05-07T00:00:00\",\"2019-05-08T00:00:00\",\"2019-05-09T00:00:00\",\"2019-05-10T00:00:00\",\"2019-05-13T00:00:00\",\"2019-05-14T00:00:00\",\"2019-05-15T00:00:00\",\"2019-05-16T00:00:00\",\"2019-05-17T00:00:00\",\"2019-05-20T00:00:00\",\"2019-05-21T00:00:00\",\"2019-05-22T00:00:00\",\"2019-05-23T00:00:00\",\"2019-05-24T00:00:00\",\"2019-05-27T00:00:00\",\"2019-05-28T00:00:00\",\"2019-05-29T00:00:00\",\"2019-05-30T00:00:00\",\"2019-05-31T00:00:00\",\"2019-06-03T00:00:00\",\"2019-06-04T00:00:00\",\"2019-06-05T00:00:00\",\"2019-06-07T00:00:00\",\"2019-06-10T00:00:00\",\"2019-06-11T00:00:00\",\"2019-06-12T00:00:00\",\"2019-06-13T00:00:00\",\"2019-06-14T00:00:00\",\"2019-06-17T00:00:00\",\"2019-06-18T00:00:00\",\"2019-06-19T00:00:00\",\"2019-06-20T00:00:00\",\"2019-06-21T00:00:00\",\"2019-06-24T00:00:00\",\"2019-06-25T00:00:00\",\"2019-06-26T00:00:00\",\"2019-06-27T00:00:00\",\"2019-06-28T00:00:00\",\"2019-07-01T00:00:00\",\"2019-07-02T00:00:00\",\"2019-07-03T00:00:00\",\"2019-07-04T00:00:00\",\"2019-07-05T00:00:00\",\"2019-07-08T00:00:00\",\"2019-07-09T00:00:00\",\"2019-07-10T00:00:00\",\"2019-07-11T00:00:00\",\"2019-07-12T00:00:00\",\"2019-07-15T00:00:00\",\"2019-07-16T00:00:00\",\"2019-07-17T00:00:00\",\"2019-07-18T00:00:00\",\"2019-07-19T00:00:00\",\"2019-07-22T00:00:00\",\"2019-07-23T00:00:00\",\"2019-07-24T00:00:00\",\"2019-07-25T00:00:00\",\"2019-07-26T00:00:00\",\"2019-07-29T00:00:00\",\"2019-07-30T00:00:00\",\"2019-07-31T00:00:00\",\"2019-08-01T00:00:00\",\"2019-08-02T00:00:00\",\"2019-08-05T00:00:00\",\"2019-08-06T00:00:00\",\"2019-08-07T00:00:00\",\"2019-08-08T00:00:00\",\"2019-08-09T00:00:00\",\"2019-08-12T00:00:00\",\"2019-08-13T00:00:00\",\"2019-08-14T00:00:00\",\"2019-08-16T00:00:00\",\"2019-08-19T00:00:00\",\"2019-08-20T00:00:00\",\"2019-08-21T00:00:00\",\"2019-08-22T00:00:00\",\"2019-08-23T00:00:00\",\"2019-08-26T00:00:00\",\"2019-08-27T00:00:00\",\"2019-08-28T00:00:00\",\"2019-08-29T00:00:00\",\"2019-08-30T00:00:00\",\"2019-09-02T00:00:00\",\"2019-09-03T00:00:00\",\"2019-09-04T00:00:00\",\"2019-09-05T00:00:00\",\"2019-09-06T00:00:00\",\"2019-09-09T00:00:00\",\"2019-09-10T00:00:00\",\"2019-09-11T00:00:00\",\"2019-09-16T00:00:00\",\"2019-09-17T00:00:00\",\"2019-09-18T00:00:00\",\"2019-09-19T00:00:00\",\"2019-09-20T00:00:00\",\"2019-09-23T00:00:00\",\"2019-09-24T00:00:00\",\"2019-09-25T00:00:00\",\"2019-09-26T00:00:00\",\"2019-09-27T00:00:00\",\"2019-09-30T00:00:00\",\"2019-10-01T00:00:00\",\"2019-10-02T00:00:00\",\"2019-10-04T00:00:00\",\"2019-10-07T00:00:00\",\"2019-10-08T00:00:00\",\"2019-10-10T00:00:00\",\"2019-10-11T00:00:00\",\"2019-10-14T00:00:00\",\"2019-10-15T00:00:00\",\"2019-10-16T00:00:00\",\"2019-10-17T00:00:00\",\"2019-10-18T00:00:00\",\"2019-10-21T00:00:00\",\"2019-10-22T00:00:00\",\"2019-10-23T00:00:00\",\"2019-10-24T00:00:00\",\"2019-10-25T00:00:00\",\"2019-10-28T00:00:00\",\"2019-10-29T00:00:00\",\"2019-10-30T00:00:00\",\"2019-10-31T00:00:00\",\"2019-11-01T00:00:00\",\"2019-11-04T00:00:00\",\"2019-11-05T00:00:00\",\"2019-11-06T00:00:00\",\"2019-11-07T00:00:00\",\"2019-11-08T00:00:00\",\"2019-11-11T00:00:00\",\"2019-11-12T00:00:00\",\"2019-11-13T00:00:00\",\"2019-11-14T00:00:00\",\"2019-11-15T00:00:00\",\"2019-11-18T00:00:00\",\"2019-11-19T00:00:00\",\"2019-11-20T00:00:00\",\"2019-11-21T00:00:00\",\"2019-11-22T00:00:00\",\"2019-11-25T00:00:00\",\"2019-11-26T00:00:00\",\"2019-11-27T00:00:00\",\"2019-11-28T00:00:00\",\"2019-11-29T00:00:00\",\"2019-12-02T00:00:00\",\"2019-12-03T00:00:00\",\"2019-12-04T00:00:00\",\"2019-12-05T00:00:00\",\"2019-12-06T00:00:00\",\"2019-12-09T00:00:00\",\"2019-12-10T00:00:00\",\"2019-12-11T00:00:00\",\"2019-12-12T00:00:00\",\"2019-12-13T00:00:00\",\"2019-12-16T00:00:00\",\"2019-12-17T00:00:00\",\"2019-12-18T00:00:00\",\"2019-12-19T00:00:00\",\"2019-12-20T00:00:00\",\"2019-12-23T00:00:00\",\"2019-12-24T00:00:00\",\"2019-12-26T00:00:00\",\"2019-12-27T00:00:00\",\"2019-12-30T00:00:00\",\"2020-01-02T00:00:00\",\"2020-01-03T00:00:00\",\"2020-01-06T00:00:00\",\"2020-01-07T00:00:00\",\"2020-01-08T00:00:00\",\"2020-01-09T00:00:00\",\"2020-01-10T00:00:00\",\"2020-01-13T00:00:00\",\"2020-01-14T00:00:00\",\"2020-01-15T00:00:00\",\"2020-01-16T00:00:00\",\"2020-01-17T00:00:00\",\"2020-01-20T00:00:00\",\"2020-01-21T00:00:00\",\"2020-01-22T00:00:00\",\"2020-01-23T00:00:00\",\"2020-01-28T00:00:00\",\"2020-01-29T00:00:00\",\"2020-01-30T00:00:00\",\"2020-01-31T00:00:00\",\"2020-02-03T00:00:00\",\"2020-02-04T00:00:00\",\"2020-02-05T00:00:00\",\"2020-02-06T00:00:00\",\"2020-02-07T00:00:00\",\"2020-02-10T00:00:00\",\"2020-02-11T00:00:00\",\"2020-02-12T00:00:00\",\"2020-02-13T00:00:00\",\"2020-02-14T00:00:00\",\"2020-02-17T00:00:00\",\"2020-02-18T00:00:00\",\"2020-02-19T00:00:00\",\"2020-02-20T00:00:00\",\"2020-02-21T00:00:00\",\"2020-02-24T00:00:00\",\"2020-02-25T00:00:00\",\"2020-02-26T00:00:00\",\"2020-02-27T00:00:00\",\"2020-02-28T00:00:00\",\"2020-03-02T00:00:00\",\"2020-03-03T00:00:00\",\"2020-03-04T00:00:00\",\"2020-03-05T00:00:00\",\"2020-03-06T00:00:00\",\"2020-03-09T00:00:00\",\"2020-03-10T00:00:00\",\"2020-03-11T00:00:00\",\"2020-03-12T00:00:00\",\"2020-03-13T00:00:00\",\"2020-03-16T00:00:00\",\"2020-03-17T00:00:00\",\"2020-03-18T00:00:00\",\"2020-03-19T00:00:00\",\"2020-03-20T00:00:00\",\"2020-03-23T00:00:00\",\"2020-03-24T00:00:00\",\"2020-03-25T00:00:00\",\"2020-03-26T00:00:00\",\"2020-03-27T00:00:00\",\"2020-03-30T00:00:00\",\"2020-03-31T00:00:00\",\"2020-04-01T00:00:00\",\"2020-04-02T00:00:00\",\"2020-04-03T00:00:00\",\"2020-04-06T00:00:00\",\"2020-04-07T00:00:00\",\"2020-04-08T00:00:00\",\"2020-04-09T00:00:00\",\"2020-04-10T00:00:00\",\"2020-04-13T00:00:00\",\"2020-04-14T00:00:00\",\"2020-04-16T00:00:00\",\"2020-04-17T00:00:00\",\"2020-04-20T00:00:00\",\"2020-04-21T00:00:00\",\"2020-04-22T00:00:00\",\"2020-04-23T00:00:00\",\"2020-04-24T00:00:00\",\"2020-04-27T00:00:00\",\"2020-04-28T00:00:00\",\"2020-04-29T00:00:00\",\"2020-05-04T00:00:00\",\"2020-05-06T00:00:00\",\"2020-05-07T00:00:00\",\"2020-05-08T00:00:00\",\"2020-05-11T00:00:00\",\"2020-05-12T00:00:00\",\"2020-05-13T00:00:00\",\"2020-05-14T00:00:00\",\"2020-05-15T00:00:00\",\"2020-05-18T00:00:00\",\"2020-05-19T00:00:00\",\"2020-05-20T00:00:00\",\"2020-05-21T00:00:00\",\"2020-05-22T00:00:00\",\"2020-05-25T00:00:00\",\"2020-05-26T00:00:00\",\"2020-05-27T00:00:00\",\"2020-05-28T00:00:00\",\"2020-05-29T00:00:00\",\"2020-06-01T00:00:00\",\"2020-06-02T00:00:00\",\"2020-06-03T00:00:00\",\"2020-06-04T00:00:00\",\"2020-06-05T00:00:00\",\"2020-06-08T00:00:00\",\"2020-06-09T00:00:00\",\"2020-06-10T00:00:00\",\"2020-06-11T00:00:00\",\"2020-06-12T00:00:00\",\"2020-06-15T00:00:00\",\"2020-06-16T00:00:00\",\"2020-06-17T00:00:00\",\"2020-06-18T00:00:00\",\"2020-06-19T00:00:00\",\"2020-06-22T00:00:00\",\"2020-06-23T00:00:00\",\"2020-06-24T00:00:00\",\"2020-06-25T00:00:00\",\"2020-06-26T00:00:00\",\"2020-06-29T00:00:00\",\"2020-06-30T00:00:00\",\"2020-07-01T00:00:00\",\"2020-07-02T00:00:00\",\"2020-07-03T00:00:00\",\"2020-07-06T00:00:00\",\"2020-07-07T00:00:00\",\"2020-07-08T00:00:00\",\"2020-07-09T00:00:00\",\"2020-07-10T00:00:00\",\"2020-07-13T00:00:00\",\"2020-07-14T00:00:00\",\"2020-07-15T00:00:00\",\"2020-07-16T00:00:00\",\"2020-07-17T00:00:00\",\"2020-07-20T00:00:00\",\"2020-07-21T00:00:00\",\"2020-07-22T00:00:00\",\"2020-07-23T00:00:00\",\"2020-07-24T00:00:00\",\"2020-07-27T00:00:00\",\"2020-07-28T00:00:00\",\"2020-07-29T00:00:00\",\"2020-07-30T00:00:00\",\"2020-07-31T00:00:00\",\"2020-08-03T00:00:00\",\"2020-08-04T00:00:00\",\"2020-08-05T00:00:00\",\"2020-08-06T00:00:00\",\"2020-08-07T00:00:00\",\"2020-08-10T00:00:00\",\"2020-08-11T00:00:00\",\"2020-08-12T00:00:00\",\"2020-08-13T00:00:00\",\"2020-08-14T00:00:00\",\"2020-08-18T00:00:00\",\"2020-08-19T00:00:00\",\"2020-08-20T00:00:00\",\"2020-08-21T00:00:00\",\"2020-08-24T00:00:00\",\"2020-08-25T00:00:00\",\"2020-08-26T00:00:00\",\"2020-08-27T00:00:00\",\"2020-08-28T00:00:00\",\"2020-08-31T00:00:00\",\"2020-09-01T00:00:00\",\"2020-09-02T00:00:00\",\"2020-09-03T00:00:00\",\"2020-09-04T00:00:00\",\"2020-09-07T00:00:00\",\"2020-09-08T00:00:00\",\"2020-09-09T00:00:00\",\"2020-09-10T00:00:00\",\"2020-09-11T00:00:00\",\"2020-09-14T00:00:00\",\"2020-09-15T00:00:00\",\"2020-09-16T00:00:00\",\"2020-09-17T00:00:00\",\"2020-09-18T00:00:00\",\"2020-09-21T00:00:00\",\"2020-09-22T00:00:00\",\"2020-09-23T00:00:00\",\"2020-09-24T00:00:00\",\"2020-09-25T00:00:00\",\"2020-09-28T00:00:00\",\"2020-09-29T00:00:00\",\"2020-10-05T00:00:00\",\"2020-10-06T00:00:00\",\"2020-10-07T00:00:00\",\"2020-10-08T00:00:00\",\"2020-10-12T00:00:00\",\"2020-10-13T00:00:00\",\"2020-10-14T00:00:00\",\"2020-10-15T00:00:00\",\"2020-10-16T00:00:00\",\"2020-10-19T00:00:00\",\"2020-10-20T00:00:00\",\"2020-10-21T00:00:00\",\"2020-10-22T00:00:00\",\"2020-10-23T00:00:00\",\"2020-10-26T00:00:00\",\"2020-10-27T00:00:00\",\"2020-10-28T00:00:00\",\"2020-10-29T00:00:00\",\"2020-10-30T00:00:00\",\"2020-11-02T00:00:00\",\"2020-11-03T00:00:00\",\"2020-11-04T00:00:00\",\"2020-11-05T00:00:00\",\"2020-11-06T00:00:00\",\"2020-11-09T00:00:00\",\"2020-11-10T00:00:00\",\"2020-11-11T00:00:00\",\"2020-11-12T00:00:00\",\"2020-11-13T00:00:00\",\"2020-11-16T00:00:00\",\"2020-11-17T00:00:00\",\"2020-11-18T00:00:00\",\"2020-11-19T00:00:00\",\"2020-11-20T00:00:00\",\"2020-11-23T00:00:00\",\"2020-11-24T00:00:00\",\"2020-11-25T00:00:00\",\"2020-11-26T00:00:00\",\"2020-11-27T00:00:00\",\"2020-11-30T00:00:00\",\"2020-12-01T00:00:00\",\"2020-12-02T00:00:00\",\"2020-12-03T00:00:00\",\"2020-12-04T00:00:00\",\"2020-12-07T00:00:00\",\"2020-12-08T00:00:00\",\"2020-12-09T00:00:00\",\"2020-12-10T00:00:00\",\"2020-12-11T00:00:00\",\"2020-12-14T00:00:00\",\"2020-12-15T00:00:00\",\"2020-12-16T00:00:00\",\"2020-12-17T00:00:00\",\"2020-12-18T00:00:00\",\"2020-12-21T00:00:00\",\"2020-12-22T00:00:00\",\"2020-12-23T00:00:00\",\"2020-12-24T00:00:00\",\"2020-12-28T00:00:00\",\"2020-12-29T00:00:00\",\"2020-12-30T00:00:00\",\"2021-01-04T00:00:00\",\"2021-01-05T00:00:00\",\"2021-01-06T00:00:00\",\"2021-01-07T00:00:00\",\"2021-01-08T00:00:00\",\"2021-01-11T00:00:00\",\"2021-01-12T00:00:00\",\"2021-01-13T00:00:00\",\"2021-01-14T00:00:00\",\"2021-01-15T00:00:00\",\"2021-01-18T00:00:00\",\"2021-01-19T00:00:00\",\"2021-01-20T00:00:00\",\"2021-01-21T00:00:00\",\"2021-01-22T00:00:00\",\"2021-01-25T00:00:00\",\"2021-01-26T00:00:00\",\"2021-01-27T00:00:00\",\"2021-01-28T00:00:00\",\"2021-01-29T00:00:00\",\"2021-02-01T00:00:00\",\"2021-02-02T00:00:00\",\"2021-02-03T00:00:00\",\"2021-02-04T00:00:00\",\"2021-02-05T00:00:00\",\"2021-02-08T00:00:00\",\"2021-02-09T00:00:00\",\"2021-02-10T00:00:00\",\"2021-02-15T00:00:00\",\"2021-02-16T00:00:00\",\"2021-02-17T00:00:00\",\"2021-02-18T00:00:00\",\"2021-02-19T00:00:00\",\"2021-02-22T00:00:00\",\"2021-02-23T00:00:00\",\"2021-02-24T00:00:00\",\"2021-02-25T00:00:00\",\"2021-02-26T00:00:00\",\"2021-03-02T00:00:00\",\"2021-03-03T00:00:00\",\"2021-03-04T00:00:00\",\"2021-03-05T00:00:00\",\"2021-03-08T00:00:00\",\"2021-03-09T00:00:00\",\"2021-03-10T00:00:00\",\"2021-03-11T00:00:00\",\"2021-03-12T00:00:00\",\"2021-03-15T00:00:00\",\"2021-03-16T00:00:00\",\"2021-03-17T00:00:00\",\"2021-03-18T00:00:00\",\"2021-03-19T00:00:00\",\"2021-03-22T00:00:00\",\"2021-03-23T00:00:00\",\"2021-03-24T00:00:00\",\"2021-03-25T00:00:00\",\"2021-03-26T00:00:00\",\"2021-03-29T00:00:00\",\"2021-03-30T00:00:00\",\"2021-03-31T00:00:00\",\"2021-04-01T00:00:00\",\"2021-04-02T00:00:00\",\"2021-04-05T00:00:00\",\"2021-04-06T00:00:00\",\"2021-04-07T00:00:00\",\"2021-04-08T00:00:00\",\"2021-04-09T00:00:00\",\"2021-04-12T00:00:00\",\"2021-04-13T00:00:00\",\"2021-04-14T00:00:00\",\"2021-04-15T00:00:00\",\"2021-04-16T00:00:00\",\"2021-04-19T00:00:00\",\"2021-04-20T00:00:00\",\"2021-04-21T00:00:00\",\"2021-04-22T00:00:00\",\"2021-04-23T00:00:00\",\"2021-04-26T00:00:00\",\"2021-04-27T00:00:00\",\"2021-04-28T00:00:00\",\"2021-04-29T00:00:00\",\"2021-04-30T00:00:00\",\"2021-05-03T00:00:00\",\"2021-05-04T00:00:00\",\"2021-05-06T00:00:00\",\"2021-05-07T00:00:00\",\"2021-05-10T00:00:00\",\"2021-05-11T00:00:00\",\"2021-05-12T00:00:00\",\"2021-05-13T00:00:00\",\"2021-05-14T00:00:00\",\"2021-05-17T00:00:00\",\"2021-05-18T00:00:00\",\"2021-05-20T00:00:00\",\"2021-05-21T00:00:00\",\"2021-05-24T00:00:00\",\"2021-05-25T00:00:00\",\"2021-05-26T00:00:00\",\"2021-05-27T00:00:00\"],\"y\":[29800,28600,28400,28700,28550,29100,29100,28950,29300,29300,29250,29250,29850,29700,29350,29650,29450,30250,29950,29350,30350,30250,30100,30650,30650,30850,31000,31900,32300,33050,33550,33850,34200,33850,34250,34600,33850,34000,33050,33050,32750,32800,32500,31800,31800,32100,32850,33300,33500,33300,32800,32950,32150,31650,30800,30900,31050,30250,31400,31850,32100,33050,33150,33500,33600,34050,34750,35700,36800,37000,36600,37400,36650,36700,36600,36000,36300,35950,35200,36250,36350,35650,34600,34850,35750,35100,34350,33450,33650,33800,32950,33050,33000,33100,33800,33400,33050,33050,33600,33800,34100,35250,35500,36400,36450,37300,38100,38250,38400,38650,38750,38850,38750,39100,38800,38400,38300,38450,38300,38350,38650,37900,38200,37650,38000,37650,36500,35850,35900,35650,35400,35200,35250,34850,34500,35200,35400,35650,34750,35150,34700,33500,33350,33300,32700,32300,30700,29900,30350,30550,30700,30350,30150,30200,31100,31150,30900,30450,30550,30000,28950,28750,29400,29200,30150,30300,30200,30600,30000,30250,30050,30100,31150,31250,31400,31100,30750,30950,30750,30450,30350,30250,30050,30050,31000,30500,30450,30550,30800,30200,30100,30700,30750,31750,31450,31550,31700,32300,31800,32600,32250,31950,32100,31600,31950,31800,33200,33250,33850,34200,33900,34050,34250,34000,34100,34250,34100,33850,33350,33000,32650,33400,33850,33800,33650,33400,33300,32800,32700,32200,32150,31450,32200,32350,32400,32550,32450,31550,31350,31050,30950,31150,31050,31750,32550,32950,32800,32400,31350,31250,30100,30300,30100,30250,30000,31400,31000,30500,30350,30400,30400,30150,29350,29200,28800,28650,28350,28350,28400,29550,29300,29300,30750,30450,29950,29250,29350,28850,28900,28550,28100,26700,27900,27600,28100,26800,26900,26850,27250,28050,27550,27050,26800,25300,24200,22300,21900,21900,20400,16250,19950,18450,20350,22850,22100,21950,22000,22450,21500,21850,22300,23450,25050,25100,25400,25250,23650,24100,23900,24200,23950,22900,23000,23800,23850,24350,24850,25500,25150,25200,25450,25850,26400,25850,26100,25050,25100,25300,26400,26900,26650,26700,28650,31250,31500,30500,30800,32350,32100,32150,33000,34100,33450,32550,32250,31200,29500,27850,30800,30100,30200,30400,29650,29400,30050,29050,29150,28100,28150,28350,29400,32750,33650,33300,34100,36200,37450,39400,39200,38600,39250,39100,39000,38950,41250,42800,44850,47950,46500,48400,46200,43800,44100,46200,45350,45850,45150,45400,45700,46050,46700,47150,41900,43000,40200,41150,41850,43200,44000,43850,43800,44550,45050,46150,45750,45900,44800,44700,43300,42850,41950,42350,42550,43050,41700,41900,41150,40050,39800,37850,37600,40000,40850,42400,41250,41950,41600,41500,41450,40400,39600,39400,40450,40200,40800,39500,39650,38900,38900,39300,38200,38200,38200,39150,40250,41250,40300,41400,41350,42100,42750,42650,43400,42700,42450,41950,42550,42600,43750,43000,43450,44150,44900,46200,48050,49350,49200,48450,47900,49300,51900,52400,50900,51200,51000,50800,50500,51000,49950,49600,50100,51000,53400,53400,54600,56200,55500,55500,55600,54300,53700,53900,53700,52400,51400,54100,54200,54200,58900,57800,56000,55700,54900,53700,55300,55400,56100,55100,54000,53800,53600,53400,53700,55000,54900,55600,56000,57400,56900,54400,54900,53700,54500,54300,54700,54000,54100,53400,52700,52800,53600,53900,54100,54000,54000,53300,53400,53500,53900,55100,56800,57400,57000,56700,56500,56000,56400,56400,55600,57800,57700,58300,59600,61400,60900,61400,60200,60500,62000,63800,66400,66800,67300,67100,68000,66800,64600,63300,64200,67800,68300,66600,65000,64600,64600,63400,63700,63200,63700,62700,62900,61700,60300],\"type\":\"scatter\"},{\"line\":{\"color\":\"rgba(0,0,30,0.5)\"},\"mode\":\"lines\",\"name\":\"Test\",\"x\":[\"2021-05-28T00:00:00\",\"2021-05-31T00:00:00\",\"2021-06-01T00:00:00\",\"2021-06-02T00:00:00\",\"2021-06-03T00:00:00\",\"2021-06-04T00:00:00\",\"2021-06-07T00:00:00\",\"2021-06-08T00:00:00\",\"2021-06-09T00:00:00\",\"2021-06-10T00:00:00\",\"2021-06-11T00:00:00\",\"2021-06-14T00:00:00\",\"2021-06-15T00:00:00\",\"2021-06-16T00:00:00\",\"2021-06-17T00:00:00\",\"2021-06-18T00:00:00\",\"2021-06-21T00:00:00\",\"2021-06-22T00:00:00\",\"2021-06-23T00:00:00\",\"2021-06-24T00:00:00\",\"2021-06-25T00:00:00\",\"2021-06-28T00:00:00\",\"2021-06-29T00:00:00\",\"2021-06-30T00:00:00\",\"2021-07-01T00:00:00\",\"2021-07-02T00:00:00\",\"2021-07-05T00:00:00\",\"2021-07-06T00:00:00\",\"2021-07-07T00:00:00\",\"2021-07-08T00:00:00\",\"2021-07-09T00:00:00\",\"2021-07-12T00:00:00\",\"2021-07-13T00:00:00\",\"2021-07-14T00:00:00\",\"2021-07-15T00:00:00\",\"2021-07-16T00:00:00\",\"2021-07-19T00:00:00\",\"2021-07-20T00:00:00\",\"2021-07-21T00:00:00\",\"2021-07-22T00:00:00\",\"2021-07-23T00:00:00\",\"2021-07-26T00:00:00\",\"2021-07-27T00:00:00\",\"2021-07-28T00:00:00\",\"2021-07-29T00:00:00\",\"2021-07-30T00:00:00\",\"2021-08-02T00:00:00\",\"2021-08-03T00:00:00\",\"2021-08-04T00:00:00\",\"2021-08-05T00:00:00\",\"2021-08-06T00:00:00\",\"2021-08-09T00:00:00\",\"2021-08-10T00:00:00\",\"2021-08-11T00:00:00\",\"2021-08-12T00:00:00\",\"2021-08-13T00:00:00\",\"2021-08-17T00:00:00\",\"2021-08-18T00:00:00\",\"2021-08-19T00:00:00\",\"2021-08-20T00:00:00\",\"2021-08-23T00:00:00\",\"2021-08-24T00:00:00\",\"2021-08-25T00:00:00\",\"2021-08-26T00:00:00\",\"2021-08-27T00:00:00\",\"2021-08-30T00:00:00\",\"2021-08-31T00:00:00\",\"2021-09-01T00:00:00\",\"2021-09-02T00:00:00\",\"2021-09-03T00:00:00\",\"2021-09-06T00:00:00\",\"2021-09-07T00:00:00\",\"2021-09-08T00:00:00\",\"2021-09-09T00:00:00\",\"2021-09-10T00:00:00\",\"2021-09-13T00:00:00\",\"2021-09-14T00:00:00\",\"2021-09-15T00:00:00\",\"2021-09-16T00:00:00\",\"2021-09-17T00:00:00\",\"2021-09-23T00:00:00\",\"2021-09-24T00:00:00\",\"2021-09-27T00:00:00\",\"2021-09-28T00:00:00\",\"2021-09-29T00:00:00\",\"2021-09-30T00:00:00\",\"2021-10-01T00:00:00\",\"2021-10-05T00:00:00\",\"2021-10-06T00:00:00\",\"2021-10-07T00:00:00\",\"2021-10-08T00:00:00\",\"2021-10-12T00:00:00\",\"2021-10-13T00:00:00\",\"2021-10-14T00:00:00\",\"2021-10-15T00:00:00\",\"2021-10-18T00:00:00\",\"2021-10-19T00:00:00\",\"2021-10-20T00:00:00\",\"2021-10-21T00:00:00\",\"2021-10-22T00:00:00\",\"2021-10-25T00:00:00\",\"2021-10-26T00:00:00\",\"2021-10-27T00:00:00\",\"2021-10-28T00:00:00\",\"2021-10-29T00:00:00\",\"2021-11-01T00:00:00\",\"2021-11-02T00:00:00\",\"2021-11-03T00:00:00\",\"2021-11-04T00:00:00\",\"2021-11-05T00:00:00\",\"2021-11-08T00:00:00\",\"2021-11-09T00:00:00\",\"2021-11-10T00:00:00\",\"2021-11-11T00:00:00\",\"2021-11-12T00:00:00\",\"2021-11-15T00:00:00\",\"2021-11-16T00:00:00\",\"2021-11-17T00:00:00\",\"2021-11-18T00:00:00\",\"2021-11-19T00:00:00\",\"2021-11-22T00:00:00\",\"2021-11-23T00:00:00\",\"2021-11-24T00:00:00\",\"2021-11-25T00:00:00\",\"2021-11-26T00:00:00\",\"2021-11-29T00:00:00\",\"2021-11-30T00:00:00\",\"2021-12-01T00:00:00\",\"2021-12-02T00:00:00\",\"2021-12-03T00:00:00\",\"2021-12-06T00:00:00\",\"2021-12-07T00:00:00\",\"2021-12-08T00:00:00\",\"2021-12-09T00:00:00\",\"2021-12-10T00:00:00\",\"2021-12-13T00:00:00\",\"2021-12-14T00:00:00\",\"2021-12-15T00:00:00\",\"2021-12-16T00:00:00\",\"2021-12-17T00:00:00\",\"2021-12-20T00:00:00\",\"2021-12-21T00:00:00\",\"2021-12-22T00:00:00\",\"2021-12-23T00:00:00\",\"2021-12-24T00:00:00\",\"2021-12-27T00:00:00\",\"2021-12-28T00:00:00\",\"2021-12-29T00:00:00\",\"2021-12-30T00:00:00\"],\"y\":[61000,60000,60700,59700,59100,59300,62000,60600,59700,59400,59400,59100,58600,59000,58500,58100,57300,57600,57200,56800,58500,59700,59500,60800,61100,61700,62100,60600,59400,58400,56800,56900,57300,57400,57100,56400,55600,55700,55800,56100,55800,54800,54700,54300,54600,54600,54000,52100,52800,53700,53100,52100,51300,51400,51000,50700,49050,50400,48000,47100,48900,49600,48900,48200,48300,51000,50600,51300,51500,50700,50900,51500,50300,49200,50500,49950,51500,52400,51500,51300,49700,48650,47650,47050,46400,46450,44750,44500,45000,47200,46600,45450,46050,47050,46800,46100,46150,46700,45800,45700,45850,46500,46300,45900,45200,45600,46750,46100,46100,44900,45000,45000,44600,44200,46800,46450,45550,44600,45050,45100,44250,43100,43700,45050,43650,42500,40300,41200,42700,44100,43700,44050,44400,44650,44900,44300,43850,43350,43500,43300,43450,43250,43200,42550,43700,44500,44100,44700,44250],\"type\":\"scatter\"},{\"line\":{\"color\":\"red\",\"dash\":\"dot\",\"width\":3},\"mode\":\"lines\",\"name\":\"Prediction\",\"x\":[\"2021-05-28T00:00:00\",\"2021-05-31T00:00:00\",\"2021-06-01T00:00:00\",\"2021-06-02T00:00:00\",\"2021-06-03T00:00:00\",\"2021-06-04T00:00:00\",\"2021-06-07T00:00:00\",\"2021-06-08T00:00:00\",\"2021-06-09T00:00:00\",\"2021-06-10T00:00:00\",\"2021-06-11T00:00:00\",\"2021-06-14T00:00:00\",\"2021-06-15T00:00:00\",\"2021-06-16T00:00:00\",\"2021-06-17T00:00:00\",\"2021-06-18T00:00:00\",\"2021-06-21T00:00:00\",\"2021-06-22T00:00:00\",\"2021-06-23T00:00:00\",\"2021-06-24T00:00:00\",\"2021-06-25T00:00:00\",\"2021-06-28T00:00:00\",\"2021-06-29T00:00:00\",\"2021-06-30T00:00:00\",\"2021-07-01T00:00:00\",\"2021-07-02T00:00:00\",\"2021-07-05T00:00:00\",\"2021-07-06T00:00:00\",\"2021-07-07T00:00:00\",\"2021-07-08T00:00:00\",\"2021-07-09T00:00:00\",\"2021-07-12T00:00:00\",\"2021-07-13T00:00:00\",\"2021-07-14T00:00:00\",\"2021-07-15T00:00:00\",\"2021-07-16T00:00:00\",\"2021-07-19T00:00:00\",\"2021-07-20T00:00:00\",\"2021-07-21T00:00:00\",\"2021-07-22T00:00:00\",\"2021-07-23T00:00:00\",\"2021-07-26T00:00:00\",\"2021-07-27T00:00:00\",\"2021-07-28T00:00:00\",\"2021-07-29T00:00:00\",\"2021-07-30T00:00:00\",\"2021-08-02T00:00:00\",\"2021-08-03T00:00:00\",\"2021-08-04T00:00:00\",\"2021-08-05T00:00:00\",\"2021-08-06T00:00:00\",\"2021-08-09T00:00:00\",\"2021-08-10T00:00:00\",\"2021-08-11T00:00:00\",\"2021-08-12T00:00:00\",\"2021-08-13T00:00:00\",\"2021-08-17T00:00:00\",\"2021-08-18T00:00:00\",\"2021-08-19T00:00:00\",\"2021-08-20T00:00:00\",\"2021-08-23T00:00:00\",\"2021-08-24T00:00:00\",\"2021-08-25T00:00:00\",\"2021-08-26T00:00:00\",\"2021-08-27T00:00:00\",\"2021-08-30T00:00:00\",\"2021-08-31T00:00:00\",\"2021-09-01T00:00:00\",\"2021-09-02T00:00:00\",\"2021-09-03T00:00:00\",\"2021-09-06T00:00:00\",\"2021-09-07T00:00:00\",\"2021-09-08T00:00:00\",\"2021-09-09T00:00:00\",\"2021-09-10T00:00:00\",\"2021-09-13T00:00:00\",\"2021-09-14T00:00:00\",\"2021-09-15T00:00:00\",\"2021-09-16T00:00:00\",\"2021-09-17T00:00:00\",\"2021-09-23T00:00:00\",\"2021-09-24T00:00:00\",\"2021-09-27T00:00:00\",\"2021-09-28T00:00:00\",\"2021-09-29T00:00:00\",\"2021-09-30T00:00:00\",\"2021-10-01T00:00:00\",\"2021-10-05T00:00:00\",\"2021-10-06T00:00:00\",\"2021-10-07T00:00:00\",\"2021-10-08T00:00:00\",\"2021-10-12T00:00:00\",\"2021-10-13T00:00:00\",\"2021-10-14T00:00:00\",\"2021-10-15T00:00:00\",\"2021-10-18T00:00:00\",\"2021-10-19T00:00:00\",\"2021-10-20T00:00:00\",\"2021-10-21T00:00:00\",\"2021-10-22T00:00:00\",\"2021-10-25T00:00:00\",\"2021-10-26T00:00:00\",\"2021-10-27T00:00:00\",\"2021-10-28T00:00:00\",\"2021-10-29T00:00:00\",\"2021-11-01T00:00:00\",\"2021-11-02T00:00:00\",\"2021-11-03T00:00:00\",\"2021-11-04T00:00:00\",\"2021-11-05T00:00:00\",\"2021-11-08T00:00:00\",\"2021-11-09T00:00:00\",\"2021-11-10T00:00:00\",\"2021-11-11T00:00:00\",\"2021-11-12T00:00:00\",\"2021-11-15T00:00:00\",\"2021-11-16T00:00:00\",\"2021-11-17T00:00:00\",\"2021-11-18T00:00:00\",\"2021-11-19T00:00:00\",\"2021-11-22T00:00:00\",\"2021-11-23T00:00:00\",\"2021-11-24T00:00:00\",\"2021-11-25T00:00:00\",\"2021-11-26T00:00:00\",\"2021-11-29T00:00:00\",\"2021-11-30T00:00:00\",\"2021-12-01T00:00:00\",\"2021-12-02T00:00:00\",\"2021-12-03T00:00:00\",\"2021-12-06T00:00:00\",\"2021-12-07T00:00:00\",\"2021-12-08T00:00:00\",\"2021-12-09T00:00:00\",\"2021-12-10T00:00:00\",\"2021-12-13T00:00:00\",\"2021-12-14T00:00:00\",\"2021-12-15T00:00:00\",\"2021-12-16T00:00:00\",\"2021-12-17T00:00:00\",\"2021-12-20T00:00:00\",\"2021-12-21T00:00:00\",\"2021-12-22T00:00:00\",\"2021-12-23T00:00:00\",\"2021-12-24T00:00:00\",\"2021-12-27T00:00:00\",\"2021-12-28T00:00:00\",\"2021-12-29T00:00:00\",\"2021-12-30T00:00:00\"],\"y\":[60300.0,61000.0,60000.0,60700.0,59700.0,59100.0,59300.0,62000.0,60600.0,59700.0,59400.0,59400.0,59100.0,58600.0,59000.0,58500.0,58100.0,57300.0,57600.0,57200.0,56800.0,58500.0,59700.0,59500.0,60800.0,61100.0,61700.0,62100.0,60600.0,59400.0,58400.0,56800.0,56900.0,57300.0,57400.0,57100.0,56400.0,55600.0,55700.0,55800.0,56100.0,55800.0,54800.0,54700.0,54300.0,54600.0,54600.0,54000.0,52100.0,52800.0,53700.0,53100.0,52100.0,51300.0,51400.0,51000.0,50700.0,49050.0,50400.0,48000.0,47100.0,48900.0,49600.0,48900.0,48200.0,48300.0,51000.0,50600.0,51300.0,51500.0,50700.0,50900.0,51500.0,50300.0,49200.0,50500.0,49950.0,51500.0,52400.0,51500.0,51300.0,49700.0,48650.0,47650.0,47050.0,46400.0,46450.0,44750.0,44500.0,45000.0,47200.0,46600.0,45450.0,46050.0,47050.0,46800.0,46100.0,46150.0,46700.0,45800.0,45700.0,45850.0,46500.0,46300.0,45900.0,45200.0,45600.0,46750.0,46100.0,46100.0,44900.0,45000.0,45000.0,44600.0,44200.0,46800.0,46450.0,45550.0,44600.0,45050.0,45100.0,44250.0,43100.0,43700.0,45050.0,43650.0,42500.0,40300.0,41200.0,42700.0,44100.0,43700.0,44050.0,44400.0,44650.0,44900.0,44300.0,43850.0,43350.0,43500.0,43300.0,43450.0,43250.0,43200.0,42550.0,43700.0,44500.0,44100.0,44700.0],\"type\":\"scatter\"},{\"fill\":\"toself\",\"fillcolor\":\"rgba(0,0,30,0.1)\",\"hoverinfo\":\"skip\",\"line\":{\"color\":\"rgba(0,0,0,0)\"},\"showlegend\":false,\"x\":[\"2021-05-28T00:00:00\",\"2021-05-31T00:00:00\",\"2021-06-01T00:00:00\",\"2021-06-02T00:00:00\",\"2021-06-03T00:00:00\",\"2021-06-04T00:00:00\",\"2021-06-07T00:00:00\",\"2021-06-08T00:00:00\",\"2021-06-09T00:00:00\",\"2021-06-10T00:00:00\",\"2021-06-11T00:00:00\",\"2021-06-14T00:00:00\",\"2021-06-15T00:00:00\",\"2021-06-16T00:00:00\",\"2021-06-17T00:00:00\",\"2021-06-18T00:00:00\",\"2021-06-21T00:00:00\",\"2021-06-22T00:00:00\",\"2021-06-23T00:00:00\",\"2021-06-24T00:00:00\",\"2021-06-25T00:00:00\",\"2021-06-28T00:00:00\",\"2021-06-29T00:00:00\",\"2021-06-30T00:00:00\",\"2021-07-01T00:00:00\",\"2021-07-02T00:00:00\",\"2021-07-05T00:00:00\",\"2021-07-06T00:00:00\",\"2021-07-07T00:00:00\",\"2021-07-08T00:00:00\",\"2021-07-09T00:00:00\",\"2021-07-12T00:00:00\",\"2021-07-13T00:00:00\",\"2021-07-14T00:00:00\",\"2021-07-15T00:00:00\",\"2021-07-16T00:00:00\",\"2021-07-19T00:00:00\",\"2021-07-20T00:00:00\",\"2021-07-21T00:00:00\",\"2021-07-22T00:00:00\",\"2021-07-23T00:00:00\",\"2021-07-26T00:00:00\",\"2021-07-27T00:00:00\",\"2021-07-28T00:00:00\",\"2021-07-29T00:00:00\",\"2021-07-30T00:00:00\",\"2021-08-02T00:00:00\",\"2021-08-03T00:00:00\",\"2021-08-04T00:00:00\",\"2021-08-05T00:00:00\",\"2021-08-06T00:00:00\",\"2021-08-09T00:00:00\",\"2021-08-10T00:00:00\",\"2021-08-11T00:00:00\",\"2021-08-12T00:00:00\",\"2021-08-13T00:00:00\",\"2021-08-17T00:00:00\",\"2021-08-18T00:00:00\",\"2021-08-19T00:00:00\",\"2021-08-20T00:00:00\",\"2021-08-23T00:00:00\",\"2021-08-24T00:00:00\",\"2021-08-25T00:00:00\",\"2021-08-26T00:00:00\",\"2021-08-27T00:00:00\",\"2021-08-30T00:00:00\",\"2021-08-31T00:00:00\",\"2021-09-01T00:00:00\",\"2021-09-02T00:00:00\",\"2021-09-03T00:00:00\",\"2021-09-06T00:00:00\",\"2021-09-07T00:00:00\",\"2021-09-08T00:00:00\",\"2021-09-09T00:00:00\",\"2021-09-10T00:00:00\",\"2021-09-13T00:00:00\",\"2021-09-14T00:00:00\",\"2021-09-15T00:00:00\",\"2021-09-16T00:00:00\",\"2021-09-17T00:00:00\",\"2021-09-23T00:00:00\",\"2021-09-24T00:00:00\",\"2021-09-27T00:00:00\",\"2021-09-28T00:00:00\",\"2021-09-29T00:00:00\",\"2021-09-30T00:00:00\",\"2021-10-01T00:00:00\",\"2021-10-05T00:00:00\",\"2021-10-06T00:00:00\",\"2021-10-07T00:00:00\",\"2021-10-08T00:00:00\",\"2021-10-12T00:00:00\",\"2021-10-13T00:00:00\",\"2021-10-14T00:00:00\",\"2021-10-15T00:00:00\",\"2021-10-18T00:00:00\",\"2021-10-19T00:00:00\",\"2021-10-20T00:00:00\",\"2021-10-21T00:00:00\",\"2021-10-22T00:00:00\",\"2021-10-25T00:00:00\",\"2021-10-26T00:00:00\",\"2021-10-27T00:00:00\",\"2021-10-28T00:00:00\",\"2021-10-29T00:00:00\",\"2021-11-01T00:00:00\",\"2021-11-02T00:00:00\",\"2021-11-03T00:00:00\",\"2021-11-04T00:00:00\",\"2021-11-05T00:00:00\",\"2021-11-08T00:00:00\",\"2021-11-09T00:00:00\",\"2021-11-10T00:00:00\",\"2021-11-11T00:00:00\",\"2021-11-12T00:00:00\",\"2021-11-15T00:00:00\",\"2021-11-16T00:00:00\",\"2021-11-17T00:00:00\",\"2021-11-18T00:00:00\",\"2021-11-19T00:00:00\",\"2021-11-22T00:00:00\",\"2021-11-23T00:00:00\",\"2021-11-24T00:00:00\",\"2021-11-25T00:00:00\",\"2021-11-26T00:00:00\",\"2021-11-29T00:00:00\",\"2021-11-30T00:00:00\",\"2021-12-01T00:00:00\",\"2021-12-02T00:00:00\",\"2021-12-03T00:00:00\",\"2021-12-06T00:00:00\",\"2021-12-07T00:00:00\",\"2021-12-08T00:00:00\",\"2021-12-09T00:00:00\",\"2021-12-10T00:00:00\",\"2021-12-13T00:00:00\",\"2021-12-14T00:00:00\",\"2021-12-15T00:00:00\",\"2021-12-16T00:00:00\",\"2021-12-17T00:00:00\",\"2021-12-20T00:00:00\",\"2021-12-21T00:00:00\",\"2021-12-22T00:00:00\",\"2021-12-23T00:00:00\",\"2021-12-24T00:00:00\",\"2021-12-27T00:00:00\",\"2021-12-28T00:00:00\",\"2021-12-29T00:00:00\",\"2021-12-30T00:00:00\",\"2021-12-30T00:00:00\",\"2021-12-29T00:00:00\",\"2021-12-28T00:00:00\",\"2021-12-27T00:00:00\",\"2021-12-24T00:00:00\",\"2021-12-23T00:00:00\",\"2021-12-22T00:00:00\",\"2021-12-21T00:00:00\",\"2021-12-20T00:00:00\",\"2021-12-17T00:00:00\",\"2021-12-16T00:00:00\",\"2021-12-15T00:00:00\",\"2021-12-14T00:00:00\",\"2021-12-13T00:00:00\",\"2021-12-10T00:00:00\",\"2021-12-09T00:00:00\",\"2021-12-08T00:00:00\",\"2021-12-07T00:00:00\",\"2021-12-06T00:00:00\",\"2021-12-03T00:00:00\",\"2021-12-02T00:00:00\",\"2021-12-01T00:00:00\",\"2021-11-30T00:00:00\",\"2021-11-29T00:00:00\",\"2021-11-26T00:00:00\",\"2021-11-25T00:00:00\",\"2021-11-24T00:00:00\",\"2021-11-23T00:00:00\",\"2021-11-22T00:00:00\",\"2021-11-19T00:00:00\",\"2021-11-18T00:00:00\",\"2021-11-17T00:00:00\",\"2021-11-16T00:00:00\",\"2021-11-15T00:00:00\",\"2021-11-12T00:00:00\",\"2021-11-11T00:00:00\",\"2021-11-10T00:00:00\",\"2021-11-09T00:00:00\",\"2021-11-08T00:00:00\",\"2021-11-05T00:00:00\",\"2021-11-04T00:00:00\",\"2021-11-03T00:00:00\",\"2021-11-02T00:00:00\",\"2021-11-01T00:00:00\",\"2021-10-29T00:00:00\",\"2021-10-28T00:00:00\",\"2021-10-27T00:00:00\",\"2021-10-26T00:00:00\",\"2021-10-25T00:00:00\",\"2021-10-22T00:00:00\",\"2021-10-21T00:00:00\",\"2021-10-20T00:00:00\",\"2021-10-19T00:00:00\",\"2021-10-18T00:00:00\",\"2021-10-15T00:00:00\",\"2021-10-14T00:00:00\",\"2021-10-13T00:00:00\",\"2021-10-12T00:00:00\",\"2021-10-08T00:00:00\",\"2021-10-07T00:00:00\",\"2021-10-06T00:00:00\",\"2021-10-05T00:00:00\",\"2021-10-01T00:00:00\",\"2021-09-30T00:00:00\",\"2021-09-29T00:00:00\",\"2021-09-28T00:00:00\",\"2021-09-27T00:00:00\",\"2021-09-24T00:00:00\",\"2021-09-23T00:00:00\",\"2021-09-17T00:00:00\",\"2021-09-16T00:00:00\",\"2021-09-15T00:00:00\",\"2021-09-14T00:00:00\",\"2021-09-13T00:00:00\",\"2021-09-10T00:00:00\",\"2021-09-09T00:00:00\",\"2021-09-08T00:00:00\",\"2021-09-07T00:00:00\",\"2021-09-06T00:00:00\",\"2021-09-03T00:00:00\",\"2021-09-02T00:00:00\",\"2021-09-01T00:00:00\",\"2021-08-31T00:00:00\",\"2021-08-30T00:00:00\",\"2021-08-27T00:00:00\",\"2021-08-26T00:00:00\",\"2021-08-25T00:00:00\",\"2021-08-24T00:00:00\",\"2021-08-23T00:00:00\",\"2021-08-20T00:00:00\",\"2021-08-19T00:00:00\",\"2021-08-18T00:00:00\",\"2021-08-17T00:00:00\",\"2021-08-13T00:00:00\",\"2021-08-12T00:00:00\",\"2021-08-11T00:00:00\",\"2021-08-10T00:00:00\",\"2021-08-09T00:00:00\",\"2021-08-06T00:00:00\",\"2021-08-05T00:00:00\",\"2021-08-04T00:00:00\",\"2021-08-03T00:00:00\",\"2021-08-02T00:00:00\",\"2021-07-30T00:00:00\",\"2021-07-29T00:00:00\",\"2021-07-28T00:00:00\",\"2021-07-27T00:00:00\",\"2021-07-26T00:00:00\",\"2021-07-23T00:00:00\",\"2021-07-22T00:00:00\",\"2021-07-21T00:00:00\",\"2021-07-20T00:00:00\",\"2021-07-19T00:00:00\",\"2021-07-16T00:00:00\",\"2021-07-15T00:00:00\",\"2021-07-14T00:00:00\",\"2021-07-13T00:00:00\",\"2021-07-12T00:00:00\",\"2021-07-09T00:00:00\",\"2021-07-08T00:00:00\",\"2021-07-07T00:00:00\",\"2021-07-06T00:00:00\",\"2021-07-05T00:00:00\",\"2021-07-02T00:00:00\",\"2021-07-01T00:00:00\",\"2021-06-30T00:00:00\",\"2021-06-29T00:00:00\",\"2021-06-28T00:00:00\",\"2021-06-25T00:00:00\",\"2021-06-24T00:00:00\",\"2021-06-23T00:00:00\",\"2021-06-22T00:00:00\",\"2021-06-21T00:00:00\",\"2021-06-18T00:00:00\",\"2021-06-17T00:00:00\",\"2021-06-16T00:00:00\",\"2021-06-15T00:00:00\",\"2021-06-14T00:00:00\",\"2021-06-11T00:00:00\",\"2021-06-10T00:00:00\",\"2021-06-09T00:00:00\",\"2021-06-08T00:00:00\",\"2021-06-07T00:00:00\",\"2021-06-04T00:00:00\",\"2021-06-03T00:00:00\",\"2021-06-02T00:00:00\",\"2021-06-01T00:00:00\",\"2021-05-31T00:00:00\",\"2021-05-28T00:00:00\"],\"y\":[62096.78738625787,62796.78738625787,61796.78738625787,62496.78738625787,61496.78738625787,60896.78738625787,61096.78738625787,63798.74735024241,62400.70731422695,61500.70731422695,61200.70731422695,61200.70731422695,60900.70731422695,60400.70731422695,60800.70731422695,60300.70731422695,59900.70731422695,59100.70731422695,59400.70731422695,59000.70731422695,58600.70731422695,60300.70731422695,61500.70731422695,61300.70731422695,62600.70731422695,62900.70731422695,63500.70731422695,63900.70731422695,62400.70731422695,61200.70731422695,60200.70731422695,58600.70731422695,58700.70731422695,59100.70731422695,59200.70731422695,58900.70731422695,58200.70731422695,57400.70731422695,57500.70731422695,57600.70731422695,57900.70731422695,57598.74735024241,56598.74735024241,56498.74735024241,56096.78738625787,56396.78738625787,56394.82742227333,55794.82742227333,53894.82742227333,54594.82742227333,55494.82742227333,54894.82742227333,53894.82742227333,53094.82742227333,53194.82742227333,52794.82742227333,52492.86745828879,50842.86745828879,52192.86745828879,49792.86745828879,48892.86745828879,50694.82742227333,51394.82742227333,50694.82742227333,49994.82742227333,50094.82742227333,52809.93479322672,52409.93479322672,53109.93479322672,53309.93479322672,52509.93479322672,52709.93479322672,53309.93479322672,52109.93479322672,51009.93479322672,52309.93479322672,51759.93479322672,53309.93479322672,54209.93479322672,53309.93479322672,53109.93479322672,51509.93479322672,50459.93479322672,49459.93479322672,48859.93479322672,48209.93479322672,48259.93479322672,46559.93479322672,46309.93479322672,46809.93479322672,49009.93479322672,48409.93479322672,47259.93479322672,47859.93479322672,48859.93479322672,48609.93479322672,47909.93479322672,47959.93479322672,48509.93479322672,47609.93479322672,47509.93479322672,47659.93479322672,48309.93479322672,48109.93479322672,47709.93479322672,47009.93479322672,47409.93479322672,48559.93479322672,47909.93479322672,47909.93479322672,46709.93479322672,46809.93479322672,46807.97482924218,46407.97482924218,46006.01486525764,48606.01486525764,48256.01486525764,47356.01486525764,46406.01486525764,46856.01486525764,46906.01486525764,46056.01486525764,44906.01486525764,45506.01486525764,46856.01486525764,45456.01486525764,44306.01486525764,42106.01486525764,43006.01486525764,44507.97482924218,45909.93479322672,45509.93479322672,45859.93479322672,46209.93479322672,46459.93479322672,46709.93479322672,46109.93479322672,45659.93479322672,45159.93479322672,45309.93479322672,45109.93479322672,45259.93479322672,45059.93479322672,45009.93479322672,44359.93479322672,45509.93479322672,46309.93479322672,45909.93479322672,46509.93479322672,42890.06520677328,42290.06520677328,42690.06520677328,41890.06520677328,40740.06520677328,41390.06520677328,41440.06520677328,41640.06520677328,41490.06520677328,41690.06520677328,41540.06520677328,42040.06520677328,42490.06520677328,43090.06520677328,42840.06520677328,42590.06520677328,42240.06520677328,41890.06520677328,42290.06520677328,40892.02517075782,39393.98513474236,38493.98513474236,40693.98513474236,41843.98513474236,43243.98513474236,41893.98513474236,41293.98513474236,42443.98513474236,43293.98513474236,43243.98513474236,42793.98513474236,43743.98513474236,44643.98513474236,44993.98513474236,42393.98513474236,42792.02517075782,43192.02517075782,43190.06520677328,43090.06520677328,44290.06520677328,44290.06520677328,44940.06520677328,43790.06520677328,43390.06520677328,44090.06520677328,44490.06520677328,44690.06520677328,44040.06520677328,43890.06520677328,43990.06520677328,44890.06520677328,44340.06520677328,44290.06520677328,44990.06520677328,45240.06520677328,44240.06520677328,43640.06520677328,44790.06520677328,45390.06520677328,43190.06520677328,42690.06520677328,42940.06520677328,44640.06520677328,44590.06520677328,45240.06520677328,45840.06520677328,46840.06520677328,47890.06520677328,49490.06520677328,49690.06520677328,50590.06520677328,49690.06520677328,48140.06520677328,48690.06520677328,47390.06520677328,48490.06520677328,49690.06520677328,49090.06520677328,48890.06520677328,49690.06520677328,49490.06520677328,48790.06520677328,49190.06520677328,46505.17257772667,46405.17257772667,47105.17257772667,47805.17257772667,47105.17257772667,45307.13254171121,46207.13254171121,48607.13254171121,47257.13254171121,48907.13254171121,49205.17257772667,49605.17257772667,49505.17257772667,50305.17257772667,51305.17257772667,51905.17257772667,51005.17257772667,50305.17257772667,52205.17257772667,52805.17257772667,52803.21261374213,52503.21261374213,52901.25264975759,53001.25264975759,54001.25264975759,54299.29268577305,53999.29268577305,53899.29268577305,53799.29268577305,54599.29268577305,55299.29268577305,55599.29268577305,55499.29268577305,55099.29268577305,54999.29268577305,56599.29268577305,57599.29268577305,58799.29268577305,60299.29268577305,59899.29268577305,59299.29268577305,58999.29268577305,57699.29268577305,57899.29268577305,56699.29268577305,54999.29268577305,55399.29268577305,55799.29268577305,55499.29268577305,56299.29268577305,56699.29268577305,57199.29268577305,56799.29268577305,57299.29268577305,57599.29268577305,57599.29268577305,57899.29268577305,58799.29268577305,60201.25264975759,57503.21261374213,57303.21261374213,57903.21261374213,58903.21261374213,58203.21261374213,59203.21261374213,58503.21261374213],\"type\":\"scatter\"}],                        {\"template\":{\"data\":{\"bar\":[{\"error_x\":{\"color\":\"#2a3f5f\"},\"error_y\":{\"color\":\"#2a3f5f\"},\"marker\":{\"line\":{\"color\":\"#E5ECF6\",\"width\":0.5},\"pattern\":{\"fillmode\":\"overlay\",\"size\":10,\"solidity\":0.2}},\"type\":\"bar\"}],\"barpolar\":[{\"marker\":{\"line\":{\"color\":\"#E5ECF6\",\"width\":0.5},\"pattern\":{\"fillmode\":\"overlay\",\"size\":10,\"solidity\":0.2}},\"type\":\"barpolar\"}],\"carpet\":[{\"aaxis\":{\"endlinecolor\":\"#2a3f5f\",\"gridcolor\":\"white\",\"linecolor\":\"white\",\"minorgridcolor\":\"white\",\"startlinecolor\":\"#2a3f5f\"},\"baxis\":{\"endlinecolor\":\"#2a3f5f\",\"gridcolor\":\"white\",\"linecolor\":\"white\",\"minorgridcolor\":\"white\",\"startlinecolor\":\"#2a3f5f\"},\"type\":\"carpet\"}],\"choropleth\":[{\"colorbar\":{\"outlinewidth\":0,\"ticks\":\"\"},\"type\":\"choropleth\"}],\"contour\":[{\"colorbar\":{\"outlinewidth\":0,\"ticks\":\"\"},\"colorscale\":[[0.0,\"#0d0887\"],[0.1111111111111111,\"#46039f\"],[0.2222222222222222,\"#7201a8\"],[0.3333333333333333,\"#9c179e\"],[0.4444444444444444,\"#bd3786\"],[0.5555555555555556,\"#d8576b\"],[0.6666666666666666,\"#ed7953\"],[0.7777777777777778,\"#fb9f3a\"],[0.8888888888888888,\"#fdca26\"],[1.0,\"#f0f921\"]],\"type\":\"contour\"}],\"contourcarpet\":[{\"colorbar\":{\"outlinewidth\":0,\"ticks\":\"\"},\"type\":\"contourcarpet\"}],\"heatmap\":[{\"colorbar\":{\"outlinewidth\":0,\"ticks\":\"\"},\"colorscale\":[[0.0,\"#0d0887\"],[0.1111111111111111,\"#46039f\"],[0.2222222222222222,\"#7201a8\"],[0.3333333333333333,\"#9c179e\"],[0.4444444444444444,\"#bd3786\"],[0.5555555555555556,\"#d8576b\"],[0.6666666666666666,\"#ed7953\"],[0.7777777777777778,\"#fb9f3a\"],[0.8888888888888888,\"#fdca26\"],[1.0,\"#f0f921\"]],\"type\":\"heatmap\"}],\"heatmapgl\":[{\"colorbar\":{\"outlinewidth\":0,\"ticks\":\"\"},\"colorscale\":[[0.0,\"#0d0887\"],[0.1111111111111111,\"#46039f\"],[0.2222222222222222,\"#7201a8\"],[0.3333333333333333,\"#9c179e\"],[0.4444444444444444,\"#bd3786\"],[0.5555555555555556,\"#d8576b\"],[0.6666666666666666,\"#ed7953\"],[0.7777777777777778,\"#fb9f3a\"],[0.8888888888888888,\"#fdca26\"],[1.0,\"#f0f921\"]],\"type\":\"heatmapgl\"}],\"histogram\":[{\"marker\":{\"pattern\":{\"fillmode\":\"overlay\",\"size\":10,\"solidity\":0.2}},\"type\":\"histogram\"}],\"histogram2d\":[{\"colorbar\":{\"outlinewidth\":0,\"ticks\":\"\"},\"colorscale\":[[0.0,\"#0d0887\"],[0.1111111111111111,\"#46039f\"],[0.2222222222222222,\"#7201a8\"],[0.3333333333333333,\"#9c179e\"],[0.4444444444444444,\"#bd3786\"],[0.5555555555555556,\"#d8576b\"],[0.6666666666666666,\"#ed7953\"],[0.7777777777777778,\"#fb9f3a\"],[0.8888888888888888,\"#fdca26\"],[1.0,\"#f0f921\"]],\"type\":\"histogram2d\"}],\"histogram2dcontour\":[{\"colorbar\":{\"outlinewidth\":0,\"ticks\":\"\"},\"colorscale\":[[0.0,\"#0d0887\"],[0.1111111111111111,\"#46039f\"],[0.2222222222222222,\"#7201a8\"],[0.3333333333333333,\"#9c179e\"],[0.4444444444444444,\"#bd3786\"],[0.5555555555555556,\"#d8576b\"],[0.6666666666666666,\"#ed7953\"],[0.7777777777777778,\"#fb9f3a\"],[0.8888888888888888,\"#fdca26\"],[1.0,\"#f0f921\"]],\"type\":\"histogram2dcontour\"}],\"mesh3d\":[{\"colorbar\":{\"outlinewidth\":0,\"ticks\":\"\"},\"type\":\"mesh3d\"}],\"parcoords\":[{\"line\":{\"colorbar\":{\"outlinewidth\":0,\"ticks\":\"\"}},\"type\":\"parcoords\"}],\"pie\":[{\"automargin\":true,\"type\":\"pie\"}],\"scatter\":[{\"marker\":{\"colorbar\":{\"outlinewidth\":0,\"ticks\":\"\"}},\"type\":\"scatter\"}],\"scatter3d\":[{\"line\":{\"colorbar\":{\"outlinewidth\":0,\"ticks\":\"\"}},\"marker\":{\"colorbar\":{\"outlinewidth\":0,\"ticks\":\"\"}},\"type\":\"scatter3d\"}],\"scattercarpet\":[{\"marker\":{\"colorbar\":{\"outlinewidth\":0,\"ticks\":\"\"}},\"type\":\"scattercarpet\"}],\"scattergeo\":[{\"marker\":{\"colorbar\":{\"outlinewidth\":0,\"ticks\":\"\"}},\"type\":\"scattergeo\"}],\"scattergl\":[{\"marker\":{\"colorbar\":{\"outlinewidth\":0,\"ticks\":\"\"}},\"type\":\"scattergl\"}],\"scattermapbox\":[{\"marker\":{\"colorbar\":{\"outlinewidth\":0,\"ticks\":\"\"}},\"type\":\"scattermapbox\"}],\"scatterpolar\":[{\"marker\":{\"colorbar\":{\"outlinewidth\":0,\"ticks\":\"\"}},\"type\":\"scatterpolar\"}],\"scatterpolargl\":[{\"marker\":{\"colorbar\":{\"outlinewidth\":0,\"ticks\":\"\"}},\"type\":\"scatterpolargl\"}],\"scatterternary\":[{\"marker\":{\"colorbar\":{\"outlinewidth\":0,\"ticks\":\"\"}},\"type\":\"scatterternary\"}],\"surface\":[{\"colorbar\":{\"outlinewidth\":0,\"ticks\":\"\"},\"colorscale\":[[0.0,\"#0d0887\"],[0.1111111111111111,\"#46039f\"],[0.2222222222222222,\"#7201a8\"],[0.3333333333333333,\"#9c179e\"],[0.4444444444444444,\"#bd3786\"],[0.5555555555555556,\"#d8576b\"],[0.6666666666666666,\"#ed7953\"],[0.7777777777777778,\"#fb9f3a\"],[0.8888888888888888,\"#fdca26\"],[1.0,\"#f0f921\"]],\"type\":\"surface\"}],\"table\":[{\"cells\":{\"fill\":{\"color\":\"#EBF0F8\"},\"line\":{\"color\":\"white\"}},\"header\":{\"fill\":{\"color\":\"#C8D4E3\"},\"line\":{\"color\":\"white\"}},\"type\":\"table\"}]},\"layout\":{\"annotationdefaults\":{\"arrowcolor\":\"#2a3f5f\",\"arrowhead\":0,\"arrowwidth\":1},\"autotypenumbers\":\"strict\",\"coloraxis\":{\"colorbar\":{\"outlinewidth\":0,\"ticks\":\"\"}},\"colorscale\":{\"diverging\":[[0,\"#8e0152\"],[0.1,\"#c51b7d\"],[0.2,\"#de77ae\"],[0.3,\"#f1b6da\"],[0.4,\"#fde0ef\"],[0.5,\"#f7f7f7\"],[0.6,\"#e6f5d0\"],[0.7,\"#b8e186\"],[0.8,\"#7fbc41\"],[0.9,\"#4d9221\"],[1,\"#276419\"]],\"sequential\":[[0.0,\"#0d0887\"],[0.1111111111111111,\"#46039f\"],[0.2222222222222222,\"#7201a8\"],[0.3333333333333333,\"#9c179e\"],[0.4444444444444444,\"#bd3786\"],[0.5555555555555556,\"#d8576b\"],[0.6666666666666666,\"#ed7953\"],[0.7777777777777778,\"#fb9f3a\"],[0.8888888888888888,\"#fdca26\"],[1.0,\"#f0f921\"]],\"sequentialminus\":[[0.0,\"#0d0887\"],[0.1111111111111111,\"#46039f\"],[0.2222222222222222,\"#7201a8\"],[0.3333333333333333,\"#9c179e\"],[0.4444444444444444,\"#bd3786\"],[0.5555555555555556,\"#d8576b\"],[0.6666666666666666,\"#ed7953\"],[0.7777777777777778,\"#fb9f3a\"],[0.8888888888888888,\"#fdca26\"],[1.0,\"#f0f921\"]]},\"colorway\":[\"#636efa\",\"#EF553B\",\"#00cc96\",\"#ab63fa\",\"#FFA15A\",\"#19d3f3\",\"#FF6692\",\"#B6E880\",\"#FF97FF\",\"#FECB52\"],\"font\":{\"color\":\"#2a3f5f\"},\"geo\":{\"bgcolor\":\"white\",\"lakecolor\":\"white\",\"landcolor\":\"#E5ECF6\",\"showlakes\":true,\"showland\":true,\"subunitcolor\":\"white\"},\"hoverlabel\":{\"align\":\"left\"},\"hovermode\":\"closest\",\"mapbox\":{\"style\":\"light\"},\"paper_bgcolor\":\"white\",\"plot_bgcolor\":\"#E5ECF6\",\"polar\":{\"angularaxis\":{\"gridcolor\":\"white\",\"linecolor\":\"white\",\"ticks\":\"\"},\"bgcolor\":\"#E5ECF6\",\"radialaxis\":{\"gridcolor\":\"white\",\"linecolor\":\"white\",\"ticks\":\"\"}},\"scene\":{\"xaxis\":{\"backgroundcolor\":\"#E5ECF6\",\"gridcolor\":\"white\",\"gridwidth\":2,\"linecolor\":\"white\",\"showbackground\":true,\"ticks\":\"\",\"zerolinecolor\":\"white\"},\"yaxis\":{\"backgroundcolor\":\"#E5ECF6\",\"gridcolor\":\"white\",\"gridwidth\":2,\"linecolor\":\"white\",\"showbackground\":true,\"ticks\":\"\",\"zerolinecolor\":\"white\"},\"zaxis\":{\"backgroundcolor\":\"#E5ECF6\",\"gridcolor\":\"white\",\"gridwidth\":2,\"linecolor\":\"white\",\"showbackground\":true,\"ticks\":\"\",\"zerolinecolor\":\"white\"}},\"shapedefaults\":{\"line\":{\"color\":\"#2a3f5f\"}},\"ternary\":{\"aaxis\":{\"gridcolor\":\"white\",\"linecolor\":\"white\",\"ticks\":\"\"},\"baxis\":{\"gridcolor\":\"white\",\"linecolor\":\"white\",\"ticks\":\"\"},\"bgcolor\":\"#E5ECF6\",\"caxis\":{\"gridcolor\":\"white\",\"linecolor\":\"white\",\"ticks\":\"\"}},\"title\":{\"x\":0.05},\"xaxis\":{\"automargin\":true,\"gridcolor\":\"white\",\"linecolor\":\"white\",\"ticks\":\"\",\"title\":{\"standoff\":15},\"zerolinecolor\":\"white\",\"zerolinewidth\":2},\"yaxis\":{\"automargin\":true,\"gridcolor\":\"white\",\"linecolor\":\"white\",\"ticks\":\"\",\"title\":{\"standoff\":15},\"zerolinecolor\":\"white\",\"zerolinewidth\":2}}},\"title\":{\"text\":\"ARIMA(0,1,0)\\ubaa8\\ud615\"},\"height\":400,\"width\":1000},                        {\"responsive\": true}                    ).then(function(){\n",
              "                            \n",
              "var gd = document.getElementById('849d4ba8-fb82-4651-aff9-018fab414a7b');\n",
              "var x = new MutationObserver(function (mutations, observer) {{\n",
              "        var display = window.getComputedStyle(gd).display;\n",
              "        if (!display || display === 'none') {{\n",
              "            console.log([gd, 'removed!']);\n",
              "            Plotly.purge(gd);\n",
              "            observer.disconnect();\n",
              "        }}\n",
              "}});\n",
              "\n",
              "// Listen for the removal of the full notebook cells\n",
              "var notebookContainer = gd.closest('#notebook-container');\n",
              "if (notebookContainer) {{\n",
              "    x.observe(notebookContainer, {childList: true});\n",
              "}}\n",
              "\n",
              "// Listen for the clearing of the current output cell\n",
              "var outputEl = gd.closest('.output');\n",
              "if (outputEl) {{\n",
              "    x.observe(outputEl, {childList: true});\n",
              "}}\n",
              "\n",
              "                        })                };                            </script>        </div>\n",
              "</body>\n",
              "</html>"
            ]
          },
          "metadata": {},
          "output_type": "display_data"
        }
      ],
      "source": [
        "from plotly.subplots import make_subplots\n",
        "import plotly.graph_objects as go\n",
        "\n",
        "fig = go.Figure([\n",
        "    # 훈련 데이터-------------------------------------------------------\n",
        "    go.Scatter(x = y_train.index, y = y_train, name = \"Train\", mode = 'lines'\n",
        "              ,line=dict(color = 'royalblue'))\n",
        "    # 테스트 데이터------------------------------------------------------\n",
        "    , go.Scatter(x = y_test.index, y = y_test, name = \"Test\", mode = 'lines'\n",
        "                ,line = dict(color = 'rgba(0,0,30,0.5)'))\n",
        "    # 예측값-----------------------------------------------------------\n",
        "    , go.Scatter(x = y_test.index, y = y_pred, name = \"Prediction\", mode = 'lines'\n",
        "                     ,line = dict(color = 'red', dash = 'dot', width=3))\n",
        "    \n",
        "    # 신뢰 구간---------------------------------------------------------\n",
        "    , go.Scatter(x = y_test.index.tolist() + y_test.index[::-1].tolist() \n",
        "                ,y = pred_upper + pred_lower[::-1] ## 상위 신뢰 구간 -> 하위 신뢰 구간 역순으로\n",
        "                ,fill='toself'\n",
        "                ,fillcolor='rgba(0,0,30,0.1)'\n",
        "                ,line=dict(color='rgba(0,0,0,0)')\n",
        "                ,hoverinfo=\"skip\"\n",
        "                ,showlegend=False)\n",
        "])\n",
        "\n",
        "fig.update_layout(height=400, width=1000, title_text=\"ARIMA(0,1,0)모형\")\n",
        "fig.show()"
      ]
    },
    {
      "cell_type": "markdown",
      "metadata": {
        "id": "iokGWEhG6b5S"
      },
      "source": [
        "#### 모델 평가\n",
        "MAPE"
      ]
    },
    {
      "cell_type": "code",
      "execution_count": null,
      "metadata": {
        "colab": {
          "base_uri": "https://localhost:8080/"
        },
        "id": "DV2o9nIa6b5S",
        "outputId": "bc2c8608-05a5-4e40-9ba1-1ae21213bac3"
      },
      "outputs": [
        {
          "name": "stdout",
          "output_type": "stream",
          "text": [
            "MAPE: 1.458\n"
          ]
        }
      ],
      "source": [
        "def MAPE(y_test, y_pred):\n",
        "\treturn np.mean(np.abs((y_test - y_pred) / y_test)) * 100 \n",
        "    \n",
        "print(f\"MAPE: {MAPE(y_test, y_pred):.3f}\")"
      ]
    },
    {
      "cell_type": "code",
      "execution_count": null,
      "metadata": {
        "id": "n5XN1LVYuzIG"
      },
      "outputs": [],
      "source": [
        ""
      ]
    },
    {
      "cell_type": "code",
      "execution_count": null,
      "metadata": {
        "id": "xACRACtguzKx"
      },
      "outputs": [],
      "source": [
        ""
      ]
    }
  ],
  "metadata": {
    "colab": {
      "name": "ARIMA 4종목",
      "provenance": []
    },
    "kernelspec": {
      "display_name": "Python 3",
      "name": "python3"
    },
    "language_info": {
      "name": "python"
    }
  },
  "nbformat": 4,
  "nbformat_minor": 0
}