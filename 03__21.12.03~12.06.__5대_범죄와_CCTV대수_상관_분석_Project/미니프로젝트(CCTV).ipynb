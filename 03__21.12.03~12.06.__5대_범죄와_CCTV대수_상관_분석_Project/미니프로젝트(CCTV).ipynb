{
  "cells": [
    {
      "cell_type": "code",
      "execution_count": null,
      "id": "f636ac14",
      "metadata": {
        "id": "f636ac14"
      },
      "outputs": [],
      "source": [
        "import pandas as pd\n",
        "from matplotlib import font_manager, rc\n",
        "import matplotlib.pyplot as plt\n",
        "font_name = font_manager.FontProperties(fname=\"c:/Windows/Fonts/malgun.ttf\").get_name()\n",
        "rc('font', family=font_name)\n",
        "import numpy as np\n",
        "import warnings\n",
        "import seaborn as sns\n",
        "\n",
        "warnings.filterwarnings(action='ignore')"
      ]
    },
    {
      "cell_type": "code",
      "execution_count": null,
      "id": "a44ded06",
      "metadata": {
        "id": "a44ded06"
      },
      "outputs": [],
      "source": [
        "df_12 = pd.read_csv('경찰청_서울특별시지방경찰청_관서별 5대범죄 발생 및 검거 현황_2012.csv', encoding='euc-kr')\n",
        "df_13 = pd.read_csv('경찰청_서울특별시지방경찰청_관서별 5대범죄 발생 및 검거 현황_2013.csv', encoding='euc-kr')\n",
        "df_14 = pd.read_csv('경찰청_서울특별시지방경찰청_관서별 5대범죄 발생 및 검거 현황_2014.csv', encoding='euc-kr')\n",
        "df_15 = pd.read_csv('경찰청_서울특별시지방경찰청_관서별 5대범죄 발생 및 검거 현황_2015.csv', encoding='euc-kr')\n",
        "df_16 = pd.read_csv('경찰청_서울특별시지방경찰청_관서별 5대범죄 발생 및 검거 현황_2016.csv', encoding='euc-kr')\n",
        "df_17 = pd.read_csv('경찰청_서울특별시지방경찰청_관서별 5대범죄 발생 및 검거 현황_2017.csv', encoding='euc-kr')\n",
        "df_18 = pd.read_csv('경찰청_서울특별시지방경찰청_관서별 5대범죄 발생 및 검거 현황_2018.csv', encoding='euc-kr')\n",
        "df_19 = pd.read_csv('경찰청_서울특별시지방경찰청_관서별 5대범죄 발생 및 검거 현황_2019.csv', encoding='euc-kr')\n",
        "df_20 = pd.read_csv('경찰청 서울특별시경찰청_경찰서별 5대범죄 발생 검거 현황_12_31_2020.csv', encoding='euc-kr')"
      ]
    },
    {
      "cell_type": "code",
      "execution_count": null,
      "id": "89640ce5",
      "metadata": {
        "id": "89640ce5"
      },
      "outputs": [],
      "source": [
        "df_total = pd.concat([df_12,df_13,df_14,df_15,df_16,df_17,df_18,df_19,df_20])"
      ]
    },
    {
      "cell_type": "code",
      "execution_count": null,
      "id": "3ed7d55e",
      "metadata": {
        "id": "3ed7d55e",
        "outputId": "a8ccc118-6cb5-47e0-d877-8e389b44077e"
      },
      "outputs": [
        {
          "data": {
            "text/html": [
              "<div>\n",
              "<style scoped>\n",
              "    .dataframe tbody tr th:only-of-type {\n",
              "        vertical-align: middle;\n",
              "    }\n",
              "\n",
              "    .dataframe tbody tr th {\n",
              "        vertical-align: top;\n",
              "    }\n",
              "\n",
              "    .dataframe thead th {\n",
              "        text-align: right;\n",
              "    }\n",
              "</style>\n",
              "<table border=\"1\" class=\"dataframe\">\n",
              "  <thead>\n",
              "    <tr style=\"text-align: right;\">\n",
              "      <th></th>\n",
              "      <th>구분</th>\n",
              "      <th>죄종</th>\n",
              "      <th>발생검거</th>\n",
              "      <th>건수</th>\n",
              "      <th>년도</th>\n",
              "    </tr>\n",
              "  </thead>\n",
              "  <tbody>\n",
              "    <tr>\n",
              "      <th>0</th>\n",
              "      <td>중부</td>\n",
              "      <td>살인</td>\n",
              "      <td>발생</td>\n",
              "      <td>4</td>\n",
              "      <td>2012</td>\n",
              "    </tr>\n",
              "    <tr>\n",
              "      <th>1</th>\n",
              "      <td>중부</td>\n",
              "      <td>살인</td>\n",
              "      <td>검거</td>\n",
              "      <td>5</td>\n",
              "      <td>2012</td>\n",
              "    </tr>\n",
              "    <tr>\n",
              "      <th>2</th>\n",
              "      <td>중부</td>\n",
              "      <td>강도</td>\n",
              "      <td>발생</td>\n",
              "      <td>9</td>\n",
              "      <td>2012</td>\n",
              "    </tr>\n",
              "    <tr>\n",
              "      <th>3</th>\n",
              "      <td>중부</td>\n",
              "      <td>강도</td>\n",
              "      <td>검거</td>\n",
              "      <td>8</td>\n",
              "      <td>2012</td>\n",
              "    </tr>\n",
              "    <tr>\n",
              "      <th>4</th>\n",
              "      <td>중부</td>\n",
              "      <td>강간</td>\n",
              "      <td>발생</td>\n",
              "      <td>100</td>\n",
              "      <td>2012</td>\n",
              "    </tr>\n",
              "    <tr>\n",
              "      <th>...</th>\n",
              "      <td>...</td>\n",
              "      <td>...</td>\n",
              "      <td>...</td>\n",
              "      <td>...</td>\n",
              "      <td>...</td>\n",
              "    </tr>\n",
              "    <tr>\n",
              "      <th>305</th>\n",
              "      <td>수서</td>\n",
              "      <td>강간</td>\n",
              "      <td>검거</td>\n",
              "      <td>194</td>\n",
              "      <td>2020</td>\n",
              "    </tr>\n",
              "    <tr>\n",
              "      <th>306</th>\n",
              "      <td>수서</td>\n",
              "      <td>절도</td>\n",
              "      <td>발생</td>\n",
              "      <td>1010</td>\n",
              "      <td>2020</td>\n",
              "    </tr>\n",
              "    <tr>\n",
              "      <th>307</th>\n",
              "      <td>수서</td>\n",
              "      <td>절도</td>\n",
              "      <td>검거</td>\n",
              "      <td>475</td>\n",
              "      <td>2020</td>\n",
              "    </tr>\n",
              "    <tr>\n",
              "      <th>308</th>\n",
              "      <td>수서</td>\n",
              "      <td>폭력</td>\n",
              "      <td>발생</td>\n",
              "      <td>1394</td>\n",
              "      <td>2020</td>\n",
              "    </tr>\n",
              "    <tr>\n",
              "      <th>309</th>\n",
              "      <td>수서</td>\n",
              "      <td>폭력</td>\n",
              "      <td>검거</td>\n",
              "      <td>1200</td>\n",
              "      <td>2020</td>\n",
              "    </tr>\n",
              "  </tbody>\n",
              "</table>\n",
              "<p>2790 rows × 5 columns</p>\n",
              "</div>"
            ],
            "text/plain": [
              "     구분  죄종 발생검거    건수    년도\n",
              "0    중부  살인   발생     4  2012\n",
              "1    중부  살인   검거     5  2012\n",
              "2    중부  강도   발생     9  2012\n",
              "3    중부  강도   검거     8  2012\n",
              "4    중부  강간   발생   100  2012\n",
              "..   ..  ..  ...   ...   ...\n",
              "305  수서  강간   검거   194  2020\n",
              "306  수서  절도   발생  1010  2020\n",
              "307  수서  절도   검거   475  2020\n",
              "308  수서  폭력   발생  1394  2020\n",
              "309  수서  폭력   검거  1200  2020\n",
              "\n",
              "[2790 rows x 5 columns]"
            ]
          },
          "execution_count": 4,
          "metadata": {},
          "output_type": "execute_result"
        }
      ],
      "source": [
        "df_total"
      ]
    },
    {
      "cell_type": "code",
      "execution_count": null,
      "id": "79b7f97e",
      "metadata": {
        "id": "79b7f97e",
        "outputId": "9f83e0af-ed65-462b-e53b-6d6a02427e82"
      },
      "outputs": [
        {
          "data": {
            "text/plain": [
              "구분      0\n",
              "죄종      0\n",
              "발생검거    0\n",
              "건수      0\n",
              "년도      0\n",
              "dtype: int64"
            ]
          },
          "execution_count": 116,
          "metadata": {},
          "output_type": "execute_result"
        }
      ],
      "source": [
        "df_total.isna().sum()"
      ]
    },
    {
      "cell_type": "code",
      "execution_count": null,
      "id": "ea16d0c3",
      "metadata": {
        "id": "ea16d0c3",
        "outputId": "44f4042c-d708-48bb-a32c-62a0d5a48e65"
      },
      "outputs": [
        {
          "data": {
            "text/plain": [
              "구분      0\n",
              "죄종      0\n",
              "발생검거    0\n",
              "건수      0\n",
              "년도      0\n",
              "dtype: int64"
            ]
          },
          "execution_count": 117,
          "metadata": {},
          "output_type": "execute_result"
        }
      ],
      "source": [
        "df_total.isnull().sum()"
      ]
    },
    {
      "cell_type": "code",
      "execution_count": null,
      "id": "a47d582d",
      "metadata": {
        "id": "a47d582d",
        "outputId": "908e234a-4a00-4376-bb68-2b3ed9c132ea"
      },
      "outputs": [
        {
          "name": "stdout",
          "output_type": "stream",
          "text": [
            "<class 'pandas.core.frame.DataFrame'>\n",
            "Int64Index: 2790 entries, 0 to 309\n",
            "Data columns (total 5 columns):\n",
            " #   Column  Non-Null Count  Dtype \n",
            "---  ------  --------------  ----- \n",
            " 0   구분      2790 non-null   object\n",
            " 1   죄종      2790 non-null   object\n",
            " 2   발생검거    2790 non-null   object\n",
            " 3   건수      2790 non-null   int64 \n",
            " 4   년도      2790 non-null   int64 \n",
            "dtypes: int64(2), object(3)\n",
            "memory usage: 130.8+ KB\n"
          ]
        }
      ],
      "source": [
        "df_total.info()"
      ]
    },
    {
      "cell_type": "code",
      "execution_count": null,
      "id": "831dc556",
      "metadata": {
        "id": "831dc556",
        "outputId": "aa084485-2656-4b98-dfa6-57b85244cf5b"
      },
      "outputs": [
        {
          "data": {
            "text/html": [
              "<div>\n",
              "<style scoped>\n",
              "    .dataframe tbody tr th:only-of-type {\n",
              "        vertical-align: middle;\n",
              "    }\n",
              "\n",
              "    .dataframe tbody tr th {\n",
              "        vertical-align: top;\n",
              "    }\n",
              "\n",
              "    .dataframe thead th {\n",
              "        text-align: right;\n",
              "    }\n",
              "</style>\n",
              "<table border=\"1\" class=\"dataframe\">\n",
              "  <thead>\n",
              "    <tr style=\"text-align: right;\">\n",
              "      <th></th>\n",
              "      <th>구분</th>\n",
              "      <th>죄종</th>\n",
              "      <th>발생검거</th>\n",
              "      <th>건수</th>\n",
              "      <th>년도</th>\n",
              "    </tr>\n",
              "  </thead>\n",
              "  <tbody>\n",
              "    <tr>\n",
              "      <th>0</th>\n",
              "      <td>중부</td>\n",
              "      <td>살인</td>\n",
              "      <td>발생</td>\n",
              "      <td>1</td>\n",
              "      <td>2020</td>\n",
              "    </tr>\n",
              "    <tr>\n",
              "      <th>1</th>\n",
              "      <td>중부</td>\n",
              "      <td>살인</td>\n",
              "      <td>검거</td>\n",
              "      <td>1</td>\n",
              "      <td>2020</td>\n",
              "    </tr>\n",
              "    <tr>\n",
              "      <th>2</th>\n",
              "      <td>중부</td>\n",
              "      <td>강도</td>\n",
              "      <td>발생</td>\n",
              "      <td>3</td>\n",
              "      <td>2020</td>\n",
              "    </tr>\n",
              "    <tr>\n",
              "      <th>3</th>\n",
              "      <td>중부</td>\n",
              "      <td>강도</td>\n",
              "      <td>검거</td>\n",
              "      <td>4</td>\n",
              "      <td>2020</td>\n",
              "    </tr>\n",
              "    <tr>\n",
              "      <th>4</th>\n",
              "      <td>중부</td>\n",
              "      <td>강간</td>\n",
              "      <td>발생</td>\n",
              "      <td>113</td>\n",
              "      <td>2020</td>\n",
              "    </tr>\n",
              "    <tr>\n",
              "      <th>...</th>\n",
              "      <td>...</td>\n",
              "      <td>...</td>\n",
              "      <td>...</td>\n",
              "      <td>...</td>\n",
              "      <td>...</td>\n",
              "    </tr>\n",
              "    <tr>\n",
              "      <th>305</th>\n",
              "      <td>수서</td>\n",
              "      <td>강간</td>\n",
              "      <td>검거</td>\n",
              "      <td>194</td>\n",
              "      <td>2020</td>\n",
              "    </tr>\n",
              "    <tr>\n",
              "      <th>306</th>\n",
              "      <td>수서</td>\n",
              "      <td>절도</td>\n",
              "      <td>발생</td>\n",
              "      <td>1010</td>\n",
              "      <td>2020</td>\n",
              "    </tr>\n",
              "    <tr>\n",
              "      <th>307</th>\n",
              "      <td>수서</td>\n",
              "      <td>절도</td>\n",
              "      <td>검거</td>\n",
              "      <td>475</td>\n",
              "      <td>2020</td>\n",
              "    </tr>\n",
              "    <tr>\n",
              "      <th>308</th>\n",
              "      <td>수서</td>\n",
              "      <td>폭력</td>\n",
              "      <td>발생</td>\n",
              "      <td>1394</td>\n",
              "      <td>2020</td>\n",
              "    </tr>\n",
              "    <tr>\n",
              "      <th>309</th>\n",
              "      <td>수서</td>\n",
              "      <td>폭력</td>\n",
              "      <td>검거</td>\n",
              "      <td>1200</td>\n",
              "      <td>2020</td>\n",
              "    </tr>\n",
              "  </tbody>\n",
              "</table>\n",
              "<p>310 rows × 5 columns</p>\n",
              "</div>"
            ],
            "text/plain": [
              "     구분  죄종 발생검거    건수    년도\n",
              "0    중부  살인   발생     1  2020\n",
              "1    중부  살인   검거     1  2020\n",
              "2    중부  강도   발생     3  2020\n",
              "3    중부  강도   검거     4  2020\n",
              "4    중부  강간   발생   113  2020\n",
              "..   ..  ..  ...   ...   ...\n",
              "305  수서  강간   검거   194  2020\n",
              "306  수서  절도   발생  1010  2020\n",
              "307  수서  절도   검거   475  2020\n",
              "308  수서  폭력   발생  1394  2020\n",
              "309  수서  폭력   검거  1200  2020\n",
              "\n",
              "[310 rows x 5 columns]"
            ]
          },
          "execution_count": 5,
          "metadata": {},
          "output_type": "execute_result"
        }
      ],
      "source": [
        "df_20"
      ]
    },
    {
      "cell_type": "code",
      "execution_count": null,
      "id": "3f435d6e",
      "metadata": {
        "id": "3f435d6e",
        "outputId": "83d294e0-48e3-41b3-edfa-3b51124084e1"
      },
      "outputs": [
        {
          "data": {
            "text/html": [
              "<div>\n",
              "<style scoped>\n",
              "    .dataframe tbody tr th:only-of-type {\n",
              "        vertical-align: middle;\n",
              "    }\n",
              "\n",
              "    .dataframe tbody tr th {\n",
              "        vertical-align: top;\n",
              "    }\n",
              "\n",
              "    .dataframe thead th {\n",
              "        text-align: right;\n",
              "    }\n",
              "</style>\n",
              "<table border=\"1\" class=\"dataframe\">\n",
              "  <thead>\n",
              "    <tr style=\"text-align: right;\">\n",
              "      <th></th>\n",
              "      <th>년도</th>\n",
              "      <th>총계</th>\n",
              "      <th>발생</th>\n",
              "      <th>검거</th>\n",
              "    </tr>\n",
              "  </thead>\n",
              "  <tbody>\n",
              "    <tr>\n",
              "      <th>0</th>\n",
              "      <td>2012년</td>\n",
              "      <td>2200</td>\n",
              "      <td>137724</td>\n",
              "      <td>81741</td>\n",
              "    </tr>\n",
              "    <tr>\n",
              "      <th>1</th>\n",
              "      <td>2013년</td>\n",
              "      <td>3491</td>\n",
              "      <td>132958</td>\n",
              "      <td>78232</td>\n",
              "    </tr>\n",
              "    <tr>\n",
              "      <th>2</th>\n",
              "      <td>2014년</td>\n",
              "      <td>4439</td>\n",
              "      <td>130674</td>\n",
              "      <td>77879</td>\n",
              "    </tr>\n",
              "    <tr>\n",
              "      <th>3</th>\n",
              "      <td>2015년</td>\n",
              "      <td>6582</td>\n",
              "      <td>126401</td>\n",
              "      <td>81193</td>\n",
              "    </tr>\n",
              "    <tr>\n",
              "      <th>4</th>\n",
              "      <td>2016년</td>\n",
              "      <td>8129</td>\n",
              "      <td>117839</td>\n",
              "      <td>83056</td>\n",
              "    </tr>\n",
              "    <tr>\n",
              "      <th>5</th>\n",
              "      <td>2017년</td>\n",
              "      <td>9947</td>\n",
              "      <td>107835</td>\n",
              "      <td>78109</td>\n",
              "    </tr>\n",
              "    <tr>\n",
              "      <th>6</th>\n",
              "      <td>2018년</td>\n",
              "      <td>9876</td>\n",
              "      <td>101948</td>\n",
              "      <td>73196</td>\n",
              "    </tr>\n",
              "    <tr>\n",
              "      <th>7</th>\n",
              "      <td>2019년</td>\n",
              "      <td>11961</td>\n",
              "      <td>103606</td>\n",
              "      <td>73345</td>\n",
              "    </tr>\n",
              "    <tr>\n",
              "      <th>8</th>\n",
              "      <td>2020년</td>\n",
              "      <td>11132</td>\n",
              "      <td>92679</td>\n",
              "      <td>65378</td>\n",
              "    </tr>\n",
              "  </tbody>\n",
              "</table>\n",
              "</div>"
            ],
            "text/plain": [
              "      년도     총계      발생     검거\n",
              "0  2012년   2200  137724  81741\n",
              "1  2013년   3491  132958  78232\n",
              "2  2014년   4439  130674  77879\n",
              "3  2015년   6582  126401  81193\n",
              "4  2016년   8129  117839  83056\n",
              "5  2017년   9947  107835  78109\n",
              "6  2018년   9876  101948  73196\n",
              "7  2019년  11961  103606  73345\n",
              "8  2020년  11132   92679  65378"
            ]
          },
          "execution_count": 6,
          "metadata": {},
          "output_type": "execute_result"
        }
      ],
      "source": [
        "df_cctv = pd.read_csv(\"CCTV.csv\", encoding='utf-8')\n",
        "df_cctv"
      ]
    },
    {
      "cell_type": "code",
      "execution_count": null,
      "id": "dbb37bbc",
      "metadata": {
        "id": "dbb37bbc"
      },
      "outputs": [],
      "source": [
        "df_12_b = df_12.loc[df_12.발생검거=='발생', '건수'].sum()\n",
        "df_12_c = df_12.loc[df_12.발생검거=='검거', '건수'].sum()\n",
        "df_13_b = df_13.loc[df_13.발생검거=='발생', '건수'].sum()\n",
        "df_13_c = df_13.loc[df_13.발생검거=='검거', '건수'].sum()\n",
        "df_14_b = df_14.loc[df_14.발생검거=='발생', '건수'].sum()\n",
        "df_14_c = df_14.loc[df_14.발생검거=='검거', '건수'].sum()\n",
        "df_15_b = df_15.loc[df_15.발생검거=='발생', '건수'].sum()\n",
        "df_15_c = df_15.loc[df_15.발생검거=='검거', '건수'].sum()\n",
        "df_16_b = df_16.loc[df_16.발생검거=='발생', '건수'].sum()\n",
        "df_16_c = df_16.loc[df_16.발생검거=='검거', '건수'].sum()\n",
        "df_17_b = df_17.loc[df_17.발생검거=='발생', '건수'].sum()\n",
        "df_17_c = df_17.loc[df_17.발생검거=='검거', '건수'].sum()\n",
        "df_18_b = df_18.loc[df_18.발생검거=='발생', '건수'].sum()\n",
        "df_18_c = df_18.loc[df_18.발생검거=='검거', '건수'].sum()\n",
        "df_19_b = df_19.loc[df_19.발생검거=='발생', '건수'].sum()\n",
        "df_19_c = df_19.loc[df_19.발생검거=='검거', '건수'].sum()\n",
        "df_20_b = df_20.loc[df_20.발생검거=='발생', '건수'].sum()\n",
        "df_20_c = df_20.loc[df_20.발생검거=='검거', '건수'].sum()"
      ]
    },
    {
      "cell_type": "code",
      "execution_count": null,
      "id": "494e9cb8",
      "metadata": {
        "id": "494e9cb8",
        "outputId": "1fe86704-04b2-4565-ee08-b28d1d43ae61"
      },
      "outputs": [
        {
          "name": "stdout",
          "output_type": "stream",
          "text": [
            "137724 81741 132958 78232 130674 77879 126401 81193 117839 83056 107835 78109 101948 73196 103606 73345 92679 65378\n"
          ]
        }
      ],
      "source": [
        "print(df_12_b, df_12_c, df_13_b, df_13_c, df_14_b, df_14_c, df_15_b, df_15_c, df_16_b, df_16_c, df_17_b, df_17_c, df_18_b, df_18_c, df_19_b, df_19_c, df_20_b, df_20_c)"
      ]
    },
    {
      "cell_type": "code",
      "execution_count": null,
      "id": "a2d402fb",
      "metadata": {
        "id": "a2d402fb",
        "outputId": "1514ba31-d6b9-4894-c944-715745238a26"
      },
      "outputs": [
        {
          "data": {
            "text/html": [
              "<div>\n",
              "<style scoped>\n",
              "    .dataframe tbody tr th:only-of-type {\n",
              "        vertical-align: middle;\n",
              "    }\n",
              "\n",
              "    .dataframe tbody tr th {\n",
              "        vertical-align: top;\n",
              "    }\n",
              "\n",
              "    .dataframe thead th {\n",
              "        text-align: right;\n",
              "    }\n",
              "</style>\n",
              "<table border=\"1\" class=\"dataframe\">\n",
              "  <thead>\n",
              "    <tr style=\"text-align: right;\">\n",
              "      <th></th>\n",
              "      <th>년도</th>\n",
              "      <th>총계</th>\n",
              "      <th>발생</th>\n",
              "      <th>검거</th>\n",
              "      <th>검거율</th>\n",
              "    </tr>\n",
              "  </thead>\n",
              "  <tbody>\n",
              "    <tr>\n",
              "      <th>0</th>\n",
              "      <td>2012년</td>\n",
              "      <td>2200</td>\n",
              "      <td>137724</td>\n",
              "      <td>81741</td>\n",
              "      <td>59.3</td>\n",
              "    </tr>\n",
              "    <tr>\n",
              "      <th>1</th>\n",
              "      <td>2013년</td>\n",
              "      <td>3491</td>\n",
              "      <td>132958</td>\n",
              "      <td>78232</td>\n",
              "      <td>58.8</td>\n",
              "    </tr>\n",
              "    <tr>\n",
              "      <th>2</th>\n",
              "      <td>2014년</td>\n",
              "      <td>4439</td>\n",
              "      <td>130674</td>\n",
              "      <td>77879</td>\n",
              "      <td>59.5</td>\n",
              "    </tr>\n",
              "    <tr>\n",
              "      <th>3</th>\n",
              "      <td>2015년</td>\n",
              "      <td>6582</td>\n",
              "      <td>126401</td>\n",
              "      <td>81193</td>\n",
              "      <td>64.2</td>\n",
              "    </tr>\n",
              "    <tr>\n",
              "      <th>4</th>\n",
              "      <td>2016년</td>\n",
              "      <td>8129</td>\n",
              "      <td>117839</td>\n",
              "      <td>83056</td>\n",
              "      <td>70.4</td>\n",
              "    </tr>\n",
              "    <tr>\n",
              "      <th>5</th>\n",
              "      <td>2017년</td>\n",
              "      <td>9947</td>\n",
              "      <td>107835</td>\n",
              "      <td>78109</td>\n",
              "      <td>72.4</td>\n",
              "    </tr>\n",
              "    <tr>\n",
              "      <th>6</th>\n",
              "      <td>2018년</td>\n",
              "      <td>9876</td>\n",
              "      <td>101948</td>\n",
              "      <td>73196</td>\n",
              "      <td>71.7</td>\n",
              "    </tr>\n",
              "    <tr>\n",
              "      <th>7</th>\n",
              "      <td>2019년</td>\n",
              "      <td>11961</td>\n",
              "      <td>103606</td>\n",
              "      <td>73345</td>\n",
              "      <td>70.7</td>\n",
              "    </tr>\n",
              "    <tr>\n",
              "      <th>8</th>\n",
              "      <td>2020년</td>\n",
              "      <td>11132</td>\n",
              "      <td>92679</td>\n",
              "      <td>65378</td>\n",
              "      <td>70.5</td>\n",
              "    </tr>\n",
              "  </tbody>\n",
              "</table>\n",
              "</div>"
            ],
            "text/plain": [
              "      년도     총계      발생     검거   검거율\n",
              "0  2012년   2200  137724  81741  59.3\n",
              "1  2013년   3491  132958  78232  58.8\n",
              "2  2014년   4439  130674  77879  59.5\n",
              "3  2015년   6582  126401  81193  64.2\n",
              "4  2016년   8129  117839  83056  70.4\n",
              "5  2017년   9947  107835  78109  72.4\n",
              "6  2018년   9876  101948  73196  71.7\n",
              "7  2019년  11961  103606  73345  70.7\n",
              "8  2020년  11132   92679  65378  70.5"
            ]
          },
          "execution_count": 9,
          "metadata": {},
          "output_type": "execute_result"
        }
      ],
      "source": [
        "df_cctv['검거율'] =''\n",
        "df_cctv.loc[:,'검거율'] = ((df_cctv.검거 / df_cctv.발생) * 1000).astype(int)/10\n",
        "df_cctv"
      ]
    },
    {
      "cell_type": "code",
      "execution_count": null,
      "id": "6b2e807a",
      "metadata": {
        "id": "6b2e807a",
        "outputId": "4292f473-4fce-4388-f49b-202a7e71fb27"
      },
      "outputs": [
        {
          "data": {
            "text/plain": [
              "<AxesSubplot:xlabel='년도', ylabel='검거율'>"
            ]
          },
          "execution_count": 10,
          "metadata": {},
          "output_type": "execute_result"
        },
        {
          "data": {
            "image/png": "[encoded data removed]",
            "text/plain": [
              "<Figure size 432x288 with 1 Axes>"
            ]
          },
          "metadata": {
            "needs_background": "light"
          },
          "output_type": "display_data"
        }
      ],
      "source": [
        "sns.lineplot(df_cctv.년도, df_cctv.검거율)"
      ]
    },
    {
      "cell_type": "code",
      "execution_count": null,
      "id": "b682339c",
      "metadata": {
        "id": "b682339c"
      },
      "outputs": [],
      "source": [
        "x = df_cctv['년도']\n",
        "y1 = df_cctv['검거율']\n",
        "y2 = df_cctv['총계']"
      ]
    },
    {
      "cell_type": "code",
      "execution_count": null,
      "id": "f542afc1",
      "metadata": {
        "id": "f542afc1",
        "outputId": "c29a7527-88a4-4657-c9a0-e539904350f2"
      },
      "outputs": [
        {
          "data": {
            "image/png": "[encoded data removed]",
            "text/plain": [
              "<Figure size 432x432 with 2 Axes>"
            ]
          },
          "metadata": {
            "needs_background": "light"
          },
          "output_type": "display_data"
        }
      ],
      "source": [
        "fig = plt.figure(figsize=(6,6))\n",
        "ax1 = fig.add_subplot()\n",
        "ax1.plot(x, y1, color = 'r')\n",
        "ax1.set_xlabel('년도')\n",
        "ax1.set_ylabel('검거율')\n",
        "\n",
        "ax2 = ax1.twinx()\n",
        "ax2.plot(x, y2, color = 'b')\n",
        "ax2.set_ylabel('총계')\n",
        "\n",
        "\n",
        "plt.show()"
      ]
    },
    {
      "cell_type": "code",
      "execution_count": null,
      "id": "2b30fc25",
      "metadata": {
        "id": "2b30fc25",
        "outputId": "cf471ef6-93f0-40cf-f7ee-2af21cf55aa9"
      },
      "outputs": [
        {
          "data": {
            "text/html": [
              "<div>\n",
              "<style scoped>\n",
              "    .dataframe tbody tr th:only-of-type {\n",
              "        vertical-align: middle;\n",
              "    }\n",
              "\n",
              "    .dataframe tbody tr th {\n",
              "        vertical-align: top;\n",
              "    }\n",
              "\n",
              "    .dataframe thead th {\n",
              "        text-align: right;\n",
              "    }\n",
              "</style>\n",
              "<table border=\"1\" class=\"dataframe\">\n",
              "  <thead>\n",
              "    <tr style=\"text-align: right;\">\n",
              "      <th></th>\n",
              "      <th>총계</th>\n",
              "      <th>발생</th>\n",
              "      <th>검거</th>\n",
              "      <th>검거율</th>\n",
              "    </tr>\n",
              "  </thead>\n",
              "  <tbody>\n",
              "    <tr>\n",
              "      <th>총계</th>\n",
              "      <td>1.000000</td>\n",
              "      <td>-0.954156</td>\n",
              "      <td>-0.627705</td>\n",
              "      <td>0.936013</td>\n",
              "    </tr>\n",
              "    <tr>\n",
              "      <th>발생</th>\n",
              "      <td>-0.954156</td>\n",
              "      <td>1.000000</td>\n",
              "      <td>0.785046</td>\n",
              "      <td>-0.895484</td>\n",
              "    </tr>\n",
              "    <tr>\n",
              "      <th>검거</th>\n",
              "      <td>-0.627705</td>\n",
              "      <td>0.785046</td>\n",
              "      <td>1.000000</td>\n",
              "      <td>-0.428442</td>\n",
              "    </tr>\n",
              "    <tr>\n",
              "      <th>검거율</th>\n",
              "      <td>0.936013</td>\n",
              "      <td>-0.895484</td>\n",
              "      <td>-0.428442</td>\n",
              "      <td>1.000000</td>\n",
              "    </tr>\n",
              "  </tbody>\n",
              "</table>\n",
              "</div>"
            ],
            "text/plain": [
              "           총계        발생        검거       검거율\n",
              "총계   1.000000 -0.954156 -0.627705  0.936013\n",
              "발생  -0.954156  1.000000  0.785046 -0.895484\n",
              "검거  -0.627705  0.785046  1.000000 -0.428442\n",
              "검거율  0.936013 -0.895484 -0.428442  1.000000"
            ]
          },
          "execution_count": 13,
          "metadata": {},
          "output_type": "execute_result"
        }
      ],
      "source": [
        "df_corr = df_cctv.corr()\n",
        "df_corr"
      ]
    },
    {
      "cell_type": "code",
      "execution_count": null,
      "id": "171b8962",
      "metadata": {
        "id": "171b8962",
        "outputId": "07fc304f-e69b-4d3a-b2f0-0ce65b277765"
      },
      "outputs": [
        {
          "data": {
            "image/png": "[encoded data removed]",
            "text/plain": [
              "<Figure size 432x288 with 2 Axes>"
            ]
          },
          "metadata": {
            "needs_background": "light"
          },
          "output_type": "display_data"
        }
      ],
      "source": [
        "\n",
        "sns.heatmap(df_corr,annot=True)\n",
        "plt.rc(\"axes\", unicode_minus = False)\n"
      ]
    },
    {
      "cell_type": "code",
      "execution_count": null,
      "id": "c2d0dff5",
      "metadata": {
        "id": "c2d0dff5"
      },
      "outputs": [],
      "source": [
        "x = df_cctv['년도']\n",
        "y1 = df_cctv['발생']\n",
        "y2 = df_cctv['총계']"
      ]
    },
    {
      "cell_type": "code",
      "execution_count": null,
      "id": "3aabd3f3",
      "metadata": {
        "id": "3aabd3f3",
        "outputId": "b14838de-791c-4410-8fa7-4037cc1be84f"
      },
      "outputs": [
        {
          "data": {
            "image/png": "[encoded data removed]",
            "text/plain": [
              "<Figure size 432x432 with 2 Axes>"
            ]
          },
          "metadata": {
            "needs_background": "light"
          },
          "output_type": "display_data"
        }
      ],
      "source": [
        "fig = plt.figure(figsize=(6,6))\n",
        "ax1 = fig.add_subplot()\n",
        "ax1.plot(x, y1, color = 'r')\n",
        "ax1.set_xlabel('년도')\n",
        "ax1.set_ylabel('발생')\n",
        "\n",
        "ax2 = ax1.twinx()\n",
        "ax2.plot(x, y2, color = 'b')\n",
        "ax2.set_ylabel('총계')\n",
        "\n",
        "ax1.legend(['발생'], loc='upper left')\n",
        "ax2.legend(['총계'], loc='upper right')\n",
        "\n",
        "plt.show()"
      ]
    },
    {
      "cell_type": "code",
      "execution_count": null,
      "id": "befa09f5",
      "metadata": {
        "id": "befa09f5",
        "outputId": "26c5c392-8355-4760-c4a8-dee611d8afd7"
      },
      "outputs": [
        {
          "data": {
            "image/png": "[encoded data removed]",
            "text/plain": [
              "<Figure size 432x288 with 1 Axes>"
            ]
          },
          "metadata": {
            "needs_background": "light"
          },
          "output_type": "display_data"
        }
      ],
      "source": [
        "plt.plot(df_cctv.년도, df_cctv.발생, label='발생')\n",
        "plt.plot(df_cctv.년도, df_cctv.검거, label='검거')\n",
        "\n",
        "plt.legend()\n",
        "plt.show()"
      ]
    },
    {
      "cell_type": "code",
      "execution_count": null,
      "id": "6a9c6595",
      "metadata": {
        "id": "6a9c6595",
        "outputId": "40101155-138e-43d3-8cf5-22912fdce037"
      },
      "outputs": [
        {
          "data": {
            "text/html": [
              "<div>\n",
              "<style scoped>\n",
              "    .dataframe tbody tr th:only-of-type {\n",
              "        vertical-align: middle;\n",
              "    }\n",
              "\n",
              "    .dataframe tbody tr th {\n",
              "        vertical-align: top;\n",
              "    }\n",
              "\n",
              "    .dataframe thead th {\n",
              "        text-align: right;\n",
              "    }\n",
              "</style>\n",
              "<table border=\"1\" class=\"dataframe\">\n",
              "  <thead>\n",
              "    <tr style=\"text-align: right;\">\n",
              "      <th></th>\n",
              "      <th>구분</th>\n",
              "      <th>죄종</th>\n",
              "      <th>발생검거</th>\n",
              "      <th>건수</th>\n",
              "      <th>년도</th>\n",
              "    </tr>\n",
              "  </thead>\n",
              "  <tbody>\n",
              "    <tr>\n",
              "      <th>0</th>\n",
              "      <td>중부</td>\n",
              "      <td>살인</td>\n",
              "      <td>발생</td>\n",
              "      <td>4</td>\n",
              "      <td>2012</td>\n",
              "    </tr>\n",
              "    <tr>\n",
              "      <th>1</th>\n",
              "      <td>중부</td>\n",
              "      <td>살인</td>\n",
              "      <td>검거</td>\n",
              "      <td>5</td>\n",
              "      <td>2012</td>\n",
              "    </tr>\n",
              "    <tr>\n",
              "      <th>2</th>\n",
              "      <td>중부</td>\n",
              "      <td>강도</td>\n",
              "      <td>발생</td>\n",
              "      <td>9</td>\n",
              "      <td>2012</td>\n",
              "    </tr>\n",
              "    <tr>\n",
              "      <th>3</th>\n",
              "      <td>중부</td>\n",
              "      <td>강도</td>\n",
              "      <td>검거</td>\n",
              "      <td>8</td>\n",
              "      <td>2012</td>\n",
              "    </tr>\n",
              "    <tr>\n",
              "      <th>4</th>\n",
              "      <td>중부</td>\n",
              "      <td>강간</td>\n",
              "      <td>발생</td>\n",
              "      <td>100</td>\n",
              "      <td>2012</td>\n",
              "    </tr>\n",
              "    <tr>\n",
              "      <th>...</th>\n",
              "      <td>...</td>\n",
              "      <td>...</td>\n",
              "      <td>...</td>\n",
              "      <td>...</td>\n",
              "      <td>...</td>\n",
              "    </tr>\n",
              "    <tr>\n",
              "      <th>305</th>\n",
              "      <td>수서</td>\n",
              "      <td>강간</td>\n",
              "      <td>검거</td>\n",
              "      <td>86</td>\n",
              "      <td>2012</td>\n",
              "    </tr>\n",
              "    <tr>\n",
              "      <th>306</th>\n",
              "      <td>수서</td>\n",
              "      <td>절도</td>\n",
              "      <td>발생</td>\n",
              "      <td>1820</td>\n",
              "      <td>2012</td>\n",
              "    </tr>\n",
              "    <tr>\n",
              "      <th>307</th>\n",
              "      <td>수서</td>\n",
              "      <td>절도</td>\n",
              "      <td>검거</td>\n",
              "      <td>464</td>\n",
              "      <td>2012</td>\n",
              "    </tr>\n",
              "    <tr>\n",
              "      <th>308</th>\n",
              "      <td>수서</td>\n",
              "      <td>폭력</td>\n",
              "      <td>발생</td>\n",
              "      <td>1920</td>\n",
              "      <td>2012</td>\n",
              "    </tr>\n",
              "    <tr>\n",
              "      <th>309</th>\n",
              "      <td>수서</td>\n",
              "      <td>폭력</td>\n",
              "      <td>검거</td>\n",
              "      <td>1519</td>\n",
              "      <td>2012</td>\n",
              "    </tr>\n",
              "  </tbody>\n",
              "</table>\n",
              "<p>310 rows × 5 columns</p>\n",
              "</div>"
            ],
            "text/plain": [
              "     구분  죄종 발생검거    건수    년도\n",
              "0    중부  살인   발생     4  2012\n",
              "1    중부  살인   검거     5  2012\n",
              "2    중부  강도   발생     9  2012\n",
              "3    중부  강도   검거     8  2012\n",
              "4    중부  강간   발생   100  2012\n",
              "..   ..  ..  ...   ...   ...\n",
              "305  수서  강간   검거    86  2012\n",
              "306  수서  절도   발생  1820  2012\n",
              "307  수서  절도   검거   464  2012\n",
              "308  수서  폭력   발생  1920  2012\n",
              "309  수서  폭력   검거  1519  2012\n",
              "\n",
              "[310 rows x 5 columns]"
            ]
          },
          "execution_count": 18,
          "metadata": {},
          "output_type": "execute_result"
        }
      ],
      "source": [
        "df_12"
      ]
    },
    {
      "cell_type": "code",
      "execution_count": null,
      "id": "7104d3ce",
      "metadata": {
        "id": "7104d3ce"
      },
      "outputs": [],
      "source": [
        "# 연도별 발생건수"
      ]
    },
    {
      "cell_type": "code",
      "execution_count": null,
      "id": "6edae1bb",
      "metadata": {
        "id": "6edae1bb",
        "outputId": "22cbc5c4-0af3-4c62-fa71-e027c9d8badd"
      },
      "outputs": [
        {
          "name": "stdout",
          "output_type": "stream",
          "text": [
            "178 570 4908 61436 70632\n"
          ]
        }
      ],
      "source": [
        "df_12_bg=df_12.loc[df_12[\"발생검거\"]==\"발생\"]\n",
        "df_12_murder_b=df_12_bg.loc[df_12_bg[\"죄종\"]==\"살인\"]\n",
        "df_12_rob_b=df_12_bg.loc[df_12_bg[\"죄종\"]==\"강도\"]\n",
        "df_12_rape_b=df_12_bg.loc[df_12_bg[\"죄종\"]==\"강간\"]\n",
        "df_12_theft_b=df_12_bg.loc[df_12_bg[\"죄종\"]==\"절도\"]\n",
        "df_12_violence_b=df_12_bg.loc[df_12_bg[\"죄종\"]==\"폭력\"]\n",
        "\n",
        "\n",
        "print(df_12_murder_b.건수.sum(),df_12_rob_b.건수.sum(),df_12_rape_b.건수.sum(),df_12_theft_b.건수.sum(),df_12_violence_b.건수.sum())"
      ]
    },
    {
      "cell_type": "code",
      "execution_count": null,
      "id": "e8de1b79",
      "metadata": {
        "id": "e8de1b79",
        "outputId": "04236115-0ebf-4e92-e61c-d698ef8b555a"
      },
      "outputs": [
        {
          "name": "stdout",
          "output_type": "stream",
          "text": [
            "152 420 5384 61585 65417\n"
          ]
        }
      ],
      "source": [
        "df_13_bg=df_13.loc[df_13[\"발생검거\"]==\"발생\"]\n",
        "df_13_murder_b=df_13_bg.loc[df_13_bg[\"죄종\"]==\"살인\"]\n",
        "df_13_rob_b=df_13_bg.loc[df_13_bg[\"죄종\"]==\"강도\"]\n",
        "df_13_rape_b=df_13_bg.loc[df_13_bg[\"죄종\"]==\"강간\"]\n",
        "df_13_theft_b=df_13_bg.loc[df_13_bg[\"죄종\"]==\"절도\"]\n",
        "df_13_violence_b=df_13_bg.loc[df_13_bg[\"죄종\"]==\"폭력\"]\n",
        "\n",
        "\n",
        "print(df_13_murder_b.건수.sum(),df_13_rob_b.건수.sum(),df_13_rape_b.건수.sum(),df_13_theft_b.건수.sum(),df_13_violence_b.건수.sum())"
      ]
    },
    {
      "cell_type": "code",
      "execution_count": null,
      "id": "9de7ea30",
      "metadata": {
        "id": "9de7ea30",
        "outputId": "16768f8c-1b95-4b51-d4b9-73429a1cce40"
      },
      "outputs": [
        {
          "name": "stdout",
          "output_type": "stream",
          "text": [
            "158 343 5462 59393 65318\n"
          ]
        }
      ],
      "source": [
        "df_14_bg=df_14.loc[df_14[\"발생검거\"]==\"발생\"]\n",
        "df_14_murder_b=df_14_bg.loc[df_14_bg[\"죄종\"]==\"살인\"]\n",
        "df_14_rob_b=df_14_bg.loc[df_14_bg[\"죄종\"]==\"강도\"]\n",
        "df_14_rape_b=df_14_bg.loc[df_14_bg[\"죄종\"]==\"강간\"]\n",
        "df_14_theft_b=df_14_bg.loc[df_14_bg[\"죄종\"]==\"절도\"]\n",
        "df_14_violence_b=df_14_bg.loc[df_14_bg[\"죄종\"]==\"폭력\"]\n",
        "\n",
        "\n",
        "print(df_14_murder_b.건수.sum(),df_14_rob_b.건수.sum(),df_14_rape_b.건수.sum(),df_14_theft_b.건수.sum(),df_14_violence_b.건수.sum())"
      ]
    },
    {
      "cell_type": "code",
      "execution_count": null,
      "id": "0d395544",
      "metadata": {
        "id": "0d395544",
        "outputId": "045031c9-b16c-4e56-f2da-23cbfa31f394"
      },
      "outputs": [
        {
          "name": "stdout",
          "output_type": "stream",
          "text": [
            "163 276 5449 55307 65206\n"
          ]
        }
      ],
      "source": [
        "df_15_bg=df_15.loc[df_15[\"발생검거\"]==\"발생\"]\n",
        "df_15_murder_b=df_15_bg.loc[df_15_bg[\"죄종\"]==\"살인\"]\n",
        "df_15_rob_b=df_15_bg.loc[df_15_bg[\"죄종\"]==\"강도\"]\n",
        "df_15_rape_b=df_15_bg.loc[df_15_bg[\"죄종\"]==\"강간\"]\n",
        "df_15_theft_b=df_15_bg.loc[df_15_bg[\"죄종\"]==\"절도\"]\n",
        "df_15_violence_b=df_15_bg.loc[df_15_bg[\"죄종\"]==\"폭력\"]\n",
        "\n",
        "\n",
        "print(df_15_murder_b.건수.sum(),df_15_rob_b.건수.sum(),df_15_rape_b.건수.sum(),df_15_theft_b.건수.sum(),df_15_violence_b.건수.sum())"
      ]
    },
    {
      "cell_type": "code",
      "execution_count": null,
      "id": "2d0e47fa",
      "metadata": {
        "id": "2d0e47fa",
        "outputId": "529e5a17-fb51-4fc2-ae8d-bf99092cf2a5"
      },
      "outputs": [
        {
          "name": "stdout",
          "output_type": "stream",
          "text": [
            "148 262 6002 46857 64570\n"
          ]
        }
      ],
      "source": [
        "df_16_bg=df_16.loc[df_16[\"발생검거\"]==\"발생\"]\n",
        "df_16_murder_b=df_16_bg.loc[df_16_bg[\"죄종\"]==\"살인\"]\n",
        "df_16_rob_b=df_16_bg.loc[df_16_bg[\"죄종\"]==\"강도\"]\n",
        "df_16_rape_b=df_16_bg.loc[df_16_bg[\"죄종\"]==\"강간\"]\n",
        "df_16_theft_b=df_16_bg.loc[df_16_bg[\"죄종\"]==\"절도\"]\n",
        "df_16_violence_b=df_16_bg.loc[df_16_bg[\"죄종\"]==\"폭력\"]\n",
        "\n",
        "\n",
        "print(df_16_murder_b.건수.sum(),df_16_rob_b.건수.sum(),df_16_rape_b.건수.sum(),df_16_theft_b.건수.sum(),df_16_violence_b.건수.sum())"
      ]
    },
    {
      "cell_type": "code",
      "execution_count": null,
      "id": "dc376fc5",
      "metadata": {
        "id": "dc376fc5",
        "outputId": "ac6c0545-4801-4d0e-87f2-2af3f6c928cf"
      },
      "outputs": [
        {
          "name": "stdout",
          "output_type": "stream",
          "text": [
            "142 169 6963 41162 59399\n"
          ]
        }
      ],
      "source": [
        "df_17_bg=df_17.loc[df_17[\"발생검거\"]==\"발생\"]\n",
        "df_17_murder_b=df_17_bg.loc[df_17_bg[\"죄종\"]==\"살인\"]\n",
        "df_17_rob_b=df_17_bg.loc[df_17_bg[\"죄종\"]==\"강도\"]\n",
        "df_17_rape_b=df_17_bg.loc[df_17_bg[\"죄종\"]==\"강간\"]\n",
        "df_17_theft_b=df_17_bg.loc[df_17_bg[\"죄종\"]==\"절도\"]\n",
        "df_17_violence_b=df_17_bg.loc[df_17_bg[\"죄종\"]==\"폭력\"]\n",
        "\n",
        "\n",
        "print(df_17_murder_b.건수.sum(),df_17_rob_b.건수.sum(),df_17_rape_b.건수.sum(),df_17_theft_b.건수.sum(),df_17_violence_b.건수.sum())"
      ]
    },
    {
      "cell_type": "code",
      "execution_count": null,
      "id": "a5666c78",
      "metadata": {
        "id": "a5666c78",
        "outputId": "205bbedc-da09-45e4-8591-e9c4ae3901f4"
      },
      "outputs": [
        {
          "name": "stdout",
          "output_type": "stream",
          "text": [
            "143 143 6412 39175 56075\n"
          ]
        }
      ],
      "source": [
        "df_18_bg=df_18.loc[df_18[\"발생검거\"]==\"발생\"]\n",
        "df_18_murder_b=df_18_bg.loc[df_18_bg[\"죄종\"]==\"살인\"]\n",
        "df_18_rob_b=df_18_bg.loc[df_18_bg[\"죄종\"]==\"강도\"]\n",
        "df_18_rape_b=df_18_bg.loc[df_18_bg[\"죄종\"]==\"강간\"]\n",
        "df_18_theft_b=df_18_bg.loc[df_18_bg[\"죄종\"]==\"절도\"]\n",
        "df_18_violence_b=df_18_bg.loc[df_18_bg[\"죄종\"]==\"폭력\"]\n",
        "\n",
        "\n",
        "print(df_18_murder_b.건수.sum(),df_18_rob_b.건수.sum(),df_18_rape_b.건수.sum(),df_18_theft_b.건수.sum(),df_18_violence_b.건수.sum())"
      ]
    },
    {
      "cell_type": "code",
      "execution_count": null,
      "id": "c8965c52",
      "metadata": {
        "id": "c8965c52",
        "outputId": "443c05ac-61ae-4ad2-a336-a7012422c4cb"
      },
      "outputs": [
        {
          "name": "stdout",
          "output_type": "stream",
          "text": [
            "136 136 6469 42204 54661\n"
          ]
        }
      ],
      "source": [
        "df_19_bg=df_19.loc[df_19[\"발생검거\"]==\"발생\"]\n",
        "df_19_murder_b=df_19_bg.loc[df_19_bg[\"죄종\"]==\"살인\"]\n",
        "df_19_rob_b=df_19_bg.loc[df_19_bg[\"죄종\"]==\"강도\"]\n",
        "df_19_rape_b=df_19_bg.loc[df_19_bg[\"죄종\"]==\"강간\"]\n",
        "df_19_theft_b=df_19_bg.loc[df_19_bg[\"죄종\"]==\"절도\"]\n",
        "df_19_violence_b=df_19_bg.loc[df_19_bg[\"죄종\"]==\"폭력\"]\n",
        "\n",
        "\n",
        "print(df_19_murder_b.건수.sum(),df_19_rob_b.건수.sum(),df_19_rape_b.건수.sum(),df_19_theft_b.건수.sum(),df_19_violence_b.건수.sum())"
      ]
    },
    {
      "cell_type": "code",
      "execution_count": null,
      "id": "c700c04e",
      "metadata": {
        "id": "c700c04e",
        "outputId": "444ac259-6d33-40da-a733-8e61d3bc0cb2"
      },
      "outputs": [
        {
          "name": "stdout",
          "output_type": "stream",
          "text": [
            "141 138 5763 38293 48344\n"
          ]
        }
      ],
      "source": [
        "df_20_bg=df_20.loc[df_20[\"발생검거\"]==\"발생\"]\n",
        "df_20_murder_b=df_20_bg.loc[df_20_bg[\"죄종\"]==\"살인\"]\n",
        "df_20_rob_b=df_20_bg.loc[df_20_bg[\"죄종\"]==\"강도\"]\n",
        "df_20_rape_b=df_20_bg.loc[df_20_bg[\"죄종\"]==\"강간\"]\n",
        "df_20_theft_b=df_20_bg.loc[df_20_bg[\"죄종\"]==\"절도\"]\n",
        "df_20_violence_b=df_20_bg.loc[df_20_bg[\"죄종\"]==\"폭력\"]\n",
        "\n",
        "\n",
        "print(df_20_murder_b.건수.sum(),df_20_rob_b.건수.sum(),df_20_rape_b.건수.sum(),df_20_theft_b.건수.sum(),df_20_violence_b.건수.sum())"
      ]
    },
    {
      "cell_type": "code",
      "execution_count": null,
      "id": "97b42dfc",
      "metadata": {
        "id": "97b42dfc"
      },
      "outputs": [],
      "source": [
        "# 2019 살인 발생건수 합계\n",
        "# df_19_balsaeng=df_19.loc[df_19[\"발생검거\"]==\"발생\"]\n",
        "# df_19_balsaeng_murder=df_19_balsaeng.loc[df_19_balsaeng[\"죄종\"]==\"살인\"]\n",
        "# df_19_balsaeng_murder.건수.sum()\n",
        "# df_19_balsaeng=df_19.loc[df_19[\"발생검거\"]==\"발생\"]\n",
        "# df_19_balsaeng_rob=df_19_balsaeng.loc[df_19_balsaeng[\"죄종\"]==\"강도\"]\n",
        "# df_19_balsaeng_rob.건수.sum()"
      ]
    },
    {
      "cell_type": "code",
      "execution_count": null,
      "id": "ff3e5df9",
      "metadata": {
        "id": "ff3e5df9"
      },
      "outputs": [],
      "source": [
        ""
      ]
    },
    {
      "cell_type": "code",
      "execution_count": null,
      "id": "598807a7",
      "metadata": {
        "id": "598807a7"
      },
      "outputs": [],
      "source": [
        "# 연도별 검거건수"
      ]
    },
    {
      "cell_type": "code",
      "execution_count": null,
      "id": "643d7b07",
      "metadata": {
        "id": "643d7b07",
        "outputId": "824576ac-9018-40ee-c346-96e7d2c66602"
      },
      "outputs": [
        {
          "name": "stdout",
          "output_type": "stream",
          "text": [
            "173 452 3721 18950 58445\n"
          ]
        }
      ],
      "source": [
        "df_12_g=df_12.loc[df_12[\"발생검거\"]==\"검거\"]\n",
        "df_12_murder_g=df_12_g.loc[df_12_g[\"죄종\"]==\"살인\"]\n",
        "df_12_rob_g=df_12_g.loc[df_12_g[\"죄종\"]==\"강도\"]\n",
        "df_12_rape_g=df_12_g.loc[df_12_g[\"죄종\"]==\"강간\"]\n",
        "df_12_theft_g=df_12_g.loc[df_12_g[\"죄종\"]==\"절도\"]\n",
        "df_12_violence_g=df_12_g.loc[df_12_g[\"죄종\"]==\"폭력\"]\n",
        "\n",
        "\n",
        "print(df_12_murder_g.건수.sum(),df_12_rob_g.건수.sum(),df_12_rape_g.건수.sum(),df_12_theft_g.건수.sum(),df_12_violence_g.건수.sum())"
      ]
    },
    {
      "cell_type": "code",
      "execution_count": null,
      "id": "2507bd15",
      "metadata": {
        "id": "2507bd15",
        "outputId": "2ef71ec7-a5da-4272-afaa-a335c1560aab"
      },
      "outputs": [
        {
          "name": "stdout",
          "output_type": "stream",
          "text": [
            "141 330 3958 19727 54076\n"
          ]
        }
      ],
      "source": [
        "df_13_g=df_13.loc[df_13[\"발생검거\"]==\"검거\"]\n",
        "df_13_murder_g=df_13_g.loc[df_13_g[\"죄종\"]==\"살인\"]\n",
        "df_13_rob_g=df_13_g.loc[df_13_g[\"죄종\"]==\"강도\"]\n",
        "df_13_rape_g=df_13_g.loc[df_13_g[\"죄종\"]==\"강간\"]\n",
        "df_13_theft_g=df_13_g.loc[df_13_g[\"죄종\"]==\"절도\"]\n",
        "df_13_violence_g=df_13_g.loc[df_13_g[\"죄종\"]==\"폭력\"]\n",
        "\n",
        "\n",
        "print(df_13_murder_g.건수.sum(),df_13_rob_g.건수.sum(),df_13_rape_g.건수.sum(),df_13_theft_g.건수.sum(),df_13_violence_g.건수.sum())"
      ]
    },
    {
      "cell_type": "code",
      "execution_count": null,
      "id": "24de5604",
      "metadata": {
        "id": "24de5604",
        "outputId": "ea7f8458-6267-431c-b13c-7c6d4a4eefd0"
      },
      "outputs": [
        {
          "name": "stdout",
          "output_type": "stream",
          "text": [
            "147 292 4160 18905 54375\n"
          ]
        }
      ],
      "source": [
        "df_14_g=df_14.loc[df_14[\"발생검거\"]==\"검거\"]\n",
        "df_14_murder_g=df_14_g.loc[df_14_g[\"죄종\"]==\"살인\"]\n",
        "df_14_rob_g=df_14_g.loc[df_14_g[\"죄종\"]==\"강도\"]\n",
        "df_14_rape_g=df_14_g.loc[df_14_g[\"죄종\"]==\"강간\"]\n",
        "df_14_theft_g=df_14_g.loc[df_14_g[\"죄종\"]==\"절도\"]\n",
        "df_14_violence_g=df_14_g.loc[df_14_g[\"죄종\"]==\"폭력\"]\n",
        "\n",
        "\n",
        "print(df_14_murder_g.건수.sum(),df_14_rob_g.건수.sum(),df_14_rape_g.건수.sum(),df_14_theft_g.건수.sum(),df_14_violence_g.건수.sum())"
      ]
    },
    {
      "cell_type": "code",
      "execution_count": null,
      "id": "8a2af0fd",
      "metadata": {
        "id": "8a2af0fd",
        "outputId": "b69fb9c0-c844-4302-9fa6-d4c7ad2dd908"
      },
      "outputs": [
        {
          "name": "stdout",
          "output_type": "stream",
          "text": [
            "153 253 4091 21534 55162\n"
          ]
        }
      ],
      "source": [
        "df_15_g=df_15.loc[df_15[\"발생검거\"]==\"검거\"]\n",
        "df_15_murder_g=df_15_g.loc[df_15_g[\"죄종\"]==\"살인\"]\n",
        "df_15_rob_g=df_15_g.loc[df_15_g[\"죄종\"]==\"강도\"]\n",
        "df_15_rape_g=df_15_g.loc[df_15_g[\"죄종\"]==\"강간\"]\n",
        "df_15_theft_g=df_15_g.loc[df_15_g[\"죄종\"]==\"절도\"]\n",
        "df_15_violence_g=df_15_g.loc[df_15_g[\"죄종\"]==\"폭력\"]\n",
        "\n",
        "\n",
        "print(df_15_murder_g.건수.sum(),df_15_rob_g.건수.sum(),df_15_rape_g.건수.sum(),df_15_theft_g.건수.sum(),df_15_violence_g.건수.sum())"
      ]
    },
    {
      "cell_type": "code",
      "execution_count": null,
      "id": "52d68069",
      "metadata": {
        "id": "52d68069",
        "outputId": "18acb6cc-d2b1-4b2a-fc8c-6e8cc5a4120a"
      },
      "outputs": [
        {
          "name": "stdout",
          "output_type": "stream",
          "text": [
            "144 252 4636 22314 55710\n"
          ]
        }
      ],
      "source": [
        "df_16_g=df_16.loc[df_16[\"발생검거\"]==\"검거\"]\n",
        "df_16_murder_g=df_16_g.loc[df_16_g[\"죄종\"]==\"살인\"]\n",
        "df_16_rob_g=df_16_g.loc[df_16_g[\"죄종\"]==\"강도\"]\n",
        "df_16_rape_g=df_16_g.loc[df_16_g[\"죄종\"]==\"강간\"]\n",
        "df_16_theft_g=df_16_g.loc[df_16_g[\"죄종\"]==\"절도\"]\n",
        "df_16_violence_g=df_16_g.loc[df_16_g[\"죄종\"]==\"폭력\"]\n",
        "\n",
        "\n",
        "print(df_16_murder_g.건수.sum(),df_16_rob_g.건수.sum(),df_16_rape_g.건수.sum(),df_16_theft_g.건수.sum(),df_16_violence_g.건수.sum())"
      ]
    },
    {
      "cell_type": "code",
      "execution_count": null,
      "id": "2482e45f",
      "metadata": {
        "id": "2482e45f",
        "outputId": "2d59d407-e486-4f38-b977-6837102c98c8"
      },
      "outputs": [
        {
          "name": "stdout",
          "output_type": "stream",
          "text": [
            "136 163 5319 21174 51317\n"
          ]
        }
      ],
      "source": [
        "df_17_g=df_17.loc[df_17[\"발생검거\"]==\"검거\"]\n",
        "df_17_murder_g=df_17_g.loc[df_17_g[\"죄종\"]==\"살인\"]\n",
        "df_17_rob_g=df_17_g.loc[df_17_g[\"죄종\"]==\"강도\"]\n",
        "df_17_rape_g=df_17_g.loc[df_17_g[\"죄종\"]==\"강간\"]\n",
        "df_17_theft_g=df_17_g.loc[df_17_g[\"죄종\"]==\"절도\"]\n",
        "df_17_violence_g=df_17_g.loc[df_17_g[\"죄종\"]==\"폭력\"]\n",
        "\n",
        "\n",
        "print(df_17_murder_g.건수.sum(),df_17_rob_g.건수.sum(),df_17_rape_g.건수.sum(),df_17_theft_g.건수.sum(),df_17_violence_g.건수.sum())"
      ]
    },
    {
      "cell_type": "code",
      "execution_count": null,
      "id": "d88feb82",
      "metadata": {
        "id": "d88feb82",
        "outputId": "93662542-3ffc-4a31-fadb-983c7cdb9375"
      },
      "outputs": [
        {
          "name": "stdout",
          "output_type": "stream",
          "text": [
            "137 146 5118 19531 48264\n"
          ]
        }
      ],
      "source": [
        "df_18_g=df_18.loc[df_18[\"발생검거\"]==\"검거\"]\n",
        "df_18_murder_g=df_18_g.loc[df_18_g[\"죄종\"]==\"살인\"]\n",
        "df_18_rob_g=df_18_g.loc[df_18_g[\"죄종\"]==\"강도\"]\n",
        "df_18_rape_g=df_18_g.loc[df_18_g[\"죄종\"]==\"강간\"]\n",
        "df_18_theft_g=df_18_g.loc[df_18_g[\"죄종\"]==\"절도\"]\n",
        "df_18_violence_g=df_18_g.loc[df_18_g[\"죄종\"]==\"폭력\"]\n",
        "\n",
        "\n",
        "print(df_18_murder_g.건수.sum(),df_18_rob_g.건수.sum(),df_18_rape_g.건수.sum(),df_18_theft_g.건수.sum(),df_18_violence_g.건수.sum())"
      ]
    },
    {
      "cell_type": "code",
      "execution_count": null,
      "id": "db5df0dd",
      "metadata": {
        "id": "db5df0dd",
        "outputId": "18739057-109f-430c-dfbf-72db3753b94b"
      },
      "outputs": [
        {
          "name": "stdout",
          "output_type": "stream",
          "text": [
            "126 131 5041 20948 47099\n"
          ]
        }
      ],
      "source": [
        "df_19_g=df_19.loc[df_19[\"발생검거\"]==\"검거\"]\n",
        "df_19_murder_g=df_19_g.loc[df_19_g[\"죄종\"]==\"살인\"]\n",
        "df_19_rob_g=df_19_g.loc[df_19_g[\"죄종\"]==\"강도\"]\n",
        "df_19_rape_g=df_19_g.loc[df_19_g[\"죄종\"]==\"강간\"]\n",
        "df_19_theft_g=df_19_g.loc[df_19_g[\"죄종\"]==\"절도\"]\n",
        "df_19_violence_g=df_19_g.loc[df_19_g[\"죄종\"]==\"폭력\"]\n",
        "\n",
        "\n",
        "print(df_19_murder_g.건수.sum(),df_19_rob_g.건수.sum(),df_19_rape_g.건수.sum(),df_19_theft_g.건수.sum(),df_19_violence_g.건수.sum())"
      ]
    },
    {
      "cell_type": "code",
      "execution_count": null,
      "id": "30b66c35",
      "metadata": {
        "id": "30b66c35",
        "outputId": "323c7fd8-2979-4abc-9b9c-9010a9931ebf"
      },
      "outputs": [
        {
          "name": "stdout",
          "output_type": "stream",
          "text": [
            "125 130 4749 19355 41019\n"
          ]
        }
      ],
      "source": [
        "df_20_g=df_20.loc[df_20[\"발생검거\"]==\"검거\"]\n",
        "df_20_murder_g=df_20_g.loc[df_20_g[\"죄종\"]==\"살인\"]\n",
        "df_20_rob_g=df_20_g.loc[df_20_g[\"죄종\"]==\"강도\"]\n",
        "df_20_rape_g=df_20_g.loc[df_20_g[\"죄종\"]==\"강간\"]\n",
        "df_20_theft_g=df_20_g.loc[df_20_g[\"죄종\"]==\"절도\"]\n",
        "df_20_violence_g=df_20_g.loc[df_20_g[\"죄종\"]==\"폭력\"]\n",
        "\n",
        "\n",
        "print(df_20_murder_g.건수.sum(),df_20_rob_g.건수.sum(),df_20_rape_g.건수.sum(),df_20_theft_g.건수.sum(),df_20_violence_g.건수.sum())"
      ]
    },
    {
      "cell_type": "code",
      "execution_count": null,
      "id": "520d3529",
      "metadata": {
        "id": "520d3529"
      },
      "outputs": [],
      "source": [
        ""
      ]
    },
    {
      "cell_type": "code",
      "execution_count": null,
      "id": "03343df1",
      "metadata": {
        "id": "03343df1"
      },
      "outputs": [],
      "source": [
        ""
      ]
    },
    {
      "cell_type": "code",
      "execution_count": null,
      "id": "92f2083b",
      "metadata": {
        "id": "92f2083b",
        "outputId": "52d14c3b-fb82-4c57-c51c-3c8143fa91c5"
      },
      "outputs": [
        {
          "data": {
            "text/html": [
              "<div>\n",
              "<style scoped>\n",
              "    .dataframe tbody tr th:only-of-type {\n",
              "        vertical-align: middle;\n",
              "    }\n",
              "\n",
              "    .dataframe tbody tr th {\n",
              "        vertical-align: top;\n",
              "    }\n",
              "\n",
              "    .dataframe thead th {\n",
              "        text-align: right;\n",
              "    }\n",
              "</style>\n",
              "<table border=\"1\" class=\"dataframe\">\n",
              "  <thead>\n",
              "    <tr style=\"text-align: right;\">\n",
              "      <th></th>\n",
              "      <th>연도</th>\n",
              "      <th>죄종</th>\n",
              "      <th>발생건수</th>\n",
              "      <th>cctv건수</th>\n",
              "      <th>검거건수</th>\n",
              "    </tr>\n",
              "  </thead>\n",
              "  <tbody>\n",
              "    <tr>\n",
              "      <th>0</th>\n",
              "      <td>2012</td>\n",
              "      <td>살인</td>\n",
              "      <td>178</td>\n",
              "      <td>2200</td>\n",
              "      <td>173</td>\n",
              "    </tr>\n",
              "    <tr>\n",
              "      <th>1</th>\n",
              "      <td>2012</td>\n",
              "      <td>강도</td>\n",
              "      <td>570</td>\n",
              "      <td>2200</td>\n",
              "      <td>452</td>\n",
              "    </tr>\n",
              "    <tr>\n",
              "      <th>2</th>\n",
              "      <td>2012</td>\n",
              "      <td>강간</td>\n",
              "      <td>4908</td>\n",
              "      <td>2200</td>\n",
              "      <td>3721</td>\n",
              "    </tr>\n",
              "    <tr>\n",
              "      <th>3</th>\n",
              "      <td>2012</td>\n",
              "      <td>절도</td>\n",
              "      <td>61436</td>\n",
              "      <td>2200</td>\n",
              "      <td>18950</td>\n",
              "    </tr>\n",
              "    <tr>\n",
              "      <th>4</th>\n",
              "      <td>2012</td>\n",
              "      <td>폭력</td>\n",
              "      <td>70632</td>\n",
              "      <td>2200</td>\n",
              "      <td>58445</td>\n",
              "    </tr>\n",
              "  </tbody>\n",
              "</table>\n",
              "</div>"
            ],
            "text/plain": [
              "     연도  죄종   발생건수  cctv건수   검거건수\n",
              "0  2012  살인    178    2200    173\n",
              "1  2012  강도    570    2200    452\n",
              "2  2012  강간   4908    2200   3721\n",
              "3  2012  절도  61436    2200  18950\n",
              "4  2012  폭력  70632    2200  58445"
            ]
          },
          "execution_count": 40,
          "metadata": {},
          "output_type": "execute_result"
        }
      ],
      "source": [
        "df_crime = pd.read_csv(\"연도별_5대범죄_발생건수.csv\", encoding='utf-8')\n",
        "df_crime.head()"
      ]
    },
    {
      "cell_type": "code",
      "execution_count": null,
      "id": "ec0c8b8f",
      "metadata": {
        "id": "ec0c8b8f"
      },
      "outputs": [],
      "source": [
        ""
      ]
    },
    {
      "cell_type": "code",
      "execution_count": null,
      "id": "019b4f7d",
      "metadata": {
        "id": "019b4f7d",
        "outputId": "7870c527-564e-4141-f24f-2aac78e33ce6"
      },
      "outputs": [
        {
          "data": {
            "text/html": [
              "<div>\n",
              "<style scoped>\n",
              "    .dataframe tbody tr th:only-of-type {\n",
              "        vertical-align: middle;\n",
              "    }\n",
              "\n",
              "    .dataframe tbody tr th {\n",
              "        vertical-align: top;\n",
              "    }\n",
              "\n",
              "    .dataframe thead th {\n",
              "        text-align: right;\n",
              "    }\n",
              "</style>\n",
              "<table border=\"1\" class=\"dataframe\">\n",
              "  <thead>\n",
              "    <tr style=\"text-align: right;\">\n",
              "      <th></th>\n",
              "      <th>연도</th>\n",
              "      <th>죄종</th>\n",
              "      <th>발생건수</th>\n",
              "      <th>cctv건수</th>\n",
              "      <th>검거건수</th>\n",
              "      <th>검거율</th>\n",
              "    </tr>\n",
              "  </thead>\n",
              "  <tbody>\n",
              "    <tr>\n",
              "      <th>0</th>\n",
              "      <td>2012</td>\n",
              "      <td>살인</td>\n",
              "      <td>178</td>\n",
              "      <td>2200</td>\n",
              "      <td>173</td>\n",
              "      <td>97.1</td>\n",
              "    </tr>\n",
              "    <tr>\n",
              "      <th>1</th>\n",
              "      <td>2012</td>\n",
              "      <td>강도</td>\n",
              "      <td>570</td>\n",
              "      <td>2200</td>\n",
              "      <td>452</td>\n",
              "      <td>79.2</td>\n",
              "    </tr>\n",
              "    <tr>\n",
              "      <th>2</th>\n",
              "      <td>2012</td>\n",
              "      <td>강간</td>\n",
              "      <td>4908</td>\n",
              "      <td>2200</td>\n",
              "      <td>3721</td>\n",
              "      <td>75.8</td>\n",
              "    </tr>\n",
              "    <tr>\n",
              "      <th>3</th>\n",
              "      <td>2012</td>\n",
              "      <td>절도</td>\n",
              "      <td>61436</td>\n",
              "      <td>2200</td>\n",
              "      <td>18950</td>\n",
              "      <td>30.8</td>\n",
              "    </tr>\n",
              "    <tr>\n",
              "      <th>4</th>\n",
              "      <td>2012</td>\n",
              "      <td>폭력</td>\n",
              "      <td>70632</td>\n",
              "      <td>2200</td>\n",
              "      <td>58445</td>\n",
              "      <td>82.7</td>\n",
              "    </tr>\n",
              "    <tr>\n",
              "      <th>5</th>\n",
              "      <td>2013</td>\n",
              "      <td>살인</td>\n",
              "      <td>152</td>\n",
              "      <td>3491</td>\n",
              "      <td>141</td>\n",
              "      <td>92.7</td>\n",
              "    </tr>\n",
              "    <tr>\n",
              "      <th>6</th>\n",
              "      <td>2013</td>\n",
              "      <td>강도</td>\n",
              "      <td>420</td>\n",
              "      <td>3491</td>\n",
              "      <td>330</td>\n",
              "      <td>78.5</td>\n",
              "    </tr>\n",
              "    <tr>\n",
              "      <th>7</th>\n",
              "      <td>2013</td>\n",
              "      <td>강간</td>\n",
              "      <td>5384</td>\n",
              "      <td>3491</td>\n",
              "      <td>3958</td>\n",
              "      <td>73.5</td>\n",
              "    </tr>\n",
              "    <tr>\n",
              "      <th>8</th>\n",
              "      <td>2013</td>\n",
              "      <td>절도</td>\n",
              "      <td>61585</td>\n",
              "      <td>3491</td>\n",
              "      <td>19727</td>\n",
              "      <td>32.0</td>\n",
              "    </tr>\n",
              "    <tr>\n",
              "      <th>9</th>\n",
              "      <td>2013</td>\n",
              "      <td>폭력</td>\n",
              "      <td>65417</td>\n",
              "      <td>3491</td>\n",
              "      <td>54076</td>\n",
              "      <td>82.6</td>\n",
              "    </tr>\n",
              "    <tr>\n",
              "      <th>10</th>\n",
              "      <td>2014</td>\n",
              "      <td>살인</td>\n",
              "      <td>158</td>\n",
              "      <td>4439</td>\n",
              "      <td>147</td>\n",
              "      <td>93.0</td>\n",
              "    </tr>\n",
              "    <tr>\n",
              "      <th>11</th>\n",
              "      <td>2014</td>\n",
              "      <td>강도</td>\n",
              "      <td>343</td>\n",
              "      <td>4439</td>\n",
              "      <td>292</td>\n",
              "      <td>85.1</td>\n",
              "    </tr>\n",
              "    <tr>\n",
              "      <th>12</th>\n",
              "      <td>2014</td>\n",
              "      <td>강간</td>\n",
              "      <td>5462</td>\n",
              "      <td>4439</td>\n",
              "      <td>4160</td>\n",
              "      <td>76.1</td>\n",
              "    </tr>\n",
              "    <tr>\n",
              "      <th>13</th>\n",
              "      <td>2014</td>\n",
              "      <td>절도</td>\n",
              "      <td>59393</td>\n",
              "      <td>4439</td>\n",
              "      <td>18905</td>\n",
              "      <td>31.8</td>\n",
              "    </tr>\n",
              "    <tr>\n",
              "      <th>14</th>\n",
              "      <td>2014</td>\n",
              "      <td>폭력</td>\n",
              "      <td>65318</td>\n",
              "      <td>4439</td>\n",
              "      <td>54375</td>\n",
              "      <td>83.2</td>\n",
              "    </tr>\n",
              "    <tr>\n",
              "      <th>15</th>\n",
              "      <td>2015</td>\n",
              "      <td>살인</td>\n",
              "      <td>168</td>\n",
              "      <td>6582</td>\n",
              "      <td>153</td>\n",
              "      <td>91.0</td>\n",
              "    </tr>\n",
              "    <tr>\n",
              "      <th>16</th>\n",
              "      <td>2015</td>\n",
              "      <td>강도</td>\n",
              "      <td>276</td>\n",
              "      <td>6582</td>\n",
              "      <td>253</td>\n",
              "      <td>91.6</td>\n",
              "    </tr>\n",
              "    <tr>\n",
              "      <th>17</th>\n",
              "      <td>2015</td>\n",
              "      <td>강간</td>\n",
              "      <td>5449</td>\n",
              "      <td>6582</td>\n",
              "      <td>4091</td>\n",
              "      <td>75.0</td>\n",
              "    </tr>\n",
              "    <tr>\n",
              "      <th>18</th>\n",
              "      <td>2015</td>\n",
              "      <td>절도</td>\n",
              "      <td>55307</td>\n",
              "      <td>6582</td>\n",
              "      <td>21534</td>\n",
              "      <td>38.9</td>\n",
              "    </tr>\n",
              "    <tr>\n",
              "      <th>19</th>\n",
              "      <td>2015</td>\n",
              "      <td>폭력</td>\n",
              "      <td>65206</td>\n",
              "      <td>6582</td>\n",
              "      <td>55162</td>\n",
              "      <td>84.5</td>\n",
              "    </tr>\n",
              "    <tr>\n",
              "      <th>20</th>\n",
              "      <td>2016</td>\n",
              "      <td>살인</td>\n",
              "      <td>148</td>\n",
              "      <td>8129</td>\n",
              "      <td>144</td>\n",
              "      <td>97.2</td>\n",
              "    </tr>\n",
              "    <tr>\n",
              "      <th>21</th>\n",
              "      <td>2016</td>\n",
              "      <td>강도</td>\n",
              "      <td>262</td>\n",
              "      <td>8129</td>\n",
              "      <td>252</td>\n",
              "      <td>96.1</td>\n",
              "    </tr>\n",
              "    <tr>\n",
              "      <th>22</th>\n",
              "      <td>2016</td>\n",
              "      <td>강간</td>\n",
              "      <td>6002</td>\n",
              "      <td>8129</td>\n",
              "      <td>4636</td>\n",
              "      <td>77.2</td>\n",
              "    </tr>\n",
              "    <tr>\n",
              "      <th>23</th>\n",
              "      <td>2016</td>\n",
              "      <td>절도</td>\n",
              "      <td>46857</td>\n",
              "      <td>8129</td>\n",
              "      <td>22314</td>\n",
              "      <td>47.6</td>\n",
              "    </tr>\n",
              "    <tr>\n",
              "      <th>24</th>\n",
              "      <td>2016</td>\n",
              "      <td>폭력</td>\n",
              "      <td>64570</td>\n",
              "      <td>8129</td>\n",
              "      <td>55710</td>\n",
              "      <td>86.2</td>\n",
              "    </tr>\n",
              "    <tr>\n",
              "      <th>25</th>\n",
              "      <td>2017</td>\n",
              "      <td>살인</td>\n",
              "      <td>142</td>\n",
              "      <td>9947</td>\n",
              "      <td>136</td>\n",
              "      <td>95.7</td>\n",
              "    </tr>\n",
              "    <tr>\n",
              "      <th>26</th>\n",
              "      <td>2017</td>\n",
              "      <td>강도</td>\n",
              "      <td>169</td>\n",
              "      <td>9947</td>\n",
              "      <td>163</td>\n",
              "      <td>96.4</td>\n",
              "    </tr>\n",
              "    <tr>\n",
              "      <th>27</th>\n",
              "      <td>2017</td>\n",
              "      <td>강간</td>\n",
              "      <td>6963</td>\n",
              "      <td>9947</td>\n",
              "      <td>5319</td>\n",
              "      <td>76.3</td>\n",
              "    </tr>\n",
              "    <tr>\n",
              "      <th>28</th>\n",
              "      <td>2017</td>\n",
              "      <td>절도</td>\n",
              "      <td>41162</td>\n",
              "      <td>9947</td>\n",
              "      <td>21174</td>\n",
              "      <td>51.4</td>\n",
              "    </tr>\n",
              "    <tr>\n",
              "      <th>29</th>\n",
              "      <td>2017</td>\n",
              "      <td>폭력</td>\n",
              "      <td>59399</td>\n",
              "      <td>9947</td>\n",
              "      <td>51317</td>\n",
              "      <td>86.3</td>\n",
              "    </tr>\n",
              "    <tr>\n",
              "      <th>30</th>\n",
              "      <td>2018</td>\n",
              "      <td>살인</td>\n",
              "      <td>143</td>\n",
              "      <td>9876</td>\n",
              "      <td>137</td>\n",
              "      <td>95.8</td>\n",
              "    </tr>\n",
              "    <tr>\n",
              "      <th>31</th>\n",
              "      <td>2018</td>\n",
              "      <td>강도</td>\n",
              "      <td>143</td>\n",
              "      <td>9876</td>\n",
              "      <td>146</td>\n",
              "      <td>102.0</td>\n",
              "    </tr>\n",
              "    <tr>\n",
              "      <th>32</th>\n",
              "      <td>2018</td>\n",
              "      <td>강간</td>\n",
              "      <td>6412</td>\n",
              "      <td>9876</td>\n",
              "      <td>5118</td>\n",
              "      <td>79.8</td>\n",
              "    </tr>\n",
              "    <tr>\n",
              "      <th>33</th>\n",
              "      <td>2018</td>\n",
              "      <td>절도</td>\n",
              "      <td>39175</td>\n",
              "      <td>9876</td>\n",
              "      <td>19531</td>\n",
              "      <td>49.8</td>\n",
              "    </tr>\n",
              "    <tr>\n",
              "      <th>34</th>\n",
              "      <td>2018</td>\n",
              "      <td>폭력</td>\n",
              "      <td>56075</td>\n",
              "      <td>9876</td>\n",
              "      <td>48264</td>\n",
              "      <td>86.0</td>\n",
              "    </tr>\n",
              "    <tr>\n",
              "      <th>35</th>\n",
              "      <td>2019</td>\n",
              "      <td>살인</td>\n",
              "      <td>136</td>\n",
              "      <td>11961</td>\n",
              "      <td>126</td>\n",
              "      <td>92.6</td>\n",
              "    </tr>\n",
              "    <tr>\n",
              "      <th>36</th>\n",
              "      <td>2019</td>\n",
              "      <td>강도</td>\n",
              "      <td>136</td>\n",
              "      <td>11961</td>\n",
              "      <td>131</td>\n",
              "      <td>96.3</td>\n",
              "    </tr>\n",
              "    <tr>\n",
              "      <th>37</th>\n",
              "      <td>2019</td>\n",
              "      <td>강간</td>\n",
              "      <td>6469</td>\n",
              "      <td>11961</td>\n",
              "      <td>5041</td>\n",
              "      <td>77.9</td>\n",
              "    </tr>\n",
              "    <tr>\n",
              "      <th>38</th>\n",
              "      <td>2019</td>\n",
              "      <td>절도</td>\n",
              "      <td>42204</td>\n",
              "      <td>11961</td>\n",
              "      <td>20948</td>\n",
              "      <td>49.6</td>\n",
              "    </tr>\n",
              "    <tr>\n",
              "      <th>39</th>\n",
              "      <td>2019</td>\n",
              "      <td>폭력</td>\n",
              "      <td>54661</td>\n",
              "      <td>11961</td>\n",
              "      <td>47099</td>\n",
              "      <td>86.1</td>\n",
              "    </tr>\n",
              "    <tr>\n",
              "      <th>40</th>\n",
              "      <td>2020</td>\n",
              "      <td>살인</td>\n",
              "      <td>141</td>\n",
              "      <td>11132</td>\n",
              "      <td>125</td>\n",
              "      <td>88.6</td>\n",
              "    </tr>\n",
              "    <tr>\n",
              "      <th>41</th>\n",
              "      <td>2020</td>\n",
              "      <td>강도</td>\n",
              "      <td>138</td>\n",
              "      <td>11132</td>\n",
              "      <td>130</td>\n",
              "      <td>94.2</td>\n",
              "    </tr>\n",
              "    <tr>\n",
              "      <th>42</th>\n",
              "      <td>2020</td>\n",
              "      <td>강간</td>\n",
              "      <td>5763</td>\n",
              "      <td>11132</td>\n",
              "      <td>4749</td>\n",
              "      <td>82.4</td>\n",
              "    </tr>\n",
              "    <tr>\n",
              "      <th>43</th>\n",
              "      <td>2020</td>\n",
              "      <td>절도</td>\n",
              "      <td>38293</td>\n",
              "      <td>11132</td>\n",
              "      <td>19355</td>\n",
              "      <td>50.5</td>\n",
              "    </tr>\n",
              "    <tr>\n",
              "      <th>44</th>\n",
              "      <td>2020</td>\n",
              "      <td>폭력</td>\n",
              "      <td>48344</td>\n",
              "      <td>11132</td>\n",
              "      <td>41019</td>\n",
              "      <td>84.8</td>\n",
              "    </tr>\n",
              "  </tbody>\n",
              "</table>\n",
              "</div>"
            ],
            "text/plain": [
              "      연도  죄종   발생건수  cctv건수   검거건수    검거율\n",
              "0   2012  살인    178    2200    173   97.1\n",
              "1   2012  강도    570    2200    452   79.2\n",
              "2   2012  강간   4908    2200   3721   75.8\n",
              "3   2012  절도  61436    2200  18950   30.8\n",
              "4   2012  폭력  70632    2200  58445   82.7\n",
              "5   2013  살인    152    3491    141   92.7\n",
              "6   2013  강도    420    3491    330   78.5\n",
              "7   2013  강간   5384    3491   3958   73.5\n",
              "8   2013  절도  61585    3491  19727   32.0\n",
              "9   2013  폭력  65417    3491  54076   82.6\n",
              "10  2014  살인    158    4439    147   93.0\n",
              "11  2014  강도    343    4439    292   85.1\n",
              "12  2014  강간   5462    4439   4160   76.1\n",
              "13  2014  절도  59393    4439  18905   31.8\n",
              "14  2014  폭력  65318    4439  54375   83.2\n",
              "15  2015  살인    168    6582    153   91.0\n",
              "16  2015  강도    276    6582    253   91.6\n",
              "17  2015  강간   5449    6582   4091   75.0\n",
              "18  2015  절도  55307    6582  21534   38.9\n",
              "19  2015  폭력  65206    6582  55162   84.5\n",
              "20  2016  살인    148    8129    144   97.2\n",
              "21  2016  강도    262    8129    252   96.1\n",
              "22  2016  강간   6002    8129   4636   77.2\n",
              "23  2016  절도  46857    8129  22314   47.6\n",
              "24  2016  폭력  64570    8129  55710   86.2\n",
              "25  2017  살인    142    9947    136   95.7\n",
              "26  2017  강도    169    9947    163   96.4\n",
              "27  2017  강간   6963    9947   5319   76.3\n",
              "28  2017  절도  41162    9947  21174   51.4\n",
              "29  2017  폭력  59399    9947  51317   86.3\n",
              "30  2018  살인    143    9876    137   95.8\n",
              "31  2018  강도    143    9876    146  102.0\n",
              "32  2018  강간   6412    9876   5118   79.8\n",
              "33  2018  절도  39175    9876  19531   49.8\n",
              "34  2018  폭력  56075    9876  48264   86.0\n",
              "35  2019  살인    136   11961    126   92.6\n",
              "36  2019  강도    136   11961    131   96.3\n",
              "37  2019  강간   6469   11961   5041   77.9\n",
              "38  2019  절도  42204   11961  20948   49.6\n",
              "39  2019  폭력  54661   11961  47099   86.1\n",
              "40  2020  살인    141   11132    125   88.6\n",
              "41  2020  강도    138   11132    130   94.2\n",
              "42  2020  강간   5763   11132   4749   82.4\n",
              "43  2020  절도  38293   11132  19355   50.5\n",
              "44  2020  폭력  48344   11132  41019   84.8"
            ]
          },
          "execution_count": 41,
          "metadata": {},
          "output_type": "execute_result"
        }
      ],
      "source": [
        "df_crime['검거율'] =''\n",
        "df_crime.loc[:,'검거율'] = ((df_crime.검거건수 / df_crime.발생건수) * 1000).astype(int)/10\n",
        "df_crime"
      ]
    },
    {
      "cell_type": "code",
      "execution_count": null,
      "id": "c45e10d4",
      "metadata": {
        "id": "c45e10d4"
      },
      "outputs": [],
      "source": [
        ""
      ]
    },
    {
      "cell_type": "code",
      "execution_count": null,
      "id": "b70d151f",
      "metadata": {
        "id": "b70d151f"
      },
      "outputs": [],
      "source": [
        ""
      ]
    },
    {
      "cell_type": "code",
      "execution_count": null,
      "id": "3ce0eda9",
      "metadata": {
        "id": "3ce0eda9"
      },
      "outputs": [],
      "source": [
        ""
      ]
    },
    {
      "cell_type": "code",
      "execution_count": null,
      "id": "63761dac",
      "metadata": {
        "id": "63761dac"
      },
      "outputs": [],
      "source": [
        "# 연도별 죄종별 발생건수"
      ]
    },
    {
      "cell_type": "code",
      "execution_count": null,
      "id": "0e8cd8ce",
      "metadata": {
        "id": "0e8cd8ce",
        "outputId": "105e4282-9f40-4152-c8f4-e9720e6d5bd1"
      },
      "outputs": [
        {
          "data": {
            "image/png": "[encoded data removed]",
            "text/plain": [
              "<Figure size 432x288 with 1 Axes>"
            ]
          },
          "metadata": {
            "needs_background": "light"
          },
          "output_type": "display_data"
        }
      ],
      "source": [
        "sns.lineplot(data=df_crime, x=\"연도\", y=\"발생건수\", hue=\"죄종\")\n",
        "plt.legend(loc='upper right')\n",
        "plt.show()"
      ]
    },
    {
      "cell_type": "code",
      "execution_count": null,
      "id": "b68f3515",
      "metadata": {
        "id": "b68f3515",
        "outputId": "f668a5ba-cccf-40f2-9179-ba8854521cdc"
      },
      "outputs": [
        {
          "data": {
            "image/png": "[encoded data removed]",
            "text/plain": [
              "<Figure size 432x288 with 1 Axes>"
            ]
          },
          "metadata": {
            "needs_background": "light"
          },
          "output_type": "display_data"
        }
      ],
      "source": [
        "theft=df_crime.loc[df_crime.죄종==\"절도\"]\n",
        "violence=df_crime.loc[df_crime.죄종==\"폭력\"]\n",
        "\n",
        "mr=pd.concat([theft,violence])\n",
        "mr\n",
        "sns.lineplot(data=mr, x=\"연도\", y=\"발생건수\", hue=\"죄종\")\n",
        "plt.legend(loc='center right')\n",
        "plt.show()"
      ]
    },
    {
      "cell_type": "code",
      "execution_count": null,
      "id": "4e2cb259",
      "metadata": {
        "id": "4e2cb259",
        "outputId": "0872eb6c-8d60-45fc-f345-971b997adbc1"
      },
      "outputs": [
        {
          "data": {
            "image/png": "[encoded data removed]",
            "text/plain": [
              "<Figure size 432x288 with 1 Axes>"
            ]
          },
          "metadata": {
            "needs_background": "light"
          },
          "output_type": "display_data"
        }
      ],
      "source": [
        "rape=df_crime.loc[df_crime.죄종==\"강간\"]\n",
        "sns.lineplot(data=rape, x=\"연도\", y=\"발생건수\",hue=\"죄종\")\n",
        "plt.legend(loc='upper right')\n",
        "plt.show()"
      ]
    },
    {
      "cell_type": "code",
      "execution_count": null,
      "id": "877b2433",
      "metadata": {
        "id": "877b2433",
        "outputId": "65bdd99e-6347-4843-9033-3ccbdf6f206b"
      },
      "outputs": [
        {
          "data": {
            "image/png": "[encoded data removed]",
            "text/plain": [
              "<Figure size 432x288 with 1 Axes>"
            ]
          },
          "metadata": {
            "needs_background": "light"
          },
          "output_type": "display_data"
        }
      ],
      "source": [
        "murder=df_crime.loc[df_crime.죄종==\"살인\"]\n",
        "rob=df_crime.loc[df_crime.죄종==\"강도\"]\n",
        "mr=pd.concat([murder,rob])\n",
        "mr\n",
        "sns.lineplot(data=mr, x=\"연도\", y=\"발생건수\", hue=\"죄종\")\n",
        "plt.legend(loc='center right')\n",
        "plt.show()"
      ]
    },
    {
      "cell_type": "code",
      "execution_count": null,
      "id": "1d38a576",
      "metadata": {
        "id": "1d38a576"
      },
      "outputs": [],
      "source": [
        "# 연도별 죄종별 검거율"
      ]
    },
    {
      "cell_type": "code",
      "execution_count": null,
      "id": "9966c954",
      "metadata": {
        "id": "9966c954",
        "outputId": "aaad7461-b75d-4cf2-af1a-c1b437313eb1"
      },
      "outputs": [
        {
          "data": {
            "image/png": "[encoded data removed]",
            "text/plain": [
              "<Figure size 432x288 with 1 Axes>"
            ]
          },
          "metadata": {
            "needs_background": "light"
          },
          "output_type": "display_data"
        }
      ],
      "source": [
        "sns.lineplot(data=df_crime, x=\"연도\", y=\"검거율\", hue=\"죄종\")\n",
        "# sns.lineplot(data = df_crime, x = '연도', y = 'cctv건수')\n",
        "plt.legend(loc='upper right')\n",
        "plt.show()"
      ]
    },
    {
      "cell_type": "code",
      "execution_count": null,
      "id": "c5c73e7a",
      "metadata": {
        "id": "c5c73e7a"
      },
      "outputs": [],
      "source": [
        "x = df_cctv['년도']\n",
        "y1 = df_cctv['총계']\n",
        "y2 = df_crime.loc[df_crime.죄종 == '살인', '검거율']\n",
        "y3 = df_crime.loc[df_crime.죄종 == '강도', '검거율']\n",
        "y4 = df_crime.loc[df_crime.죄종 == '강간', '검거율']\n",
        "y5 = df_crime.loc[df_crime.죄종 == '절도', '검거율']\n",
        "y6 = df_crime.loc[df_crime.죄종 == '폭력', '검거율']"
      ]
    },
    {
      "cell_type": "code",
      "execution_count": null,
      "id": "6d1bfb52",
      "metadata": {
        "id": "6d1bfb52"
      },
      "outputs": [],
      "source": [
        "data1 = [[y,c] for y,c in zip(x, y1)]\n",
        "data1_df = pd.DataFrame(data1)\n",
        "data1_df.columns = ['년도', 'cctv']\n",
        "data1_df\n",
        "\n",
        "data2 = [[y,m] for y,m in zip(x, y2)]\n",
        "data2_df = pd.DataFrame(data2)\n",
        "data2_df.columns = ['년도', '살인']\n",
        "\n",
        "data3 = [[y,ro] for y,ro in zip(x, y3)]\n",
        "data3_df = pd.DataFrame(data3)\n",
        "data3_df.columns = ['년도', '강도']\n",
        "\n",
        "data4 = [[y,ra] for y,ra in zip(x, y4)]\n",
        "data4_df = pd.DataFrame(data4)\n",
        "data4_df.columns = ['년도', '강간']\n",
        "\n",
        "data5 = [[y,th] for y,th in zip(x, y5)]\n",
        "data5_df = pd.DataFrame(data5)\n",
        "data5_df.columns = ['년도', '절도']\n",
        "\n",
        "data6 = [[y,vi] for y,vi in zip(x, y6)]\n",
        "data6_df = pd.DataFrame(data6)\n",
        "data6_df.columns = ['년도', '폭력']"
      ]
    },
    {
      "cell_type": "code",
      "execution_count": null,
      "id": "f3ee2b4a",
      "metadata": {
        "id": "f3ee2b4a",
        "outputId": "52402aed-e8a0-4dd8-a985-5cd01e88fe21"
      },
      "outputs": [
        {
          "data": {
            "image/png": "[encoded data removed]",
            "text/plain": [
              "<Figure size 432x432 with 6 Axes>"
            ]
          },
          "metadata": {
            "needs_background": "light"
          },
          "output_type": "display_data"
        }
      ],
      "source": [
        "fig = plt.figure(figsize=(6,6))\n",
        "ax1 = fig.add_subplot()\n",
        "ax1.plot(data1_df.년도, data1_df.cctv, color = 'r')\n",
        "ax1.set_xlabel('년도')\n",
        "ax1.set_ylabel('cctv')\n",
        "\n",
        "ax2 = ax1.twinx()\n",
        "ax2.plot(data2_df.년도, data2_df.살인, color = 'b')\n",
        "ax2.set_ylabel('살인 검거율')\n",
        "ax3 = ax1.twinx()\n",
        "ax3.plot(data3_df.년도, data3_df.강도, color = 'g')\n",
        "ax3.spines.right.set_position((\"axes\", 1.2))\n",
        "ax3.set_ylabel('강도 검거율')\n",
        "ax4 = ax1.twinx()\n",
        "ax4.plot(data4_df.년도, data4_df.강간, color = 'pink')\n",
        "ax4.spines.right.set_position((\"axes\", 1.4))\n",
        "ax4.set_ylabel('강간 검거율')\n",
        "ax5 = ax1.twinx()\n",
        "ax5.plot(data5_df.년도, data5_df.절도, color = 'y')\n",
        "ax5.spines.right.set_position((\"axes\", 1.6))\n",
        "ax5.set_ylabel('절도 검거율')\n",
        "ax6 = ax1.twinx()\n",
        "ax6.plot(data6_df.년도, data6_df.폭력, color = 'orange')\n",
        "ax6.spines.right.set_position((\"axes\", 1.8))\n",
        "ax6.set_ylabel('폭력 검거율')\n",
        "\n",
        "ax1.legend(['cctv'], loc='upper left')\n",
        "ax2.legend(['검거율'], loc='upper right')\n",
        "\n",
        "plt.show()"
      ]
    },
    {
      "cell_type": "code",
      "execution_count": null,
      "id": "f3608548",
      "metadata": {
        "id": "f3608548",
        "outputId": "a25f0f65-43f2-4df0-f517-e14f63b8a5da"
      },
      "outputs": [
        {
          "data": {
            "image/png": "[encoded data removed]",
            "text/plain": [
              "<Figure size 432x432 with 2 Axes>"
            ]
          },
          "metadata": {
            "needs_background": "light"
          },
          "output_type": "display_data"
        }
      ],
      "source": [
        "fig = plt.figure(figsize=(6,6))\n",
        "ax1 = fig.add_subplot()\n",
        "ax1.plot(data1_df.년도, data1_df.cctv, color = 'r',linewidth = '10')\n",
        "ax1.set_xlabel('년도')\n",
        "ax1.set_ylabel('cctv')\n",
        "\n",
        "ax2 = ax1.twinx()\n",
        "ax2.plot(data2_df.년도, data2_df.살인, color = 'skyblue')\n",
        "ax2.plot(data3_df.년도, data3_df.강도, color = 'g')\n",
        "ax2.plot(data4_df.년도, data4_df.강간, color = 'pink')\n",
        "ax2.plot(data5_df.년도, data5_df.절도, color = 'y')\n",
        "ax2.plot(data6_df.년도, data6_df.폭력, color = 'orange')\n",
        "ax2.set_ylabel('검거율')\n",
        "\n",
        "ax1.legend(['cctv'], loc='upper left')\n",
        "ax2.legend(['살인검거율', '강도검거율', '강간검거율', '절도검거율', '폭력검거율'], loc='lower right')\n",
        "\n",
        "plt.show()"
      ]
    },
    {
      "cell_type": "code",
      "execution_count": null,
      "id": "eb4f0ac4",
      "metadata": {
        "id": "eb4f0ac4",
        "outputId": "ba1bdd29-5750-4dca-fe7d-6c540b7a1115"
      },
      "outputs": [
        {
          "data": {
            "image/png": "[encoded data removed]",
            "text/plain": [
              "<Figure size 432x288 with 1 Axes>"
            ]
          },
          "metadata": {
            "needs_background": "light"
          },
          "output_type": "display_data"
        }
      ],
      "source": [
        "murder=df_crime.loc[df_crime.죄종==\"살인\"]\n",
        "rob=df_crime.loc[df_crime.죄종==\"강도\"]\n",
        "mr=pd.concat([murder,rob])\n",
        "mr\n",
        "sns.lineplot(data=mr, x=\"연도\", y=\"검거율\", hue=\"죄종\")\n",
        "plt.legend(loc='center right')\n",
        "plt.show()"
      ]
    },
    {
      "cell_type": "code",
      "execution_count": null,
      "id": "f96e5544",
      "metadata": {
        "id": "f96e5544",
        "outputId": "beb14727-ebc4-415c-fd33-deb6d3151d1a"
      },
      "outputs": [
        {
          "data": {
            "image/png": "[encoded data removed]",
            "text/plain": [
              "<Figure size 432x288 with 1 Axes>"
            ]
          },
          "metadata": {
            "needs_background": "light"
          },
          "output_type": "display_data"
        }
      ],
      "source": [
        "rape=df_crime.loc[df_crime.죄종==\"강간\"]\n",
        "sns.lineplot(data=rape, x=\"연도\", y=\"검거율\",hue=\"죄종\")\n",
        "plt.legend(loc='upper right')\n",
        "plt.show()"
      ]
    },
    {
      "cell_type": "code",
      "execution_count": null,
      "id": "7fb4733d",
      "metadata": {
        "id": "7fb4733d",
        "outputId": "e36be16c-100a-4293-8052-0eb4fc2acd2b"
      },
      "outputs": [
        {
          "data": {
            "image/png": "[encoded data removed]",
            "text/plain": [
              "<Figure size 432x288 with 1 Axes>"
            ]
          },
          "metadata": {
            "needs_background": "light"
          },
          "output_type": "display_data"
        }
      ],
      "source": [
        "murder=df_crime.loc[df_crime.죄종==\"살인\"]\n",
        "rob=df_crime.loc[df_crime.죄종==\"강도\"]\n",
        "mr=pd.concat([murder,rob])\n",
        "mr\n",
        "sns.lineplot(data=mr, x=\"연도\", y=\"검거율\", hue=\"죄종\")\n",
        "plt.legend(loc='center right')\n",
        "plt.show()"
      ]
    },
    {
      "cell_type": "code",
      "execution_count": null,
      "id": "719067f9",
      "metadata": {
        "id": "719067f9"
      },
      "outputs": [],
      "source": [
        ""
      ]
    },
    {
      "cell_type": "code",
      "execution_count": null,
      "id": "be7a07d2",
      "metadata": {
        "id": "be7a07d2"
      },
      "outputs": [],
      "source": [
        ""
      ]
    },
    {
      "cell_type": "code",
      "execution_count": null,
      "id": "2cf7756a",
      "metadata": {
        "id": "2cf7756a",
        "outputId": "ef74a41b-73f0-42c5-e25c-6239924c8def"
      },
      "outputs": [
        {
          "data": {
            "text/html": [
              "<div>\n",
              "<style scoped>\n",
              "    .dataframe tbody tr th:only-of-type {\n",
              "        vertical-align: middle;\n",
              "    }\n",
              "\n",
              "    .dataframe tbody tr th {\n",
              "        vertical-align: top;\n",
              "    }\n",
              "\n",
              "    .dataframe thead th {\n",
              "        text-align: right;\n",
              "    }\n",
              "</style>\n",
              "<table border=\"1\" class=\"dataframe\">\n",
              "  <thead>\n",
              "    <tr style=\"text-align: right;\">\n",
              "      <th></th>\n",
              "      <th>연도</th>\n",
              "      <th>발생건수</th>\n",
              "      <th>cctv건수</th>\n",
              "      <th>검거건수</th>\n",
              "      <th>검거율</th>\n",
              "    </tr>\n",
              "  </thead>\n",
              "  <tbody>\n",
              "    <tr>\n",
              "      <th>연도</th>\n",
              "      <td>1.000000</td>\n",
              "      <td>-0.110225</td>\n",
              "      <td>0.975614</td>\n",
              "      <td>-0.040328</td>\n",
              "      <td>0.170167</td>\n",
              "    </tr>\n",
              "    <tr>\n",
              "      <th>발생건수</th>\n",
              "      <td>-0.110225</td>\n",
              "      <td>1.000000</td>\n",
              "      <td>-0.106922</td>\n",
              "      <td>0.911968</td>\n",
              "      <td>-0.541743</td>\n",
              "    </tr>\n",
              "    <tr>\n",
              "      <th>cctv건수</th>\n",
              "      <td>0.975614</td>\n",
              "      <td>-0.106922</td>\n",
              "      <td>1.000000</td>\n",
              "      <td>-0.033027</td>\n",
              "      <td>0.180405</td>\n",
              "    </tr>\n",
              "    <tr>\n",
              "      <th>검거건수</th>\n",
              "      <td>-0.040328</td>\n",
              "      <td>0.911968</td>\n",
              "      <td>-0.033027</td>\n",
              "      <td>1.000000</td>\n",
              "      <td>-0.186290</td>\n",
              "    </tr>\n",
              "    <tr>\n",
              "      <th>검거율</th>\n",
              "      <td>0.170167</td>\n",
              "      <td>-0.541743</td>\n",
              "      <td>0.180405</td>\n",
              "      <td>-0.186290</td>\n",
              "      <td>1.000000</td>\n",
              "    </tr>\n",
              "  </tbody>\n",
              "</table>\n",
              "</div>"
            ],
            "text/plain": [
              "              연도      발생건수    cctv건수      검거건수       검거율\n",
              "연도      1.000000 -0.110225  0.975614 -0.040328  0.170167\n",
              "발생건수   -0.110225  1.000000 -0.106922  0.911968 -0.541743\n",
              "cctv건수  0.975614 -0.106922  1.000000 -0.033027  0.180405\n",
              "검거건수   -0.040328  0.911968 -0.033027  1.000000 -0.186290\n",
              "검거율     0.170167 -0.541743  0.180405 -0.186290  1.000000"
            ]
          },
          "execution_count": 52,
          "metadata": {},
          "output_type": "execute_result"
        }
      ],
      "source": [
        "df_crime_corr=df_crime.corr()\n",
        "df_crime_corr"
      ]
    },
    {
      "cell_type": "code",
      "execution_count": null,
      "id": "d5dc3591",
      "metadata": {
        "id": "d5dc3591"
      },
      "outputs": [],
      "source": [
        "df_crime_murder=df_crime.loc[df_crime.죄종==\"살인\"]\n",
        "df_crime_rob=df_crime.loc[df_crime.죄종==\"강도\"]\n",
        "df_crime_rape=df_crime.loc[df_crime.죄종==\"강간\"]\n",
        "df_crime_theft=df_crime.loc[df_crime.죄종==\"강도\"]\n",
        "df_crime_violence=df_crime.loc[df_crime.죄종==\"폭력\"]\n"
      ]
    },
    {
      "cell_type": "code",
      "execution_count": null,
      "id": "848fd670",
      "metadata": {
        "id": "848fd670"
      },
      "outputs": [],
      "source": [
        "mur_cor=df_crime_murder.corr()\n",
        "rob_cor=df_crime_rob.corr()\n",
        "rape_cor=df_crime_rape.corr()\n",
        "the_cor=df_crime_theft.corr()\n",
        "vio_cor=df_crime_violence.corr()"
      ]
    },
    {
      "cell_type": "code",
      "execution_count": null,
      "id": "0ceb429e",
      "metadata": {
        "id": "0ceb429e",
        "outputId": "f814c541-4d10-4c56-87bc-77118c7e1ada"
      },
      "outputs": [
        {
          "data": {
            "image/png": "[encoded data removed]",
            "text/plain": [
              "<Figure size 432x288 with 2 Axes>"
            ]
          },
          "metadata": {
            "needs_background": "light"
          },
          "output_type": "display_data"
        }
      ],
      "source": [
        "sns.heatmap(mur_cor,annot=True)\n",
        "plt.rc(\"axes\", unicode_minus = False)"
      ]
    },
    {
      "cell_type": "code",
      "execution_count": null,
      "id": "27953cff",
      "metadata": {
        "id": "27953cff",
        "outputId": "9b1516b8-ad53-4c4d-bc06-067304f90c41"
      },
      "outputs": [
        {
          "data": {
            "image/png": "[encoded data removed]",
            "text/plain": [
              "<Figure size 432x288 with 2 Axes>"
            ]
          },
          "metadata": {
            "needs_background": "light"
          },
          "output_type": "display_data"
        }
      ],
      "source": [
        "sns.heatmap(rob_cor,annot=True)\n",
        "plt.rc(\"axes\", unicode_minus = False)"
      ]
    },
    {
      "cell_type": "code",
      "execution_count": null,
      "id": "3a3621ca",
      "metadata": {
        "id": "3a3621ca",
        "outputId": "96931b91-7643-4565-e12a-01fe9c8f8961"
      },
      "outputs": [
        {
          "data": {
            "image/png": "[encoded data removed]",
            "text/plain": [
              "<Figure size 432x288 with 2 Axes>"
            ]
          },
          "metadata": {
            "needs_background": "light"
          },
          "output_type": "display_data"
        }
      ],
      "source": [
        "sns.heatmap(rape_cor,annot=True)\n",
        "plt.rc(\"axes\", unicode_minus = False)"
      ]
    },
    {
      "cell_type": "code",
      "execution_count": null,
      "id": "636076b1",
      "metadata": {
        "scrolled": true,
        "id": "636076b1",
        "outputId": "73d0c879-0cf5-4031-e87b-b3e2c7adb046"
      },
      "outputs": [
        {
          "data": {
            "image/png": "[encoded data removed]",
            "text/plain": [
              "<Figure size 432x288 with 2 Axes>"
            ]
          },
          "metadata": {
            "needs_background": "light"
          },
          "output_type": "display_data"
        }
      ],
      "source": [
        "sns.heatmap(the_cor,annot=True)\n",
        "plt.rcParams['axes.unicode_minus'] = False"
      ]
    },
    {
      "cell_type": "code",
      "execution_count": null,
      "id": "759f22d7",
      "metadata": {
        "id": "759f22d7",
        "outputId": "7a15259a-9eed-4163-b5b2-84a1dd090a69"
      },
      "outputs": [
        {
          "data": {
            "image/png": "[encoded data removed]",
            "text/plain": [
              "<Figure size 432x288 with 2 Axes>"
            ]
          },
          "metadata": {
            "needs_background": "light"
          },
          "output_type": "display_data"
        }
      ],
      "source": [
        "sns.heatmap(vio_cor,annot=True)\n",
        "plt.rcParams['axes.unicode_minus'] = False"
      ]
    },
    {
      "cell_type": "code",
      "execution_count": null,
      "id": "0f6d07f5",
      "metadata": {
        "id": "0f6d07f5"
      },
      "outputs": [],
      "source": [
        ""
      ]
    },
    {
      "cell_type": "code",
      "execution_count": null,
      "id": "ccd3d395",
      "metadata": {
        "id": "ccd3d395"
      },
      "outputs": [],
      "source": [
        ""
      ]
    },
    {
      "cell_type": "code",
      "execution_count": null,
      "id": "be7a60c6",
      "metadata": {
        "id": "be7a60c6"
      },
      "outputs": [],
      "source": [
        ""
      ]
    }
  ],
  "metadata": {
    "kernelspec": {
      "display_name": "Python 3 (ipykernel)",
      "language": "python",
      "name": "python3"
    },
    "language_info": {
      "codemirror_mode": {
        "name": "ipython",
        "version": 3
      },
      "file_extension": ".py",
      "mimetype": "text/x-python",
      "name": "python",
      "nbconvert_exporter": "python",
      "pygments_lexer": "ipython3",
      "version": "3.9.7"
    },
    "colab": {
      "name": "미니프로젝트(CCTV).ipynb",
      "provenance": [],
      "collapsed_sections": []
    }
  },
  "nbformat": 4,
  "nbformat_minor": 5
}