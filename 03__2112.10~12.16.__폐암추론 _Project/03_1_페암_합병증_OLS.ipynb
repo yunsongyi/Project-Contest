{
  "cells": [
    {
      "cell_type": "code",
      "execution_count": null,
      "id": "a348d106",
      "metadata": {
        "id": "a348d106"
      },
      "outputs": [],
      "source": [
        "import pandas as pd"
      ]
    },
    {
      "cell_type": "markdown",
      "id": "330d6066",
      "metadata": {
        "id": "330d6066"
      },
      "source": [
        "# 고혈압"
      ]
    },
    {
      "cell_type": "code",
      "execution_count": null,
      "id": "0638dbe1",
      "metadata": {
        "id": "0638dbe1",
        "outputId": "423c0c4b-5b6e-41ad-d5b6-4f0eced5975e"
      },
      "outputs": [
        {
          "data": {
            "text/html": [
              "<div>\n",
              "<style scoped>\n",
              "    .dataframe tbody tr th:only-of-type {\n",
              "        vertical-align: middle;\n",
              "    }\n",
              "\n",
              "    .dataframe tbody tr th {\n",
              "        vertical-align: top;\n",
              "    }\n",
              "\n",
              "    .dataframe thead th {\n",
              "        text-align: right;\n",
              "    }\n",
              "</style>\n",
              "<table border=\"1\" class=\"dataframe\">\n",
              "  <thead>\n",
              "    <tr style=\"text-align: right;\">\n",
              "      <th></th>\n",
              "      <th>centerNm</th>\n",
              "      <th>critYr</th>\n",
              "      <th>ptAge</th>\n",
              "      <th>ptSexCd</th>\n",
              "      <th>statsTrgtNm</th>\n",
              "      <th>ncsNmvl</th>\n",
              "      <th>wholNcsDnmvl</th>\n",
              "      <th>ptCntNmvl</th>\n",
              "      <th>wholPtCntDnmvl</th>\n",
              "    </tr>\n",
              "  </thead>\n",
              "  <tbody>\n",
              "    <tr>\n",
              "      <th>0</th>\n",
              "      <td>국립암센터</td>\n",
              "      <td>2019</td>\n",
              "      <td>76</td>\n",
              "      <td>M</td>\n",
              "      <td>Y</td>\n",
              "      <td>12</td>\n",
              "      <td>21</td>\n",
              "      <td>10</td>\n",
              "      <td>18</td>\n",
              "    </tr>\n",
              "    <tr>\n",
              "      <th>1</th>\n",
              "      <td>국립암센터</td>\n",
              "      <td>2014</td>\n",
              "      <td>47</td>\n",
              "      <td>F</td>\n",
              "      <td>N</td>\n",
              "      <td>4</td>\n",
              "      <td>4</td>\n",
              "      <td>4</td>\n",
              "      <td>4</td>\n",
              "    </tr>\n",
              "    <tr>\n",
              "      <th>2</th>\n",
              "      <td>국립암센터</td>\n",
              "      <td>2012</td>\n",
              "      <td>67</td>\n",
              "      <td>M</td>\n",
              "      <td>N</td>\n",
              "      <td>16</td>\n",
              "      <td>29</td>\n",
              "      <td>14</td>\n",
              "      <td>25</td>\n",
              "    </tr>\n",
              "    <tr>\n",
              "      <th>3</th>\n",
              "      <td>국립암센터</td>\n",
              "      <td>2013</td>\n",
              "      <td>59</td>\n",
              "      <td>M</td>\n",
              "      <td>N</td>\n",
              "      <td>9</td>\n",
              "      <td>13</td>\n",
              "      <td>7</td>\n",
              "      <td>10</td>\n",
              "    </tr>\n",
              "    <tr>\n",
              "      <th>4</th>\n",
              "      <td>국립암센터</td>\n",
              "      <td>2015</td>\n",
              "      <td>76</td>\n",
              "      <td>M</td>\n",
              "      <td>N</td>\n",
              "      <td>7</td>\n",
              "      <td>14</td>\n",
              "      <td>7</td>\n",
              "      <td>12</td>\n",
              "    </tr>\n",
              "    <tr>\n",
              "      <th>...</th>\n",
              "      <td>...</td>\n",
              "      <td>...</td>\n",
              "      <td>...</td>\n",
              "      <td>...</td>\n",
              "      <td>...</td>\n",
              "      <td>...</td>\n",
              "      <td>...</td>\n",
              "      <td>...</td>\n",
              "      <td>...</td>\n",
              "    </tr>\n",
              "    <tr>\n",
              "      <th>995</th>\n",
              "      <td>국립암센터</td>\n",
              "      <td>2011</td>\n",
              "      <td>52</td>\n",
              "      <td>M</td>\n",
              "      <td>N</td>\n",
              "      <td>8</td>\n",
              "      <td>12</td>\n",
              "      <td>7</td>\n",
              "      <td>11</td>\n",
              "    </tr>\n",
              "    <tr>\n",
              "      <th>996</th>\n",
              "      <td>국립암센터</td>\n",
              "      <td>2015</td>\n",
              "      <td>58</td>\n",
              "      <td>M</td>\n",
              "      <td>N</td>\n",
              "      <td>5</td>\n",
              "      <td>9</td>\n",
              "      <td>4</td>\n",
              "      <td>7</td>\n",
              "    </tr>\n",
              "    <tr>\n",
              "      <th>997</th>\n",
              "      <td>국립암센터</td>\n",
              "      <td>2017</td>\n",
              "      <td>75</td>\n",
              "      <td>F</td>\n",
              "      <td>Y</td>\n",
              "      <td>2</td>\n",
              "      <td>7</td>\n",
              "      <td>2</td>\n",
              "      <td>5</td>\n",
              "    </tr>\n",
              "    <tr>\n",
              "      <th>998</th>\n",
              "      <td>국립암센터</td>\n",
              "      <td>2011</td>\n",
              "      <td>50</td>\n",
              "      <td>M</td>\n",
              "      <td>N</td>\n",
              "      <td>5</td>\n",
              "      <td>7</td>\n",
              "      <td>4</td>\n",
              "      <td>6</td>\n",
              "    </tr>\n",
              "    <tr>\n",
              "      <th>999</th>\n",
              "      <td>국립암센터</td>\n",
              "      <td>2013</td>\n",
              "      <td>45</td>\n",
              "      <td>F</td>\n",
              "      <td>N</td>\n",
              "      <td>1</td>\n",
              "      <td>1</td>\n",
              "      <td>1</td>\n",
              "      <td>1</td>\n",
              "    </tr>\n",
              "  </tbody>\n",
              "</table>\n",
              "<p>1000 rows × 9 columns</p>\n",
              "</div>"
            ],
            "text/plain": [
              "    centerNm  critYr  ptAge ptSexCd statsTrgtNm  ncsNmvl  wholNcsDnmvl  \\\n",
              "0      국립암센터    2019     76       M           Y       12            21   \n",
              "1      국립암센터    2014     47       F           N        4             4   \n",
              "2      국립암센터    2012     67       M           N       16            29   \n",
              "3      국립암센터    2013     59       M           N        9            13   \n",
              "4      국립암센터    2015     76       M           N        7            14   \n",
              "..       ...     ...    ...     ...         ...      ...           ...   \n",
              "995    국립암센터    2011     52       M           N        8            12   \n",
              "996    국립암센터    2015     58       M           N        5             9   \n",
              "997    국립암센터    2017     75       F           Y        2             7   \n",
              "998    국립암센터    2011     50       M           N        5             7   \n",
              "999    국립암센터    2013     45       F           N        1             1   \n",
              "\n",
              "     ptCntNmvl  wholPtCntDnmvl  \n",
              "0           10              18  \n",
              "1            4               4  \n",
              "2           14              25  \n",
              "3            7              10  \n",
              "4            7              12  \n",
              "..         ...             ...  \n",
              "995          7              11  \n",
              "996          4               7  \n",
              "997          2               5  \n",
              "998          4               6  \n",
              "999          1               1  \n",
              "\n",
              "[1000 rows x 9 columns]"
            ]
          },
          "execution_count": 16,
          "metadata": {},
          "output_type": "execute_result"
        }
      ],
      "source": [
        "hypertension=pd.read_csv(\"폐암 합병증/lung_hypertension.csv\")\n",
        "hypertension"
      ]
    },
    {
      "cell_type": "code",
      "execution_count": null,
      "id": "688e3eb2",
      "metadata": {
        "id": "688e3eb2",
        "outputId": "64a21609-00ba-4516-a100-95ae60b2be88"
      },
      "outputs": [
        {
          "data": {
            "text/html": [
              "<div>\n",
              "<style scoped>\n",
              "    .dataframe tbody tr th:only-of-type {\n",
              "        vertical-align: middle;\n",
              "    }\n",
              "\n",
              "    .dataframe tbody tr th {\n",
              "        vertical-align: top;\n",
              "    }\n",
              "\n",
              "    .dataframe thead th {\n",
              "        text-align: right;\n",
              "    }\n",
              "</style>\n",
              "<table border=\"1\" class=\"dataframe\">\n",
              "  <thead>\n",
              "    <tr style=\"text-align: right;\">\n",
              "      <th></th>\n",
              "      <th>ptSexCd</th>\n",
              "      <th>statsTrgtNm</th>\n",
              "    </tr>\n",
              "  </thead>\n",
              "  <tbody>\n",
              "    <tr>\n",
              "      <th>0</th>\n",
              "      <td>M</td>\n",
              "      <td>Y</td>\n",
              "    </tr>\n",
              "    <tr>\n",
              "      <th>1</th>\n",
              "      <td>F</td>\n",
              "      <td>N</td>\n",
              "    </tr>\n",
              "    <tr>\n",
              "      <th>2</th>\n",
              "      <td>M</td>\n",
              "      <td>N</td>\n",
              "    </tr>\n",
              "    <tr>\n",
              "      <th>3</th>\n",
              "      <td>M</td>\n",
              "      <td>N</td>\n",
              "    </tr>\n",
              "    <tr>\n",
              "      <th>4</th>\n",
              "      <td>M</td>\n",
              "      <td>N</td>\n",
              "    </tr>\n",
              "    <tr>\n",
              "      <th>...</th>\n",
              "      <td>...</td>\n",
              "      <td>...</td>\n",
              "    </tr>\n",
              "    <tr>\n",
              "      <th>995</th>\n",
              "      <td>M</td>\n",
              "      <td>N</td>\n",
              "    </tr>\n",
              "    <tr>\n",
              "      <th>996</th>\n",
              "      <td>M</td>\n",
              "      <td>N</td>\n",
              "    </tr>\n",
              "    <tr>\n",
              "      <th>997</th>\n",
              "      <td>F</td>\n",
              "      <td>Y</td>\n",
              "    </tr>\n",
              "    <tr>\n",
              "      <th>998</th>\n",
              "      <td>M</td>\n",
              "      <td>N</td>\n",
              "    </tr>\n",
              "    <tr>\n",
              "      <th>999</th>\n",
              "      <td>F</td>\n",
              "      <td>N</td>\n",
              "    </tr>\n",
              "  </tbody>\n",
              "</table>\n",
              "<p>1000 rows × 2 columns</p>\n",
              "</div>"
            ],
            "text/plain": [
              "    ptSexCd statsTrgtNm\n",
              "0         M           Y\n",
              "1         F           N\n",
              "2         M           N\n",
              "3         M           N\n",
              "4         M           N\n",
              "..      ...         ...\n",
              "995       M           N\n",
              "996       M           N\n",
              "997       F           Y\n",
              "998       M           N\n",
              "999       F           N\n",
              "\n",
              "[1000 rows x 2 columns]"
            ]
          },
          "execution_count": 17,
          "metadata": {},
          "output_type": "execute_result"
        }
      ],
      "source": [
        "hyp=hypertension[['ptSexCd','statsTrgtNm']]\n",
        "hyp"
      ]
    },
    {
      "cell_type": "code",
      "execution_count": null,
      "id": "47df6c34",
      "metadata": {
        "id": "47df6c34"
      },
      "outputs": [],
      "source": [
        "hyp = hyp.dropna()"
      ]
    },
    {
      "cell_type": "code",
      "execution_count": null,
      "id": "b741ac60",
      "metadata": {
        "id": "b741ac60",
        "outputId": "5c9c7bc8-9a8a-4548-fc43-6a7c1d496c4d"
      },
      "outputs": [
        {
          "data": {
            "text/html": [
              "<div>\n",
              "<style scoped>\n",
              "    .dataframe tbody tr th:only-of-type {\n",
              "        vertical-align: middle;\n",
              "    }\n",
              "\n",
              "    .dataframe tbody tr th {\n",
              "        vertical-align: top;\n",
              "    }\n",
              "\n",
              "    .dataframe thead th {\n",
              "        text-align: right;\n",
              "    }\n",
              "</style>\n",
              "<table border=\"1\" class=\"dataframe\">\n",
              "  <thead>\n",
              "    <tr style=\"text-align: right;\">\n",
              "      <th></th>\n",
              "      <th>ptSexCd</th>\n",
              "      <th>statsTrgtNm</th>\n",
              "    </tr>\n",
              "  </thead>\n",
              "  <tbody>\n",
              "    <tr>\n",
              "      <th>0</th>\n",
              "      <td>M</td>\n",
              "      <td>Y</td>\n",
              "    </tr>\n",
              "    <tr>\n",
              "      <th>1</th>\n",
              "      <td>F</td>\n",
              "      <td>N</td>\n",
              "    </tr>\n",
              "    <tr>\n",
              "      <th>2</th>\n",
              "      <td>M</td>\n",
              "      <td>N</td>\n",
              "    </tr>\n",
              "    <tr>\n",
              "      <th>3</th>\n",
              "      <td>M</td>\n",
              "      <td>N</td>\n",
              "    </tr>\n",
              "    <tr>\n",
              "      <th>4</th>\n",
              "      <td>M</td>\n",
              "      <td>N</td>\n",
              "    </tr>\n",
              "    <tr>\n",
              "      <th>...</th>\n",
              "      <td>...</td>\n",
              "      <td>...</td>\n",
              "    </tr>\n",
              "    <tr>\n",
              "      <th>995</th>\n",
              "      <td>M</td>\n",
              "      <td>N</td>\n",
              "    </tr>\n",
              "    <tr>\n",
              "      <th>996</th>\n",
              "      <td>M</td>\n",
              "      <td>N</td>\n",
              "    </tr>\n",
              "    <tr>\n",
              "      <th>997</th>\n",
              "      <td>F</td>\n",
              "      <td>Y</td>\n",
              "    </tr>\n",
              "    <tr>\n",
              "      <th>998</th>\n",
              "      <td>M</td>\n",
              "      <td>N</td>\n",
              "    </tr>\n",
              "    <tr>\n",
              "      <th>999</th>\n",
              "      <td>F</td>\n",
              "      <td>N</td>\n",
              "    </tr>\n",
              "  </tbody>\n",
              "</table>\n",
              "<p>967 rows × 2 columns</p>\n",
              "</div>"
            ],
            "text/plain": [
              "    ptSexCd statsTrgtNm\n",
              "0         M           Y\n",
              "1         F           N\n",
              "2         M           N\n",
              "3         M           N\n",
              "4         M           N\n",
              "..      ...         ...\n",
              "995       M           N\n",
              "996       M           N\n",
              "997       F           Y\n",
              "998       M           N\n",
              "999       F           N\n",
              "\n",
              "[967 rows x 2 columns]"
            ]
          },
          "execution_count": 19,
          "metadata": {},
          "output_type": "execute_result"
        }
      ],
      "source": [
        "hyp"
      ]
    },
    {
      "cell_type": "code",
      "execution_count": null,
      "id": "ba9d02e7",
      "metadata": {
        "id": "ba9d02e7"
      },
      "outputs": [],
      "source": [
        "def do(x):\n",
        "    if x == 'M':\n",
        "        return 1\n",
        "    else:\n",
        "        return 2"
      ]
    },
    {
      "cell_type": "code",
      "execution_count": null,
      "id": "acb14e1e",
      "metadata": {
        "id": "acb14e1e"
      },
      "outputs": [],
      "source": [
        "def doo(x):\n",
        "    if x == 'Y':\n",
        "        return 1\n",
        "    else:\n",
        "        return 0"
      ]
    },
    {
      "cell_type": "code",
      "execution_count": null,
      "id": "c671f2fc",
      "metadata": {
        "id": "c671f2fc",
        "outputId": "30a27d6b-180c-4993-b52f-eb4e1c67a857"
      },
      "outputs": [
        {
          "name": "stderr",
          "output_type": "stream",
          "text": [
            "C:\\Users\\martu\\AppData\\Local\\Temp/ipykernel_113840/3282199845.py:1: SettingWithCopyWarning: \n",
            "A value is trying to be set on a copy of a slice from a DataFrame.\n",
            "Try using .loc[row_indexer,col_indexer] = value instead\n",
            "\n",
            "See the caveats in the documentation: https://pandas.pydata.org/pandas-docs/stable/user_guide/indexing.html#returning-a-view-versus-a-copy\n",
            "  hyp['ptSexCd'] = hyp['ptSexCd'].map(do)\n",
            "C:\\Users\\martu\\AppData\\Local\\Temp/ipykernel_113840/3282199845.py:2: SettingWithCopyWarning: \n",
            "A value is trying to be set on a copy of a slice from a DataFrame.\n",
            "Try using .loc[row_indexer,col_indexer] = value instead\n",
            "\n",
            "See the caveats in the documentation: https://pandas.pydata.org/pandas-docs/stable/user_guide/indexing.html#returning-a-view-versus-a-copy\n",
            "  hyp['statsTrgtNm'] = hyp['statsTrgtNm'].map(doo)\n"
          ]
        },
        {
          "data": {
            "text/html": [
              "<div>\n",
              "<style scoped>\n",
              "    .dataframe tbody tr th:only-of-type {\n",
              "        vertical-align: middle;\n",
              "    }\n",
              "\n",
              "    .dataframe tbody tr th {\n",
              "        vertical-align: top;\n",
              "    }\n",
              "\n",
              "    .dataframe thead th {\n",
              "        text-align: right;\n",
              "    }\n",
              "</style>\n",
              "<table border=\"1\" class=\"dataframe\">\n",
              "  <thead>\n",
              "    <tr style=\"text-align: right;\">\n",
              "      <th></th>\n",
              "      <th>ptSexCd</th>\n",
              "      <th>statsTrgtNm</th>\n",
              "    </tr>\n",
              "  </thead>\n",
              "  <tbody>\n",
              "    <tr>\n",
              "      <th>0</th>\n",
              "      <td>1</td>\n",
              "      <td>1</td>\n",
              "    </tr>\n",
              "    <tr>\n",
              "      <th>1</th>\n",
              "      <td>2</td>\n",
              "      <td>0</td>\n",
              "    </tr>\n",
              "    <tr>\n",
              "      <th>2</th>\n",
              "      <td>1</td>\n",
              "      <td>0</td>\n",
              "    </tr>\n",
              "    <tr>\n",
              "      <th>3</th>\n",
              "      <td>1</td>\n",
              "      <td>0</td>\n",
              "    </tr>\n",
              "    <tr>\n",
              "      <th>4</th>\n",
              "      <td>1</td>\n",
              "      <td>0</td>\n",
              "    </tr>\n",
              "    <tr>\n",
              "      <th>...</th>\n",
              "      <td>...</td>\n",
              "      <td>...</td>\n",
              "    </tr>\n",
              "    <tr>\n",
              "      <th>995</th>\n",
              "      <td>1</td>\n",
              "      <td>0</td>\n",
              "    </tr>\n",
              "    <tr>\n",
              "      <th>996</th>\n",
              "      <td>1</td>\n",
              "      <td>0</td>\n",
              "    </tr>\n",
              "    <tr>\n",
              "      <th>997</th>\n",
              "      <td>2</td>\n",
              "      <td>1</td>\n",
              "    </tr>\n",
              "    <tr>\n",
              "      <th>998</th>\n",
              "      <td>1</td>\n",
              "      <td>0</td>\n",
              "    </tr>\n",
              "    <tr>\n",
              "      <th>999</th>\n",
              "      <td>2</td>\n",
              "      <td>0</td>\n",
              "    </tr>\n",
              "  </tbody>\n",
              "</table>\n",
              "<p>967 rows × 2 columns</p>\n",
              "</div>"
            ],
            "text/plain": [
              "     ptSexCd  statsTrgtNm\n",
              "0          1            1\n",
              "1          2            0\n",
              "2          1            0\n",
              "3          1            0\n",
              "4          1            0\n",
              "..       ...          ...\n",
              "995        1            0\n",
              "996        1            0\n",
              "997        2            1\n",
              "998        1            0\n",
              "999        2            0\n",
              "\n",
              "[967 rows x 2 columns]"
            ]
          },
          "execution_count": 22,
          "metadata": {},
          "output_type": "execute_result"
        }
      ],
      "source": [
        "hyp['ptSexCd'] = hyp['ptSexCd'].map(do)\n",
        "hyp['statsTrgtNm'] = hyp['statsTrgtNm'].map(doo)\n",
        "hyp"
      ]
    },
    {
      "cell_type": "code",
      "execution_count": null,
      "id": "98d0ede5",
      "metadata": {
        "id": "98d0ede5"
      },
      "outputs": [],
      "source": [
        "X = hyp[['ptSexCd']]\n",
        "y = hyp[['statsTrgtNm']]"
      ]
    },
    {
      "cell_type": "code",
      "execution_count": null,
      "id": "65215295",
      "metadata": {
        "id": "65215295"
      },
      "outputs": [],
      "source": [
        "from sklearn.model_selection import train_test_split\n",
        "X_train, X_test, y_train, y_test = train_test_split(X, y, test_size = 0.2, random_state = 42)"
      ]
    },
    {
      "cell_type": "code",
      "execution_count": null,
      "id": "7415749b",
      "metadata": {
        "id": "7415749b"
      },
      "outputs": [],
      "source": [
        "X_train_val, X_test_val, y_train_val, y_test_val = \\\n",
        "train_test_split(X_train, y_train, test_size = 0.2, random_state =42)"
      ]
    },
    {
      "cell_type": "code",
      "execution_count": null,
      "id": "5272a159",
      "metadata": {
        "id": "5272a159",
        "outputId": "f729577f-038a-46fe-8fc6-d49806ff69a3"
      },
      "outputs": [
        {
          "data": {
            "text/plain": [
              "LinearRegression()"
            ]
          },
          "execution_count": 26,
          "metadata": {},
          "output_type": "execute_result"
        }
      ],
      "source": [
        "from sklearn.linear_model import LinearRegression\n",
        "lr = LinearRegression()\n",
        "lr.fit(X_train_val, y_train_val)"
      ]
    },
    {
      "cell_type": "code",
      "execution_count": null,
      "id": "7c662719",
      "metadata": {
        "id": "7c662719"
      },
      "outputs": [],
      "source": [
        "from sklearn.preprocessing import MinMaxScaler\n",
        "from sklearn.preprocessing import StandardScaler\n",
        "scaled_minmax = MinMaxScaler()\n",
        "scaled_standard = StandardScaler()"
      ]
    },
    {
      "cell_type": "code",
      "execution_count": null,
      "id": "11af4a23",
      "metadata": {
        "id": "11af4a23"
      },
      "outputs": [],
      "source": [
        "scaled_minmax.fit(X_train_val)\n",
        "scaled_minmax_train = scaled_minmax.transform(X_train_val)"
      ]
    },
    {
      "cell_type": "code",
      "execution_count": null,
      "id": "b5dde975",
      "metadata": {
        "id": "b5dde975"
      },
      "outputs": [],
      "source": [
        "scaled_standard.fit(X_train_val)\n",
        "scaled_standard_train = scaled_standard.transform(X_train_val)"
      ]
    },
    {
      "cell_type": "code",
      "execution_count": null,
      "id": "43dbfbaf",
      "metadata": {
        "id": "43dbfbaf"
      },
      "outputs": [],
      "source": [
        "scaled_minmax_test = scaled_minmax.transform(X_test_val)\n",
        "scaled_standard_test = scaled_standard.transform(y_test_val)"
      ]
    },
    {
      "cell_type": "code",
      "execution_count": null,
      "id": "0d567fe7",
      "metadata": {
        "id": "0d567fe7",
        "outputId": "76437d9f-523d-45d9-d97c-b17085dc3ffc"
      },
      "outputs": [
        {
          "data": {
            "text/plain": [
              "LinearRegression()"
            ]
          },
          "execution_count": 31,
          "metadata": {},
          "output_type": "execute_result"
        }
      ],
      "source": [
        "from sklearn.linear_model import LinearRegression\n",
        "lr = LinearRegression()\n",
        "lr.fit(scaled_minmax_train, y_train_val)"
      ]
    },
    {
      "cell_type": "code",
      "execution_count": null,
      "id": "a7adcbad",
      "metadata": {
        "id": "a7adcbad",
        "outputId": "d0686746-a0d9-45a4-85fe-08e0867bcff6"
      },
      "outputs": [
        {
          "data": {
            "text/plain": [
              "-0.0032900642521915824"
            ]
          },
          "execution_count": 32,
          "metadata": {},
          "output_type": "execute_result"
        }
      ],
      "source": [
        "lr.score(scaled_minmax_test, y_test_val)"
      ]
    },
    {
      "cell_type": "code",
      "execution_count": null,
      "id": "a875245a",
      "metadata": {
        "id": "a875245a"
      },
      "outputs": [],
      "source": [
        "#RMSE\n",
        "from sklearn.metrics import mean_squared_error\n",
        "a_pred = lr.predict(X_test_val)"
      ]
    },
    {
      "cell_type": "code",
      "execution_count": null,
      "id": "e05c3fa2",
      "metadata": {
        "id": "e05c3fa2"
      },
      "outputs": [],
      "source": [
        "a = mean_squared_error(y_test_val,a_pred)**0.5"
      ]
    },
    {
      "cell_type": "code",
      "execution_count": null,
      "id": "e6e4d217",
      "metadata": {
        "id": "e6e4d217",
        "outputId": "89dff679-7e86-4c6a-91cc-f5b1c3afc96e"
      },
      "outputs": [
        {
          "data": {
            "text/plain": [
              "0.4939883655260218"
            ]
          },
          "execution_count": 35,
          "metadata": {},
          "output_type": "execute_result"
        }
      ],
      "source": [
        "a"
      ]
    },
    {
      "cell_type": "markdown",
      "id": "d30a82b8",
      "metadata": {
        "id": "d30a82b8"
      },
      "source": [
        "# OLS"
      ]
    },
    {
      "cell_type": "code",
      "execution_count": null,
      "id": "3a20a7a5",
      "metadata": {
        "id": "3a20a7a5"
      },
      "outputs": [],
      "source": [
        "import statsmodels.api as sm"
      ]
    },
    {
      "cell_type": "code",
      "execution_count": null,
      "id": "9da4cf88",
      "metadata": {
        "id": "9da4cf88",
        "outputId": "2ab8d079-e018-448c-9387-dc2275ae62f3"
      },
      "outputs": [
        {
          "data": {
            "text/html": [
              "<table class=\"simpletable\">\n",
              "<caption>OLS Regression Results</caption>\n",
              "<tr>\n",
              "  <th>Dep. Variable:</th>       <td>statsTrgtNm</td>   <th>  R-squared (uncentered):</th>      <td>   0.401</td> \n",
              "</tr>\n",
              "<tr>\n",
              "  <th>Model:</th>                   <td>OLS</td>       <th>  Adj. R-squared (uncentered):</th> <td>   0.400</td> \n",
              "</tr>\n",
              "<tr>\n",
              "  <th>Method:</th>             <td>Least Squares</td>  <th>  F-statistic:       </th>          <td>   646.5</td> \n",
              "</tr>\n",
              "<tr>\n",
              "  <th>Date:</th>             <td>Wed, 15 Dec 2021</td> <th>  Prob (F-statistic):</th>          <td>1.35e-109</td>\n",
              "</tr>\n",
              "<tr>\n",
              "  <th>Time:</th>                 <td>14:40:50</td>     <th>  Log-Likelihood:    </th>          <td> -740.36</td> \n",
              "</tr>\n",
              "<tr>\n",
              "  <th>No. Observations:</th>      <td>   967</td>      <th>  AIC:               </th>          <td>   1483.</td> \n",
              "</tr>\n",
              "<tr>\n",
              "  <th>Df Residuals:</th>          <td>   966</td>      <th>  BIC:               </th>          <td>   1488.</td> \n",
              "</tr>\n",
              "<tr>\n",
              "  <th>Df Model:</th>              <td>     1</td>      <th>                     </th>              <td> </td>    \n",
              "</tr>\n",
              "<tr>\n",
              "  <th>Covariance Type:</th>      <td>nonrobust</td>    <th>                     </th>              <td> </td>    \n",
              "</tr>\n",
              "</table>\n",
              "<table class=\"simpletable\">\n",
              "<tr>\n",
              "     <td></td>        <th>coef</th>     <th>std err</th>      <th>t</th>      <th>P>|t|</th>  <th>[0.025</th>    <th>0.975]</th>  \n",
              "</tr>\n",
              "<tr>\n",
              "  <th>ptSexCd</th> <td>    0.2768</td> <td>    0.011</td> <td>   25.426</td> <td> 0.000</td> <td>    0.255</td> <td>    0.298</td>\n",
              "</tr>\n",
              "</table>\n",
              "<table class=\"simpletable\">\n",
              "<tr>\n",
              "  <th>Omnibus:</th>       <td>4667.385</td> <th>  Durbin-Watson:     </th> <td>   1.915</td>\n",
              "</tr>\n",
              "<tr>\n",
              "  <th>Prob(Omnibus):</th>  <td> 0.000</td>  <th>  Jarque-Bera (JB):  </th> <td> 121.928</td>\n",
              "</tr>\n",
              "<tr>\n",
              "  <th>Skew:</th>           <td> 0.169</td>  <th>  Prob(JB):          </th> <td>3.34e-27</td>\n",
              "</tr>\n",
              "<tr>\n",
              "  <th>Kurtosis:</th>       <td> 1.294</td>  <th>  Cond. No.          </th> <td>    1.00</td>\n",
              "</tr>\n",
              "</table><br/><br/>Notes:<br/>[1] R² is computed without centering (uncentered) since the model does not contain a constant.<br/>[2] Standard Errors assume that the covariance matrix of the errors is correctly specified."
            ],
            "text/plain": [
              "<class 'statsmodels.iolib.summary.Summary'>\n",
              "\"\"\"\n",
              "                                 OLS Regression Results                                \n",
              "=======================================================================================\n",
              "Dep. Variable:            statsTrgtNm   R-squared (uncentered):                   0.401\n",
              "Model:                            OLS   Adj. R-squared (uncentered):              0.400\n",
              "Method:                 Least Squares   F-statistic:                              646.5\n",
              "Date:                Wed, 15 Dec 2021   Prob (F-statistic):                   1.35e-109\n",
              "Time:                        14:40:50   Log-Likelihood:                         -740.36\n",
              "No. Observations:                 967   AIC:                                      1483.\n",
              "Df Residuals:                     966   BIC:                                      1488.\n",
              "Df Model:                           1                                                  \n",
              "Covariance Type:            nonrobust                                                  \n",
              "==============================================================================\n",
              "                 coef    std err          t      P>|t|      [0.025      0.975]\n",
              "------------------------------------------------------------------------------\n",
              "ptSexCd        0.2768      0.011     25.426      0.000       0.255       0.298\n",
              "==============================================================================\n",
              "Omnibus:                     4667.385   Durbin-Watson:                   1.915\n",
              "Prob(Omnibus):                  0.000   Jarque-Bera (JB):              121.928\n",
              "Skew:                           0.169   Prob(JB):                     3.34e-27\n",
              "Kurtosis:                       1.294   Cond. No.                         1.00\n",
              "==============================================================================\n",
              "\n",
              "Notes:\n",
              "[1] R² is computed without centering (uncentered) since the model does not contain a constant.\n",
              "[2] Standard Errors assume that the covariance matrix of the errors is correctly specified.\n",
              "\"\"\""
            ]
          },
          "execution_count": 37,
          "metadata": {},
          "output_type": "execute_result"
        }
      ],
      "source": [
        "model = sm.OLS(y, X)\n",
        "result = model.fit()\n",
        "result.summary()"
      ]
    },
    {
      "cell_type": "markdown",
      "id": "b3e7ddb1",
      "metadata": {
        "id": "b3e7ddb1"
      },
      "source": [
        "# 심장질환"
      ]
    },
    {
      "cell_type": "code",
      "execution_count": null,
      "id": "047c922f",
      "metadata": {
        "id": "047c922f",
        "outputId": "3518dd7d-83c2-488d-8b69-18de29ac4abc"
      },
      "outputs": [
        {
          "data": {
            "text/html": [
              "<div>\n",
              "<style scoped>\n",
              "    .dataframe tbody tr th:only-of-type {\n",
              "        vertical-align: middle;\n",
              "    }\n",
              "\n",
              "    .dataframe tbody tr th {\n",
              "        vertical-align: top;\n",
              "    }\n",
              "\n",
              "    .dataframe thead th {\n",
              "        text-align: right;\n",
              "    }\n",
              "</style>\n",
              "<table border=\"1\" class=\"dataframe\">\n",
              "  <thead>\n",
              "    <tr style=\"text-align: right;\">\n",
              "      <th></th>\n",
              "      <th>centerNm</th>\n",
              "      <th>critYr</th>\n",
              "      <th>ptAge</th>\n",
              "      <th>ptSexCd</th>\n",
              "      <th>statsTrgtNm</th>\n",
              "      <th>ncsNmvl</th>\n",
              "      <th>wholNcsDnmvl</th>\n",
              "      <th>ptCntNmvl</th>\n",
              "      <th>wholPtCntDnmvl</th>\n",
              "    </tr>\n",
              "  </thead>\n",
              "  <tbody>\n",
              "    <tr>\n",
              "      <th>0</th>\n",
              "      <td>국립암센터</td>\n",
              "      <td>2010</td>\n",
              "      <td>49</td>\n",
              "      <td>F</td>\n",
              "      <td>N</td>\n",
              "      <td>1</td>\n",
              "      <td>1</td>\n",
              "      <td>1</td>\n",
              "      <td>1</td>\n",
              "    </tr>\n",
              "    <tr>\n",
              "      <th>1</th>\n",
              "      <td>국립암센터</td>\n",
              "      <td>2017</td>\n",
              "      <td>79</td>\n",
              "      <td>M</td>\n",
              "      <td>Y</td>\n",
              "      <td>1</td>\n",
              "      <td>5</td>\n",
              "      <td>1</td>\n",
              "      <td>4</td>\n",
              "    </tr>\n",
              "    <tr>\n",
              "      <th>2</th>\n",
              "      <td>국립암센터</td>\n",
              "      <td>2016</td>\n",
              "      <td>61</td>\n",
              "      <td>M</td>\n",
              "      <td>N</td>\n",
              "      <td>11</td>\n",
              "      <td>11</td>\n",
              "      <td>9</td>\n",
              "      <td>9</td>\n",
              "    </tr>\n",
              "    <tr>\n",
              "      <th>3</th>\n",
              "      <td>국립암센터</td>\n",
              "      <td>2019</td>\n",
              "      <td>54</td>\n",
              "      <td>M</td>\n",
              "      <td>N</td>\n",
              "      <td>8</td>\n",
              "      <td>8</td>\n",
              "      <td>7</td>\n",
              "      <td>7</td>\n",
              "    </tr>\n",
              "    <tr>\n",
              "      <th>4</th>\n",
              "      <td>국립암센터</td>\n",
              "      <td>2014</td>\n",
              "      <td>83</td>\n",
              "      <td>M</td>\n",
              "      <td>N</td>\n",
              "      <td>2</td>\n",
              "      <td>2</td>\n",
              "      <td>1</td>\n",
              "      <td>1</td>\n",
              "    </tr>\n",
              "    <tr>\n",
              "      <th>...</th>\n",
              "      <td>...</td>\n",
              "      <td>...</td>\n",
              "      <td>...</td>\n",
              "      <td>...</td>\n",
              "      <td>...</td>\n",
              "      <td>...</td>\n",
              "      <td>...</td>\n",
              "      <td>...</td>\n",
              "      <td>...</td>\n",
              "    </tr>\n",
              "    <tr>\n",
              "      <th>995</th>\n",
              "      <td>국립암센터</td>\n",
              "      <td>2018</td>\n",
              "      <td>53</td>\n",
              "      <td>M</td>\n",
              "      <td>N</td>\n",
              "      <td>4</td>\n",
              "      <td>5</td>\n",
              "      <td>3</td>\n",
              "      <td>4</td>\n",
              "    </tr>\n",
              "    <tr>\n",
              "      <th>996</th>\n",
              "      <td>국립암센터</td>\n",
              "      <td>2012</td>\n",
              "      <td>78</td>\n",
              "      <td>F</td>\n",
              "      <td>N</td>\n",
              "      <td>3</td>\n",
              "      <td>3</td>\n",
              "      <td>3</td>\n",
              "      <td>3</td>\n",
              "    </tr>\n",
              "    <tr>\n",
              "      <th>997</th>\n",
              "      <td>국립암센터</td>\n",
              "      <td>2012</td>\n",
              "      <td>58</td>\n",
              "      <td>F</td>\n",
              "      <td>N</td>\n",
              "      <td>7</td>\n",
              "      <td>7</td>\n",
              "      <td>7</td>\n",
              "      <td>7</td>\n",
              "    </tr>\n",
              "    <tr>\n",
              "      <th>998</th>\n",
              "      <td>국립암센터</td>\n",
              "      <td>2019</td>\n",
              "      <td>64</td>\n",
              "      <td>F</td>\n",
              "      <td>Y</td>\n",
              "      <td>1</td>\n",
              "      <td>13</td>\n",
              "      <td>1</td>\n",
              "      <td>8</td>\n",
              "    </tr>\n",
              "    <tr>\n",
              "      <th>999</th>\n",
              "      <td>국립암센터</td>\n",
              "      <td>2019</td>\n",
              "      <td>54</td>\n",
              "      <td>F</td>\n",
              "      <td>N</td>\n",
              "      <td>3</td>\n",
              "      <td>3</td>\n",
              "      <td>3</td>\n",
              "      <td>3</td>\n",
              "    </tr>\n",
              "  </tbody>\n",
              "</table>\n",
              "<p>1000 rows × 9 columns</p>\n",
              "</div>"
            ],
            "text/plain": [
              "    centerNm  critYr  ptAge ptSexCd statsTrgtNm  ncsNmvl  wholNcsDnmvl  \\\n",
              "0      국립암센터    2010     49       F           N        1             1   \n",
              "1      국립암센터    2017     79       M           Y        1             5   \n",
              "2      국립암센터    2016     61       M           N       11            11   \n",
              "3      국립암센터    2019     54       M           N        8             8   \n",
              "4      국립암센터    2014     83       M           N        2             2   \n",
              "..       ...     ...    ...     ...         ...      ...           ...   \n",
              "995    국립암센터    2018     53       M           N        4             5   \n",
              "996    국립암센터    2012     78       F           N        3             3   \n",
              "997    국립암센터    2012     58       F           N        7             7   \n",
              "998    국립암센터    2019     64       F           Y        1            13   \n",
              "999    국립암센터    2019     54       F           N        3             3   \n",
              "\n",
              "     ptCntNmvl  wholPtCntDnmvl  \n",
              "0            1               1  \n",
              "1            1               4  \n",
              "2            9               9  \n",
              "3            7               7  \n",
              "4            1               1  \n",
              "..         ...             ...  \n",
              "995          3               4  \n",
              "996          3               3  \n",
              "997          7               7  \n",
              "998          1               8  \n",
              "999          3               3  \n",
              "\n",
              "[1000 rows x 9 columns]"
            ]
          },
          "execution_count": 38,
          "metadata": {},
          "output_type": "execute_result"
        }
      ],
      "source": [
        "heart=pd.read_csv(\"폐암 합병증/lung_heart.csv\")\n",
        "heart"
      ]
    },
    {
      "cell_type": "code",
      "execution_count": null,
      "id": "f1266d80",
      "metadata": {
        "id": "f1266d80",
        "outputId": "282f1071-54db-4879-dc99-c24394e3cdcc"
      },
      "outputs": [
        {
          "data": {
            "text/html": [
              "<div>\n",
              "<style scoped>\n",
              "    .dataframe tbody tr th:only-of-type {\n",
              "        vertical-align: middle;\n",
              "    }\n",
              "\n",
              "    .dataframe tbody tr th {\n",
              "        vertical-align: top;\n",
              "    }\n",
              "\n",
              "    .dataframe thead th {\n",
              "        text-align: right;\n",
              "    }\n",
              "</style>\n",
              "<table border=\"1\" class=\"dataframe\">\n",
              "  <thead>\n",
              "    <tr style=\"text-align: right;\">\n",
              "      <th></th>\n",
              "      <th>ptSexCd</th>\n",
              "      <th>statsTrgtNm</th>\n",
              "    </tr>\n",
              "  </thead>\n",
              "  <tbody>\n",
              "    <tr>\n",
              "      <th>0</th>\n",
              "      <td>F</td>\n",
              "      <td>N</td>\n",
              "    </tr>\n",
              "    <tr>\n",
              "      <th>1</th>\n",
              "      <td>M</td>\n",
              "      <td>Y</td>\n",
              "    </tr>\n",
              "    <tr>\n",
              "      <th>2</th>\n",
              "      <td>M</td>\n",
              "      <td>N</td>\n",
              "    </tr>\n",
              "    <tr>\n",
              "      <th>3</th>\n",
              "      <td>M</td>\n",
              "      <td>N</td>\n",
              "    </tr>\n",
              "    <tr>\n",
              "      <th>4</th>\n",
              "      <td>M</td>\n",
              "      <td>N</td>\n",
              "    </tr>\n",
              "    <tr>\n",
              "      <th>...</th>\n",
              "      <td>...</td>\n",
              "      <td>...</td>\n",
              "    </tr>\n",
              "    <tr>\n",
              "      <th>995</th>\n",
              "      <td>M</td>\n",
              "      <td>N</td>\n",
              "    </tr>\n",
              "    <tr>\n",
              "      <th>996</th>\n",
              "      <td>F</td>\n",
              "      <td>N</td>\n",
              "    </tr>\n",
              "    <tr>\n",
              "      <th>997</th>\n",
              "      <td>F</td>\n",
              "      <td>N</td>\n",
              "    </tr>\n",
              "    <tr>\n",
              "      <th>998</th>\n",
              "      <td>F</td>\n",
              "      <td>Y</td>\n",
              "    </tr>\n",
              "    <tr>\n",
              "      <th>999</th>\n",
              "      <td>F</td>\n",
              "      <td>N</td>\n",
              "    </tr>\n",
              "  </tbody>\n",
              "</table>\n",
              "<p>1000 rows × 2 columns</p>\n",
              "</div>"
            ],
            "text/plain": [
              "    ptSexCd statsTrgtNm\n",
              "0         F           N\n",
              "1         M           Y\n",
              "2         M           N\n",
              "3         M           N\n",
              "4         M           N\n",
              "..      ...         ...\n",
              "995       M           N\n",
              "996       F           N\n",
              "997       F           N\n",
              "998       F           Y\n",
              "999       F           N\n",
              "\n",
              "[1000 rows x 2 columns]"
            ]
          },
          "execution_count": 39,
          "metadata": {},
          "output_type": "execute_result"
        }
      ],
      "source": [
        "heart = heart[['ptSexCd','statsTrgtNm']]\n",
        "heart"
      ]
    },
    {
      "cell_type": "code",
      "execution_count": null,
      "id": "393bf9a1",
      "metadata": {
        "id": "393bf9a1",
        "outputId": "338a700e-b00c-4165-f6f0-b5f04e720bfe"
      },
      "outputs": [
        {
          "data": {
            "text/html": [
              "<div>\n",
              "<style scoped>\n",
              "    .dataframe tbody tr th:only-of-type {\n",
              "        vertical-align: middle;\n",
              "    }\n",
              "\n",
              "    .dataframe tbody tr th {\n",
              "        vertical-align: top;\n",
              "    }\n",
              "\n",
              "    .dataframe thead th {\n",
              "        text-align: right;\n",
              "    }\n",
              "</style>\n",
              "<table border=\"1\" class=\"dataframe\">\n",
              "  <thead>\n",
              "    <tr style=\"text-align: right;\">\n",
              "      <th></th>\n",
              "      <th>ptSexCd</th>\n",
              "      <th>statsTrgtNm</th>\n",
              "    </tr>\n",
              "  </thead>\n",
              "  <tbody>\n",
              "    <tr>\n",
              "      <th>0</th>\n",
              "      <td>F</td>\n",
              "      <td>N</td>\n",
              "    </tr>\n",
              "    <tr>\n",
              "      <th>1</th>\n",
              "      <td>M</td>\n",
              "      <td>Y</td>\n",
              "    </tr>\n",
              "    <tr>\n",
              "      <th>2</th>\n",
              "      <td>M</td>\n",
              "      <td>N</td>\n",
              "    </tr>\n",
              "    <tr>\n",
              "      <th>3</th>\n",
              "      <td>M</td>\n",
              "      <td>N</td>\n",
              "    </tr>\n",
              "    <tr>\n",
              "      <th>4</th>\n",
              "      <td>M</td>\n",
              "      <td>N</td>\n",
              "    </tr>\n",
              "    <tr>\n",
              "      <th>...</th>\n",
              "      <td>...</td>\n",
              "      <td>...</td>\n",
              "    </tr>\n",
              "    <tr>\n",
              "      <th>995</th>\n",
              "      <td>M</td>\n",
              "      <td>N</td>\n",
              "    </tr>\n",
              "    <tr>\n",
              "      <th>996</th>\n",
              "      <td>F</td>\n",
              "      <td>N</td>\n",
              "    </tr>\n",
              "    <tr>\n",
              "      <th>997</th>\n",
              "      <td>F</td>\n",
              "      <td>N</td>\n",
              "    </tr>\n",
              "    <tr>\n",
              "      <th>998</th>\n",
              "      <td>F</td>\n",
              "      <td>Y</td>\n",
              "    </tr>\n",
              "    <tr>\n",
              "      <th>999</th>\n",
              "      <td>F</td>\n",
              "      <td>N</td>\n",
              "    </tr>\n",
              "  </tbody>\n",
              "</table>\n",
              "<p>965 rows × 2 columns</p>\n",
              "</div>"
            ],
            "text/plain": [
              "    ptSexCd statsTrgtNm\n",
              "0         F           N\n",
              "1         M           Y\n",
              "2         M           N\n",
              "3         M           N\n",
              "4         M           N\n",
              "..      ...         ...\n",
              "995       M           N\n",
              "996       F           N\n",
              "997       F           N\n",
              "998       F           Y\n",
              "999       F           N\n",
              "\n",
              "[965 rows x 2 columns]"
            ]
          },
          "execution_count": 40,
          "metadata": {},
          "output_type": "execute_result"
        }
      ],
      "source": [
        "heart = heart.dropna()\n",
        "heart"
      ]
    },
    {
      "cell_type": "code",
      "execution_count": null,
      "id": "e3ec67a0",
      "metadata": {
        "id": "e3ec67a0",
        "outputId": "27fef0d6-6666-4750-f6fb-3ae8e890390f"
      },
      "outputs": [
        {
          "name": "stderr",
          "output_type": "stream",
          "text": [
            "C:\\Users\\martu\\AppData\\Local\\Temp/ipykernel_113840/2826415707.py:1: SettingWithCopyWarning: \n",
            "A value is trying to be set on a copy of a slice from a DataFrame.\n",
            "Try using .loc[row_indexer,col_indexer] = value instead\n",
            "\n",
            "See the caveats in the documentation: https://pandas.pydata.org/pandas-docs/stable/user_guide/indexing.html#returning-a-view-versus-a-copy\n",
            "  heart['ptSexCd'] = heart['ptSexCd'].map(do)\n",
            "C:\\Users\\martu\\AppData\\Local\\Temp/ipykernel_113840/2826415707.py:2: SettingWithCopyWarning: \n",
            "A value is trying to be set on a copy of a slice from a DataFrame.\n",
            "Try using .loc[row_indexer,col_indexer] = value instead\n",
            "\n",
            "See the caveats in the documentation: https://pandas.pydata.org/pandas-docs/stable/user_guide/indexing.html#returning-a-view-versus-a-copy\n",
            "  heart['statsTrgtNm'] = heart['statsTrgtNm'].map(doo)\n"
          ]
        },
        {
          "data": {
            "text/html": [
              "<div>\n",
              "<style scoped>\n",
              "    .dataframe tbody tr th:only-of-type {\n",
              "        vertical-align: middle;\n",
              "    }\n",
              "\n",
              "    .dataframe tbody tr th {\n",
              "        vertical-align: top;\n",
              "    }\n",
              "\n",
              "    .dataframe thead th {\n",
              "        text-align: right;\n",
              "    }\n",
              "</style>\n",
              "<table border=\"1\" class=\"dataframe\">\n",
              "  <thead>\n",
              "    <tr style=\"text-align: right;\">\n",
              "      <th></th>\n",
              "      <th>ptSexCd</th>\n",
              "      <th>statsTrgtNm</th>\n",
              "    </tr>\n",
              "  </thead>\n",
              "  <tbody>\n",
              "    <tr>\n",
              "      <th>0</th>\n",
              "      <td>2</td>\n",
              "      <td>0</td>\n",
              "    </tr>\n",
              "    <tr>\n",
              "      <th>1</th>\n",
              "      <td>1</td>\n",
              "      <td>1</td>\n",
              "    </tr>\n",
              "    <tr>\n",
              "      <th>2</th>\n",
              "      <td>1</td>\n",
              "      <td>0</td>\n",
              "    </tr>\n",
              "    <tr>\n",
              "      <th>3</th>\n",
              "      <td>1</td>\n",
              "      <td>0</td>\n",
              "    </tr>\n",
              "    <tr>\n",
              "      <th>4</th>\n",
              "      <td>1</td>\n",
              "      <td>0</td>\n",
              "    </tr>\n",
              "    <tr>\n",
              "      <th>...</th>\n",
              "      <td>...</td>\n",
              "      <td>...</td>\n",
              "    </tr>\n",
              "    <tr>\n",
              "      <th>995</th>\n",
              "      <td>1</td>\n",
              "      <td>0</td>\n",
              "    </tr>\n",
              "    <tr>\n",
              "      <th>996</th>\n",
              "      <td>2</td>\n",
              "      <td>0</td>\n",
              "    </tr>\n",
              "    <tr>\n",
              "      <th>997</th>\n",
              "      <td>2</td>\n",
              "      <td>0</td>\n",
              "    </tr>\n",
              "    <tr>\n",
              "      <th>998</th>\n",
              "      <td>2</td>\n",
              "      <td>1</td>\n",
              "    </tr>\n",
              "    <tr>\n",
              "      <th>999</th>\n",
              "      <td>2</td>\n",
              "      <td>0</td>\n",
              "    </tr>\n",
              "  </tbody>\n",
              "</table>\n",
              "<p>965 rows × 2 columns</p>\n",
              "</div>"
            ],
            "text/plain": [
              "     ptSexCd  statsTrgtNm\n",
              "0          2            0\n",
              "1          1            1\n",
              "2          1            0\n",
              "3          1            0\n",
              "4          1            0\n",
              "..       ...          ...\n",
              "995        1            0\n",
              "996        2            0\n",
              "997        2            0\n",
              "998        2            1\n",
              "999        2            0\n",
              "\n",
              "[965 rows x 2 columns]"
            ]
          },
          "execution_count": 41,
          "metadata": {},
          "output_type": "execute_result"
        }
      ],
      "source": [
        "heart['ptSexCd'] = heart['ptSexCd'].map(do)\n",
        "heart['statsTrgtNm'] = heart['statsTrgtNm'].map(doo)\n",
        "heart"
      ]
    },
    {
      "cell_type": "code",
      "execution_count": null,
      "id": "cf877421",
      "metadata": {
        "id": "cf877421"
      },
      "outputs": [],
      "source": [
        "X = heart[['ptSexCd']]\n",
        "y = heart[['statsTrgtNm']]"
      ]
    },
    {
      "cell_type": "code",
      "execution_count": null,
      "id": "3d3b96df",
      "metadata": {
        "id": "3d3b96df"
      },
      "outputs": [],
      "source": [
        "from sklearn.model_selection import train_test_split\n",
        "X_train, X_test, y_train, y_test = train_test_split(X, y, test_size = 0.2, random_state = 42)"
      ]
    },
    {
      "cell_type": "code",
      "execution_count": null,
      "id": "fbb757c4",
      "metadata": {
        "id": "fbb757c4"
      },
      "outputs": [],
      "source": [
        "X_train_val, X_test_val, y_train_val, y_test_val = \\\n",
        "train_test_split(X_train, y_train, test_size = 0.2, random_state =42)"
      ]
    },
    {
      "cell_type": "code",
      "execution_count": null,
      "id": "c42f536a",
      "metadata": {
        "id": "c42f536a",
        "outputId": "22ab52df-7bf0-4ca4-a131-9028434a6b70"
      },
      "outputs": [
        {
          "data": {
            "text/plain": [
              "LinearRegression()"
            ]
          },
          "execution_count": 45,
          "metadata": {},
          "output_type": "execute_result"
        }
      ],
      "source": [
        "from sklearn.linear_model import LinearRegression\n",
        "lr = LinearRegression()\n",
        "lr.fit(X_train_val, y_train_val)"
      ]
    },
    {
      "cell_type": "code",
      "execution_count": null,
      "id": "7d8ead20",
      "metadata": {
        "id": "7d8ead20"
      },
      "outputs": [],
      "source": [
        "from sklearn.preprocessing import MinMaxScaler\n",
        "from sklearn.preprocessing import StandardScaler\n",
        "scaled_minmax = MinMaxScaler()\n",
        "scaled_standard = StandardScaler()"
      ]
    },
    {
      "cell_type": "code",
      "execution_count": null,
      "id": "347c50f2",
      "metadata": {
        "id": "347c50f2"
      },
      "outputs": [],
      "source": [
        "scaled_minmax.fit(X_train_val)\n",
        "scaled_minmax_train = scaled_minmax.transform(X_train_val)"
      ]
    },
    {
      "cell_type": "code",
      "execution_count": null,
      "id": "922e26f0",
      "metadata": {
        "id": "922e26f0"
      },
      "outputs": [],
      "source": [
        "scaled_standard.fit(X_train_val)\n",
        "scaled_standard_train = scaled_standard.transform(X_train_val)"
      ]
    },
    {
      "cell_type": "code",
      "execution_count": null,
      "id": "305c77ac",
      "metadata": {
        "id": "305c77ac"
      },
      "outputs": [],
      "source": [
        "scaled_minmax_test = scaled_minmax.transform(X_test_val)\n",
        "scaled_standard_test = scaled_standard.transform(y_test_val)"
      ]
    },
    {
      "cell_type": "code",
      "execution_count": null,
      "id": "dcccb5b5",
      "metadata": {
        "id": "dcccb5b5",
        "outputId": "f0e9d328-8f27-41b5-aed2-e1b7548705c1"
      },
      "outputs": [
        {
          "data": {
            "text/plain": [
              "LinearRegression()"
            ]
          },
          "execution_count": 50,
          "metadata": {},
          "output_type": "execute_result"
        }
      ],
      "source": [
        "from sklearn.linear_model import LinearRegression\n",
        "lr = LinearRegression()\n",
        "lr.fit(scaled_minmax_train, y_train_val)"
      ]
    },
    {
      "cell_type": "code",
      "execution_count": null,
      "id": "e20027e6",
      "metadata": {
        "id": "e20027e6",
        "outputId": "e2849967-e7fb-4d0f-9225-df09e86647fb"
      },
      "outputs": [
        {
          "data": {
            "text/plain": [
              "-0.020283295263283208"
            ]
          },
          "execution_count": 51,
          "metadata": {},
          "output_type": "execute_result"
        }
      ],
      "source": [
        "lr.score(scaled_minmax_test, y_test_val)"
      ]
    },
    {
      "cell_type": "code",
      "execution_count": null,
      "id": "1caf8a0d",
      "metadata": {
        "id": "1caf8a0d"
      },
      "outputs": [],
      "source": [
        "#RMSE\n",
        "from sklearn.metrics import mean_squared_error\n",
        "a_pred = lr.predict(X_test_val)"
      ]
    },
    {
      "cell_type": "code",
      "execution_count": null,
      "id": "5e707d7f",
      "metadata": {
        "id": "5e707d7f"
      },
      "outputs": [],
      "source": [
        "a = mean_squared_error(y_test_val,a_pred)**0.5"
      ]
    },
    {
      "cell_type": "code",
      "execution_count": null,
      "id": "cb18c972",
      "metadata": {
        "id": "cb18c972",
        "outputId": "b8837a05-c626-4f84-f163-77bec02f81c3"
      },
      "outputs": [
        {
          "data": {
            "text/plain": [
              "0.42291990914009914"
            ]
          },
          "execution_count": 54,
          "metadata": {},
          "output_type": "execute_result"
        }
      ],
      "source": [
        "a"
      ]
    },
    {
      "cell_type": "code",
      "execution_count": null,
      "id": "b1bafd08",
      "metadata": {
        "id": "b1bafd08"
      },
      "outputs": [],
      "source": [
        "# OLS"
      ]
    },
    {
      "cell_type": "code",
      "execution_count": null,
      "id": "cea70ffd",
      "metadata": {
        "id": "cea70ffd"
      },
      "outputs": [],
      "source": [
        "import statsmodels.api as sm"
      ]
    },
    {
      "cell_type": "code",
      "execution_count": null,
      "id": "1d09d5f4",
      "metadata": {
        "id": "1d09d5f4",
        "outputId": "62fe3ed6-07b3-4b36-8a98-9bb6b4d79110"
      },
      "outputs": [
        {
          "data": {
            "text/html": [
              "<table class=\"simpletable\">\n",
              "<caption>OLS Regression Results</caption>\n",
              "<tr>\n",
              "  <th>Dep. Variable:</th>       <td>statsTrgtNm</td>   <th>  R-squared (uncentered):</th>      <td>   0.153</td>\n",
              "</tr>\n",
              "<tr>\n",
              "  <th>Model:</th>                   <td>OLS</td>       <th>  Adj. R-squared (uncentered):</th> <td>   0.152</td>\n",
              "</tr>\n",
              "<tr>\n",
              "  <th>Method:</th>             <td>Least Squares</td>  <th>  F-statistic:       </th>          <td>   173.5</td>\n",
              "</tr>\n",
              "<tr>\n",
              "  <th>Date:</th>             <td>Wed, 15 Dec 2021</td> <th>  Prob (F-statistic):</th>          <td>1.46e-36</td>\n",
              "</tr>\n",
              "<tr>\n",
              "  <th>Time:</th>                 <td>14:41:55</td>     <th>  Log-Likelihood:    </th>          <td> -530.04</td>\n",
              "</tr>\n",
              "<tr>\n",
              "  <th>No. Observations:</th>      <td>   965</td>      <th>  AIC:               </th>          <td>   1062.</td>\n",
              "</tr>\n",
              "<tr>\n",
              "  <th>Df Residuals:</th>          <td>   964</td>      <th>  BIC:               </th>          <td>   1067.</td>\n",
              "</tr>\n",
              "<tr>\n",
              "  <th>Df Model:</th>              <td>     1</td>      <th>                     </th>              <td> </td>   \n",
              "</tr>\n",
              "<tr>\n",
              "  <th>Covariance Type:</th>      <td>nonrobust</td>    <th>                     </th>              <td> </td>   \n",
              "</tr>\n",
              "</table>\n",
              "<table class=\"simpletable\">\n",
              "<tr>\n",
              "     <td></td>        <th>coef</th>     <th>std err</th>      <th>t</th>      <th>P>|t|</th>  <th>[0.025</th>    <th>0.975]</th>  \n",
              "</tr>\n",
              "<tr>\n",
              "  <th>ptSexCd</th> <td>    0.1160</td> <td>    0.009</td> <td>   13.173</td> <td> 0.000</td> <td>    0.099</td> <td>    0.133</td>\n",
              "</tr>\n",
              "</table>\n",
              "<table class=\"simpletable\">\n",
              "<tr>\n",
              "  <th>Omnibus:</th>       <td>188.148</td> <th>  Durbin-Watson:     </th> <td>   1.833</td>\n",
              "</tr>\n",
              "<tr>\n",
              "  <th>Prob(Omnibus):</th> <td> 0.000</td>  <th>  Jarque-Bera (JB):  </th> <td> 315.589</td>\n",
              "</tr>\n",
              "<tr>\n",
              "  <th>Skew:</th>          <td> 1.400</td>  <th>  Prob(JB):          </th> <td>2.96e-69</td>\n",
              "</tr>\n",
              "<tr>\n",
              "  <th>Kurtosis:</th>      <td> 3.071</td>  <th>  Cond. No.          </th> <td>    1.00</td>\n",
              "</tr>\n",
              "</table><br/><br/>Notes:<br/>[1] R² is computed without centering (uncentered) since the model does not contain a constant.<br/>[2] Standard Errors assume that the covariance matrix of the errors is correctly specified."
            ],
            "text/plain": [
              "<class 'statsmodels.iolib.summary.Summary'>\n",
              "\"\"\"\n",
              "                                 OLS Regression Results                                \n",
              "=======================================================================================\n",
              "Dep. Variable:            statsTrgtNm   R-squared (uncentered):                   0.153\n",
              "Model:                            OLS   Adj. R-squared (uncentered):              0.152\n",
              "Method:                 Least Squares   F-statistic:                              173.5\n",
              "Date:                Wed, 15 Dec 2021   Prob (F-statistic):                    1.46e-36\n",
              "Time:                        14:41:55   Log-Likelihood:                         -530.04\n",
              "No. Observations:                 965   AIC:                                      1062.\n",
              "Df Residuals:                     964   BIC:                                      1067.\n",
              "Df Model:                           1                                                  \n",
              "Covariance Type:            nonrobust                                                  \n",
              "==============================================================================\n",
              "                 coef    std err          t      P>|t|      [0.025      0.975]\n",
              "------------------------------------------------------------------------------\n",
              "ptSexCd        0.1160      0.009     13.173      0.000       0.099       0.133\n",
              "==============================================================================\n",
              "Omnibus:                      188.148   Durbin-Watson:                   1.833\n",
              "Prob(Omnibus):                  0.000   Jarque-Bera (JB):              315.589\n",
              "Skew:                           1.400   Prob(JB):                     2.96e-69\n",
              "Kurtosis:                       3.071   Cond. No.                         1.00\n",
              "==============================================================================\n",
              "\n",
              "Notes:\n",
              "[1] R² is computed without centering (uncentered) since the model does not contain a constant.\n",
              "[2] Standard Errors assume that the covariance matrix of the errors is correctly specified.\n",
              "\"\"\""
            ]
          },
          "execution_count": 57,
          "metadata": {},
          "output_type": "execute_result"
        }
      ],
      "source": [
        "model = sm.OLS(y, X)\n",
        "result = model.fit()\n",
        "result.summary()"
      ]
    },
    {
      "cell_type": "markdown",
      "id": "ff900a85",
      "metadata": {
        "id": "ff900a85"
      },
      "source": [
        "# 간질환"
      ]
    },
    {
      "cell_type": "code",
      "execution_count": null,
      "id": "c0398529",
      "metadata": {
        "id": "c0398529",
        "outputId": "5e1abd38-4284-472f-ec1f-28f8d1bd239a"
      },
      "outputs": [
        {
          "data": {
            "text/html": [
              "<div>\n",
              "<style scoped>\n",
              "    .dataframe tbody tr th:only-of-type {\n",
              "        vertical-align: middle;\n",
              "    }\n",
              "\n",
              "    .dataframe tbody tr th {\n",
              "        vertical-align: top;\n",
              "    }\n",
              "\n",
              "    .dataframe thead th {\n",
              "        text-align: right;\n",
              "    }\n",
              "</style>\n",
              "<table border=\"1\" class=\"dataframe\">\n",
              "  <thead>\n",
              "    <tr style=\"text-align: right;\">\n",
              "      <th></th>\n",
              "      <th>centerNm</th>\n",
              "      <th>critYr</th>\n",
              "      <th>ptAge</th>\n",
              "      <th>ptSexCd</th>\n",
              "      <th>statsTrgtNm</th>\n",
              "      <th>ncsNmvl</th>\n",
              "      <th>wholNcsDnmvl</th>\n",
              "      <th>ptCntNmvl</th>\n",
              "      <th>wholPtCntDnmvl</th>\n",
              "    </tr>\n",
              "  </thead>\n",
              "  <tbody>\n",
              "    <tr>\n",
              "      <th>0</th>\n",
              "      <td>국립암센터</td>\n",
              "      <td>2014</td>\n",
              "      <td>65</td>\n",
              "      <td>M</td>\n",
              "      <td>N</td>\n",
              "      <td>14</td>\n",
              "      <td>14</td>\n",
              "      <td>12</td>\n",
              "      <td>12</td>\n",
              "    </tr>\n",
              "    <tr>\n",
              "      <th>1</th>\n",
              "      <td>국립암센터</td>\n",
              "      <td>2012</td>\n",
              "      <td>76</td>\n",
              "      <td>M</td>\n",
              "      <td>N</td>\n",
              "      <td>5</td>\n",
              "      <td>5</td>\n",
              "      <td>5</td>\n",
              "      <td>5</td>\n",
              "    </tr>\n",
              "    <tr>\n",
              "      <th>2</th>\n",
              "      <td>국립암센터</td>\n",
              "      <td>2019</td>\n",
              "      <td>75</td>\n",
              "      <td>M</td>\n",
              "      <td>N</td>\n",
              "      <td>20</td>\n",
              "      <td>20</td>\n",
              "      <td>15</td>\n",
              "      <td>15</td>\n",
              "    </tr>\n",
              "    <tr>\n",
              "      <th>3</th>\n",
              "      <td>국립암센터</td>\n",
              "      <td>2013</td>\n",
              "      <td>58</td>\n",
              "      <td>F</td>\n",
              "      <td>N</td>\n",
              "      <td>6</td>\n",
              "      <td>6</td>\n",
              "      <td>6</td>\n",
              "      <td>6</td>\n",
              "    </tr>\n",
              "    <tr>\n",
              "      <th>4</th>\n",
              "      <td>국립암센터</td>\n",
              "      <td>2017</td>\n",
              "      <td>67</td>\n",
              "      <td>M</td>\n",
              "      <td>N</td>\n",
              "      <td>19</td>\n",
              "      <td>19</td>\n",
              "      <td>13</td>\n",
              "      <td>13</td>\n",
              "    </tr>\n",
              "    <tr>\n",
              "      <th>...</th>\n",
              "      <td>...</td>\n",
              "      <td>...</td>\n",
              "      <td>...</td>\n",
              "      <td>...</td>\n",
              "      <td>...</td>\n",
              "      <td>...</td>\n",
              "      <td>...</td>\n",
              "      <td>...</td>\n",
              "      <td>...</td>\n",
              "    </tr>\n",
              "    <tr>\n",
              "      <th>995</th>\n",
              "      <td>국립암센터</td>\n",
              "      <td>2012</td>\n",
              "      <td>37</td>\n",
              "      <td>M</td>\n",
              "      <td>N</td>\n",
              "      <td>2</td>\n",
              "      <td>2</td>\n",
              "      <td>1</td>\n",
              "      <td>1</td>\n",
              "    </tr>\n",
              "    <tr>\n",
              "      <th>996</th>\n",
              "      <td>국립암센터</td>\n",
              "      <td>2014</td>\n",
              "      <td>56</td>\n",
              "      <td>M</td>\n",
              "      <td>N</td>\n",
              "      <td>7</td>\n",
              "      <td>7</td>\n",
              "      <td>7</td>\n",
              "      <td>7</td>\n",
              "    </tr>\n",
              "    <tr>\n",
              "      <th>997</th>\n",
              "      <td>국립암센터</td>\n",
              "      <td>2011</td>\n",
              "      <td>75</td>\n",
              "      <td>F</td>\n",
              "      <td>NaN</td>\n",
              "      <td>0</td>\n",
              "      <td>5</td>\n",
              "      <td>1</td>\n",
              "      <td>6</td>\n",
              "    </tr>\n",
              "    <tr>\n",
              "      <th>998</th>\n",
              "      <td>국립암센터</td>\n",
              "      <td>2014</td>\n",
              "      <td>32</td>\n",
              "      <td>F</td>\n",
              "      <td>N</td>\n",
              "      <td>1</td>\n",
              "      <td>1</td>\n",
              "      <td>1</td>\n",
              "      <td>1</td>\n",
              "    </tr>\n",
              "    <tr>\n",
              "      <th>999</th>\n",
              "      <td>국립암센터</td>\n",
              "      <td>2010</td>\n",
              "      <td>71</td>\n",
              "      <td>M</td>\n",
              "      <td>N</td>\n",
              "      <td>7</td>\n",
              "      <td>8</td>\n",
              "      <td>6</td>\n",
              "      <td>7</td>\n",
              "    </tr>\n",
              "  </tbody>\n",
              "</table>\n",
              "<p>1000 rows × 9 columns</p>\n",
              "</div>"
            ],
            "text/plain": [
              "    centerNm  critYr  ptAge ptSexCd statsTrgtNm  ncsNmvl  wholNcsDnmvl  \\\n",
              "0      국립암센터    2014     65       M           N       14            14   \n",
              "1      국립암센터    2012     76       M           N        5             5   \n",
              "2      국립암센터    2019     75       M           N       20            20   \n",
              "3      국립암센터    2013     58       F           N        6             6   \n",
              "4      국립암센터    2017     67       M           N       19            19   \n",
              "..       ...     ...    ...     ...         ...      ...           ...   \n",
              "995    국립암센터    2012     37       M           N        2             2   \n",
              "996    국립암센터    2014     56       M           N        7             7   \n",
              "997    국립암센터    2011     75       F         NaN        0             5   \n",
              "998    국립암센터    2014     32       F           N        1             1   \n",
              "999    국립암센터    2010     71       M           N        7             8   \n",
              "\n",
              "     ptCntNmvl  wholPtCntDnmvl  \n",
              "0           12              12  \n",
              "1            5               5  \n",
              "2           15              15  \n",
              "3            6               6  \n",
              "4           13              13  \n",
              "..         ...             ...  \n",
              "995          1               1  \n",
              "996          7               7  \n",
              "997          1               6  \n",
              "998          1               1  \n",
              "999          6               7  \n",
              "\n",
              "[1000 rows x 9 columns]"
            ]
          },
          "execution_count": 58,
          "metadata": {},
          "output_type": "execute_result"
        }
      ],
      "source": [
        "liver=pd.read_csv(\"폐암 합병증/lung_liver.csv\")\n",
        "liver"
      ]
    },
    {
      "cell_type": "code",
      "execution_count": null,
      "id": "228fd0b6",
      "metadata": {
        "id": "228fd0b6",
        "outputId": "86c5367c-8886-4318-874a-5677408c1ee2"
      },
      "outputs": [
        {
          "data": {
            "text/html": [
              "<div>\n",
              "<style scoped>\n",
              "    .dataframe tbody tr th:only-of-type {\n",
              "        vertical-align: middle;\n",
              "    }\n",
              "\n",
              "    .dataframe tbody tr th {\n",
              "        vertical-align: top;\n",
              "    }\n",
              "\n",
              "    .dataframe thead th {\n",
              "        text-align: right;\n",
              "    }\n",
              "</style>\n",
              "<table border=\"1\" class=\"dataframe\">\n",
              "  <thead>\n",
              "    <tr style=\"text-align: right;\">\n",
              "      <th></th>\n",
              "      <th>ptSexCd</th>\n",
              "      <th>statsTrgtNm</th>\n",
              "    </tr>\n",
              "  </thead>\n",
              "  <tbody>\n",
              "    <tr>\n",
              "      <th>0</th>\n",
              "      <td>M</td>\n",
              "      <td>N</td>\n",
              "    </tr>\n",
              "    <tr>\n",
              "      <th>1</th>\n",
              "      <td>M</td>\n",
              "      <td>N</td>\n",
              "    </tr>\n",
              "    <tr>\n",
              "      <th>2</th>\n",
              "      <td>M</td>\n",
              "      <td>N</td>\n",
              "    </tr>\n",
              "    <tr>\n",
              "      <th>3</th>\n",
              "      <td>F</td>\n",
              "      <td>N</td>\n",
              "    </tr>\n",
              "    <tr>\n",
              "      <th>4</th>\n",
              "      <td>M</td>\n",
              "      <td>N</td>\n",
              "    </tr>\n",
              "    <tr>\n",
              "      <th>...</th>\n",
              "      <td>...</td>\n",
              "      <td>...</td>\n",
              "    </tr>\n",
              "    <tr>\n",
              "      <th>995</th>\n",
              "      <td>M</td>\n",
              "      <td>N</td>\n",
              "    </tr>\n",
              "    <tr>\n",
              "      <th>996</th>\n",
              "      <td>M</td>\n",
              "      <td>N</td>\n",
              "    </tr>\n",
              "    <tr>\n",
              "      <th>997</th>\n",
              "      <td>F</td>\n",
              "      <td>NaN</td>\n",
              "    </tr>\n",
              "    <tr>\n",
              "      <th>998</th>\n",
              "      <td>F</td>\n",
              "      <td>N</td>\n",
              "    </tr>\n",
              "    <tr>\n",
              "      <th>999</th>\n",
              "      <td>M</td>\n",
              "      <td>N</td>\n",
              "    </tr>\n",
              "  </tbody>\n",
              "</table>\n",
              "<p>1000 rows × 2 columns</p>\n",
              "</div>"
            ],
            "text/plain": [
              "    ptSexCd statsTrgtNm\n",
              "0         M           N\n",
              "1         M           N\n",
              "2         M           N\n",
              "3         F           N\n",
              "4         M           N\n",
              "..      ...         ...\n",
              "995       M           N\n",
              "996       M           N\n",
              "997       F         NaN\n",
              "998       F           N\n",
              "999       M           N\n",
              "\n",
              "[1000 rows x 2 columns]"
            ]
          },
          "execution_count": 59,
          "metadata": {},
          "output_type": "execute_result"
        }
      ],
      "source": [
        "liver = liver[['ptSexCd','statsTrgtNm']]\n",
        "liver"
      ]
    },
    {
      "cell_type": "code",
      "execution_count": null,
      "id": "3ce1a14a",
      "metadata": {
        "id": "3ce1a14a",
        "outputId": "e861de3a-baa9-4e2f-8070-9c18dbfa2919"
      },
      "outputs": [
        {
          "data": {
            "text/html": [
              "<div>\n",
              "<style scoped>\n",
              "    .dataframe tbody tr th:only-of-type {\n",
              "        vertical-align: middle;\n",
              "    }\n",
              "\n",
              "    .dataframe tbody tr th {\n",
              "        vertical-align: top;\n",
              "    }\n",
              "\n",
              "    .dataframe thead th {\n",
              "        text-align: right;\n",
              "    }\n",
              "</style>\n",
              "<table border=\"1\" class=\"dataframe\">\n",
              "  <thead>\n",
              "    <tr style=\"text-align: right;\">\n",
              "      <th></th>\n",
              "      <th>ptSexCd</th>\n",
              "      <th>statsTrgtNm</th>\n",
              "    </tr>\n",
              "  </thead>\n",
              "  <tbody>\n",
              "    <tr>\n",
              "      <th>0</th>\n",
              "      <td>M</td>\n",
              "      <td>N</td>\n",
              "    </tr>\n",
              "    <tr>\n",
              "      <th>1</th>\n",
              "      <td>M</td>\n",
              "      <td>N</td>\n",
              "    </tr>\n",
              "    <tr>\n",
              "      <th>2</th>\n",
              "      <td>M</td>\n",
              "      <td>N</td>\n",
              "    </tr>\n",
              "    <tr>\n",
              "      <th>3</th>\n",
              "      <td>F</td>\n",
              "      <td>N</td>\n",
              "    </tr>\n",
              "    <tr>\n",
              "      <th>4</th>\n",
              "      <td>M</td>\n",
              "      <td>N</td>\n",
              "    </tr>\n",
              "    <tr>\n",
              "      <th>...</th>\n",
              "      <td>...</td>\n",
              "      <td>...</td>\n",
              "    </tr>\n",
              "    <tr>\n",
              "      <th>994</th>\n",
              "      <td>M</td>\n",
              "      <td>N</td>\n",
              "    </tr>\n",
              "    <tr>\n",
              "      <th>995</th>\n",
              "      <td>M</td>\n",
              "      <td>N</td>\n",
              "    </tr>\n",
              "    <tr>\n",
              "      <th>996</th>\n",
              "      <td>M</td>\n",
              "      <td>N</td>\n",
              "    </tr>\n",
              "    <tr>\n",
              "      <th>998</th>\n",
              "      <td>F</td>\n",
              "      <td>N</td>\n",
              "    </tr>\n",
              "    <tr>\n",
              "      <th>999</th>\n",
              "      <td>M</td>\n",
              "      <td>N</td>\n",
              "    </tr>\n",
              "  </tbody>\n",
              "</table>\n",
              "<p>958 rows × 2 columns</p>\n",
              "</div>"
            ],
            "text/plain": [
              "    ptSexCd statsTrgtNm\n",
              "0         M           N\n",
              "1         M           N\n",
              "2         M           N\n",
              "3         F           N\n",
              "4         M           N\n",
              "..      ...         ...\n",
              "994       M           N\n",
              "995       M           N\n",
              "996       M           N\n",
              "998       F           N\n",
              "999       M           N\n",
              "\n",
              "[958 rows x 2 columns]"
            ]
          },
          "execution_count": 60,
          "metadata": {},
          "output_type": "execute_result"
        }
      ],
      "source": [
        "liver = liver.dropna()\n",
        "liver"
      ]
    },
    {
      "cell_type": "code",
      "execution_count": null,
      "id": "188d4252",
      "metadata": {
        "id": "188d4252",
        "outputId": "5401f144-845e-483d-cd7a-b67877882737"
      },
      "outputs": [
        {
          "name": "stderr",
          "output_type": "stream",
          "text": [
            "C:\\Users\\martu\\AppData\\Local\\Temp/ipykernel_113840/1566935880.py:1: SettingWithCopyWarning: \n",
            "A value is trying to be set on a copy of a slice from a DataFrame.\n",
            "Try using .loc[row_indexer,col_indexer] = value instead\n",
            "\n",
            "See the caveats in the documentation: https://pandas.pydata.org/pandas-docs/stable/user_guide/indexing.html#returning-a-view-versus-a-copy\n",
            "  liver['ptSexCd'] = liver['ptSexCd'].map(do)\n",
            "C:\\Users\\martu\\AppData\\Local\\Temp/ipykernel_113840/1566935880.py:2: SettingWithCopyWarning: \n",
            "A value is trying to be set on a copy of a slice from a DataFrame.\n",
            "Try using .loc[row_indexer,col_indexer] = value instead\n",
            "\n",
            "See the caveats in the documentation: https://pandas.pydata.org/pandas-docs/stable/user_guide/indexing.html#returning-a-view-versus-a-copy\n",
            "  liver['statsTrgtNm'] = liver['statsTrgtNm'].map(doo)\n"
          ]
        },
        {
          "data": {
            "text/html": [
              "<div>\n",
              "<style scoped>\n",
              "    .dataframe tbody tr th:only-of-type {\n",
              "        vertical-align: middle;\n",
              "    }\n",
              "\n",
              "    .dataframe tbody tr th {\n",
              "        vertical-align: top;\n",
              "    }\n",
              "\n",
              "    .dataframe thead th {\n",
              "        text-align: right;\n",
              "    }\n",
              "</style>\n",
              "<table border=\"1\" class=\"dataframe\">\n",
              "  <thead>\n",
              "    <tr style=\"text-align: right;\">\n",
              "      <th></th>\n",
              "      <th>ptSexCd</th>\n",
              "      <th>statsTrgtNm</th>\n",
              "    </tr>\n",
              "  </thead>\n",
              "  <tbody>\n",
              "    <tr>\n",
              "      <th>0</th>\n",
              "      <td>1</td>\n",
              "      <td>0</td>\n",
              "    </tr>\n",
              "    <tr>\n",
              "      <th>1</th>\n",
              "      <td>1</td>\n",
              "      <td>0</td>\n",
              "    </tr>\n",
              "    <tr>\n",
              "      <th>2</th>\n",
              "      <td>1</td>\n",
              "      <td>0</td>\n",
              "    </tr>\n",
              "    <tr>\n",
              "      <th>3</th>\n",
              "      <td>2</td>\n",
              "      <td>0</td>\n",
              "    </tr>\n",
              "    <tr>\n",
              "      <th>4</th>\n",
              "      <td>1</td>\n",
              "      <td>0</td>\n",
              "    </tr>\n",
              "    <tr>\n",
              "      <th>...</th>\n",
              "      <td>...</td>\n",
              "      <td>...</td>\n",
              "    </tr>\n",
              "    <tr>\n",
              "      <th>994</th>\n",
              "      <td>1</td>\n",
              "      <td>0</td>\n",
              "    </tr>\n",
              "    <tr>\n",
              "      <th>995</th>\n",
              "      <td>1</td>\n",
              "      <td>0</td>\n",
              "    </tr>\n",
              "    <tr>\n",
              "      <th>996</th>\n",
              "      <td>1</td>\n",
              "      <td>0</td>\n",
              "    </tr>\n",
              "    <tr>\n",
              "      <th>998</th>\n",
              "      <td>2</td>\n",
              "      <td>0</td>\n",
              "    </tr>\n",
              "    <tr>\n",
              "      <th>999</th>\n",
              "      <td>1</td>\n",
              "      <td>0</td>\n",
              "    </tr>\n",
              "  </tbody>\n",
              "</table>\n",
              "<p>958 rows × 2 columns</p>\n",
              "</div>"
            ],
            "text/plain": [
              "     ptSexCd  statsTrgtNm\n",
              "0          1            0\n",
              "1          1            0\n",
              "2          1            0\n",
              "3          2            0\n",
              "4          1            0\n",
              "..       ...          ...\n",
              "994        1            0\n",
              "995        1            0\n",
              "996        1            0\n",
              "998        2            0\n",
              "999        1            0\n",
              "\n",
              "[958 rows x 2 columns]"
            ]
          },
          "execution_count": 61,
          "metadata": {},
          "output_type": "execute_result"
        }
      ],
      "source": [
        "liver['ptSexCd'] = liver['ptSexCd'].map(do)\n",
        "liver['statsTrgtNm'] = liver['statsTrgtNm'].map(doo)\n",
        "liver"
      ]
    },
    {
      "cell_type": "code",
      "execution_count": null,
      "id": "039e01a3",
      "metadata": {
        "id": "039e01a3"
      },
      "outputs": [],
      "source": [
        "X = liver[['ptSexCd']]\n",
        "y = liver[['statsTrgtNm']]"
      ]
    },
    {
      "cell_type": "code",
      "execution_count": null,
      "id": "f785a25b",
      "metadata": {
        "id": "f785a25b"
      },
      "outputs": [],
      "source": [
        "from sklearn.model_selection import train_test_split\n",
        "X_train, X_test, y_train, y_test = train_test_split(X, y, test_size = 0.2, random_state = 42)"
      ]
    },
    {
      "cell_type": "code",
      "execution_count": null,
      "id": "4d41884a",
      "metadata": {
        "id": "4d41884a"
      },
      "outputs": [],
      "source": [
        "X_train_val, X_test_val, y_train_val, y_test_val = \\\n",
        "train_test_split(X_train, y_train, test_size = 0.2, random_state =42)"
      ]
    },
    {
      "cell_type": "code",
      "execution_count": null,
      "id": "2bdb865b",
      "metadata": {
        "id": "2bdb865b",
        "outputId": "51d4f5ba-5578-42d1-d5fd-56c35b7e81c8"
      },
      "outputs": [
        {
          "data": {
            "text/plain": [
              "LinearRegression()"
            ]
          },
          "execution_count": 65,
          "metadata": {},
          "output_type": "execute_result"
        }
      ],
      "source": [
        "from sklearn.linear_model import LinearRegression\n",
        "lr = LinearRegression()\n",
        "lr.fit(X_train_val, y_train_val)"
      ]
    },
    {
      "cell_type": "code",
      "execution_count": null,
      "id": "1f877e38",
      "metadata": {
        "id": "1f877e38"
      },
      "outputs": [],
      "source": [
        "from sklearn.preprocessing import MinMaxScaler\n",
        "from sklearn.preprocessing import StandardScaler\n",
        "scaled_minmax = MinMaxScaler()\n",
        "scaled_standard = StandardScaler()"
      ]
    },
    {
      "cell_type": "code",
      "execution_count": null,
      "id": "f8c177fe",
      "metadata": {
        "id": "f8c177fe"
      },
      "outputs": [],
      "source": [
        "scaled_minmax.fit(X_train_val)\n",
        "scaled_minmax_train = scaled_minmax.transform(X_train_val)"
      ]
    },
    {
      "cell_type": "code",
      "execution_count": null,
      "id": "806670ed",
      "metadata": {
        "id": "806670ed"
      },
      "outputs": [],
      "source": [
        "scaled_standard.fit(X_train_val)\n",
        "scaled_standard_train = scaled_standard.transform(X_train_val)"
      ]
    },
    {
      "cell_type": "code",
      "execution_count": null,
      "id": "c19d349b",
      "metadata": {
        "id": "c19d349b"
      },
      "outputs": [],
      "source": [
        "scaled_minmax_test = scaled_minmax.transform(X_test_val)\n",
        "scaled_standard_test = scaled_standard.transform(y_test_val)"
      ]
    },
    {
      "cell_type": "code",
      "execution_count": null,
      "id": "2efd6d93",
      "metadata": {
        "id": "2efd6d93",
        "outputId": "b0d063f4-591f-4b9b-fc61-dcecb3cead25"
      },
      "outputs": [
        {
          "data": {
            "text/plain": [
              "LinearRegression()"
            ]
          },
          "execution_count": 70,
          "metadata": {},
          "output_type": "execute_result"
        }
      ],
      "source": [
        "from sklearn.linear_model import LinearRegression\n",
        "lr = LinearRegression()\n",
        "lr.fit(scaled_minmax_train, y_train_val)"
      ]
    },
    {
      "cell_type": "code",
      "execution_count": null,
      "id": "31084c4c",
      "metadata": {
        "id": "31084c4c",
        "outputId": "b192ec10-22d0-44e6-b7a0-71d37335fa65"
      },
      "outputs": [
        {
          "data": {
            "text/plain": [
              "0.014010810026372833"
            ]
          },
          "execution_count": 71,
          "metadata": {},
          "output_type": "execute_result"
        }
      ],
      "source": [
        "lr.score(scaled_minmax_test, y_test_val)"
      ]
    },
    {
      "cell_type": "code",
      "execution_count": null,
      "id": "166918b4",
      "metadata": {
        "id": "166918b4"
      },
      "outputs": [],
      "source": [
        "#RMSE\n",
        "from sklearn.metrics import mean_squared_error\n",
        "a_pred = lr.predict(X_test_val)"
      ]
    },
    {
      "cell_type": "code",
      "execution_count": null,
      "id": "72ab50eb",
      "metadata": {
        "id": "72ab50eb",
        "outputId": "70777303-398c-4803-8eb9-a55a5f4655de"
      },
      "outputs": [
        {
          "data": {
            "text/plain": [
              "0.28871684782614293"
            ]
          },
          "execution_count": 73,
          "metadata": {},
          "output_type": "execute_result"
        }
      ],
      "source": [
        "a = mean_squared_error(y_test_val,a_pred)**0.5\n",
        "a"
      ]
    },
    {
      "cell_type": "code",
      "execution_count": null,
      "id": "a54f0c25",
      "metadata": {
        "id": "a54f0c25"
      },
      "outputs": [],
      "source": [
        "# OLS"
      ]
    },
    {
      "cell_type": "code",
      "execution_count": null,
      "id": "e2e38304",
      "metadata": {
        "id": "e2e38304"
      },
      "outputs": [],
      "source": [
        "import statsmodels.api as sm"
      ]
    },
    {
      "cell_type": "code",
      "execution_count": null,
      "id": "6cd59acf",
      "metadata": {
        "id": "6cd59acf",
        "outputId": "f7590597-a27e-4870-b714-212eb6658009"
      },
      "outputs": [
        {
          "data": {
            "text/html": [
              "<table class=\"simpletable\">\n",
              "<caption>OLS Regression Results</caption>\n",
              "<tr>\n",
              "  <th>Dep. Variable:</th>       <td>statsTrgtNm</td>   <th>  R-squared (uncentered):</th>      <td>   0.073</td>\n",
              "</tr>\n",
              "<tr>\n",
              "  <th>Model:</th>                   <td>OLS</td>       <th>  Adj. R-squared (uncentered):</th> <td>   0.072</td>\n",
              "</tr>\n",
              "<tr>\n",
              "  <th>Method:</th>             <td>Least Squares</td>  <th>  F-statistic:       </th>          <td>   75.35</td>\n",
              "</tr>\n",
              "<tr>\n",
              "  <th>Date:</th>             <td>Wed, 15 Dec 2021</td> <th>  Prob (F-statistic):</th>          <td>1.68e-17</td>\n",
              "</tr>\n",
              "<tr>\n",
              "  <th>Time:</th>                 <td>14:42:46</td>     <th>  Log-Likelihood:    </th>          <td> -211.02</td>\n",
              "</tr>\n",
              "<tr>\n",
              "  <th>No. Observations:</th>      <td>   958</td>      <th>  AIC:               </th>          <td>   424.0</td>\n",
              "</tr>\n",
              "<tr>\n",
              "  <th>Df Residuals:</th>          <td>   957</td>      <th>  BIC:               </th>          <td>   428.9</td>\n",
              "</tr>\n",
              "<tr>\n",
              "  <th>Df Model:</th>              <td>     1</td>      <th>                     </th>              <td> </td>   \n",
              "</tr>\n",
              "<tr>\n",
              "  <th>Covariance Type:</th>      <td>nonrobust</td>    <th>                     </th>              <td> </td>   \n",
              "</tr>\n",
              "</table>\n",
              "<table class=\"simpletable\">\n",
              "<tr>\n",
              "     <td></td>        <th>coef</th>     <th>std err</th>      <th>t</th>      <th>P>|t|</th>  <th>[0.025</th>    <th>0.975]</th>  \n",
              "</tr>\n",
              "<tr>\n",
              "  <th>ptSexCd</th> <td>    0.0545</td> <td>    0.006</td> <td>    8.680</td> <td> 0.000</td> <td>    0.042</td> <td>    0.067</td>\n",
              "</tr>\n",
              "</table>\n",
              "<table class=\"simpletable\">\n",
              "<tr>\n",
              "  <th>Omnibus:</th>       <td>511.186</td> <th>  Durbin-Watson:     </th> <td>   1.852</td>\n",
              "</tr>\n",
              "<tr>\n",
              "  <th>Prob(Omnibus):</th> <td> 0.000</td>  <th>  Jarque-Bera (JB):  </th> <td>2220.495</td>\n",
              "</tr>\n",
              "<tr>\n",
              "  <th>Skew:</th>          <td> 2.668</td>  <th>  Prob(JB):          </th> <td>    0.00</td>\n",
              "</tr>\n",
              "<tr>\n",
              "  <th>Kurtosis:</th>      <td> 8.210</td>  <th>  Cond. No.          </th> <td>    1.00</td>\n",
              "</tr>\n",
              "</table><br/><br/>Notes:<br/>[1] R² is computed without centering (uncentered) since the model does not contain a constant.<br/>[2] Standard Errors assume that the covariance matrix of the errors is correctly specified."
            ],
            "text/plain": [
              "<class 'statsmodels.iolib.summary.Summary'>\n",
              "\"\"\"\n",
              "                                 OLS Regression Results                                \n",
              "=======================================================================================\n",
              "Dep. Variable:            statsTrgtNm   R-squared (uncentered):                   0.073\n",
              "Model:                            OLS   Adj. R-squared (uncentered):              0.072\n",
              "Method:                 Least Squares   F-statistic:                              75.35\n",
              "Date:                Wed, 15 Dec 2021   Prob (F-statistic):                    1.68e-17\n",
              "Time:                        14:42:46   Log-Likelihood:                         -211.02\n",
              "No. Observations:                 958   AIC:                                      424.0\n",
              "Df Residuals:                     957   BIC:                                      428.9\n",
              "Df Model:                           1                                                  \n",
              "Covariance Type:            nonrobust                                                  \n",
              "==============================================================================\n",
              "                 coef    std err          t      P>|t|      [0.025      0.975]\n",
              "------------------------------------------------------------------------------\n",
              "ptSexCd        0.0545      0.006      8.680      0.000       0.042       0.067\n",
              "==============================================================================\n",
              "Omnibus:                      511.186   Durbin-Watson:                   1.852\n",
              "Prob(Omnibus):                  0.000   Jarque-Bera (JB):             2220.495\n",
              "Skew:                           2.668   Prob(JB):                         0.00\n",
              "Kurtosis:                       8.210   Cond. No.                         1.00\n",
              "==============================================================================\n",
              "\n",
              "Notes:\n",
              "[1] R² is computed without centering (uncentered) since the model does not contain a constant.\n",
              "[2] Standard Errors assume that the covariance matrix of the errors is correctly specified.\n",
              "\"\"\""
            ]
          },
          "execution_count": 76,
          "metadata": {},
          "output_type": "execute_result"
        }
      ],
      "source": [
        "model = sm.OLS(y, X)\n",
        "result = model.fit()\n",
        "result.summary()"
      ]
    },
    {
      "cell_type": "code",
      "execution_count": null,
      "id": "b9387b13",
      "metadata": {
        "id": "b9387b13"
      },
      "outputs": [],
      "source": [
        ""
      ]
    },
    {
      "cell_type": "code",
      "execution_count": null,
      "id": "90aeb68f",
      "metadata": {
        "id": "90aeb68f"
      },
      "outputs": [],
      "source": [
        ""
      ]
    },
    {
      "cell_type": "markdown",
      "id": "78f9ed5b",
      "metadata": {
        "id": "78f9ed5b"
      },
      "source": [
        "# 결핵"
      ]
    },
    {
      "cell_type": "code",
      "execution_count": null,
      "id": "d5a3b243",
      "metadata": {
        "id": "d5a3b243",
        "outputId": "dd4c5b09-a2ac-4250-e9bd-9c51500b1b34"
      },
      "outputs": [
        {
          "data": {
            "text/html": [
              "<div>\n",
              "<style scoped>\n",
              "    .dataframe tbody tr th:only-of-type {\n",
              "        vertical-align: middle;\n",
              "    }\n",
              "\n",
              "    .dataframe tbody tr th {\n",
              "        vertical-align: top;\n",
              "    }\n",
              "\n",
              "    .dataframe thead th {\n",
              "        text-align: right;\n",
              "    }\n",
              "</style>\n",
              "<table border=\"1\" class=\"dataframe\">\n",
              "  <thead>\n",
              "    <tr style=\"text-align: right;\">\n",
              "      <th></th>\n",
              "      <th>centerNm</th>\n",
              "      <th>critYr</th>\n",
              "      <th>ptAge</th>\n",
              "      <th>ptSexCd</th>\n",
              "      <th>statsTrgtNm</th>\n",
              "      <th>ncsNmvl</th>\n",
              "      <th>wholNcsDnmvl</th>\n",
              "      <th>ptCntNmvl</th>\n",
              "      <th>wholPtCntDnmvl</th>\n",
              "    </tr>\n",
              "  </thead>\n",
              "  <tbody>\n",
              "    <tr>\n",
              "      <th>0</th>\n",
              "      <td>국립암센터</td>\n",
              "      <td>2010</td>\n",
              "      <td>69</td>\n",
              "      <td>M</td>\n",
              "      <td>Y</td>\n",
              "      <td>3</td>\n",
              "      <td>16</td>\n",
              "      <td>3</td>\n",
              "      <td>15</td>\n",
              "    </tr>\n",
              "    <tr>\n",
              "      <th>1</th>\n",
              "      <td>국립암센터</td>\n",
              "      <td>2019</td>\n",
              "      <td>76</td>\n",
              "      <td>F</td>\n",
              "      <td>N</td>\n",
              "      <td>2</td>\n",
              "      <td>3</td>\n",
              "      <td>2</td>\n",
              "      <td>3</td>\n",
              "    </tr>\n",
              "    <tr>\n",
              "      <th>2</th>\n",
              "      <td>국립암센터</td>\n",
              "      <td>2011</td>\n",
              "      <td>63</td>\n",
              "      <td>M</td>\n",
              "      <td>Y</td>\n",
              "      <td>5</td>\n",
              "      <td>24</td>\n",
              "      <td>5</td>\n",
              "      <td>23</td>\n",
              "    </tr>\n",
              "    <tr>\n",
              "      <th>3</th>\n",
              "      <td>국립암센터</td>\n",
              "      <td>2017</td>\n",
              "      <td>78</td>\n",
              "      <td>F</td>\n",
              "      <td>N</td>\n",
              "      <td>6</td>\n",
              "      <td>8</td>\n",
              "      <td>4</td>\n",
              "      <td>5</td>\n",
              "    </tr>\n",
              "    <tr>\n",
              "      <th>4</th>\n",
              "      <td>국립암센터</td>\n",
              "      <td>2017</td>\n",
              "      <td>78</td>\n",
              "      <td>F</td>\n",
              "      <td>Y</td>\n",
              "      <td>2</td>\n",
              "      <td>8</td>\n",
              "      <td>1</td>\n",
              "      <td>5</td>\n",
              "    </tr>\n",
              "    <tr>\n",
              "      <th>...</th>\n",
              "      <td>...</td>\n",
              "      <td>...</td>\n",
              "      <td>...</td>\n",
              "      <td>...</td>\n",
              "      <td>...</td>\n",
              "      <td>...</td>\n",
              "      <td>...</td>\n",
              "      <td>...</td>\n",
              "      <td>...</td>\n",
              "    </tr>\n",
              "    <tr>\n",
              "      <th>995</th>\n",
              "      <td>국립암센터</td>\n",
              "      <td>2012</td>\n",
              "      <td>58</td>\n",
              "      <td>M</td>\n",
              "      <td>N</td>\n",
              "      <td>9</td>\n",
              "      <td>9</td>\n",
              "      <td>9</td>\n",
              "      <td>10</td>\n",
              "    </tr>\n",
              "    <tr>\n",
              "      <th>996</th>\n",
              "      <td>국립암센터</td>\n",
              "      <td>2015</td>\n",
              "      <td>80</td>\n",
              "      <td>F</td>\n",
              "      <td>N</td>\n",
              "      <td>1</td>\n",
              "      <td>1</td>\n",
              "      <td>1</td>\n",
              "      <td>1</td>\n",
              "    </tr>\n",
              "    <tr>\n",
              "      <th>997</th>\n",
              "      <td>국립암센터</td>\n",
              "      <td>2012</td>\n",
              "      <td>52</td>\n",
              "      <td>M</td>\n",
              "      <td>N</td>\n",
              "      <td>6</td>\n",
              "      <td>7</td>\n",
              "      <td>5</td>\n",
              "      <td>6</td>\n",
              "    </tr>\n",
              "    <tr>\n",
              "      <th>998</th>\n",
              "      <td>국립암센터</td>\n",
              "      <td>2010</td>\n",
              "      <td>70</td>\n",
              "      <td>M</td>\n",
              "      <td>NaN</td>\n",
              "      <td>0</td>\n",
              "      <td>11</td>\n",
              "      <td>1</td>\n",
              "      <td>12</td>\n",
              "    </tr>\n",
              "    <tr>\n",
              "      <th>999</th>\n",
              "      <td>국립암센터</td>\n",
              "      <td>2012</td>\n",
              "      <td>42</td>\n",
              "      <td>M</td>\n",
              "      <td>N</td>\n",
              "      <td>1</td>\n",
              "      <td>1</td>\n",
              "      <td>1</td>\n",
              "      <td>1</td>\n",
              "    </tr>\n",
              "  </tbody>\n",
              "</table>\n",
              "<p>1000 rows × 9 columns</p>\n",
              "</div>"
            ],
            "text/plain": [
              "    centerNm  critYr  ptAge ptSexCd statsTrgtNm  ncsNmvl  wholNcsDnmvl  \\\n",
              "0      국립암센터    2010     69       M           Y        3            16   \n",
              "1      국립암센터    2019     76       F           N        2             3   \n",
              "2      국립암센터    2011     63       M           Y        5            24   \n",
              "3      국립암센터    2017     78       F           N        6             8   \n",
              "4      국립암센터    2017     78       F           Y        2             8   \n",
              "..       ...     ...    ...     ...         ...      ...           ...   \n",
              "995    국립암센터    2012     58       M           N        9             9   \n",
              "996    국립암센터    2015     80       F           N        1             1   \n",
              "997    국립암센터    2012     52       M           N        6             7   \n",
              "998    국립암센터    2010     70       M         NaN        0            11   \n",
              "999    국립암센터    2012     42       M           N        1             1   \n",
              "\n",
              "     ptCntNmvl  wholPtCntDnmvl  \n",
              "0            3              15  \n",
              "1            2               3  \n",
              "2            5              23  \n",
              "3            4               5  \n",
              "4            1               5  \n",
              "..         ...             ...  \n",
              "995          9              10  \n",
              "996          1               1  \n",
              "997          5               6  \n",
              "998          1              12  \n",
              "999          1               1  \n",
              "\n",
              "[1000 rows x 9 columns]"
            ]
          },
          "execution_count": 77,
          "metadata": {},
          "output_type": "execute_result"
        }
      ],
      "source": [
        "tuberculosis=pd.read_csv(\"폐암 합병증/lung_tuberculosis.csv\")\n",
        "tuberculosis"
      ]
    },
    {
      "cell_type": "code",
      "execution_count": null,
      "id": "3f88b26d",
      "metadata": {
        "id": "3f88b26d",
        "outputId": "084855a2-837a-4d9f-a71e-46e42bfa08c0"
      },
      "outputs": [
        {
          "data": {
            "text/html": [
              "<div>\n",
              "<style scoped>\n",
              "    .dataframe tbody tr th:only-of-type {\n",
              "        vertical-align: middle;\n",
              "    }\n",
              "\n",
              "    .dataframe tbody tr th {\n",
              "        vertical-align: top;\n",
              "    }\n",
              "\n",
              "    .dataframe thead th {\n",
              "        text-align: right;\n",
              "    }\n",
              "</style>\n",
              "<table border=\"1\" class=\"dataframe\">\n",
              "  <thead>\n",
              "    <tr style=\"text-align: right;\">\n",
              "      <th></th>\n",
              "      <th>ptSexCd</th>\n",
              "      <th>statsTrgtNm</th>\n",
              "    </tr>\n",
              "  </thead>\n",
              "  <tbody>\n",
              "    <tr>\n",
              "      <th>0</th>\n",
              "      <td>M</td>\n",
              "      <td>Y</td>\n",
              "    </tr>\n",
              "    <tr>\n",
              "      <th>1</th>\n",
              "      <td>F</td>\n",
              "      <td>N</td>\n",
              "    </tr>\n",
              "    <tr>\n",
              "      <th>2</th>\n",
              "      <td>M</td>\n",
              "      <td>Y</td>\n",
              "    </tr>\n",
              "    <tr>\n",
              "      <th>3</th>\n",
              "      <td>F</td>\n",
              "      <td>N</td>\n",
              "    </tr>\n",
              "    <tr>\n",
              "      <th>4</th>\n",
              "      <td>F</td>\n",
              "      <td>Y</td>\n",
              "    </tr>\n",
              "    <tr>\n",
              "      <th>...</th>\n",
              "      <td>...</td>\n",
              "      <td>...</td>\n",
              "    </tr>\n",
              "    <tr>\n",
              "      <th>995</th>\n",
              "      <td>M</td>\n",
              "      <td>N</td>\n",
              "    </tr>\n",
              "    <tr>\n",
              "      <th>996</th>\n",
              "      <td>F</td>\n",
              "      <td>N</td>\n",
              "    </tr>\n",
              "    <tr>\n",
              "      <th>997</th>\n",
              "      <td>M</td>\n",
              "      <td>N</td>\n",
              "    </tr>\n",
              "    <tr>\n",
              "      <th>998</th>\n",
              "      <td>M</td>\n",
              "      <td>NaN</td>\n",
              "    </tr>\n",
              "    <tr>\n",
              "      <th>999</th>\n",
              "      <td>M</td>\n",
              "      <td>N</td>\n",
              "    </tr>\n",
              "  </tbody>\n",
              "</table>\n",
              "<p>1000 rows × 2 columns</p>\n",
              "</div>"
            ],
            "text/plain": [
              "    ptSexCd statsTrgtNm\n",
              "0         M           Y\n",
              "1         F           N\n",
              "2         M           Y\n",
              "3         F           N\n",
              "4         F           Y\n",
              "..      ...         ...\n",
              "995       M           N\n",
              "996       F           N\n",
              "997       M           N\n",
              "998       M         NaN\n",
              "999       M           N\n",
              "\n",
              "[1000 rows x 2 columns]"
            ]
          },
          "execution_count": 78,
          "metadata": {},
          "output_type": "execute_result"
        }
      ],
      "source": [
        "tub=tuberculosis[['ptSexCd','statsTrgtNm']]\n",
        "tub"
      ]
    },
    {
      "cell_type": "code",
      "execution_count": null,
      "id": "4f519448",
      "metadata": {
        "id": "4f519448",
        "outputId": "a0cfcc1c-23c9-4be3-e91f-778a010be644"
      },
      "outputs": [
        {
          "data": {
            "text/html": [
              "<div>\n",
              "<style scoped>\n",
              "    .dataframe tbody tr th:only-of-type {\n",
              "        vertical-align: middle;\n",
              "    }\n",
              "\n",
              "    .dataframe tbody tr th {\n",
              "        vertical-align: top;\n",
              "    }\n",
              "\n",
              "    .dataframe thead th {\n",
              "        text-align: right;\n",
              "    }\n",
              "</style>\n",
              "<table border=\"1\" class=\"dataframe\">\n",
              "  <thead>\n",
              "    <tr style=\"text-align: right;\">\n",
              "      <th></th>\n",
              "      <th>ptSexCd</th>\n",
              "      <th>statsTrgtNm</th>\n",
              "    </tr>\n",
              "  </thead>\n",
              "  <tbody>\n",
              "    <tr>\n",
              "      <th>0</th>\n",
              "      <td>M</td>\n",
              "      <td>Y</td>\n",
              "    </tr>\n",
              "    <tr>\n",
              "      <th>1</th>\n",
              "      <td>F</td>\n",
              "      <td>N</td>\n",
              "    </tr>\n",
              "    <tr>\n",
              "      <th>2</th>\n",
              "      <td>M</td>\n",
              "      <td>Y</td>\n",
              "    </tr>\n",
              "    <tr>\n",
              "      <th>3</th>\n",
              "      <td>F</td>\n",
              "      <td>N</td>\n",
              "    </tr>\n",
              "    <tr>\n",
              "      <th>4</th>\n",
              "      <td>F</td>\n",
              "      <td>Y</td>\n",
              "    </tr>\n",
              "    <tr>\n",
              "      <th>...</th>\n",
              "      <td>...</td>\n",
              "      <td>...</td>\n",
              "    </tr>\n",
              "    <tr>\n",
              "      <th>994</th>\n",
              "      <td>M</td>\n",
              "      <td>N</td>\n",
              "    </tr>\n",
              "    <tr>\n",
              "      <th>995</th>\n",
              "      <td>M</td>\n",
              "      <td>N</td>\n",
              "    </tr>\n",
              "    <tr>\n",
              "      <th>996</th>\n",
              "      <td>F</td>\n",
              "      <td>N</td>\n",
              "    </tr>\n",
              "    <tr>\n",
              "      <th>997</th>\n",
              "      <td>M</td>\n",
              "      <td>N</td>\n",
              "    </tr>\n",
              "    <tr>\n",
              "      <th>999</th>\n",
              "      <td>M</td>\n",
              "      <td>N</td>\n",
              "    </tr>\n",
              "  </tbody>\n",
              "</table>\n",
              "<p>967 rows × 2 columns</p>\n",
              "</div>"
            ],
            "text/plain": [
              "    ptSexCd statsTrgtNm\n",
              "0         M           Y\n",
              "1         F           N\n",
              "2         M           Y\n",
              "3         F           N\n",
              "4         F           Y\n",
              "..      ...         ...\n",
              "994       M           N\n",
              "995       M           N\n",
              "996       F           N\n",
              "997       M           N\n",
              "999       M           N\n",
              "\n",
              "[967 rows x 2 columns]"
            ]
          },
          "execution_count": 79,
          "metadata": {},
          "output_type": "execute_result"
        }
      ],
      "source": [
        "tub = tub.dropna()\n",
        "tub"
      ]
    },
    {
      "cell_type": "code",
      "execution_count": null,
      "id": "ad9d6fda",
      "metadata": {
        "id": "ad9d6fda",
        "outputId": "ba23ad3a-2635-4819-e98c-217928308374"
      },
      "outputs": [
        {
          "name": "stderr",
          "output_type": "stream",
          "text": [
            "C:\\Users\\martu\\AppData\\Local\\Temp/ipykernel_113840/2457854184.py:1: SettingWithCopyWarning: \n",
            "A value is trying to be set on a copy of a slice from a DataFrame.\n",
            "Try using .loc[row_indexer,col_indexer] = value instead\n",
            "\n",
            "See the caveats in the documentation: https://pandas.pydata.org/pandas-docs/stable/user_guide/indexing.html#returning-a-view-versus-a-copy\n",
            "  tub['ptSexCd'] = tub['ptSexCd'].map(do)\n",
            "C:\\Users\\martu\\AppData\\Local\\Temp/ipykernel_113840/2457854184.py:2: SettingWithCopyWarning: \n",
            "A value is trying to be set on a copy of a slice from a DataFrame.\n",
            "Try using .loc[row_indexer,col_indexer] = value instead\n",
            "\n",
            "See the caveats in the documentation: https://pandas.pydata.org/pandas-docs/stable/user_guide/indexing.html#returning-a-view-versus-a-copy\n",
            "  tub['statsTrgtNm'] = tub['statsTrgtNm'].map(doo)\n"
          ]
        }
      ],
      "source": [
        "tub['ptSexCd'] = tub['ptSexCd'].map(do)\n",
        "tub['statsTrgtNm'] = tub['statsTrgtNm'].map(doo)\n"
      ]
    },
    {
      "cell_type": "code",
      "execution_count": null,
      "id": "4bbec0a2",
      "metadata": {
        "id": "4bbec0a2"
      },
      "outputs": [],
      "source": [
        "X =tub[['ptSexCd']]\n",
        "y = tub[['statsTrgtNm']]"
      ]
    },
    {
      "cell_type": "code",
      "execution_count": null,
      "id": "9f77a769",
      "metadata": {
        "id": "9f77a769"
      },
      "outputs": [],
      "source": [
        "from sklearn.model_selection import train_test_split\n",
        "X_train, X_test, y_train, y_test = train_test_split(X, y, test_size = 0.2, random_state = 42)"
      ]
    },
    {
      "cell_type": "code",
      "execution_count": null,
      "id": "b20593e1",
      "metadata": {
        "id": "b20593e1"
      },
      "outputs": [],
      "source": [
        "X_train_val, X_test_val, y_train_val, y_test_val = \\\n",
        "train_test_split(X_train, y_train, test_size = 0.2, random_state =42)"
      ]
    },
    {
      "cell_type": "code",
      "execution_count": null,
      "id": "e4832f36",
      "metadata": {
        "id": "e4832f36",
        "outputId": "ed85a7ae-5600-450f-b37a-da83d8d1ee84"
      },
      "outputs": [
        {
          "data": {
            "text/plain": [
              "LinearRegression()"
            ]
          },
          "execution_count": 84,
          "metadata": {},
          "output_type": "execute_result"
        }
      ],
      "source": [
        "from sklearn.linear_model import LinearRegression\n",
        "lr = LinearRegression()\n",
        "lr.fit(X_train_val, y_train_val)"
      ]
    },
    {
      "cell_type": "code",
      "execution_count": null,
      "id": "3e728270",
      "metadata": {
        "id": "3e728270"
      },
      "outputs": [],
      "source": [
        "from sklearn.preprocessing import MinMaxScaler\n",
        "from sklearn.preprocessing import StandardScaler\n",
        "scaled_minmax = MinMaxScaler()\n",
        "scaled_standard = StandardScaler()"
      ]
    },
    {
      "cell_type": "code",
      "execution_count": null,
      "id": "e9bba5a3",
      "metadata": {
        "id": "e9bba5a3"
      },
      "outputs": [],
      "source": [
        "scaled_minmax.fit(X_train_val)\n",
        "scaled_minmax_train = scaled_minmax.transform(X_train_val)"
      ]
    },
    {
      "cell_type": "code",
      "execution_count": null,
      "id": "f7187f65",
      "metadata": {
        "id": "f7187f65"
      },
      "outputs": [],
      "source": [
        "scaled_standard.fit(X_train_val)\n",
        "scaled_standard_train = scaled_standard.transform(X_train_val)"
      ]
    },
    {
      "cell_type": "code",
      "execution_count": null,
      "id": "a2dd5b64",
      "metadata": {
        "id": "a2dd5b64"
      },
      "outputs": [],
      "source": [
        "scaled_minmax_test = scaled_minmax.transform(X_test_val)\n",
        "scaled_standard_test = scaled_standard.transform(y_test_val)"
      ]
    },
    {
      "cell_type": "code",
      "execution_count": null,
      "id": "0c6ee091",
      "metadata": {
        "id": "0c6ee091",
        "outputId": "fdd9a274-9f82-43ec-ed68-b21bac8d11a2"
      },
      "outputs": [
        {
          "data": {
            "text/plain": [
              "LinearRegression()"
            ]
          },
          "execution_count": 89,
          "metadata": {},
          "output_type": "execute_result"
        }
      ],
      "source": [
        "from sklearn.linear_model import LinearRegression\n",
        "lr = LinearRegression()\n",
        "lr.fit(scaled_minmax_train, y_train_val)"
      ]
    },
    {
      "cell_type": "code",
      "execution_count": null,
      "id": "a2a05932",
      "metadata": {
        "id": "a2a05932",
        "outputId": "95a800a0-f4cc-4438-d990-5439532b06ca"
      },
      "outputs": [
        {
          "data": {
            "text/plain": [
              "-0.00045697611851602815"
            ]
          },
          "execution_count": 90,
          "metadata": {},
          "output_type": "execute_result"
        }
      ],
      "source": [
        "lr.score(scaled_minmax_test, y_test_val)"
      ]
    },
    {
      "cell_type": "code",
      "execution_count": null,
      "id": "87012f99",
      "metadata": {
        "id": "87012f99"
      },
      "outputs": [],
      "source": [
        "#RMSE\n",
        "from sklearn.metrics import mean_squared_error\n",
        "a_pred = lr.predict(X_test_val)"
      ]
    },
    {
      "cell_type": "code",
      "execution_count": null,
      "id": "d79a6f51",
      "metadata": {
        "id": "d79a6f51"
      },
      "outputs": [],
      "source": [
        "a = mean_squared_error(y_test_val,a_pred)**0.5"
      ]
    },
    {
      "cell_type": "code",
      "execution_count": null,
      "id": "8c561bac",
      "metadata": {
        "id": "8c561bac",
        "outputId": "03932f94-815d-4da1-e523-93cbd2bd5a47"
      },
      "outputs": [
        {
          "data": {
            "text/plain": [
              "0.4328632775631218"
            ]
          },
          "execution_count": 93,
          "metadata": {},
          "output_type": "execute_result"
        }
      ],
      "source": [
        "a"
      ]
    },
    {
      "cell_type": "code",
      "execution_count": null,
      "id": "abdee4a9",
      "metadata": {
        "id": "abdee4a9"
      },
      "outputs": [],
      "source": [
        "# OLS"
      ]
    },
    {
      "cell_type": "code",
      "execution_count": null,
      "id": "619ebb14",
      "metadata": {
        "id": "619ebb14"
      },
      "outputs": [],
      "source": [
        "import statsmodels.api as sm"
      ]
    },
    {
      "cell_type": "code",
      "execution_count": null,
      "id": "62cdfe02",
      "metadata": {
        "id": "62cdfe02",
        "outputId": "6148adc8-835d-46c0-bcdb-2d6a95edaad5"
      },
      "outputs": [
        {
          "data": {
            "text/html": [
              "<table class=\"simpletable\">\n",
              "<caption>OLS Regression Results</caption>\n",
              "<tr>\n",
              "  <th>Dep. Variable:</th>       <td>statsTrgtNm</td>   <th>  R-squared (uncentered):</th>      <td>   0.191</td>\n",
              "</tr>\n",
              "<tr>\n",
              "  <th>Model:</th>                   <td>OLS</td>       <th>  Adj. R-squared (uncentered):</th> <td>   0.191</td>\n",
              "</tr>\n",
              "<tr>\n",
              "  <th>Method:</th>             <td>Least Squares</td>  <th>  F-statistic:       </th>          <td>   228.7</td>\n",
              "</tr>\n",
              "<tr>\n",
              "  <th>Date:</th>             <td>Wed, 15 Dec 2021</td> <th>  Prob (F-statistic):</th>          <td>1.54e-46</td>\n",
              "</tr>\n",
              "<tr>\n",
              "  <th>Time:</th>                 <td>14:43:25</td>     <th>  Log-Likelihood:    </th>          <td> -621.08</td>\n",
              "</tr>\n",
              "<tr>\n",
              "  <th>No. Observations:</th>      <td>   967</td>      <th>  AIC:               </th>          <td>   1244.</td>\n",
              "</tr>\n",
              "<tr>\n",
              "  <th>Df Residuals:</th>          <td>   966</td>      <th>  BIC:               </th>          <td>   1249.</td>\n",
              "</tr>\n",
              "<tr>\n",
              "  <th>Df Model:</th>              <td>     1</td>      <th>                     </th>              <td> </td>   \n",
              "</tr>\n",
              "<tr>\n",
              "  <th>Covariance Type:</th>      <td>nonrobust</td>    <th>                     </th>              <td> </td>   \n",
              "</tr>\n",
              "</table>\n",
              "<table class=\"simpletable\">\n",
              "<tr>\n",
              "     <td></td>        <th>coef</th>     <th>std err</th>      <th>t</th>      <th>P>|t|</th>  <th>[0.025</th>    <th>0.975]</th>  \n",
              "</tr>\n",
              "<tr>\n",
              "  <th>ptSexCd</th> <td>    0.1477</td> <td>    0.010</td> <td>   15.124</td> <td> 0.000</td> <td>    0.129</td> <td>    0.167</td>\n",
              "</tr>\n",
              "</table>\n",
              "<table class=\"simpletable\">\n",
              "<tr>\n",
              "  <th>Omnibus:</th>       <td>201.951</td> <th>  Durbin-Watson:     </th> <td>   1.900</td>\n",
              "</tr>\n",
              "<tr>\n",
              "  <th>Prob(Omnibus):</th> <td> 0.000</td>  <th>  Jarque-Bera (JB):  </th> <td> 199.394</td>\n",
              "</tr>\n",
              "<tr>\n",
              "  <th>Skew:</th>          <td> 1.038</td>  <th>  Prob(JB):          </th> <td>5.04e-44</td>\n",
              "</tr>\n",
              "<tr>\n",
              "  <th>Kurtosis:</th>      <td> 2.200</td>  <th>  Cond. No.          </th> <td>    1.00</td>\n",
              "</tr>\n",
              "</table><br/><br/>Notes:<br/>[1] R² is computed without centering (uncentered) since the model does not contain a constant.<br/>[2] Standard Errors assume that the covariance matrix of the errors is correctly specified."
            ],
            "text/plain": [
              "<class 'statsmodels.iolib.summary.Summary'>\n",
              "\"\"\"\n",
              "                                 OLS Regression Results                                \n",
              "=======================================================================================\n",
              "Dep. Variable:            statsTrgtNm   R-squared (uncentered):                   0.191\n",
              "Model:                            OLS   Adj. R-squared (uncentered):              0.191\n",
              "Method:                 Least Squares   F-statistic:                              228.7\n",
              "Date:                Wed, 15 Dec 2021   Prob (F-statistic):                    1.54e-46\n",
              "Time:                        14:43:25   Log-Likelihood:                         -621.08\n",
              "No. Observations:                 967   AIC:                                      1244.\n",
              "Df Residuals:                     966   BIC:                                      1249.\n",
              "Df Model:                           1                                                  \n",
              "Covariance Type:            nonrobust                                                  \n",
              "==============================================================================\n",
              "                 coef    std err          t      P>|t|      [0.025      0.975]\n",
              "------------------------------------------------------------------------------\n",
              "ptSexCd        0.1477      0.010     15.124      0.000       0.129       0.167\n",
              "==============================================================================\n",
              "Omnibus:                      201.951   Durbin-Watson:                   1.900\n",
              "Prob(Omnibus):                  0.000   Jarque-Bera (JB):              199.394\n",
              "Skew:                           1.038   Prob(JB):                     5.04e-44\n",
              "Kurtosis:                       2.200   Cond. No.                         1.00\n",
              "==============================================================================\n",
              "\n",
              "Notes:\n",
              "[1] R² is computed without centering (uncentered) since the model does not contain a constant.\n",
              "[2] Standard Errors assume that the covariance matrix of the errors is correctly specified.\n",
              "\"\"\""
            ]
          },
          "execution_count": 96,
          "metadata": {},
          "output_type": "execute_result"
        }
      ],
      "source": [
        "model = sm.OLS(y, X)\n",
        "result = model.fit()\n",
        "result.summary()"
      ]
    }
  ],
  "metadata": {
    "kernelspec": {
      "display_name": "Python 3 (ipykernel)",
      "language": "python",
      "name": "python3"
    },
    "language_info": {
      "codemirror_mode": {
        "name": "ipython",
        "version": 3
      },
      "file_extension": ".py",
      "mimetype": "text/x-python",
      "name": "python",
      "nbconvert_exporter": "python",
      "pygments_lexer": "ipython3",
      "version": "3.9.7"
    },
    "colab": {
      "name": "03-1_페암_합병증_OLS.ipynb",
      "provenance": []
    }
  },
  "nbformat": 4,
  "nbformat_minor": 5
}