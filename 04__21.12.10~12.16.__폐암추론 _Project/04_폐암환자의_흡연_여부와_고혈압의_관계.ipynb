{
  "cells": [
    {
      "cell_type": "markdown",
      "id": "b59a1702",
      "metadata": {
        "id": "b59a1702"
      },
      "source": [
        "# dataset 개수는 고혈압 기준에 맞춰 967개로 설정"
      ]
    },
    {
      "cell_type": "code",
      "execution_count": null,
      "id": "9221350c",
      "metadata": {
        "id": "9221350c"
      },
      "outputs": [],
      "source": [
        "import pandas as pd\n",
        "import numpy as np"
      ]
    },
    {
      "cell_type": "code",
      "execution_count": null,
      "id": "e1df0f66",
      "metadata": {
        "id": "e1df0f66",
        "outputId": "c699898b-348a-47ac-debd-1bb3cb8243a4"
      },
      "outputs": [
        {
          "data": {
            "text/html": [
              "<div>\n",
              "<style scoped>\n",
              "    .dataframe tbody tr th:only-of-type {\n",
              "        vertical-align: middle;\n",
              "    }\n",
              "\n",
              "    .dataframe tbody tr th {\n",
              "        vertical-align: top;\n",
              "    }\n",
              "\n",
              "    .dataframe thead th {\n",
              "        text-align: right;\n",
              "    }\n",
              "</style>\n",
              "<table border=\"1\" class=\"dataframe\">\n",
              "  <thead>\n",
              "    <tr style=\"text-align: right;\">\n",
              "      <th></th>\n",
              "      <th>centerNm</th>\n",
              "      <th>critYr</th>\n",
              "      <th>ptAge</th>\n",
              "      <th>ptSexCd</th>\n",
              "      <th>statsTrgtNm</th>\n",
              "      <th>ncsNmvl</th>\n",
              "      <th>wholNcsDnmvl</th>\n",
              "      <th>ptCntNmvl</th>\n",
              "      <th>wholPtCntDnmvl</th>\n",
              "    </tr>\n",
              "  </thead>\n",
              "  <tbody>\n",
              "    <tr>\n",
              "      <th>0</th>\n",
              "      <td>국립암센터</td>\n",
              "      <td>2019</td>\n",
              "      <td>76</td>\n",
              "      <td>M</td>\n",
              "      <td>Y</td>\n",
              "      <td>12</td>\n",
              "      <td>21</td>\n",
              "      <td>10</td>\n",
              "      <td>18</td>\n",
              "    </tr>\n",
              "    <tr>\n",
              "      <th>1</th>\n",
              "      <td>국립암센터</td>\n",
              "      <td>2014</td>\n",
              "      <td>47</td>\n",
              "      <td>F</td>\n",
              "      <td>N</td>\n",
              "      <td>4</td>\n",
              "      <td>4</td>\n",
              "      <td>4</td>\n",
              "      <td>4</td>\n",
              "    </tr>\n",
              "    <tr>\n",
              "      <th>2</th>\n",
              "      <td>국립암센터</td>\n",
              "      <td>2012</td>\n",
              "      <td>67</td>\n",
              "      <td>M</td>\n",
              "      <td>N</td>\n",
              "      <td>16</td>\n",
              "      <td>29</td>\n",
              "      <td>14</td>\n",
              "      <td>25</td>\n",
              "    </tr>\n",
              "    <tr>\n",
              "      <th>3</th>\n",
              "      <td>국립암센터</td>\n",
              "      <td>2013</td>\n",
              "      <td>59</td>\n",
              "      <td>M</td>\n",
              "      <td>N</td>\n",
              "      <td>9</td>\n",
              "      <td>13</td>\n",
              "      <td>7</td>\n",
              "      <td>10</td>\n",
              "    </tr>\n",
              "    <tr>\n",
              "      <th>4</th>\n",
              "      <td>국립암센터</td>\n",
              "      <td>2015</td>\n",
              "      <td>76</td>\n",
              "      <td>M</td>\n",
              "      <td>N</td>\n",
              "      <td>7</td>\n",
              "      <td>14</td>\n",
              "      <td>7</td>\n",
              "      <td>12</td>\n",
              "    </tr>\n",
              "    <tr>\n",
              "      <th>...</th>\n",
              "      <td>...</td>\n",
              "      <td>...</td>\n",
              "      <td>...</td>\n",
              "      <td>...</td>\n",
              "      <td>...</td>\n",
              "      <td>...</td>\n",
              "      <td>...</td>\n",
              "      <td>...</td>\n",
              "      <td>...</td>\n",
              "    </tr>\n",
              "    <tr>\n",
              "      <th>995</th>\n",
              "      <td>국립암센터</td>\n",
              "      <td>2011</td>\n",
              "      <td>52</td>\n",
              "      <td>M</td>\n",
              "      <td>N</td>\n",
              "      <td>8</td>\n",
              "      <td>12</td>\n",
              "      <td>7</td>\n",
              "      <td>11</td>\n",
              "    </tr>\n",
              "    <tr>\n",
              "      <th>996</th>\n",
              "      <td>국립암센터</td>\n",
              "      <td>2015</td>\n",
              "      <td>58</td>\n",
              "      <td>M</td>\n",
              "      <td>N</td>\n",
              "      <td>5</td>\n",
              "      <td>9</td>\n",
              "      <td>4</td>\n",
              "      <td>7</td>\n",
              "    </tr>\n",
              "    <tr>\n",
              "      <th>997</th>\n",
              "      <td>국립암센터</td>\n",
              "      <td>2017</td>\n",
              "      <td>75</td>\n",
              "      <td>F</td>\n",
              "      <td>Y</td>\n",
              "      <td>2</td>\n",
              "      <td>7</td>\n",
              "      <td>2</td>\n",
              "      <td>5</td>\n",
              "    </tr>\n",
              "    <tr>\n",
              "      <th>998</th>\n",
              "      <td>국립암센터</td>\n",
              "      <td>2011</td>\n",
              "      <td>50</td>\n",
              "      <td>M</td>\n",
              "      <td>N</td>\n",
              "      <td>5</td>\n",
              "      <td>7</td>\n",
              "      <td>4</td>\n",
              "      <td>6</td>\n",
              "    </tr>\n",
              "    <tr>\n",
              "      <th>999</th>\n",
              "      <td>국립암센터</td>\n",
              "      <td>2013</td>\n",
              "      <td>45</td>\n",
              "      <td>F</td>\n",
              "      <td>N</td>\n",
              "      <td>1</td>\n",
              "      <td>1</td>\n",
              "      <td>1</td>\n",
              "      <td>1</td>\n",
              "    </tr>\n",
              "  </tbody>\n",
              "</table>\n",
              "<p>1000 rows × 9 columns</p>\n",
              "</div>"
            ],
            "text/plain": [
              "    centerNm  critYr  ptAge ptSexCd statsTrgtNm  ncsNmvl  wholNcsDnmvl  \\\n",
              "0      국립암센터    2019     76       M           Y       12            21   \n",
              "1      국립암센터    2014     47       F           N        4             4   \n",
              "2      국립암센터    2012     67       M           N       16            29   \n",
              "3      국립암센터    2013     59       M           N        9            13   \n",
              "4      국립암센터    2015     76       M           N        7            14   \n",
              "..       ...     ...    ...     ...         ...      ...           ...   \n",
              "995    국립암센터    2011     52       M           N        8            12   \n",
              "996    국립암센터    2015     58       M           N        5             9   \n",
              "997    국립암센터    2017     75       F           Y        2             7   \n",
              "998    국립암센터    2011     50       M           N        5             7   \n",
              "999    국립암센터    2013     45       F           N        1             1   \n",
              "\n",
              "     ptCntNmvl  wholPtCntDnmvl  \n",
              "0           10              18  \n",
              "1            4               4  \n",
              "2           14              25  \n",
              "3            7              10  \n",
              "4            7              12  \n",
              "..         ...             ...  \n",
              "995          7              11  \n",
              "996          4               7  \n",
              "997          2               5  \n",
              "998          4               6  \n",
              "999          1               1  \n",
              "\n",
              "[1000 rows x 9 columns]"
            ]
          },
          "execution_count": 78,
          "metadata": {},
          "output_type": "execute_result"
        }
      ],
      "source": [
        "data = pd.read_csv('폐암 합병증/lung_hypertension.csv')\n",
        "data"
      ]
    },
    {
      "cell_type": "code",
      "execution_count": null,
      "id": "837937df",
      "metadata": {
        "id": "837937df"
      },
      "outputs": [],
      "source": [
        "data = data.dropna()"
      ]
    },
    {
      "cell_type": "code",
      "execution_count": null,
      "id": "79cee37a",
      "metadata": {
        "id": "79cee37a",
        "outputId": "3dea5240-f371-4174-c3ff-7410150c5d66"
      },
      "outputs": [
        {
          "data": {
            "text/html": [
              "<div>\n",
              "<style scoped>\n",
              "    .dataframe tbody tr th:only-of-type {\n",
              "        vertical-align: middle;\n",
              "    }\n",
              "\n",
              "    .dataframe tbody tr th {\n",
              "        vertical-align: top;\n",
              "    }\n",
              "\n",
              "    .dataframe thead th {\n",
              "        text-align: right;\n",
              "    }\n",
              "</style>\n",
              "<table border=\"1\" class=\"dataframe\">\n",
              "  <thead>\n",
              "    <tr style=\"text-align: right;\">\n",
              "      <th></th>\n",
              "      <th>statsTrgtNm</th>\n",
              "    </tr>\n",
              "  </thead>\n",
              "  <tbody>\n",
              "    <tr>\n",
              "      <th>0</th>\n",
              "      <td>Y</td>\n",
              "    </tr>\n",
              "    <tr>\n",
              "      <th>1</th>\n",
              "      <td>N</td>\n",
              "    </tr>\n",
              "    <tr>\n",
              "      <th>2</th>\n",
              "      <td>N</td>\n",
              "    </tr>\n",
              "    <tr>\n",
              "      <th>3</th>\n",
              "      <td>N</td>\n",
              "    </tr>\n",
              "    <tr>\n",
              "      <th>4</th>\n",
              "      <td>N</td>\n",
              "    </tr>\n",
              "    <tr>\n",
              "      <th>...</th>\n",
              "      <td>...</td>\n",
              "    </tr>\n",
              "    <tr>\n",
              "      <th>995</th>\n",
              "      <td>N</td>\n",
              "    </tr>\n",
              "    <tr>\n",
              "      <th>996</th>\n",
              "      <td>N</td>\n",
              "    </tr>\n",
              "    <tr>\n",
              "      <th>997</th>\n",
              "      <td>Y</td>\n",
              "    </tr>\n",
              "    <tr>\n",
              "      <th>998</th>\n",
              "      <td>N</td>\n",
              "    </tr>\n",
              "    <tr>\n",
              "      <th>999</th>\n",
              "      <td>N</td>\n",
              "    </tr>\n",
              "  </tbody>\n",
              "</table>\n",
              "<p>967 rows × 1 columns</p>\n",
              "</div>"
            ],
            "text/plain": [
              "    statsTrgtNm\n",
              "0             Y\n",
              "1             N\n",
              "2             N\n",
              "3             N\n",
              "4             N\n",
              "..          ...\n",
              "995           N\n",
              "996           N\n",
              "997           Y\n",
              "998           N\n",
              "999           N\n",
              "\n",
              "[967 rows x 1 columns]"
            ]
          },
          "execution_count": 80,
          "metadata": {},
          "output_type": "execute_result"
        }
      ],
      "source": [
        "hype = data[['statsTrgtNm']]\n",
        "hype"
      ]
    },
    {
      "cell_type": "code",
      "execution_count": null,
      "id": "b59044cc",
      "metadata": {
        "id": "b59044cc"
      },
      "outputs": [],
      "source": [
        "def doo(x):\n",
        "    if x == 'Y':\n",
        "        return 1\n",
        "    else:\n",
        "        return 0"
      ]
    },
    {
      "cell_type": "code",
      "execution_count": null,
      "id": "ad5efcac",
      "metadata": {
        "id": "ad5efcac",
        "outputId": "52b3daad-919c-4b87-8ae1-5eb7474c0991"
      },
      "outputs": [
        {
          "name": "stderr",
          "output_type": "stream",
          "text": [
            "C:\\Users\\martu\\AppData\\Local\\Temp/ipykernel_121868/1727592029.py:1: SettingWithCopyWarning: \n",
            "A value is trying to be set on a copy of a slice from a DataFrame.\n",
            "Try using .loc[row_indexer,col_indexer] = value instead\n",
            "\n",
            "See the caveats in the documentation: https://pandas.pydata.org/pandas-docs/stable/user_guide/indexing.html#returning-a-view-versus-a-copy\n",
            "  hype['statsTrgtNm'] = hype['statsTrgtNm'].map(doo)\n"
          ]
        }
      ],
      "source": [
        "hype['statsTrgtNm'] = hype['statsTrgtNm'].map(doo)"
      ]
    },
    {
      "cell_type": "code",
      "execution_count": null,
      "id": "60db1e5b",
      "metadata": {
        "id": "60db1e5b",
        "outputId": "7046e42b-7e80-46e2-95d7-c45f4b536972"
      },
      "outputs": [
        {
          "data": {
            "text/html": [
              "<div>\n",
              "<style scoped>\n",
              "    .dataframe tbody tr th:only-of-type {\n",
              "        vertical-align: middle;\n",
              "    }\n",
              "\n",
              "    .dataframe tbody tr th {\n",
              "        vertical-align: top;\n",
              "    }\n",
              "\n",
              "    .dataframe thead th {\n",
              "        text-align: right;\n",
              "    }\n",
              "</style>\n",
              "<table border=\"1\" class=\"dataframe\">\n",
              "  <thead>\n",
              "    <tr style=\"text-align: right;\">\n",
              "      <th></th>\n",
              "      <th>statsTrgtNm</th>\n",
              "    </tr>\n",
              "  </thead>\n",
              "  <tbody>\n",
              "    <tr>\n",
              "      <th>0</th>\n",
              "      <td>1</td>\n",
              "    </tr>\n",
              "    <tr>\n",
              "      <th>1</th>\n",
              "      <td>0</td>\n",
              "    </tr>\n",
              "    <tr>\n",
              "      <th>2</th>\n",
              "      <td>0</td>\n",
              "    </tr>\n",
              "    <tr>\n",
              "      <th>3</th>\n",
              "      <td>0</td>\n",
              "    </tr>\n",
              "    <tr>\n",
              "      <th>4</th>\n",
              "      <td>0</td>\n",
              "    </tr>\n",
              "    <tr>\n",
              "      <th>...</th>\n",
              "      <td>...</td>\n",
              "    </tr>\n",
              "    <tr>\n",
              "      <th>995</th>\n",
              "      <td>0</td>\n",
              "    </tr>\n",
              "    <tr>\n",
              "      <th>996</th>\n",
              "      <td>0</td>\n",
              "    </tr>\n",
              "    <tr>\n",
              "      <th>997</th>\n",
              "      <td>1</td>\n",
              "    </tr>\n",
              "    <tr>\n",
              "      <th>998</th>\n",
              "      <td>0</td>\n",
              "    </tr>\n",
              "    <tr>\n",
              "      <th>999</th>\n",
              "      <td>0</td>\n",
              "    </tr>\n",
              "  </tbody>\n",
              "</table>\n",
              "<p>967 rows × 1 columns</p>\n",
              "</div>"
            ],
            "text/plain": [
              "     statsTrgtNm\n",
              "0              1\n",
              "1              0\n",
              "2              0\n",
              "3              0\n",
              "4              0\n",
              "..           ...\n",
              "995            0\n",
              "996            0\n",
              "997            1\n",
              "998            0\n",
              "999            0\n",
              "\n",
              "[967 rows x 1 columns]"
            ]
          },
          "execution_count": 83,
          "metadata": {},
          "output_type": "execute_result"
        }
      ],
      "source": [
        "hype"
      ]
    },
    {
      "cell_type": "code",
      "execution_count": null,
      "id": "7a548d4c",
      "metadata": {
        "scrolled": true,
        "id": "7a548d4c"
      },
      "outputs": [],
      "source": [
        "# columns 명 변경 \n",
        "hype = hype.rename(columns={'statsTrgtNm':'hype'})"
      ]
    },
    {
      "cell_type": "code",
      "execution_count": null,
      "id": "588fc63c",
      "metadata": {
        "id": "588fc63c",
        "outputId": "7370e754-1c2d-43cd-9ee7-8d3460074ad9"
      },
      "outputs": [
        {
          "data": {
            "text/html": [
              "<div>\n",
              "<style scoped>\n",
              "    .dataframe tbody tr th:only-of-type {\n",
              "        vertical-align: middle;\n",
              "    }\n",
              "\n",
              "    .dataframe tbody tr th {\n",
              "        vertical-align: top;\n",
              "    }\n",
              "\n",
              "    .dataframe thead th {\n",
              "        text-align: right;\n",
              "    }\n",
              "</style>\n",
              "<table border=\"1\" class=\"dataframe\">\n",
              "  <thead>\n",
              "    <tr style=\"text-align: right;\">\n",
              "      <th></th>\n",
              "      <th>hype</th>\n",
              "    </tr>\n",
              "  </thead>\n",
              "  <tbody>\n",
              "    <tr>\n",
              "      <th>0</th>\n",
              "      <td>1</td>\n",
              "    </tr>\n",
              "    <tr>\n",
              "      <th>1</th>\n",
              "      <td>0</td>\n",
              "    </tr>\n",
              "    <tr>\n",
              "      <th>2</th>\n",
              "      <td>0</td>\n",
              "    </tr>\n",
              "    <tr>\n",
              "      <th>3</th>\n",
              "      <td>0</td>\n",
              "    </tr>\n",
              "    <tr>\n",
              "      <th>4</th>\n",
              "      <td>0</td>\n",
              "    </tr>\n",
              "    <tr>\n",
              "      <th>...</th>\n",
              "      <td>...</td>\n",
              "    </tr>\n",
              "    <tr>\n",
              "      <th>995</th>\n",
              "      <td>0</td>\n",
              "    </tr>\n",
              "    <tr>\n",
              "      <th>996</th>\n",
              "      <td>0</td>\n",
              "    </tr>\n",
              "    <tr>\n",
              "      <th>997</th>\n",
              "      <td>1</td>\n",
              "    </tr>\n",
              "    <tr>\n",
              "      <th>998</th>\n",
              "      <td>0</td>\n",
              "    </tr>\n",
              "    <tr>\n",
              "      <th>999</th>\n",
              "      <td>0</td>\n",
              "    </tr>\n",
              "  </tbody>\n",
              "</table>\n",
              "<p>967 rows × 1 columns</p>\n",
              "</div>"
            ],
            "text/plain": [
              "     hype\n",
              "0       1\n",
              "1       0\n",
              "2       0\n",
              "3       0\n",
              "4       0\n",
              "..    ...\n",
              "995     0\n",
              "996     0\n",
              "997     1\n",
              "998     0\n",
              "999     0\n",
              "\n",
              "[967 rows x 1 columns]"
            ]
          },
          "execution_count": 85,
          "metadata": {},
          "output_type": "execute_result"
        }
      ],
      "source": [
        "hype"
      ]
    },
    {
      "cell_type": "markdown",
      "id": "48343db9",
      "metadata": {
        "id": "48343db9"
      },
      "source": [
        "# 남녀 과거 흡연 여부"
      ]
    },
    {
      "cell_type": "code",
      "execution_count": null,
      "id": "dddb1f4f",
      "metadata": {
        "id": "dddb1f4f",
        "outputId": "1ad58eab-3e45-4f65-dc6f-1e559b5ecc07"
      },
      "outputs": [
        {
          "data": {
            "text/html": [
              "<div>\n",
              "<style scoped>\n",
              "    .dataframe tbody tr th:only-of-type {\n",
              "        vertical-align: middle;\n",
              "    }\n",
              "\n",
              "    .dataframe tbody tr th {\n",
              "        vertical-align: top;\n",
              "    }\n",
              "\n",
              "    .dataframe thead th {\n",
              "        text-align: right;\n",
              "    }\n",
              "</style>\n",
              "<table border=\"1\" class=\"dataframe\">\n",
              "  <thead>\n",
              "    <tr style=\"text-align: right;\">\n",
              "      <th></th>\n",
              "      <th>centerNm</th>\n",
              "      <th>critYr</th>\n",
              "      <th>ptAge</th>\n",
              "      <th>ptSexCd</th>\n",
              "      <th>statsTrgtNm</th>\n",
              "      <th>ncsNmvl</th>\n",
              "      <th>wholNcsDnmvl</th>\n",
              "      <th>ptCntNmvl</th>\n",
              "      <th>wholPtCntDnmvl</th>\n",
              "    </tr>\n",
              "  </thead>\n",
              "  <tbody>\n",
              "    <tr>\n",
              "      <th>0</th>\n",
              "      <td>국립암센터</td>\n",
              "      <td>2013</td>\n",
              "      <td>60</td>\n",
              "      <td>M</td>\n",
              "      <td>Y</td>\n",
              "      <td>17</td>\n",
              "      <td>18</td>\n",
              "      <td>16</td>\n",
              "      <td>17</td>\n",
              "    </tr>\n",
              "    <tr>\n",
              "      <th>1</th>\n",
              "      <td>국립암센터</td>\n",
              "      <td>2013</td>\n",
              "      <td>58</td>\n",
              "      <td>M</td>\n",
              "      <td>Y</td>\n",
              "      <td>17</td>\n",
              "      <td>17</td>\n",
              "      <td>14</td>\n",
              "      <td>14</td>\n",
              "    </tr>\n",
              "    <tr>\n",
              "      <th>2</th>\n",
              "      <td>국립암센터</td>\n",
              "      <td>2013</td>\n",
              "      <td>65</td>\n",
              "      <td>F</td>\n",
              "      <td>N</td>\n",
              "      <td>4</td>\n",
              "      <td>5</td>\n",
              "      <td>4</td>\n",
              "      <td>5</td>\n",
              "    </tr>\n",
              "    <tr>\n",
              "      <th>3</th>\n",
              "      <td>국립암센터</td>\n",
              "      <td>2017</td>\n",
              "      <td>71</td>\n",
              "      <td>M</td>\n",
              "      <td>Y</td>\n",
              "      <td>11</td>\n",
              "      <td>14</td>\n",
              "      <td>10</td>\n",
              "      <td>12</td>\n",
              "    </tr>\n",
              "    <tr>\n",
              "      <th>4</th>\n",
              "      <td>국립암센터</td>\n",
              "      <td>2014</td>\n",
              "      <td>83</td>\n",
              "      <td>M</td>\n",
              "      <td>N</td>\n",
              "      <td>2</td>\n",
              "      <td>2</td>\n",
              "      <td>1</td>\n",
              "      <td>1</td>\n",
              "    </tr>\n",
              "    <tr>\n",
              "      <th>...</th>\n",
              "      <td>...</td>\n",
              "      <td>...</td>\n",
              "      <td>...</td>\n",
              "      <td>...</td>\n",
              "      <td>...</td>\n",
              "      <td>...</td>\n",
              "      <td>...</td>\n",
              "      <td>...</td>\n",
              "      <td>...</td>\n",
              "    </tr>\n",
              "    <tr>\n",
              "      <th>995</th>\n",
              "      <td>국립암센터</td>\n",
              "      <td>2019</td>\n",
              "      <td>83</td>\n",
              "      <td>F</td>\n",
              "      <td>N</td>\n",
              "      <td>5</td>\n",
              "      <td>5</td>\n",
              "      <td>4</td>\n",
              "      <td>4</td>\n",
              "    </tr>\n",
              "    <tr>\n",
              "      <th>996</th>\n",
              "      <td>국립암센터</td>\n",
              "      <td>2012</td>\n",
              "      <td>58</td>\n",
              "      <td>F</td>\n",
              "      <td>Y</td>\n",
              "      <td>3</td>\n",
              "      <td>7</td>\n",
              "      <td>3</td>\n",
              "      <td>7</td>\n",
              "    </tr>\n",
              "    <tr>\n",
              "      <th>997</th>\n",
              "      <td>국립암센터</td>\n",
              "      <td>2016</td>\n",
              "      <td>79</td>\n",
              "      <td>F</td>\n",
              "      <td>N</td>\n",
              "      <td>3</td>\n",
              "      <td>3</td>\n",
              "      <td>3</td>\n",
              "      <td>3</td>\n",
              "    </tr>\n",
              "    <tr>\n",
              "      <th>998</th>\n",
              "      <td>국립암센터</td>\n",
              "      <td>2016</td>\n",
              "      <td>53</td>\n",
              "      <td>F</td>\n",
              "      <td>N</td>\n",
              "      <td>5</td>\n",
              "      <td>6</td>\n",
              "      <td>4</td>\n",
              "      <td>5</td>\n",
              "    </tr>\n",
              "    <tr>\n",
              "      <th>999</th>\n",
              "      <td>국립암센터</td>\n",
              "      <td>2016</td>\n",
              "      <td>71</td>\n",
              "      <td>M</td>\n",
              "      <td>N</td>\n",
              "      <td>2</td>\n",
              "      <td>18</td>\n",
              "      <td>2</td>\n",
              "      <td>16</td>\n",
              "    </tr>\n",
              "  </tbody>\n",
              "</table>\n",
              "<p>1000 rows × 9 columns</p>\n",
              "</div>"
            ],
            "text/plain": [
              "    centerNm  critYr  ptAge ptSexCd statsTrgtNm  ncsNmvl  wholNcsDnmvl  \\\n",
              "0      국립암센터    2013     60       M           Y       17            18   \n",
              "1      국립암센터    2013     58       M           Y       17            17   \n",
              "2      국립암센터    2013     65       F           N        4             5   \n",
              "3      국립암센터    2017     71       M           Y       11            14   \n",
              "4      국립암센터    2014     83       M           N        2             2   \n",
              "..       ...     ...    ...     ...         ...      ...           ...   \n",
              "995    국립암센터    2019     83       F           N        5             5   \n",
              "996    국립암센터    2012     58       F           Y        3             7   \n",
              "997    국립암센터    2016     79       F           N        3             3   \n",
              "998    국립암센터    2016     53       F           N        5             6   \n",
              "999    국립암센터    2016     71       M           N        2            18   \n",
              "\n",
              "     ptCntNmvl  wholPtCntDnmvl  \n",
              "0           16              17  \n",
              "1           14              14  \n",
              "2            4               5  \n",
              "3           10              12  \n",
              "4            1               1  \n",
              "..         ...             ...  \n",
              "995          4               4  \n",
              "996          3               7  \n",
              "997          3               3  \n",
              "998          4               5  \n",
              "999          2              16  \n",
              "\n",
              "[1000 rows x 9 columns]"
            ]
          },
          "execution_count": 86,
          "metadata": {},
          "output_type": "execute_result"
        }
      ],
      "source": [
        "df = pd.read_csv('흡연_음주 여부/smoke_past.csv')\n",
        "df"
      ]
    },
    {
      "cell_type": "code",
      "execution_count": null,
      "id": "2043500a",
      "metadata": {
        "id": "2043500a",
        "outputId": "6e1c6b10-ba7a-4ff1-b189-4b2991b79a5f"
      },
      "outputs": [
        {
          "data": {
            "text/plain": [
              "centerNm          False\n",
              "critYr            False\n",
              "ptAge             False\n",
              "ptSexCd           False\n",
              "statsTrgtNm       False\n",
              "ncsNmvl           False\n",
              "wholNcsDnmvl      False\n",
              "ptCntNmvl         False\n",
              "wholPtCntDnmvl    False\n",
              "dtype: bool"
            ]
          },
          "execution_count": 87,
          "metadata": {},
          "output_type": "execute_result"
        }
      ],
      "source": [
        "df.isnull().any()"
      ]
    },
    {
      "cell_type": "code",
      "execution_count": null,
      "id": "878b3e2a",
      "metadata": {
        "id": "878b3e2a"
      },
      "outputs": [],
      "source": [
        "# 열개수 맞춰주기\n",
        "df = df.iloc[0:967, :]"
      ]
    },
    {
      "cell_type": "code",
      "execution_count": null,
      "id": "9e466d21",
      "metadata": {
        "id": "9e466d21"
      },
      "outputs": [],
      "source": [
        "smoke = df[['statsTrgtNm']]"
      ]
    },
    {
      "cell_type": "code",
      "execution_count": null,
      "id": "c97e524f",
      "metadata": {
        "id": "c97e524f",
        "outputId": "3717a024-6671-4e91-c66c-d97d49506c70"
      },
      "outputs": [
        {
          "name": "stderr",
          "output_type": "stream",
          "text": [
            "C:\\Users\\martu\\AppData\\Local\\Temp/ipykernel_121868/1984105631.py:1: SettingWithCopyWarning: \n",
            "A value is trying to be set on a copy of a slice from a DataFrame.\n",
            "Try using .loc[row_indexer,col_indexer] = value instead\n",
            "\n",
            "See the caveats in the documentation: https://pandas.pydata.org/pandas-docs/stable/user_guide/indexing.html#returning-a-view-versus-a-copy\n",
            "  smoke['statsTrgtNm'] = smoke['statsTrgtNm'].map(doo)\n"
          ]
        }
      ],
      "source": [
        "smoke['statsTrgtNm'] = smoke['statsTrgtNm'].map(doo)"
      ]
    },
    {
      "cell_type": "code",
      "execution_count": null,
      "id": "5d6d5ae3",
      "metadata": {
        "id": "5d6d5ae3"
      },
      "outputs": [],
      "source": [
        "smoke = smoke.rename(columns={'statsTrgtNm':'smoke'})"
      ]
    },
    {
      "cell_type": "code",
      "execution_count": null,
      "id": "71ba5d68",
      "metadata": {
        "id": "71ba5d68",
        "outputId": "d7a5e96d-1398-4666-d8dd-535d5ead9962"
      },
      "outputs": [
        {
          "data": {
            "text/html": [
              "<div>\n",
              "<style scoped>\n",
              "    .dataframe tbody tr th:only-of-type {\n",
              "        vertical-align: middle;\n",
              "    }\n",
              "\n",
              "    .dataframe tbody tr th {\n",
              "        vertical-align: top;\n",
              "    }\n",
              "\n",
              "    .dataframe thead th {\n",
              "        text-align: right;\n",
              "    }\n",
              "</style>\n",
              "<table border=\"1\" class=\"dataframe\">\n",
              "  <thead>\n",
              "    <tr style=\"text-align: right;\">\n",
              "      <th></th>\n",
              "      <th>smoke</th>\n",
              "    </tr>\n",
              "  </thead>\n",
              "  <tbody>\n",
              "    <tr>\n",
              "      <th>0</th>\n",
              "      <td>1</td>\n",
              "    </tr>\n",
              "    <tr>\n",
              "      <th>1</th>\n",
              "      <td>1</td>\n",
              "    </tr>\n",
              "    <tr>\n",
              "      <th>2</th>\n",
              "      <td>0</td>\n",
              "    </tr>\n",
              "    <tr>\n",
              "      <th>3</th>\n",
              "      <td>1</td>\n",
              "    </tr>\n",
              "    <tr>\n",
              "      <th>4</th>\n",
              "      <td>0</td>\n",
              "    </tr>\n",
              "    <tr>\n",
              "      <th>...</th>\n",
              "      <td>...</td>\n",
              "    </tr>\n",
              "    <tr>\n",
              "      <th>962</th>\n",
              "      <td>0</td>\n",
              "    </tr>\n",
              "    <tr>\n",
              "      <th>963</th>\n",
              "      <td>0</td>\n",
              "    </tr>\n",
              "    <tr>\n",
              "      <th>964</th>\n",
              "      <td>1</td>\n",
              "    </tr>\n",
              "    <tr>\n",
              "      <th>965</th>\n",
              "      <td>1</td>\n",
              "    </tr>\n",
              "    <tr>\n",
              "      <th>966</th>\n",
              "      <td>0</td>\n",
              "    </tr>\n",
              "  </tbody>\n",
              "</table>\n",
              "<p>967 rows × 1 columns</p>\n",
              "</div>"
            ],
            "text/plain": [
              "     smoke\n",
              "0        1\n",
              "1        1\n",
              "2        0\n",
              "3        1\n",
              "4        0\n",
              "..     ...\n",
              "962      0\n",
              "963      0\n",
              "964      1\n",
              "965      1\n",
              "966      0\n",
              "\n",
              "[967 rows x 1 columns]"
            ]
          },
          "execution_count": 92,
          "metadata": {},
          "output_type": "execute_result"
        }
      ],
      "source": [
        "smoke"
      ]
    },
    {
      "cell_type": "code",
      "execution_count": null,
      "id": "df675def",
      "metadata": {
        "id": "df675def"
      },
      "outputs": [],
      "source": [
        "smoke.to_csv('smoke.csv', index = False)\n",
        "hype.to_csv('hype.csv', index = False)"
      ]
    },
    {
      "cell_type": "code",
      "execution_count": null,
      "id": "6f52be8b",
      "metadata": {
        "id": "6f52be8b"
      },
      "outputs": [],
      "source": [
        "smoke = pd.read_csv('smoke.csv')\n",
        "hype = pd.read_csv('hype.csv')"
      ]
    },
    {
      "cell_type": "code",
      "execution_count": null,
      "id": "ffabb90c",
      "metadata": {
        "id": "ffabb90c"
      },
      "outputs": [],
      "source": [
        "data = pd.concat([smoke, hype], axis = 1)"
      ]
    },
    {
      "cell_type": "code",
      "execution_count": null,
      "id": "8b5576c8",
      "metadata": {
        "id": "8b5576c8",
        "outputId": "13134f4c-40db-4f23-de31-ac9e0d739afb"
      },
      "outputs": [
        {
          "data": {
            "text/html": [
              "<div>\n",
              "<style scoped>\n",
              "    .dataframe tbody tr th:only-of-type {\n",
              "        vertical-align: middle;\n",
              "    }\n",
              "\n",
              "    .dataframe tbody tr th {\n",
              "        vertical-align: top;\n",
              "    }\n",
              "\n",
              "    .dataframe thead th {\n",
              "        text-align: right;\n",
              "    }\n",
              "</style>\n",
              "<table border=\"1\" class=\"dataframe\">\n",
              "  <thead>\n",
              "    <tr style=\"text-align: right;\">\n",
              "      <th></th>\n",
              "      <th>smoke</th>\n",
              "      <th>hype</th>\n",
              "    </tr>\n",
              "  </thead>\n",
              "  <tbody>\n",
              "    <tr>\n",
              "      <th>0</th>\n",
              "      <td>1</td>\n",
              "      <td>1</td>\n",
              "    </tr>\n",
              "    <tr>\n",
              "      <th>1</th>\n",
              "      <td>1</td>\n",
              "      <td>0</td>\n",
              "    </tr>\n",
              "    <tr>\n",
              "      <th>2</th>\n",
              "      <td>0</td>\n",
              "      <td>0</td>\n",
              "    </tr>\n",
              "    <tr>\n",
              "      <th>3</th>\n",
              "      <td>1</td>\n",
              "      <td>0</td>\n",
              "    </tr>\n",
              "    <tr>\n",
              "      <th>4</th>\n",
              "      <td>0</td>\n",
              "      <td>0</td>\n",
              "    </tr>\n",
              "    <tr>\n",
              "      <th>...</th>\n",
              "      <td>...</td>\n",
              "      <td>...</td>\n",
              "    </tr>\n",
              "    <tr>\n",
              "      <th>962</th>\n",
              "      <td>0</td>\n",
              "      <td>0</td>\n",
              "    </tr>\n",
              "    <tr>\n",
              "      <th>963</th>\n",
              "      <td>0</td>\n",
              "      <td>0</td>\n",
              "    </tr>\n",
              "    <tr>\n",
              "      <th>964</th>\n",
              "      <td>1</td>\n",
              "      <td>1</td>\n",
              "    </tr>\n",
              "    <tr>\n",
              "      <th>965</th>\n",
              "      <td>1</td>\n",
              "      <td>0</td>\n",
              "    </tr>\n",
              "    <tr>\n",
              "      <th>966</th>\n",
              "      <td>0</td>\n",
              "      <td>0</td>\n",
              "    </tr>\n",
              "  </tbody>\n",
              "</table>\n",
              "<p>967 rows × 2 columns</p>\n",
              "</div>"
            ],
            "text/plain": [
              "     smoke  hype\n",
              "0        1     1\n",
              "1        1     0\n",
              "2        0     0\n",
              "3        1     0\n",
              "4        0     0\n",
              "..     ...   ...\n",
              "962      0     0\n",
              "963      0     0\n",
              "964      1     1\n",
              "965      1     0\n",
              "966      0     0\n",
              "\n",
              "[967 rows x 2 columns]"
            ]
          },
          "execution_count": 98,
          "metadata": {},
          "output_type": "execute_result"
        }
      ],
      "source": [
        "data"
      ]
    },
    {
      "cell_type": "markdown",
      "id": "53496fe4",
      "metadata": {
        "id": "53496fe4"
      },
      "source": [
        "# 머신러닝"
      ]
    },
    {
      "cell_type": "code",
      "execution_count": null,
      "id": "076784e9",
      "metadata": {
        "id": "076784e9"
      },
      "outputs": [],
      "source": [
        "X = data[['smoke']]\n",
        "y = data[['hype']]"
      ]
    },
    {
      "cell_type": "code",
      "execution_count": null,
      "id": "9e59e7f6",
      "metadata": {
        "id": "9e59e7f6"
      },
      "outputs": [],
      "source": [
        "from sklearn.model_selection import train_test_split\n",
        "X_train,X_test, y_train, y_test = train_test_split(X, y, test_size = 0.2, random_state = 42)\n",
        "X_train_val, X_test_val, y_train_val, y_test_val = train_test_split(X_train, y_train, test_size =0.2, random_state = 42)"
      ]
    },
    {
      "cell_type": "code",
      "execution_count": null,
      "id": "0333d237",
      "metadata": {
        "id": "0333d237",
        "outputId": "2cf48d46-a798-4026-89dc-08e48a0b8d8f"
      },
      "outputs": [
        {
          "data": {
            "text/plain": [
              "LinearRegression()"
            ]
          },
          "execution_count": 127,
          "metadata": {},
          "output_type": "execute_result"
        }
      ],
      "source": [
        "from sklearn.linear_model import LinearRegression\n",
        "lr = LinearRegression()\n",
        "lr.fit(X_train_val, y_train_val)"
      ]
    },
    {
      "cell_type": "code",
      "execution_count": null,
      "id": "b5698b97",
      "metadata": {
        "scrolled": true,
        "id": "b5698b97",
        "outputId": "ad92f759-3920-42ac-e1c3-d2a2d1186b81"
      },
      "outputs": [
        {
          "data": {
            "text/plain": [
              "-0.01169134478390288"
            ]
          },
          "execution_count": 128,
          "metadata": {},
          "output_type": "execute_result"
        }
      ],
      "source": [
        "lr.score(X_test_val, y_test_val)"
      ]
    },
    {
      "cell_type": "code",
      "execution_count": null,
      "id": "c6b6f20e",
      "metadata": {
        "id": "c6b6f20e"
      },
      "outputs": [],
      "source": [
        ""
      ]
    },
    {
      "cell_type": "code",
      "execution_count": null,
      "id": "3c269090",
      "metadata": {
        "id": "3c269090"
      },
      "outputs": [],
      "source": [
        ""
      ]
    },
    {
      "cell_type": "code",
      "execution_count": null,
      "id": "d94bb479",
      "metadata": {
        "id": "d94bb479"
      },
      "outputs": [],
      "source": [
        ""
      ]
    },
    {
      "cell_type": "code",
      "execution_count": null,
      "id": "724434c4",
      "metadata": {
        "id": "724434c4"
      },
      "outputs": [],
      "source": [
        ""
      ]
    },
    {
      "cell_type": "code",
      "execution_count": null,
      "id": "38a0d551",
      "metadata": {
        "id": "38a0d551"
      },
      "outputs": [],
      "source": [
        ""
      ]
    },
    {
      "cell_type": "code",
      "execution_count": null,
      "id": "84999136",
      "metadata": {
        "id": "84999136"
      },
      "outputs": [],
      "source": [
        ""
      ]
    },
    {
      "cell_type": "code",
      "execution_count": null,
      "id": "a8fe4d95",
      "metadata": {
        "id": "a8fe4d95"
      },
      "outputs": [],
      "source": [
        ""
      ]
    },
    {
      "cell_type": "code",
      "execution_count": null,
      "id": "5cbf32e0",
      "metadata": {
        "id": "5cbf32e0"
      },
      "outputs": [],
      "source": [
        ""
      ]
    },
    {
      "cell_type": "code",
      "execution_count": null,
      "id": "92d5f07d",
      "metadata": {
        "id": "92d5f07d"
      },
      "outputs": [],
      "source": [
        ""
      ]
    },
    {
      "cell_type": "code",
      "execution_count": null,
      "id": "c25d3c66",
      "metadata": {
        "id": "c25d3c66"
      },
      "outputs": [],
      "source": [
        ""
      ]
    },
    {
      "cell_type": "code",
      "execution_count": null,
      "id": "cd95fe05",
      "metadata": {
        "id": "cd95fe05"
      },
      "outputs": [],
      "source": [
        ""
      ]
    }
  ],
  "metadata": {
    "kernelspec": {
      "display_name": "Python 3 (ipykernel)",
      "language": "python",
      "name": "python3"
    },
    "language_info": {
      "codemirror_mode": {
        "name": "ipython",
        "version": 3
      },
      "file_extension": ".py",
      "mimetype": "text/x-python",
      "name": "python",
      "nbconvert_exporter": "python",
      "pygments_lexer": "ipython3",
      "version": "3.9.7"
    },
    "colab": {
      "name": "04_폐암환자의 흡연 여부와 고혈압의 관계.ipynb",
      "provenance": []
    }
  },
  "nbformat": 4,
  "nbformat_minor": 5
}