{
  "cells": [
    {
      "cell_type": "code",
      "execution_count": null,
      "id": "3a361e68",
      "metadata": {
        "id": "3a361e68",
        "outputId": "fcf8af10-adaa-4ae1-e635-877e4fd771b0"
      },
      "outputs": [
        {
          "data": {
            "text/html": [
              "<div>\n",
              "<style scoped>\n",
              "    .dataframe tbody tr th:only-of-type {\n",
              "        vertical-align: middle;\n",
              "    }\n",
              "\n",
              "    .dataframe tbody tr th {\n",
              "        vertical-align: top;\n",
              "    }\n",
              "\n",
              "    .dataframe thead th {\n",
              "        text-align: right;\n",
              "    }\n",
              "</style>\n",
              "<table border=\"1\" class=\"dataframe\">\n",
              "  <thead>\n",
              "    <tr style=\"text-align: right;\">\n",
              "      <th></th>\n",
              "      <th>centerNm</th>\n",
              "      <th>critYr</th>\n",
              "      <th>ptAge</th>\n",
              "      <th>ptSexCd</th>\n",
              "      <th>statsTrgtNm</th>\n",
              "      <th>ncsNmvl</th>\n",
              "      <th>wholNcsDnmvl</th>\n",
              "      <th>ptCntNmvl</th>\n",
              "      <th>wholPtCntDnmvl</th>\n",
              "    </tr>\n",
              "  </thead>\n",
              "  <tbody>\n",
              "    <tr>\n",
              "      <th>0</th>\n",
              "      <td>국립암센터</td>\n",
              "      <td>2013</td>\n",
              "      <td>57</td>\n",
              "      <td>M</td>\n",
              "      <td>N</td>\n",
              "      <td>2</td>\n",
              "      <td>10</td>\n",
              "      <td>2</td>\n",
              "      <td>8</td>\n",
              "    </tr>\n",
              "    <tr>\n",
              "      <th>1</th>\n",
              "      <td>국립암센터</td>\n",
              "      <td>2017</td>\n",
              "      <td>73</td>\n",
              "      <td>F</td>\n",
              "      <td>N</td>\n",
              "      <td>8</td>\n",
              "      <td>8</td>\n",
              "      <td>6</td>\n",
              "      <td>6</td>\n",
              "    </tr>\n",
              "    <tr>\n",
              "      <th>2</th>\n",
              "      <td>국립암센터</td>\n",
              "      <td>2011</td>\n",
              "      <td>54</td>\n",
              "      <td>M</td>\n",
              "      <td>N</td>\n",
              "      <td>5</td>\n",
              "      <td>9</td>\n",
              "      <td>5</td>\n",
              "      <td>9</td>\n",
              "    </tr>\n",
              "    <tr>\n",
              "      <th>3</th>\n",
              "      <td>국립암센터</td>\n",
              "      <td>2014</td>\n",
              "      <td>82</td>\n",
              "      <td>M</td>\n",
              "      <td>N</td>\n",
              "      <td>2</td>\n",
              "      <td>2</td>\n",
              "      <td>2</td>\n",
              "      <td>2</td>\n",
              "    </tr>\n",
              "    <tr>\n",
              "      <th>4</th>\n",
              "      <td>국립암센터</td>\n",
              "      <td>2019</td>\n",
              "      <td>62</td>\n",
              "      <td>M</td>\n",
              "      <td>N</td>\n",
              "      <td>4</td>\n",
              "      <td>19</td>\n",
              "      <td>4</td>\n",
              "      <td>18</td>\n",
              "    </tr>\n",
              "    <tr>\n",
              "      <th>...</th>\n",
              "      <td>...</td>\n",
              "      <td>...</td>\n",
              "      <td>...</td>\n",
              "      <td>...</td>\n",
              "      <td>...</td>\n",
              "      <td>...</td>\n",
              "      <td>...</td>\n",
              "      <td>...</td>\n",
              "      <td>...</td>\n",
              "    </tr>\n",
              "    <tr>\n",
              "      <th>995</th>\n",
              "      <td>국립암센터</td>\n",
              "      <td>2015</td>\n",
              "      <td>41</td>\n",
              "      <td>F</td>\n",
              "      <td>N</td>\n",
              "      <td>1</td>\n",
              "      <td>1</td>\n",
              "      <td>1</td>\n",
              "      <td>1</td>\n",
              "    </tr>\n",
              "    <tr>\n",
              "      <th>996</th>\n",
              "      <td>국립암센터</td>\n",
              "      <td>2012</td>\n",
              "      <td>79</td>\n",
              "      <td>M</td>\n",
              "      <td>Y</td>\n",
              "      <td>6</td>\n",
              "      <td>8</td>\n",
              "      <td>4</td>\n",
              "      <td>5</td>\n",
              "    </tr>\n",
              "    <tr>\n",
              "      <th>997</th>\n",
              "      <td>국립암센터</td>\n",
              "      <td>2015</td>\n",
              "      <td>71</td>\n",
              "      <td>M</td>\n",
              "      <td>N</td>\n",
              "      <td>10</td>\n",
              "      <td>21</td>\n",
              "      <td>6</td>\n",
              "      <td>15</td>\n",
              "    </tr>\n",
              "    <tr>\n",
              "      <th>998</th>\n",
              "      <td>국립암센터</td>\n",
              "      <td>2012</td>\n",
              "      <td>53</td>\n",
              "      <td>M</td>\n",
              "      <td>Y</td>\n",
              "      <td>2</td>\n",
              "      <td>3</td>\n",
              "      <td>2</td>\n",
              "      <td>3</td>\n",
              "    </tr>\n",
              "    <tr>\n",
              "      <th>999</th>\n",
              "      <td>국립암센터</td>\n",
              "      <td>2019</td>\n",
              "      <td>83</td>\n",
              "      <td>F</td>\n",
              "      <td>N</td>\n",
              "      <td>5</td>\n",
              "      <td>5</td>\n",
              "      <td>4</td>\n",
              "      <td>4</td>\n",
              "    </tr>\n",
              "  </tbody>\n",
              "</table>\n",
              "<p>1000 rows × 9 columns</p>\n",
              "</div>"
            ],
            "text/plain": [
              "    centerNm  critYr  ptAge ptSexCd statsTrgtNm  ncsNmvl  wholNcsDnmvl  \\\n",
              "0      국립암센터    2013     57       M           N        2            10   \n",
              "1      국립암센터    2017     73       F           N        8             8   \n",
              "2      국립암센터    2011     54       M           N        5             9   \n",
              "3      국립암센터    2014     82       M           N        2             2   \n",
              "4      국립암센터    2019     62       M           N        4            19   \n",
              "..       ...     ...    ...     ...         ...      ...           ...   \n",
              "995    국립암센터    2015     41       F           N        1             1   \n",
              "996    국립암센터    2012     79       M           Y        6             8   \n",
              "997    국립암센터    2015     71       M           N       10            21   \n",
              "998    국립암센터    2012     53       M           Y        2             3   \n",
              "999    국립암센터    2019     83       F           N        5             5   \n",
              "\n",
              "     ptCntNmvl  wholPtCntDnmvl  \n",
              "0            2               8  \n",
              "1            6               6  \n",
              "2            5               9  \n",
              "3            2               2  \n",
              "4            4              18  \n",
              "..         ...             ...  \n",
              "995          1               1  \n",
              "996          4               5  \n",
              "997          6              15  \n",
              "998          2               3  \n",
              "999          4               4  \n",
              "\n",
              "[1000 rows x 9 columns]"
            ]
          },
          "execution_count": 46,
          "metadata": {},
          "output_type": "execute_result"
        }
      ],
      "source": [
        "import pandas as pd\n",
        "data = pd.read_csv('흡연_음주 여부/lung_drink.csv')\n",
        "data"
      ]
    },
    {
      "cell_type": "code",
      "execution_count": null,
      "id": "471559f3",
      "metadata": {
        "id": "471559f3",
        "outputId": "cd40db78-d9c1-413a-ceb9-1668a11dffdb"
      },
      "outputs": [
        {
          "data": {
            "text/html": [
              "<div>\n",
              "<style scoped>\n",
              "    .dataframe tbody tr th:only-of-type {\n",
              "        vertical-align: middle;\n",
              "    }\n",
              "\n",
              "    .dataframe tbody tr th {\n",
              "        vertical-align: top;\n",
              "    }\n",
              "\n",
              "    .dataframe thead th {\n",
              "        text-align: right;\n",
              "    }\n",
              "</style>\n",
              "<table border=\"1\" class=\"dataframe\">\n",
              "  <thead>\n",
              "    <tr style=\"text-align: right;\">\n",
              "      <th></th>\n",
              "      <th>ptSexCd</th>\n",
              "      <th>statsTrgtNm</th>\n",
              "    </tr>\n",
              "  </thead>\n",
              "  <tbody>\n",
              "    <tr>\n",
              "      <th>0</th>\n",
              "      <td>M</td>\n",
              "      <td>N</td>\n",
              "    </tr>\n",
              "    <tr>\n",
              "      <th>1</th>\n",
              "      <td>F</td>\n",
              "      <td>N</td>\n",
              "    </tr>\n",
              "    <tr>\n",
              "      <th>2</th>\n",
              "      <td>M</td>\n",
              "      <td>N</td>\n",
              "    </tr>\n",
              "    <tr>\n",
              "      <th>3</th>\n",
              "      <td>M</td>\n",
              "      <td>N</td>\n",
              "    </tr>\n",
              "    <tr>\n",
              "      <th>4</th>\n",
              "      <td>M</td>\n",
              "      <td>N</td>\n",
              "    </tr>\n",
              "    <tr>\n",
              "      <th>...</th>\n",
              "      <td>...</td>\n",
              "      <td>...</td>\n",
              "    </tr>\n",
              "    <tr>\n",
              "      <th>995</th>\n",
              "      <td>F</td>\n",
              "      <td>N</td>\n",
              "    </tr>\n",
              "    <tr>\n",
              "      <th>996</th>\n",
              "      <td>M</td>\n",
              "      <td>Y</td>\n",
              "    </tr>\n",
              "    <tr>\n",
              "      <th>997</th>\n",
              "      <td>M</td>\n",
              "      <td>N</td>\n",
              "    </tr>\n",
              "    <tr>\n",
              "      <th>998</th>\n",
              "      <td>M</td>\n",
              "      <td>Y</td>\n",
              "    </tr>\n",
              "    <tr>\n",
              "      <th>999</th>\n",
              "      <td>F</td>\n",
              "      <td>N</td>\n",
              "    </tr>\n",
              "  </tbody>\n",
              "</table>\n",
              "<p>1000 rows × 2 columns</p>\n",
              "</div>"
            ],
            "text/plain": [
              "    ptSexCd statsTrgtNm\n",
              "0         M           N\n",
              "1         F           N\n",
              "2         M           N\n",
              "3         M           N\n",
              "4         M           N\n",
              "..      ...         ...\n",
              "995       F           N\n",
              "996       M           Y\n",
              "997       M           N\n",
              "998       M           Y\n",
              "999       F           N\n",
              "\n",
              "[1000 rows x 2 columns]"
            ]
          },
          "execution_count": 47,
          "metadata": {},
          "output_type": "execute_result"
        }
      ],
      "source": [
        "df = data[['ptSexCd', 'statsTrgtNm']]\n",
        "df"
      ]
    },
    {
      "cell_type": "code",
      "execution_count": null,
      "id": "c480ef07",
      "metadata": {
        "id": "c480ef07"
      },
      "outputs": [],
      "source": [
        "def do(x):\n",
        "    if x == 'M':\n",
        "        return 1\n",
        "    else:\n",
        "        return 2"
      ]
    },
    {
      "cell_type": "code",
      "execution_count": null,
      "id": "6a49ea06",
      "metadata": {
        "id": "6a49ea06"
      },
      "outputs": [],
      "source": [
        "def doo(x):\n",
        "    if x == 'Y':\n",
        "        return 1\n",
        "    else:\n",
        "        return 0"
      ]
    },
    {
      "cell_type": "code",
      "execution_count": null,
      "id": "7bfa0d05",
      "metadata": {
        "id": "7bfa0d05",
        "outputId": "8010127e-a25c-4d98-a625-9fb96c9b9656"
      },
      "outputs": [
        {
          "name": "stderr",
          "output_type": "stream",
          "text": [
            "C:\\Users\\martu\\AppData\\Local\\Temp/ipykernel_117200/3079284376.py:1: SettingWithCopyWarning: \n",
            "A value is trying to be set on a copy of a slice from a DataFrame.\n",
            "Try using .loc[row_indexer,col_indexer] = value instead\n",
            "\n",
            "See the caveats in the documentation: https://pandas.pydata.org/pandas-docs/stable/user_guide/indexing.html#returning-a-view-versus-a-copy\n",
            "  df['ptSexCd'] = df['ptSexCd'].map(do)\n",
            "C:\\Users\\martu\\AppData\\Local\\Temp/ipykernel_117200/3079284376.py:2: SettingWithCopyWarning: \n",
            "A value is trying to be set on a copy of a slice from a DataFrame.\n",
            "Try using .loc[row_indexer,col_indexer] = value instead\n",
            "\n",
            "See the caveats in the documentation: https://pandas.pydata.org/pandas-docs/stable/user_guide/indexing.html#returning-a-view-versus-a-copy\n",
            "  df['statsTrgtNm'] = df['statsTrgtNm'].map(doo)\n"
          ]
        }
      ],
      "source": [
        "df['ptSexCd'] = df['ptSexCd'].map(do)\n",
        "df['statsTrgtNm'] = df['statsTrgtNm'].map(doo)"
      ]
    },
    {
      "cell_type": "code",
      "execution_count": null,
      "id": "f2a37377",
      "metadata": {
        "id": "f2a37377"
      },
      "outputs": [],
      "source": [
        "X = df[['ptSexCd']]\n",
        "y = df[['statsTrgtNm']]"
      ]
    },
    {
      "cell_type": "code",
      "execution_count": null,
      "id": "c66757e2",
      "metadata": {
        "id": "c66757e2",
        "outputId": "f657286a-2ba5-49cc-a1ea-cf24af7c4298"
      },
      "outputs": [
        {
          "data": {
            "text/plain": [
              "LinearRegression()"
            ]
          },
          "execution_count": 52,
          "metadata": {},
          "output_type": "execute_result"
        }
      ],
      "source": [
        "from sklearn.model_selection import train_test_split\n",
        "X_train, X_test, y_train, y_test = train_test_split(X, y, test_size = 0.2, random_state = 42)\n",
        "\n",
        "X_train_val, X_test_val, y_train_val, y_test_val = \\\n",
        "train_test_split(X_train, y_train, test_size = 0.2, random_state =42)\n",
        "\n",
        "from sklearn.linear_model import LinearRegression\n",
        "lr = LinearRegression()\n",
        "lr.fit(X_train_val, y_train_val)"
      ]
    },
    {
      "cell_type": "code",
      "execution_count": null,
      "id": "aee5737d",
      "metadata": {
        "id": "aee5737d"
      },
      "outputs": [],
      "source": [
        "from sklearn.preprocessing import MinMaxScaler\n",
        "from sklearn.preprocessing import StandardScaler\n",
        "scaled_minmax = MinMaxScaler()\n",
        "scaled_standard = StandardScaler()"
      ]
    },
    {
      "cell_type": "code",
      "execution_count": null,
      "id": "24783bda",
      "metadata": {
        "id": "24783bda"
      },
      "outputs": [],
      "source": [
        "scaled_minmax.fit(X_train_val)\n",
        "scaled_minmax_train = scaled_minmax.transform(X_train_val)\n",
        "\n",
        "scaled_standard.fit(X_train_val)\n",
        "scaled_standard_train = scaled_standard.transform(X_train_val)\n",
        "\n",
        "scaled_minmax_test = scaled_minmax.transform(X_test_val)\n",
        "scaled_standard_test = scaled_standard.transform(X_test_val)"
      ]
    },
    {
      "cell_type": "code",
      "execution_count": null,
      "id": "3a9ddab4",
      "metadata": {
        "id": "3a9ddab4",
        "outputId": "4b9454d0-30f6-41d4-d7df-c95178eae3be"
      },
      "outputs": [
        {
          "data": {
            "text/plain": [
              "LinearRegression()"
            ]
          },
          "execution_count": 55,
          "metadata": {},
          "output_type": "execute_result"
        }
      ],
      "source": [
        "from sklearn.linear_model import LinearRegression\n",
        "lr = LinearRegression()\n",
        "lr.fit(scaled_minmax_train, y_train_val)"
      ]
    },
    {
      "cell_type": "code",
      "execution_count": null,
      "id": "80271a67",
      "metadata": {
        "id": "80271a67",
        "outputId": "0a6a0c01-1204-4d57-ce84-369e8c30dc85"
      },
      "outputs": [
        {
          "data": {
            "text/plain": [
              "0.029424695060832562"
            ]
          },
          "execution_count": 56,
          "metadata": {},
          "output_type": "execute_result"
        }
      ],
      "source": [
        "lr.score(scaled_minmax_test, y_test_val)"
      ]
    },
    {
      "cell_type": "code",
      "execution_count": null,
      "id": "896cfa30",
      "metadata": {
        "id": "896cfa30",
        "outputId": "c487eec6-3369-4aec-b6ac-1793decb8b8d"
      },
      "outputs": [
        {
          "data": {
            "text/plain": [
              "0.5115734565248449"
            ]
          },
          "execution_count": 57,
          "metadata": {},
          "output_type": "execute_result"
        }
      ],
      "source": [
        "#RMSE\n",
        "from sklearn.metrics import mean_squared_error\n",
        "a_pred = lr.predict(X_test_val)\n",
        "\n",
        "a = mean_squared_error(y_test_val,a_pred)**0.5\n",
        "a"
      ]
    },
    {
      "cell_type": "markdown",
      "id": "994f1f1c",
      "metadata": {
        "id": "994f1f1c"
      },
      "source": [
        "# OLS"
      ]
    },
    {
      "cell_type": "code",
      "execution_count": null,
      "id": "a7b1321e",
      "metadata": {
        "id": "a7b1321e",
        "outputId": "072d4117-4e19-4e2f-ca0a-725649b95eaa"
      },
      "outputs": [
        {
          "data": {
            "text/html": [
              "<table class=\"simpletable\">\n",
              "<caption>OLS Regression Results</caption>\n",
              "<tr>\n",
              "  <th>Dep. Variable:</th>       <td>statsTrgtNm</td>   <th>  R-squared (uncentered):</th>      <td>   0.360</td>\n",
              "</tr>\n",
              "<tr>\n",
              "  <th>Model:</th>                   <td>OLS</td>       <th>  Adj. R-squared (uncentered):</th> <td>   0.359</td>\n",
              "</tr>\n",
              "<tr>\n",
              "  <th>Method:</th>             <td>Least Squares</td>  <th>  F-statistic:       </th>          <td>   562.1</td>\n",
              "</tr>\n",
              "<tr>\n",
              "  <th>Date:</th>             <td>Wed, 15 Dec 2021</td> <th>  Prob (F-statistic):</th>          <td>6.22e-99</td>\n",
              "</tr>\n",
              "<tr>\n",
              "  <th>Time:</th>                 <td>14:37:45</td>     <th>  Log-Likelihood:    </th>          <td> -815.04</td>\n",
              "</tr>\n",
              "<tr>\n",
              "  <th>No. Observations:</th>      <td>  1000</td>      <th>  AIC:               </th>          <td>   1632.</td>\n",
              "</tr>\n",
              "<tr>\n",
              "  <th>Df Residuals:</th>          <td>   999</td>      <th>  BIC:               </th>          <td>   1637.</td>\n",
              "</tr>\n",
              "<tr>\n",
              "  <th>Df Model:</th>              <td>     1</td>      <th>                     </th>              <td> </td>   \n",
              "</tr>\n",
              "<tr>\n",
              "  <th>Covariance Type:</th>      <td>nonrobust</td>    <th>                     </th>              <td> </td>   \n",
              "</tr>\n",
              "</table>\n",
              "<table class=\"simpletable\">\n",
              "<tr>\n",
              "     <td></td>        <th>coef</th>     <th>std err</th>      <th>t</th>      <th>P>|t|</th>  <th>[0.025</th>    <th>0.975]</th>  \n",
              "</tr>\n",
              "<tr>\n",
              "  <th>ptSexCd</th> <td>    0.2665</td> <td>    0.011</td> <td>   23.708</td> <td> 0.000</td> <td>    0.244</td> <td>    0.289</td>\n",
              "</tr>\n",
              "</table>\n",
              "<table class=\"simpletable\">\n",
              "<tr>\n",
              "  <th>Omnibus:</th>       <td>4402.855</td> <th>  Durbin-Watson:     </th> <td>   1.981</td>\n",
              "</tr>\n",
              "<tr>\n",
              "  <th>Prob(Omnibus):</th>  <td> 0.000</td>  <th>  Jarque-Bera (JB):  </th> <td> 135.401</td>\n",
              "</tr>\n",
              "<tr>\n",
              "  <th>Skew:</th>           <td> 0.112</td>  <th>  Prob(JB):          </th> <td>3.96e-30</td>\n",
              "</tr>\n",
              "<tr>\n",
              "  <th>Kurtosis:</th>       <td> 1.211</td>  <th>  Cond. No.          </th> <td>    1.00</td>\n",
              "</tr>\n",
              "</table><br/><br/>Notes:<br/>[1] R² is computed without centering (uncentered) since the model does not contain a constant.<br/>[2] Standard Errors assume that the covariance matrix of the errors is correctly specified."
            ],
            "text/plain": [
              "<class 'statsmodels.iolib.summary.Summary'>\n",
              "\"\"\"\n",
              "                                 OLS Regression Results                                \n",
              "=======================================================================================\n",
              "Dep. Variable:            statsTrgtNm   R-squared (uncentered):                   0.360\n",
              "Model:                            OLS   Adj. R-squared (uncentered):              0.359\n",
              "Method:                 Least Squares   F-statistic:                              562.1\n",
              "Date:                Wed, 15 Dec 2021   Prob (F-statistic):                    6.22e-99\n",
              "Time:                        14:37:45   Log-Likelihood:                         -815.04\n",
              "No. Observations:                1000   AIC:                                      1632.\n",
              "Df Residuals:                     999   BIC:                                      1637.\n",
              "Df Model:                           1                                                  \n",
              "Covariance Type:            nonrobust                                                  \n",
              "==============================================================================\n",
              "                 coef    std err          t      P>|t|      [0.025      0.975]\n",
              "------------------------------------------------------------------------------\n",
              "ptSexCd        0.2665      0.011     23.708      0.000       0.244       0.289\n",
              "==============================================================================\n",
              "Omnibus:                     4402.855   Durbin-Watson:                   1.981\n",
              "Prob(Omnibus):                  0.000   Jarque-Bera (JB):              135.401\n",
              "Skew:                           0.112   Prob(JB):                     3.96e-30\n",
              "Kurtosis:                       1.211   Cond. No.                         1.00\n",
              "==============================================================================\n",
              "\n",
              "Notes:\n",
              "[1] R² is computed without centering (uncentered) since the model does not contain a constant.\n",
              "[2] Standard Errors assume that the covariance matrix of the errors is correctly specified.\n",
              "\"\"\""
            ]
          },
          "execution_count": 58,
          "metadata": {},
          "output_type": "execute_result"
        }
      ],
      "source": [
        "import statsmodels.api as sm\n",
        "\n",
        "model = sm.OLS(y, X)\n",
        "result = model.fit()\n",
        "result.summary()"
      ]
    }
  ],
  "metadata": {
    "kernelspec": {
      "display_name": "Python 3 (ipykernel)",
      "language": "python",
      "name": "python3"
    },
    "language_info": {
      "codemirror_mode": {
        "name": "ipython",
        "version": 3
      },
      "file_extension": ".py",
      "mimetype": "text/x-python",
      "name": "python",
      "nbconvert_exporter": "python",
      "pygments_lexer": "ipython3",
      "version": "3.9.7"
    },
    "colab": {
      "name": "02-2_폐암 음주 여부.ipynb",
      "provenance": []
    }
  },
  "nbformat": 4,
  "nbformat_minor": 5
}