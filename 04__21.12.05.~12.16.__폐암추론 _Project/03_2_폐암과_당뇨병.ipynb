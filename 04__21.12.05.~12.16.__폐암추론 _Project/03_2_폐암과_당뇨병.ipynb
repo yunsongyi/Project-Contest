{
  "cells": [
    {
      "cell_type": "code",
      "execution_count": null,
      "id": "92a5887b",
      "metadata": {
        "id": "92a5887b"
      },
      "outputs": [],
      "source": [
        "import pandas as pd\n",
        "data = pd.read_csv('폐암 합병증/lung_diabetes.csv')"
      ]
    },
    {
      "cell_type": "code",
      "execution_count": null,
      "id": "a74bbd98",
      "metadata": {
        "id": "a74bbd98",
        "outputId": "96dceb2a-ff30-4b47-feda-5b510d809371"
      },
      "outputs": [
        {
          "data": {
            "text/html": [
              "<div>\n",
              "<style scoped>\n",
              "    .dataframe tbody tr th:only-of-type {\n",
              "        vertical-align: middle;\n",
              "    }\n",
              "\n",
              "    .dataframe tbody tr th {\n",
              "        vertical-align: top;\n",
              "    }\n",
              "\n",
              "    .dataframe thead th {\n",
              "        text-align: right;\n",
              "    }\n",
              "</style>\n",
              "<table border=\"1\" class=\"dataframe\">\n",
              "  <thead>\n",
              "    <tr style=\"text-align: right;\">\n",
              "      <th></th>\n",
              "      <th>centerNm</th>\n",
              "      <th>critYr</th>\n",
              "      <th>ptAge</th>\n",
              "      <th>ptSexCd</th>\n",
              "      <th>statsTrgtNm</th>\n",
              "      <th>ncsNmvl</th>\n",
              "      <th>wholNcsDnmvl</th>\n",
              "      <th>ptCntNmvl</th>\n",
              "      <th>wholPtCntDnmvl</th>\n",
              "    </tr>\n",
              "  </thead>\n",
              "  <tbody>\n",
              "    <tr>\n",
              "      <th>0</th>\n",
              "      <td>국립암센터</td>\n",
              "      <td>2013</td>\n",
              "      <td>64</td>\n",
              "      <td>M</td>\n",
              "      <td>Y</td>\n",
              "      <td>5</td>\n",
              "      <td>15</td>\n",
              "      <td>5</td>\n",
              "      <td>15</td>\n",
              "    </tr>\n",
              "    <tr>\n",
              "      <th>1</th>\n",
              "      <td>국립암센터</td>\n",
              "      <td>2016</td>\n",
              "      <td>77</td>\n",
              "      <td>F</td>\n",
              "      <td>N</td>\n",
              "      <td>6</td>\n",
              "      <td>8</td>\n",
              "      <td>4</td>\n",
              "      <td>6</td>\n",
              "    </tr>\n",
              "    <tr>\n",
              "      <th>2</th>\n",
              "      <td>국립암센터</td>\n",
              "      <td>2017</td>\n",
              "      <td>69</td>\n",
              "      <td>M</td>\n",
              "      <td>N</td>\n",
              "      <td>19</td>\n",
              "      <td>21</td>\n",
              "      <td>16</td>\n",
              "      <td>18</td>\n",
              "    </tr>\n",
              "    <tr>\n",
              "      <th>3</th>\n",
              "      <td>국립암센터</td>\n",
              "      <td>2019</td>\n",
              "      <td>62</td>\n",
              "      <td>M</td>\n",
              "      <td>Y</td>\n",
              "      <td>4</td>\n",
              "      <td>19</td>\n",
              "      <td>4</td>\n",
              "      <td>18</td>\n",
              "    </tr>\n",
              "    <tr>\n",
              "      <th>4</th>\n",
              "      <td>국립암센터</td>\n",
              "      <td>2013</td>\n",
              "      <td>73</td>\n",
              "      <td>M</td>\n",
              "      <td>N</td>\n",
              "      <td>17</td>\n",
              "      <td>20</td>\n",
              "      <td>16</td>\n",
              "      <td>19</td>\n",
              "    </tr>\n",
              "    <tr>\n",
              "      <th>...</th>\n",
              "      <td>...</td>\n",
              "      <td>...</td>\n",
              "      <td>...</td>\n",
              "      <td>...</td>\n",
              "      <td>...</td>\n",
              "      <td>...</td>\n",
              "      <td>...</td>\n",
              "      <td>...</td>\n",
              "      <td>...</td>\n",
              "    </tr>\n",
              "    <tr>\n",
              "      <th>995</th>\n",
              "      <td>국립암센터</td>\n",
              "      <td>2018</td>\n",
              "      <td>73</td>\n",
              "      <td>F</td>\n",
              "      <td>Y</td>\n",
              "      <td>3</td>\n",
              "      <td>8</td>\n",
              "      <td>2</td>\n",
              "      <td>5</td>\n",
              "    </tr>\n",
              "    <tr>\n",
              "      <th>996</th>\n",
              "      <td>국립암센터</td>\n",
              "      <td>2015</td>\n",
              "      <td>86</td>\n",
              "      <td>M</td>\n",
              "      <td>N</td>\n",
              "      <td>1</td>\n",
              "      <td>1</td>\n",
              "      <td>1</td>\n",
              "      <td>1</td>\n",
              "    </tr>\n",
              "    <tr>\n",
              "      <th>997</th>\n",
              "      <td>국립암센터</td>\n",
              "      <td>2018</td>\n",
              "      <td>73</td>\n",
              "      <td>M</td>\n",
              "      <td>Y</td>\n",
              "      <td>2</td>\n",
              "      <td>16</td>\n",
              "      <td>2</td>\n",
              "      <td>13</td>\n",
              "    </tr>\n",
              "    <tr>\n",
              "      <th>998</th>\n",
              "      <td>국립암센터</td>\n",
              "      <td>2017</td>\n",
              "      <td>47</td>\n",
              "      <td>F</td>\n",
              "      <td>N</td>\n",
              "      <td>3</td>\n",
              "      <td>3</td>\n",
              "      <td>2</td>\n",
              "      <td>2</td>\n",
              "    </tr>\n",
              "    <tr>\n",
              "      <th>999</th>\n",
              "      <td>국립암센터</td>\n",
              "      <td>2010</td>\n",
              "      <td>78</td>\n",
              "      <td>M</td>\n",
              "      <td>NaN</td>\n",
              "      <td>0</td>\n",
              "      <td>2</td>\n",
              "      <td>1</td>\n",
              "      <td>3</td>\n",
              "    </tr>\n",
              "  </tbody>\n",
              "</table>\n",
              "<p>1000 rows × 9 columns</p>\n",
              "</div>"
            ],
            "text/plain": [
              "    centerNm  critYr  ptAge ptSexCd statsTrgtNm  ncsNmvl  wholNcsDnmvl  \\\n",
              "0      국립암센터    2013     64       M           Y        5            15   \n",
              "1      국립암센터    2016     77       F           N        6             8   \n",
              "2      국립암센터    2017     69       M           N       19            21   \n",
              "3      국립암센터    2019     62       M           Y        4            19   \n",
              "4      국립암센터    2013     73       M           N       17            20   \n",
              "..       ...     ...    ...     ...         ...      ...           ...   \n",
              "995    국립암센터    2018     73       F           Y        3             8   \n",
              "996    국립암센터    2015     86       M           N        1             1   \n",
              "997    국립암센터    2018     73       M           Y        2            16   \n",
              "998    국립암센터    2017     47       F           N        3             3   \n",
              "999    국립암센터    2010     78       M         NaN        0             2   \n",
              "\n",
              "     ptCntNmvl  wholPtCntDnmvl  \n",
              "0            5              15  \n",
              "1            4               6  \n",
              "2           16              18  \n",
              "3            4              18  \n",
              "4           16              19  \n",
              "..         ...             ...  \n",
              "995          2               5  \n",
              "996          1               1  \n",
              "997          2              13  \n",
              "998          2               2  \n",
              "999          1               3  \n",
              "\n",
              "[1000 rows x 9 columns]"
            ]
          },
          "execution_count": 79,
          "metadata": {},
          "output_type": "execute_result"
        }
      ],
      "source": [
        "data"
      ]
    },
    {
      "cell_type": "code",
      "execution_count": null,
      "id": "22df79b5",
      "metadata": {
        "id": "22df79b5",
        "outputId": "5a8735b6-cb44-47d3-d2bd-83f8114d2d7c"
      },
      "outputs": [
        {
          "data": {
            "text/html": [
              "<div>\n",
              "<style scoped>\n",
              "    .dataframe tbody tr th:only-of-type {\n",
              "        vertical-align: middle;\n",
              "    }\n",
              "\n",
              "    .dataframe tbody tr th {\n",
              "        vertical-align: top;\n",
              "    }\n",
              "\n",
              "    .dataframe thead th {\n",
              "        text-align: right;\n",
              "    }\n",
              "</style>\n",
              "<table border=\"1\" class=\"dataframe\">\n",
              "  <thead>\n",
              "    <tr style=\"text-align: right;\">\n",
              "      <th></th>\n",
              "      <th>ptSexCd</th>\n",
              "      <th>statsTrgtNm</th>\n",
              "    </tr>\n",
              "  </thead>\n",
              "  <tbody>\n",
              "    <tr>\n",
              "      <th>0</th>\n",
              "      <td>M</td>\n",
              "      <td>Y</td>\n",
              "    </tr>\n",
              "    <tr>\n",
              "      <th>1</th>\n",
              "      <td>F</td>\n",
              "      <td>N</td>\n",
              "    </tr>\n",
              "    <tr>\n",
              "      <th>2</th>\n",
              "      <td>M</td>\n",
              "      <td>N</td>\n",
              "    </tr>\n",
              "    <tr>\n",
              "      <th>3</th>\n",
              "      <td>M</td>\n",
              "      <td>Y</td>\n",
              "    </tr>\n",
              "    <tr>\n",
              "      <th>4</th>\n",
              "      <td>M</td>\n",
              "      <td>N</td>\n",
              "    </tr>\n",
              "    <tr>\n",
              "      <th>...</th>\n",
              "      <td>...</td>\n",
              "      <td>...</td>\n",
              "    </tr>\n",
              "    <tr>\n",
              "      <th>995</th>\n",
              "      <td>F</td>\n",
              "      <td>Y</td>\n",
              "    </tr>\n",
              "    <tr>\n",
              "      <th>996</th>\n",
              "      <td>M</td>\n",
              "      <td>N</td>\n",
              "    </tr>\n",
              "    <tr>\n",
              "      <th>997</th>\n",
              "      <td>M</td>\n",
              "      <td>Y</td>\n",
              "    </tr>\n",
              "    <tr>\n",
              "      <th>998</th>\n",
              "      <td>F</td>\n",
              "      <td>N</td>\n",
              "    </tr>\n",
              "    <tr>\n",
              "      <th>999</th>\n",
              "      <td>M</td>\n",
              "      <td>NaN</td>\n",
              "    </tr>\n",
              "  </tbody>\n",
              "</table>\n",
              "<p>1000 rows × 2 columns</p>\n",
              "</div>"
            ],
            "text/plain": [
              "    ptSexCd statsTrgtNm\n",
              "0         M           Y\n",
              "1         F           N\n",
              "2         M           N\n",
              "3         M           Y\n",
              "4         M           N\n",
              "..      ...         ...\n",
              "995       F           Y\n",
              "996       M           N\n",
              "997       M           Y\n",
              "998       F           N\n",
              "999       M         NaN\n",
              "\n",
              "[1000 rows x 2 columns]"
            ]
          },
          "execution_count": 80,
          "metadata": {},
          "output_type": "execute_result"
        }
      ],
      "source": [
        "df = data[['ptSexCd','statsTrgtNm']]\n",
        "df"
      ]
    },
    {
      "cell_type": "code",
      "execution_count": null,
      "id": "0e66b376",
      "metadata": {
        "id": "0e66b376"
      },
      "outputs": [],
      "source": [
        "df = df.dropna()"
      ]
    },
    {
      "cell_type": "code",
      "execution_count": null,
      "id": "68fff1dd",
      "metadata": {
        "id": "68fff1dd",
        "outputId": "a73dec27-dfc1-4406-eca6-9e155f1a95a3"
      },
      "outputs": [
        {
          "data": {
            "text/html": [
              "<div>\n",
              "<style scoped>\n",
              "    .dataframe tbody tr th:only-of-type {\n",
              "        vertical-align: middle;\n",
              "    }\n",
              "\n",
              "    .dataframe tbody tr th {\n",
              "        vertical-align: top;\n",
              "    }\n",
              "\n",
              "    .dataframe thead th {\n",
              "        text-align: right;\n",
              "    }\n",
              "</style>\n",
              "<table border=\"1\" class=\"dataframe\">\n",
              "  <thead>\n",
              "    <tr style=\"text-align: right;\">\n",
              "      <th></th>\n",
              "      <th>ptSexCd</th>\n",
              "      <th>statsTrgtNm</th>\n",
              "    </tr>\n",
              "  </thead>\n",
              "  <tbody>\n",
              "    <tr>\n",
              "      <th>0</th>\n",
              "      <td>M</td>\n",
              "      <td>Y</td>\n",
              "    </tr>\n",
              "    <tr>\n",
              "      <th>1</th>\n",
              "      <td>F</td>\n",
              "      <td>N</td>\n",
              "    </tr>\n",
              "    <tr>\n",
              "      <th>2</th>\n",
              "      <td>M</td>\n",
              "      <td>N</td>\n",
              "    </tr>\n",
              "    <tr>\n",
              "      <th>3</th>\n",
              "      <td>M</td>\n",
              "      <td>Y</td>\n",
              "    </tr>\n",
              "    <tr>\n",
              "      <th>4</th>\n",
              "      <td>M</td>\n",
              "      <td>N</td>\n",
              "    </tr>\n",
              "    <tr>\n",
              "      <th>...</th>\n",
              "      <td>...</td>\n",
              "      <td>...</td>\n",
              "    </tr>\n",
              "    <tr>\n",
              "      <th>994</th>\n",
              "      <td>F</td>\n",
              "      <td>Y</td>\n",
              "    </tr>\n",
              "    <tr>\n",
              "      <th>995</th>\n",
              "      <td>F</td>\n",
              "      <td>Y</td>\n",
              "    </tr>\n",
              "    <tr>\n",
              "      <th>996</th>\n",
              "      <td>M</td>\n",
              "      <td>N</td>\n",
              "    </tr>\n",
              "    <tr>\n",
              "      <th>997</th>\n",
              "      <td>M</td>\n",
              "      <td>Y</td>\n",
              "    </tr>\n",
              "    <tr>\n",
              "      <th>998</th>\n",
              "      <td>F</td>\n",
              "      <td>N</td>\n",
              "    </tr>\n",
              "  </tbody>\n",
              "</table>\n",
              "<p>971 rows × 2 columns</p>\n",
              "</div>"
            ],
            "text/plain": [
              "    ptSexCd statsTrgtNm\n",
              "0         M           Y\n",
              "1         F           N\n",
              "2         M           N\n",
              "3         M           Y\n",
              "4         M           N\n",
              "..      ...         ...\n",
              "994       F           Y\n",
              "995       F           Y\n",
              "996       M           N\n",
              "997       M           Y\n",
              "998       F           N\n",
              "\n",
              "[971 rows x 2 columns]"
            ]
          },
          "execution_count": 82,
          "metadata": {},
          "output_type": "execute_result"
        }
      ],
      "source": [
        "df"
      ]
    },
    {
      "cell_type": "code",
      "execution_count": null,
      "id": "657585df",
      "metadata": {
        "id": "657585df"
      },
      "outputs": [],
      "source": [
        "def do(x):\n",
        "    if x == 'M':\n",
        "        return 1\n",
        "    else:\n",
        "        return 2"
      ]
    },
    {
      "cell_type": "code",
      "execution_count": null,
      "id": "dbb384b7",
      "metadata": {
        "id": "dbb384b7"
      },
      "outputs": [],
      "source": [
        "def doo(x):\n",
        "    if x == 'Y':\n",
        "        return 1\n",
        "    else:\n",
        "        return 0"
      ]
    },
    {
      "cell_type": "code",
      "execution_count": null,
      "id": "bd97b87a",
      "metadata": {
        "id": "bd97b87a",
        "outputId": "a3fed9c0-96cc-492f-e579-7b971936f4b9"
      },
      "outputs": [
        {
          "name": "stderr",
          "output_type": "stream",
          "text": [
            "C:\\Users\\martu\\AppData\\Local\\Temp/ipykernel_63924/2272281505.py:1: SettingWithCopyWarning: \n",
            "A value is trying to be set on a copy of a slice from a DataFrame.\n",
            "Try using .loc[row_indexer,col_indexer] = value instead\n",
            "\n",
            "See the caveats in the documentation: https://pandas.pydata.org/pandas-docs/stable/user_guide/indexing.html#returning-a-view-versus-a-copy\n",
            "  df['ptSexCd'] = df['ptSexCd'].map(do)\n"
          ]
        }
      ],
      "source": [
        "df['ptSexCd'] = df['ptSexCd'].map(do)"
      ]
    },
    {
      "cell_type": "code",
      "execution_count": null,
      "id": "d5462003",
      "metadata": {
        "id": "d5462003",
        "outputId": "9915e5c0-6db4-427f-b208-e80ff5a20e9f"
      },
      "outputs": [
        {
          "data": {
            "text/html": [
              "<div>\n",
              "<style scoped>\n",
              "    .dataframe tbody tr th:only-of-type {\n",
              "        vertical-align: middle;\n",
              "    }\n",
              "\n",
              "    .dataframe tbody tr th {\n",
              "        vertical-align: top;\n",
              "    }\n",
              "\n",
              "    .dataframe thead th {\n",
              "        text-align: right;\n",
              "    }\n",
              "</style>\n",
              "<table border=\"1\" class=\"dataframe\">\n",
              "  <thead>\n",
              "    <tr style=\"text-align: right;\">\n",
              "      <th></th>\n",
              "      <th>ptSexCd</th>\n",
              "      <th>statsTrgtNm</th>\n",
              "    </tr>\n",
              "  </thead>\n",
              "  <tbody>\n",
              "    <tr>\n",
              "      <th>0</th>\n",
              "      <td>1</td>\n",
              "      <td>Y</td>\n",
              "    </tr>\n",
              "    <tr>\n",
              "      <th>1</th>\n",
              "      <td>2</td>\n",
              "      <td>N</td>\n",
              "    </tr>\n",
              "    <tr>\n",
              "      <th>2</th>\n",
              "      <td>1</td>\n",
              "      <td>N</td>\n",
              "    </tr>\n",
              "    <tr>\n",
              "      <th>3</th>\n",
              "      <td>1</td>\n",
              "      <td>Y</td>\n",
              "    </tr>\n",
              "    <tr>\n",
              "      <th>4</th>\n",
              "      <td>1</td>\n",
              "      <td>N</td>\n",
              "    </tr>\n",
              "    <tr>\n",
              "      <th>...</th>\n",
              "      <td>...</td>\n",
              "      <td>...</td>\n",
              "    </tr>\n",
              "    <tr>\n",
              "      <th>994</th>\n",
              "      <td>2</td>\n",
              "      <td>Y</td>\n",
              "    </tr>\n",
              "    <tr>\n",
              "      <th>995</th>\n",
              "      <td>2</td>\n",
              "      <td>Y</td>\n",
              "    </tr>\n",
              "    <tr>\n",
              "      <th>996</th>\n",
              "      <td>1</td>\n",
              "      <td>N</td>\n",
              "    </tr>\n",
              "    <tr>\n",
              "      <th>997</th>\n",
              "      <td>1</td>\n",
              "      <td>Y</td>\n",
              "    </tr>\n",
              "    <tr>\n",
              "      <th>998</th>\n",
              "      <td>2</td>\n",
              "      <td>N</td>\n",
              "    </tr>\n",
              "  </tbody>\n",
              "</table>\n",
              "<p>971 rows × 2 columns</p>\n",
              "</div>"
            ],
            "text/plain": [
              "     ptSexCd statsTrgtNm\n",
              "0          1           Y\n",
              "1          2           N\n",
              "2          1           N\n",
              "3          1           Y\n",
              "4          1           N\n",
              "..       ...         ...\n",
              "994        2           Y\n",
              "995        2           Y\n",
              "996        1           N\n",
              "997        1           Y\n",
              "998        2           N\n",
              "\n",
              "[971 rows x 2 columns]"
            ]
          },
          "execution_count": 86,
          "metadata": {},
          "output_type": "execute_result"
        }
      ],
      "source": [
        "df"
      ]
    },
    {
      "cell_type": "code",
      "execution_count": null,
      "id": "c7f123ab",
      "metadata": {
        "id": "c7f123ab",
        "outputId": "bab8bc84-4ba3-4881-8c24-174ff7f214c3"
      },
      "outputs": [
        {
          "name": "stderr",
          "output_type": "stream",
          "text": [
            "C:\\Users\\martu\\AppData\\Local\\Temp/ipykernel_63924/152114550.py:1: SettingWithCopyWarning: \n",
            "A value is trying to be set on a copy of a slice from a DataFrame.\n",
            "Try using .loc[row_indexer,col_indexer] = value instead\n",
            "\n",
            "See the caveats in the documentation: https://pandas.pydata.org/pandas-docs/stable/user_guide/indexing.html#returning-a-view-versus-a-copy\n",
            "  df['statsTrgtNm'] = df['statsTrgtNm'].map(doo)\n"
          ]
        }
      ],
      "source": [
        "df['statsTrgtNm'] = df['statsTrgtNm'].map(doo)"
      ]
    },
    {
      "cell_type": "code",
      "execution_count": null,
      "id": "b5c63a08",
      "metadata": {
        "id": "b5c63a08",
        "outputId": "6917040f-7664-4571-c11d-b4658e348583"
      },
      "outputs": [
        {
          "data": {
            "text/html": [
              "<div>\n",
              "<style scoped>\n",
              "    .dataframe tbody tr th:only-of-type {\n",
              "        vertical-align: middle;\n",
              "    }\n",
              "\n",
              "    .dataframe tbody tr th {\n",
              "        vertical-align: top;\n",
              "    }\n",
              "\n",
              "    .dataframe thead th {\n",
              "        text-align: right;\n",
              "    }\n",
              "</style>\n",
              "<table border=\"1\" class=\"dataframe\">\n",
              "  <thead>\n",
              "    <tr style=\"text-align: right;\">\n",
              "      <th></th>\n",
              "      <th>ptSexCd</th>\n",
              "      <th>statsTrgtNm</th>\n",
              "    </tr>\n",
              "  </thead>\n",
              "  <tbody>\n",
              "    <tr>\n",
              "      <th>0</th>\n",
              "      <td>1</td>\n",
              "      <td>1</td>\n",
              "    </tr>\n",
              "    <tr>\n",
              "      <th>1</th>\n",
              "      <td>2</td>\n",
              "      <td>0</td>\n",
              "    </tr>\n",
              "    <tr>\n",
              "      <th>2</th>\n",
              "      <td>1</td>\n",
              "      <td>0</td>\n",
              "    </tr>\n",
              "    <tr>\n",
              "      <th>3</th>\n",
              "      <td>1</td>\n",
              "      <td>1</td>\n",
              "    </tr>\n",
              "    <tr>\n",
              "      <th>4</th>\n",
              "      <td>1</td>\n",
              "      <td>0</td>\n",
              "    </tr>\n",
              "    <tr>\n",
              "      <th>...</th>\n",
              "      <td>...</td>\n",
              "      <td>...</td>\n",
              "    </tr>\n",
              "    <tr>\n",
              "      <th>994</th>\n",
              "      <td>2</td>\n",
              "      <td>1</td>\n",
              "    </tr>\n",
              "    <tr>\n",
              "      <th>995</th>\n",
              "      <td>2</td>\n",
              "      <td>1</td>\n",
              "    </tr>\n",
              "    <tr>\n",
              "      <th>996</th>\n",
              "      <td>1</td>\n",
              "      <td>0</td>\n",
              "    </tr>\n",
              "    <tr>\n",
              "      <th>997</th>\n",
              "      <td>1</td>\n",
              "      <td>1</td>\n",
              "    </tr>\n",
              "    <tr>\n",
              "      <th>998</th>\n",
              "      <td>2</td>\n",
              "      <td>0</td>\n",
              "    </tr>\n",
              "  </tbody>\n",
              "</table>\n",
              "<p>971 rows × 2 columns</p>\n",
              "</div>"
            ],
            "text/plain": [
              "     ptSexCd  statsTrgtNm\n",
              "0          1            1\n",
              "1          2            0\n",
              "2          1            0\n",
              "3          1            1\n",
              "4          1            0\n",
              "..       ...          ...\n",
              "994        2            1\n",
              "995        2            1\n",
              "996        1            0\n",
              "997        1            1\n",
              "998        2            0\n",
              "\n",
              "[971 rows x 2 columns]"
            ]
          },
          "execution_count": 88,
          "metadata": {},
          "output_type": "execute_result"
        }
      ],
      "source": [
        "df"
      ]
    },
    {
      "cell_type": "code",
      "execution_count": null,
      "id": "3262430e",
      "metadata": {
        "id": "3262430e"
      },
      "outputs": [],
      "source": [
        "X = df[['ptSexCd']]\n",
        "y = df[['statsTrgtNm']]"
      ]
    },
    {
      "cell_type": "code",
      "execution_count": null,
      "id": "4022562d",
      "metadata": {
        "id": "4022562d"
      },
      "outputs": [],
      "source": [
        "from sklearn.model_selection import train_test_split\n",
        "X_train, X_test, y_train, y_test = train_test_split(X, y, test_size = 0.2, random_state = 42)"
      ]
    },
    {
      "cell_type": "code",
      "execution_count": null,
      "id": "99a06ecd",
      "metadata": {
        "id": "99a06ecd"
      },
      "outputs": [],
      "source": [
        "X_train_val, X_test_val, y_train_val, y_test_val = \\\n",
        "train_test_split(X_train, y_train, test_size = 0.2, random_state =42)"
      ]
    },
    {
      "cell_type": "code",
      "execution_count": null,
      "id": "f9c0080c",
      "metadata": {
        "id": "f9c0080c",
        "outputId": "538814fd-db11-41b1-c9ff-558de237679b"
      },
      "outputs": [
        {
          "data": {
            "text/plain": [
              "LinearRegression()"
            ]
          },
          "execution_count": 92,
          "metadata": {},
          "output_type": "execute_result"
        }
      ],
      "source": [
        "from sklearn.linear_model import LinearRegression\n",
        "lr = LinearRegression()\n",
        "lr.fit(X_train_val, y_train_val)"
      ]
    },
    {
      "cell_type": "code",
      "execution_count": null,
      "id": "468b1fb2",
      "metadata": {
        "id": "468b1fb2"
      },
      "outputs": [],
      "source": [
        "from sklearn.preprocessing import MinMaxScaler\n",
        "from sklearn.preprocessing import StandardScaler\n",
        "scaled_minmax = MinMaxScaler()\n",
        "scaled_standard = StandardScaler()"
      ]
    },
    {
      "cell_type": "code",
      "execution_count": null,
      "id": "77168027",
      "metadata": {
        "id": "77168027"
      },
      "outputs": [],
      "source": [
        "scaled_minmax.fit(X_train_val)\n",
        "scaled_minmax_train = scaled_minmax.transform(X_train_val)"
      ]
    },
    {
      "cell_type": "code",
      "execution_count": null,
      "id": "b46ac3aa",
      "metadata": {
        "id": "b46ac3aa"
      },
      "outputs": [],
      "source": [
        "scaled_standard.fit(X_train_val)\n",
        "scaled_standard_train = scaled_standard.transform(X_train_val)"
      ]
    },
    {
      "cell_type": "code",
      "execution_count": null,
      "id": "9288c863",
      "metadata": {
        "id": "9288c863"
      },
      "outputs": [],
      "source": [
        "scaled_minmax_test = scaled_minmax.transform(X_test_val)\n",
        "scaled_standard_test = scaled_standard.transform(y_test_val)"
      ]
    },
    {
      "cell_type": "code",
      "execution_count": null,
      "id": "81ea4046",
      "metadata": {
        "id": "81ea4046",
        "outputId": "30805271-2e18-4ddc-fa44-b51db0ef7fc0"
      },
      "outputs": [
        {
          "data": {
            "text/plain": [
              "LinearRegression()"
            ]
          },
          "execution_count": 97,
          "metadata": {},
          "output_type": "execute_result"
        }
      ],
      "source": [
        "from sklearn.linear_model import LinearRegression\n",
        "lr = LinearRegression()\n",
        "lr.fit(X_train_val, y_train_val)"
      ]
    },
    {
      "cell_type": "code",
      "execution_count": null,
      "id": "ffbbd45d",
      "metadata": {
        "scrolled": true,
        "id": "ffbbd45d",
        "outputId": "d212e9b5-95c5-48e4-fe76-595ebe411359"
      },
      "outputs": [
        {
          "data": {
            "text/plain": [
              "-0.028971709613681895"
            ]
          },
          "execution_count": 98,
          "metadata": {},
          "output_type": "execute_result"
        }
      ],
      "source": [
        "lr.score(X_test_val, y_test_val)"
      ]
    },
    {
      "cell_type": "code",
      "execution_count": null,
      "id": "b3360479",
      "metadata": {
        "id": "b3360479"
      },
      "outputs": [],
      "source": [
        "#RMSE\n",
        "from sklearn.metrics import mean_squared_error\n",
        "a_pred = lr.predict(X_test_val)"
      ]
    },
    {
      "cell_type": "code",
      "execution_count": null,
      "id": "10baadc3",
      "metadata": {
        "id": "10baadc3"
      },
      "outputs": [],
      "source": [
        "a = mean_squared_error(y_test_val,a_pred)**0.5"
      ]
    },
    {
      "cell_type": "code",
      "execution_count": null,
      "id": "a1a08a33",
      "metadata": {
        "id": "a1a08a33",
        "outputId": "f9e84c7a-70c3-4003-a215-ec1a2782dbe7"
      },
      "outputs": [
        {
          "data": {
            "text/plain": [
              "0.4781844622257728"
            ]
          },
          "execution_count": 101,
          "metadata": {},
          "output_type": "execute_result"
        }
      ],
      "source": [
        "a"
      ]
    },
    {
      "cell_type": "markdown",
      "id": "5b8d9829",
      "metadata": {
        "id": "5b8d9829"
      },
      "source": [
        "# OLS"
      ]
    },
    {
      "cell_type": "code",
      "execution_count": null,
      "id": "e8de1917",
      "metadata": {
        "id": "e8de1917"
      },
      "outputs": [],
      "source": [
        "import statsmodels.api as sm"
      ]
    },
    {
      "cell_type": "code",
      "execution_count": null,
      "id": "a1d22024",
      "metadata": {
        "id": "a1d22024",
        "outputId": "4eaefde2-77f0-4db2-d174-89a5fdbb3344"
      },
      "outputs": [
        {
          "data": {
            "text/html": [
              "<table class=\"simpletable\">\n",
              "<caption>OLS Regression Results</caption>\n",
              "<tr>\n",
              "  <th>Dep. Variable:</th>       <td>statsTrgtNm</td>   <th>  R-squared (uncentered):</th>      <td>   0.292</td>\n",
              "</tr>\n",
              "<tr>\n",
              "  <th>Model:</th>                   <td>OLS</td>       <th>  Adj. R-squared (uncentered):</th> <td>   0.292</td>\n",
              "</tr>\n",
              "<tr>\n",
              "  <th>Method:</th>             <td>Least Squares</td>  <th>  F-statistic:       </th>          <td>   400.7</td>\n",
              "</tr>\n",
              "<tr>\n",
              "  <th>Date:</th>             <td>Tue, 14 Dec 2021</td> <th>  Prob (F-statistic):</th>          <td>6.93e-75</td>\n",
              "</tr>\n",
              "<tr>\n",
              "  <th>Time:</th>                 <td>21:09:26</td>     <th>  Log-Likelihood:    </th>          <td> -720.03</td>\n",
              "</tr>\n",
              "<tr>\n",
              "  <th>No. Observations:</th>      <td>   971</td>      <th>  AIC:               </th>          <td>   1442.</td>\n",
              "</tr>\n",
              "<tr>\n",
              "  <th>Df Residuals:</th>          <td>   970</td>      <th>  BIC:               </th>          <td>   1447.</td>\n",
              "</tr>\n",
              "<tr>\n",
              "  <th>Df Model:</th>              <td>     1</td>      <th>                     </th>              <td> </td>   \n",
              "</tr>\n",
              "<tr>\n",
              "  <th>Covariance Type:</th>      <td>nonrobust</td>    <th>                     </th>              <td> </td>   \n",
              "</tr>\n",
              "</table>\n",
              "<table class=\"simpletable\">\n",
              "<tr>\n",
              "     <td></td>        <th>coef</th>     <th>std err</th>      <th>t</th>      <th>P>|t|</th>  <th>[0.025</th>    <th>0.975]</th>  \n",
              "</tr>\n",
              "<tr>\n",
              "  <th>ptSexCd</th> <td>    0.2134</td> <td>    0.011</td> <td>   20.018</td> <td> 0.000</td> <td>    0.192</td> <td>    0.234</td>\n",
              "</tr>\n",
              "</table>\n",
              "<table class=\"simpletable\">\n",
              "<tr>\n",
              "  <th>Omnibus:</th>       <td>6034.541</td> <th>  Durbin-Watson:     </th> <td>   1.979</td>\n",
              "</tr>\n",
              "<tr>\n",
              "  <th>Prob(Omnibus):</th>  <td> 0.000</td>  <th>  Jarque-Bera (JB):  </th> <td> 141.779</td>\n",
              "</tr>\n",
              "<tr>\n",
              "  <th>Skew:</th>           <td> 0.520</td>  <th>  Prob(JB):          </th> <td>1.63e-31</td>\n",
              "</tr>\n",
              "<tr>\n",
              "  <th>Kurtosis:</th>       <td> 1.444</td>  <th>  Cond. No.          </th> <td>    1.00</td>\n",
              "</tr>\n",
              "</table><br/><br/>Notes:<br/>[1] R² is computed without centering (uncentered) since the model does not contain a constant.<br/>[2] Standard Errors assume that the covariance matrix of the errors is correctly specified."
            ],
            "text/plain": [
              "<class 'statsmodels.iolib.summary.Summary'>\n",
              "\"\"\"\n",
              "                                 OLS Regression Results                                \n",
              "=======================================================================================\n",
              "Dep. Variable:            statsTrgtNm   R-squared (uncentered):                   0.292\n",
              "Model:                            OLS   Adj. R-squared (uncentered):              0.292\n",
              "Method:                 Least Squares   F-statistic:                              400.7\n",
              "Date:                Tue, 14 Dec 2021   Prob (F-statistic):                    6.93e-75\n",
              "Time:                        21:09:26   Log-Likelihood:                         -720.03\n",
              "No. Observations:                 971   AIC:                                      1442.\n",
              "Df Residuals:                     970   BIC:                                      1447.\n",
              "Df Model:                           1                                                  \n",
              "Covariance Type:            nonrobust                                                  \n",
              "==============================================================================\n",
              "                 coef    std err          t      P>|t|      [0.025      0.975]\n",
              "------------------------------------------------------------------------------\n",
              "ptSexCd        0.2134      0.011     20.018      0.000       0.192       0.234\n",
              "==============================================================================\n",
              "Omnibus:                     6034.541   Durbin-Watson:                   1.979\n",
              "Prob(Omnibus):                  0.000   Jarque-Bera (JB):              141.779\n",
              "Skew:                           0.520   Prob(JB):                     1.63e-31\n",
              "Kurtosis:                       1.444   Cond. No.                         1.00\n",
              "==============================================================================\n",
              "\n",
              "Notes:\n",
              "[1] R² is computed without centering (uncentered) since the model does not contain a constant.\n",
              "[2] Standard Errors assume that the covariance matrix of the errors is correctly specified.\n",
              "\"\"\""
            ]
          },
          "execution_count": 110,
          "metadata": {},
          "output_type": "execute_result"
        }
      ],
      "source": [
        "model = sm.OLS(y, X)\n",
        "result = model.fit()\n",
        "result.summary()"
      ]
    },
    {
      "cell_type": "code",
      "execution_count": null,
      "id": "674494f9",
      "metadata": {
        "id": "674494f9"
      },
      "outputs": [],
      "source": [
        ""
      ]
    }
  ],
  "metadata": {
    "kernelspec": {
      "display_name": "Python 3 (ipykernel)",
      "language": "python",
      "name": "python3"
    },
    "language_info": {
      "codemirror_mode": {
        "name": "ipython",
        "version": 3
      },
      "file_extension": ".py",
      "mimetype": "text/x-python",
      "name": "python",
      "nbconvert_exporter": "python",
      "pygments_lexer": "ipython3",
      "version": "3.9.7"
    },
    "colab": {
      "name": "03-2_폐암과 당뇨병.ipynb",
      "provenance": []
    }
  },
  "nbformat": 4,
  "nbformat_minor": 5
}